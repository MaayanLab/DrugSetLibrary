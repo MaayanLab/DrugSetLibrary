{
 "cells": [
  {
   "cell_type": "markdown",
   "metadata": {},
   "source": [
    "## Drugbank Experimental Geneshot Drug-Set Library\n",
    "### Drug-set labels: Genes\n",
    "#### ALL DATABASES ACCESSED 05/01/19\n",
    "##### Author : Eryk Kropiwnicki | eryk.kropiwnicki@icahn.mssm.edu"
   ]
  },
  {
   "cell_type": "code",
   "execution_count": 2,
   "metadata": {},
   "outputs": [],
   "source": [
    "import json\n",
    "import pandas as pd\n",
    "import xml.etree.ElementTree as et\n",
    "import requests\n",
    "import time\n",
    "import pubchempy as pcp\n",
    "from collections import defaultdict\n",
    "import csv"
   ]
  },
  {
   "cell_type": "markdown",
   "metadata": {},
   "source": [
    "### QUERYING DRUGBANK EXPERIMENTAL DRUG TERMS THROUGH GENESHOT\n",
    "#### PLATFORM : https://amp.pharm.mssm.edu/geneshot\n",
    "#### OUTPUT FILES: drugbank_experimental_geneset_autorif.json"
   ]
  },
  {
   "cell_type": "code",
   "execution_count": 3,
   "metadata": {},
   "outputs": [],
   "source": [
    "experimental_drugs = []\n",
    "with open('input/drug links-3.csv') as f:\n",
    "    csvreader = csv.reader(f)\n",
    "    for row in csvreader:\n",
    "        experimental_drugs.append(row[1].lower())\n",
    "del experimental_drugs[0]"
   ]
  },
  {
   "cell_type": "code",
   "execution_count": 4,
   "metadata": {},
   "outputs": [
    {
     "data": {
      "text/plain": [
       "5764"
      ]
     },
     "execution_count": 4,
     "metadata": {},
     "output_type": "execute_result"
    }
   ],
   "source": [
    "len(experimental_drugs)"
   ]
  },
  {
   "cell_type": "code",
   "execution_count": 7,
   "metadata": {},
   "outputs": [],
   "source": [
    "# Querying each drug through geneshot(AUTORIF) #\n",
    "i = 0\n",
    "with open('input/drugbank_experimental_geneset_autorif.json','a') as outfile:\n",
    "    outfile.write(\"[\")\n",
    "    for drug in experimental_drugs:\n",
    "        try:\n",
    "            res = requests.get('https://amp.pharm.mssm.edu/geneshot/api/search/auto/' + drug)\n",
    "            experimental_geneset_autorif = res.json()\n",
    "        except ValueError:\n",
    "            pass\n",
    "        json.dump(experimental_geneset_autorif, outfile, indent = 4)\n",
    "        i += 1\n",
    "        time.sleep(1)\n",
    "        if i < (len(experimental_drugs)):\n",
    "            outfile.write(\",\")\n",
    "        else:\n",
    "            outfile.write(\"]\")\n",
    "outfile.close()"
   ]
  },
  {
   "cell_type": "markdown",
   "metadata": {},
   "source": [
    "### CREATING GENESET and DRUG-SET LIBRARIES FROM DRUG-GENE ASSOCIATIONS COLLECTED FROM GENESHOT\n",
    "#### INPUT FILE : drugbank_experimental_geneset_autorif.json\n",
    "#### OUTPUT FILE: drugbank_experimental_genesetlibrary.txt | drugbank_experimental_geneshot_drugsetlibrary.csv"
   ]
  },
  {
   "cell_type": "code",
   "execution_count": 8,
   "metadata": {},
   "outputs": [],
   "source": [
    "# Creating a dictionary where drugs are terms and genes are set members #\n",
    "genelist = {}\n",
    "\n",
    "with open ('input/drugbank_experimental_geneset_autorif.json') as data_file:\n",
    "    data = json.load(data_file)\n",
    "\n",
    "for item in data:\n",
    "    genes = (item[\"gene_count\"])\n",
    "    genes = [key for key in genes.keys()]\n",
    "    genes = genes[:51]\n",
    "    compound = (item[\"search_term\"])\n",
    "    genelist[compound] = []\n",
    "    genelist[compound].extend(genes)\n",
    "    \n",
    "genelist = {k: v for k,v in genelist.items() if v}\n",
    "\n",
    "# Converting dictionary into GMT format #\n",
    "GSL_experimental = []\n",
    "\n",
    "for term in genelist.keys():    \n",
    "    genes = genelist[term]\n",
    "    line = '{0}\\t\\t{1}'.format(term, '\\t'.join(genes))\n",
    "    GSL_experimental.append(line)\n",
    "\n",
    "GSL_experimental_out = '\\n'.join(GSL_experimental)"
   ]
  },
  {
   "cell_type": "code",
   "execution_count": 16,
   "metadata": {},
   "outputs": [],
   "source": [
    "# Exporting Drugbank Experimental Drug Geneset library as TXT file #\n",
    "dataFile = open('/Users/maayanlab/Documents/DrugSetEnrichment/GeneSetLibraries/Drugbank/Experimental/drugbank_experimental_genesetlibrary.txt', 'w')\n",
    "for eachitem in GSL_experimental_out:\n",
    "    dataFile.write(eachitem)"
   ]
  },
  {
   "cell_type": "code",
   "execution_count": 10,
   "metadata": {},
   "outputs": [],
   "source": [
    "# Transposing the 'genelist' dictionary where genes are terms and experimental drugs are set members #\n",
    "# Each value (gene) in the dictionary is a list, therefore we need to separate all list elements as their own term #\n",
    "d = defaultdict(list)\n",
    "for k,v in genelist.items():\n",
    "    for gene in v:\n",
    "        gene.split(',')\n",
    "        d[gene].append(k)\n",
    "\n",
    "drugsetlibrary = dict(d)"
   ]
  },
  {
   "cell_type": "code",
   "execution_count": 18,
   "metadata": {},
   "outputs": [],
   "source": [
    "# Converting drugsetlibrary into dataframe and exporting #\n",
    "df = pd.DataFrame.from_dict(drugsetlibrary, orient='index')\n",
    "df = df[df.columns[0:]].apply(\n",
    "    lambda x: ','.join(x.dropna().astype(str).astype(str)),\n",
    "    axis = 1\n",
    ")\n",
    "df.to_csv('/Users/maayanlab/Documents/DrugSetEnrichment/Drugsetlibraries/Drugbank/Experimental/drugbank_experimental_geneshot_drugsetlibrary.csv')"
   ]
  },
  {
   "cell_type": "code",
   "execution_count": null,
   "metadata": {},
   "outputs": [],
   "source": []
  }
 ],
 "metadata": {
  "kernelspec": {
   "display_name": "Python 3",
   "language": "python",
   "name": "python3"
  },
  "language_info": {
   "codemirror_mode": {
    "name": "ipython",
    "version": 3
   },
   "file_extension": ".py",
   "mimetype": "text/x-python",
   "name": "python",
   "nbconvert_exporter": "python",
   "pygments_lexer": "ipython3",
   "version": "3.6.5"
  }
 },
 "nbformat": 4,
 "nbformat_minor": 2
}
