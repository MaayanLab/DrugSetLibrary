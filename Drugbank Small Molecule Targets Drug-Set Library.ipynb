{
 "cells": [
  {
   "cell_type": "markdown",
   "metadata": {},
   "source": [
    "## ATC_FDA Protein Target Drug-Set Library\n",
    "### Drug-set labels: Protein targets\n",
    "#### ALL DATABASES ACCESSED 05/20/19\n",
    "##### Author : Eryk Kropiwnicki | eryk.kropiwnicki@icahn.mssm.edu"
   ]
  },
  {
   "cell_type": "code",
   "execution_count": 1,
   "metadata": {},
   "outputs": [],
   "source": [
    "import json\n",
    "import pandas as pd\n",
    "import xml.etree.ElementTree as et\n",
    "import requests\n",
    "import time\n",
    "from collections import defaultdict\n",
    "import csv\n",
    "import numpy as np"
   ]
  },
  {
   "cell_type": "markdown",
   "metadata": {},
   "source": [
    "### Matching Small Molecule Names to UniProt IDs\n",
    "#### Input File : smallmolecule_drugtargets.csv (http://www.drugbank.ca)"
   ]
  },
  {
   "cell_type": "code",
   "execution_count": 7,
   "metadata": {},
   "outputs": [],
   "source": [
    "# Import all protein names and ids matched to drugbank drugs #\n",
    "uniprot_ids = []\n",
    "drugbank_ids = []\n",
    "\n",
    "proteins = open('input/smallmolecule_drugtargets.csv')\n",
    "proteins_csv = csv.reader(proteins)\n",
    "for row in proteins_csv:\n",
    "    uniprot_ids.append(row[5])\n",
    "    drugbank_ids.append((row[-1]))\n",
    "\n",
    "del uniprot_ids[0]\n",
    "del drugbank_ids[0]"
   ]
  },
  {
   "cell_type": "code",
   "execution_count": 8,
   "metadata": {
    "scrolled": true
   },
   "outputs": [
    {
     "name": "stdout",
     "output_type": "stream",
     "text": [
      "4846\n",
      "4846\n"
     ]
    }
   ],
   "source": [
    "print(len(uniprot_ids))\n",
    "print(len(drugbank_ids))"
   ]
  },
  {
   "cell_type": "code",
   "execution_count": 9,
   "metadata": {},
   "outputs": [
    {
     "data": {
      "text/plain": [
       "4625"
      ]
     },
     "execution_count": 9,
     "metadata": {},
     "output_type": "execute_result"
    }
   ],
   "source": [
    "unique_uniprot_ids = list(set(uniprot_ids))\n",
    "len(unique_uniprot_ids)"
   ]
  },
  {
   "cell_type": "markdown",
   "metadata": {},
   "source": [
    "### Querying UniProt IDs through BioDBnet API to Retrieve Entrez Gene Symbols\n",
    "#### Resource Accessed : https://biodbnet-abcc.ncifcrf.gov/db/dbFind.php"
   ]
  },
  {
   "cell_type": "code",
   "execution_count": 11,
   "metadata": {},
   "outputs": [
    {
     "name": "stdout",
     "output_type": "stream",
     "text": [
      "190\n"
     ]
    }
   ],
   "source": [
    "# Using biodbnet API to query Uniprot IDs and convert them to Entrez Gene Symbols #\n",
    "failed_list = []\n",
    "protein_dict = {}\n",
    "\n",
    "for protein in unique_uniprot_ids:\n",
    "    try:\n",
    "        url = 'https://biodbnet-abcc.ncifcrf.gov/webServices/rest.php/biodbnetRestApi.json?method=dbfind&inputValues='+str(protein)+'&output=genesymbol&format=row'\n",
    "        response = requests.get(url)\n",
    "    except ValueError:\n",
    "        pass\n",
    "    if '-' not in response.json()[0].values():\n",
    "        gene_id = response.json()[0]['Gene Symbol']\n",
    "        protein_dict[protein] = gene_id\n",
    "    else:\n",
    "        failed_list.append(protein)\n",
    "    time.sleep(0.2)\n",
    "        \n",
    "print(len(failed_list))"
   ]
  },
  {
   "cell_type": "code",
   "execution_count": 27,
   "metadata": {},
   "outputs": [],
   "source": [
    "# Export failed list as TXT file #\n",
    "dataFile = open('input/failed_uniprotids.txt', 'w')\n",
    "for eachitem in failed_list:\n",
    "    dataFile.write(\"%s\\n\" % eachitem)\n",
    "dataFile.close()"
   ]
  },
  {
   "cell_type": "code",
   "execution_count": 12,
   "metadata": {},
   "outputs": [],
   "source": [
    "# Creating a list of all entrez gene symbols #\n",
    "entrez_symbols = []\n",
    "for k,v in protein_dict.items():\n",
    "    entrez_symbols.append(v)"
   ]
  },
  {
   "cell_type": "markdown",
   "metadata": {},
   "source": [
    "### Creating Drug-Set Library of Entrez Gene Symbols matched to sets of corresponding drugs "
   ]
  },
  {
   "cell_type": "code",
   "execution_count": 13,
   "metadata": {},
   "outputs": [],
   "source": [
    "# Importing Drugbank accession numbers and corresponding drug names #\n",
    "smallmolecule_drugbank_ids = []\n",
    "smallmolecules = []\n",
    "\n",
    "attributes = open('input/drug links-3.csv')\n",
    "attributes_csv = csv.reader(attributes)\n",
    "\n",
    "for row in attributes_csv:\n",
    "    smallmolecule_drugbank_ids.append(row[0])\n",
    "    smallmolecules.append(row[1].lower())\n",
    "\n",
    "del smallmolecule_drugbank_ids[0]\n",
    "del smallmolecules[0]"
   ]
  },
  {
   "cell_type": "code",
   "execution_count": 14,
   "metadata": {},
   "outputs": [],
   "source": [
    "# Creating a dictionary of DrugBank accession numbers to ATC_FDA drugs #\n",
    "smallmolecule_dict = dict(zip(smallmolecule_drugbank_ids, smallmolecules))"
   ]
  },
  {
   "cell_type": "code",
   "execution_count": 15,
   "metadata": {},
   "outputs": [
    {
     "data": {
      "text/plain": [
       "10254"
      ]
     },
     "execution_count": 15,
     "metadata": {},
     "output_type": "execute_result"
    }
   ],
   "source": [
    "len(smallmolecule_dict)"
   ]
  },
  {
   "cell_type": "code",
   "execution_count": 17,
   "metadata": {},
   "outputs": [],
   "source": [
    "# The input file contains duplicate protein ids matched to unique drug ids, dictionaries cannot contain duplicate keys #\n",
    "# Tupelizing protein ids and drugbank accession numbers and grouping all corresponding drugbank accession numbers under one common dictionary key #\n",
    "\n",
    "id_dict = tuple(zip(uniprot_ids, drugbank_ids))\n",
    "\n",
    "drugsetlibrary = defaultdict(list)\n",
    "for k, v in id_dict:\n",
    "    drugsetlibrary[k].append(v)"
   ]
  },
  {
   "cell_type": "code",
   "execution_count": 18,
   "metadata": {},
   "outputs": [],
   "source": [
    "# Splitting each string within each list so that each list element is unique #\n",
    "drugsetlibrary = {k : string.split(\"; \") for k,v in drugsetlibrary.items() for string in v}"
   ]
  },
  {
   "cell_type": "code",
   "execution_count": 19,
   "metadata": {},
   "outputs": [],
   "source": [
    "# Matching every Drugbank accession number with a drug name #\n",
    "drugsetlibrary = {k : [smallmolecule_dict.get(x,x) for x in v] for k,v in drugsetlibrary.items()}"
   ]
  },
  {
   "cell_type": "code",
   "execution_count": 20,
   "metadata": {},
   "outputs": [],
   "source": [
    "# Replacing every UniProt ID with an Entrez Gene Symbol #\n",
    "drugsetlibrary = {protein_dict.get(k,k): v for k,v in drugsetlibrary.items()}"
   ]
  },
  {
   "cell_type": "code",
   "execution_count": 21,
   "metadata": {},
   "outputs": [],
   "source": [
    "# Retaining only matched drug names and removing unpaired Drugbank accession numbers #\n",
    "drugsetlibrary = {i: list(set(v) & set(smallmolecules)) for i,v in drugsetlibrary.items()}"
   ]
  },
  {
   "cell_type": "code",
   "execution_count": 22,
   "metadata": {},
   "outputs": [],
   "source": [
    "# Removing Uniprot IDs not matched to an Entrez Gene Symbol #\n",
    "drugsetlibrary = {k: v for k, v in drugsetlibrary.items() if k in entrez_symbols}"
   ]
  },
  {
   "cell_type": "code",
   "execution_count": 23,
   "metadata": {},
   "outputs": [],
   "source": [
    "# Removing Entrez Gene IDs not matched to a drug-set #\n",
    "drugsetlibrary = {k: v for k,v in drugsetlibrary.items() if v}"
   ]
  },
  {
   "cell_type": "code",
   "execution_count": 24,
   "metadata": {},
   "outputs": [
    {
     "data": {
      "text/plain": [
       "4075"
      ]
     },
     "execution_count": 24,
     "metadata": {},
     "output_type": "execute_result"
    }
   ],
   "source": [
    "len(drugsetlibrary)"
   ]
  },
  {
   "cell_type": "code",
   "execution_count": 26,
   "metadata": {},
   "outputs": [],
   "source": [
    "df = pd.DataFrame.from_dict(drugsetlibrary, orient = 'index')\n",
    "df = df[df.columns[0:]].apply(\n",
    "    lambda x: ','.join(x.dropna().astype(str).astype(str)),\n",
    "    axis = 1\n",
    ")\n",
    "df.to_csv('/Users/maayanlab/Documents/DrugSetEnrichment/Drugsetlibraries/Drugbank/Small molecules/drugbank_smallmolecule_target_drugsetlibrary.csv')"
   ]
  },
  {
   "cell_type": "code",
   "execution_count": null,
   "metadata": {},
   "outputs": [],
   "source": []
  }
 ],
 "metadata": {
  "kernelspec": {
   "display_name": "Python 3",
   "language": "python",
   "name": "python3"
  },
  "language_info": {
   "codemirror_mode": {
    "name": "ipython",
    "version": 3
   },
   "file_extension": ".py",
   "mimetype": "text/x-python",
   "name": "python",
   "nbconvert_exporter": "python",
   "pygments_lexer": "ipython3",
   "version": "3.6.5"
  }
 },
 "nbformat": 4,
 "nbformat_minor": 2
}
