{
 "cells": [
  {
   "cell_type": "markdown",
   "metadata": {},
   "source": [
    "## Import Libraries"
   ]
  },
  {
   "cell_type": "code",
   "execution_count": 60,
   "metadata": {},
   "outputs": [],
   "source": [
    "import numpy as np\n",
    "import pandas as pd\n",
    "from scipy.spatial.distance import squareform, pdist,jaccard\n",
    "import sys,  datetime, os\n",
    "import requests\n",
    "import chardet"
   ]
  },
  {
   "cell_type": "markdown",
   "metadata": {},
   "source": [
    "## Load Data"
   ]
  },
  {
   "cell_type": "markdown",
   "metadata": {},
   "source": [
    "#### Load ChEMBL Data"
   ]
  },
  {
   "cell_type": "code",
   "execution_count": 136,
   "metadata": {},
   "outputs": [],
   "source": [
    "df_raw = pd.read_csv('Input/chembl_24.0_moa.csv')"
   ]
  },
  {
   "cell_type": "code",
   "execution_count": 137,
   "metadata": {},
   "outputs": [
    {
     "data": {
      "text/html": [
       "<div>\n",
       "<style scoped>\n",
       "    .dataframe tbody tr th:only-of-type {\n",
       "        vertical-align: middle;\n",
       "    }\n",
       "\n",
       "    .dataframe tbody tr th {\n",
       "        vertical-align: top;\n",
       "    }\n",
       "\n",
       "    .dataframe thead th {\n",
       "        text-align: right;\n",
       "    }\n",
       "</style>\n",
       "<table border=\"1\" class=\"dataframe\">\n",
       "  <thead>\n",
       "    <tr style=\"text-align: right;\">\n",
       "      <th></th>\n",
       "      <th>1</th>\n",
       "      <th>2</th>\n",
       "      <th>3</th>\n",
       "      <th>4</th>\n",
       "      <th>5</th>\n",
       "      <th>6</th>\n",
       "      <th>7</th>\n",
       "      <th>8</th>\n",
       "      <th>9</th>\n",
       "      <th>0</th>\n",
       "    </tr>\n",
       "  </thead>\n",
       "  <tbody>\n",
       "    <tr>\n",
       "      <th>0</th>\n",
       "      <td>chembl_moa:CHEMBL_MEC_1664 a cco:Mechanism ;</td>\n",
       "      <td>NaN</td>\n",
       "      <td>NaN</td>\n",
       "      <td>NaN</td>\n",
       "      <td>NaN</td>\n",
       "      <td>NaN</td>\n",
       "      <td>NaN</td>\n",
       "      <td>NaN</td>\n",
       "      <td>NaN</td>\n",
       "      <td>NaN</td>\n",
       "    </tr>\n",
       "    <tr>\n",
       "      <th>1</th>\n",
       "      <td>\\trdfs:label \"CHEMBL_MEC_1664\" ;</td>\n",
       "      <td>NaN</td>\n",
       "      <td>NaN</td>\n",
       "      <td>NaN</td>\n",
       "      <td>NaN</td>\n",
       "      <td>NaN</td>\n",
       "      <td>NaN</td>\n",
       "      <td>NaN</td>\n",
       "      <td>NaN</td>\n",
       "      <td>NaN</td>\n",
       "    </tr>\n",
       "    <tr>\n",
       "      <th>2</th>\n",
       "      <td>\\tcco:chemblId \"CHEMBL_MEC_1664\" ;</td>\n",
       "      <td>NaN</td>\n",
       "      <td>NaN</td>\n",
       "      <td>NaN</td>\n",
       "      <td>NaN</td>\n",
       "      <td>NaN</td>\n",
       "      <td>NaN</td>\n",
       "      <td>NaN</td>\n",
       "      <td>NaN</td>\n",
       "      <td>NaN</td>\n",
       "    </tr>\n",
       "    <tr>\n",
       "      <th>3</th>\n",
       "      <td>\\tcco:hasMolecule chembl_molecule:CHEMBL22 .</td>\n",
       "      <td>NaN</td>\n",
       "      <td>NaN</td>\n",
       "      <td>NaN</td>\n",
       "      <td>NaN</td>\n",
       "      <td>NaN</td>\n",
       "      <td>NaN</td>\n",
       "      <td>NaN</td>\n",
       "      <td>NaN</td>\n",
       "      <td>NaN</td>\n",
       "    </tr>\n",
       "    <tr>\n",
       "      <th>4</th>\n",
       "      <td>chembl_molecule:CHEMBL22 cco:hasMechanism chem...</td>\n",
       "      <td>NaN</td>\n",
       "      <td>NaN</td>\n",
       "      <td>NaN</td>\n",
       "      <td>NaN</td>\n",
       "      <td>NaN</td>\n",
       "      <td>NaN</td>\n",
       "      <td>NaN</td>\n",
       "      <td>NaN</td>\n",
       "      <td>NaN</td>\n",
       "    </tr>\n",
       "    <tr>\n",
       "      <th>5</th>\n",
       "      <td>chembl_moa:CHEMBL_MEC_1664 cco:hasTarget chemb...</td>\n",
       "      <td>NaN</td>\n",
       "      <td>NaN</td>\n",
       "      <td>NaN</td>\n",
       "      <td>NaN</td>\n",
       "      <td>NaN</td>\n",
       "      <td>NaN</td>\n",
       "      <td>NaN</td>\n",
       "      <td>NaN</td>\n",
       "      <td>NaN</td>\n",
       "    </tr>\n",
       "    <tr>\n",
       "      <th>6</th>\n",
       "      <td>chembl_target:CHEMBL2364669 cco:isTargetForMec...</td>\n",
       "      <td>NaN</td>\n",
       "      <td>NaN</td>\n",
       "      <td>NaN</td>\n",
       "      <td>NaN</td>\n",
       "      <td>NaN</td>\n",
       "      <td>NaN</td>\n",
       "      <td>NaN</td>\n",
       "      <td>NaN</td>\n",
       "      <td>NaN</td>\n",
       "    </tr>\n",
       "    <tr>\n",
       "      <th>7</th>\n",
       "      <td>chembl_moa:CHEMBL_MEC_1664 cco:mechanismDescri...</td>\n",
       "      <td>NaN</td>\n",
       "      <td>NaN</td>\n",
       "      <td>NaN</td>\n",
       "      <td>NaN</td>\n",
       "      <td>NaN</td>\n",
       "      <td>NaN</td>\n",
       "      <td>NaN</td>\n",
       "      <td>NaN</td>\n",
       "      <td>NaN</td>\n",
       "    </tr>\n",
       "    <tr>\n",
       "      <th>8</th>\n",
       "      <td>\\tcco:mechanismActionType \"INHIBITOR\" .</td>\n",
       "      <td>NaN</td>\n",
       "      <td>NaN</td>\n",
       "      <td>NaN</td>\n",
       "      <td>NaN</td>\n",
       "      <td>NaN</td>\n",
       "      <td>NaN</td>\n",
       "      <td>NaN</td>\n",
       "      <td>NaN</td>\n",
       "      <td>NaN</td>\n",
       "    </tr>\n",
       "    <tr>\n",
       "      <th>9</th>\n",
       "      <td>chembl_moa:CHEMBL_MEC_340 a cco:Mechanism ;</td>\n",
       "      <td>NaN</td>\n",
       "      <td>NaN</td>\n",
       "      <td>NaN</td>\n",
       "      <td>NaN</td>\n",
       "      <td>NaN</td>\n",
       "      <td>NaN</td>\n",
       "      <td>NaN</td>\n",
       "      <td>NaN</td>\n",
       "      <td>NaN</td>\n",
       "    </tr>\n",
       "  </tbody>\n",
       "</table>\n",
       "</div>"
      ],
      "text/plain": [
       "                                                   1    2    3    4   5   6  \\\n",
       "0       chembl_moa:CHEMBL_MEC_1664 a cco:Mechanism ;  NaN  NaN  NaN NaN NaN   \n",
       "1                   \\trdfs:label \"CHEMBL_MEC_1664\" ;  NaN  NaN  NaN NaN NaN   \n",
       "2                 \\tcco:chemblId \"CHEMBL_MEC_1664\" ;  NaN  NaN  NaN NaN NaN   \n",
       "3       \\tcco:hasMolecule chembl_molecule:CHEMBL22 .  NaN  NaN  NaN NaN NaN   \n",
       "4  chembl_molecule:CHEMBL22 cco:hasMechanism chem...  NaN  NaN  NaN NaN NaN   \n",
       "5  chembl_moa:CHEMBL_MEC_1664 cco:hasTarget chemb...  NaN  NaN  NaN NaN NaN   \n",
       "6  chembl_target:CHEMBL2364669 cco:isTargetForMec...  NaN  NaN  NaN NaN NaN   \n",
       "7  chembl_moa:CHEMBL_MEC_1664 cco:mechanismDescri...  NaN  NaN  NaN NaN NaN   \n",
       "8            \\tcco:mechanismActionType \"INHIBITOR\" .  NaN  NaN  NaN NaN NaN   \n",
       "9        chembl_moa:CHEMBL_MEC_340 a cco:Mechanism ;  NaN  NaN  NaN NaN NaN   \n",
       "\n",
       "    7   8   9   0  \n",
       "0 NaN NaN NaN NaN  \n",
       "1 NaN NaN NaN NaN  \n",
       "2 NaN NaN NaN NaN  \n",
       "3 NaN NaN NaN NaN  \n",
       "4 NaN NaN NaN NaN  \n",
       "5 NaN NaN NaN NaN  \n",
       "6 NaN NaN NaN NaN  \n",
       "7 NaN NaN NaN NaN  \n",
       "8 NaN NaN NaN NaN  \n",
       "9 NaN NaN NaN NaN  "
      ]
     },
     "execution_count": 137,
     "metadata": {},
     "output_type": "execute_result"
    }
   ],
   "source": [
    "df_raw.head(10)"
   ]
  },
  {
   "cell_type": "code",
   "execution_count": 138,
   "metadata": {},
   "outputs": [
    {
     "data": {
      "text/plain": [
       "(44595, 10)"
      ]
     },
     "execution_count": 138,
     "metadata": {},
     "output_type": "execute_result"
    }
   ],
   "source": [
    "df_raw.shape"
   ]
  },
  {
   "cell_type": "markdown",
   "metadata": {},
   "source": [
    "#### Load LINCS Approved Small Molecules"
   ]
  },
  {
   "cell_type": "code",
   "execution_count": 139,
   "metadata": {},
   "outputs": [],
   "source": [
    "lincs = pd.read_csv('Input/LINCS_SmallMolecules.csv', encoding = 'ISO-8859-1')"
   ]
  },
  {
   "cell_type": "markdown",
   "metadata": {},
   "source": [
    "## Make Data useable"
   ]
  },
  {
   "cell_type": "code",
   "execution_count": 140,
   "metadata": {},
   "outputs": [
    {
     "data": {
      "text/plain": [
       "str"
      ]
     },
     "execution_count": 140,
     "metadata": {},
     "output_type": "execute_result"
    }
   ],
   "source": [
    "type(df_raw['1'][102])"
   ]
  },
  {
   "cell_type": "code",
   "execution_count": 141,
   "metadata": {},
   "outputs": [],
   "source": [
    "df_edit1 = df_raw[df_raw['1'].str.contains(\"\\t\")]"
   ]
  },
  {
   "cell_type": "code",
   "execution_count": 142,
   "metadata": {},
   "outputs": [
    {
     "data": {
      "text/html": [
       "<div>\n",
       "<style scoped>\n",
       "    .dataframe tbody tr th:only-of-type {\n",
       "        vertical-align: middle;\n",
       "    }\n",
       "\n",
       "    .dataframe tbody tr th {\n",
       "        vertical-align: top;\n",
       "    }\n",
       "\n",
       "    .dataframe thead th {\n",
       "        text-align: right;\n",
       "    }\n",
       "</style>\n",
       "<table border=\"1\" class=\"dataframe\">\n",
       "  <thead>\n",
       "    <tr style=\"text-align: right;\">\n",
       "      <th></th>\n",
       "      <th>1</th>\n",
       "      <th>2</th>\n",
       "      <th>3</th>\n",
       "      <th>4</th>\n",
       "      <th>5</th>\n",
       "      <th>6</th>\n",
       "      <th>7</th>\n",
       "      <th>8</th>\n",
       "      <th>9</th>\n",
       "      <th>0</th>\n",
       "    </tr>\n",
       "  </thead>\n",
       "  <tbody>\n",
       "    <tr>\n",
       "      <th>1</th>\n",
       "      <td>\\trdfs:label \"CHEMBL_MEC_1664\" ;</td>\n",
       "      <td>NaN</td>\n",
       "      <td>NaN</td>\n",
       "      <td>NaN</td>\n",
       "      <td>NaN</td>\n",
       "      <td>NaN</td>\n",
       "      <td>NaN</td>\n",
       "      <td>NaN</td>\n",
       "      <td>NaN</td>\n",
       "      <td>NaN</td>\n",
       "    </tr>\n",
       "    <tr>\n",
       "      <th>2</th>\n",
       "      <td>\\tcco:chemblId \"CHEMBL_MEC_1664\" ;</td>\n",
       "      <td>NaN</td>\n",
       "      <td>NaN</td>\n",
       "      <td>NaN</td>\n",
       "      <td>NaN</td>\n",
       "      <td>NaN</td>\n",
       "      <td>NaN</td>\n",
       "      <td>NaN</td>\n",
       "      <td>NaN</td>\n",
       "      <td>NaN</td>\n",
       "    </tr>\n",
       "    <tr>\n",
       "      <th>3</th>\n",
       "      <td>\\tcco:hasMolecule chembl_molecule:CHEMBL22 .</td>\n",
       "      <td>NaN</td>\n",
       "      <td>NaN</td>\n",
       "      <td>NaN</td>\n",
       "      <td>NaN</td>\n",
       "      <td>NaN</td>\n",
       "      <td>NaN</td>\n",
       "      <td>NaN</td>\n",
       "      <td>NaN</td>\n",
       "      <td>NaN</td>\n",
       "    </tr>\n",
       "    <tr>\n",
       "      <th>8</th>\n",
       "      <td>\\tcco:mechanismActionType \"INHIBITOR\" .</td>\n",
       "      <td>NaN</td>\n",
       "      <td>NaN</td>\n",
       "      <td>NaN</td>\n",
       "      <td>NaN</td>\n",
       "      <td>NaN</td>\n",
       "      <td>NaN</td>\n",
       "      <td>NaN</td>\n",
       "      <td>NaN</td>\n",
       "      <td>NaN</td>\n",
       "    </tr>\n",
       "    <tr>\n",
       "      <th>10</th>\n",
       "      <td>\\trdfs:label \"CHEMBL_MEC_340\" ;</td>\n",
       "      <td>NaN</td>\n",
       "      <td>NaN</td>\n",
       "      <td>NaN</td>\n",
       "      <td>NaN</td>\n",
       "      <td>NaN</td>\n",
       "      <td>NaN</td>\n",
       "      <td>NaN</td>\n",
       "      <td>NaN</td>\n",
       "      <td>NaN</td>\n",
       "    </tr>\n",
       "  </tbody>\n",
       "</table>\n",
       "</div>"
      ],
      "text/plain": [
       "                                               1    2    3    4   5   6   7  \\\n",
       "1               \\trdfs:label \"CHEMBL_MEC_1664\" ;  NaN  NaN  NaN NaN NaN NaN   \n",
       "2             \\tcco:chemblId \"CHEMBL_MEC_1664\" ;  NaN  NaN  NaN NaN NaN NaN   \n",
       "3   \\tcco:hasMolecule chembl_molecule:CHEMBL22 .  NaN  NaN  NaN NaN NaN NaN   \n",
       "8        \\tcco:mechanismActionType \"INHIBITOR\" .  NaN  NaN  NaN NaN NaN NaN   \n",
       "10               \\trdfs:label \"CHEMBL_MEC_340\" ;  NaN  NaN  NaN NaN NaN NaN   \n",
       "\n",
       "     8   9   0  \n",
       "1  NaN NaN NaN  \n",
       "2  NaN NaN NaN  \n",
       "3  NaN NaN NaN  \n",
       "8  NaN NaN NaN  \n",
       "10 NaN NaN NaN  "
      ]
     },
     "execution_count": 142,
     "metadata": {},
     "output_type": "execute_result"
    }
   ],
   "source": [
    "df_edit1.head()"
   ]
  },
  {
   "cell_type": "code",
   "execution_count": 143,
   "metadata": {},
   "outputs": [
    {
     "data": {
      "text/plain": [
       "(4992,)"
      ]
     },
     "execution_count": 143,
     "metadata": {},
     "output_type": "execute_result"
    }
   ],
   "source": [
    "df_label = df_edit1[df_edit1['1'].str.contains('dfs:label')]['1']\n",
    "df_label.shape"
   ]
  },
  {
   "cell_type": "code",
   "execution_count": 144,
   "metadata": {},
   "outputs": [],
   "source": [
    "df_label = df_label.apply(lambda L:L.strip('\\trdfs:label \"CHEMBL_MEC_'))"
   ]
  },
  {
   "cell_type": "code",
   "execution_count": 145,
   "metadata": {},
   "outputs": [],
   "source": [
    "df_label = df_label.apply(lambda L:L.strip(';'))"
   ]
  },
  {
   "cell_type": "code",
   "execution_count": 146,
   "metadata": {},
   "outputs": [],
   "source": [
    "df_label = df_label.apply(lambda L:L.replace('\"',''))\n",
    "df_label = df_label.apply(lambda L:L.replace(' ',''))"
   ]
  },
  {
   "cell_type": "code",
   "execution_count": 147,
   "metadata": {},
   "outputs": [
    {
     "data": {
      "text/plain": [
       "1     1664\n",
       "10     340\n",
       "19    1905\n",
       "28    4555\n",
       "37     902\n",
       "Name: 1, dtype: object"
      ]
     },
     "execution_count": 147,
     "metadata": {},
     "output_type": "execute_result"
    }
   ],
   "source": [
    "df_label.head()"
   ]
  },
  {
   "cell_type": "code",
   "execution_count": 148,
   "metadata": {},
   "outputs": [
    {
     "data": {
      "text/plain": [
       "(4992,)"
      ]
     },
     "execution_count": 148,
     "metadata": {},
     "output_type": "execute_result"
    }
   ],
   "source": [
    "df_chemblid = df_edit1[df_edit1['1'].str.contains('cco:chemblId')]['1']\n",
    "df_chemblid.shape"
   ]
  },
  {
   "cell_type": "code",
   "execution_count": 149,
   "metadata": {},
   "outputs": [],
   "source": [
    "df_chemblid = df_chemblid.apply(lambda L:L.strip('\\tcco:chemblId \"CHEMBL_MEC_'))\n",
    "df_chemblid = df_chemblid.apply(lambda L:L.strip('.'))\n",
    "df_chemblid = df_chemblid.apply(lambda L:L.replace('\"',''))"
   ]
  },
  {
   "cell_type": "code",
   "execution_count": 150,
   "metadata": {},
   "outputs": [
    {
     "data": {
      "text/plain": [
       "2     1664 ;\n",
       "11     340 ;\n",
       "20    1905 ;\n",
       "29    4555 ;\n",
       "38     902 ;\n",
       "Name: 1, dtype: object"
      ]
     },
     "execution_count": 150,
     "metadata": {},
     "output_type": "execute_result"
    }
   ],
   "source": [
    "df_chemblid.head()"
   ]
  },
  {
   "cell_type": "code",
   "execution_count": 151,
   "metadata": {},
   "outputs": [
    {
     "data": {
      "text/plain": [
       "(4992,)"
      ]
     },
     "execution_count": 151,
     "metadata": {},
     "output_type": "execute_result"
    }
   ],
   "source": [
    "df_molecule = df_edit1[df_edit1['1'].str.contains('cco:hasMolecule chembl_molecule')]['1']\n",
    "df_molecule.shape"
   ]
  },
  {
   "cell_type": "code",
   "execution_count": 152,
   "metadata": {},
   "outputs": [],
   "source": [
    "df_molecule = df_molecule.apply(lambda L:L.strip('\\tcco:hasMolecule chembl_molecule:'))\n",
    "df_molecule = df_molecule.apply(lambda L:L.strip(' .'))\n",
    "df_molecule = df_molecule.apply(lambda L:L.replace('\"',''))"
   ]
  },
  {
   "cell_type": "code",
   "execution_count": 153,
   "metadata": {},
   "outputs": [
    {
     "data": {
      "text/plain": [
       "3       CHEMBL22\n",
       "12      CHEMBL35\n",
       "21       CHEMBL5\n",
       "30    CHEMBL6318\n",
       "39     CHEMBL405\n",
       "Name: 1, dtype: object"
      ]
     },
     "execution_count": 153,
     "metadata": {},
     "output_type": "execute_result"
    }
   ],
   "source": [
    "df_molecule.head()"
   ]
  },
  {
   "cell_type": "code",
   "execution_count": 154,
   "metadata": {},
   "outputs": [
    {
     "data": {
      "text/plain": [
       "(4769, 10)"
      ]
     },
     "execution_count": 154,
     "metadata": {},
     "output_type": "execute_result"
    }
   ],
   "source": [
    "df_mechtype = df_edit1[df_edit1['1'].str.contains('cco:mechanismActionType')]\n",
    "df_mechtype.shape"
   ]
  },
  {
   "cell_type": "code",
   "execution_count": 155,
   "metadata": {},
   "outputs": [],
   "source": [
    "df = pd.DataFrame({'Label':df_label})"
   ]
  },
  {
   "cell_type": "code",
   "execution_count": 156,
   "metadata": {},
   "outputs": [],
   "source": [
    "df.loc[:,'ChEMBL ID'] = pd.Series(np.array(df_chemblid), index=df.index)"
   ]
  },
  {
   "cell_type": "code",
   "execution_count": 157,
   "metadata": {},
   "outputs": [],
   "source": [
    "df.loc[:,'Molecule ID'] = pd.Series(np.array(df_molecule), index=df.index)"
   ]
  },
  {
   "cell_type": "code",
   "execution_count": 158,
   "metadata": {},
   "outputs": [
    {
     "data": {
      "text/html": [
       "<div>\n",
       "<style scoped>\n",
       "    .dataframe tbody tr th:only-of-type {\n",
       "        vertical-align: middle;\n",
       "    }\n",
       "\n",
       "    .dataframe tbody tr th {\n",
       "        vertical-align: top;\n",
       "    }\n",
       "\n",
       "    .dataframe thead th {\n",
       "        text-align: right;\n",
       "    }\n",
       "</style>\n",
       "<table border=\"1\" class=\"dataframe\">\n",
       "  <thead>\n",
       "    <tr style=\"text-align: right;\">\n",
       "      <th></th>\n",
       "      <th>Label</th>\n",
       "      <th>ChEMBL ID</th>\n",
       "      <th>Molecule ID</th>\n",
       "    </tr>\n",
       "  </thead>\n",
       "  <tbody>\n",
       "    <tr>\n",
       "      <th>1</th>\n",
       "      <td>1664</td>\n",
       "      <td>1664 ;</td>\n",
       "      <td>CHEMBL22</td>\n",
       "    </tr>\n",
       "    <tr>\n",
       "      <th>10</th>\n",
       "      <td>340</td>\n",
       "      <td>340 ;</td>\n",
       "      <td>CHEMBL35</td>\n",
       "    </tr>\n",
       "    <tr>\n",
       "      <th>19</th>\n",
       "      <td>1905</td>\n",
       "      <td>1905 ;</td>\n",
       "      <td>CHEMBL5</td>\n",
       "    </tr>\n",
       "    <tr>\n",
       "      <th>28</th>\n",
       "      <td>4555</td>\n",
       "      <td>4555 ;</td>\n",
       "      <td>CHEMBL6318</td>\n",
       "    </tr>\n",
       "    <tr>\n",
       "      <th>37</th>\n",
       "      <td>902</td>\n",
       "      <td>902 ;</td>\n",
       "      <td>CHEMBL405</td>\n",
       "    </tr>\n",
       "  </tbody>\n",
       "</table>\n",
       "</div>"
      ],
      "text/plain": [
       "   Label ChEMBL ID Molecule ID\n",
       "1   1664    1664 ;    CHEMBL22\n",
       "10   340     340 ;    CHEMBL35\n",
       "19  1905    1905 ;     CHEMBL5\n",
       "28  4555    4555 ;  CHEMBL6318\n",
       "37   902     902 ;   CHEMBL405"
      ]
     },
     "execution_count": 158,
     "metadata": {},
     "output_type": "execute_result"
    }
   ],
   "source": [
    "df.head()"
   ]
  },
  {
   "cell_type": "code",
   "execution_count": 159,
   "metadata": {},
   "outputs": [
    {
     "data": {
      "text/plain": [
       "(4992, 3)"
      ]
     },
     "execution_count": 159,
     "metadata": {},
     "output_type": "execute_result"
    }
   ],
   "source": [
    "df.shape"
   ]
  },
  {
   "cell_type": "markdown",
   "metadata": {},
   "source": [
    "## Get MOA from Label"
   ]
  },
  {
   "cell_type": "code",
   "execution_count": 160,
   "metadata": {},
   "outputs": [],
   "source": [
    "# len(df['Molecule ID'].unique())"
   ]
  },
  {
   "cell_type": "code",
   "execution_count": 161,
   "metadata": {},
   "outputs": [],
   "source": [
    "# df_moa = df_raw[df_raw['1'].str.contains(\"cco:mechanismDescription\")]['1']"
   ]
  },
  {
   "cell_type": "code",
   "execution_count": 162,
   "metadata": {},
   "outputs": [],
   "source": [
    "# df_moa.head()"
   ]
  },
  {
   "cell_type": "code",
   "execution_count": 163,
   "metadata": {},
   "outputs": [],
   "source": [
    "# df_moa = df_moa.apply(lambda L:L.strip('chembl_moa:CHEMBL_MEC_1658 cco:mechanismDescription \"'))\n",
    "# df_moa = df_moa.apply(lambda L:L.strip(';'))\n",
    "# df_moa = df_moa.apply(lambda L:L.replace('\"',''))"
   ]
  },
  {
   "cell_type": "code",
   "execution_count": 164,
   "metadata": {},
   "outputs": [
    {
     "data": {
      "text/plain": [
       "(4992,)"
      ]
     },
     "execution_count": 164,
     "metadata": {},
     "output_type": "execute_result"
    }
   ],
   "source": [
    "label_df = df['Label']\n",
    "label_df = label_df.drop_duplicates()\n",
    "label_df.shape"
   ]
  },
  {
   "cell_type": "code",
   "execution_count": 31,
   "metadata": {
    "scrolled": true
   },
   "outputs": [
    {
     "name": "stdout",
     "output_type": "stream",
     "text": [
      "99\n",
      "199\n",
      "299\n",
      "399\n",
      "499\n",
      "599\n",
      "699\n",
      "799\n",
      "899\n",
      "999\n",
      "1099\n",
      "1199\n",
      "1299\n",
      "1399\n",
      "1499\n",
      "1599\n",
      "1699\n",
      "1799\n",
      "1899\n",
      "1999\n",
      "2099\n",
      "2199\n",
      "2299\n",
      "2399\n",
      "2499\n",
      "2599\n",
      "2699\n",
      "2799\n",
      "2899\n",
      "2999\n",
      "3099\n",
      "3199\n",
      "3299\n",
      "3399\n",
      "3499\n",
      "3599\n",
      "3699\n",
      "3799\n",
      "3899\n",
      "3999\n",
      "4099\n",
      "4199\n",
      "4299\n",
      "4399\n",
      "4499\n",
      "4599\n",
      "4699\n",
      "4799\n",
      "4899\n",
      "0\n",
      "4992\n",
      "4992\n"
     ]
    }
   ],
   "source": [
    "label_list = label_df.tolist()\n",
    "failed_to_get_name = 0\n",
    "moa_dict = {}\n",
    "# count = 0\n",
    "\n",
    "for label in label_list:\n",
    "#     count += 1\n",
    "    url = 'https://www.ebi.ac.uk/chembl/api/data/mechanism/' + label + '.json'\n",
    "    response = requests.get(url)\n",
    "    try:\n",
    "        response.json()\n",
    "    except ValueError:\n",
    "        continue\n",
    "    if \"mechanism_of_action\" in response.json().keys():\n",
    "        moa = response.json()[\"mechanism_of_action\"]\n",
    "        moa_dict[label] = moa\n",
    "    else:\n",
    "        failed_to_get_name +=1\n",
    "    \n",
    "    if len(moa_dict) % 100 == 0:\n",
    "        print(label_list.index(label))\n",
    "#     if count > 10:\n",
    "#         break\n",
    "print(failed_to_get_name)\n",
    "print(len(moa_dict))\n",
    "print(len(label_list))"
   ]
  },
  {
   "cell_type": "code",
   "execution_count": 199,
   "metadata": {},
   "outputs": [
    {
     "data": {
      "text/plain": [
       "'https://www.ebi.ac.uk/chembl/api/data/mechanism/1987.json'"
      ]
     },
     "execution_count": 199,
     "metadata": {},
     "output_type": "execute_result"
    }
   ],
   "source": [
    "# url"
   ]
  },
  {
   "cell_type": "code",
   "execution_count": 200,
   "metadata": {},
   "outputs": [
    {
     "data": {
      "text/plain": [
       "{'1664': 'Bacterial dihydrofolate reductase inhibitor',\n",
       " '340': 'Sodium-(potassium)-chloride cotransporter 2 inhibitor',\n",
       " '1905': 'Bacterial DNA gyrase inhibitor',\n",
       " '4555': 'Estrogen receptor modulator',\n",
       " '902': 'Norepinephrine transporter releasing agent',\n",
       " '687': 'Dopamine transporter releasing agent',\n",
       " '1588': 'GABA-A receptor; anion channel allosteric antagonist',\n",
       " '1222': 'Soluble guanylate cyclase activator',\n",
       " '41': 'Muscarinic acetylcholine receptor M3 agonist',\n",
       " '1320': 'Androgen Receptor antagonist',\n",
       " '1987': 'Sodium channel alpha subunit blocker'}"
      ]
     },
     "execution_count": 200,
     "metadata": {},
     "output_type": "execute_result"
    }
   ],
   "source": [
    "# moa_dict"
   ]
  },
  {
   "cell_type": "code",
   "execution_count": 150,
   "metadata": {
    "scrolled": true
   },
   "outputs": [
    {
     "data": {
      "text/plain": [
       "'606 '"
      ]
     },
     "execution_count": 150,
     "metadata": {},
     "output_type": "execute_result"
    }
   ],
   "source": [
    "# label"
   ]
  },
  {
   "cell_type": "code",
   "execution_count": 165,
   "metadata": {},
   "outputs": [],
   "source": [
    "MOAs = []\n",
    "for index, row in df.iterrows():\n",
    "    label = row.loc['Label']\n",
    "    if label not in moa_dict:\n",
    "        df.drop(index, inplace = True)\n",
    "    else: \n",
    "        MOAs.append(moa_dict[label])\n",
    "\n",
    "df.loc[:,'MOAs'] = pd.Series(np.array(MOAs), index=df.index)"
   ]
  },
  {
   "cell_type": "code",
   "execution_count": 166,
   "metadata": {},
   "outputs": [
    {
     "data": {
      "text/html": [
       "<div>\n",
       "<style scoped>\n",
       "    .dataframe tbody tr th:only-of-type {\n",
       "        vertical-align: middle;\n",
       "    }\n",
       "\n",
       "    .dataframe tbody tr th {\n",
       "        vertical-align: top;\n",
       "    }\n",
       "\n",
       "    .dataframe thead th {\n",
       "        text-align: right;\n",
       "    }\n",
       "</style>\n",
       "<table border=\"1\" class=\"dataframe\">\n",
       "  <thead>\n",
       "    <tr style=\"text-align: right;\">\n",
       "      <th></th>\n",
       "      <th>Label</th>\n",
       "      <th>ChEMBL ID</th>\n",
       "      <th>Molecule ID</th>\n",
       "      <th>MOAs</th>\n",
       "    </tr>\n",
       "  </thead>\n",
       "  <tbody>\n",
       "    <tr>\n",
       "      <th>1</th>\n",
       "      <td>1664</td>\n",
       "      <td>1664 ;</td>\n",
       "      <td>CHEMBL22</td>\n",
       "      <td>Bacterial dihydrofolate reductase inhibitor</td>\n",
       "    </tr>\n",
       "    <tr>\n",
       "      <th>10</th>\n",
       "      <td>340</td>\n",
       "      <td>340 ;</td>\n",
       "      <td>CHEMBL35</td>\n",
       "      <td>Sodium-(potassium)-chloride cotransporter 2 in...</td>\n",
       "    </tr>\n",
       "    <tr>\n",
       "      <th>19</th>\n",
       "      <td>1905</td>\n",
       "      <td>1905 ;</td>\n",
       "      <td>CHEMBL5</td>\n",
       "      <td>Bacterial DNA gyrase inhibitor</td>\n",
       "    </tr>\n",
       "    <tr>\n",
       "      <th>28</th>\n",
       "      <td>4555</td>\n",
       "      <td>4555 ;</td>\n",
       "      <td>CHEMBL6318</td>\n",
       "      <td>Estrogen receptor modulator</td>\n",
       "    </tr>\n",
       "    <tr>\n",
       "      <th>37</th>\n",
       "      <td>902</td>\n",
       "      <td>902 ;</td>\n",
       "      <td>CHEMBL405</td>\n",
       "      <td>Norepinephrine transporter releasing agent</td>\n",
       "    </tr>\n",
       "    <tr>\n",
       "      <th>46</th>\n",
       "      <td>687</td>\n",
       "      <td>687 ;</td>\n",
       "      <td>CHEMBL405</td>\n",
       "      <td>Dopamine transporter releasing agent</td>\n",
       "    </tr>\n",
       "    <tr>\n",
       "      <th>55</th>\n",
       "      <td>1588</td>\n",
       "      <td>1588 ;</td>\n",
       "      <td>CHEMBL407</td>\n",
       "      <td>GABA-A receptor; anion channel allosteric anta...</td>\n",
       "    </tr>\n",
       "    <tr>\n",
       "      <th>66</th>\n",
       "      <td>1222</td>\n",
       "      <td>1222 ;</td>\n",
       "      <td>CHEMBL6622</td>\n",
       "      <td>Soluble guanylate cyclase activator</td>\n",
       "    </tr>\n",
       "    <tr>\n",
       "      <th>77</th>\n",
       "      <td>41</td>\n",
       "      <td>41 ;</td>\n",
       "      <td>CHEMBL14</td>\n",
       "      <td>Muscarinic acetylcholine receptor M3 agonist</td>\n",
       "    </tr>\n",
       "    <tr>\n",
       "      <th>86</th>\n",
       "      <td>1320</td>\n",
       "      <td>1320 ;</td>\n",
       "      <td>CHEMBL409</td>\n",
       "      <td>Androgen Receptor antagonist</td>\n",
       "    </tr>\n",
       "    <tr>\n",
       "      <th>95</th>\n",
       "      <td>1987</td>\n",
       "      <td>1987 ;</td>\n",
       "      <td>CHEMBL16</td>\n",
       "      <td>Sodium channel alpha subunit blocker</td>\n",
       "    </tr>\n",
       "    <tr>\n",
       "      <th>104</th>\n",
       "      <td>959</td>\n",
       "      <td>959 ;</td>\n",
       "      <td>CHEMBL20</td>\n",
       "      <td>Carbonic anhydrase IV inhibitor</td>\n",
       "    </tr>\n",
       "    <tr>\n",
       "      <th>113</th>\n",
       "      <td>17</td>\n",
       "      <td>17 ;</td>\n",
       "      <td>CHEMBL20</td>\n",
       "      <td>Carbonic anhydrase I inhibitor</td>\n",
       "    </tr>\n",
       "    <tr>\n",
       "      <th>122</th>\n",
       "      <td>92</td>\n",
       "      <td>92 ;</td>\n",
       "      <td>CHEMBL20</td>\n",
       "      <td>Carbonic anhydrase II inhibitor</td>\n",
       "    </tr>\n",
       "    <tr>\n",
       "      <th>131</th>\n",
       "      <td>928</td>\n",
       "      <td>928 ;</td>\n",
       "      <td>CHEMBL20</td>\n",
       "      <td>Carbonic anhydrase XII inhibitor</td>\n",
       "    </tr>\n",
       "  </tbody>\n",
       "</table>\n",
       "</div>"
      ],
      "text/plain": [
       "    Label ChEMBL ID Molecule ID  \\\n",
       "1    1664    1664 ;    CHEMBL22   \n",
       "10    340     340 ;    CHEMBL35   \n",
       "19   1905    1905 ;     CHEMBL5   \n",
       "28   4555    4555 ;  CHEMBL6318   \n",
       "37    902     902 ;   CHEMBL405   \n",
       "46    687     687 ;   CHEMBL405   \n",
       "55   1588    1588 ;   CHEMBL407   \n",
       "66   1222    1222 ;  CHEMBL6622   \n",
       "77     41      41 ;    CHEMBL14   \n",
       "86   1320    1320 ;   CHEMBL409   \n",
       "95   1987    1987 ;    CHEMBL16   \n",
       "104   959     959 ;    CHEMBL20   \n",
       "113    17      17 ;    CHEMBL20   \n",
       "122    92      92 ;    CHEMBL20   \n",
       "131   928     928 ;    CHEMBL20   \n",
       "\n",
       "                                                  MOAs  \n",
       "1          Bacterial dihydrofolate reductase inhibitor  \n",
       "10   Sodium-(potassium)-chloride cotransporter 2 in...  \n",
       "19                      Bacterial DNA gyrase inhibitor  \n",
       "28                         Estrogen receptor modulator  \n",
       "37          Norepinephrine transporter releasing agent  \n",
       "46                Dopamine transporter releasing agent  \n",
       "55   GABA-A receptor; anion channel allosteric anta...  \n",
       "66                 Soluble guanylate cyclase activator  \n",
       "77        Muscarinic acetylcholine receptor M3 agonist  \n",
       "86                        Androgen Receptor antagonist  \n",
       "95                Sodium channel alpha subunit blocker  \n",
       "104                    Carbonic anhydrase IV inhibitor  \n",
       "113                     Carbonic anhydrase I inhibitor  \n",
       "122                    Carbonic anhydrase II inhibitor  \n",
       "131                   Carbonic anhydrase XII inhibitor  "
      ]
     },
     "execution_count": 166,
     "metadata": {},
     "output_type": "execute_result"
    }
   ],
   "source": [
    "df.head(15)"
   ]
  },
  {
   "cell_type": "code",
   "execution_count": 130,
   "metadata": {},
   "outputs": [
    {
     "data": {
      "text/plain": [
       "(4992, 4)"
      ]
     },
     "execution_count": 130,
     "metadata": {},
     "output_type": "execute_result"
    }
   ],
   "source": [
    "df.shape"
   ]
  },
  {
   "cell_type": "markdown",
   "metadata": {},
   "source": [
    "## Get Molecule Name and from ChEMBL Molecule ID"
   ]
  },
  {
   "cell_type": "code",
   "execution_count": 34,
   "metadata": {},
   "outputs": [
    {
     "data": {
      "text/plain": [
       "(3907,)"
      ]
     },
     "execution_count": 34,
     "metadata": {},
     "output_type": "execute_result"
    }
   ],
   "source": [
    "# moleID_df = df['Molecule ID']\n",
    "# moleID_df = moleID_df.drop_duplicates()\n",
    "# moleID_df.shape"
   ]
  },
  {
   "cell_type": "code",
   "execution_count": 42,
   "metadata": {
    "scrolled": true
   },
   "outputs": [
    {
     "name": "stdout",
     "output_type": "stream",
     "text": [
      "99\n",
      "199\n",
      "299\n",
      "399\n",
      "499\n",
      "599\n",
      "699\n",
      "799\n",
      "899\n",
      "999\n",
      "1099\n",
      "1199\n",
      "1299\n",
      "1399\n",
      "1499\n",
      "1599\n",
      "1699\n",
      "1799\n",
      "1899\n",
      "1999\n",
      "2099\n",
      "2199\n",
      "2299\n",
      "2399\n",
      "2499\n",
      "2599\n",
      "2699\n",
      "2799\n",
      "2899\n",
      "2999\n",
      "3099\n",
      "3199\n",
      "3299\n",
      "3399\n",
      "3499\n",
      "3599\n",
      "3699\n",
      "3799\n",
      "3899\n",
      "0\n",
      "3907\n",
      "3907\n"
     ]
    }
   ],
   "source": [
    "# moleID_list = moleID_df.tolist()\n",
    "# failed_to_get_name = 0\n",
    "# drug_name_dict = {}\n",
    "# # count = 0\n",
    "\n",
    "# for moleID in moleID_list:\n",
    "# #     count += 1\n",
    "#     url = 'https://www.ebi.ac.uk/chembl/api/data/molecule/' + moleID + '.json'\n",
    "#     response = requests.get(url)\n",
    "#     try:\n",
    "#         response.json()\n",
    "#     except ValueError:\n",
    "#         continue\n",
    "#     if \"molecule_synonyms\" in response.json().keys():\n",
    "#         drug_name = response.json()[\"molecule_synonyms\"][0]['molecule_synonym']\n",
    "#         drug_name_dict[moleID] = drug_name\n",
    "#     else:\n",
    "#         failed_to_get_name +=1\n",
    "    \n",
    "#     if len(drug_name_dict) % 100 == 0:\n",
    "#         print(moleID_list.index(moleID))\n",
    "# #     if count > 10:\n",
    "# #         break\n",
    "# print(failed_to_get_name)\n",
    "# print(len(drug_name_dict))\n",
    "# print(len(moleID_list))"
   ]
  },
  {
   "cell_type": "code",
   "execution_count": 40,
   "metadata": {},
   "outputs": [
    {
     "data": {
      "text/plain": [
       "1138"
      ]
     },
     "execution_count": 40,
     "metadata": {},
     "output_type": "execute_result"
    }
   ],
   "source": [
    "# len(drug_name_dict)"
   ]
  },
  {
   "cell_type": "code",
   "execution_count": 43,
   "metadata": {},
   "outputs": [],
   "source": [
    "# drug_names = []\n",
    "# for index, row in df.iterrows():\n",
    "#     mole_id = row.loc['Molecule ID']\n",
    "#     if mole_id not in drug_name_dict:\n",
    "#         df.drop(index, inplace = True)\n",
    "#     else: \n",
    "#         drug_names.append(drug_name_dict[mole_id])\n",
    "\n",
    "# df.loc[:,'Drug_Name'] = pd.Series(np.array(drug_names), index=df.index)"
   ]
  },
  {
   "cell_type": "markdown",
   "metadata": {},
   "source": [
    "## Get Pubchem ID from DrugName"
   ]
  },
  {
   "cell_type": "code",
   "execution_count": 168,
   "metadata": {},
   "outputs": [
    {
     "data": {
      "text/plain": [
       "1       CHEMBL22\n",
       "10      CHEMBL35\n",
       "19       CHEMBL5\n",
       "28    CHEMBL6318\n",
       "37     CHEMBL405\n",
       "55     CHEMBL407\n",
       "66    CHEMBL6622\n",
       "77      CHEMBL14\n",
       "86     CHEMBL409\n",
       "95      CHEMBL16\n",
       "Name: Molecule ID, dtype: object"
      ]
     },
     "execution_count": 168,
     "metadata": {},
     "output_type": "execute_result"
    }
   ],
   "source": [
    "namesdf = df['Molecule ID']\n",
    "namesdf = namesdf.drop_duplicates()\n",
    "namesdf.head(10)"
   ]
  },
  {
   "cell_type": "code",
   "execution_count": 171,
   "metadata": {
    "scrolled": true
   },
   "outputs": [
    {
     "name": "stdout",
     "output_type": "stream",
     "text": [
      "113\n",
      "232\n",
      "349\n",
      "460\n",
      "561\n",
      "668\n",
      "787\n",
      "788\n",
      "789\n",
      "790\n",
      "948\n",
      "1122\n",
      "1247\n",
      "1358\n",
      "1479\n",
      "1681\n",
      "1807\n",
      "1808\n",
      "2097\n",
      "2327\n",
      "2328\n",
      "2329\n",
      "2330\n",
      "2331\n",
      "2332\n",
      "2333\n",
      "2334\n",
      "2335\n",
      "2336\n",
      "2337\n",
      "2338\n",
      "2339\n",
      "2340\n",
      "2341\n",
      "2342\n",
      "2343\n",
      "2544\n",
      "2683\n",
      "2847\n",
      "3000\n",
      "3176\n",
      "3550\n",
      "3551\n",
      "3552\n",
      "3553\n",
      "3554\n",
      "3555\n",
      "3734\n",
      "3891\n",
      "3892\n",
      "1493\n",
      "2414\n",
      "3907\n"
     ]
    }
   ],
   "source": [
    "nameslist = namesdf.tolist()\n",
    "failed_to_get_CID = 0\n",
    "CID_dict = {}\n",
    "\n",
    "for name in nameslist:\n",
    "    name = name.replace(' ','%20')\n",
    "    url = 'https://pubchem.ncbi.nlm.nih.gov/rest/pug/compound/name/' + name + '/cids/JSON'\n",
    "    response = requests.get(url)\n",
    "    try:\n",
    "        response.json()\n",
    "    except ValueError:\n",
    "        continue\n",
    "    if 'IdentifierList' in response.json().keys():\n",
    "        CID = response.json()['IdentifierList']['CID'][0]\n",
    "        name = name.replace('%20', ' ')\n",
    "        CID_dict[name] = CID\n",
    "    else:\n",
    "        failed_to_get_CID += 1\n",
    "        \n",
    "    if len(CID_dict) % 100 == 0:\n",
    "        name = name.replace('%20',' ')\n",
    "        print(nameslist.index(name))\n",
    "print(failed_to_get_CID)\n",
    "print(len(CID_dict))\n",
    "print(len(nameslist))"
   ]
  },
  {
   "cell_type": "code",
   "execution_count": 170,
   "metadata": {},
   "outputs": [
    {
     "data": {
      "text/plain": [
       "{'CHEMBL22': 5578}"
      ]
     },
     "execution_count": 170,
     "metadata": {},
     "output_type": "execute_result"
    }
   ],
   "source": [
    "CID_dict"
   ]
  },
  {
   "cell_type": "code",
   "execution_count": 172,
   "metadata": {},
   "outputs": [],
   "source": [
    "CIDs = []\n",
    "for index, row in df.iterrows():\n",
    "    drugname = row.loc['Molecule ID']\n",
    "    if drugname not in CID_dict:\n",
    "        df.drop(index, inplace = True)\n",
    "    else: \n",
    "        CIDs.append(int(CID_dict[drugname]))\n",
    "\n",
    "df.loc[:,'CIDs'] = pd.Series(np.array(CIDs), index=df.index)"
   ]
  },
  {
   "cell_type": "code",
   "execution_count": 173,
   "metadata": {},
   "outputs": [
    {
     "data": {
      "text/plain": [
       "(3201, 5)"
      ]
     },
     "execution_count": 173,
     "metadata": {},
     "output_type": "execute_result"
    }
   ],
   "source": [
    "df.shape"
   ]
  },
  {
   "cell_type": "markdown",
   "metadata": {},
   "source": [
    "## Filter by LINCS Approved Small Molecules"
   ]
  },
  {
   "cell_type": "code",
   "execution_count": 174,
   "metadata": {},
   "outputs": [
    {
     "name": "stdout",
     "output_type": "stream",
     "text": [
      "2169\n"
     ]
    }
   ],
   "source": [
    "count = 0\n",
    "for index, row in df.iterrows():\n",
    "    CID = row.loc['CIDs']\n",
    "    if CID not in lincs['SM_PubChem_CID'].values:\n",
    "        df.drop(index, inplace = True)\n",
    "        count += 1\n",
    "        \n",
    "print(count)"
   ]
  },
  {
   "cell_type": "code",
   "execution_count": 175,
   "metadata": {},
   "outputs": [
    {
     "data": {
      "text/plain": [
       "(1032, 5)"
      ]
     },
     "execution_count": 175,
     "metadata": {},
     "output_type": "execute_result"
    }
   ],
   "source": [
    "df.shape"
   ]
  },
  {
   "cell_type": "markdown",
   "metadata": {},
   "source": [
    "## Make the Binary Matrix"
   ]
  },
  {
   "cell_type": "code",
   "execution_count": 176,
   "metadata": {},
   "outputs": [
    {
     "data": {
      "text/plain": [
       "409"
      ]
     },
     "execution_count": 176,
     "metadata": {},
     "output_type": "execute_result"
    }
   ],
   "source": [
    "grouped_df = df.groupby(['MOAs'])['CIDs'].apply(lambda x: ','.join(x.astype(str))).reset_index()\n",
    "grouped_df.set_index('MOAs', inplace=True)\n",
    "grouped_df = grouped_df.sort_index()\n",
    "len(df['MOAs'].unique())"
   ]
  },
  {
   "cell_type": "code",
   "execution_count": 177,
   "metadata": {},
   "outputs": [],
   "source": [
    "grouped_matrix = grouped_df.iloc[:,0].str.get_dummies(sep=',')"
   ]
  },
  {
   "cell_type": "code",
   "execution_count": 178,
   "metadata": {},
   "outputs": [
    {
     "data": {
      "text/html": [
       "<div>\n",
       "<style scoped>\n",
       "    .dataframe tbody tr th:only-of-type {\n",
       "        vertical-align: middle;\n",
       "    }\n",
       "\n",
       "    .dataframe tbody tr th {\n",
       "        vertical-align: top;\n",
       "    }\n",
       "\n",
       "    .dataframe thead th {\n",
       "        text-align: right;\n",
       "    }\n",
       "</style>\n",
       "<table border=\"1\" class=\"dataframe\">\n",
       "  <thead>\n",
       "    <tr style=\"text-align: right;\">\n",
       "      <th></th>\n",
       "      <th>10026128</th>\n",
       "      <th>10029385</th>\n",
       "      <th>10052040</th>\n",
       "      <th>10074640</th>\n",
       "      <th>10090485</th>\n",
       "      <th>10096344</th>\n",
       "      <th>10117987</th>\n",
       "      <th>10127622</th>\n",
       "      <th>10133</th>\n",
       "      <th>10152654</th>\n",
       "      <th>...</th>\n",
       "      <th>9911830</th>\n",
       "      <th>9915743</th>\n",
       "      <th>9924495</th>\n",
       "      <th>9931954</th>\n",
       "      <th>9933475</th>\n",
       "      <th>9935681</th>\n",
       "      <th>9939609</th>\n",
       "      <th>9949641</th>\n",
       "      <th>9952773</th>\n",
       "      <th>9952884</th>\n",
       "    </tr>\n",
       "    <tr>\n",
       "      <th>MOAs</th>\n",
       "      <th></th>\n",
       "      <th></th>\n",
       "      <th></th>\n",
       "      <th></th>\n",
       "      <th></th>\n",
       "      <th></th>\n",
       "      <th></th>\n",
       "      <th></th>\n",
       "      <th></th>\n",
       "      <th></th>\n",
       "      <th></th>\n",
       "      <th></th>\n",
       "      <th></th>\n",
       "      <th></th>\n",
       "      <th></th>\n",
       "      <th></th>\n",
       "      <th></th>\n",
       "      <th></th>\n",
       "      <th></th>\n",
       "      <th></th>\n",
       "      <th></th>\n",
       "    </tr>\n",
       "  </thead>\n",
       "  <tbody>\n",
       "    <tr>\n",
       "      <th>11-beta-hydroxysteroid dehydrogenase inhibitor</th>\n",
       "      <td>0</td>\n",
       "      <td>0</td>\n",
       "      <td>0</td>\n",
       "      <td>0</td>\n",
       "      <td>0</td>\n",
       "      <td>0</td>\n",
       "      <td>0</td>\n",
       "      <td>0</td>\n",
       "      <td>0</td>\n",
       "      <td>0</td>\n",
       "      <td>...</td>\n",
       "      <td>0</td>\n",
       "      <td>0</td>\n",
       "      <td>0</td>\n",
       "      <td>0</td>\n",
       "      <td>0</td>\n",
       "      <td>0</td>\n",
       "      <td>0</td>\n",
       "      <td>0</td>\n",
       "      <td>0</td>\n",
       "      <td>0</td>\n",
       "    </tr>\n",
       "    <tr>\n",
       "      <th>26S proteosome inhibitor</th>\n",
       "      <td>0</td>\n",
       "      <td>0</td>\n",
       "      <td>0</td>\n",
       "      <td>0</td>\n",
       "      <td>0</td>\n",
       "      <td>0</td>\n",
       "      <td>0</td>\n",
       "      <td>0</td>\n",
       "      <td>0</td>\n",
       "      <td>0</td>\n",
       "      <td>...</td>\n",
       "      <td>0</td>\n",
       "      <td>0</td>\n",
       "      <td>0</td>\n",
       "      <td>0</td>\n",
       "      <td>0</td>\n",
       "      <td>0</td>\n",
       "      <td>0</td>\n",
       "      <td>0</td>\n",
       "      <td>0</td>\n",
       "      <td>0</td>\n",
       "    </tr>\n",
       "    <tr>\n",
       "      <th>3',5'-cyclic phosphodiesterase inhibitor</th>\n",
       "      <td>0</td>\n",
       "      <td>0</td>\n",
       "      <td>0</td>\n",
       "      <td>0</td>\n",
       "      <td>0</td>\n",
       "      <td>0</td>\n",
       "      <td>0</td>\n",
       "      <td>0</td>\n",
       "      <td>0</td>\n",
       "      <td>0</td>\n",
       "      <td>...</td>\n",
       "      <td>0</td>\n",
       "      <td>0</td>\n",
       "      <td>0</td>\n",
       "      <td>0</td>\n",
       "      <td>0</td>\n",
       "      <td>0</td>\n",
       "      <td>0</td>\n",
       "      <td>0</td>\n",
       "      <td>0</td>\n",
       "      <td>0</td>\n",
       "    </tr>\n",
       "    <tr>\n",
       "      <th>70S ribosome inhibitor</th>\n",
       "      <td>0</td>\n",
       "      <td>0</td>\n",
       "      <td>0</td>\n",
       "      <td>0</td>\n",
       "      <td>0</td>\n",
       "      <td>0</td>\n",
       "      <td>0</td>\n",
       "      <td>0</td>\n",
       "      <td>0</td>\n",
       "      <td>0</td>\n",
       "      <td>...</td>\n",
       "      <td>0</td>\n",
       "      <td>0</td>\n",
       "      <td>0</td>\n",
       "      <td>0</td>\n",
       "      <td>0</td>\n",
       "      <td>0</td>\n",
       "      <td>0</td>\n",
       "      <td>0</td>\n",
       "      <td>0</td>\n",
       "      <td>0</td>\n",
       "    </tr>\n",
       "    <tr>\n",
       "      <th>ALK tyrosine kinase receptor inhibitor</th>\n",
       "      <td>0</td>\n",
       "      <td>0</td>\n",
       "      <td>0</td>\n",
       "      <td>0</td>\n",
       "      <td>0</td>\n",
       "      <td>0</td>\n",
       "      <td>0</td>\n",
       "      <td>0</td>\n",
       "      <td>0</td>\n",
       "      <td>0</td>\n",
       "      <td>...</td>\n",
       "      <td>0</td>\n",
       "      <td>0</td>\n",
       "      <td>0</td>\n",
       "      <td>0</td>\n",
       "      <td>0</td>\n",
       "      <td>0</td>\n",
       "      <td>0</td>\n",
       "      <td>0</td>\n",
       "      <td>0</td>\n",
       "      <td>0</td>\n",
       "    </tr>\n",
       "  </tbody>\n",
       "</table>\n",
       "<p>5 rows × 747 columns</p>\n",
       "</div>"
      ],
      "text/plain": [
       "                                                10026128  10029385  10052040  \\\n",
       "MOAs                                                                           \n",
       "11-beta-hydroxysteroid dehydrogenase inhibitor         0         0         0   \n",
       "26S proteosome inhibitor                               0         0         0   \n",
       "3',5'-cyclic phosphodiesterase inhibitor               0         0         0   \n",
       "70S ribosome inhibitor                                 0         0         0   \n",
       "ALK tyrosine kinase receptor inhibitor                 0         0         0   \n",
       "\n",
       "                                                10074640  10090485  10096344  \\\n",
       "MOAs                                                                           \n",
       "11-beta-hydroxysteroid dehydrogenase inhibitor         0         0         0   \n",
       "26S proteosome inhibitor                               0         0         0   \n",
       "3',5'-cyclic phosphodiesterase inhibitor               0         0         0   \n",
       "70S ribosome inhibitor                                 0         0         0   \n",
       "ALK tyrosine kinase receptor inhibitor                 0         0         0   \n",
       "\n",
       "                                                10117987  10127622  10133  \\\n",
       "MOAs                                                                        \n",
       "11-beta-hydroxysteroid dehydrogenase inhibitor         0         0      0   \n",
       "26S proteosome inhibitor                               0         0      0   \n",
       "3',5'-cyclic phosphodiesterase inhibitor               0         0      0   \n",
       "70S ribosome inhibitor                                 0         0      0   \n",
       "ALK tyrosine kinase receptor inhibitor                 0         0      0   \n",
       "\n",
       "                                                10152654   ...     9911830  \\\n",
       "MOAs                                                       ...               \n",
       "11-beta-hydroxysteroid dehydrogenase inhibitor         0   ...           0   \n",
       "26S proteosome inhibitor                               0   ...           0   \n",
       "3',5'-cyclic phosphodiesterase inhibitor               0   ...           0   \n",
       "70S ribosome inhibitor                                 0   ...           0   \n",
       "ALK tyrosine kinase receptor inhibitor                 0   ...           0   \n",
       "\n",
       "                                                9915743  9924495  9931954  \\\n",
       "MOAs                                                                        \n",
       "11-beta-hydroxysteroid dehydrogenase inhibitor        0        0        0   \n",
       "26S proteosome inhibitor                              0        0        0   \n",
       "3',5'-cyclic phosphodiesterase inhibitor              0        0        0   \n",
       "70S ribosome inhibitor                                0        0        0   \n",
       "ALK tyrosine kinase receptor inhibitor                0        0        0   \n",
       "\n",
       "                                                9933475  9935681  9939609  \\\n",
       "MOAs                                                                        \n",
       "11-beta-hydroxysteroid dehydrogenase inhibitor        0        0        0   \n",
       "26S proteosome inhibitor                              0        0        0   \n",
       "3',5'-cyclic phosphodiesterase inhibitor              0        0        0   \n",
       "70S ribosome inhibitor                                0        0        0   \n",
       "ALK tyrosine kinase receptor inhibitor                0        0        0   \n",
       "\n",
       "                                                9949641  9952773  9952884  \n",
       "MOAs                                                                       \n",
       "11-beta-hydroxysteroid dehydrogenase inhibitor        0        0        0  \n",
       "26S proteosome inhibitor                              0        0        0  \n",
       "3',5'-cyclic phosphodiesterase inhibitor              0        0        0  \n",
       "70S ribosome inhibitor                                0        0        0  \n",
       "ALK tyrosine kinase receptor inhibitor                0        0        0  \n",
       "\n",
       "[5 rows x 747 columns]"
      ]
     },
     "execution_count": 178,
     "metadata": {},
     "output_type": "execute_result"
    }
   ],
   "source": [
    "grouped_matrix.head()"
   ]
  },
  {
   "cell_type": "code",
   "execution_count": 179,
   "metadata": {},
   "outputs": [
    {
     "data": {
      "text/plain": [
       "(409, 747)"
      ]
     },
     "execution_count": 179,
     "metadata": {},
     "output_type": "execute_result"
    }
   ],
   "source": [
    "grouped_matrix.shape"
   ]
  },
  {
   "cell_type": "markdown",
   "metadata": {},
   "source": [
    "## Save Binary Matrix"
   ]
  },
  {
   "cell_type": "code",
   "execution_count": 180,
   "metadata": {},
   "outputs": [],
   "source": [
    "filename = 'Output/ChEMBL_MOA_%s.tsv.zip'% str(datetime.date.today())[0:7].replace('-', '_')\n",
    "grouped_matrix.to_csv(filename, sep='\\t', compression='gzip')"
   ]
  },
  {
   "cell_type": "markdown",
   "metadata": {},
   "source": [
    "## Convert Binary Matrix to GMT and Save as GMT"
   ]
  },
  {
   "cell_type": "code",
   "execution_count": 181,
   "metadata": {},
   "outputs": [],
   "source": [
    "drugset_library = []\n",
    "for index, row in grouped_matrix.iterrows():\n",
    "    drugset = []\n",
    "    drugset.append(index)\n",
    "    drugset.append('')\n",
    "    for i in range(grouped_matrix.shape[1]):\n",
    "        if row.iloc[i]==1:\n",
    "            drugset.append(row.index[i])\n",
    "    if len(drugset) >= 7:\n",
    "        drugset_library.append(drugset)\n",
    "dsl = np.array(drugset_library)"
   ]
  },
  {
   "cell_type": "code",
   "execution_count": 182,
   "metadata": {},
   "outputs": [
    {
     "data": {
      "text/plain": [
       "48"
      ]
     },
     "execution_count": 182,
     "metadata": {},
     "output_type": "execute_result"
    }
   ],
   "source": [
    "len(max(dsl, key=len))"
   ]
  },
  {
   "cell_type": "code",
   "execution_count": 183,
   "metadata": {},
   "outputs": [],
   "source": [
    "filename = 'Output/ChEMBL_MOA_DrugSetLibrary_%s.gmt'% str(datetime.date.today())[0:7].replace('-', '_')\n",
    "with open(filename,'w',encoding='utf-8') as f:\n",
    "    for row in dsl:\n",
    "        np.savetxt(f, [row], fmt = '%s',delimiter = '\\t')"
   ]
  },
  {
   "cell_type": "code",
   "execution_count": null,
   "metadata": {},
   "outputs": [],
   "source": []
  },
  {
   "cell_type": "code",
   "execution_count": null,
   "metadata": {},
   "outputs": [],
   "source": []
  }
 ],
 "metadata": {
  "kernelspec": {
   "display_name": "Python 3",
   "language": "python",
   "name": "python3"
  },
  "language_info": {
   "codemirror_mode": {
    "name": "ipython",
    "version": 3
   },
   "file_extension": ".py",
   "mimetype": "text/x-python",
   "name": "python",
   "nbconvert_exporter": "python",
   "pygments_lexer": "ipython3",
   "version": "3.6.5"
  }
 },
 "nbformat": 4,
 "nbformat_minor": 2
}
