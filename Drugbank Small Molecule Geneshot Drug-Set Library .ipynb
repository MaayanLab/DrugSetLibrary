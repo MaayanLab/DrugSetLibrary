{
 "cells": [
  {
   "cell_type": "markdown",
   "metadata": {},
   "source": [
    "## Drugbank Small Molecules Geneshot Drug-Set Library\n",
    "### Drug-set labels: Genes\n",
    "#### ALL DATABASES ACCESSED 05/01/19\n",
    "##### Author : Eryk Kropiwnicki | eryk.kropiwnicki@icahn.mssm.edu"
   ]
  },
  {
   "cell_type": "code",
   "execution_count": 1,
   "metadata": {},
   "outputs": [],
   "source": [
    "import csv\n",
    "import pubchempy as pcp\n",
    "import time \n",
    "import requests\n",
    "import json\n",
    "from collections import defaultdict\n",
    "import pandas as pd\n",
    "import numpy as np"
   ]
  },
  {
   "cell_type": "code",
   "execution_count": 2,
   "metadata": {},
   "outputs": [],
   "source": [
    "smallmolecules = []\n",
    "\n",
    "db_drugs = open('input/drug links-3.csv')\n",
    "db_drugs_csv = csv.reader(db_drugs)\n",
    "for row in db_drugs_csv:\n",
    "    smallmolecules.append(row[1].lower())\n",
    "del smallmolecules[0]"
   ]
  },
  {
   "cell_type": "code",
   "execution_count": 3,
   "metadata": {},
   "outputs": [
    {
     "data": {
      "text/plain": [
       "10254"
      ]
     },
     "execution_count": 3,
     "metadata": {},
     "output_type": "execute_result"
    }
   ],
   "source": [
    "len(smallmolecules)"
   ]
  },
  {
   "cell_type": "markdown",
   "metadata": {},
   "source": [
    "### Querying Small Molecule Names Through Geneshot\n",
    "#### PLATFORM : https://amp.pharm.mssm.edu/geneshot\n",
    "#### OUTPUT FILES: drugbank_smallmolecules_geneset_autorif.json"
   ]
  },
  {
   "cell_type": "code",
   "execution_count": 5,
   "metadata": {},
   "outputs": [],
   "source": [
    "# Querying each drug through geneshot(AUTORIF) #\n",
    "i = 0\n",
    "with open('input/drugbank_smallmolecules_geneset_autorif.json','a') as outfile:\n",
    "    outfile.write(\"[\")\n",
    "    for drug in smallmolecules:\n",
    "        try:\n",
    "            res = requests.get('https://amp.pharm.mssm.edu/geneshot/api/search/auto/' + drug)\n",
    "            smallmolecule_geneset_autorif = res.json()\n",
    "        except ValueError:\n",
    "            pass\n",
    "        json.dump(smallmolecule_geneset_autorif, outfile, indent = 4)\n",
    "        i += 1\n",
    "        time.sleep(1)\n",
    "        if i < (len(smallmolecules)):\n",
    "            outfile.write(\",\")\n",
    "        else:\n",
    "            outfile.write(\"]\")\n",
    "outfile.close()"
   ]
  },
  {
   "cell_type": "markdown",
   "metadata": {},
   "source": [
    "### Creating Geneset Libraries From Drug-Gene Associations Collected From Geneshot\n",
    "#### INPUT FILE : drugbank_smallmolecules_geneset_autorif.json\n",
    "#### OUTPUT FILE: drugbank_smallmolecules_genesetlibrary.txt | drugbank_smallmolecules_geneshot_drugsetlibrary.csv"
   ]
  },
  {
   "cell_type": "code",
   "execution_count": 6,
   "metadata": {},
   "outputs": [],
   "source": [
    "# Creating a dictionary where small molecules are terms and genes are set members #\n",
    "genelist = {}\n",
    "\n",
    "with open ('input/drugbank_smallmolecules_geneset_autorif.json') as data_file:\n",
    "    data = json.load(data_file)\n",
    "\n",
    "for item in data:\n",
    "    genes = (item[\"gene_count\"])\n",
    "    genes = [key for key in genes.keys()]\n",
    "    genes = genes[:51]\n",
    "    compound = (item[\"search_term\"]).lower()\n",
    "    genelist[compound] = []\n",
    "    genelist[compound].extend(genes)\n",
    "\n",
    "genelist = {k: v for k,v in genelist.items() if v}\n",
    "\n",
    "# Converting dictionary into GMT format #\n",
    "GSL_SM = []\n",
    "\n",
    "for term in genelist.keys():    \n",
    "    genes = genelist[term]\n",
    "    line = '{0}\\t\\t{1}'.format(term, '\\t'.join(genes))\n",
    "    GSL_SM.append(line)\n",
    "\n",
    "GSL_SM_out = '\\n'.join(GSL_SM)"
   ]
  },
  {
   "cell_type": "code",
   "execution_count": 9,
   "metadata": {},
   "outputs": [],
   "source": [
    "# Exporting Drugbank Experimental Drug Geneset library as TXT file #\n",
    "dataFile = open('/Users/maayanlab/Documents/DrugSetEnrichment/GeneSetLibraries/Drugbank/Small molecules/drugbank_smallmolecules_genesetlibrary.txt', 'w')\n",
    "for eachitem in GSL_SM_out:\n",
    "    dataFile.write(eachitem)"
   ]
  },
  {
   "cell_type": "code",
   "execution_count": 10,
   "metadata": {},
   "outputs": [],
   "source": [
    "# Transposing the 'genelist' dictionary where genes are terms and small molecules are set members #\n",
    "# Each value (gene) in the dictionary is a list, therefore we need to separate all list elements as their own term #\n",
    "d = defaultdict(list)\n",
    "for k,v in genelist.items():\n",
    "    for gene in v:\n",
    "        gene.split(',')\n",
    "        d[gene].append(k)\n",
    "\n",
    "drugsetlibrary = dict(d)"
   ]
  },
  {
   "cell_type": "code",
   "execution_count": 12,
   "metadata": {},
   "outputs": [],
   "source": [
    "# Converting drugsetlibrary into dataframe and exporting #\n",
    "df = pd.DataFrame.from_dict(drugsetlibrary, orient='index')\n",
    "df = df[df.columns[0:]].apply(\n",
    "    lambda x: ','.join(x.dropna().astype(str).astype(str)),\n",
    "    axis = 1\n",
    ")\n",
    "df.to_csv('/Users/maayanlab/Documents/DrugSetEnrichment/Drugsetlibraries/Drugbank/Small molecules/drugbank_smallmolecules_geneshot_drugsetlibrary.csv')"
   ]
  },
  {
   "cell_type": "code",
   "execution_count": null,
   "metadata": {},
   "outputs": [],
   "source": []
  }
 ],
 "metadata": {
  "kernelspec": {
   "display_name": "Python 3",
   "language": "python",
   "name": "python3"
  },
  "language_info": {
   "codemirror_mode": {
    "name": "ipython",
    "version": 3
   },
   "file_extension": ".py",
   "mimetype": "text/x-python",
   "name": "python",
   "nbconvert_exporter": "python",
   "pygments_lexer": "ipython3",
   "version": "3.6.5"
  }
 },
 "nbformat": 4,
 "nbformat_minor": 2
}
