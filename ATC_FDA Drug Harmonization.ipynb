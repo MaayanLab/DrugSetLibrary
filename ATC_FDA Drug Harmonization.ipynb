{
 "cells": [
  {
   "cell_type": "markdown",
   "metadata": {},
   "source": [
    "## Harmonizing FDA_ATC Drugs and Attributes Using the PubChem API\n",
    "#### ALL DATABASES ACCESSED 04/08/19\n",
    "##### Author : Eryk Kropiwnicki | eryk.kropiwnicki@icahn.mssm.edu"
   ]
  },
  {
   "cell_type": "code",
   "execution_count": 3,
   "metadata": {},
   "outputs": [],
   "source": [
    "import json\n",
    "import pandas as pd\n",
    "import xml.etree.ElementTree as et\n",
    "import requests\n",
    "import time\n",
    "import pubchempy as pcp\n",
    "from collections import defaultdict\n",
    "import csv\n",
    "import numpy as np"
   ]
  },
  {
   "cell_type": "markdown",
   "metadata": {},
   "source": [
    "### VERIFY ALL COLLECTED DRUGS BY ASSOCIATION WITH PUBCHEM IDs, DRUGBANK ACCESSION NUMBERS, SMILES STRINGS, InChIKeys\n",
    "#### DATABASE FOR PUBCHEM IDs, SMILEs STRINGS, InChIKeys, Molecular Formula: https://pubchem.ncbi.nlm.nih.gov\n",
    "#### DATABASE FOR DRUGBANK ACCESSION NUMBERS: http://www.drugbank.ca"
   ]
  },
  {
   "cell_type": "code",
   "execution_count": 6,
   "metadata": {},
   "outputs": [
    {
     "data": {
      "text/plain": [
       "1834"
      ]
     },
     "execution_count": 6,
     "metadata": {},
     "output_type": "execute_result"
    }
   ],
   "source": [
    "# Import all FDA drugs #\n",
    "with open('input/fda_drugs.txt') as f:\n",
    "    fda_drugs = [word.strip('\\n') for word in f]\n",
    "    \n",
    "len(fda_drugs)"
   ]
  },
  {
   "cell_type": "code",
   "execution_count": null,
   "metadata": {},
   "outputs": [],
   "source": [
    "# Retrieve all synonyms associated with each drug name #\n",
    "failed = 0\n",
    "synonym_dict = {}\n",
    "\n",
    "for drug in fda_drugs:\n",
    "    url = 'https://pubchem.ncbi.nlm.nih.gov/rest/pug/compound/name/'+str(drug)+ '/synonyms/JSON'\n",
    "    response = requests.get(url)\n",
    "    try:\n",
    "        response.json()\n",
    "    except ValueError:\n",
    "        continue\n",
    "    if 'InformationList' in response.json().keys():\n",
    "        synonym = response.json()['InformationList']['Information'][0]['Synonym']\n",
    "        synonym = [x.lower() for x in synonym]\n",
    "        synonym_dict[drug] = synonym\n",
    "    else:\n",
    "        failed += 1\n",
    "    time.sleep(1)"
   ]
  },
  {
   "cell_type": "code",
   "execution_count": 20,
   "metadata": {},
   "outputs": [],
   "source": [
    "# Retrieving all PubChemIDs associated with each FDA Drug (for all drugs that have a PubChemID) #\n",
    "failed = 0\n",
    "cid_dict = {}\n",
    "\n",
    "for drug in fda_drugs:\n",
    "    url ='https://pubchem.ncbi.nlm.nih.gov/rest/pug/compound/name/'+str(drug)+'/cids/JSON'\n",
    "    response = requests.get(url)\n",
    "    try:\n",
    "        response.json()\n",
    "    except ValueError:\n",
    "        continue\n",
    "    if 'IdentifierList' in response.json().keys():\n",
    "        cid = str(response.json()['IdentifierList']['CID'][0])\n",
    "        cid_dict[drug] = cid\n",
    "    else:\n",
    "        failed += 1\n",
    "    time.sleep(1)"
   ]
  },
  {
   "cell_type": "code",
   "execution_count": null,
   "metadata": {},
   "outputs": [],
   "source": [
    "# Construct a list of all PubChemIDs to query and retrieve drug attributes #\n",
    "cid_list = []\n",
    "for k,v in cid_dict.items():\n",
    "    cid_list.append(v)"
   ]
  },
  {
   "cell_type": "code",
   "execution_count": 22,
   "metadata": {},
   "outputs": [],
   "source": [
    "# Retrieving the Molecular Formula, SMILEs string, and InchiKey associated with each PubChemID #\n",
    "failed = 0\n",
    "smile_dict = {}\n",
    "inchikey_dict = {}\n",
    "molecularformula_dict = {}\n",
    "\n",
    "\n",
    "for cid in cid_list:\n",
    "    url ='https://pubchem.ncbi.nlm.nih.gov/rest/pug/compound/cid/'+str(cid)+'/property/MolecularFormula,CanonicalSMILES,InChIKey/JSON'\n",
    "    response = requests.get(url)\n",
    "    try:\n",
    "        response.json()\n",
    "    except ValueError:\n",
    "        continue\n",
    "    if 'PropertyTable' in response.json().keys():\n",
    "        smile = response.json()['PropertyTable']['Properties'][0]['CanonicalSMILES']\n",
    "        inchikey = response.json()['PropertyTable']['Properties'][0]['InChIKey']\n",
    "        molecularformula = response.json()['PropertyTable']['Properties'][0]['MolecularFormula']\n",
    "        smile_dict[cid] = smile\n",
    "        inchikey_dict[cid] = inchikey\n",
    "        molecularformula_dict[cid] = molecularformula\n",
    "        \n",
    "    else:\n",
    "        failed += 1\n",
    "    time.sleep(1)"
   ]
  },
  {
   "cell_type": "code",
   "execution_count": 23,
   "metadata": {},
   "outputs": [],
   "source": [
    "# Creating dictionary of Drugs : DrugBank Accession Numbers #\n",
    "drugbank_ids = []\n",
    "drugbank_names = []\n",
    "\n",
    "drugbank = open('input/drug_links.csv')\n",
    "drugbank_csv = csv.reader(drugbank)\n",
    "for row in drugbank_csv:\n",
    "    drugbank_ids.append(row[0])\n",
    "    drugbank_names.append(row[1])\n",
    "    drugbank_names = [x.lower() for x in drugbank_names]\n",
    "                  \n",
    "drugbank_dict = dict(zip(drugbank_ids,drugbank_names))\n",
    "\n",
    "# Comparing dictionary to list of FDA/ATC drugs and extracting relevant Accession Numbers paired to drugs #\n",
    "numbers = []\n",
    "drugs = []\n",
    "for k,v in drugbank_dict.items():\n",
    "    for drug in fda_drugs:\n",
    "        if v == drug:\n",
    "            numbers.append(k)\n",
    "            drugs.append(drug)\n",
    "        else:\n",
    "            continue\n",
    "AccessionNumber_dict = dict(zip(drugs,numbers))"
   ]
  },
  {
   "cell_type": "markdown",
   "metadata": {},
   "source": [
    "### Creating a DataFrame with all ATC_FDA Drug Attributes\n",
    "#### OUTPUT FILE : atc_fda_attributes.csv"
   ]
  },
  {
   "cell_type": "code",
   "execution_count": 15,
   "metadata": {},
   "outputs": [],
   "source": [
    "# Create dataframe for all FDA Drug Attributes #\n",
    "df = pd.DataFrame()\n",
    "df = df.append(fda_drugs)\n",
    "df.columns = ['FDA Drugs']"
   ]
  },
  {
   "cell_type": "code",
   "execution_count": 20,
   "metadata": {},
   "outputs": [],
   "source": [
    "# Add synonyms to dataframe #\n",
    "synonyms = []\n",
    "\n",
    "for index, row in df.iterrows():\n",
    "    drugname = row.loc['FDA Drugs']\n",
    "    if drugname in synonym_dict:\n",
    "        synonyms.append(synonym_dict[drugname][1:])\n",
    "    else:\n",
    "        synonyms.append(None)\n",
    "df.loc[:,'Synonyms'] = pd.Series(np.array(synonyms), index=df.index)"
   ]
  },
  {
   "cell_type": "code",
   "execution_count": 26,
   "metadata": {},
   "outputs": [],
   "source": [
    "# Add PubChemIDs to dataframe #\n",
    "PubChemIDs = []\n",
    "\n",
    "for index, row in df.iterrows():\n",
    "    drugname = row.loc['FDA Drugs']\n",
    "    if drugname in cid_dict:\n",
    "        PubChemIDs.append(cid_dict[drugname])\n",
    "    else:\n",
    "        PubChemIDs.append(None)\n",
    "df.loc[:,'PubChemID'] = pd.Series(np.array(PubChemIDs), index=df.index)"
   ]
  },
  {
   "cell_type": "code",
   "execution_count": 28,
   "metadata": {},
   "outputs": [],
   "source": [
    "# Add SMILEs strings to dataframe #\n",
    "SMILEs = []\n",
    "\n",
    "for index, row in df.iterrows():\n",
    "    pcid = row.loc['PubChemID']\n",
    "    if pcid in smile_dict:\n",
    "        SMILEs.append(smile_dict[pcid])\n",
    "    else:\n",
    "        SMILEs.append(None)\n",
    "df.loc[:,'SMILEs String'] = pd.Series(np.array(SMILEs), index=df.index)"
   ]
  },
  {
   "cell_type": "code",
   "execution_count": 29,
   "metadata": {},
   "outputs": [],
   "source": [
    "# Add InChIKeys to dataframe #\n",
    "InChIkeys = []\n",
    "\n",
    "for index, row in df.iterrows():\n",
    "    pcid = row.loc['PubChemID']\n",
    "    if pcid in inchikey_dict:\n",
    "        InChIkeys.append(inchikey_dict[pcid])\n",
    "    else:\n",
    "        InChIkeys.append(None)\n",
    "df.loc[:,'InChIkey'] = pd.Series(np.array(InChIkeys), index=df.index)"
   ]
  },
  {
   "cell_type": "code",
   "execution_count": 31,
   "metadata": {},
   "outputs": [],
   "source": [
    "# Add Molecular Formulas to dataframe #\n",
    "MFs = []\n",
    "\n",
    "for index, row in df.iterrows():\n",
    "    pcid = row.loc['PubChemID']\n",
    "    if pcid in molecularformula_dict:\n",
    "        MFs.append(molecularformula_dict[pcid])\n",
    "    else:\n",
    "        MFs.append(None)\n",
    "df.loc[:,'Molecular Formula'] = pd.Series(np.array(MFs),index=df.index)"
   ]
  },
  {
   "cell_type": "code",
   "execution_count": 32,
   "metadata": {},
   "outputs": [],
   "source": [
    "# Add drug accession numbers to dataframe #\n",
    "AccNumber = []\n",
    "for index, row in df.iterrows():\n",
    "    drugname = row.loc['FDA Drugs']\n",
    "    if drugname not in AccessionNumber_dict:\n",
    "         df.drop(index, inplace = True)\n",
    "    else:  \n",
    "        AccNumber.append(AccessionNumber_dict[drugname])\n",
    "        \n",
    "df.loc[:,'DB_Accession_Numbers'] = pd.Series(np.array(AccNumber), index=df.index)"
   ]
  },
  {
   "cell_type": "code",
   "execution_count": 48,
   "metadata": {},
   "outputs": [
    {
     "data": {
      "text/plain": [
       "1834"
      ]
     },
     "execution_count": 48,
     "metadata": {},
     "output_type": "execute_result"
    }
   ],
   "source": [
    "len(df)"
   ]
  },
  {
   "cell_type": "code",
   "execution_count": 39,
   "metadata": {},
   "outputs": [],
   "source": [
    "df.to_csv('/Users/maayanlab/Documents/DrugSetEnrichment/Drugsetlibraries/Drugbank/ATC_FDA/atc_fda_attributes.csv')"
   ]
  },
  {
   "cell_type": "code",
   "execution_count": null,
   "metadata": {},
   "outputs": [],
   "source": []
  }
 ],
 "metadata": {
  "kernelspec": {
   "display_name": "Python 3",
   "language": "python",
   "name": "python3"
  },
  "language_info": {
   "codemirror_mode": {
    "name": "ipython",
    "version": 3
   },
   "file_extension": ".py",
   "mimetype": "text/x-python",
   "name": "python",
   "nbconvert_exporter": "python",
   "pygments_lexer": "ipython3",
   "version": "3.6.5"
  }
 },
 "nbformat": 4,
 "nbformat_minor": 2
}
