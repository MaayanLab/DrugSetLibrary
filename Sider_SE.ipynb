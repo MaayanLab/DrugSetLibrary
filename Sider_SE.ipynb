{
 "cells": [
  {
   "cell_type": "markdown",
   "metadata": {},
   "source": [
    "## Import Libraries"
   ]
  },
  {
   "cell_type": "code",
   "execution_count": 1,
   "metadata": {},
   "outputs": [],
   "source": [
    "import numpy as np\n",
    "import pandas as pd\n",
    "from scipy.spatial.distance import squareform, pdist,jaccard\n",
    "import sys,  datetime, os\n",
    "import requests\n",
    "import chardet"
   ]
  },
  {
   "cell_type": "markdown",
   "metadata": {},
   "source": [
    "## Load Data"
   ]
  },
  {
   "cell_type": "markdown",
   "metadata": {},
   "source": [
    "#### Load Sider Side Effects Data"
   ]
  },
  {
   "cell_type": "code",
   "execution_count": 2,
   "metadata": {},
   "outputs": [],
   "source": [
    "df_with_concepts= pd.read_table('Input/meddra_all_se.tsv', names = ['STITCH ID flat','STITCH ID stereo','UMLS Concept Type','Concept Type','UMLS Concept ID', 'Side Effect'])"
   ]
  },
  {
   "cell_type": "code",
   "execution_count": 3,
   "metadata": {},
   "outputs": [
    {
     "data": {
      "text/html": [
       "<div>\n",
       "<style scoped>\n",
       "    .dataframe tbody tr th:only-of-type {\n",
       "        vertical-align: middle;\n",
       "    }\n",
       "\n",
       "    .dataframe tbody tr th {\n",
       "        vertical-align: top;\n",
       "    }\n",
       "\n",
       "    .dataframe thead th {\n",
       "        text-align: right;\n",
       "    }\n",
       "</style>\n",
       "<table border=\"1\" class=\"dataframe\">\n",
       "  <thead>\n",
       "    <tr style=\"text-align: right;\">\n",
       "      <th></th>\n",
       "      <th>STITCH ID flat</th>\n",
       "      <th>STITCH ID stereo</th>\n",
       "      <th>UMLS Concept Type</th>\n",
       "      <th>Concept Type</th>\n",
       "      <th>UMLS Concept ID</th>\n",
       "      <th>Side Effect</th>\n",
       "    </tr>\n",
       "  </thead>\n",
       "  <tbody>\n",
       "    <tr>\n",
       "      <th>0</th>\n",
       "      <td>CID100000085</td>\n",
       "      <td>CID000010917</td>\n",
       "      <td>C0000729</td>\n",
       "      <td>LLT</td>\n",
       "      <td>C0000729</td>\n",
       "      <td>Abdominal cramps</td>\n",
       "    </tr>\n",
       "    <tr>\n",
       "      <th>1</th>\n",
       "      <td>CID100000085</td>\n",
       "      <td>CID000010917</td>\n",
       "      <td>C0000729</td>\n",
       "      <td>PT</td>\n",
       "      <td>C0000737</td>\n",
       "      <td>Abdominal pain</td>\n",
       "    </tr>\n",
       "    <tr>\n",
       "      <th>2</th>\n",
       "      <td>CID100000085</td>\n",
       "      <td>CID000010917</td>\n",
       "      <td>C0000737</td>\n",
       "      <td>LLT</td>\n",
       "      <td>C0000737</td>\n",
       "      <td>Abdominal pain</td>\n",
       "    </tr>\n",
       "    <tr>\n",
       "      <th>3</th>\n",
       "      <td>CID100000085</td>\n",
       "      <td>CID000010917</td>\n",
       "      <td>C0000737</td>\n",
       "      <td>PT</td>\n",
       "      <td>C0687713</td>\n",
       "      <td>Gastrointestinal pain</td>\n",
       "    </tr>\n",
       "    <tr>\n",
       "      <th>4</th>\n",
       "      <td>CID100000085</td>\n",
       "      <td>CID000010917</td>\n",
       "      <td>C0000737</td>\n",
       "      <td>PT</td>\n",
       "      <td>C0000737</td>\n",
       "      <td>Abdominal pain</td>\n",
       "    </tr>\n",
       "  </tbody>\n",
       "</table>\n",
       "</div>"
      ],
      "text/plain": [
       "  STITCH ID flat STITCH ID stereo UMLS Concept Type Concept Type  \\\n",
       "0   CID100000085     CID000010917          C0000729          LLT   \n",
       "1   CID100000085     CID000010917          C0000729           PT   \n",
       "2   CID100000085     CID000010917          C0000737          LLT   \n",
       "3   CID100000085     CID000010917          C0000737           PT   \n",
       "4   CID100000085     CID000010917          C0000737           PT   \n",
       "\n",
       "  UMLS Concept ID            Side Effect  \n",
       "0        C0000729       Abdominal cramps  \n",
       "1        C0000737         Abdominal pain  \n",
       "2        C0000737         Abdominal pain  \n",
       "3        C0687713  Gastrointestinal pain  \n",
       "4        C0000737         Abdominal pain  "
      ]
     },
     "execution_count": 3,
     "metadata": {},
     "output_type": "execute_result"
    }
   ],
   "source": [
    "df_with_concepts.head()"
   ]
  },
  {
   "cell_type": "markdown",
   "metadata": {},
   "source": [
    "#### Load Stitch to PubChem ID table"
   ]
  },
  {
   "cell_type": "code",
   "execution_count": null,
   "metadata": {},
   "outputs": [],
   "source": [
    "# stitch_PCID = pd.read_table('Input/Stitch_chemname_ID.tsv')"
   ]
  },
  {
   "cell_type": "code",
   "execution_count": null,
   "metadata": {},
   "outputs": [],
   "source": [
    "# stitch_PCID.head()"
   ]
  },
  {
   "cell_type": "markdown",
   "metadata": {},
   "source": [
    "#### Load LINCS Small Molecules"
   ]
  },
  {
   "cell_type": "code",
   "execution_count": 56,
   "metadata": {},
   "outputs": [],
   "source": [
    "lincs = pd.read_csv('Input/LINCS_SmallMolecules.csv', encoding = 'ISO-8859-1')"
   ]
  },
  {
   "cell_type": "code",
   "execution_count": 57,
   "metadata": {},
   "outputs": [
    {
     "data": {
      "text/html": [
       "<div>\n",
       "<style scoped>\n",
       "    .dataframe tbody tr th:only-of-type {\n",
       "        vertical-align: middle;\n",
       "    }\n",
       "\n",
       "    .dataframe tbody tr th {\n",
       "        vertical-align: top;\n",
       "    }\n",
       "\n",
       "    .dataframe thead th {\n",
       "        text-align: right;\n",
       "    }\n",
       "</style>\n",
       "<table border=\"1\" class=\"dataframe\">\n",
       "  <thead>\n",
       "    <tr style=\"text-align: right;\">\n",
       "      <th></th>\n",
       "      <th>SM_Name</th>\n",
       "      <th>SM_LINCS_ID</th>\n",
       "      <th>SM_Alternative_Name</th>\n",
       "      <th>SM_PubChem_CID</th>\n",
       "      <th>SM_SMILES_Parent</th>\n",
       "      <th>SM_SMILES_Batch</th>\n",
       "      <th>SM_InChi_Parent</th>\n",
       "      <th>SM_Molecular_Mass</th>\n",
       "      <th>MOLECULAR_FORMULA</th>\n",
       "      <th>SM_ChEBI_ID</th>\n",
       "    </tr>\n",
       "  </thead>\n",
       "  <tbody>\n",
       "    <tr>\n",
       "      <th>0</th>\n",
       "      <td>Dichlobenil</td>\n",
       "      <td>LSM-19017</td>\n",
       "      <td>NaN</td>\n",
       "      <td>3031.0</td>\n",
       "      <td>Clc1cccc(Cl)c1C#N</td>\n",
       "      <td>NaN</td>\n",
       "      <td>InChI=1S/C7H3Cl2N/c8-6-2-1-3-7(9)5(6)4-10/h1-3H</td>\n",
       "      <td>172.01</td>\n",
       "      <td>C7H3Cl2N</td>\n",
       "      <td>943</td>\n",
       "    </tr>\n",
       "    <tr>\n",
       "      <th>1</th>\n",
       "      <td>AC1NWAJC</td>\n",
       "      <td>LSM-43967</td>\n",
       "      <td>Vulpinic acid</td>\n",
       "      <td>5701993.0</td>\n",
       "      <td>COC(=O)\\C(=C\\1/OC(=O)C(C1=O)c2ccccc2)\\c3ccccc3</td>\n",
       "      <td>NaN</td>\n",
       "      <td>InChI=1S/C19H14O5/c1-23-18(21)15(13-10-6-3-7-1...</td>\n",
       "      <td>322.31</td>\n",
       "      <td>C19H14O5</td>\n",
       "      <td>NaN</td>\n",
       "    </tr>\n",
       "    <tr>\n",
       "      <th>2</th>\n",
       "      <td>Sinapic Acid Methyl Ether</td>\n",
       "      <td>LSM-44124</td>\n",
       "      <td>NaN</td>\n",
       "      <td>735755.0</td>\n",
       "      <td>COc1cc(\\C=C\\C(=O)O)cc(OC)c1OC</td>\n",
       "      <td>NaN</td>\n",
       "      <td>InChI=1S/C12H14O5/c1-15-9-6-8(4-5-11(13)14)7-1...</td>\n",
       "      <td>238.24</td>\n",
       "      <td>C12H14O5</td>\n",
       "      <td>NaN</td>\n",
       "    </tr>\n",
       "    <tr>\n",
       "      <th>3</th>\n",
       "      <td>Ferulic acid</td>\n",
       "      <td>LSM-44126</td>\n",
       "      <td>Ferulic acid</td>\n",
       "      <td>445858.0</td>\n",
       "      <td>COc1cc(\\C=C\\C(=O)O)ccc1O</td>\n",
       "      <td>NaN</td>\n",
       "      <td>InChI=1S/C10H10O4/c1-14-9-6-7(2-4-8(9)11)3-5-1...</td>\n",
       "      <td>194.18</td>\n",
       "      <td>C10H10O4</td>\n",
       "      <td>17620</td>\n",
       "    </tr>\n",
       "    <tr>\n",
       "      <th>4</th>\n",
       "      <td>Pinosylvin Methyl Ether</td>\n",
       "      <td>LSM-43902</td>\n",
       "      <td>NaN</td>\n",
       "      <td>5281719.0</td>\n",
       "      <td>COc1cc(O)cc(\\C=C\\c2ccccc2)c1</td>\n",
       "      <td>NaN</td>\n",
       "      <td>InChI=1S/C15H14O2/c1-17-15-10-13(9-14(16)11-15...</td>\n",
       "      <td>226.27</td>\n",
       "      <td>C15H14O2</td>\n",
       "      <td>8227</td>\n",
       "    </tr>\n",
       "  </tbody>\n",
       "</table>\n",
       "</div>"
      ],
      "text/plain": [
       "                     SM_Name SM_LINCS_ID SM_Alternative_Name  SM_PubChem_CID  \\\n",
       "0                Dichlobenil   LSM-19017                 NaN          3031.0   \n",
       "1                   AC1NWAJC   LSM-43967       Vulpinic acid       5701993.0   \n",
       "2  Sinapic Acid Methyl Ether   LSM-44124                 NaN        735755.0   \n",
       "3               Ferulic acid   LSM-44126        Ferulic acid        445858.0   \n",
       "4    Pinosylvin Methyl Ether   LSM-43902                 NaN       5281719.0   \n",
       "\n",
       "                                 SM_SMILES_Parent  SM_SMILES_Batch  \\\n",
       "0                               Clc1cccc(Cl)c1C#N              NaN   \n",
       "1  COC(=O)\\C(=C\\1/OC(=O)C(C1=O)c2ccccc2)\\c3ccccc3              NaN   \n",
       "2                   COc1cc(\\C=C\\C(=O)O)cc(OC)c1OC              NaN   \n",
       "3                        COc1cc(\\C=C\\C(=O)O)ccc1O              NaN   \n",
       "4                    COc1cc(O)cc(\\C=C\\c2ccccc2)c1              NaN   \n",
       "\n",
       "                                     SM_InChi_Parent  SM_Molecular_Mass  \\\n",
       "0    InChI=1S/C7H3Cl2N/c8-6-2-1-3-7(9)5(6)4-10/h1-3H             172.01   \n",
       "1  InChI=1S/C19H14O5/c1-23-18(21)15(13-10-6-3-7-1...             322.31   \n",
       "2  InChI=1S/C12H14O5/c1-15-9-6-8(4-5-11(13)14)7-1...             238.24   \n",
       "3  InChI=1S/C10H10O4/c1-14-9-6-7(2-4-8(9)11)3-5-1...             194.18   \n",
       "4  InChI=1S/C15H14O2/c1-17-15-10-13(9-14(16)11-15...             226.27   \n",
       "\n",
       "  MOLECULAR_FORMULA SM_ChEBI_ID  \n",
       "0          C7H3Cl2N         943  \n",
       "1          C19H14O5         NaN  \n",
       "2          C12H14O5         NaN  \n",
       "3          C10H10O4       17620  \n",
       "4          C15H14O2        8227  "
      ]
     },
     "execution_count": 57,
     "metadata": {},
     "output_type": "execute_result"
    }
   ],
   "source": [
    "lincs.head()"
   ]
  },
  {
   "cell_type": "markdown",
   "metadata": {},
   "source": [
    "## Drop duplicates in the DF"
   ]
  },
  {
   "cell_type": "code",
   "execution_count": 4,
   "metadata": {},
   "outputs": [],
   "source": [
    "df = df_with_concepts.drop(columns = ['UMLS Concept Type','Concept Type'])"
   ]
  },
  {
   "cell_type": "code",
   "execution_count": 5,
   "metadata": {},
   "outputs": [],
   "source": [
    "df = df.drop_duplicates()"
   ]
  },
  {
   "cell_type": "code",
   "execution_count": 6,
   "metadata": {},
   "outputs": [
    {
     "data": {
      "text/html": [
       "<div>\n",
       "<style scoped>\n",
       "    .dataframe tbody tr th:only-of-type {\n",
       "        vertical-align: middle;\n",
       "    }\n",
       "\n",
       "    .dataframe tbody tr th {\n",
       "        vertical-align: top;\n",
       "    }\n",
       "\n",
       "    .dataframe thead th {\n",
       "        text-align: right;\n",
       "    }\n",
       "</style>\n",
       "<table border=\"1\" class=\"dataframe\">\n",
       "  <thead>\n",
       "    <tr style=\"text-align: right;\">\n",
       "      <th></th>\n",
       "      <th>STITCH ID flat</th>\n",
       "      <th>STITCH ID stereo</th>\n",
       "      <th>UMLS Concept ID</th>\n",
       "      <th>Side Effect</th>\n",
       "    </tr>\n",
       "  </thead>\n",
       "  <tbody>\n",
       "    <tr>\n",
       "      <th>0</th>\n",
       "      <td>CID100000085</td>\n",
       "      <td>CID000010917</td>\n",
       "      <td>C0000729</td>\n",
       "      <td>Abdominal cramps</td>\n",
       "    </tr>\n",
       "    <tr>\n",
       "      <th>1</th>\n",
       "      <td>CID100000085</td>\n",
       "      <td>CID000010917</td>\n",
       "      <td>C0000737</td>\n",
       "      <td>Abdominal pain</td>\n",
       "    </tr>\n",
       "    <tr>\n",
       "      <th>3</th>\n",
       "      <td>CID100000085</td>\n",
       "      <td>CID000010917</td>\n",
       "      <td>C0687713</td>\n",
       "      <td>Gastrointestinal pain</td>\n",
       "    </tr>\n",
       "    <tr>\n",
       "      <th>5</th>\n",
       "      <td>CID100000085</td>\n",
       "      <td>CID000010917</td>\n",
       "      <td>C0002418</td>\n",
       "      <td>Amblyopia</td>\n",
       "    </tr>\n",
       "    <tr>\n",
       "      <th>7</th>\n",
       "      <td>CID100000085</td>\n",
       "      <td>CID000010917</td>\n",
       "      <td>C0002871</td>\n",
       "      <td>Anaemia</td>\n",
       "    </tr>\n",
       "  </tbody>\n",
       "</table>\n",
       "</div>"
      ],
      "text/plain": [
       "  STITCH ID flat STITCH ID stereo UMLS Concept ID            Side Effect\n",
       "0   CID100000085     CID000010917        C0000729       Abdominal cramps\n",
       "1   CID100000085     CID000010917        C0000737         Abdominal pain\n",
       "3   CID100000085     CID000010917        C0687713  Gastrointestinal pain\n",
       "5   CID100000085     CID000010917        C0002418              Amblyopia\n",
       "7   CID100000085     CID000010917        C0002871                Anaemia"
      ]
     },
     "execution_count": 6,
     "metadata": {},
     "output_type": "execute_result"
    }
   ],
   "source": [
    "df.head()"
   ]
  },
  {
   "cell_type": "code",
   "execution_count": 7,
   "metadata": {},
   "outputs": [
    {
     "data": {
      "text/plain": [
       "(171382, 4)"
      ]
     },
     "execution_count": 7,
     "metadata": {},
     "output_type": "execute_result"
    }
   ],
   "source": [
    "df.shape"
   ]
  },
  {
   "cell_type": "code",
   "execution_count": 8,
   "metadata": {},
   "outputs": [
    {
     "data": {
      "text/plain": [
       "1430"
      ]
     },
     "execution_count": 8,
     "metadata": {},
     "output_type": "execute_result"
    }
   ],
   "source": [
    "len(df['STITCH ID flat'].unique())"
   ]
  },
  {
   "cell_type": "markdown",
   "metadata": {},
   "source": [
    "## Get Drug Name from Stitch API and make dictionary"
   ]
  },
  {
   "cell_type": "code",
   "execution_count": 11,
   "metadata": {},
   "outputs": [
    {
     "data": {
      "text/plain": [
       "(1430,)"
      ]
     },
     "execution_count": 11,
     "metadata": {},
     "output_type": "execute_result"
    }
   ],
   "source": [
    "stitch_ID_df = df['STITCH ID flat']\n",
    "stitch_ID_df = stitch_ID_df.drop_duplicates()\n",
    "stitch_ID_df.shape"
   ]
  },
  {
   "cell_type": "code",
   "execution_count": null,
   "metadata": {},
   "outputs": [],
   "source": [
    "stitch_ID_list = stitch_ID_df.tolist()\n",
    "failed_to_get_name = 0\n",
    "drug_name_dict = {}\n",
    "\n",
    "for stitch_ID in stitch_ID_list:\n",
    "    url = 'http://stitch.embl.de/api/json/resolve?identifier=' + stitch_ID\n",
    "    response = requests.get(url)\n",
    "    try:\n",
    "        response.json()\n",
    "    except ValueError:\n",
    "        continue\n",
    "    if 'annotation' in response.json()[0].keys():\n",
    "        drug_name = response.json()[0]['annotation']\n",
    "        drug_name_dict[stitch_ID] = drug_name\n",
    "    else:\n",
    "        failed_to_get_name +=1\n",
    "    \n",
    "    if len(drug_name_dict) % 50 == 0:\n",
    "        print(stitch_ID_list.index(stitch_ID))\n",
    "    \n",
    "\n",
    "print(failed_to_get_name)\n",
    "print(len(drug_name_dict))\n",
    "print(len(stitch_ID_list))\n"
   ]
  },
  {
   "cell_type": "code",
   "execution_count": null,
   "metadata": {},
   "outputs": [],
   "source": [
    "# drug_names = []\n",
    "# for index, row in df.iterrows():\n",
    "#     stitch_ID = row.loc['STITCH ID flat']\n",
    "#     if stitch_ID not in drug_name_dict:\n",
    "#         df.drop(index, inplace = True)\n",
    "#     else: \n",
    "#         drug_names.append(int(drug_name_dict[drugname]))\n",
    "\n",
    "# df.loc[:,'Drug Names'] = pd.Series(np.array(drug_names), index=df.index)"
   ]
  },
  {
   "cell_type": "markdown",
   "metadata": {},
   "source": [
    "## Get PubChem ID and Map to Drug Name"
   ]
  },
  {
   "cell_type": "code",
   "execution_count": null,
   "metadata": {},
   "outputs": [],
   "source": [
    "# namesdf = df['Drug Name']\n",
    "# namesdf = namesdf.drop_duplicates()\n",
    "# namesdf.shape"
   ]
  },
  {
   "cell_type": "code",
   "execution_count": null,
   "metadata": {
    "scrolled": true
   },
   "outputs": [],
   "source": [
    "# nameslist = namesdf.tolist()\n",
    "\n",
    "\n",
    "\n",
    "failed_to_get_CID = 0\n",
    "CID_dict = {}\n",
    "count = 0\n",
    "\n",
    "for ID, name in drug_name_dict.items():\n",
    "    count += 1\n",
    "    name = name.replace(' ', '%20')\n",
    "    url = 'https://pubchem.ncbi.nlm.nih.gov/rest/pug/compound/name/' + name + '/cids/JSON'\n",
    "    response = requests.get(url)\n",
    "    try:\n",
    "        response.json()\n",
    "    except ValueError:\n",
    "        continue\n",
    "    if 'IdentifierList' in response.json().keys():\n",
    "        CID = response.json()['IdentifierList']['CID'][0]\n",
    "#         name = name.replace('%20', ' ')\n",
    "        CID_dict[ID] = CID\n",
    "    else:\n",
    "        failed_to_get_CID += 1\n",
    "        \n",
    "    if len(CID_dict) % 50 == 0:\n",
    "#         name = name.replace('%20',' ')\n",
    "        print(count)\n",
    "\n",
    "\n",
    "print(failed_to_get_CID)\n",
    "print(len(CID_dict))\n",
    "print(len(drug_name_dict))"
   ]
  },
  {
   "cell_type": "code",
   "execution_count": null,
   "metadata": {
    "scrolled": true
   },
   "outputs": [],
   "source": [
    "CIDs = []\n",
    "for index, row in df.iterrows():\n",
    "    stitch_id = row.loc['STITCH ID flat']\n",
    "    if stitch_id not in CID_dict:\n",
    "        df.drop(index, inplace = True)\n",
    "    else: \n",
    "        CIDs.append(int(CID_dict[stitch_id]))\n",
    "    if index % 1000 == 0:\n",
    "        print(index)\n",
    "\n",
    "df.loc[:,'CIDs'] = pd.Series(np.array(CIDs), index=df.index)"
   ]
  },
  {
   "cell_type": "code",
   "execution_count": 61,
   "metadata": {},
   "outputs": [
    {
     "data": {
      "text/plain": [
       "(102274, 5)"
      ]
     },
     "execution_count": 61,
     "metadata": {},
     "output_type": "execute_result"
    }
   ],
   "source": [
    "df.shape"
   ]
  },
  {
   "cell_type": "markdown",
   "metadata": {},
   "source": [
    "## Filter by LINCS Approved Small Molecules"
   ]
  },
  {
   "cell_type": "code",
   "execution_count": 59,
   "metadata": {},
   "outputs": [
    {
     "name": "stdout",
     "output_type": "stream",
     "text": [
      "48904\n"
     ]
    }
   ],
   "source": [
    "count = 0\n",
    "for index, row in df.iterrows():\n",
    "    CID = row.loc['CIDs']\n",
    "    if CID not in lincs['SM_PubChem_CID'].values:\n",
    "        df.drop(index, inplace = True)\n",
    "        count += 1\n",
    "        \n",
    "print(count)"
   ]
  },
  {
   "cell_type": "markdown",
   "metadata": {},
   "source": [
    "## Make Binary Matrix"
   ]
  },
  {
   "cell_type": "code",
   "execution_count": 63,
   "metadata": {},
   "outputs": [],
   "source": [
    "grouped_df = df.groupby(['UMLS Concept ID'])['CIDs'].apply(lambda x: ','.join(x.astype(str))).reset_index()"
   ]
  },
  {
   "cell_type": "code",
   "execution_count": 64,
   "metadata": {},
   "outputs": [
    {
     "data": {
      "text/plain": [
       "5078"
      ]
     },
     "execution_count": 64,
     "metadata": {},
     "output_type": "execute_result"
    }
   ],
   "source": [
    "grouped_df.set_index('UMLS Concept ID', inplace=True)\n",
    "grouped_df = grouped_df.sort_index()\n",
    "len(df['UMLS Concept ID'].unique())"
   ]
  },
  {
   "cell_type": "code",
   "execution_count": 65,
   "metadata": {},
   "outputs": [],
   "source": [
    "grouped_matrix = grouped_df.iloc[:,0].str.get_dummies(sep=',')"
   ]
  },
  {
   "cell_type": "code",
   "execution_count": 66,
   "metadata": {},
   "outputs": [
    {
     "data": {
      "text/html": [
       "<div>\n",
       "<style scoped>\n",
       "    .dataframe tbody tr th:only-of-type {\n",
       "        vertical-align: middle;\n",
       "    }\n",
       "\n",
       "    .dataframe tbody tr th {\n",
       "        vertical-align: top;\n",
       "    }\n",
       "\n",
       "    .dataframe thead th {\n",
       "        text-align: right;\n",
       "    }\n",
       "</style>\n",
       "<table border=\"1\" class=\"dataframe\">\n",
       "  <thead>\n",
       "    <tr style=\"text-align: right;\">\n",
       "      <th></th>\n",
       "      <th>10096344</th>\n",
       "      <th>10182969</th>\n",
       "      <th>10184653</th>\n",
       "      <th>1046</th>\n",
       "      <th>104741</th>\n",
       "      <th>104758</th>\n",
       "      <th>104850</th>\n",
       "      <th>104865</th>\n",
       "      <th>10531</th>\n",
       "      <th>1054</th>\n",
       "      <th>...</th>\n",
       "      <th>9853053</th>\n",
       "      <th>9869929</th>\n",
       "      <th>9878</th>\n",
       "      <th>9880</th>\n",
       "      <th>9904</th>\n",
       "      <th>9924495</th>\n",
       "      <th>9926791</th>\n",
       "      <th>9930049</th>\n",
       "      <th>9941444</th>\n",
       "      <th>9966051</th>\n",
       "    </tr>\n",
       "    <tr>\n",
       "      <th>UMLS Concept ID</th>\n",
       "      <th></th>\n",
       "      <th></th>\n",
       "      <th></th>\n",
       "      <th></th>\n",
       "      <th></th>\n",
       "      <th></th>\n",
       "      <th></th>\n",
       "      <th></th>\n",
       "      <th></th>\n",
       "      <th></th>\n",
       "      <th></th>\n",
       "      <th></th>\n",
       "      <th></th>\n",
       "      <th></th>\n",
       "      <th></th>\n",
       "      <th></th>\n",
       "      <th></th>\n",
       "      <th></th>\n",
       "      <th></th>\n",
       "      <th></th>\n",
       "      <th></th>\n",
       "    </tr>\n",
       "  </thead>\n",
       "  <tbody>\n",
       "    <tr>\n",
       "      <th>C0000727</th>\n",
       "      <td>0</td>\n",
       "      <td>0</td>\n",
       "      <td>0</td>\n",
       "      <td>0</td>\n",
       "      <td>0</td>\n",
       "      <td>0</td>\n",
       "      <td>0</td>\n",
       "      <td>0</td>\n",
       "      <td>0</td>\n",
       "      <td>0</td>\n",
       "      <td>...</td>\n",
       "      <td>0</td>\n",
       "      <td>0</td>\n",
       "      <td>0</td>\n",
       "      <td>0</td>\n",
       "      <td>0</td>\n",
       "      <td>0</td>\n",
       "      <td>0</td>\n",
       "      <td>0</td>\n",
       "      <td>0</td>\n",
       "      <td>0</td>\n",
       "    </tr>\n",
       "    <tr>\n",
       "      <th>C0000729</th>\n",
       "      <td>0</td>\n",
       "      <td>0</td>\n",
       "      <td>0</td>\n",
       "      <td>0</td>\n",
       "      <td>0</td>\n",
       "      <td>0</td>\n",
       "      <td>0</td>\n",
       "      <td>0</td>\n",
       "      <td>0</td>\n",
       "      <td>0</td>\n",
       "      <td>...</td>\n",
       "      <td>0</td>\n",
       "      <td>0</td>\n",
       "      <td>0</td>\n",
       "      <td>0</td>\n",
       "      <td>0</td>\n",
       "      <td>0</td>\n",
       "      <td>0</td>\n",
       "      <td>0</td>\n",
       "      <td>0</td>\n",
       "      <td>0</td>\n",
       "    </tr>\n",
       "    <tr>\n",
       "      <th>C0000731</th>\n",
       "      <td>0</td>\n",
       "      <td>0</td>\n",
       "      <td>0</td>\n",
       "      <td>0</td>\n",
       "      <td>0</td>\n",
       "      <td>0</td>\n",
       "      <td>0</td>\n",
       "      <td>1</td>\n",
       "      <td>0</td>\n",
       "      <td>0</td>\n",
       "      <td>...</td>\n",
       "      <td>1</td>\n",
       "      <td>0</td>\n",
       "      <td>0</td>\n",
       "      <td>0</td>\n",
       "      <td>0</td>\n",
       "      <td>0</td>\n",
       "      <td>0</td>\n",
       "      <td>0</td>\n",
       "      <td>1</td>\n",
       "      <td>0</td>\n",
       "    </tr>\n",
       "    <tr>\n",
       "      <th>C0000735</th>\n",
       "      <td>0</td>\n",
       "      <td>0</td>\n",
       "      <td>0</td>\n",
       "      <td>0</td>\n",
       "      <td>0</td>\n",
       "      <td>0</td>\n",
       "      <td>0</td>\n",
       "      <td>0</td>\n",
       "      <td>0</td>\n",
       "      <td>0</td>\n",
       "      <td>...</td>\n",
       "      <td>0</td>\n",
       "      <td>0</td>\n",
       "      <td>0</td>\n",
       "      <td>0</td>\n",
       "      <td>0</td>\n",
       "      <td>0</td>\n",
       "      <td>0</td>\n",
       "      <td>0</td>\n",
       "      <td>0</td>\n",
       "      <td>0</td>\n",
       "    </tr>\n",
       "    <tr>\n",
       "      <th>C0000737</th>\n",
       "      <td>0</td>\n",
       "      <td>0</td>\n",
       "      <td>0</td>\n",
       "      <td>0</td>\n",
       "      <td>1</td>\n",
       "      <td>1</td>\n",
       "      <td>1</td>\n",
       "      <td>1</td>\n",
       "      <td>1</td>\n",
       "      <td>0</td>\n",
       "      <td>...</td>\n",
       "      <td>1</td>\n",
       "      <td>0</td>\n",
       "      <td>0</td>\n",
       "      <td>0</td>\n",
       "      <td>0</td>\n",
       "      <td>0</td>\n",
       "      <td>1</td>\n",
       "      <td>0</td>\n",
       "      <td>1</td>\n",
       "      <td>0</td>\n",
       "    </tr>\n",
       "  </tbody>\n",
       "</table>\n",
       "<p>5 rows × 734 columns</p>\n",
       "</div>"
      ],
      "text/plain": [
       "                 10096344  10182969  10184653  1046  104741  104758  104850  \\\n",
       "UMLS Concept ID                                                               \n",
       "C0000727                0         0         0     0       0       0       0   \n",
       "C0000729                0         0         0     0       0       0       0   \n",
       "C0000731                0         0         0     0       0       0       0   \n",
       "C0000735                0         0         0     0       0       0       0   \n",
       "C0000737                0         0         0     0       1       1       1   \n",
       "\n",
       "                 104865  10531  1054   ...     9853053  9869929  9878  9880  \\\n",
       "UMLS Concept ID                        ...                                    \n",
       "C0000727              0      0     0   ...           0        0     0     0   \n",
       "C0000729              0      0     0   ...           0        0     0     0   \n",
       "C0000731              1      0     0   ...           1        0     0     0   \n",
       "C0000735              0      0     0   ...           0        0     0     0   \n",
       "C0000737              1      1     0   ...           1        0     0     0   \n",
       "\n",
       "                 9904  9924495  9926791  9930049  9941444  9966051  \n",
       "UMLS Concept ID                                                     \n",
       "C0000727            0        0        0        0        0        0  \n",
       "C0000729            0        0        0        0        0        0  \n",
       "C0000731            0        0        0        0        1        0  \n",
       "C0000735            0        0        0        0        0        0  \n",
       "C0000737            0        0        1        0        1        0  \n",
       "\n",
       "[5 rows x 734 columns]"
      ]
     },
     "execution_count": 66,
     "metadata": {},
     "output_type": "execute_result"
    }
   ],
   "source": [
    "grouped_matrix.head()"
   ]
  },
  {
   "cell_type": "code",
   "execution_count": 67,
   "metadata": {},
   "outputs": [
    {
     "data": {
      "text/plain": [
       "(5077, 734)"
      ]
     },
     "execution_count": 67,
     "metadata": {},
     "output_type": "execute_result"
    }
   ],
   "source": [
    "grouped_matrix.shape"
   ]
  },
  {
   "cell_type": "markdown",
   "metadata": {},
   "source": [
    "## Save Binary Matrix"
   ]
  },
  {
   "cell_type": "code",
   "execution_count": 68,
   "metadata": {},
   "outputs": [],
   "source": [
    "filename = 'Output/Sider_SE_%s.tsv.zip'% str(datetime.date.today())[0:7].replace('-', '_')\n",
    "grouped_matrix.to_csv(filename, sep='\\t', compression='gzip')"
   ]
  },
  {
   "cell_type": "markdown",
   "metadata": {},
   "source": [
    "## Convert Binary Matrix to GMT and Save as GMT"
   ]
  },
  {
   "cell_type": "code",
   "execution_count": 69,
   "metadata": {},
   "outputs": [],
   "source": [
    "drugset_library = []\n",
    "for index, row in grouped_matrix.iterrows():\n",
    "    drugset = []\n",
    "    drugset.append(index)\n",
    "    drugset.append('')\n",
    "    for i in range(grouped_matrix.shape[1]):\n",
    "        if row.iloc[i]==1:\n",
    "            drugset.append(row.index[i])\n",
    "    if len(drugset) >= 7:\n",
    "        drugset_library.append(drugset)\n",
    "dsl = np.array(drugset_library)"
   ]
  },
  {
   "cell_type": "code",
   "execution_count": 70,
   "metadata": {},
   "outputs": [
    {
     "data": {
      "text/plain": [
       "645"
      ]
     },
     "execution_count": 70,
     "metadata": {},
     "output_type": "execute_result"
    }
   ],
   "source": [
    "len(max(dsl, key=len))"
   ]
  },
  {
   "cell_type": "code",
   "execution_count": 71,
   "metadata": {},
   "outputs": [],
   "source": [
    "filename = 'Output/Sider_SE_DrugSetLibrary_%s.gmt'% str(datetime.date.today())[0:7].replace('-', '_')\n",
    "with open(filename,'w',encoding='utf-8') as f:\n",
    "    for row in dsl:\n",
    "        np.savetxt(f, [row], fmt = '%s',delimiter = '\\t')"
   ]
  },
  {
   "cell_type": "code",
   "execution_count": null,
   "metadata": {},
   "outputs": [],
   "source": []
  }
 ],
 "metadata": {
  "kernelspec": {
   "display_name": "Python 3",
   "language": "python",
   "name": "python3"
  },
  "language_info": {
   "codemirror_mode": {
    "name": "ipython",
    "version": 3
   },
   "file_extension": ".py",
   "mimetype": "text/x-python",
   "name": "python",
   "nbconvert_exporter": "python",
   "pygments_lexer": "ipython3",
   "version": "3.6.5"
  }
 },
 "nbformat": 4,
 "nbformat_minor": 2
}
