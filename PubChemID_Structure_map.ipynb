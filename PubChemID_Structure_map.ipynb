{
 "cells": [
  {
   "cell_type": "markdown",
   "metadata": {},
   "source": [
    "## Import Libraries"
   ]
  },
  {
   "cell_type": "code",
   "execution_count": 132,
   "metadata": {},
   "outputs": [],
   "source": [
    "import numpy as np\n",
    "import pandas as pd\n",
    "from scipy.spatial.distance import squareform, pdist,jaccard\n",
    "import sys,  datetime, os\n",
    "import requests"
   ]
  },
  {
   "cell_type": "code",
   "execution_count": 133,
   "metadata": {},
   "outputs": [],
   "source": [
    "from rdkit import Chem"
   ]
  },
  {
   "cell_type": "markdown",
   "metadata": {},
   "source": [
    "## Load and edit DrugBank targets data"
   ]
  },
  {
   "cell_type": "code",
   "execution_count": 134,
   "metadata": {},
   "outputs": [],
   "source": [
    "drugbank_targets = pd.read_table('Output/DrugBank_Targets_2018_06.tsv')"
   ]
  },
  {
   "cell_type": "code",
   "execution_count": 139,
   "metadata": {},
   "outputs": [
    {
     "data": {
      "text/plain": [
       "['Targets', '10071196.0', '10096344.0', '10109823.0', '10113978.0']"
      ]
     },
     "execution_count": 139,
     "metadata": {},
     "output_type": "execute_result"
    }
   ],
   "source": [
    "list(drugbank_targets)[:5]"
   ]
  },
  {
   "cell_type": "markdown",
   "metadata": {},
   "source": [
    "## Make Initial Data"
   ]
  },
  {
   "cell_type": "code",
   "execution_count": 140,
   "metadata": {},
   "outputs": [],
   "source": [
    "drugbank_targetsdf = pd.DataFrame(list(drugbank_targets)[1:])"
   ]
  },
  {
   "cell_type": "code",
   "execution_count": 141,
   "metadata": {},
   "outputs": [],
   "source": [
    "drugbank_targetsdf = drugbank_targetsdf.rename(index=str, columns = {0:'PCIDs'})"
   ]
  },
  {
   "cell_type": "code",
   "execution_count": 142,
   "metadata": {},
   "outputs": [
    {
     "data": {
      "text/html": [
       "<div>\n",
       "<style scoped>\n",
       "    .dataframe tbody tr th:only-of-type {\n",
       "        vertical-align: middle;\n",
       "    }\n",
       "\n",
       "    .dataframe tbody tr th {\n",
       "        vertical-align: top;\n",
       "    }\n",
       "\n",
       "    .dataframe thead th {\n",
       "        text-align: right;\n",
       "    }\n",
       "</style>\n",
       "<table border=\"1\" class=\"dataframe\">\n",
       "  <thead>\n",
       "    <tr style=\"text-align: right;\">\n",
       "      <th></th>\n",
       "      <th>PCIDs</th>\n",
       "    </tr>\n",
       "  </thead>\n",
       "  <tbody>\n",
       "    <tr>\n",
       "      <th>0</th>\n",
       "      <td>10071196.0</td>\n",
       "    </tr>\n",
       "    <tr>\n",
       "      <th>1</th>\n",
       "      <td>10096344.0</td>\n",
       "    </tr>\n",
       "    <tr>\n",
       "      <th>2</th>\n",
       "      <td>10109823.0</td>\n",
       "    </tr>\n",
       "    <tr>\n",
       "      <th>3</th>\n",
       "      <td>10113978.0</td>\n",
       "    </tr>\n",
       "    <tr>\n",
       "      <th>4</th>\n",
       "      <td>10140.0</td>\n",
       "    </tr>\n",
       "  </tbody>\n",
       "</table>\n",
       "</div>"
      ],
      "text/plain": [
       "        PCIDs\n",
       "0  10071196.0\n",
       "1  10096344.0\n",
       "2  10109823.0\n",
       "3  10113978.0\n",
       "4     10140.0"
      ]
     },
     "execution_count": 142,
     "metadata": {},
     "output_type": "execute_result"
    }
   ],
   "source": [
    "drugbank_targetsdf.head()"
   ]
  },
  {
   "cell_type": "markdown",
   "metadata": {},
   "source": [
    "## Get PCIDs from all datasets and add it to the df"
   ]
  },
  {
   "cell_type": "code",
   "execution_count": 143,
   "metadata": {},
   "outputs": [],
   "source": [
    "chembl_moa = pd.read_table('Output/ChEMBL_MOA_2018_06.tsv')\n",
    "chembldf = pd.DataFrame(list(chembl_moa)[1:])\n",
    "chembldf = chembldf.rename(index=str, columns = {0:'PCIDs'})"
   ]
  },
  {
   "cell_type": "code",
   "execution_count": 144,
   "metadata": {},
   "outputs": [
    {
     "data": {
      "text/html": [
       "<div>\n",
       "<style scoped>\n",
       "    .dataframe tbody tr th:only-of-type {\n",
       "        vertical-align: middle;\n",
       "    }\n",
       "\n",
       "    .dataframe tbody tr th {\n",
       "        vertical-align: top;\n",
       "    }\n",
       "\n",
       "    .dataframe thead th {\n",
       "        text-align: right;\n",
       "    }\n",
       "</style>\n",
       "<table border=\"1\" class=\"dataframe\">\n",
       "  <thead>\n",
       "    <tr style=\"text-align: right;\">\n",
       "      <th></th>\n",
       "      <th>PCIDs</th>\n",
       "    </tr>\n",
       "  </thead>\n",
       "  <tbody>\n",
       "    <tr>\n",
       "      <th>0</th>\n",
       "      <td>10026128</td>\n",
       "    </tr>\n",
       "    <tr>\n",
       "      <th>1</th>\n",
       "      <td>10029385</td>\n",
       "    </tr>\n",
       "    <tr>\n",
       "      <th>2</th>\n",
       "      <td>10052040</td>\n",
       "    </tr>\n",
       "    <tr>\n",
       "      <th>3</th>\n",
       "      <td>10074640</td>\n",
       "    </tr>\n",
       "    <tr>\n",
       "      <th>4</th>\n",
       "      <td>10090485</td>\n",
       "    </tr>\n",
       "  </tbody>\n",
       "</table>\n",
       "</div>"
      ],
      "text/plain": [
       "      PCIDs\n",
       "0  10026128\n",
       "1  10029385\n",
       "2  10052040\n",
       "3  10074640\n",
       "4  10090485"
      ]
     },
     "execution_count": 144,
     "metadata": {},
     "output_type": "execute_result"
    }
   ],
   "source": [
    "chembldf.head()"
   ]
  },
  {
   "cell_type": "code",
   "execution_count": 145,
   "metadata": {},
   "outputs": [],
   "source": [
    "drugcentral_targets = pd.read_table('Output/DrugCentral_Targets_2018_06.tsv')\n",
    "drugcentral_targetsdf = pd.DataFrame(list(drugcentral_targets)[1:])\n",
    "drugcentral_targetsdf = drugcentral_targetsdf.rename(index=str, columns = {0:'PCIDs'})"
   ]
  },
  {
   "cell_type": "code",
   "execution_count": 146,
   "metadata": {},
   "outputs": [],
   "source": [
    "druggeneinteract_targets = pd.read_table('Output/DrugGeneInteract_Targets_2018_06.tsv')\n",
    "druggeneinteract_targetsdf = pd.DataFrame(list(druggeneinteract_targets)[1:])\n",
    "druggeneinteract_targetsdf = druggeneinteract_targetsdf.rename(index=str, columns = {0:'PCIDs'})"
   ]
  },
  {
   "cell_type": "code",
   "execution_count": 147,
   "metadata": {},
   "outputs": [],
   "source": [
    "drugindict_indict = pd.read_table('Output/DrugIndicationDB_Indications_2018_06.tsv')\n",
    "drugindict_indictdf = pd.DataFrame(list(drugindict_indict)[1:])\n",
    "drugindict_indictdf = drugindict_indictdf.rename(index = str, columns = {0:'PCIDs'})"
   ]
  },
  {
   "cell_type": "code",
   "execution_count": 148,
   "metadata": {},
   "outputs": [],
   "source": [
    "drugrepur_moa = pd.read_table('Output/DrugRepurposing_MOA_2018_06.tsv')\n",
    "drugrepur_moadf = pd.DataFrame(list(drugrepur_moa)[1:])\n",
    "drugrepur_moadf = drugrepur_moadf.rename(index = str, columns = {0:'PCIDs'})"
   ]
  },
  {
   "cell_type": "code",
   "execution_count": 149,
   "metadata": {},
   "outputs": [],
   "source": [
    "drugrepur_targets = pd.read_table('Output/DrugRepurposing_MOA_2018_06.tsv')\n",
    "drugrepur_targetsdf = pd.DataFrame(list(drugrepur_targets)[1:])\n",
    "drugrepur_targetsdf = drugrepur_targetsdf.rename(index = str, columns = {0:'PCIDs'})"
   ]
  },
  {
   "cell_type": "code",
   "execution_count": 150,
   "metadata": {},
   "outputs": [],
   "source": [
    "L1000_sig = pd.read_table('Output/L1000_signatures_2018_06.tsv')\n",
    "L1000_sigdf = pd.DataFrame(list(L1000_sig)[1:])\n",
    "L1000_sigdf = L1000_sigdf.rename(index = str, columns = {0:'PCIDs'})"
   ]
  },
  {
   "cell_type": "code",
   "execution_count": 151,
   "metadata": {},
   "outputs": [],
   "source": [
    "pharmagkb_se = pd.read_table('Output/PharmagKB_SE_2018_06.tsv')\n",
    "pharmagkb_sedf = pd.DataFrame(list(pharmagkb_se)[1:])\n",
    "pharmagkb_sedf = pharmagkb_sedf.rename(index = str, columns = {0:'PCIDs'})"
   ]
  },
  {
   "cell_type": "code",
   "execution_count": 152,
   "metadata": {},
   "outputs": [],
   "source": [
    "sider_indict = pd.read_table('Output/Sider_Indications_2018_06.tsv')\n",
    "sider_indictdf = pd.DataFrame(list(sider_indict)[1:])\n",
    "sider_indictdf = sider_indictdf.rename(index = str, columns = {0:'PCIDs'})"
   ]
  },
  {
   "cell_type": "code",
   "execution_count": 153,
   "metadata": {},
   "outputs": [],
   "source": [
    "sider_se = pd.read_table('Output/Sider_Indications_2018_06.tsv')\n",
    "sider_sedf = pd.DataFrame(list(sider_se)[1:])\n",
    "sider_sedf = sider_sedf.rename(index = str, columns = {0:'PCIDs'})"
   ]
  },
  {
   "cell_type": "markdown",
   "metadata": {},
   "source": [
    "## Concatenate all the dataframes and drop dups"
   ]
  },
  {
   "cell_type": "code",
   "execution_count": 154,
   "metadata": {},
   "outputs": [],
   "source": [
    "df = pd.concat([drugbank_targetsdf, drugcentral_targetsdf, druggeneinteract_targetsdf, drugindict_indictdf, drugrepur_moadf, drugrepur_targetsdf, L1000_sigdf, pharmagkb_sedf, sider_indictdf, sider_sedf])"
   ]
  },
  {
   "cell_type": "code",
   "execution_count": 155,
   "metadata": {},
   "outputs": [
    {
     "data": {
      "text/plain": [
       "(14494, 1)"
      ]
     },
     "execution_count": 155,
     "metadata": {},
     "output_type": "execute_result"
    }
   ],
   "source": [
    "df.shape"
   ]
  },
  {
   "cell_type": "code",
   "execution_count": 156,
   "metadata": {},
   "outputs": [],
   "source": [
    "df = df.drop_duplicates()"
   ]
  },
  {
   "cell_type": "code",
   "execution_count": 157,
   "metadata": {},
   "outputs": [
    {
     "data": {
      "text/plain": [
       "(5850, 1)"
      ]
     },
     "execution_count": 157,
     "metadata": {},
     "output_type": "execute_result"
    }
   ],
   "source": [
    "df.shape"
   ]
  },
  {
   "cell_type": "markdown",
   "metadata": {},
   "source": [
    "## Get the SMILES and InChIKeys"
   ]
  },
  {
   "cell_type": "code",
   "execution_count": null,
   "metadata": {
    "scrolled": true
   },
   "outputs": [],
   "source": [
    "ciddf = df['PCIDs']\n",
    "cid_list = ciddf.tolist()\n",
    "failed = 0\n",
    "smile_dict = {}\n",
    "inchikey_dict = {}\n",
    "\n",
    "for cid in cid_list:\n",
    "    cid = int(float(cid))\n",
    "    url ='https://pubchem.ncbi.nlm.nih.gov/rest/pug/compound/cid/'+str(cid)+'/property/MolecularFormula,InChIKey,CanonicalSMILES/JSON'\n",
    "    response = requests.get(url)\n",
    "    try:\n",
    "        response.json()\n",
    "    except ValueError:\n",
    "        continue\n",
    "    if 'PropertyTable' in response.json().keys():\n",
    "        smile = response.json()['PropertyTable']['Properties'][0]['CanonicalSMILES']\n",
    "        inchikey = response.json()['PropertyTable']['Properties'][0]['InChIKey']\n",
    "        smile_dict[cid] = smile\n",
    "        inchikey_dict[cid] = inchikey\n",
    "    else:\n",
    "        failed += 1\n",
    "        \n",
    "    if len(smile_dict) % 100 == 0:\n",
    "        print(len(smile_dict))\n",
    "\n",
    "print(failed)\n",
    "print(len(smile_dict))\n",
    "print(len(inchikey_dict))\n",
    "print(len(cid_list))"
   ]
  },
  {
   "cell_type": "code",
   "execution_count": 170,
   "metadata": {},
   "outputs": [],
   "source": [
    "SMILEs = []\n",
    "\n",
    "for index, row in df.iterrows():\n",
    "    pcid = row.loc['PCIDs']\n",
    "    pcid = int(float(pcid))\n",
    "    if pcid not in smile_dict:\n",
    "         df.drop(index, inplace = True)\n",
    "    else:  \n",
    "        SMILEs.append(smile_dict[pcid])\n",
    "\n",
    "\n"
   ]
  },
  {
   "cell_type": "code",
   "execution_count": 173,
   "metadata": {},
   "outputs": [],
   "source": [
    "df.loc[:,'SMILEs'] = pd.Series(np.array(SMILEs), index=df.index)"
   ]
  },
  {
   "cell_type": "code",
   "execution_count": 174,
   "metadata": {},
   "outputs": [
    {
     "data": {
      "text/html": [
       "<div>\n",
       "<style scoped>\n",
       "    .dataframe tbody tr th:only-of-type {\n",
       "        vertical-align: middle;\n",
       "    }\n",
       "\n",
       "    .dataframe tbody tr th {\n",
       "        vertical-align: top;\n",
       "    }\n",
       "\n",
       "    .dataframe thead th {\n",
       "        text-align: right;\n",
       "    }\n",
       "</style>\n",
       "<table border=\"1\" class=\"dataframe\">\n",
       "  <thead>\n",
       "    <tr style=\"text-align: right;\">\n",
       "      <th></th>\n",
       "      <th>PCIDs</th>\n",
       "      <th>SMILEs</th>\n",
       "    </tr>\n",
       "  </thead>\n",
       "  <tbody>\n",
       "    <tr>\n",
       "      <th>0</th>\n",
       "      <td>10071196.0</td>\n",
       "      <td>CC(C)COC1=CC=C(C=C1)CNC(=O)N(CC2=CC=C(C=C2)F)C...</td>\n",
       "    </tr>\n",
       "    <tr>\n",
       "      <th>1</th>\n",
       "      <td>10096344.0</td>\n",
       "      <td>CC#CCN1C2=C(N=C1N3CCCC(C3)N)N(C(=O)N(C2=O)CC4=...</td>\n",
       "    </tr>\n",
       "    <tr>\n",
       "      <th>2</th>\n",
       "      <td>10109823.0</td>\n",
       "      <td>C1=CC=C2C(=C1)N=C(S2)C(C#N)C3=NC(=NC=C3)NCCC4=...</td>\n",
       "    </tr>\n",
       "    <tr>\n",
       "      <th>3</th>\n",
       "      <td>10113978.0</td>\n",
       "      <td>CC1=C(C=C(C=C1)NC2=NC=CC(=N2)N(C)C3=CC4=NN(C(=...</td>\n",
       "    </tr>\n",
       "    <tr>\n",
       "      <th>4</th>\n",
       "      <td>10140.0</td>\n",
       "      <td>CC(CCC(=O)NCC(=O)O)C1CCC2C1(C(CC3C2C(CC4C3(CCC...</td>\n",
       "    </tr>\n",
       "  </tbody>\n",
       "</table>\n",
       "</div>"
      ],
      "text/plain": [
       "        PCIDs                                             SMILEs\n",
       "0  10071196.0  CC(C)COC1=CC=C(C=C1)CNC(=O)N(CC2=CC=C(C=C2)F)C...\n",
       "1  10096344.0  CC#CCN1C2=C(N=C1N3CCCC(C3)N)N(C(=O)N(C2=O)CC4=...\n",
       "2  10109823.0  C1=CC=C2C(=C1)N=C(S2)C(C#N)C3=NC(=NC=C3)NCCC4=...\n",
       "3  10113978.0  CC1=C(C=C(C=C1)NC2=NC=CC(=N2)N(C)C3=CC4=NN(C(=...\n",
       "4     10140.0  CC(CCC(=O)NCC(=O)O)C1CCC2C1(C(CC3C2C(CC4C3(CCC..."
      ]
     },
     "execution_count": 174,
     "metadata": {},
     "output_type": "execute_result"
    }
   ],
   "source": [
    "df.head()"
   ]
  },
  {
   "cell_type": "code",
   "execution_count": 176,
   "metadata": {},
   "outputs": [],
   "source": [
    "InChIkeys = []\n",
    "for index, row in df.iterrows():\n",
    "    pcid = row.loc['PCIDs']\n",
    "    pcid = int(float(pcid))\n",
    "    if pcid not in inchikey_dict:\n",
    "        df.drop(index, inplace = True)\n",
    "    else: \n",
    "        InChIkeys.append((inchikey_dict[pcid]))\n",
    "\n",
    "df.loc[:,'InChIKeys'] = pd.Series(np.array(InChIkeys), index=df.index)"
   ]
  },
  {
   "cell_type": "code",
   "execution_count": 177,
   "metadata": {},
   "outputs": [
    {
     "data": {
      "text/html": [
       "<div>\n",
       "<style scoped>\n",
       "    .dataframe tbody tr th:only-of-type {\n",
       "        vertical-align: middle;\n",
       "    }\n",
       "\n",
       "    .dataframe tbody tr th {\n",
       "        vertical-align: top;\n",
       "    }\n",
       "\n",
       "    .dataframe thead th {\n",
       "        text-align: right;\n",
       "    }\n",
       "</style>\n",
       "<table border=\"1\" class=\"dataframe\">\n",
       "  <thead>\n",
       "    <tr style=\"text-align: right;\">\n",
       "      <th></th>\n",
       "      <th>PCIDs</th>\n",
       "      <th>SMILEs</th>\n",
       "      <th>InChIKeys</th>\n",
       "    </tr>\n",
       "  </thead>\n",
       "  <tbody>\n",
       "    <tr>\n",
       "      <th>0</th>\n",
       "      <td>10071196.0</td>\n",
       "      <td>CC(C)COC1=CC=C(C=C1)CNC(=O)N(CC2=CC=C(C=C2)F)C...</td>\n",
       "      <td>RKEWSXXUOLRFBX-UHFFFAOYSA-N</td>\n",
       "    </tr>\n",
       "    <tr>\n",
       "      <th>1</th>\n",
       "      <td>10096344.0</td>\n",
       "      <td>CC#CCN1C2=C(N=C1N3CCCC(C3)N)N(C(=O)N(C2=O)CC4=...</td>\n",
       "      <td>LTXREWYXXSTFRX-QGZVFWFLSA-N</td>\n",
       "    </tr>\n",
       "    <tr>\n",
       "      <th>2</th>\n",
       "      <td>10109823.0</td>\n",
       "      <td>C1=CC=C2C(=C1)N=C(S2)C(C#N)C3=NC(=NC=C3)NCCC4=...</td>\n",
       "      <td>RCYPVQCPYKNSTG-UHFFFAOYSA-N</td>\n",
       "    </tr>\n",
       "    <tr>\n",
       "      <th>3</th>\n",
       "      <td>10113978.0</td>\n",
       "      <td>CC1=C(C=C(C=C1)NC2=NC=CC(=N2)N(C)C3=CC4=NN(C(=...</td>\n",
       "      <td>CUIHSIWYWATEQL-UHFFFAOYSA-N</td>\n",
       "    </tr>\n",
       "    <tr>\n",
       "      <th>4</th>\n",
       "      <td>10140.0</td>\n",
       "      <td>CC(CCC(=O)NCC(=O)O)C1CCC2C1(C(CC3C2C(CC4C3(CCC...</td>\n",
       "      <td>RFDAIACWWDREDC-FRVQLJSFSA-N</td>\n",
       "    </tr>\n",
       "  </tbody>\n",
       "</table>\n",
       "</div>"
      ],
      "text/plain": [
       "        PCIDs                                             SMILEs  \\\n",
       "0  10071196.0  CC(C)COC1=CC=C(C=C1)CNC(=O)N(CC2=CC=C(C=C2)F)C...   \n",
       "1  10096344.0  CC#CCN1C2=C(N=C1N3CCCC(C3)N)N(C(=O)N(C2=O)CC4=...   \n",
       "2  10109823.0  C1=CC=C2C(=C1)N=C(S2)C(C#N)C3=NC(=NC=C3)NCCC4=...   \n",
       "3  10113978.0  CC1=C(C=C(C=C1)NC2=NC=CC(=N2)N(C)C3=CC4=NN(C(=...   \n",
       "4     10140.0  CC(CCC(=O)NCC(=O)O)C1CCC2C1(C(CC3C2C(CC4C3(CCC...   \n",
       "\n",
       "                     InChIKeys  \n",
       "0  RKEWSXXUOLRFBX-UHFFFAOYSA-N  \n",
       "1  LTXREWYXXSTFRX-QGZVFWFLSA-N  \n",
       "2  RCYPVQCPYKNSTG-UHFFFAOYSA-N  \n",
       "3  CUIHSIWYWATEQL-UHFFFAOYSA-N  \n",
       "4  RFDAIACWWDREDC-FRVQLJSFSA-N  "
      ]
     },
     "execution_count": 177,
     "metadata": {},
     "output_type": "execute_result"
    }
   ],
   "source": [
    "df.head()"
   ]
  },
  {
   "cell_type": "code",
   "execution_count": 179,
   "metadata": {},
   "outputs": [],
   "source": [
    "df['PCIDs']=df['PCIDs'].apply(lambda x: int(float(x)))"
   ]
  },
  {
   "cell_type": "code",
   "execution_count": 180,
   "metadata": {},
   "outputs": [
    {
     "data": {
      "text/html": [
       "<div>\n",
       "<style scoped>\n",
       "    .dataframe tbody tr th:only-of-type {\n",
       "        vertical-align: middle;\n",
       "    }\n",
       "\n",
       "    .dataframe tbody tr th {\n",
       "        vertical-align: top;\n",
       "    }\n",
       "\n",
       "    .dataframe thead th {\n",
       "        text-align: right;\n",
       "    }\n",
       "</style>\n",
       "<table border=\"1\" class=\"dataframe\">\n",
       "  <thead>\n",
       "    <tr style=\"text-align: right;\">\n",
       "      <th></th>\n",
       "      <th>PCIDs</th>\n",
       "      <th>SMILEs</th>\n",
       "      <th>InChIKeys</th>\n",
       "    </tr>\n",
       "  </thead>\n",
       "  <tbody>\n",
       "    <tr>\n",
       "      <th>0</th>\n",
       "      <td>10071196</td>\n",
       "      <td>CC(C)COC1=CC=C(C=C1)CNC(=O)N(CC2=CC=C(C=C2)F)C...</td>\n",
       "      <td>RKEWSXXUOLRFBX-UHFFFAOYSA-N</td>\n",
       "    </tr>\n",
       "    <tr>\n",
       "      <th>1</th>\n",
       "      <td>10096344</td>\n",
       "      <td>CC#CCN1C2=C(N=C1N3CCCC(C3)N)N(C(=O)N(C2=O)CC4=...</td>\n",
       "      <td>LTXREWYXXSTFRX-QGZVFWFLSA-N</td>\n",
       "    </tr>\n",
       "    <tr>\n",
       "      <th>2</th>\n",
       "      <td>10109823</td>\n",
       "      <td>C1=CC=C2C(=C1)N=C(S2)C(C#N)C3=NC(=NC=C3)NCCC4=...</td>\n",
       "      <td>RCYPVQCPYKNSTG-UHFFFAOYSA-N</td>\n",
       "    </tr>\n",
       "    <tr>\n",
       "      <th>3</th>\n",
       "      <td>10113978</td>\n",
       "      <td>CC1=C(C=C(C=C1)NC2=NC=CC(=N2)N(C)C3=CC4=NN(C(=...</td>\n",
       "      <td>CUIHSIWYWATEQL-UHFFFAOYSA-N</td>\n",
       "    </tr>\n",
       "    <tr>\n",
       "      <th>4</th>\n",
       "      <td>10140</td>\n",
       "      <td>CC(CCC(=O)NCC(=O)O)C1CCC2C1(C(CC3C2C(CC4C3(CCC...</td>\n",
       "      <td>RFDAIACWWDREDC-FRVQLJSFSA-N</td>\n",
       "    </tr>\n",
       "  </tbody>\n",
       "</table>\n",
       "</div>"
      ],
      "text/plain": [
       "      PCIDs                                             SMILEs  \\\n",
       "0  10071196  CC(C)COC1=CC=C(C=C1)CNC(=O)N(CC2=CC=C(C=C2)F)C...   \n",
       "1  10096344  CC#CCN1C2=C(N=C1N3CCCC(C3)N)N(C(=O)N(C2=O)CC4=...   \n",
       "2  10109823  C1=CC=C2C(=C1)N=C(S2)C(C#N)C3=NC(=NC=C3)NCCC4=...   \n",
       "3  10113978  CC1=C(C=C(C=C1)NC2=NC=CC(=N2)N(C)C3=CC4=NN(C(=...   \n",
       "4     10140  CC(CCC(=O)NCC(=O)O)C1CCC2C1(C(CC3C2C(CC4C3(CCC...   \n",
       "\n",
       "                     InChIKeys  \n",
       "0  RKEWSXXUOLRFBX-UHFFFAOYSA-N  \n",
       "1  LTXREWYXXSTFRX-QGZVFWFLSA-N  \n",
       "2  RCYPVQCPYKNSTG-UHFFFAOYSA-N  \n",
       "3  CUIHSIWYWATEQL-UHFFFAOYSA-N  \n",
       "4  RFDAIACWWDREDC-FRVQLJSFSA-N  "
      ]
     },
     "execution_count": 180,
     "metadata": {},
     "output_type": "execute_result"
    }
   ],
   "source": [
    "df.head()"
   ]
  },
  {
   "cell_type": "markdown",
   "metadata": {},
   "source": [
    "## Export table to CSV"
   ]
  },
  {
   "cell_type": "code",
   "execution_count": 181,
   "metadata": {},
   "outputs": [],
   "source": [
    "filename = 'Output/PubChemID_Structure_map_%s.tsv.zip'% str(datetime.date.today())[0:7].replace('-', '_')\n",
    "df.to_csv(filename, sep='\\t', compression='gzip')"
   ]
  },
  {
   "cell_type": "code",
   "execution_count": null,
   "metadata": {},
   "outputs": [],
   "source": []
  }
 ],
 "metadata": {
  "kernelspec": {
   "display_name": "Python 3",
   "language": "python",
   "name": "python3"
  },
  "language_info": {
   "codemirror_mode": {
    "name": "ipython",
    "version": 3
   },
   "file_extension": ".py",
   "mimetype": "text/x-python",
   "name": "python",
   "nbconvert_exporter": "python",
   "pygments_lexer": "ipython3",
   "version": "3.6.5"
  }
 },
 "nbformat": 4,
 "nbformat_minor": 2
}
