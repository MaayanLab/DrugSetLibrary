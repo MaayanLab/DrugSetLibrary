{
 "cells": [
  {
   "cell_type": "markdown",
   "metadata": {},
   "source": [
    "## Import Libraries"
   ]
  },
  {
   "cell_type": "code",
   "execution_count": 10,
   "metadata": {},
   "outputs": [],
   "source": [
    "import numpy as np\n",
    "import pandas as pd\n",
    "from scipy.spatial.distance import squareform, pdist,jaccard\n",
    "import sys,  datetime, os\n",
    "import requests"
   ]
  },
  {
   "cell_type": "code",
   "execution_count": 11,
   "metadata": {},
   "outputs": [],
   "source": [
    "from rdkit import Chem"
   ]
  },
  {
   "cell_type": "markdown",
   "metadata": {},
   "source": [
    "## Make Initial Data"
   ]
  },
  {
   "cell_type": "code",
   "execution_count": 12,
   "metadata": {},
   "outputs": [
    {
     "data": {
      "text/html": [
       "<div>\n",
       "<style scoped>\n",
       "    .dataframe tbody tr th:only-of-type {\n",
       "        vertical-align: middle;\n",
       "    }\n",
       "\n",
       "    .dataframe tbody tr th {\n",
       "        vertical-align: top;\n",
       "    }\n",
       "\n",
       "    .dataframe thead th {\n",
       "        text-align: right;\n",
       "    }\n",
       "</style>\n",
       "<table border=\"1\" class=\"dataframe\">\n",
       "  <thead>\n",
       "    <tr style=\"text-align: right;\">\n",
       "      <th></th>\n",
       "    </tr>\n",
       "  </thead>\n",
       "  <tbody>\n",
       "  </tbody>\n",
       "</table>\n",
       "</div>"
      ],
      "text/plain": [
       "Empty DataFrame\n",
       "Columns: []\n",
       "Index: []"
      ]
     },
     "execution_count": 12,
     "metadata": {},
     "output_type": "execute_result"
    }
   ],
   "source": [
    "df = pd.DataFrame()\n",
    "df.head()"
   ]
  },
  {
   "cell_type": "markdown",
   "metadata": {},
   "source": [
    "## Get PCIDs from all datasets and add it to the df"
   ]
  },
  {
   "cell_type": "code",
   "execution_count": 13,
   "metadata": {},
   "outputs": [],
   "source": [
    "names = []\n",
    "files = []\n",
    "\n",
    "for filename in os.listdir('All_bmat/'):\n",
    "    names.append(filename[:-12])\n",
    "    file = pd.read_table('All_bmat/'+ filename)\n",
    "    file_df = pd.DataFrame(list(file)[1:])\n",
    "    file_df = file_df.rename(index = str, columns = {0:\"PCIDs\"})\n",
    "    df = df.append(file_df)"
   ]
  },
  {
   "cell_type": "code",
   "execution_count": 14,
   "metadata": {},
   "outputs": [
    {
     "data": {
      "text/html": [
       "<div>\n",
       "<style scoped>\n",
       "    .dataframe tbody tr th:only-of-type {\n",
       "        vertical-align: middle;\n",
       "    }\n",
       "\n",
       "    .dataframe tbody tr th {\n",
       "        vertical-align: top;\n",
       "    }\n",
       "\n",
       "    .dataframe thead th {\n",
       "        text-align: right;\n",
       "    }\n",
       "</style>\n",
       "<table border=\"1\" class=\"dataframe\">\n",
       "  <thead>\n",
       "    <tr style=\"text-align: right;\">\n",
       "      <th></th>\n",
       "      <th>PCIDs</th>\n",
       "    </tr>\n",
       "  </thead>\n",
       "  <tbody>\n",
       "    <tr>\n",
       "      <th>0</th>\n",
       "      <td>10052040</td>\n",
       "    </tr>\n",
       "    <tr>\n",
       "      <th>1</th>\n",
       "      <td>10071196</td>\n",
       "    </tr>\n",
       "    <tr>\n",
       "      <th>2</th>\n",
       "      <td>10096344</td>\n",
       "    </tr>\n",
       "    <tr>\n",
       "      <th>3</th>\n",
       "      <td>10109823</td>\n",
       "    </tr>\n",
       "    <tr>\n",
       "      <th>4</th>\n",
       "      <td>10113978</td>\n",
       "    </tr>\n",
       "  </tbody>\n",
       "</table>\n",
       "</div>"
      ],
      "text/plain": [
       "      PCIDs\n",
       "0  10052040\n",
       "1  10071196\n",
       "2  10096344\n",
       "3  10109823\n",
       "4  10113978"
      ]
     },
     "execution_count": 14,
     "metadata": {},
     "output_type": "execute_result"
    }
   ],
   "source": [
    "df.head()"
   ]
  },
  {
   "cell_type": "code",
   "execution_count": 15,
   "metadata": {},
   "outputs": [
    {
     "data": {
      "text/plain": [
       "(21815, 1)"
      ]
     },
     "execution_count": 15,
     "metadata": {},
     "output_type": "execute_result"
    }
   ],
   "source": [
    "df.shape"
   ]
  },
  {
   "cell_type": "markdown",
   "metadata": {},
   "source": [
    "## Drop dups and refine list"
   ]
  },
  {
   "cell_type": "code",
   "execution_count": 16,
   "metadata": {},
   "outputs": [],
   "source": [
    "df = df.drop_duplicates()\n",
    "df = df.dropna()"
   ]
  },
  {
   "cell_type": "code",
   "execution_count": 17,
   "metadata": {
    "scrolled": true
   },
   "outputs": [],
   "source": [
    "df = df[df['PCIDs'].apply(lambda x: x.isnumeric())]\n",
    "df['PCIDs']=df['PCIDs'].apply(lambda x: int(float(x)))"
   ]
  },
  {
   "cell_type": "code",
   "execution_count": 18,
   "metadata": {},
   "outputs": [
    {
     "data": {
      "text/plain": [
       "7883"
      ]
     },
     "execution_count": 18,
     "metadata": {},
     "output_type": "execute_result"
    }
   ],
   "source": [
    "len(df['PCIDs'].unique())"
   ]
  },
  {
   "cell_type": "code",
   "execution_count": 19,
   "metadata": {},
   "outputs": [
    {
     "data": {
      "text/plain": [
       "(7883, 1)"
      ]
     },
     "execution_count": 19,
     "metadata": {},
     "output_type": "execute_result"
    }
   ],
   "source": [
    "df.shape"
   ]
  },
  {
   "cell_type": "markdown",
   "metadata": {},
   "source": [
    "## Get the SMILES and InChIKeys"
   ]
  },
  {
   "cell_type": "code",
   "execution_count": 20,
   "metadata": {
    "scrolled": true
   },
   "outputs": [
    {
     "name": "stdout",
     "output_type": "stream",
     "text": [
      "1000\n",
      "2000\n",
      "3000\n",
      "4000\n",
      "5000\n",
      "6000\n",
      "7000\n",
      "1\n",
      "7882\n",
      "7882\n",
      "7883\n"
     ]
    }
   ],
   "source": [
    "ciddf = df['PCIDs']\n",
    "cid_list = ciddf.tolist()\n",
    "failed = 0\n",
    "smile_dict = {}\n",
    "inchikey_dict = {}\n",
    "\n",
    "for cid in cid_list:\n",
    "    try:\n",
    "        cid = int(float(cid))\n",
    "    except ValueError:\n",
    "        continue\n",
    "    if cid in list(smile_dict.keys()):\n",
    "        pass\n",
    "    url ='https://pubchem.ncbi.nlm.nih.gov/rest/pug/compound/cid/'+str(cid)+'/property/MolecularFormula,InChIKey,CanonicalSMILES/JSON'\n",
    "    response = requests.get(url)\n",
    "    try:\n",
    "        response.json()\n",
    "    except ValueError:\n",
    "        continue\n",
    "    if 'PropertyTable' in response.json().keys():\n",
    "        smile = response.json()['PropertyTable']['Properties'][0]['CanonicalSMILES']\n",
    "        inchikey = response.json()['PropertyTable']['Properties'][0]['InChIKey']\n",
    "        smile_dict[cid] = smile\n",
    "        inchikey_dict[cid] = inchikey\n",
    "    else:\n",
    "        failed += 1\n",
    "        \n",
    "    if len(smile_dict) % 1000 == 0:\n",
    "        print(len(smile_dict))\n",
    "\n",
    "print(failed)\n",
    "print(len(smile_dict))\n",
    "print(len(inchikey_dict))\n",
    "print(len(cid_list))"
   ]
  },
  {
   "cell_type": "code",
   "execution_count": 21,
   "metadata": {},
   "outputs": [],
   "source": [
    "SMILEs = []\n",
    "\n",
    "for index, row in df.iterrows():\n",
    "    pcid = row.loc['PCIDs']\n",
    "    try:\n",
    "        pcid = int(float(pcid))\n",
    "    except ValueError:\n",
    "        df.drop(index, inplace = True)\n",
    "        continue\n",
    "    pcid = int(float(pcid))\n",
    "    if pcid not in smile_dict:\n",
    "         df.drop(index, inplace = True)\n",
    "    else:  \n",
    "        SMILEs.append(smile_dict[pcid])"
   ]
  },
  {
   "cell_type": "code",
   "execution_count": 22,
   "metadata": {},
   "outputs": [
    {
     "ename": "ValueError",
     "evalue": "Length of passed values is 7882, index implies 7879",
     "output_type": "error",
     "traceback": [
      "\u001b[0;31m---------------------------------------------------------------------------\u001b[0m",
      "\u001b[0;31mValueError\u001b[0m                                Traceback (most recent call last)",
      "\u001b[0;32m<ipython-input-22-5c4bb8c3140f>\u001b[0m in \u001b[0;36m<module>\u001b[0;34m()\u001b[0m\n\u001b[0;32m----> 1\u001b[0;31m \u001b[0mdf\u001b[0m\u001b[0;34m.\u001b[0m\u001b[0mloc\u001b[0m\u001b[0;34m[\u001b[0m\u001b[0;34m:\u001b[0m\u001b[0;34m,\u001b[0m\u001b[0;34m'SMILEs'\u001b[0m\u001b[0;34m]\u001b[0m \u001b[0;34m=\u001b[0m \u001b[0mpd\u001b[0m\u001b[0;34m.\u001b[0m\u001b[0mSeries\u001b[0m\u001b[0;34m(\u001b[0m\u001b[0mnp\u001b[0m\u001b[0;34m.\u001b[0m\u001b[0marray\u001b[0m\u001b[0;34m(\u001b[0m\u001b[0mSMILEs\u001b[0m\u001b[0;34m)\u001b[0m\u001b[0;34m,\u001b[0m \u001b[0mindex\u001b[0m\u001b[0;34m=\u001b[0m\u001b[0mdf\u001b[0m\u001b[0;34m.\u001b[0m\u001b[0mindex\u001b[0m\u001b[0;34m)\u001b[0m\u001b[0;34m\u001b[0m\u001b[0m\n\u001b[0m",
      "\u001b[0;32m/anaconda3/lib/python3.6/site-packages/pandas/core/series.py\u001b[0m in \u001b[0;36m__init__\u001b[0;34m(self, data, index, dtype, name, copy, fastpath)\u001b[0m\n\u001b[1;32m    259\u001b[0m                             \u001b[0;34m'Length of passed values is {val}, '\u001b[0m\u001b[0;34m\u001b[0m\u001b[0m\n\u001b[1;32m    260\u001b[0m                             \u001b[0;34m'index implies {ind}'\u001b[0m\u001b[0;34m\u001b[0m\u001b[0m\n\u001b[0;32m--> 261\u001b[0;31m                             .format(val=len(data), ind=len(index)))\n\u001b[0m\u001b[1;32m    262\u001b[0m                 \u001b[0;32mexcept\u001b[0m \u001b[0mTypeError\u001b[0m\u001b[0;34m:\u001b[0m\u001b[0;34m\u001b[0m\u001b[0m\n\u001b[1;32m    263\u001b[0m                     \u001b[0;32mpass\u001b[0m\u001b[0;34m\u001b[0m\u001b[0m\n",
      "\u001b[0;31mValueError\u001b[0m: Length of passed values is 7882, index implies 7879"
     ]
    }
   ],
   "source": [
    "df.loc[:,'SMILEs'] = pd.Series(np.array(SMILEs), index=df.index)"
   ]
  },
  {
   "cell_type": "code",
   "execution_count": null,
   "metadata": {},
   "outputs": [],
   "source": [
    "InChIkeys = []\n",
    "for index, row in df.iterrows():\n",
    "    pcid = row.loc['PCIDs']\n",
    "    try:\n",
    "        pcid = int(float(pcid))\n",
    "    except ValueError:\n",
    "        df.drop(index, inplace = True)\n",
    "        continue\n",
    "    pcid = int(float(pcid))\n",
    "    if pcid not in inchikey_dict:\n",
    "        df.drop(index, inplace = True)\n",
    "    else: \n",
    "        InChIkeys.append((inchikey_dict[pcid]))\n",
    "\n",
    "df.loc[:,'InChIKeys'] = pd.Series(np.array(InChIkeys), index=df.index)"
   ]
  },
  {
   "cell_type": "code",
   "execution_count": null,
   "metadata": {},
   "outputs": [],
   "source": [
    "df['PCIDs']=df['PCIDs'].apply(lambda x: int(float(x)))"
   ]
  },
  {
   "cell_type": "code",
   "execution_count": null,
   "metadata": {},
   "outputs": [],
   "source": [
    "df.head()"
   ]
  },
  {
   "cell_type": "markdown",
   "metadata": {},
   "source": [
    "## Change to pert_id"
   ]
  },
  {
   "cell_type": "code",
   "execution_count": 46,
   "metadata": {},
   "outputs": [
    {
     "data": {
      "text/html": [
       "<div>\n",
       "<style scoped>\n",
       "    .dataframe tbody tr th:only-of-type {\n",
       "        vertical-align: middle;\n",
       "    }\n",
       "\n",
       "    .dataframe tbody tr th {\n",
       "        vertical-align: top;\n",
       "    }\n",
       "\n",
       "    .dataframe thead th {\n",
       "        text-align: right;\n",
       "    }\n",
       "</style>\n",
       "<table border=\"1\" class=\"dataframe\">\n",
       "  <thead>\n",
       "    <tr style=\"text-align: right;\">\n",
       "      <th></th>\n",
       "      <th>Unnamed: 0</th>\n",
       "      <th>PCIDs</th>\n",
       "      <th>SMILEs</th>\n",
       "      <th>InChIKeys</th>\n",
       "    </tr>\n",
       "  </thead>\n",
       "  <tbody>\n",
       "    <tr>\n",
       "      <th>0</th>\n",
       "      <td>0</td>\n",
       "      <td>10052040</td>\n",
       "      <td>CCNC1(CCN(CC1)C2=NC=NC3=C2N=C(N3C4=CC=C(C=C4)C...</td>\n",
       "      <td>UNAZAADNBYXMIV-UHFFFAOYSA-N</td>\n",
       "    </tr>\n",
       "    <tr>\n",
       "      <th>1</th>\n",
       "      <td>1</td>\n",
       "      <td>10071196</td>\n",
       "      <td>CC(C)COC1=CC=C(C=C1)CNC(=O)N(CC2=CC=C(C=C2)F)C...</td>\n",
       "      <td>RKEWSXXUOLRFBX-UHFFFAOYSA-N</td>\n",
       "    </tr>\n",
       "    <tr>\n",
       "      <th>2</th>\n",
       "      <td>2</td>\n",
       "      <td>10096344</td>\n",
       "      <td>CC#CCN1C2=C(N=C1N3CCCC(C3)N)N(C(=O)N(C2=O)CC4=...</td>\n",
       "      <td>LTXREWYXXSTFRX-QGZVFWFLSA-N</td>\n",
       "    </tr>\n",
       "    <tr>\n",
       "      <th>3</th>\n",
       "      <td>3</td>\n",
       "      <td>10109823</td>\n",
       "      <td>C1=CC=C2C(=C1)N=C(S2)C(C#N)C3=NC(=NC=C3)NCCC4=...</td>\n",
       "      <td>RCYPVQCPYKNSTG-UHFFFAOYSA-N</td>\n",
       "    </tr>\n",
       "    <tr>\n",
       "      <th>4</th>\n",
       "      <td>4</td>\n",
       "      <td>10113978</td>\n",
       "      <td>CC1=C(C=C(C=C1)NC2=NC=CC(=N2)N(C)C3=CC4=NN(C(=...</td>\n",
       "      <td>CUIHSIWYWATEQL-UHFFFAOYSA-N</td>\n",
       "    </tr>\n",
       "  </tbody>\n",
       "</table>\n",
       "</div>"
      ],
      "text/plain": [
       "   Unnamed: 0     PCIDs                                             SMILEs  \\\n",
       "0           0  10052040  CCNC1(CCN(CC1)C2=NC=NC3=C2N=C(N3C4=CC=C(C=C4)C...   \n",
       "1           1  10071196  CC(C)COC1=CC=C(C=C1)CNC(=O)N(CC2=CC=C(C=C2)F)C...   \n",
       "2           2  10096344  CC#CCN1C2=C(N=C1N3CCCC(C3)N)N(C(=O)N(C2=O)CC4=...   \n",
       "3           3  10109823  C1=CC=C2C(=C1)N=C(S2)C(C#N)C3=NC(=NC=C3)NCCC4=...   \n",
       "4           4  10113978  CC1=C(C=C(C=C1)NC2=NC=CC(=N2)N(C)C3=CC4=NN(C(=...   \n",
       "\n",
       "                     InChIKeys  \n",
       "0  UNAZAADNBYXMIV-UHFFFAOYSA-N  \n",
       "1  RKEWSXXUOLRFBX-UHFFFAOYSA-N  \n",
       "2  LTXREWYXXSTFRX-QGZVFWFLSA-N  \n",
       "3  RCYPVQCPYKNSTG-UHFFFAOYSA-N  \n",
       "4  CUIHSIWYWATEQL-UHFFFAOYSA-N  "
      ]
     },
     "execution_count": 46,
     "metadata": {},
     "output_type": "execute_result"
    }
   ],
   "source": [
    "X = pd.read_table('Output/PubChemID_SMILES_InchI_2018_07.tsv')\n",
    "X['PCIDs']=X['PCIDs'].apply(lambda x: str(x))\n",
    "X.set_index('PCIDs', inplace = True)\n",
    "X.head()"
   ]
  },
  {
   "cell_type": "code",
   "execution_count": 48,
   "metadata": {},
   "outputs": [
    {
     "name": "stderr",
     "output_type": "stream",
     "text": [
      "/anaconda3/lib/python3.6/site-packages/ipykernel_launcher.py:11: SettingWithCopyWarning: \n",
      "A value is trying to be set on a copy of a slice from a DataFrame\n",
      "\n",
      "See the caveats in the documentation: http://pandas.pydata.org/pandas-docs/stable/indexing.html#indexing-view-versus-copy\n",
      "  # This is added back by InteractiveShellApp.init_path()\n"
     ]
    },
    {
     "data": {
      "text/html": [
       "<div>\n",
       "<style scoped>\n",
       "    .dataframe tbody tr th:only-of-type {\n",
       "        vertical-align: middle;\n",
       "    }\n",
       "\n",
       "    .dataframe tbody tr th {\n",
       "        vertical-align: top;\n",
       "    }\n",
       "\n",
       "    .dataframe thead th {\n",
       "        text-align: right;\n",
       "    }\n",
       "</style>\n",
       "<table border=\"1\" class=\"dataframe\">\n",
       "  <thead>\n",
       "    <tr style=\"text-align: right;\">\n",
       "      <th></th>\n",
       "      <th>InChIKeys</th>\n",
       "      <th>SMILEs</th>\n",
       "      <th>Unnamed: 0</th>\n",
       "    </tr>\n",
       "    <tr>\n",
       "      <th>pert_id</th>\n",
       "      <th></th>\n",
       "      <th></th>\n",
       "      <th></th>\n",
       "    </tr>\n",
       "  </thead>\n",
       "  <tbody>\n",
       "    <tr>\n",
       "      <th>BRD-A60245366</th>\n",
       "      <td>RCYPVQCPYKNSTG-UHFFFAOYSA-N</td>\n",
       "      <td>C1=CC=C2C(=C1)N=C(S2)C(C#N)C3=NC(=NC=C3)NCCC4=...</td>\n",
       "      <td>3.0</td>\n",
       "    </tr>\n",
       "    <tr>\n",
       "      <th>BRD-K18135438</th>\n",
       "      <td>RUDATBOHQWOJDD-BSWAIDMHSA-N</td>\n",
       "      <td>CC(CCC(=O)O)C1CCC2C1(CCC3C2C(CC4C3(CCC(C4)O)C)O)C</td>\n",
       "      <td>5.0</td>\n",
       "    </tr>\n",
       "    <tr>\n",
       "      <th>BRD-K54771420</th>\n",
       "      <td>RFDAIACWWDREDC-FRVQLJSFSA-N</td>\n",
       "      <td>CC(CCC(=O)NCC(=O)O)C1CCC2C1(C(CC3C2C(CC4C3(CCC...</td>\n",
       "      <td>6.0</td>\n",
       "    </tr>\n",
       "    <tr>\n",
       "      <th>BRD-K88573743</th>\n",
       "      <td>YWTBGJGMTBHQTM-IBGZPJMESA-N</td>\n",
       "      <td>CC1=C2C=C(C=CC2=NN1)C3=CC(=CN=C3)OCC(CC4=CNC5=...</td>\n",
       "      <td>10.0</td>\n",
       "    </tr>\n",
       "    <tr>\n",
       "      <th>BRD-K66175015</th>\n",
       "      <td>ULXXDDBFHOBEHA-CWDCEQMOSA-N</td>\n",
       "      <td>CN(C)CC=CC(=O)NC1=C(C=C2C(=C1)C(=NC=N2)NC3=CC(...</td>\n",
       "      <td>12.0</td>\n",
       "    </tr>\n",
       "  </tbody>\n",
       "</table>\n",
       "</div>"
      ],
      "text/plain": [
       "                                 InChIKeys  \\\n",
       "pert_id                                      \n",
       "BRD-A60245366  RCYPVQCPYKNSTG-UHFFFAOYSA-N   \n",
       "BRD-K18135438  RUDATBOHQWOJDD-BSWAIDMHSA-N   \n",
       "BRD-K54771420  RFDAIACWWDREDC-FRVQLJSFSA-N   \n",
       "BRD-K88573743  YWTBGJGMTBHQTM-IBGZPJMESA-N   \n",
       "BRD-K66175015  ULXXDDBFHOBEHA-CWDCEQMOSA-N   \n",
       "\n",
       "                                                          SMILEs  Unnamed: 0  \n",
       "pert_id                                                                       \n",
       "BRD-A60245366  C1=CC=C2C(=C1)N=C(S2)C(C#N)C3=NC(=NC=C3)NCCC4=...         3.0  \n",
       "BRD-K18135438  CC(CCC(=O)O)C1CCC2C1(CCC3C2C(CC4C3(CCC(C4)O)C)O)C         5.0  \n",
       "BRD-K54771420  CC(CCC(=O)NCC(=O)O)C1CCC2C1(C(CC3C2C(CC4C3(CCC...         6.0  \n",
       "BRD-K88573743  CC1=C2C=C(C=CC2=NN1)C3=CC(=CN=C3)OCC(CC4=CNC5=...        10.0  \n",
       "BRD-K66175015  CN(C)CC=CC(=O)NC1=C(C=C2C(=C1)C(=NC=N2)NC3=CC(...        12.0  "
      ]
     },
     "execution_count": 48,
     "metadata": {},
     "output_type": "execute_result"
    }
   ],
   "source": [
    "pcid_pertid = pd.read_csv('Input/PCID_pertid_mapping.csv')\n",
    "pcid_pertid.set_index('pubchem_cid', inplace = True)\n",
    "X_add = pd.DataFrame()\n",
    "for pcid in list(X.index):\n",
    "    try:\n",
    "        X.loc[str(pcid),'pert_id'] = pcid_pertid.loc[str(pcid),'pert_id']\n",
    "    except KeyError:\n",
    "        pass\n",
    "    except ValueError:\n",
    "        new_row = X.loc[str(pcid)]\n",
    "        new_row['pert_id'] = list(pcid_pertid.loc[str(pcid),'pert_id'])[0]\n",
    "        X.loc[str(pcid),'pert_id'] = list(pcid_pertid.loc[str(pcid),'pert_id'])[1]\n",
    "        X_add = X_add.append(new_row, ignore_index=False)\n",
    "X = pd.concat([X,X_add],axis = 0, sort=True)\n",
    "X = X.dropna(subset = [\"pert_id\"])\n",
    "X.set_index('pert_id', inplace = True)\n",
    "X.head()"
   ]
  },
  {
   "cell_type": "markdown",
   "metadata": {},
   "source": [
    "## Export table to CSV"
   ]
  },
  {
   "cell_type": "code",
   "execution_count": null,
   "metadata": {},
   "outputs": [],
   "source": [
    "filename = 'Output/PubChemID_SMILES_InchI_%s.tsv.zip'% str(datetime.date.today())[0:7].replace('-', '_')\n",
    "df.to_csv(filename, sep='\\t', compression='gzip')"
   ]
  },
  {
   "cell_type": "code",
   "execution_count": 49,
   "metadata": {},
   "outputs": [],
   "source": [
    "filename = 'Output/PubChemID_SMILES_InchI_pertid_%s.tsv.zip'% str(datetime.date.today())[0:7].replace('-', '_')\n",
    "X.to_csv(filename, sep='\\t', compression='gzip')"
   ]
  },
  {
   "cell_type": "code",
   "execution_count": null,
   "metadata": {},
   "outputs": [],
   "source": []
  }
 ],
 "metadata": {
  "kernelspec": {
   "display_name": "Python 3",
   "language": "python",
   "name": "python3"
  },
  "language_info": {
   "codemirror_mode": {
    "name": "ipython",
    "version": 3
   },
   "file_extension": ".py",
   "mimetype": "text/x-python",
   "name": "python",
   "nbconvert_exporter": "python",
   "pygments_lexer": "ipython3",
   "version": "3.6.5"
  }
 },
 "nbformat": 4,
 "nbformat_minor": 2
}
