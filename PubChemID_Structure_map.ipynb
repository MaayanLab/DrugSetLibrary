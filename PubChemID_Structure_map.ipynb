{
 "cells": [
  {
   "cell_type": "markdown",
   "metadata": {},
   "source": [
    "## Import Libraries"
   ]
  },
  {
   "cell_type": "code",
   "execution_count": null,
   "metadata": {},
   "outputs": [],
   "source": [
    "import numpy as np\n",
    "import pandas as pd\n",
    "from scipy.spatial.distance import squareform, pdist,jaccard\n",
    "import sys,  datetime, os\n",
    "import requests"
   ]
  },
  {
   "cell_type": "code",
   "execution_count": null,
   "metadata": {},
   "outputs": [],
   "source": [
    "from rdkit import Chem"
   ]
  },
  {
   "cell_type": "markdown",
   "metadata": {},
   "source": [
    "## Make Initial Data"
   ]
  },
  {
   "cell_type": "code",
   "execution_count": null,
   "metadata": {},
   "outputs": [],
   "source": [
    "df = pd.DataFrame()\n",
    "df.head()"
   ]
  },
  {
   "cell_type": "markdown",
   "metadata": {},
   "source": [
    "## Get PCIDs from all datasets and add it to the df"
   ]
  },
  {
   "cell_type": "code",
   "execution_count": null,
   "metadata": {},
   "outputs": [],
   "source": [
    "names = []\n",
    "files = []\n",
    "\n",
    "for filename in os.listdir('All_bmat/'):\n",
    "    names.append(filename[:-12])\n",
    "    file = pd.read_table('All_bmat/'+ filename)\n",
    "    file_df = pd.DataFrame(list(file)[1:])\n",
    "    file_df = file_df.rename(index = str, columns = {0:\"PCIDs\"})\n",
    "    df = df.append(file_df)"
   ]
  },
  {
   "cell_type": "markdown",
   "metadata": {},
   "source": [
    "## Drop duplicates and refine list"
   ]
  },
  {
   "cell_type": "code",
   "execution_count": null,
   "metadata": {},
   "outputs": [],
   "source": [
    "df = df.drop_duplicates()\n",
    "df = df.dropna()"
   ]
  },
  {
   "cell_type": "code",
   "execution_count": null,
   "metadata": {
    "scrolled": true
   },
   "outputs": [],
   "source": [
    "df = df[df['PCIDs'].apply(lambda x: x.isnumeric())]\n",
    "df['PCIDs']=df['PCIDs'].apply(lambda x: int(float(x)))"
   ]
  },
  {
   "cell_type": "code",
   "execution_count": null,
   "metadata": {},
   "outputs": [],
   "source": [
    "len(df['PCIDs'].unique())"
   ]
  },
  {
   "cell_type": "markdown",
   "metadata": {},
   "source": [
    "## Get the SMILES and InChIKeys"
   ]
  },
  {
   "cell_type": "code",
   "execution_count": null,
   "metadata": {
    "scrolled": true
   },
   "outputs": [],
   "source": [
    "ciddf = df['PCIDs']\n",
    "cid_list = ciddf.tolist()\n",
    "failed = 0\n",
    "smile_dict = {}\n",
    "inchikey_dict = {}\n",
    "\n",
    "for cid in cid_list:\n",
    "    try:\n",
    "        cid = int(float(cid))\n",
    "    except ValueError:\n",
    "        continue\n",
    "    if cid in list(smile_dict.keys()):\n",
    "        pass\n",
    "    url ='https://pubchem.ncbi.nlm.nih.gov/rest/pug/compound/cid/'+str(cid)+'/property/MolecularFormula,InChIKey,CanonicalSMILES/JSON'\n",
    "    response = requests.get(url)\n",
    "    try:\n",
    "        response.json()\n",
    "    except ValueError:\n",
    "        continue\n",
    "    if 'PropertyTable' in response.json().keys():\n",
    "        smile = response.json()['PropertyTable']['Properties'][0]['CanonicalSMILES']\n",
    "        inchikey = response.json()['PropertyTable']['Properties'][0]['InChIKey']\n",
    "        smile_dict[cid] = smile\n",
    "        inchikey_dict[cid] = inchikey\n",
    "    else:\n",
    "        failed += 1\n",
    "\n",
    "\n",
    "print(failed)\n",
    "print(len(smile_dict))\n",
    "print(len(inchikey_dict))\n",
    "print(len(cid_list))"
   ]
  },
  {
   "cell_type": "code",
   "execution_count": null,
   "metadata": {},
   "outputs": [],
   "source": [
    "SMILEs = []\n",
    "\n",
    "for index, row in df.iterrows():\n",
    "    pcid = row.loc['PCIDs']\n",
    "    try:\n",
    "        pcid = int(float(pcid))\n",
    "    except ValueError:\n",
    "        df.drop(index, inplace = True)\n",
    "        continue\n",
    "    pcid = int(float(pcid))\n",
    "    if pcid not in smile_dict:\n",
    "         df.drop(index, inplace = True)\n",
    "    else:  \n",
    "        SMILEs.append(smile_dict[pcid])"
   ]
  },
  {
   "cell_type": "code",
   "execution_count": null,
   "metadata": {},
   "outputs": [],
   "source": [
    "df.loc[:,'SMILEs'] = pd.Series(np.array(SMILEs), index=df.index)"
   ]
  },
  {
   "cell_type": "code",
   "execution_count": null,
   "metadata": {},
   "outputs": [],
   "source": [
    "InChIkeys = []\n",
    "for index, row in df.iterrows():\n",
    "    pcid = row.loc['PCIDs']\n",
    "    try:\n",
    "        pcid = int(float(pcid))\n",
    "    except ValueError:\n",
    "        df.drop(index, inplace = True)\n",
    "        continue\n",
    "    pcid = int(float(pcid))\n",
    "    if pcid not in inchikey_dict:\n",
    "        df.drop(index, inplace = True)\n",
    "    else: \n",
    "        InChIkeys.append((inchikey_dict[pcid]))\n",
    "\n",
    "df.loc[:,'InChIKeys'] = pd.Series(np.array(InChIkeys), index=df.index)"
   ]
  },
  {
   "cell_type": "code",
   "execution_count": null,
   "metadata": {},
   "outputs": [],
   "source": [
    "df['PCIDs']=df['PCIDs'].apply(lambda x: int(float(x)))"
   ]
  },
  {
   "cell_type": "code",
   "execution_count": null,
   "metadata": {},
   "outputs": [],
   "source": [
    "df.head()"
   ]
  },
  {
   "cell_type": "markdown",
   "metadata": {},
   "source": [
    "## Change to pert_id"
   ]
  },
  {
   "cell_type": "code",
   "execution_count": null,
   "metadata": {
    "scrolled": true
   },
   "outputs": [],
   "source": [
    "pcid_pertid = pd.read_csv('Input/PCID_pertid_mapping.csv')\n",
    "pcid_pertid.set_index('pubchem_cid', inplace = True)\n",
    "df_add = pd.DataFrame()\n",
    "for pcid in list(df.index):\n",
    "    try:\n",
    "        df.loc[str(pcid),'pert_id'] = pcid_pertid.loc[str(pcid),'pert_id']\n",
    "    except KeyError:\n",
    "        pass\n",
    "    except ValueError:\n",
    "        new_row = df.loc[str(pcid)]\n",
    "        new_row['pert_id'] = list(pcid_pertid.loc[str(pcid),'pert_id'])[0]\n",
    "        df.loc[str(pcid),'pert_id'] = list(pcid_pertid.loc[str(pcid),'pert_id'])[1]\n",
    "        df_add = X_add.append(new_row, ignore_index=False)\n",
    "df = pd.concat([df,df_add],axis = 0, sort=True)\n",
    "df = df.dropna(subset = [\"pert_id\"])\n",
    "df.set_index('pert_id', inplace = True)\n",
    "df.head()"
   ]
  },
  {
   "cell_type": "markdown",
   "metadata": {},
   "source": [
    "## Export table to CSV"
   ]
  },
  {
   "cell_type": "code",
   "execution_count": null,
   "metadata": {},
   "outputs": [],
   "source": [
    "filename = 'Output/PubChemID_SMILES_InchI_pertid_%s.tsv.zip'% str(datetime.date.today())[0:7].replace('-', '_')\n",
    "df.to_csv(filename, sep='\\t', compression='gzip')"
   ]
  },
  {
   "cell_type": "code",
   "execution_count": null,
   "metadata": {},
   "outputs": [],
   "source": []
  }
 ],
 "metadata": {
  "kernelspec": {
   "display_name": "Python 3",
   "language": "python",
   "name": "python3"
  },
  "language_info": {
   "codemirror_mode": {
    "name": "ipython",
    "version": 3
   },
   "file_extension": ".py",
   "mimetype": "text/x-python",
   "name": "python",
   "nbconvert_exporter": "python",
   "pygments_lexer": "ipython3",
   "version": "3.6.5"
  }
 },
 "nbformat": 4,
 "nbformat_minor": 2
}
