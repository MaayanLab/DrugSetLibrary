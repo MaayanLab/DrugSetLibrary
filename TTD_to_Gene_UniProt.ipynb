{
 "cells": [
  {
   "cell_type": "markdown",
   "metadata": {},
   "source": [
    "## Import Libraries"
   ]
  },
  {
   "cell_type": "code",
   "execution_count": 1,
   "metadata": {},
   "outputs": [],
   "source": [
    "import numpy as np\n",
    "import pandas as pd\n",
    "from scipy.spatial.distance import squareform, pdist,jaccard\n",
    "import sys,  datetime, os\n",
    "import requests\n",
    "import chardet"
   ]
  },
  {
   "cell_type": "markdown",
   "metadata": {},
   "source": [
    "## Load Data"
   ]
  },
  {
   "cell_type": "markdown",
   "metadata": {},
   "source": [
    "#### Load TTD to UniProt"
   ]
  },
  {
   "cell_type": "code",
   "execution_count": 41,
   "metadata": {},
   "outputs": [],
   "source": [
    "ttd_uni = pd.read_table('Input/TTD_uniprot_all.txt', engine = 'python')"
   ]
  },
  {
   "cell_type": "code",
   "execution_count": 42,
   "metadata": {},
   "outputs": [
    {
     "data": {
      "text/html": [
       "<div>\n",
       "<style scoped>\n",
       "    .dataframe tbody tr th:only-of-type {\n",
       "        vertical-align: middle;\n",
       "    }\n",
       "\n",
       "    .dataframe tbody tr th {\n",
       "        vertical-align: top;\n",
       "    }\n",
       "\n",
       "    .dataframe thead th {\n",
       "        text-align: right;\n",
       "    }\n",
       "</style>\n",
       "<table border=\"1\" class=\"dataframe\">\n",
       "  <thead>\n",
       "    <tr style=\"text-align: right;\">\n",
       "      <th></th>\n",
       "      <th>TTD Target ID</th>\n",
       "      <th>Target Name</th>\n",
       "      <th>Target Type</th>\n",
       "      <th>Uniprot ID</th>\n",
       "    </tr>\n",
       "  </thead>\n",
       "  <tbody>\n",
       "    <tr>\n",
       "      <th>0</th>\n",
       "      <td>TTDS00002</td>\n",
       "      <td>Muscarinic acetylcholine receptor M1</td>\n",
       "      <td>Successful target</td>\n",
       "      <td>P11229</td>\n",
       "    </tr>\n",
       "    <tr>\n",
       "      <th>1</th>\n",
       "      <td>TTDS00003</td>\n",
       "      <td>Muscarinic acetylcholine receptor M2</td>\n",
       "      <td>Successful target</td>\n",
       "      <td>P08172</td>\n",
       "    </tr>\n",
       "    <tr>\n",
       "      <th>2</th>\n",
       "      <td>TTDS00004</td>\n",
       "      <td>Muscarinic acetylcholine receptor M3</td>\n",
       "      <td>Successful target</td>\n",
       "      <td>P20309</td>\n",
       "    </tr>\n",
       "    <tr>\n",
       "      <th>3</th>\n",
       "      <td>TTDS00005</td>\n",
       "      <td>Muscarinic acetylcholine receptor M4</td>\n",
       "      <td>Successful target</td>\n",
       "      <td>P08173</td>\n",
       "    </tr>\n",
       "    <tr>\n",
       "      <th>4</th>\n",
       "      <td>TTDS00006</td>\n",
       "      <td>Muscarinic acetylcholine receptor M5</td>\n",
       "      <td>Successful target</td>\n",
       "      <td>P08912</td>\n",
       "    </tr>\n",
       "  </tbody>\n",
       "</table>\n",
       "</div>"
      ],
      "text/plain": [
       "  TTD Target ID                           Target Name        Target Type  \\\n",
       "0     TTDS00002  Muscarinic acetylcholine receptor M1  Successful target   \n",
       "1     TTDS00003  Muscarinic acetylcholine receptor M2  Successful target   \n",
       "2     TTDS00004  Muscarinic acetylcholine receptor M3  Successful target   \n",
       "3     TTDS00005  Muscarinic acetylcholine receptor M4  Successful target   \n",
       "4     TTDS00006  Muscarinic acetylcholine receptor M5  Successful target   \n",
       "\n",
       "  Uniprot ID  \n",
       "0     P11229  \n",
       "1     P08172  \n",
       "2     P20309  \n",
       "3     P08173  \n",
       "4     P08912  "
      ]
     },
     "execution_count": 42,
     "metadata": {},
     "output_type": "execute_result"
    }
   ],
   "source": [
    "ttd_uni.head()"
   ]
  },
  {
   "cell_type": "markdown",
   "metadata": {},
   "source": [
    "#### Load UniProt to Gene"
   ]
  },
  {
   "cell_type": "code",
   "execution_count": 43,
   "metadata": {},
   "outputs": [],
   "source": [
    "uniprot = pd.read_table('Input/gene_to_uniprot.txt')"
   ]
  },
  {
   "cell_type": "code",
   "execution_count": 44,
   "metadata": {},
   "outputs": [
    {
     "data": {
      "text/html": [
       "<div>\n",
       "<style scoped>\n",
       "    .dataframe tbody tr th:only-of-type {\n",
       "        vertical-align: middle;\n",
       "    }\n",
       "\n",
       "    .dataframe tbody tr th {\n",
       "        vertical-align: top;\n",
       "    }\n",
       "\n",
       "    .dataframe thead th {\n",
       "        text-align: right;\n",
       "    }\n",
       "</style>\n",
       "<table border=\"1\" class=\"dataframe\">\n",
       "  <thead>\n",
       "    <tr style=\"text-align: right;\">\n",
       "      <th></th>\n",
       "      <th>Approved Symbol</th>\n",
       "      <th>UniProt ID</th>\n",
       "    </tr>\n",
       "  </thead>\n",
       "  <tbody>\n",
       "    <tr>\n",
       "      <th>0</th>\n",
       "      <td>A1BG</td>\n",
       "      <td>P04217</td>\n",
       "    </tr>\n",
       "    <tr>\n",
       "      <th>1</th>\n",
       "      <td>A1BG-AS1</td>\n",
       "      <td>NaN</td>\n",
       "    </tr>\n",
       "    <tr>\n",
       "      <th>2</th>\n",
       "      <td>A1CF</td>\n",
       "      <td>Q9NQ94</td>\n",
       "    </tr>\n",
       "    <tr>\n",
       "      <th>3</th>\n",
       "      <td>A2M</td>\n",
       "      <td>P01023</td>\n",
       "    </tr>\n",
       "    <tr>\n",
       "      <th>4</th>\n",
       "      <td>A2M-AS1</td>\n",
       "      <td>NaN</td>\n",
       "    </tr>\n",
       "  </tbody>\n",
       "</table>\n",
       "</div>"
      ],
      "text/plain": [
       "  Approved Symbol UniProt ID\n",
       "0            A1BG     P04217\n",
       "1        A1BG-AS1        NaN\n",
       "2            A1CF     Q9NQ94\n",
       "3             A2M     P01023\n",
       "4         A2M-AS1        NaN"
      ]
     },
     "execution_count": 44,
     "metadata": {},
     "output_type": "execute_result"
    }
   ],
   "source": [
    "uniprot.head()"
   ]
  },
  {
   "cell_type": "code",
   "execution_count": 45,
   "metadata": {},
   "outputs": [],
   "source": [
    "uniprot = uniprot.rename(index=str, columns = {'Approved Symbol':'Gene'})"
   ]
  },
  {
   "cell_type": "markdown",
   "metadata": {},
   "source": [
    "## Fix TTD UniProt Column"
   ]
  },
  {
   "cell_type": "code",
   "execution_count": 46,
   "metadata": {},
   "outputs": [
    {
     "name": "stdout",
     "output_type": "stream",
     "text": [
      "386\n",
      "120\n"
     ]
    }
   ],
   "source": [
    "how_many = 0\n",
    "appended_ttd = []\n",
    "uni_index = np.where(ttd_uni.columns.values=='Uniprot ID')[0][0]\n",
    "\n",
    "for index, row in ttd_uni.iterrows():\n",
    "    uni_group = row.loc['Uniprot ID']\n",
    "    if '; ' in uni_group:\n",
    "        uni_split = uni_group.split('; ')\n",
    "        for i in uni_split:\n",
    "            row_as_list = row.values.tolist()\n",
    "            row_as_list[uni_index] = i\n",
    "            appended_ttd.append(row_as_list)\n",
    "        ttd_uni.drop(index, inplace = True)\n",
    "        how_many += 1\n",
    "print(len(appended_ttd))\n",
    "print(how_many)"
   ]
  },
  {
   "cell_type": "code",
   "execution_count": 47,
   "metadata": {},
   "outputs": [],
   "source": [
    "columnnames = list(ttd_uni.columns.values)\n",
    "fix_ttd_uni = pd.DataFrame(appended_ttd,columns = columnnames)"
   ]
  },
  {
   "cell_type": "code",
   "execution_count": 48,
   "metadata": {},
   "outputs": [
    {
     "data": {
      "text/html": [
       "<div>\n",
       "<style scoped>\n",
       "    .dataframe tbody tr th:only-of-type {\n",
       "        vertical-align: middle;\n",
       "    }\n",
       "\n",
       "    .dataframe tbody tr th {\n",
       "        vertical-align: top;\n",
       "    }\n",
       "\n",
       "    .dataframe thead th {\n",
       "        text-align: right;\n",
       "    }\n",
       "</style>\n",
       "<table border=\"1\" class=\"dataframe\">\n",
       "  <thead>\n",
       "    <tr style=\"text-align: right;\">\n",
       "      <th></th>\n",
       "      <th>TTD Target ID</th>\n",
       "      <th>Target Name</th>\n",
       "      <th>Target Type</th>\n",
       "      <th>Uniprot ID</th>\n",
       "    </tr>\n",
       "  </thead>\n",
       "  <tbody>\n",
       "    <tr>\n",
       "      <th>0</th>\n",
       "      <td>TTDS00059</td>\n",
       "      <td>Dihydroorotate dehydrogenase, mitochondrial</td>\n",
       "      <td>Successful target</td>\n",
       "      <td>Q02127</td>\n",
       "    </tr>\n",
       "    <tr>\n",
       "      <th>1</th>\n",
       "      <td>TTDS00059</td>\n",
       "      <td>Dihydroorotate dehydrogenase, mitochondrial</td>\n",
       "      <td>Successful target</td>\n",
       "      <td>Q08210</td>\n",
       "    </tr>\n",
       "    <tr>\n",
       "      <th>2</th>\n",
       "      <td>TTDS00077</td>\n",
       "      <td>Glycoprotein IIb/IIIa receptor</td>\n",
       "      <td>Successful target</td>\n",
       "      <td>P05106</td>\n",
       "    </tr>\n",
       "    <tr>\n",
       "      <th>3</th>\n",
       "      <td>TTDS00077</td>\n",
       "      <td>Glycoprotein IIb/IIIa receptor</td>\n",
       "      <td>Successful target</td>\n",
       "      <td>P08514</td>\n",
       "    </tr>\n",
       "    <tr>\n",
       "      <th>4</th>\n",
       "      <td>TTDS00139</td>\n",
       "      <td>Interleukin-2 receptor</td>\n",
       "      <td>Successful target</td>\n",
       "      <td>P01589</td>\n",
       "    </tr>\n",
       "  </tbody>\n",
       "</table>\n",
       "</div>"
      ],
      "text/plain": [
       "  TTD Target ID                                  Target Name  \\\n",
       "0     TTDS00059  Dihydroorotate dehydrogenase, mitochondrial   \n",
       "1     TTDS00059  Dihydroorotate dehydrogenase, mitochondrial   \n",
       "2     TTDS00077               Glycoprotein IIb/IIIa receptor   \n",
       "3     TTDS00077               Glycoprotein IIb/IIIa receptor   \n",
       "4     TTDS00139                       Interleukin-2 receptor   \n",
       "\n",
       "         Target Type Uniprot ID  \n",
       "0  Successful target     Q02127  \n",
       "1  Successful target     Q08210  \n",
       "2  Successful target     P05106  \n",
       "3  Successful target     P08514  \n",
       "4  Successful target     P01589  "
      ]
     },
     "execution_count": 48,
     "metadata": {},
     "output_type": "execute_result"
    }
   ],
   "source": [
    "fix_ttd_uni.head()"
   ]
  },
  {
   "cell_type": "code",
   "execution_count": 49,
   "metadata": {},
   "outputs": [],
   "source": [
    "ttd_uni = ttd_uni.append(fix_ttd_uni)"
   ]
  },
  {
   "cell_type": "code",
   "execution_count": 55,
   "metadata": {},
   "outputs": [
    {
     "data": {
      "text/html": [
       "<div>\n",
       "<style scoped>\n",
       "    .dataframe tbody tr th:only-of-type {\n",
       "        vertical-align: middle;\n",
       "    }\n",
       "\n",
       "    .dataframe tbody tr th {\n",
       "        vertical-align: top;\n",
       "    }\n",
       "\n",
       "    .dataframe thead th {\n",
       "        text-align: right;\n",
       "    }\n",
       "</style>\n",
       "<table border=\"1\" class=\"dataframe\">\n",
       "  <thead>\n",
       "    <tr style=\"text-align: right;\">\n",
       "      <th></th>\n",
       "      <th>UniProt ID</th>\n",
       "      <th>TTD Target ID</th>\n",
       "      <th>Target Name</th>\n",
       "      <th>Target Type</th>\n",
       "      <th>Gene</th>\n",
       "    </tr>\n",
       "  </thead>\n",
       "  <tbody>\n",
       "    <tr>\n",
       "      <th>0</th>\n",
       "      <td>P11229</td>\n",
       "      <td>TTDS00002</td>\n",
       "      <td>Muscarinic acetylcholine receptor M1</td>\n",
       "      <td>Successful target</td>\n",
       "      <td>CHRM1</td>\n",
       "    </tr>\n",
       "    <tr>\n",
       "      <th>1</th>\n",
       "      <td>P08172</td>\n",
       "      <td>TTDS00003</td>\n",
       "      <td>Muscarinic acetylcholine receptor M2</td>\n",
       "      <td>Successful target</td>\n",
       "      <td>CHRM2</td>\n",
       "    </tr>\n",
       "    <tr>\n",
       "      <th>2</th>\n",
       "      <td>P20309</td>\n",
       "      <td>TTDS00004</td>\n",
       "      <td>Muscarinic acetylcholine receptor M3</td>\n",
       "      <td>Successful target</td>\n",
       "      <td>CHRM3</td>\n",
       "    </tr>\n",
       "    <tr>\n",
       "      <th>3</th>\n",
       "      <td>P08173</td>\n",
       "      <td>TTDS00005</td>\n",
       "      <td>Muscarinic acetylcholine receptor M4</td>\n",
       "      <td>Successful target</td>\n",
       "      <td>CHRM4</td>\n",
       "    </tr>\n",
       "    <tr>\n",
       "      <th>4</th>\n",
       "      <td>P08912</td>\n",
       "      <td>TTDS00006</td>\n",
       "      <td>Muscarinic acetylcholine receptor M5</td>\n",
       "      <td>Successful target</td>\n",
       "      <td>CHRM5</td>\n",
       "    </tr>\n",
       "  </tbody>\n",
       "</table>\n",
       "</div>"
      ],
      "text/plain": [
       "  UniProt ID TTD Target ID                           Target Name  \\\n",
       "0     P11229     TTDS00002  Muscarinic acetylcholine receptor M1   \n",
       "1     P08172     TTDS00003  Muscarinic acetylcholine receptor M2   \n",
       "2     P20309     TTDS00004  Muscarinic acetylcholine receptor M3   \n",
       "3     P08173     TTDS00005  Muscarinic acetylcholine receptor M4   \n",
       "4     P08912     TTDS00006  Muscarinic acetylcholine receptor M5   \n",
       "\n",
       "         Target Type   Gene  \n",
       "0  Successful target  CHRM1  \n",
       "1  Successful target  CHRM2  \n",
       "2  Successful target  CHRM3  \n",
       "3  Successful target  CHRM4  \n",
       "4  Successful target  CHRM5  "
      ]
     },
     "execution_count": 55,
     "metadata": {},
     "output_type": "execute_result"
    }
   ],
   "source": [
    "ttd_uni.head()"
   ]
  },
  {
   "cell_type": "code",
   "execution_count": 51,
   "metadata": {},
   "outputs": [],
   "source": [
    "ttd_uni = ttd_uni.rename(index=str, columns = {'Uniprot ID':'UniProt ID'})"
   ]
  },
  {
   "cell_type": "markdown",
   "metadata": {},
   "source": [
    "## Map TTD target to Gene"
   ]
  },
  {
   "cell_type": "code",
   "execution_count": 52,
   "metadata": {},
   "outputs": [],
   "source": [
    "ttd_uni.set_index('UniProt ID', inplace = True)\n",
    "uniprot.set_index('UniProt ID', inplace = True)"
   ]
  },
  {
   "cell_type": "code",
   "execution_count": 53,
   "metadata": {},
   "outputs": [
    {
     "data": {
      "text/plain": [
       "(3535, 4)"
      ]
     },
     "execution_count": 53,
     "metadata": {},
     "output_type": "execute_result"
    }
   ],
   "source": [
    "ttd_uni = pd.merge(ttd_uni, uniprot, how = 'left', on = 'UniProt ID')\n",
    "ttd_uni.shape"
   ]
  },
  {
   "cell_type": "code",
   "execution_count": 54,
   "metadata": {},
   "outputs": [],
   "source": [
    "ttd_uni.reset_index(inplace = True)"
   ]
  },
  {
   "cell_type": "code",
   "execution_count": 56,
   "metadata": {},
   "outputs": [],
   "source": [
    "ttd_uni = ttd_uni.dropna(subset=['Gene'])"
   ]
  },
  {
   "cell_type": "code",
   "execution_count": 57,
   "metadata": {},
   "outputs": [
    {
     "data": {
      "text/plain": [
       "(3039, 5)"
      ]
     },
     "execution_count": 57,
     "metadata": {},
     "output_type": "execute_result"
    }
   ],
   "source": [
    "ttd_uni.shape"
   ]
  },
  {
   "cell_type": "markdown",
   "metadata": {},
   "source": [
    "## Save as a CSV"
   ]
  },
  {
   "cell_type": "code",
   "execution_count": 59,
   "metadata": {},
   "outputs": [],
   "source": [
    "filename = 'TTD_to_Gene_%s.tsv.zip'% str(datetime.date.today())[0:7].replace('-', '_')\n",
    "ttd_uni.to_csv(filename, sep='\\t', compression='gzip')"
   ]
  },
  {
   "cell_type": "code",
   "execution_count": null,
   "metadata": {},
   "outputs": [],
   "source": []
  }
 ],
 "metadata": {
  "kernelspec": {
   "display_name": "Python 3",
   "language": "python",
   "name": "python3"
  },
  "language_info": {
   "codemirror_mode": {
    "name": "ipython",
    "version": 3
   },
   "file_extension": ".py",
   "mimetype": "text/x-python",
   "name": "python",
   "nbconvert_exporter": "python",
   "pygments_lexer": "ipython3",
   "version": "3.6.5"
  }
 },
 "nbformat": 4,
 "nbformat_minor": 2
}
