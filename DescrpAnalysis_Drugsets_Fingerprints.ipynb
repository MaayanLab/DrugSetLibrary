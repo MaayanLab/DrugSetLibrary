{
 "cells": [
  {
   "cell_type": "markdown",
   "metadata": {},
   "source": [
    "## Import Libraries"
   ]
  },
  {
   "cell_type": "code",
   "execution_count": null,
   "metadata": {},
   "outputs": [],
   "source": [
    "import pandas as pd\n",
    "import numpy as np\n",
    "from sklearn import metrics\n",
    "import seaborn as sns\n",
    "from scipy import stats, integrate\n",
    "import matplotlib.pyplot as plt\n",
    "import sys,  datetime, os"
   ]
  },
  {
   "cell_type": "markdown",
   "metadata": {},
   "source": [
    "## Load Data"
   ]
  },
  {
   "cell_type": "code",
   "execution_count": null,
   "metadata": {
    "scrolled": true
   },
   "outputs": [],
   "source": [
    "X2 = pd.read_table('Output/Morg2f_BMatrix_map_2018_07.tsv')\n",
    "X2[X2.columns[0]] = X2[X2.columns[0]].astype(str)\n",
    "X2.set_index(X2.columns[0], inplace = True)\n",
    "# X2= X2.T\n",
    "X2.head(1)"
   ]
  },
  {
   "cell_type": "code",
   "execution_count": null,
   "metadata": {
    "scrolled": true
   },
   "outputs": [],
   "source": [
    "X1 = pd.read_table('All_bmat/DrugBank_Targets_2018_06.tsv')\n",
    "X1.set_index(X1.columns[0], inplace = True)\n",
    "X1 = X1.T\n",
    "X1.head(1)"
   ]
  },
  {
   "cell_type": "markdown",
   "metadata": {},
   "source": [
    "## Get only drugs shared by the two dfs"
   ]
  },
  {
   "cell_type": "code",
   "execution_count": null,
   "metadata": {},
   "outputs": [],
   "source": [
    "shared_drugs = sorted(list(set(X1.index) & set(X2.index)))\n",
    "X1 = X1.loc[shared_drugs]\n",
    "X2 = X2.loc[shared_drugs]\n",
    "print(X1.shape, X2.shape)"
   ]
  },
  {
   "cell_type": "markdown",
   "metadata": {},
   "source": [
    "## Eliminate Sparse Rows and Columns  then create Similarity Matrix"
   ]
  },
  {
   "cell_type": "code",
   "execution_count": null,
   "metadata": {},
   "outputs": [],
   "source": [
    "sns.distplot(list(X1.sum(axis=0)))"
   ]
  },
  {
   "cell_type": "code",
   "execution_count": null,
   "metadata": {},
   "outputs": [],
   "source": [
    "x1_col_drop = []\n",
    "x1_amt_nonzero = X1.sum(axis=0)\n",
    "for amt in x1_amt_nonzero.iteritems():\n",
    "    if abs(amt[1]) < 3:\n",
    "        x1_col_drop.append(amt[0])\n",
    "X1 = X1.drop(columns = x1_col_drop)\n",
    "X1.head()"
   ]
  },
  {
   "cell_type": "code",
   "execution_count": null,
   "metadata": {},
   "outputs": [],
   "source": [
    "sns.distplot(list(X2.sum(axis=0)))"
   ]
  },
  {
   "cell_type": "code",
   "execution_count": null,
   "metadata": {},
   "outputs": [],
   "source": [
    "x2_col_drop = []\n",
    "x2_amt_nonzero = X2.sum(axis=0)\n",
    "for amt in x2_amt_nonzero.iteritems():\n",
    "    if amt[1] <21:\n",
    "        x2_col_drop.append(amt[0])\n",
    "        \n",
    "X2 = X2.drop(columns = x2_col_drop)\n",
    "X2.shape"
   ]
  },
  {
   "cell_type": "code",
   "execution_count": null,
   "metadata": {},
   "outputs": [],
   "source": [
    "shared_drugs = sorted(list(set(X1.index) & set(X2.index)))\n",
    "X1 = X1.loc[shared_drugs]\n",
    "X2 = X2.loc[shared_drugs]\n",
    "print(X1.shape, X2.shape)"
   ]
  },
  {
   "cell_type": "code",
   "execution_count": null,
   "metadata": {
    "scrolled": true
   },
   "outputs": [],
   "source": [
    "sim_mat = 1- metrics.pairwise.pairwise_distances(X1.values.T, X2.values.T, metric='cosine')\n",
    "sns.heatmap(pd.DataFrame(sim_mat, index=X1.columns, columns=X2.columns))"
   ]
  },
  {
   "cell_type": "code",
   "execution_count": null,
   "metadata": {},
   "outputs": [],
   "source": [
    "clustermap = sns.clustermap(pd.DataFrame(sim_mat, index=X1.columns, columns=X2.columns), cmap=\"jet\")"
   ]
  },
  {
   "cell_type": "markdown",
   "metadata": {},
   "source": [
    "## Save the df and clustermap"
   ]
  },
  {
   "cell_type": "code",
   "execution_count": null,
   "metadata": {},
   "outputs": [],
   "source": [
    "clustermap.savefig('Clustermaps/l1000_topt.png')\n",
    "filename = 'Clustermaps/Morg2f_drugbank.tsv'### % str(datetime.date.today())[0:7].replace('-', '_')\n",
    "sim_df = pd.DataFrame(sim_mat, index=X1.columns, columns=X2.columns)\n",
    "sim_df.to_csv(filename, sep='\\t')"
   ]
  }
 ],
 "metadata": {
  "kernelspec": {
   "display_name": "Python 3",
   "language": "python",
   "name": "python3"
  },
  "language_info": {
   "codemirror_mode": {
    "name": "ipython",
    "version": 3
   },
   "file_extension": ".py",
   "mimetype": "text/x-python",
   "name": "python",
   "nbconvert_exporter": "python",
   "pygments_lexer": "ipython3",
   "version": "3.6.5"
  }
 },
 "nbformat": 4,
 "nbformat_minor": 2
}
