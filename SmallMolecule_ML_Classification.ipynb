{
 "cells": [
  {
   "cell_type": "markdown",
   "metadata": {},
   "source": [
    "## Import Libraries"
   ]
  },
  {
   "cell_type": "code",
   "execution_count": 15,
   "metadata": {},
   "outputs": [],
   "source": [
    "import numpy as np\n",
    "import pandas as pd\n",
    "from sklearn.datasets import make_regression\n",
    "from sklearn import linear_model, ensemble, model_selection, metrics, tree, neighbors\n",
    "import seaborn as sns\n",
    "import matplotlib.pyplot as plt\n",
    "import time\n",
    "from sklearn import decomposition, feature_selection, svm, neighbors, datasets, preprocessing, neighbors, neural_network, dummy\n",
    "from matplotlib import pyplot"
   ]
  },
  {
   "cell_type": "code",
   "execution_count": 16,
   "metadata": {},
   "outputs": [],
   "source": [
    "from sklearn.utils import shuffle\n",
    "from sklearn.metrics import mean_squared_error\n",
    "from collections import Counter"
   ]
  },
  {
   "cell_type": "markdown",
   "metadata": {},
   "source": [
    "## Load Data"
   ]
  },
  {
   "cell_type": "markdown",
   "metadata": {},
   "source": [
    "#### Y matrix (Gene Signature)"
   ]
  },
  {
   "cell_type": "code",
   "execution_count": 34,
   "metadata": {},
   "outputs": [
    {
     "data": {
      "text/html": [
       "<div>\n",
       "<style scoped>\n",
       "    .dataframe tbody tr th:only-of-type {\n",
       "        vertical-align: middle;\n",
       "    }\n",
       "\n",
       "    .dataframe tbody tr th {\n",
       "        vertical-align: top;\n",
       "    }\n",
       "\n",
       "    .dataframe thead th {\n",
       "        text-align: right;\n",
       "    }\n",
       "</style>\n",
       "<table border=\"1\" class=\"dataframe\">\n",
       "  <thead>\n",
       "    <tr style=\"text-align: right;\">\n",
       "      <th></th>\n",
       "      <th>10007</th>\n",
       "      <th>1001</th>\n",
       "      <th>10013</th>\n",
       "      <th>10038</th>\n",
       "      <th>10046</th>\n",
       "      <th>10049</th>\n",
       "      <th>10051</th>\n",
       "      <th>10057</th>\n",
       "      <th>10058</th>\n",
       "      <th>10059</th>\n",
       "      <th>...</th>\n",
       "      <th>9918</th>\n",
       "      <th>9924</th>\n",
       "      <th>9926</th>\n",
       "      <th>9928</th>\n",
       "      <th>993</th>\n",
       "      <th>994</th>\n",
       "      <th>9943</th>\n",
       "      <th>9961</th>\n",
       "      <th>998</th>\n",
       "      <th>9988</th>\n",
       "    </tr>\n",
       "    <tr>\n",
       "      <th>pert_id</th>\n",
       "      <th></th>\n",
       "      <th></th>\n",
       "      <th></th>\n",
       "      <th></th>\n",
       "      <th></th>\n",
       "      <th></th>\n",
       "      <th></th>\n",
       "      <th></th>\n",
       "      <th></th>\n",
       "      <th></th>\n",
       "      <th></th>\n",
       "      <th></th>\n",
       "      <th></th>\n",
       "      <th></th>\n",
       "      <th></th>\n",
       "      <th></th>\n",
       "      <th></th>\n",
       "      <th></th>\n",
       "      <th></th>\n",
       "      <th></th>\n",
       "      <th></th>\n",
       "    </tr>\n",
       "  </thead>\n",
       "  <tbody>\n",
       "    <tr>\n",
       "      <th>BRD-A00100033</th>\n",
       "      <td>0.0</td>\n",
       "      <td>1.0</td>\n",
       "      <td>0.0</td>\n",
       "      <td>0.0</td>\n",
       "      <td>0.0</td>\n",
       "      <td>0.0</td>\n",
       "      <td>0.0</td>\n",
       "      <td>0.0</td>\n",
       "      <td>0.0</td>\n",
       "      <td>0.0</td>\n",
       "      <td>...</td>\n",
       "      <td>0.0</td>\n",
       "      <td>0.0</td>\n",
       "      <td>0.0</td>\n",
       "      <td>0.0</td>\n",
       "      <td>0.0</td>\n",
       "      <td>0.0</td>\n",
       "      <td>0.0</td>\n",
       "      <td>0.0</td>\n",
       "      <td>0.0</td>\n",
       "      <td>1.0</td>\n",
       "    </tr>\n",
       "  </tbody>\n",
       "</table>\n",
       "<p>1 rows × 978 columns</p>\n",
       "</div>"
      ],
      "text/plain": [
       "               10007  1001  10013  10038  10046  10049  10051  10057  10058  \\\n",
       "pert_id                                                                       \n",
       "BRD-A00100033    0.0   1.0    0.0    0.0    0.0    0.0    0.0    0.0    0.0   \n",
       "\n",
       "               10059  ...   9918  9924  9926  9928  993  994  9943  9961  998  \\\n",
       "pert_id               ...                                                       \n",
       "BRD-A00100033    0.0  ...    0.0   0.0   0.0   0.0  0.0  0.0   0.0   0.0  0.0   \n",
       "\n",
       "               9988  \n",
       "pert_id              \n",
       "BRD-A00100033   1.0  \n",
       "\n",
       "[1 rows x 978 columns]"
      ]
     },
     "execution_count": 34,
     "metadata": {},
     "output_type": "execute_result"
    }
   ],
   "source": [
    "Y = pd.read_table('Output/L1000_ClassificationMat_2018_07.tsv')\n",
    "Y.set_index('pert_id', inplace=True)\n",
    "Y.head(1)"
   ]
  },
  {
   "cell_type": "markdown",
   "metadata": {},
   "source": [
    "#### Multiple X matricies (Fingerprints)"
   ]
  },
  {
   "cell_type": "code",
   "execution_count": 35,
   "metadata": {
    "scrolled": true
   },
   "outputs": [
    {
     "data": {
      "text/html": [
       "<div>\n",
       "<style scoped>\n",
       "    .dataframe tbody tr th:only-of-type {\n",
       "        vertical-align: middle;\n",
       "    }\n",
       "\n",
       "    .dataframe tbody tr th {\n",
       "        vertical-align: top;\n",
       "    }\n",
       "\n",
       "    .dataframe thead th {\n",
       "        text-align: right;\n",
       "    }\n",
       "</style>\n",
       "<table border=\"1\" class=\"dataframe\">\n",
       "  <thead>\n",
       "    <tr style=\"text-align: right;\">\n",
       "      <th></th>\n",
       "      <th>Morg1_0</th>\n",
       "      <th>Morg1_1</th>\n",
       "      <th>Morg1_2</th>\n",
       "      <th>Morg1_3</th>\n",
       "      <th>Morg1_4</th>\n",
       "      <th>Morg1_5</th>\n",
       "      <th>Morg1_6</th>\n",
       "      <th>Morg1_7</th>\n",
       "      <th>Morg1_8</th>\n",
       "      <th>Morg1_9</th>\n",
       "      <th>...</th>\n",
       "      <th>Avalon_502</th>\n",
       "      <th>Avalon_503</th>\n",
       "      <th>Avalon_504</th>\n",
       "      <th>Avalon_505</th>\n",
       "      <th>Avalon_506</th>\n",
       "      <th>Avalon_507</th>\n",
       "      <th>Avalon_508</th>\n",
       "      <th>Avalon_509</th>\n",
       "      <th>Avalon_510</th>\n",
       "      <th>Avalon_511</th>\n",
       "    </tr>\n",
       "    <tr>\n",
       "      <th>Unnamed: 0</th>\n",
       "      <th></th>\n",
       "      <th></th>\n",
       "      <th></th>\n",
       "      <th></th>\n",
       "      <th></th>\n",
       "      <th></th>\n",
       "      <th></th>\n",
       "      <th></th>\n",
       "      <th></th>\n",
       "      <th></th>\n",
       "      <th></th>\n",
       "      <th></th>\n",
       "      <th></th>\n",
       "      <th></th>\n",
       "      <th></th>\n",
       "      <th></th>\n",
       "      <th></th>\n",
       "      <th></th>\n",
       "      <th></th>\n",
       "      <th></th>\n",
       "      <th></th>\n",
       "    </tr>\n",
       "  </thead>\n",
       "  <tbody>\n",
       "    <tr>\n",
       "      <th>BRD-A00100033</th>\n",
       "      <td>0.0</td>\n",
       "      <td>0.0</td>\n",
       "      <td>0.0</td>\n",
       "      <td>0.0</td>\n",
       "      <td>0.0</td>\n",
       "      <td>0.0</td>\n",
       "      <td>0.0</td>\n",
       "      <td>0.0</td>\n",
       "      <td>0.0</td>\n",
       "      <td>0.0</td>\n",
       "      <td>...</td>\n",
       "      <td>1.0</td>\n",
       "      <td>0.0</td>\n",
       "      <td>1.0</td>\n",
       "      <td>1.0</td>\n",
       "      <td>0.0</td>\n",
       "      <td>1.0</td>\n",
       "      <td>0.0</td>\n",
       "      <td>0.0</td>\n",
       "      <td>1.0</td>\n",
       "      <td>1.0</td>\n",
       "    </tr>\n",
       "    <tr>\n",
       "      <th>BRD-A00267231</th>\n",
       "      <td>0.0</td>\n",
       "      <td>0.0</td>\n",
       "      <td>0.0</td>\n",
       "      <td>0.0</td>\n",
       "      <td>0.0</td>\n",
       "      <td>0.0</td>\n",
       "      <td>0.0</td>\n",
       "      <td>0.0</td>\n",
       "      <td>0.0</td>\n",
       "      <td>0.0</td>\n",
       "      <td>...</td>\n",
       "      <td>1.0</td>\n",
       "      <td>0.0</td>\n",
       "      <td>1.0</td>\n",
       "      <td>0.0</td>\n",
       "      <td>0.0</td>\n",
       "      <td>1.0</td>\n",
       "      <td>1.0</td>\n",
       "      <td>0.0</td>\n",
       "      <td>1.0</td>\n",
       "      <td>1.0</td>\n",
       "    </tr>\n",
       "    <tr>\n",
       "      <th>BRD-A00420644</th>\n",
       "      <td>0.0</td>\n",
       "      <td>0.0</td>\n",
       "      <td>0.0</td>\n",
       "      <td>0.0</td>\n",
       "      <td>0.0</td>\n",
       "      <td>0.0</td>\n",
       "      <td>0.0</td>\n",
       "      <td>0.0</td>\n",
       "      <td>0.0</td>\n",
       "      <td>0.0</td>\n",
       "      <td>...</td>\n",
       "      <td>0.0</td>\n",
       "      <td>1.0</td>\n",
       "      <td>1.0</td>\n",
       "      <td>0.0</td>\n",
       "      <td>0.0</td>\n",
       "      <td>1.0</td>\n",
       "      <td>0.0</td>\n",
       "      <td>0.0</td>\n",
       "      <td>1.0</td>\n",
       "      <td>0.0</td>\n",
       "    </tr>\n",
       "    <tr>\n",
       "      <th>BRD-A00474148</th>\n",
       "      <td>0.0</td>\n",
       "      <td>0.0</td>\n",
       "      <td>0.0</td>\n",
       "      <td>0.0</td>\n",
       "      <td>0.0</td>\n",
       "      <td>0.0</td>\n",
       "      <td>0.0</td>\n",
       "      <td>0.0</td>\n",
       "      <td>0.0</td>\n",
       "      <td>0.0</td>\n",
       "      <td>...</td>\n",
       "      <td>1.0</td>\n",
       "      <td>0.0</td>\n",
       "      <td>0.0</td>\n",
       "      <td>0.0</td>\n",
       "      <td>0.0</td>\n",
       "      <td>1.0</td>\n",
       "      <td>0.0</td>\n",
       "      <td>0.0</td>\n",
       "      <td>1.0</td>\n",
       "      <td>1.0</td>\n",
       "    </tr>\n",
       "    <tr>\n",
       "      <th>BRD-A00520476</th>\n",
       "      <td>0.0</td>\n",
       "      <td>0.0</td>\n",
       "      <td>0.0</td>\n",
       "      <td>0.0</td>\n",
       "      <td>0.0</td>\n",
       "      <td>0.0</td>\n",
       "      <td>0.0</td>\n",
       "      <td>0.0</td>\n",
       "      <td>0.0</td>\n",
       "      <td>0.0</td>\n",
       "      <td>...</td>\n",
       "      <td>1.0</td>\n",
       "      <td>0.0</td>\n",
       "      <td>1.0</td>\n",
       "      <td>0.0</td>\n",
       "      <td>0.0</td>\n",
       "      <td>1.0</td>\n",
       "      <td>0.0</td>\n",
       "      <td>0.0</td>\n",
       "      <td>1.0</td>\n",
       "      <td>0.0</td>\n",
       "    </tr>\n",
       "  </tbody>\n",
       "</table>\n",
       "<p>5 rows × 8871 columns</p>\n",
       "</div>"
      ],
      "text/plain": [
       "               Morg1_0  Morg1_1  Morg1_2  Morg1_3  Morg1_4  Morg1_5  Morg1_6  \\\n",
       "Unnamed: 0                                                                     \n",
       "BRD-A00100033      0.0      0.0      0.0      0.0      0.0      0.0      0.0   \n",
       "BRD-A00267231      0.0      0.0      0.0      0.0      0.0      0.0      0.0   \n",
       "BRD-A00420644      0.0      0.0      0.0      0.0      0.0      0.0      0.0   \n",
       "BRD-A00474148      0.0      0.0      0.0      0.0      0.0      0.0      0.0   \n",
       "BRD-A00520476      0.0      0.0      0.0      0.0      0.0      0.0      0.0   \n",
       "\n",
       "               Morg1_7  Morg1_8  Morg1_9     ...      Avalon_502  Avalon_503  \\\n",
       "Unnamed: 0                                   ...                               \n",
       "BRD-A00100033      0.0      0.0      0.0     ...             1.0         0.0   \n",
       "BRD-A00267231      0.0      0.0      0.0     ...             1.0         0.0   \n",
       "BRD-A00420644      0.0      0.0      0.0     ...             0.0         1.0   \n",
       "BRD-A00474148      0.0      0.0      0.0     ...             1.0         0.0   \n",
       "BRD-A00520476      0.0      0.0      0.0     ...             1.0         0.0   \n",
       "\n",
       "               Avalon_504  Avalon_505  Avalon_506  Avalon_507  Avalon_508  \\\n",
       "Unnamed: 0                                                                  \n",
       "BRD-A00100033         1.0         1.0         0.0         1.0         0.0   \n",
       "BRD-A00267231         1.0         0.0         0.0         1.0         1.0   \n",
       "BRD-A00420644         1.0         0.0         0.0         1.0         0.0   \n",
       "BRD-A00474148         0.0         0.0         0.0         1.0         0.0   \n",
       "BRD-A00520476         1.0         0.0         0.0         1.0         0.0   \n",
       "\n",
       "               Avalon_509  Avalon_510  Avalon_511  \n",
       "Unnamed: 0                                         \n",
       "BRD-A00100033         0.0         1.0         1.0  \n",
       "BRD-A00267231         0.0         1.0         1.0  \n",
       "BRD-A00420644         0.0         1.0         0.0  \n",
       "BRD-A00474148         0.0         1.0         1.0  \n",
       "BRD-A00520476         0.0         1.0         0.0  \n",
       "\n",
       "[5 rows x 8871 columns]"
      ]
     },
     "execution_count": 35,
     "metadata": {},
     "output_type": "execute_result"
    }
   ],
   "source": [
    "X1 = pd.read_table('RDKit_fps/Morg1_BMatrix_map_2018_08.tsv')\n",
    "X1[X1.columns[0]] = X1[X1.columns[0]].astype(str)\n",
    "X1 = X1.set_index(X1.columns[0])\n",
    "\n",
    "X2 = pd.read_table('RDKit_fps/TopologicalTorsion_BMatrix_map_2018_08.tsv')\n",
    "X2[X2.columns[0]] = X2[X2.columns[0]].astype(str)\n",
    "X2 = X2.set_index(X2.columns[0])\n",
    "\n",
    "X3 = pd.read_table('RDKit_fps/AtomPair_BMatrix_map_2018_08.tsv')\n",
    "X3[X3.columns[0]] = X3[X3.columns[0]].astype(str)\n",
    "X3 = X3.set_index(X3.columns[0])\n",
    "\n",
    "X4 = pd.read_table('RDKit_fps/MACCs_BMatrix_map_2018_08.tsv')\n",
    "X4[X4.columns[0]] = X4[X4.columns[0]].astype(str)\n",
    "X4 = X4.set_index(X4.columns[0])\n",
    "\n",
    "X5 = pd.read_table('RDKit_fps/RDKfps2_BMatrix_map_2018_08.tsv')\n",
    "X5[X5.columns[0]] = X5[X5.columns[0]].astype(str)\n",
    "X5 = X5.set_index(X5.columns[0])\n",
    "\n",
    "X6 = pd.read_table('RDKit_fps/Avalon_BMatrix_map_2018_08.tsv')\n",
    "X6[X6.columns[0]] = X6[X6.columns[0]].astype(str)\n",
    "X6 = X6.set_index(X6.columns[0])\n",
    "\n",
    "# X7 = pd.read_table('Output/L1000_Scaffolds_2018_07.tsv')\n",
    "# X7[X7.columns[0]] = X7[X7.columns[0]].astype(str)\n",
    "# X7 = X7.set_index(X7.columns[0])\n",
    "# X7 = X7.T\n",
    "\n",
    "\n",
    "X = pd.concat([X1, X2,X3, X4, X5, X6], axis = 1, sort=True)\n",
    "# X = pd.concat([X7], axis = 1, sort=True)\n",
    "X = X.dropna()\n",
    "X.head()"
   ]
  },
  {
   "cell_type": "code",
   "execution_count": 131,
   "metadata": {},
   "outputs": [
    {
     "data": {
      "text/plain": [
       "(5435, 10752)"
      ]
     },
     "execution_count": 131,
     "metadata": {},
     "output_type": "execute_result"
    }
   ],
   "source": [
    "X.shape"
   ]
  },
  {
   "cell_type": "markdown",
   "metadata": {},
   "source": [
    "## Eliminate columns from X based on how many zeros it has"
   ]
  },
  {
   "cell_type": "code",
   "execution_count": 19,
   "metadata": {},
   "outputs": [
    {
     "name": "stderr",
     "output_type": "stream",
     "text": [
      "/anaconda3/lib/python3.6/site-packages/matplotlib/axes/_axes.py:6462: UserWarning: The 'normed' kwarg is deprecated, and has been replaced by the 'density' kwarg.\n",
      "  warnings.warn(\"The 'normed' kwarg is deprecated, and has been \"\n"
     ]
    },
    {
     "data": {
      "text/plain": [
       "<matplotlib.axes._subplots.AxesSubplot at 0x1a1ca19c18>"
      ]
     },
     "execution_count": 19,
     "metadata": {},
     "output_type": "execute_result"
    },
    {
     "data": {
      "image/png": "[encoded data removed]",
      "text/plain": [
       "<Figure size 432x288 with 1 Axes>"
      ]
     },
     "metadata": {},
     "output_type": "display_data"
    }
   ],
   "source": [
    "sns.distplot(list(X.sum(axis=0)))"
   ]
  },
  {
   "cell_type": "code",
   "execution_count": 21,
   "metadata": {},
   "outputs": [
    {
     "data": {
      "text/plain": [
       "(17590, 235)"
      ]
     },
     "execution_count": 21,
     "metadata": {},
     "output_type": "execute_result"
    }
   ],
   "source": [
    "x_col_drop = []\n",
    "x_amt_nonzero = X.sum(axis=0)\n",
    "for amt in x_amt_nonzero.iteritems():\n",
    "    if abs(amt[1]) < 30:\n",
    "        x_col_drop.append(amt[0])\n",
    "        \n",
    "X = X.drop(columns = x_col_drop)\n",
    "X.shape"
   ]
  },
  {
   "cell_type": "markdown",
   "metadata": {},
   "source": [
    "## Get drugs shared between X and Y"
   ]
  },
  {
   "cell_type": "code",
   "execution_count": 22,
   "metadata": {},
   "outputs": [],
   "source": [
    "shared_drugs = sorted(list(set(X.index) & set(Y.index)))\n",
    "X = X.loc[shared_drugs]\n",
    "Y = Y.loc[shared_drugs]\n",
    "X = X.values\n",
    "Y = Y.values"
   ]
  },
  {
   "cell_type": "markdown",
   "metadata": {},
   "source": [
    "## Normalize Y"
   ]
  },
  {
   "cell_type": "code",
   "execution_count": null,
   "metadata": {},
   "outputs": [],
   "source": [
    "Y = preprocessing.scale(Y)"
   ]
  },
  {
   "cell_type": "markdown",
   "metadata": {},
   "source": [
    "## Dimentionality Reduction"
   ]
  },
  {
   "cell_type": "code",
   "execution_count": 133,
   "metadata": {},
   "outputs": [],
   "source": [
    "# dr_model = decomposition.LatentDirichletAllocation(n_components=100, learning_method= 'online')\n",
    "dr_model = decomposition.NMF(n_components=100, init = 'nndsvda')\n",
    "\n",
    "X_dr = dr_model.fit_transform(X)"
   ]
  },
  {
   "cell_type": "code",
   "execution_count": 135,
   "metadata": {},
   "outputs": [
    {
     "data": {
      "text/html": [
       "<div>\n",
       "<style scoped>\n",
       "    .dataframe tbody tr th:only-of-type {\n",
       "        vertical-align: middle;\n",
       "    }\n",
       "\n",
       "    .dataframe tbody tr th {\n",
       "        vertical-align: top;\n",
       "    }\n",
       "\n",
       "    .dataframe thead th {\n",
       "        text-align: right;\n",
       "    }\n",
       "</style>\n",
       "<table border=\"1\" class=\"dataframe\">\n",
       "  <thead>\n",
       "    <tr style=\"text-align: right;\">\n",
       "      <th></th>\n",
       "      <th>0</th>\n",
       "      <th>1</th>\n",
       "      <th>2</th>\n",
       "      <th>3</th>\n",
       "      <th>4</th>\n",
       "      <th>5</th>\n",
       "      <th>6</th>\n",
       "      <th>7</th>\n",
       "      <th>8</th>\n",
       "      <th>9</th>\n",
       "      <th>...</th>\n",
       "      <th>90</th>\n",
       "      <th>91</th>\n",
       "      <th>92</th>\n",
       "      <th>93</th>\n",
       "      <th>94</th>\n",
       "      <th>95</th>\n",
       "      <th>96</th>\n",
       "      <th>97</th>\n",
       "      <th>98</th>\n",
       "      <th>99</th>\n",
       "    </tr>\n",
       "  </thead>\n",
       "  <tbody>\n",
       "    <tr>\n",
       "      <th>0</th>\n",
       "      <td>0.042308</td>\n",
       "      <td>0.000000</td>\n",
       "      <td>0.007577</td>\n",
       "      <td>0.000000</td>\n",
       "      <td>0.0</td>\n",
       "      <td>0.0</td>\n",
       "      <td>0.031720</td>\n",
       "      <td>0.00000</td>\n",
       "      <td>0.003762</td>\n",
       "      <td>0.0</td>\n",
       "      <td>...</td>\n",
       "      <td>0.0</td>\n",
       "      <td>0.000000</td>\n",
       "      <td>0.131632</td>\n",
       "      <td>0.0</td>\n",
       "      <td>0.000000</td>\n",
       "      <td>0.000000</td>\n",
       "      <td>0.085429</td>\n",
       "      <td>0.000000</td>\n",
       "      <td>0.279394</td>\n",
       "      <td>0.0</td>\n",
       "    </tr>\n",
       "    <tr>\n",
       "      <th>1</th>\n",
       "      <td>0.076589</td>\n",
       "      <td>0.051948</td>\n",
       "      <td>0.001481</td>\n",
       "      <td>0.009642</td>\n",
       "      <td>0.0</td>\n",
       "      <td>0.0</td>\n",
       "      <td>0.000000</td>\n",
       "      <td>0.00000</td>\n",
       "      <td>0.000000</td>\n",
       "      <td>0.0</td>\n",
       "      <td>...</td>\n",
       "      <td>0.0</td>\n",
       "      <td>0.000000</td>\n",
       "      <td>0.000000</td>\n",
       "      <td>0.0</td>\n",
       "      <td>0.036819</td>\n",
       "      <td>0.000000</td>\n",
       "      <td>0.048807</td>\n",
       "      <td>0.000000</td>\n",
       "      <td>0.073638</td>\n",
       "      <td>0.0</td>\n",
       "    </tr>\n",
       "    <tr>\n",
       "      <th>2</th>\n",
       "      <td>0.053203</td>\n",
       "      <td>0.000000</td>\n",
       "      <td>0.000000</td>\n",
       "      <td>0.000000</td>\n",
       "      <td>0.0</td>\n",
       "      <td>0.0</td>\n",
       "      <td>0.000000</td>\n",
       "      <td>0.00000</td>\n",
       "      <td>0.000000</td>\n",
       "      <td>0.0</td>\n",
       "      <td>...</td>\n",
       "      <td>0.0</td>\n",
       "      <td>0.046222</td>\n",
       "      <td>0.224360</td>\n",
       "      <td>0.0</td>\n",
       "      <td>0.187921</td>\n",
       "      <td>0.079199</td>\n",
       "      <td>0.000000</td>\n",
       "      <td>0.063804</td>\n",
       "      <td>0.171250</td>\n",
       "      <td>0.0</td>\n",
       "    </tr>\n",
       "    <tr>\n",
       "      <th>3</th>\n",
       "      <td>0.000000</td>\n",
       "      <td>0.019689</td>\n",
       "      <td>0.000000</td>\n",
       "      <td>0.153053</td>\n",
       "      <td>0.0</td>\n",
       "      <td>0.0</td>\n",
       "      <td>0.159945</td>\n",
       "      <td>0.01401</td>\n",
       "      <td>0.129881</td>\n",
       "      <td>0.0</td>\n",
       "      <td>...</td>\n",
       "      <td>0.0</td>\n",
       "      <td>0.000000</td>\n",
       "      <td>0.144678</td>\n",
       "      <td>0.0</td>\n",
       "      <td>0.000000</td>\n",
       "      <td>0.025612</td>\n",
       "      <td>0.056816</td>\n",
       "      <td>0.000000</td>\n",
       "      <td>0.000000</td>\n",
       "      <td>0.0</td>\n",
       "    </tr>\n",
       "    <tr>\n",
       "      <th>4</th>\n",
       "      <td>0.000000</td>\n",
       "      <td>0.030536</td>\n",
       "      <td>0.070276</td>\n",
       "      <td>0.000000</td>\n",
       "      <td>0.0</td>\n",
       "      <td>0.0</td>\n",
       "      <td>0.000000</td>\n",
       "      <td>0.00000</td>\n",
       "      <td>0.000000</td>\n",
       "      <td>0.0</td>\n",
       "      <td>...</td>\n",
       "      <td>0.0</td>\n",
       "      <td>0.316596</td>\n",
       "      <td>0.169285</td>\n",
       "      <td>0.0</td>\n",
       "      <td>0.076502</td>\n",
       "      <td>0.000000</td>\n",
       "      <td>0.000000</td>\n",
       "      <td>0.000000</td>\n",
       "      <td>0.105931</td>\n",
       "      <td>0.0</td>\n",
       "    </tr>\n",
       "  </tbody>\n",
       "</table>\n",
       "<p>5 rows × 100 columns</p>\n",
       "</div>"
      ],
      "text/plain": [
       "         0         1         2         3    4    5         6        7   \\\n",
       "0  0.042308  0.000000  0.007577  0.000000  0.0  0.0  0.031720  0.00000   \n",
       "1  0.076589  0.051948  0.001481  0.009642  0.0  0.0  0.000000  0.00000   \n",
       "2  0.053203  0.000000  0.000000  0.000000  0.0  0.0  0.000000  0.00000   \n",
       "3  0.000000  0.019689  0.000000  0.153053  0.0  0.0  0.159945  0.01401   \n",
       "4  0.000000  0.030536  0.070276  0.000000  0.0  0.0  0.000000  0.00000   \n",
       "\n",
       "         8    9  ...    90        91        92   93        94        95  \\\n",
       "0  0.003762  0.0 ...   0.0  0.000000  0.131632  0.0  0.000000  0.000000   \n",
       "1  0.000000  0.0 ...   0.0  0.000000  0.000000  0.0  0.036819  0.000000   \n",
       "2  0.000000  0.0 ...   0.0  0.046222  0.224360  0.0  0.187921  0.079199   \n",
       "3  0.129881  0.0 ...   0.0  0.000000  0.144678  0.0  0.000000  0.025612   \n",
       "4  0.000000  0.0 ...   0.0  0.316596  0.169285  0.0  0.076502  0.000000   \n",
       "\n",
       "         96        97        98   99  \n",
       "0  0.085429  0.000000  0.279394  0.0  \n",
       "1  0.048807  0.000000  0.073638  0.0  \n",
       "2  0.000000  0.063804  0.171250  0.0  \n",
       "3  0.056816  0.000000  0.000000  0.0  \n",
       "4  0.000000  0.000000  0.105931  0.0  \n",
       "\n",
       "[5 rows x 100 columns]"
      ]
     },
     "execution_count": 135,
     "metadata": {},
     "output_type": "execute_result"
    }
   ],
   "source": [
    "X_dr_df = pd.DataFrame(X_dr)\n",
    "X_dr_df.head()"
   ]
  },
  {
   "cell_type": "code",
   "execution_count": 136,
   "metadata": {},
   "outputs": [],
   "source": [
    "X = X_dr"
   ]
  },
  {
   "cell_type": "code",
   "execution_count": 137,
   "metadata": {},
   "outputs": [
    {
     "data": {
      "text/plain": [
       "((5188, 100), (5188, 978))"
      ]
     },
     "execution_count": 137,
     "metadata": {},
     "output_type": "execute_result"
    }
   ],
   "source": [
    "X.shape, Y.shape"
   ]
  },
  {
   "cell_type": "markdown",
   "metadata": {},
   "source": [
    "## Pick the classifier"
   ]
  },
  {
   "cell_type": "code",
   "execution_count": 23,
   "metadata": {},
   "outputs": [],
   "source": [
    "classifier = neighbors.KNeighborsClassifier(n_neighbors = 20, metric = 'jaccard', weights = 'uniform', algorithm = 'auto', leaf_size=30)\n",
    "# classifier = ensemble.AdaBoostClassifier()\n",
    "# classifier = ensemble.RandomForestClassifier(n_estimators = 100, n_jobs = 7)\n",
    "# classifier = neural_network.MLPClassifier()\n",
    "# classifier = dummy.DummyClassifier(strategy = 'stratified')\n"
   ]
  },
  {
   "cell_type": "markdown",
   "metadata": {},
   "source": [
    "## Run the model"
   ]
  },
  {
   "cell_type": "code",
   "execution_count": null,
   "metadata": {
    "scrolled": true
   },
   "outputs": [],
   "source": [
    "accuracy = []\n",
    "conf_mats = []\n",
    "f1s = []\n",
    "cv = model_selection.KFold(n_splits=4, shuffle=True)\n",
    "start = time.time()\n",
    "for train_idx, test_idx in cv.split(X):\n",
    "    \n",
    "    X_train, Y_train = X[train_idx], Y[train_idx]\n",
    "    X_test, Y_test = X[test_idx], Y[test_idx]\n",
    "    \n",
    "    classifier.fit(X_train, Y_train)\n",
    "    Y_test_pred = classifier.predict(X_test)\n",
    "    \n",
    "    #measure accuracy of predictor\n",
    "    accs = [metrics.accuracy_score(Y_test[:,j], Y_test_pred[:, j]) for j in range(Y_test.shape[1])]\n",
    "    f1 = [metrics.f1_score(Y_test[:,j], Y_test_pred[:, j], average = None) for j in range(Y_test.shape[1])]\n",
    "    conf_mat = [metrics.confusion_matrix(Y_test[:,j], Y_test_pred[:, j]) for j in range(Y_test.shape[1])]\n",
    "    accuracy.append(accs)\n",
    "    conf_mats.append(conf_mat)\n",
    "    f1s.append(f1)\n",
    "    \n",
    "    end = time.time()\n",
    "    print(end-start)"
   ]
  },
  {
   "cell_type": "markdown",
   "metadata": {},
   "source": [
    "## Build Confusion Matrix"
   ]
  },
  {
   "cell_type": "code",
   "execution_count": 25,
   "metadata": {},
   "outputs": [],
   "source": [
    "a,b,c,d,e,f,g,h,i = [],[],[],[],[],[],[],[],[]\n",
    "\n",
    "for i1 in conf_mats:\n",
    "    for i2 in i1:\n",
    "        if len(i2) != 3:\n",
    "            continue\n",
    "        a.append(i2[0][0])\n",
    "        b.append(i2[0][1])\n",
    "        c.append(i2[0][2])\n",
    "        d.append(i2[1][0])\n",
    "        e.append(i2[1][1])\n",
    "        f.append(i2[1][2])\n",
    "        g.append(i2[2][0])\n",
    "        h.append(i2[2][1])\n",
    "        i.append(i2[2][2])\n",
    "        \n",
    "avga = sum(a)/len(a)\n",
    "avgb = sum(b)/len(b)\n",
    "avgc = sum(c)/len(c)\n",
    "avgd = sum(d)/len(d)\n",
    "avge = sum(e)/len(e)\n",
    "avgf = sum(f)/len(f)\n",
    "avgg = sum(g)/len(g)\n",
    "avgh = sum(h)/len(h)\n",
    "avgi = sum(i)/len(i)            "
   ]
  },
  {
   "cell_type": "code",
   "execution_count": 26,
   "metadata": {},
   "outputs": [],
   "source": [
    "a_val = avga / sum([avga, avgb, avgc])\n",
    "e_val = avge / sum([avgd, avge, avgf])\n",
    "i_val = avgi / sum([avgg, avgh, avgi])\n",
    "b_val = avgb / sum([avga, avgb, avgc])\n",
    "c_val = avgc / sum([avga, avgb, avgc])\n",
    "d_val = avgd / sum([avgd, avge, avgf])\n",
    "f_val = avgf / sum([avgd, avge, avgf])\n",
    "g_val = avgg / sum([avgg, avgh, avgi])\n",
    "h_val = avgh / sum([avgg, avgh, avgi])"
   ]
  },
  {
   "cell_type": "code",
   "execution_count": null,
   "metadata": {},
   "outputs": [],
   "source": [
    "conf_mat = pd.DataFrame([[a_val,b_val,c_val],[d_val,e_val,f_val],[g_val,h_val,i_val]], columns = [1,0,-1] ,index = [1,0,-1])\n",
    "conf_mat"
   ]
  },
  {
   "cell_type": "code",
   "execution_count": null,
   "metadata": {},
   "outputs": [],
   "source": [
    "ax = plt.axes()\n",
    "sns.heatmap(conf_mat, cmap = 'GnBu', annot = True, annot_kws={\"size\": 15})\n",
    "\n",
    "ax.set_title('Confusion Matrix')\n",
    "ax.set_xlabel('Predicted Value')\n",
    "ax.set_ylabel('Actual Value')\n",
    "\n",
    "plt.savefig('Presentation_figures/classConMat', bbox_inches = 'tight')"
   ]
  },
  {
   "cell_type": "markdown",
   "metadata": {},
   "source": [
    "### F1 score for the different classes"
   ]
  },
  {
   "cell_type": "code",
   "execution_count": 30,
   "metadata": {},
   "outputs": [],
   "source": [
    "f1s1= []\n",
    "f1s0 = []\n",
    "f1sn1 = []\n",
    "\n",
    "for i1 in f1s:\n",
    "    for i2 in i1:\n",
    "        if len(i2) != 3:\n",
    "            continue\n",
    "        f1s1.append(i2[0])\n",
    "        f1s0.append(i2[1])\n",
    "        f1sn1.append(i2[2])"
   ]
  },
  {
   "cell_type": "code",
   "execution_count": 31,
   "metadata": {},
   "outputs": [
    {
     "data": {
      "text/plain": [
       "(0.0016678453040611268, 0.9499563130487559, 0.0005014938517289145)"
      ]
     },
     "execution_count": 31,
     "metadata": {},
     "output_type": "execute_result"
    }
   ],
   "source": [
    "f1s1_avg = sum(f1s1)/len(f1s1)\n",
    "f1s0_avg = sum(f1s0)/len(f1s0)\n",
    "f1sn1_avg = sum(f1sn1)/len(f1sn1)\n",
    "\n",
    "f1s1_avg,f1s0_avg,f1sn1_avg"
   ]
  },
  {
   "cell_type": "markdown",
   "metadata": {},
   "source": [
    "## Plot the Average Accuracy"
   ]
  },
  {
   "cell_type": "code",
   "execution_count": null,
   "metadata": {
    "scrolled": true
   },
   "outputs": [],
   "source": [
    "data = np.array(accuracy)\n",
    "aver_data = np.average(data, axis=0)\n",
    "sns.distplot(aver_data, color = 'green', axlabel = 'Accuracy values' )"
   ]
  },
  {
   "cell_type": "code",
   "execution_count": null,
   "metadata": {},
   "outputs": [],
   "source": [
    "avg = np.average(accuracy)\n",
    "avg"
   ]
  }
 ],
 "metadata": {
  "kernelspec": {
   "display_name": "Python 3",
   "language": "python",
   "name": "python3"
  },
  "language_info": {
   "codemirror_mode": {
    "name": "ipython",
    "version": 3
   },
   "file_extension": ".py",
   "mimetype": "text/x-python",
   "name": "python",
   "nbconvert_exporter": "python",
   "pygments_lexer": "ipython3",
   "version": "3.6.5"
  }
 },
 "nbformat": 4,
 "nbformat_minor": 2
}
