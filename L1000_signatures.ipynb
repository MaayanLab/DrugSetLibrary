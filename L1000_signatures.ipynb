{
 "cells": [
  {
   "cell_type": "markdown",
   "metadata": {},
   "source": [
    "## Import Libraries"
   ]
  },
  {
   "cell_type": "code",
   "execution_count": null,
   "metadata": {},
   "outputs": [],
   "source": [
    "import numpy as np\n",
    "import pandas as pd\n",
    "from scipy.spatial.distance import squareform, pdist,jaccard\n",
    "import sys,  datetime, os\n",
    "import requests\n",
    "import chardet\n",
    "from cmapPy import pandasGEXpress as pdx"
   ]
  },
  {
   "cell_type": "markdown",
   "metadata": {},
   "source": [
    "## Load Data"
   ]
  },
  {
   "cell_type": "markdown",
   "metadata": {},
   "source": [
    "#### Load L1000 Data"
   ]
  },
  {
   "cell_type": "code",
   "execution_count": null,
   "metadata": {},
   "outputs": [],
   "source": [
    "gctoo = pdx.parse('Input/CD_signatures_LM_42809x978.gctx')\n",
    "gctoo.data_df.head()"
   ]
  },
  {
   "cell_type": "code",
   "execution_count": null,
   "metadata": {},
   "outputs": [],
   "source": [
    "# Load file to map pert_id to pubchem_cid\n",
    "pcid_pertid = pd.read_csv('Input/PCID_pertid_mapping.csv')\n",
    "pcid_pertid.tail()"
   ]
  },
  {
   "cell_type": "markdown",
   "metadata": {},
   "source": [
    "## Get smallest mean cosine dist for each drug"
   ]
  },
  {
   "cell_type": "code",
   "execution_count": null,
   "metadata": {},
   "outputs": [],
   "source": [
    "row_meta_df_g = gctoo.row_metadata_df.sort_values(['pert_id', 'mean_cosine_dist_centered_by_batch'])\\\n",
    "    .groupby('pert_id')\\\n",
    "    .head(1)\n",
    "row_meta_df_g.tail()"
   ]
  },
  {
   "cell_type": "markdown",
   "metadata": {},
   "source": [
    "## Make DF"
   ]
  },
  {
   "cell_type": "code",
   "execution_count": null,
   "metadata": {
    "scrolled": true
   },
   "outputs": [],
   "source": [
    "df = pd.DataFrame()\n",
    "for ind in row_meta_df_g.index:\n",
    "    to_append = gctoo.data_df.loc[[ind]]\n",
    "    df = df.append(to_append)\n",
    "df.head()"
   ]
  },
  {
   "cell_type": "code",
   "execution_count": null,
   "metadata": {},
   "outputs": [],
   "source": [
    "# Put highest mean cosine signatures into df\n",
    "for rid in df.index:\n",
    "    df.loc[rid,'pert_id'] = row_meta_df_g.loc[rid,'pert_id']\n",
    "df['pert_id'] = df['pert_id'].apply(lambda x: x.strip(\"b'\"))"
   ]
  },
  {
   "cell_type": "code",
   "execution_count": null,
   "metadata": {},
   "outputs": [],
   "source": [
    "df.set_index('pert_id', inplace = True)"
   ]
  },
  {
   "cell_type": "code",
   "execution_count": null,
   "metadata": {},
   "outputs": [],
   "source": [
    "# Change name of drugs to PCID\n",
    "pcid_pertid.set_index('pert_id', inplace = True)\n",
    "for pertid in df.index:\n",
    "    df.loc[pertid,'PCID'] = pcid_pertid.loc[pertid,'pubchem_cid']\n",
    "df = df.dropna(subset = [\"PCID\"])\n",
    "df.set_index('PCID', inplace = True)"
   ]
  },
  {
   "cell_type": "code",
   "execution_count": null,
   "metadata": {},
   "outputs": [],
   "source": [
    "#get rid of b' in from of gene sig name\n",
    "columns = list(pd.Series(df.columns).apply(lambda x: x.strip(\"b'\")))\n",
    "df.columns = columns\n",
    "df = df.T\n",
    "df.index.name = 'Sig'"
   ]
  },
  {
   "cell_type": "code",
   "execution_count": null,
   "metadata": {},
   "outputs": [],
   "source": [
    "df.head()"
   ]
  },
  {
   "cell_type": "markdown",
   "metadata": {},
   "source": [
    "## Save Matrix"
   ]
  },
  {
   "cell_type": "code",
   "execution_count": null,
   "metadata": {},
   "outputs": [],
   "source": [
    "filename = 'Output/L1000_signatures_pertid_%s.tsv.zip'% str(datetime.date.today())[0:7].replace('-', '_')\n",
    "df.to_csv(filename, sep='\\t', compression='gzip')"
   ]
  }
 ],
 "metadata": {
  "kernelspec": {
   "display_name": "Python 3",
   "language": "python",
   "name": "python3"
  },
  "language_info": {
   "codemirror_mode": {
    "name": "ipython",
    "version": 3
   },
   "file_extension": ".py",
   "mimetype": "text/x-python",
   "name": "python",
   "nbconvert_exporter": "python",
   "pygments_lexer": "ipython3",
   "version": "3.6.5"
  }
 },
 "nbformat": 4,
 "nbformat_minor": 2
}
