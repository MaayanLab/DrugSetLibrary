{
 "cells": [
  {
   "cell_type": "markdown",
   "metadata": {},
   "source": [
    "## ATC_FDA_GENESHOT DRUG-SET LIBRARY\n",
    "### Drug-set labels: Genes\n",
    "#### ALL DATABASES ACCESSED 05/20/19\n",
    "##### Author : Eryk Kropiwnicki | eryk.kropiwnicki@icahn.mssm.edu"
   ]
  },
  {
   "cell_type": "code",
   "execution_count": 1,
   "metadata": {},
   "outputs": [],
   "source": [
    "import json\n",
    "import pandas as pd\n",
    "import xml.etree.ElementTree as et\n",
    "import requests\n",
    "import time\n",
    "import pubchempy as pcp\n",
    "from collections import defaultdict\n",
    "import csv\n",
    "import numpy as np"
   ]
  },
  {
   "cell_type": "code",
   "execution_count": 2,
   "metadata": {},
   "outputs": [],
   "source": [
    "# Import all FDA Approved Drugs #\n",
    "with open('input/fda_drugs.txt') as f:\n",
    "    fda_drugs = [word.strip('\\n') for word in f]"
   ]
  },
  {
   "cell_type": "code",
   "execution_count": 3,
   "metadata": {},
   "outputs": [
    {
     "data": {
      "text/plain": [
       "1834"
      ]
     },
     "execution_count": 3,
     "metadata": {},
     "output_type": "execute_result"
    }
   ],
   "source": [
    "len(fda_drugs)"
   ]
  },
  {
   "cell_type": "markdown",
   "metadata": {},
   "source": [
    "### QUERYING FDA APPROVED DRUG NAMES THROUGH GENESHOT API\n",
    "#### PLATFORM : https://amp.pharm.mssm.edu/geneshot"
   ]
  },
  {
   "cell_type": "code",
   "execution_count": 88,
   "metadata": {},
   "outputs": [],
   "source": [
    "# Querying each drug through geneshot(AUTORIF FORMAT) #\n",
    "i = 0\n",
    "with open('input/atc_fda_geneset_autorif.json','a') as outfile:\n",
    "    outfile.write(\"[\")\n",
    "    for drug in fda_drugs:\n",
    "        try:\n",
    "            res = requests.get('https://amp.pharm.mssm.edu/geneshot/api/search/auto/' + drug)\n",
    "            FDA_geneset_autorif = res.json()\n",
    "        except ValueError:\n",
    "            pass\n",
    "        json.dump(FDA_geneset_autorif, outfile, indent = 4)\n",
    "        i += 1\n",
    "        time.sleep(1)\n",
    "        if i < (len(fda_drugs)):\n",
    "            outfile.write(\",\")\n",
    "        else:\n",
    "            outfile.write(\"]\")\n",
    "outfile.close()"
   ]
  },
  {
   "cell_type": "markdown",
   "metadata": {},
   "source": [
    "### CREATING GENESET LIBRARY FROM DRUG-GENE ASSOCIATIONS COLLECTED FROM GENESHOT\n",
    "#### INPUT FILE : atc_fda_geneset_autorif.json\n",
    "#### OUTPUT FILE: atc_fda_genesetlibrary.txt"
   ]
  },
  {
   "cell_type": "code",
   "execution_count": 89,
   "metadata": {},
   "outputs": [],
   "source": [
    "# Geneset Library #\n",
    "# Creating a dictionary where FDA drugs are terms and genes are set members #\n",
    "genelist = {}\n",
    "\n",
    "with open ('input/atc_fda_geneset_autorif.json') as data_file:\n",
    "    data = json.load(data_file)\n",
    "\n",
    "for item in data:\n",
    "    genes = (item[\"gene_count\"])\n",
    "    genes = [key for key in genes.keys()]\n",
    "    genes = genes[:51]\n",
    "    drug = (item[\"search_term\"])\n",
    "    genelist[drug] = []\n",
    "    genelist[drug].append(genes)\n",
    "\n",
    "# Converting dictionary into GMT format #\n",
    "GSL_FDA = []\n",
    "\n",
    "for term in genelist.keys():    \n",
    "    genes = genelist[term][0]\n",
    "    line = '{0}\\t\\t{1}'.format(term, '\\t'.join(genes))\n",
    "    GSL_FDA.append(line)\n",
    "\n",
    "GSL_FDA_out = '\\n'.join(GSL_FDA)"
   ]
  },
  {
   "cell_type": "code",
   "execution_count": null,
   "metadata": {},
   "outputs": [],
   "source": [
    "# Exporting GSL_FDA_out as TXT file #\n",
    "dataFile = open('/Users/maayanlab/Documents/DrugSetEnrichment/Genesetlibraries/Drugbank/ATC_FDA/atc_fda_genesetlibrary.txt', 'w')\n",
    "for eachitem in GSL_FDA_out:\n",
    "     dataFile.write(eachitem)"
   ]
  },
  {
   "cell_type": "markdown",
   "metadata": {},
   "source": [
    "### CREATING DRUG-SET LIBRARY FROM GENE-DRUG ASSOCIATIONS COLLECTED FROM GENESHOT\n",
    "#### INPUT FILE : atc_fda_geneset_autorif.json\n",
    "#### OUTPUT FILE: atc_fda_geneshot_drugsetlibrary.csv"
   ]
  },
  {
   "cell_type": "code",
   "execution_count": 90,
   "metadata": {},
   "outputs": [],
   "source": [
    "# Drug-set Library #\n",
    "# Transposing the 'genelist' dictionary so that genes are now the terms and drugs are set members #\n",
    "d = defaultdict(list)\n",
    "for k,v in genelist.items():\n",
    "    for string in v:\n",
    "        druglist = list(string)\n",
    "        for term in druglist:\n",
    "            term.split(',')\n",
    "            d[term].append(k)\n",
    "\n",
    "drugsetlibrary = dict(d)"
   ]
  },
  {
   "cell_type": "code",
   "execution_count": null,
   "metadata": {},
   "outputs": [],
   "source": [
    "# Converting drugsetlibrary into dataframe and exporting #\n",
    "df = pd.DataFrame.from_dict(drugsetlibrary, orient='index')\n",
    "df = df[df.columns[0:]].apply(\n",
    "    lambda x: ','.join(x.dropna().astype(str).astype(str)),\n",
    "    axis = 1\n",
    ")\n",
    "df.to_csv('/Users/maayanlab/Documents/DrugSetEnrichment/Drugsetlibraries/Drugbank/ATC_FDA/atc_fda_geneshot_drugsetlibrary.csv')"
   ]
  },
  {
   "cell_type": "code",
   "execution_count": null,
   "metadata": {},
   "outputs": [],
   "source": []
  }
 ],
 "metadata": {
  "kernelspec": {
   "display_name": "Python 3",
   "language": "python",
   "name": "python3"
  },
  "language_info": {
   "codemirror_mode": {
    "name": "ipython",
    "version": 3
   },
   "file_extension": ".py",
   "mimetype": "text/x-python",
   "name": "python",
   "nbconvert_exporter": "python",
   "pygments_lexer": "ipython3",
   "version": "3.6.5"
  }
 },
 "nbformat": 4,
 "nbformat_minor": 2
}
