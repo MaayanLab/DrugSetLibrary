{
 "cells": [
  {
   "cell_type": "markdown",
   "metadata": {},
   "source": [
    "## Import Libraries"
   ]
  },
  {
   "cell_type": "code",
   "execution_count": null,
   "metadata": {},
   "outputs": [],
   "source": [
    "import numpy as np\n",
    "import pandas as pd\n",
    "from sklearn.datasets import make_regression\n",
    "from sklearn import linear_model, ensemble, model_selection, metrics, tree, neighbors\n",
    "import seaborn as sns\n",
    "import matplotlib.pyplot as plt\n",
    "import time\n",
    "from sklearn import decomposition, feature_selection, svm, neighbors, datasets, preprocessing, neural_network , dummy\n",
    "from matplotlib import pyplot"
   ]
  },
  {
   "cell_type": "code",
   "execution_count": null,
   "metadata": {},
   "outputs": [],
   "source": [
    "from sklearn.utils import shuffle\n",
    "from sklearn.metrics import mean_squared_error\n",
    "from collections import Counter"
   ]
  },
  {
   "cell_type": "markdown",
   "metadata": {},
   "source": [
    "## Load Data"
   ]
  },
  {
   "cell_type": "markdown",
   "metadata": {},
   "source": [
    "#### Single X matrix and Single Y matrix"
   ]
  },
  {
   "cell_type": "code",
   "execution_count": null,
   "metadata": {
    "scrolled": true
   },
   "outputs": [],
   "source": [
    "X = pd.read_table('Output/Avalon_BMatrix_map_2018_08.tsv')\n",
    "X[X.columns[0]] = X[X.columns[0]].astype(str)\n",
    "X = X.set_index(X.columns[0])\n",
    "raw_X = X\n",
    "# X = X.T\n",
    "\n",
    "# Y = pd.read_table('Output/L1000_signatures_pertid_2018_07.tsv')\n",
    "# Y.set_index(Y.columns[0], inplace = True)\n",
    "# Y = Y.T\n",
    "\n",
    "# print(X.shape, Y.shape)"
   ]
  },
  {
   "cell_type": "code",
   "execution_count": null,
   "metadata": {},
   "outputs": [],
   "source": [
    "Y = pd.read_table('Input/consensus-perts.tsv')\n",
    "Y.set_index('pert_id', inplace=True)\n",
    "print( Y.shape)"
   ]
  },
  {
   "cell_type": "code",
   "execution_count": null,
   "metadata": {},
   "outputs": [],
   "source": [
    "Y.head()"
   ]
  },
  {
   "cell_type": "markdown",
   "metadata": {},
   "source": [
    "#### Multiple X matricies and single Y matrix"
   ]
  },
  {
   "cell_type": "code",
   "execution_count": null,
   "metadata": {
    "scrolled": true
   },
   "outputs": [],
   "source": [
    "# Y = pd.read_table('Output/L1000_signatures_pertid_2018_07.tsv')\n",
    "# Y.set_index(Y.columns[0], inplace = True)\n",
    "# Y = Y.T\n",
    "\n",
    "Y = pd.read_table('Input/consensus-perts.tsv')\n",
    "Y.set_index('pert_id', inplace=True)\n",
    "\n",
    "X1 = pd.read_table('RDKit_fps/Morg1_BMatrix_map_2018_08.tsv')\n",
    "X1[X1.columns[0]] = X1[X1.columns[0]].astype(str)\n",
    "X1 = X1.set_index(X1.columns[0])\n",
    "\n",
    "X2 = pd.read_table('RDKit_fps/TopologicalTorsion_BMatrix_map_2018_08.tsv')\n",
    "X2[X2.columns[0]] = X2[X2.columns[0]].astype(str)\n",
    "X2 = X2.set_index(X2.columns[0])\n",
    "\n",
    "X3 = pd.read_table('RDKit_fps/AtomPair_BMatrix_map_2018_08.tsv')\n",
    "X3[X3.columns[0]] = X3[X3.columns[0]].astype(str)\n",
    "X3 = X3.set_index(X3.columns[0])\n",
    "\n",
    "X4 = pd.read_table('RDKit_fps/MACCs_BMatrix_map_2018_08.tsv')\n",
    "X4[X4.columns[0]] = X4[X4.columns[0]].astype(str)\n",
    "X4 = X4.set_index(X4.columns[0])\n",
    "\n",
    "X5 = pd.read_table('RDKit_fps/RDKfps2_BMatrix_map_2018_08.tsv')\n",
    "X5[X5.columns[0]] = X5[X5.columns[0]].astype(str)\n",
    "X5 = X5.set_index(X5.columns[0])\n",
    "\n",
    "X6 = pd.read_table('RDKit_fps/Avalon_BMatrix_map_2018_08.tsv')\n",
    "X6[X6.columns[0]] = X6[X6.columns[0]].astype(str)\n",
    "X6 = X6.set_index(X6.columns[0])\n",
    "\n",
    "# X7 = pd.read_table('Output/L1000_Scaffolds_2018_07.tsv')\n",
    "# X7[X7.columns[0]] = X7[X7.columns[0]].astype(str)\n",
    "# X7 = X7.set_index(X7.columns[0])\n",
    "# X7 = X7.T\n",
    "\n",
    "X = pd.concat([X1, X2, X3, X4, X5, X6], axis = 1, sort=True)\n",
    "# X = pd.concat([X2], axis = 1, sort=True)\n",
    "X = X.dropna()\n",
    "X.head()"
   ]
  },
  {
   "cell_type": "code",
   "execution_count": null,
   "metadata": {},
   "outputs": [],
   "source": [
    "X.shape"
   ]
  },
  {
   "cell_type": "markdown",
   "metadata": {},
   "source": [
    "## Only get drugs shared between X and Y"
   ]
  },
  {
   "cell_type": "code",
   "execution_count": null,
   "metadata": {},
   "outputs": [],
   "source": [
    "shared_drugs = sorted(list(set(X.index) & set(Y.index)))\n",
    "X = X.loc[shared_drugs]\n",
    "Y = Y.loc[shared_drugs]\n",
    "X = X.values\n",
    "Y = Y.values"
   ]
  },
  {
   "cell_type": "markdown",
   "metadata": {},
   "source": [
    "## Dimentionality Reduction"
   ]
  },
  {
   "cell_type": "code",
   "execution_count": null,
   "metadata": {},
   "outputs": [],
   "source": [
    "# dr_model = decomposition.LatentDirichletAllocation(n_components=100, learning_method= 'online')\n",
    "dr_model = decomposition.NMF(n_components=100, init = 'nndsvda')\n",
    "# dr_model = decomposition.NMF(n_components=100)\n",
    "\n",
    "X_dr = dr_model.fit_transform(X)"
   ]
  },
  {
   "cell_type": "code",
   "execution_count": null,
   "metadata": {},
   "outputs": [],
   "source": [
    "X_dr.shape"
   ]
  },
  {
   "cell_type": "code",
   "execution_count": null,
   "metadata": {},
   "outputs": [],
   "source": [
    "X_dr_df = pd.DataFrame(X_dr)\n",
    "X_dr_df.head()"
   ]
  },
  {
   "cell_type": "code",
   "execution_count": null,
   "metadata": {},
   "outputs": [],
   "source": [
    "X = X_dr"
   ]
  },
  {
   "cell_type": "code",
   "execution_count": null,
   "metadata": {},
   "outputs": [],
   "source": [
    "X.shape,Y.shape"
   ]
  },
  {
   "cell_type": "markdown",
   "metadata": {},
   "source": [
    "## Pick the regressor"
   ]
  },
  {
   "cell_type": "code",
   "execution_count": null,
   "metadata": {},
   "outputs": [],
   "source": [
    "# regressor = linear_model.MultiTaskLasso()\n",
    "# regressor = linear_model.MultiTaskElasticNet()\n",
    "regressor = linear_model.Ridge(fit_intercept=True, normalize=False, copy_X=True, solver='auto')\n",
    "# regressor = ensemble.RandomForestRegressor(n_estimators = 60, n_jobs = 7)\n",
    "# regressor = linear_model.BayesianRidge()\n",
    "# regressor = linear_model.LassoLars() \n",
    "# regressor = ensemble.GradientBoostingRegressor(n_estimators = 5, max_depth= 3, min_samples_split= 3, learning_rate= 0.01, loss= 'ls')\n",
    "# regressor = svm.SVR(degree = 1, epsilon=.01, kernel = 'poly')\n",
    "# regressor = ensemble.AdaBoostRegressor(base_estimator=None, n_estimators=50, learning_rate=1.0, loss='linear', random_state=None)\n",
    "# regressor = neural_network.MLPRegressor(hidden_layer_sizes=(50, ))\n",
    "# regressor = neighbors.KNeighborsRegressor(n_neighbors=100)\n",
    "# regressor = dummy.DummyRegressor(strategy = 'median')\n"
   ]
  },
  {
   "cell_type": "markdown",
   "metadata": {},
   "source": [
    "## Run the model"
   ]
  },
  {
   "cell_type": "code",
   "execution_count": null,
   "metadata": {
    "scrolled": true
   },
   "outputs": [],
   "source": [
    "r2ss = []\n",
    "cv = model_selection.LeaveOneOut()\n",
    "start = time.time()\n",
    "for train_idx, test_idx in cv.split(X):\n",
    "    X_train, Y_train = X[train_idx], Y[train_idx]\n",
    "    \n",
    "    X_test, Y_test = X[test_idx], Y[test_idx]\n",
    "    \n",
    "    regressor.fit(X_train, Y_train)\n",
    "    Y_test_pred = regressor.predict(X_test)\n",
    "    \n",
    "    r2s = metrics.r2_score(Y_test[0], Y_test_pred[0])\n",
    "    r2ss.append(r2s)\n",
    "    \n",
    "    end = time.time()\n",
    "    print(end-start)"
   ]
  },
  {
   "cell_type": "code",
   "execution_count": null,
   "metadata": {},
   "outputs": [],
   "source": [
    "r2ss[:5]"
   ]
  },
  {
   "cell_type": "code",
   "execution_count": null,
   "metadata": {},
   "outputs": [],
   "source": [
    "r2ss = np.load('Output/Predicability/All_r2ss_pred.npy')"
   ]
  },
  {
   "cell_type": "code",
   "execution_count": null,
   "metadata": {},
   "outputs": [],
   "source": [
    "pred_vect_df = pd.DataFrame({'Pert_id':shared_drugs, 'R2_Score':r2ss})\n",
    "pred_vect_df.to_csv('Output/Pred_vect.csv')"
   ]
  },
  {
   "cell_type": "code",
   "execution_count": null,
   "metadata": {},
   "outputs": [],
   "source": [
    "r2ss_pred = np.array(r2ss)\n",
    "np.save('Output/Predicability/All_r2ss_pred_dummy', r2ss_pred)"
   ]
  },
  {
   "cell_type": "code",
   "execution_count": null,
   "metadata": {},
   "outputs": [],
   "source": [
    "sns.distplot(r2ss, color='#d2afff')"
   ]
  },
  {
   "cell_type": "code",
   "execution_count": null,
   "metadata": {},
   "outputs": [],
   "source": [
    "#008261\n",
    "#598ff9\n",
    "#d2afff\n",
    "fig = sns.distplot(r2ss, bins = 75, color='#d2afff')\n",
    "\n",
    "fig.set_xlim(0,1)\n"
   ]
  },
  {
   "cell_type": "code",
   "execution_count": null,
   "metadata": {},
   "outputs": [],
   "source": [
    "type(fig)"
   ]
  },
  {
   "cell_type": "code",
   "execution_count": null,
   "metadata": {},
   "outputs": [],
   "source": [
    "max(r2ss), min(r2ss)"
   ]
  },
  {
   "cell_type": "code",
   "execution_count": null,
   "metadata": {},
   "outputs": [],
   "source": [
    "r2ss_scale_pred = []\n",
    "r2min = min(r2ss)\n",
    "r2max = max(r2ss)\n",
    "\n",
    "for r2 in r2ss:\n",
    "    scaled = (r2-r2min)/((r2max-r2min))\n",
    "    r2ss_scale_pred.append(scaled)"
   ]
  },
  {
   "cell_type": "code",
   "execution_count": null,
   "metadata": {},
   "outputs": [],
   "source": [
    "print(r2ss_scale_pred[:5])\n",
    "print(len(r2ss_scale_pred))"
   ]
  },
  {
   "cell_type": "code",
   "execution_count": null,
   "metadata": {},
   "outputs": [],
   "source": [
    "r2ss_scaled_pred = np.array(r2ss_scale_pred)\n",
    "np.save('Output/Predicability/All_r2ss_scaled_pred_dummy', r2ss_scaled_pred)"
   ]
  },
  {
   "cell_type": "code",
   "execution_count": null,
   "metadata": {},
   "outputs": [],
   "source": [
    "Y = r2ss_scale_pred"
   ]
  },
  {
   "cell_type": "markdown",
   "metadata": {},
   "source": [
    "## Predict the predictability"
   ]
  },
  {
   "cell_type": "code",
   "execution_count": null,
   "metadata": {},
   "outputs": [],
   "source": [
    "# pred_regressor = linear_model.Ridge(fit_intercept=True, normalize=False, copy_X=True, solver='auto')\n",
    "pred_regressor = ensemble.RandomForestRegressor(n_estimators = 300, n_jobs = 7)\n",
    "\n",
    "pred_r2s = []\n",
    "cv = model_selection.KFold(n_splits=10, shuffle=True)\n",
    "start = time.time()\n",
    "for train_idx, test_idx in cv.split(X):\n",
    "    X_train, Y_train = X[train_idx], [Y[i] for i in train_idx]\n",
    "    X_test, Y_test = X[test_idx], [Y[i] for i in test_idx]\n",
    "    \n",
    "    pred_regressor.fit(X_train, Y_train)\n",
    "    Y_test_pred = pred_regressor.predict(X_test)\n",
    "    \n",
    "    r2s = metrics.r2_score(Y_test, Y_test_pred)\n",
    "    pred_r2s.append(r2s)\n",
    "    end = time.time()\n",
    "    print(end-start)"
   ]
  },
  {
   "cell_type": "code",
   "execution_count": null,
   "metadata": {},
   "outputs": [],
   "source": [
    "pred_r2s"
   ]
  },
  {
   "cell_type": "markdown",
   "metadata": {},
   "source": [
    "## Top/Bottom 10ish drugs based on r2 values"
   ]
  },
  {
   "cell_type": "code",
   "execution_count": null,
   "metadata": {},
   "outputs": [],
   "source": [
    "x = np.array(r2ss)\n",
    "x_top20 = np.argsort(x)[-92:]\n",
    "x_bottom20 = np.argsort(x)[:20]\n",
    "\n",
    "top20 = [shared_drugs[i] for i in x_top20]\n",
    "bottom20 = [shared_drugs[i] for i in x_bottom20]"
   ]
  },
  {
   "cell_type": "code",
   "execution_count": null,
   "metadata": {
    "scrolled": true
   },
   "outputs": [],
   "source": [
    "top20, [x[i] for i in x_top20]"
   ]
  },
  {
   "cell_type": "code",
   "execution_count": null,
   "metadata": {
    "scrolled": true
   },
   "outputs": [],
   "source": [
    "top20, bottom20"
   ]
  },
  {
   "cell_type": "code",
   "execution_count": null,
   "metadata": {},
   "outputs": [],
   "source": [
    "[x[i] for i in x_top20],[x[i] for i in x_bottom20]"
   ]
  },
  {
   "cell_type": "code",
   "execution_count": null,
   "metadata": {},
   "outputs": [],
   "source": []
  },
  {
   "cell_type": "code",
   "execution_count": null,
   "metadata": {},
   "outputs": [],
   "source": []
  }
 ],
 "metadata": {
  "kernelspec": {
   "display_name": "Python 3",
   "language": "python",
   "name": "python3"
  },
  "language_info": {
   "codemirror_mode": {
    "name": "ipython",
    "version": 3
   },
   "file_extension": ".py",
   "mimetype": "text/x-python",
   "name": "python",
   "nbconvert_exporter": "python",
   "pygments_lexer": "ipython3",
   "version": "3.6.5"
  }
 },
 "nbformat": 4,
 "nbformat_minor": 2
}
