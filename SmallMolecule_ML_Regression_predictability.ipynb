{
 "cells": [
  {
   "cell_type": "markdown",
   "metadata": {},
   "source": [
    "## Import Libraries"
   ]
  },
  {
   "cell_type": "code",
   "execution_count": 1,
   "metadata": {},
   "outputs": [],
   "source": [
    "import numpy as np\n",
    "import pandas as pd\n",
    "from sklearn.datasets import make_regression\n",
    "from sklearn import linear_model, ensemble, model_selection, metrics, tree, neighbors\n",
    "import seaborn as sns\n",
    "import matplotlib.pyplot as plt\n",
    "import time\n",
    "from sklearn import decomposition, feature_selection, svm, neighbors, datasets, preprocessing, neural_network , dummy\n",
    "from matplotlib import pyplot"
   ]
  },
  {
   "cell_type": "code",
   "execution_count": 2,
   "metadata": {},
   "outputs": [],
   "source": [
    "from sklearn.utils import shuffle\n",
    "from sklearn.metrics import mean_squared_error\n",
    "from collections import Counter"
   ]
  },
  {
   "cell_type": "markdown",
   "metadata": {},
   "source": [
    "## Load Data"
   ]
  },
  {
   "cell_type": "markdown",
   "metadata": {},
   "source": [
    "#### Gene Signature Expression Matrix"
   ]
  },
  {
   "cell_type": "code",
   "execution_count": null,
   "metadata": {},
   "outputs": [],
   "source": [
    "Y = pd.read_table('Input/consensus-perts.tsv')\n",
    "Y.set_index('pert_id', inplace=True)\n",
    "print( Y.shape)"
   ]
  },
  {
   "cell_type": "code",
   "execution_count": null,
   "metadata": {},
   "outputs": [],
   "source": [
    "Y.head()"
   ]
  },
  {
   "cell_type": "markdown",
   "metadata": {},
   "source": [
    "#### Pick the fingerprint matrix/matricies"
   ]
  },
  {
   "cell_type": "code",
   "execution_count": 106,
   "metadata": {
    "scrolled": true
   },
   "outputs": [
    {
     "data": {
      "text/html": [
       "<div>\n",
       "<style scoped>\n",
       "    .dataframe tbody tr th:only-of-type {\n",
       "        vertical-align: middle;\n",
       "    }\n",
       "\n",
       "    .dataframe tbody tr th {\n",
       "        vertical-align: top;\n",
       "    }\n",
       "\n",
       "    .dataframe thead th {\n",
       "        text-align: right;\n",
       "    }\n",
       "</style>\n",
       "<table border=\"1\" class=\"dataframe\">\n",
       "  <thead>\n",
       "    <tr style=\"text-align: right;\">\n",
       "      <th></th>\n",
       "      <th>MACC_0</th>\n",
       "      <th>MACC_1</th>\n",
       "      <th>MACC_2</th>\n",
       "      <th>MACC_3</th>\n",
       "      <th>MACC_4</th>\n",
       "      <th>MACC_5</th>\n",
       "      <th>MACC_6</th>\n",
       "      <th>MACC_7</th>\n",
       "      <th>MACC_8</th>\n",
       "      <th>MACC_9</th>\n",
       "      <th>...</th>\n",
       "      <th>Avalon_502</th>\n",
       "      <th>Avalon_503</th>\n",
       "      <th>Avalon_504</th>\n",
       "      <th>Avalon_505</th>\n",
       "      <th>Avalon_506</th>\n",
       "      <th>Avalon_507</th>\n",
       "      <th>Avalon_508</th>\n",
       "      <th>Avalon_509</th>\n",
       "      <th>Avalon_510</th>\n",
       "      <th>Avalon_511</th>\n",
       "    </tr>\n",
       "    <tr>\n",
       "      <th>Unnamed: 0</th>\n",
       "      <th></th>\n",
       "      <th></th>\n",
       "      <th></th>\n",
       "      <th></th>\n",
       "      <th></th>\n",
       "      <th></th>\n",
       "      <th></th>\n",
       "      <th></th>\n",
       "      <th></th>\n",
       "      <th></th>\n",
       "      <th></th>\n",
       "      <th></th>\n",
       "      <th></th>\n",
       "      <th></th>\n",
       "      <th></th>\n",
       "      <th></th>\n",
       "      <th></th>\n",
       "      <th></th>\n",
       "      <th></th>\n",
       "      <th></th>\n",
       "      <th></th>\n",
       "    </tr>\n",
       "  </thead>\n",
       "  <tbody>\n",
       "    <tr>\n",
       "      <th>BRD-A00100033</th>\n",
       "      <td>0.0</td>\n",
       "      <td>0.0</td>\n",
       "      <td>0.0</td>\n",
       "      <td>0.0</td>\n",
       "      <td>0.0</td>\n",
       "      <td>0.0</td>\n",
       "      <td>0.0</td>\n",
       "      <td>0.0</td>\n",
       "      <td>0.0</td>\n",
       "      <td>0.0</td>\n",
       "      <td>...</td>\n",
       "      <td>1.0</td>\n",
       "      <td>0.0</td>\n",
       "      <td>1.0</td>\n",
       "      <td>1.0</td>\n",
       "      <td>0.0</td>\n",
       "      <td>1.0</td>\n",
       "      <td>0.0</td>\n",
       "      <td>0.0</td>\n",
       "      <td>1.0</td>\n",
       "      <td>1.0</td>\n",
       "    </tr>\n",
       "    <tr>\n",
       "      <th>BRD-A00267231</th>\n",
       "      <td>0.0</td>\n",
       "      <td>0.0</td>\n",
       "      <td>0.0</td>\n",
       "      <td>0.0</td>\n",
       "      <td>0.0</td>\n",
       "      <td>0.0</td>\n",
       "      <td>0.0</td>\n",
       "      <td>0.0</td>\n",
       "      <td>0.0</td>\n",
       "      <td>0.0</td>\n",
       "      <td>...</td>\n",
       "      <td>1.0</td>\n",
       "      <td>0.0</td>\n",
       "      <td>1.0</td>\n",
       "      <td>0.0</td>\n",
       "      <td>0.0</td>\n",
       "      <td>1.0</td>\n",
       "      <td>1.0</td>\n",
       "      <td>0.0</td>\n",
       "      <td>1.0</td>\n",
       "      <td>1.0</td>\n",
       "    </tr>\n",
       "    <tr>\n",
       "      <th>BRD-A00420644</th>\n",
       "      <td>0.0</td>\n",
       "      <td>0.0</td>\n",
       "      <td>0.0</td>\n",
       "      <td>0.0</td>\n",
       "      <td>0.0</td>\n",
       "      <td>0.0</td>\n",
       "      <td>0.0</td>\n",
       "      <td>0.0</td>\n",
       "      <td>0.0</td>\n",
       "      <td>0.0</td>\n",
       "      <td>...</td>\n",
       "      <td>0.0</td>\n",
       "      <td>1.0</td>\n",
       "      <td>1.0</td>\n",
       "      <td>0.0</td>\n",
       "      <td>0.0</td>\n",
       "      <td>1.0</td>\n",
       "      <td>0.0</td>\n",
       "      <td>0.0</td>\n",
       "      <td>1.0</td>\n",
       "      <td>0.0</td>\n",
       "    </tr>\n",
       "    <tr>\n",
       "      <th>BRD-A00474148</th>\n",
       "      <td>0.0</td>\n",
       "      <td>0.0</td>\n",
       "      <td>0.0</td>\n",
       "      <td>0.0</td>\n",
       "      <td>0.0</td>\n",
       "      <td>0.0</td>\n",
       "      <td>0.0</td>\n",
       "      <td>0.0</td>\n",
       "      <td>0.0</td>\n",
       "      <td>0.0</td>\n",
       "      <td>...</td>\n",
       "      <td>1.0</td>\n",
       "      <td>0.0</td>\n",
       "      <td>0.0</td>\n",
       "      <td>0.0</td>\n",
       "      <td>0.0</td>\n",
       "      <td>1.0</td>\n",
       "      <td>0.0</td>\n",
       "      <td>0.0</td>\n",
       "      <td>1.0</td>\n",
       "      <td>1.0</td>\n",
       "    </tr>\n",
       "    <tr>\n",
       "      <th>BRD-A00520476</th>\n",
       "      <td>0.0</td>\n",
       "      <td>0.0</td>\n",
       "      <td>0.0</td>\n",
       "      <td>0.0</td>\n",
       "      <td>0.0</td>\n",
       "      <td>0.0</td>\n",
       "      <td>0.0</td>\n",
       "      <td>0.0</td>\n",
       "      <td>0.0</td>\n",
       "      <td>0.0</td>\n",
       "      <td>...</td>\n",
       "      <td>1.0</td>\n",
       "      <td>0.0</td>\n",
       "      <td>1.0</td>\n",
       "      <td>0.0</td>\n",
       "      <td>0.0</td>\n",
       "      <td>1.0</td>\n",
       "      <td>0.0</td>\n",
       "      <td>0.0</td>\n",
       "      <td>1.0</td>\n",
       "      <td>0.0</td>\n",
       "    </tr>\n",
       "  </tbody>\n",
       "</table>\n",
       "<p>5 rows × 2727 columns</p>\n",
       "</div>"
      ],
      "text/plain": [
       "               MACC_0  MACC_1  MACC_2  MACC_3  MACC_4  MACC_5  MACC_6  MACC_7  \\\n",
       "Unnamed: 0                                                                      \n",
       "BRD-A00100033     0.0     0.0     0.0     0.0     0.0     0.0     0.0     0.0   \n",
       "BRD-A00267231     0.0     0.0     0.0     0.0     0.0     0.0     0.0     0.0   \n",
       "BRD-A00420644     0.0     0.0     0.0     0.0     0.0     0.0     0.0     0.0   \n",
       "BRD-A00474148     0.0     0.0     0.0     0.0     0.0     0.0     0.0     0.0   \n",
       "BRD-A00520476     0.0     0.0     0.0     0.0     0.0     0.0     0.0     0.0   \n",
       "\n",
       "               MACC_8  MACC_9     ...      Avalon_502  Avalon_503  Avalon_504  \\\n",
       "Unnamed: 0                        ...                                           \n",
       "BRD-A00100033     0.0     0.0     ...             1.0         0.0         1.0   \n",
       "BRD-A00267231     0.0     0.0     ...             1.0         0.0         1.0   \n",
       "BRD-A00420644     0.0     0.0     ...             0.0         1.0         1.0   \n",
       "BRD-A00474148     0.0     0.0     ...             1.0         0.0         0.0   \n",
       "BRD-A00520476     0.0     0.0     ...             1.0         0.0         1.0   \n",
       "\n",
       "               Avalon_505  Avalon_506  Avalon_507  Avalon_508  Avalon_509  \\\n",
       "Unnamed: 0                                                                  \n",
       "BRD-A00100033         1.0         0.0         1.0         0.0         0.0   \n",
       "BRD-A00267231         0.0         0.0         1.0         1.0         0.0   \n",
       "BRD-A00420644         0.0         0.0         1.0         0.0         0.0   \n",
       "BRD-A00474148         0.0         0.0         1.0         0.0         0.0   \n",
       "BRD-A00520476         0.0         0.0         1.0         0.0         0.0   \n",
       "\n",
       "               Avalon_510  Avalon_511  \n",
       "Unnamed: 0                             \n",
       "BRD-A00100033         1.0         1.0  \n",
       "BRD-A00267231         1.0         1.0  \n",
       "BRD-A00420644         1.0         0.0  \n",
       "BRD-A00474148         1.0         1.0  \n",
       "BRD-A00520476         1.0         0.0  \n",
       "\n",
       "[5 rows x 2727 columns]"
      ]
     },
     "execution_count": 106,
     "metadata": {},
     "output_type": "execute_result"
    }
   ],
   "source": [
    "Y = pd.read_table('Input/consensus-perts.tsv')\n",
    "Y.set_index('pert_id', inplace=True)\n",
    "\n",
    "X1 = pd.read_table('RDKit_fps/Morg1_BMatrix_map_2018_08.tsv')\n",
    "X1[X1.columns[0]] = X1[X1.columns[0]].astype(str)\n",
    "X1 = X1.set_index(X1.columns[0])\n",
    "\n",
    "X2 = pd.read_table('RDKit_fps/TopologicalTorsion_BMatrix_map_2018_08.tsv')\n",
    "X2[X2.columns[0]] = X2[X2.columns[0]].astype(str)\n",
    "X2 = X2.set_index(X2.columns[0])\n",
    "\n",
    "X3 = pd.read_table('RDKit_fps/AtomPair_BMatrix_map_2018_08.tsv')\n",
    "X3[X3.columns[0]] = X3[X3.columns[0]].astype(str)\n",
    "X3 = X3.set_index(X3.columns[0])\n",
    "\n",
    "X4 = pd.read_table('RDKit_fps/MACCs_BMatrix_map_2018_08.tsv')\n",
    "X4[X4.columns[0]] = X4[X4.columns[0]].astype(str)\n",
    "X4 = X4.set_index(X4.columns[0])\n",
    "\n",
    "X5 = pd.read_table('RDKit_fps/RDKfps2_BMatrix_map_2018_08.tsv')\n",
    "X5[X5.columns[0]] = X5[X5.columns[0]].astype(str)\n",
    "X5 = X5.set_index(X5.columns[0])\n",
    "\n",
    "X6 = pd.read_table('RDKit_fps/Avalon_BMatrix_map_2018_08.tsv')\n",
    "X6[X6.columns[0]] = X6[X6.columns[0]].astype(str)\n",
    "X6 = X6.set_index(X6.columns[0])\n",
    "\n",
    "# X7 = pd.read_table('Output/L1000_Scaffolds_2018_07.tsv')\n",
    "# X7[X7.columns[0]] = X7[X7.columns[0]].astype(str)\n",
    "# X7 = X7.set_index(X7.columns[0])\n",
    "# X7 = X7.T\n",
    "\n",
    "X = pd.concat([X1, X2, X3, X4, X5, X6], axis = 1, sort=True)\n",
    "X = X.dropna()\n",
    "X.head()"
   ]
  },
  {
   "cell_type": "code",
   "execution_count": 107,
   "metadata": {},
   "outputs": [
    {
     "data": {
      "text/plain": [
       "(5435, 2727)"
      ]
     },
     "execution_count": 107,
     "metadata": {},
     "output_type": "execute_result"
    }
   ],
   "source": [
    "X.shape"
   ]
  },
  {
   "cell_type": "markdown",
   "metadata": {},
   "source": [
    "## Only get drugs shared between X and Y"
   ]
  },
  {
   "cell_type": "code",
   "execution_count": 108,
   "metadata": {},
   "outputs": [],
   "source": [
    "shared_drugs = sorted(list(set(X.index) & set(Y.index)))\n",
    "X = X.loc[shared_drugs]\n",
    "Y = Y.loc[shared_drugs]\n",
    "X = X.values\n",
    "Y = Y.values"
   ]
  },
  {
   "cell_type": "markdown",
   "metadata": {},
   "source": [
    "## Dimentionality Reduction"
   ]
  },
  {
   "cell_type": "code",
   "execution_count": 109,
   "metadata": {},
   "outputs": [],
   "source": [
    "# dr_model = decomposition.LatentDirichletAllocation(n_components=100, learning_method= 'online')\n",
    "dr_model = decomposition.NMF(n_components=100, init = 'nndsvda')\n",
    "\n",
    "X_dr = dr_model.fit_transform(X)"
   ]
  },
  {
   "cell_type": "code",
   "execution_count": 111,
   "metadata": {},
   "outputs": [
    {
     "data": {
      "text/html": [
       "<div>\n",
       "<style scoped>\n",
       "    .dataframe tbody tr th:only-of-type {\n",
       "        vertical-align: middle;\n",
       "    }\n",
       "\n",
       "    .dataframe tbody tr th {\n",
       "        vertical-align: top;\n",
       "    }\n",
       "\n",
       "    .dataframe thead th {\n",
       "        text-align: right;\n",
       "    }\n",
       "</style>\n",
       "<table border=\"1\" class=\"dataframe\">\n",
       "  <thead>\n",
       "    <tr style=\"text-align: right;\">\n",
       "      <th></th>\n",
       "      <th>0</th>\n",
       "      <th>1</th>\n",
       "      <th>2</th>\n",
       "      <th>3</th>\n",
       "      <th>4</th>\n",
       "      <th>5</th>\n",
       "      <th>6</th>\n",
       "      <th>7</th>\n",
       "      <th>8</th>\n",
       "      <th>9</th>\n",
       "      <th>...</th>\n",
       "      <th>90</th>\n",
       "      <th>91</th>\n",
       "      <th>92</th>\n",
       "      <th>93</th>\n",
       "      <th>94</th>\n",
       "      <th>95</th>\n",
       "      <th>96</th>\n",
       "      <th>97</th>\n",
       "      <th>98</th>\n",
       "      <th>99</th>\n",
       "    </tr>\n",
       "  </thead>\n",
       "  <tbody>\n",
       "    <tr>\n",
       "      <th>0</th>\n",
       "      <td>0.013177</td>\n",
       "      <td>0.000000</td>\n",
       "      <td>0.000000</td>\n",
       "      <td>0.000000</td>\n",
       "      <td>0.000000</td>\n",
       "      <td>0.000000</td>\n",
       "      <td>0.018534</td>\n",
       "      <td>0.030919</td>\n",
       "      <td>0.000000</td>\n",
       "      <td>0.000000</td>\n",
       "      <td>...</td>\n",
       "      <td>0.128043</td>\n",
       "      <td>0.001632</td>\n",
       "      <td>0.00000</td>\n",
       "      <td>0.00000</td>\n",
       "      <td>0.000000</td>\n",
       "      <td>0.000000</td>\n",
       "      <td>0.000000</td>\n",
       "      <td>0.090105</td>\n",
       "      <td>0.020680</td>\n",
       "      <td>0.0</td>\n",
       "    </tr>\n",
       "    <tr>\n",
       "      <th>1</th>\n",
       "      <td>0.000000</td>\n",
       "      <td>0.005436</td>\n",
       "      <td>0.003243</td>\n",
       "      <td>0.000000</td>\n",
       "      <td>0.033911</td>\n",
       "      <td>0.026954</td>\n",
       "      <td>0.000000</td>\n",
       "      <td>0.039356</td>\n",
       "      <td>0.005878</td>\n",
       "      <td>0.026192</td>\n",
       "      <td>...</td>\n",
       "      <td>0.010331</td>\n",
       "      <td>0.011071</td>\n",
       "      <td>0.00000</td>\n",
       "      <td>0.07345</td>\n",
       "      <td>0.000000</td>\n",
       "      <td>0.643807</td>\n",
       "      <td>0.000000</td>\n",
       "      <td>0.111425</td>\n",
       "      <td>0.000000</td>\n",
       "      <td>0.0</td>\n",
       "    </tr>\n",
       "    <tr>\n",
       "      <th>2</th>\n",
       "      <td>0.083181</td>\n",
       "      <td>0.000000</td>\n",
       "      <td>0.000000</td>\n",
       "      <td>0.000000</td>\n",
       "      <td>0.000000</td>\n",
       "      <td>0.000000</td>\n",
       "      <td>0.007567</td>\n",
       "      <td>0.075123</td>\n",
       "      <td>0.009962</td>\n",
       "      <td>0.009572</td>\n",
       "      <td>...</td>\n",
       "      <td>0.000000</td>\n",
       "      <td>0.000000</td>\n",
       "      <td>0.00000</td>\n",
       "      <td>0.05655</td>\n",
       "      <td>0.020863</td>\n",
       "      <td>0.075262</td>\n",
       "      <td>0.096555</td>\n",
       "      <td>0.060452</td>\n",
       "      <td>0.000000</td>\n",
       "      <td>0.0</td>\n",
       "    </tr>\n",
       "    <tr>\n",
       "      <th>3</th>\n",
       "      <td>0.038929</td>\n",
       "      <td>0.000000</td>\n",
       "      <td>0.000000</td>\n",
       "      <td>0.238567</td>\n",
       "      <td>0.164892</td>\n",
       "      <td>0.086148</td>\n",
       "      <td>0.014860</td>\n",
       "      <td>0.110024</td>\n",
       "      <td>0.006600</td>\n",
       "      <td>0.017111</td>\n",
       "      <td>...</td>\n",
       "      <td>0.036064</td>\n",
       "      <td>0.000000</td>\n",
       "      <td>0.00000</td>\n",
       "      <td>0.00000</td>\n",
       "      <td>0.024790</td>\n",
       "      <td>0.000000</td>\n",
       "      <td>0.000000</td>\n",
       "      <td>0.030442</td>\n",
       "      <td>0.153261</td>\n",
       "      <td>0.0</td>\n",
       "    </tr>\n",
       "    <tr>\n",
       "      <th>4</th>\n",
       "      <td>0.116757</td>\n",
       "      <td>0.000000</td>\n",
       "      <td>0.128536</td>\n",
       "      <td>0.000000</td>\n",
       "      <td>0.023984</td>\n",
       "      <td>0.000000</td>\n",
       "      <td>0.071647</td>\n",
       "      <td>0.000000</td>\n",
       "      <td>0.000000</td>\n",
       "      <td>0.085157</td>\n",
       "      <td>...</td>\n",
       "      <td>0.111122</td>\n",
       "      <td>0.000000</td>\n",
       "      <td>0.02354</td>\n",
       "      <td>0.00000</td>\n",
       "      <td>0.013660</td>\n",
       "      <td>0.000000</td>\n",
       "      <td>0.000000</td>\n",
       "      <td>0.023620</td>\n",
       "      <td>0.000000</td>\n",
       "      <td>0.0</td>\n",
       "    </tr>\n",
       "  </tbody>\n",
       "</table>\n",
       "<p>5 rows × 100 columns</p>\n",
       "</div>"
      ],
      "text/plain": [
       "         0         1         2         3         4         5         6   \\\n",
       "0  0.013177  0.000000  0.000000  0.000000  0.000000  0.000000  0.018534   \n",
       "1  0.000000  0.005436  0.003243  0.000000  0.033911  0.026954  0.000000   \n",
       "2  0.083181  0.000000  0.000000  0.000000  0.000000  0.000000  0.007567   \n",
       "3  0.038929  0.000000  0.000000  0.238567  0.164892  0.086148  0.014860   \n",
       "4  0.116757  0.000000  0.128536  0.000000  0.023984  0.000000  0.071647   \n",
       "\n",
       "         7         8         9  ...         90        91       92       93  \\\n",
       "0  0.030919  0.000000  0.000000 ...   0.128043  0.001632  0.00000  0.00000   \n",
       "1  0.039356  0.005878  0.026192 ...   0.010331  0.011071  0.00000  0.07345   \n",
       "2  0.075123  0.009962  0.009572 ...   0.000000  0.000000  0.00000  0.05655   \n",
       "3  0.110024  0.006600  0.017111 ...   0.036064  0.000000  0.00000  0.00000   \n",
       "4  0.000000  0.000000  0.085157 ...   0.111122  0.000000  0.02354  0.00000   \n",
       "\n",
       "         94        95        96        97        98   99  \n",
       "0  0.000000  0.000000  0.000000  0.090105  0.020680  0.0  \n",
       "1  0.000000  0.643807  0.000000  0.111425  0.000000  0.0  \n",
       "2  0.020863  0.075262  0.096555  0.060452  0.000000  0.0  \n",
       "3  0.024790  0.000000  0.000000  0.030442  0.153261  0.0  \n",
       "4  0.013660  0.000000  0.000000  0.023620  0.000000  0.0  \n",
       "\n",
       "[5 rows x 100 columns]"
      ]
     },
     "execution_count": 111,
     "metadata": {},
     "output_type": "execute_result"
    }
   ],
   "source": [
    "X_dr_df = pd.DataFrame(X_dr)\n",
    "X_dr_df.head()"
   ]
  },
  {
   "cell_type": "code",
   "execution_count": 112,
   "metadata": {},
   "outputs": [],
   "source": [
    "X = X_dr"
   ]
  },
  {
   "cell_type": "code",
   "execution_count": 113,
   "metadata": {},
   "outputs": [
    {
     "data": {
      "text/plain": [
       "((5188, 100), (5188, 978))"
      ]
     },
     "execution_count": 113,
     "metadata": {},
     "output_type": "execute_result"
    }
   ],
   "source": [
    "X.shape,Y.shape"
   ]
  },
  {
   "cell_type": "markdown",
   "metadata": {},
   "source": [
    "## Pick the regressor"
   ]
  },
  {
   "cell_type": "code",
   "execution_count": 114,
   "metadata": {},
   "outputs": [],
   "source": [
    "# regressor = linear_model.MultiTaskLasso()\n",
    "# regressor = linear_model.MultiTaskElasticNet()\n",
    "regressor = linear_model.Ridge(fit_intercept=True, normalize=False, copy_X=True, solver='auto')\n",
    "# regressor = ensemble.RandomForestRegressor(n_estimators = 60, n_jobs = 7)\n",
    "# regressor = linear_model.BayesianRidge()\n",
    "# regressor = linear_model.LassoLars() \n",
    "# regressor = ensemble.GradientBoostingRegressor(n_estimators = 5, max_depth= 3, min_samples_split= 3, learning_rate= 0.01, loss= 'ls')\n",
    "# regressor = svm.SVR(degree = 1, epsilon=.01, kernel = 'poly')\n",
    "# regressor = ensemble.AdaBoostRegressor(base_estimator=None, n_estimators=50, learning_rate=1.0, loss='linear', random_state=None)\n",
    "# regressor = neural_network.MLPRegressor(hidden_layer_sizes=(50, ))\n",
    "# regressor = neighbors.KNeighborsRegressor(n_neighbors=100)\n",
    "# regressor = dummy.DummyRegressor(strategy = 'median')\n"
   ]
  },
  {
   "cell_type": "markdown",
   "metadata": {},
   "source": [
    "## Run the model"
   ]
  },
  {
   "cell_type": "code",
   "execution_count": null,
   "metadata": {
    "scrolled": true
   },
   "outputs": [],
   "source": [
    "r2ss = []\n",
    "cv = model_selection.LeaveOneOut()\n",
    "start = time.time()\n",
    "for train_idx, test_idx in cv.split(X):\n",
    "    X_train, Y_train = X[train_idx], Y[train_idx]\n",
    "    \n",
    "    X_test, Y_test = X[test_idx], Y[test_idx]\n",
    "    \n",
    "    regressor.fit(X_train, Y_train)\n",
    "    Y_test_pred = regressor.predict(X_test)\n",
    "    \n",
    "    r2s = metrics.r2_score(Y_test[0], Y_test_pred[0])\n",
    "    r2ss.append(r2s)\n",
    "    \n",
    "    end = time.time()\n",
    "    print(end-start)"
   ]
  },
  {
   "cell_type": "code",
   "execution_count": null,
   "metadata": {},
   "outputs": [],
   "source": [
    "#Load a previously saved r2ss\n",
    "r2ss = np.load('Output/Predicability/All_r2ss_pred.npy')"
   ]
  },
  {
   "cell_type": "code",
   "execution_count": null,
   "metadata": {},
   "outputs": [],
   "source": [
    "#Save R2 scores as a vector\n",
    "pred_vect_df = pd.DataFrame({'Pert_id':shared_drugs, 'R2_Score':r2ss})\n",
    "pred_vect_df.to_csv('Output/Pred_vect.csv')"
   ]
  },
  {
   "cell_type": "code",
   "execution_count": null,
   "metadata": {},
   "outputs": [],
   "source": [
    "#Save the r2ss for easier future access\n",
    "r2ss_pred = np.array(r2ss)\n",
    "np.save('Output/Predicability/All_r2ss_pred_dummy', r2ss_pred)"
   ]
  },
  {
   "cell_type": "code",
   "execution_count": 98,
   "metadata": {},
   "outputs": [
    {
     "name": "stderr",
     "output_type": "stream",
     "text": [
      "/anaconda3/lib/python3.6/site-packages/matplotlib/axes/_axes.py:6462: UserWarning: The 'normed' kwarg is deprecated, and has been replaced by the 'density' kwarg.\n",
      "  warnings.warn(\"The 'normed' kwarg is deprecated, and has been \"\n"
     ]
    },
    {
     "data": {
      "text/plain": [
       "<matplotlib.axes._subplots.AxesSubplot at 0x1a13ee7908>"
      ]
     },
     "execution_count": 98,
     "metadata": {},
     "output_type": "execute_result"
    },
    {
     "data": {
      "image/png": "[encoded data removed]",
      "text/plain": [
       "<Figure size 432x288 with 1 Axes>"
      ]
     },
     "metadata": {},
     "output_type": "display_data"
    }
   ],
   "source": [
    "#Plot histogram of r2ss\n",
    "sns.distplot(r2ss)"
   ]
  },
  {
   "cell_type": "code",
   "execution_count": 99,
   "metadata": {},
   "outputs": [
    {
     "name": "stderr",
     "output_type": "stream",
     "text": [
      "/anaconda3/lib/python3.6/site-packages/matplotlib/axes/_axes.py:6462: UserWarning: The 'normed' kwarg is deprecated, and has been replaced by the 'density' kwarg.\n",
      "  warnings.warn(\"The 'normed' kwarg is deprecated, and has been \"\n"
     ]
    },
    {
     "data": {
      "text/plain": [
       "(0, 1)"
      ]
     },
     "execution_count": 99,
     "metadata": {},
     "output_type": "execute_result"
    },
    {
     "data": {
      "image/png": "[encoded data removed]",
      "text/plain": [
       "<Figure size 432x288 with 1 Axes>"
      ]
     },
     "metadata": {},
     "output_type": "display_data"
    }
   ],
   "source": [
    "#Plot r2ss between 0 and 1\n",
    "fig = sns.distplot(r2ss, bins = 75, color='#d2afff')\n",
    "fig.set_xlim(0,1)"
   ]
  },
  {
   "cell_type": "code",
   "execution_count": 100,
   "metadata": {},
   "outputs": [
    {
     "data": {
      "text/plain": [
       "(0.8798493598730603, -5.621905285793909)"
      ]
     },
     "execution_count": 100,
     "metadata": {},
     "output_type": "execute_result"
    }
   ],
   "source": [
    "max(r2ss), min(r2ss)"
   ]
  },
  {
   "cell_type": "code",
   "execution_count": 101,
   "metadata": {},
   "outputs": [],
   "source": [
    "#Scale the r2ss to all be between 0 and 1\n",
    "r2ss_scale_pred = []\n",
    "r2min = min(r2ss)\n",
    "r2max = max(r2ss)\n",
    "\n",
    "for r2 in r2ss:\n",
    "    scaled = (r2-r2min)/((r2max-r2min))\n",
    "    r2ss_scale_pred.append(scaled)"
   ]
  },
  {
   "cell_type": "code",
   "execution_count": 103,
   "metadata": {},
   "outputs": [],
   "source": [
    "Y = r2ss_scale_pred"
   ]
  },
  {
   "cell_type": "code",
   "execution_count": null,
   "metadata": {},
   "outputs": [],
   "source": [
    "r2ss_scaled_pred = np.array(r2ss_scale_pred)\n",
    "np.save('Output/Predicability/All_r2ss_scaled_pred_dummy', r2ss_scaled_pred)"
   ]
  },
  {
   "cell_type": "markdown",
   "metadata": {},
   "source": [
    "## Predict the predictability"
   ]
  },
  {
   "cell_type": "code",
   "execution_count": 104,
   "metadata": {},
   "outputs": [
    {
     "name": "stdout",
     "output_type": "stream",
     "text": [
      "9.406721830368042\n",
      "19.24474596977234\n",
      "29.975923776626587\n",
      "39.643054723739624\n",
      "49.45398497581482\n"
     ]
    }
   ],
   "source": [
    "# pred_regressor = linear_model.Ridge(fit_intercept=True, normalize=False, copy_X=True, solver='auto')\n",
    "pred_regressor = ensemble.RandomForestRegressor(n_estimators = 300, n_jobs = 7)\n",
    "\n",
    "pred_r2s = []\n",
    "cv = model_selection.KFold(n_splits=5, shuffle=True)\n",
    "start = time.time()\n",
    "for train_idx, test_idx in cv.split(X):\n",
    "    X_train, Y_train = X[train_idx], [Y[i] for i in train_idx]\n",
    "    X_test, Y_test = X[test_idx], [Y[i] for i in test_idx]\n",
    "    \n",
    "    pred_regressor.fit(X_train, Y_train)\n",
    "    Y_test_pred = pred_regressor.predict(X_test)\n",
    "    \n",
    "    r2s = metrics.r2_score(Y_test, Y_test_pred)\n",
    "    pred_r2s.append(r2s)\n",
    "    end = time.time()\n",
    "    print(end-start)"
   ]
  },
  {
   "cell_type": "code",
   "execution_count": 105,
   "metadata": {},
   "outputs": [
    {
     "data": {
      "text/plain": [
       "[0.0004789885007149275,\n",
       " 0.0926662378694676,\n",
       " 0.18245812291768826,\n",
       " -0.01937094331892819,\n",
       " 0.06433369691593105]"
      ]
     },
     "execution_count": 105,
     "metadata": {},
     "output_type": "execute_result"
    }
   ],
   "source": [
    "pred_r2s"
   ]
  },
  {
   "cell_type": "markdown",
   "metadata": {},
   "source": [
    "## Top/Bottom 30 drugs based on r2 values"
   ]
  },
  {
   "cell_type": "code",
   "execution_count": 75,
   "metadata": {},
   "outputs": [],
   "source": [
    "x = np.array(r2ss)\n",
    "x_top30 = np.argsort(x)[-30:]\n",
    "x_bottom30 = np.argsort(x)[:30]\n",
    "\n",
    "top30 = [shared_drugs[i] for i in x_top30]\n",
    "bottom30 = [shared_drugs[i] for i in x_bottom30]"
   ]
  },
  {
   "cell_type": "code",
   "execution_count": null,
   "metadata": {
    "scrolled": true
   },
   "outputs": [],
   "source": [
    "top30, bottom30"
   ]
  },
  {
   "cell_type": "code",
   "execution_count": null,
   "metadata": {},
   "outputs": [],
   "source": [
    "[x[i] for i in x_top30],[x[i] for i in x_bottom330]"
   ]
  },
  {
   "cell_type": "code",
   "execution_count": null,
   "metadata": {},
   "outputs": [],
   "source": []
  },
  {
   "cell_type": "code",
   "execution_count": null,
   "metadata": {},
   "outputs": [],
   "source": []
  }
 ],
 "metadata": {
  "kernelspec": {
   "display_name": "Python 3",
   "language": "python",
   "name": "python3"
  },
  "language_info": {
   "codemirror_mode": {
    "name": "ipython",
    "version": 3
   },
   "file_extension": ".py",
   "mimetype": "text/x-python",
   "name": "python",
   "nbconvert_exporter": "python",
   "pygments_lexer": "ipython3",
   "version": "3.6.5"
  }
 },
 "nbformat": 4,
 "nbformat_minor": 2
}
