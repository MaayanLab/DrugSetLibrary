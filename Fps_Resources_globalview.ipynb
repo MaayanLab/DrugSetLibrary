{
 "cells": [
  {
   "cell_type": "markdown",
   "metadata": {},
   "source": [
    "## Import Libraries"
   ]
  },
  {
   "cell_type": "code",
   "execution_count": null,
   "metadata": {},
   "outputs": [],
   "source": [
    "import numpy as np\n",
    "import pandas as pd\n",
    "from scipy.spatial.distance import squareform, pdist,jaccard\n",
    "import sys,  datetime, os\n",
    "import requests\n",
    "import time\n",
    "from scipy.stats.stats import pearsonr\n",
    "import matplotlib.pyplot as plt\n",
    "from sklearn import metrics\n",
    "import seaborn as sns\n",
    "from scipy import stats, integrate"
   ]
  },
  {
   "cell_type": "code",
   "execution_count": null,
   "metadata": {},
   "outputs": [],
   "source": [
    "from rdkit import Chem\n",
    "from rdkit import DataStructs\n",
    "from rdkit.Chem import MACCSkeys\n",
    "from rdkit.Chem import PandasTools\n",
    "from rdkit import RDConfig\n",
    "from rdkit.Chem import AllChem\n",
    "from rdkit import Avalon\n",
    "from rdkit.Chem.AtomPairs import Pairs\n",
    "from rdkit.Chem.Fingerprints import ClusterMols\n",
    "from rdkit.Chem.Fingerprints import FingerprintMols"
   ]
  },
  {
   "cell_type": "markdown",
   "metadata": {},
   "source": [
    "## Load FPS Files"
   ]
  },
  {
   "cell_type": "code",
   "execution_count": null,
   "metadata": {},
   "outputs": [],
   "source": [
    "fps = []\n",
    "files = []\n",
    "\n",
    "for filename in os.listdir('RDKit_fps/'):\n",
    "    fps.append(filename[:-24])\n",
    "    df = pd.read_table('RDKit_fps/'+ filename)\n",
    "    df[df.columns[0]] = df[df.columns[0]].astype(str)\n",
    "    files.append(df.set_index(df.columns[0]))\n",
    "\n",
    "fpsfiles_dict=dict(zip(fps, files)) \n",
    "del fpsfiles_dict['']\n",
    "fps.remove('')"
   ]
  },
  {
   "cell_type": "code",
   "execution_count": null,
   "metadata": {},
   "outputs": [],
   "source": [
    "fps = sorted(fps)\n",
    "fps[:2]"
   ]
  },
  {
   "cell_type": "code",
   "execution_count": null,
   "metadata": {},
   "outputs": [],
   "source": [
    "names = []\n",
    "files = []\n",
    "\n",
    "for filename in os.listdir('All_bmat/'):\n",
    "    names.append(filename[:-12])\n",
    "    df = pd.read_table('All_bmat/'+ filename)\n",
    "    files.append(df.set_index(df.columns[0]))\n",
    "\n",
    "namefiles_dict=dict(zip(names, files))   \n",
    "del namefiles_dict['']\n",
    "names.remove('')"
   ]
  },
  {
   "cell_type": "code",
   "execution_count": null,
   "metadata": {},
   "outputs": [],
   "source": [
    "names"
   ]
  },
  {
   "cell_type": "markdown",
   "metadata": {},
   "source": [
    "## Build Similarity Matrix"
   ]
  },
  {
   "cell_type": "code",
   "execution_count": null,
   "metadata": {},
   "outputs": [],
   "source": [
    "def pairwise_dis(df, metric):\n",
    "    array_matrix = metrics.pairwise_distances(df, metric = metric)\n",
    "    return array_matrix\n",
    "\n",
    "def vector(array_matrix):\n",
    "    return squareform(array_matrix)"
   ]
  },
  {
   "cell_type": "code",
   "execution_count": null,
   "metadata": {},
   "outputs": [],
   "source": [
    "fps_pheno_df = pd.DataFrame(0, index = names + fps, columns = names + fps)\n",
    "fps_pheno_df.head(2)"
   ]
  },
  {
   "cell_type": "code",
   "execution_count": null,
   "metadata": {
    "scrolled": true
   },
   "outputs": [],
   "source": [
    "for dbname1 in names:\n",
    "    for dbname2 in names:\n",
    "        if fps_pheno_df.loc[dbname1, dbname2] != 0:\n",
    "            continue\n",
    "        db1, db2 = namefiles_dict[dbname1].T, namefiles_dict[dbname2].T\n",
    "        shared = sorted(list(set(db1.index) & set(db2.index)))\n",
    "        db1 = db1.loc[shared]\n",
    "        db2 = db2.loc[shared]\n",
    "        db1_vect = vector(pairwise_dis(db1, 'manhattan'))\n",
    "        db2_vect = vector(pairwise_dis(db2, 'manhattan'))\n",
    "        p_coeff = pearsonr(db1_vect, db2_vect)[0]\n",
    "        fps_pheno_df.loc[dbname1, dbname2] = p_coeff"
   ]
  },
  {
   "cell_type": "code",
   "execution_count": null,
   "metadata": {
    "scrolled": true
   },
   "outputs": [],
   "source": [
    "for fps1 in fps:\n",
    "    for fps2 in fps:\n",
    "        if fps_pheno_df.loc[fps1, fps2] != 0:\n",
    "            continue\n",
    "        fpdb1, fpdb2 = fpsfiles_dict[fps1], fpsfiles_dict[fps2]\n",
    "        shared = sorted(list(set(fpdb1.index) & set(fpdb2.index)))\n",
    "        fpdb1 = fpdb1.loc[shared]\n",
    "        fpdb2 = fpdb2.loc[shared]\n",
    "        fpdb1_vect = vector(pairwise_dis(fpdb1, 'manhattan'))\n",
    "        fpdb2_vect = vector(pairwise_dis(fpdb2, 'manhattan'))\n",
    "        p_coeff = pearsonr(fpdb1_vect, fpdb2_vect)[0]\n",
    "        fps_pheno_df.loc[fps1, fps2] = p_coeff\n",
    "        fps_pheno_df.loc[fps2, fps1] = p_coeff"
   ]
  },
  {
   "cell_type": "code",
   "execution_count": null,
   "metadata": {
    "scrolled": true
   },
   "outputs": [],
   "source": [
    "for dbname in names:\n",
    "    for fp in fps:\n",
    "        if fps_pheno_df.loc[dbname, fp] != 0:\n",
    "            continue\n",
    "        db= namefiles_dict[dbname].T\n",
    "        fpdb = fpsfiles_dict[fp]\n",
    "        shared = sorted(list(set(db.index) & set(fpdb.index)))\n",
    "        db = db.loc[shared]\n",
    "        fpdb = fpdb.loc[shared]\n",
    "        db_vect = vector(pairwise_dis(db, 'manhattan'))\n",
    "        fpdb_vect = vector(pairwise_dis(fpdb, 'manhattan'))\n",
    "        p_coeff = pearsonr(db_vect, fpdb_vect)[0]\n",
    "        fps_pheno_df.loc[dbname, fp] = p_coeff\n",
    "        fps_pheno_df.loc[fp, dbname] = p_coeff"
   ]
  },
  {
   "cell_type": "markdown",
   "metadata": {},
   "source": [
    "## Plots for full df"
   ]
  },
  {
   "cell_type": "code",
   "execution_count": null,
   "metadata": {},
   "outputs": [],
   "source": [
    "fig = plt.figure()\n",
    "ax = fig.add_subplot(111)\n",
    "cax = ax.matshow(fps_pheno_df)\n",
    "fig.colorbar(cax)\n",
    "\n",
    "plt.xticks(range(len(names + fps)),names+fps, rotation = 90)\n",
    "plt.yticks(range(len(names + fps)),names+fps)\n",
    "plt.show()"
   ]
  },
  {
   "cell_type": "code",
   "execution_count": null,
   "metadata": {},
   "outputs": [],
   "source": [
    "sns.heatmap(fps_pheno_df)"
   ]
  },
  {
   "cell_type": "code",
   "execution_count": null,
   "metadata": {},
   "outputs": [],
   "source": [
    "sns.clustermap(fps_pheno_df)"
   ]
  },
  {
   "cell_type": "markdown",
   "metadata": {},
   "source": [
    "## Plots for only cross (resource + fp) df"
   ]
  },
  {
   "cell_type": "code",
   "execution_count": null,
   "metadata": {},
   "outputs": [],
   "source": [
    "fps_pheno_cross_df = fps_pheno_df.loc['DrugBank_Targets':'Matador_Targets', 'AtomPair':'TopologicalTorsion']"
   ]
  },
  {
   "cell_type": "code",
   "execution_count": null,
   "metadata": {},
   "outputs": [],
   "source": [
    "fig = plt.figure()\n",
    "ax = fig.add_subplot(111)\n",
    "cax = ax.matshow(fps_pheno_cross_df)\n",
    "fig.colorbar(cax)\n",
    "\n",
    "plt.xticks(range(len(fps)),fps, rotation = 90)\n",
    "plt.yticks(range(len(names)),names)\n",
    "plt.show()\n",
    "\n",
    "plt.savefig('Presentation_figures/resources_fps_globalview.png', bbox_inches = 'tight')"
   ]
  },
  {
   "cell_type": "code",
   "execution_count": null,
   "metadata": {},
   "outputs": [],
   "source": [
    "sns.heatmap(fps_pheno_cross_df, cmap='vlag')"
   ]
  },
  {
   "cell_type": "code",
   "execution_count": null,
   "metadata": {
    "scrolled": false
   },
   "outputs": [],
   "source": [
    "clustermap = sns.clustermap(fps_pheno_cross_df, cmap = 'vlag')\n",
    "clustermap.savefig('Presentation_figures/Resources_fps_globalview_cluster.png')\n",
    "clustermap"
   ]
  },
  {
   "cell_type": "markdown",
   "metadata": {},
   "source": [
    "## Save DFs"
   ]
  },
  {
   "cell_type": "code",
   "execution_count": null,
   "metadata": {},
   "outputs": [],
   "source": [
    "fps_pheno_df.to_csv('Output/All_RDKFps_Phenotype.tsv', sep='\\t')\n",
    "fps_pheno_cross_df.to_csv('Output/All_RDKFps_Phenotype_cross.tsv', sep = '\\t')"
   ]
  },
  {
   "cell_type": "markdown",
   "metadata": {},
   "source": [
    "## Compare similarity of L1000 Data and Fingerprints"
   ]
  },
  {
   "cell_type": "code",
   "execution_count": null,
   "metadata": {},
   "outputs": [],
   "source": [
    "fps_L100_only = fps_pheno_df.loc[['L1000_sig_new','L1000_signatures'], 'AtomPair':'TopologicalTorsion']\n",
    "fps_L1000_only = fps_pheno_df.loc['L1000_sig_new', 'AtomPair':'TopologicalTorsion']"
   ]
  },
  {
   "cell_type": "code",
   "execution_count": null,
   "metadata": {},
   "outputs": [],
   "source": [
    "clustermap = sns.clustermap(fps_L100_only, cmap = 'vlag')\n",
    "clustermap.savefig('Presentation_figures/L1000_cluster.png')"
   ]
  },
  {
   "cell_type": "markdown",
   "metadata": {},
   "source": [
    "## Determine indvidual p coefficients"
   ]
  },
  {
   "cell_type": "code",
   "execution_count": null,
   "metadata": {
    "scrolled": true
   },
   "outputs": [],
   "source": [
    "# scaf_df = pd.read_table('Output/L1000_Scaffolds_pcid_2018_07.tsv')\n",
    "# scaf_df.set_index('Unnamed: 0', inplace = True)\n",
    "# scaf_df = scaf_df.T\n",
    "\n",
    "db= namefiles_dict['L1000_sig_new'].T\n",
    "# db= namefiles_dict['BindingDB_Targets'].T\n",
    "# fpdb = fpsfiles_dict['RDKfps2']\n",
    "fpdb = scaf_df\n",
    "shared = sorted(list(set(db.index) & set(fpdb.index)))\n",
    "db = db.loc[shared]\n",
    "fpdb = fpdb.loc[shared]\n",
    "db_vect = vector(pairwise_dis(db, 'manhattan'))\n",
    "fpdb_vect = vector(pairwise_dis(fpdb, 'manhattan'))\n",
    "p_coeff = pearsonr(db_vect, fpdb_vect)[0]"
   ]
  }
 ],
 "metadata": {
  "kernelspec": {
   "display_name": "Python 3",
   "language": "python",
   "name": "python3"
  },
  "language_info": {
   "codemirror_mode": {
    "name": "ipython",
    "version": 3
   },
   "file_extension": ".py",
   "mimetype": "text/x-python",
   "name": "python",
   "nbconvert_exporter": "python",
   "pygments_lexer": "ipython3",
   "version": "3.6.5"
  }
 },
 "nbformat": 4,
 "nbformat_minor": 2
}
