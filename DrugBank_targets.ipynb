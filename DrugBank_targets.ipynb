{
 "cells": [
  {
   "cell_type": "markdown",
   "metadata": {},
   "source": [
    "## Import Libraries"
   ]
  },
  {
   "cell_type": "code",
   "execution_count": 3,
   "metadata": {},
   "outputs": [],
   "source": [
    "import numpy as np\n",
    "import pandas as pd\n",
    "from scipy.spatial.distance import squareform, pdist,jaccard"
   ]
  },
  {
   "cell_type": "markdown",
   "metadata": {},
   "source": [
    "## Load Data"
   ]
  },
  {
   "cell_type": "markdown",
   "metadata": {},
   "source": [
    "#### Load DrugBank Data"
   ]
  },
  {
   "cell_type": "code",
   "execution_count": 4,
   "metadata": {},
   "outputs": [],
   "source": [
    "df = pd.read_csv('Input/drugbank_targets.csv')"
   ]
  },
  {
   "cell_type": "code",
   "execution_count": 5,
   "metadata": {},
   "outputs": [
    {
     "data": {
      "text/html": [
       "<div>\n",
       "<style scoped>\n",
       "    .dataframe tbody tr th:only-of-type {\n",
       "        vertical-align: middle;\n",
       "    }\n",
       "\n",
       "    .dataframe tbody tr th {\n",
       "        vertical-align: top;\n",
       "    }\n",
       "\n",
       "    .dataframe thead th {\n",
       "        text-align: right;\n",
       "    }\n",
       "</style>\n",
       "<table border=\"1\" class=\"dataframe\">\n",
       "  <thead>\n",
       "    <tr style=\"text-align: right;\">\n",
       "      <th></th>\n",
       "      <th>DrugBank ID</th>\n",
       "      <th>Name</th>\n",
       "      <th>Type</th>\n",
       "      <th>UniProt ID</th>\n",
       "      <th>UniProt Name</th>\n",
       "    </tr>\n",
       "  </thead>\n",
       "  <tbody>\n",
       "    <tr>\n",
       "      <th>0</th>\n",
       "      <td>DB00001</td>\n",
       "      <td>Lepirudin</td>\n",
       "      <td>BiotechDrug</td>\n",
       "      <td>P00734</td>\n",
       "      <td>Prothrombin</td>\n",
       "    </tr>\n",
       "    <tr>\n",
       "      <th>1</th>\n",
       "      <td>DB00002</td>\n",
       "      <td>Cetuximab</td>\n",
       "      <td>BiotechDrug</td>\n",
       "      <td>P00533</td>\n",
       "      <td>Epidermal growth factor receptor</td>\n",
       "    </tr>\n",
       "    <tr>\n",
       "      <th>2</th>\n",
       "      <td>DB00002</td>\n",
       "      <td>Cetuximab</td>\n",
       "      <td>BiotechDrug</td>\n",
       "      <td>O75015</td>\n",
       "      <td>Low affinity immunoglobulin gamma Fc region re...</td>\n",
       "    </tr>\n",
       "    <tr>\n",
       "      <th>3</th>\n",
       "      <td>DB00002</td>\n",
       "      <td>Cetuximab</td>\n",
       "      <td>BiotechDrug</td>\n",
       "      <td>P00736</td>\n",
       "      <td>Complement C1r subcomponent</td>\n",
       "    </tr>\n",
       "    <tr>\n",
       "      <th>4</th>\n",
       "      <td>DB00002</td>\n",
       "      <td>Cetuximab</td>\n",
       "      <td>BiotechDrug</td>\n",
       "      <td>P02745</td>\n",
       "      <td>Complement C1q subcomponent subunit A</td>\n",
       "    </tr>\n",
       "  </tbody>\n",
       "</table>\n",
       "</div>"
      ],
      "text/plain": [
       "  DrugBank ID       Name         Type UniProt ID  \\\n",
       "0     DB00001  Lepirudin  BiotechDrug     P00734   \n",
       "1     DB00002  Cetuximab  BiotechDrug     P00533   \n",
       "2     DB00002  Cetuximab  BiotechDrug     O75015   \n",
       "3     DB00002  Cetuximab  BiotechDrug     P00736   \n",
       "4     DB00002  Cetuximab  BiotechDrug     P02745   \n",
       "\n",
       "                                        UniProt Name  \n",
       "0                                        Prothrombin  \n",
       "1                   Epidermal growth factor receptor  \n",
       "2  Low affinity immunoglobulin gamma Fc region re...  \n",
       "3                        Complement C1r subcomponent  \n",
       "4              Complement C1q subcomponent subunit A  "
      ]
     },
     "execution_count": 5,
     "metadata": {},
     "output_type": "execute_result"
    }
   ],
   "source": [
    "df.head()"
   ]
  },
  {
   "cell_type": "code",
   "execution_count": 6,
   "metadata": {},
   "outputs": [
    {
     "data": {
      "text/plain": [
       "(18655, 5)"
      ]
     },
     "execution_count": 6,
     "metadata": {},
     "output_type": "execute_result"
    }
   ],
   "source": [
    "df.shape"
   ]
  },
  {
   "cell_type": "code",
   "execution_count": 7,
   "metadata": {},
   "outputs": [
    {
     "data": {
      "text/plain": [
       "array(['BiotechDrug', 'SmallMoleculeDrug'], dtype=object)"
      ]
     },
     "execution_count": 7,
     "metadata": {},
     "output_type": "execute_result"
    }
   ],
   "source": [
    "df['Type'].unique()"
   ]
  },
  {
   "cell_type": "code",
   "execution_count": 8,
   "metadata": {},
   "outputs": [
    {
     "data": {
      "text/plain": [
       "7137"
      ]
     },
     "execution_count": 8,
     "metadata": {},
     "output_type": "execute_result"
    }
   ],
   "source": [
    "len(df['Name'].unique())"
   ]
  },
  {
   "cell_type": "code",
   "execution_count": 9,
   "metadata": {},
   "outputs": [],
   "source": [
    "#df['UniProtID'] = df['UniProt ID']"
   ]
  },
  {
   "cell_type": "markdown",
   "metadata": {},
   "source": [
    "#### Load UniProt ID table"
   ]
  },
  {
   "cell_type": "code",
   "execution_count": 10,
   "metadata": {},
   "outputs": [],
   "source": [
    "uniprot = pd.read_table('Input/gene_to_uniprot.txt')"
   ]
  },
  {
   "cell_type": "code",
   "execution_count": 11,
   "metadata": {},
   "outputs": [
    {
     "data": {
      "text/html": [
       "<div>\n",
       "<style scoped>\n",
       "    .dataframe tbody tr th:only-of-type {\n",
       "        vertical-align: middle;\n",
       "    }\n",
       "\n",
       "    .dataframe tbody tr th {\n",
       "        vertical-align: top;\n",
       "    }\n",
       "\n",
       "    .dataframe thead th {\n",
       "        text-align: right;\n",
       "    }\n",
       "</style>\n",
       "<table border=\"1\" class=\"dataframe\">\n",
       "  <thead>\n",
       "    <tr style=\"text-align: right;\">\n",
       "      <th></th>\n",
       "      <th>Approved Symbol</th>\n",
       "      <th>UniProt ID</th>\n",
       "    </tr>\n",
       "  </thead>\n",
       "  <tbody>\n",
       "    <tr>\n",
       "      <th>0</th>\n",
       "      <td>A1BG</td>\n",
       "      <td>P04217</td>\n",
       "    </tr>\n",
       "    <tr>\n",
       "      <th>1</th>\n",
       "      <td>A1BG-AS1</td>\n",
       "      <td>NaN</td>\n",
       "    </tr>\n",
       "    <tr>\n",
       "      <th>2</th>\n",
       "      <td>A1CF</td>\n",
       "      <td>Q9NQ94</td>\n",
       "    </tr>\n",
       "    <tr>\n",
       "      <th>3</th>\n",
       "      <td>A2M</td>\n",
       "      <td>P01023</td>\n",
       "    </tr>\n",
       "    <tr>\n",
       "      <th>4</th>\n",
       "      <td>A2M-AS1</td>\n",
       "      <td>NaN</td>\n",
       "    </tr>\n",
       "  </tbody>\n",
       "</table>\n",
       "</div>"
      ],
      "text/plain": [
       "  Approved Symbol UniProt ID\n",
       "0            A1BG     P04217\n",
       "1        A1BG-AS1        NaN\n",
       "2            A1CF     Q9NQ94\n",
       "3             A2M     P01023\n",
       "4         A2M-AS1        NaN"
      ]
     },
     "execution_count": 11,
     "metadata": {},
     "output_type": "execute_result"
    }
   ],
   "source": [
    "uniprot.head()"
   ]
  },
  {
   "cell_type": "code",
   "execution_count": 12,
   "metadata": {},
   "outputs": [
    {
     "data": {
      "text/plain": [
       "(41375, 2)"
      ]
     },
     "execution_count": 12,
     "metadata": {},
     "output_type": "execute_result"
    }
   ],
   "source": [
    "uniprot.shape"
   ]
  },
  {
   "cell_type": "code",
   "execution_count": 13,
   "metadata": {},
   "outputs": [],
   "source": [
    "uniprot = uniprot[pd.notnull(uniprot['UniProt ID'])]"
   ]
  },
  {
   "cell_type": "markdown",
   "metadata": {},
   "source": [
    "## Map UniProt ID to Gene"
   ]
  },
  {
   "cell_type": "code",
   "execution_count": 14,
   "metadata": {},
   "outputs": [],
   "source": [
    "df.set_index('UniProt ID', inplace = True)\n",
    "uniprot.set_index('UniProt ID',inplace=True)"
   ]
  },
  {
   "cell_type": "code",
   "execution_count": null,
   "metadata": {},
   "outputs": [],
   "source": []
  },
  {
   "cell_type": "code",
   "execution_count": 15,
   "metadata": {},
   "outputs": [
    {
     "data": {
      "text/html": [
       "<div>\n",
       "<style scoped>\n",
       "    .dataframe tbody tr th:only-of-type {\n",
       "        vertical-align: middle;\n",
       "    }\n",
       "\n",
       "    .dataframe tbody tr th {\n",
       "        vertical-align: top;\n",
       "    }\n",
       "\n",
       "    .dataframe thead th {\n",
       "        text-align: right;\n",
       "    }\n",
       "</style>\n",
       "<table border=\"1\" class=\"dataframe\">\n",
       "  <thead>\n",
       "    <tr style=\"text-align: right;\">\n",
       "      <th></th>\n",
       "      <th>Approved Symbol</th>\n",
       "    </tr>\n",
       "    <tr>\n",
       "      <th>UniProt ID</th>\n",
       "      <th></th>\n",
       "    </tr>\n",
       "  </thead>\n",
       "  <tbody>\n",
       "    <tr>\n",
       "      <th>P04217</th>\n",
       "      <td>A1BG</td>\n",
       "    </tr>\n",
       "    <tr>\n",
       "      <th>Q9NQ94</th>\n",
       "      <td>A1CF</td>\n",
       "    </tr>\n",
       "    <tr>\n",
       "      <th>P01023</th>\n",
       "      <td>A2M</td>\n",
       "    </tr>\n",
       "    <tr>\n",
       "      <th>A8K2U0</th>\n",
       "      <td>A2ML1</td>\n",
       "    </tr>\n",
       "    <tr>\n",
       "      <th>U3KPV4</th>\n",
       "      <td>A3GALT2</td>\n",
       "    </tr>\n",
       "  </tbody>\n",
       "</table>\n",
       "</div>"
      ],
      "text/plain": [
       "           Approved Symbol\n",
       "UniProt ID                \n",
       "P04217                A1BG\n",
       "Q9NQ94                A1CF\n",
       "P01023                 A2M\n",
       "A8K2U0               A2ML1\n",
       "U3KPV4             A3GALT2"
      ]
     },
     "execution_count": 15,
     "metadata": {},
     "output_type": "execute_result"
    }
   ],
   "source": [
    "uniprot.head()"
   ]
  },
  {
   "cell_type": "code",
   "execution_count": 16,
   "metadata": {
    "scrolled": true
   },
   "outputs": [],
   "source": [
    "df = pd.merge(df, uniprot, how= 'left', on = 'UniProt ID')"
   ]
  },
  {
   "cell_type": "markdown",
   "metadata": {},
   "source": [
    "## Set up Matrix"
   ]
  },
  {
   "cell_type": "code",
   "execution_count": 48,
   "metadata": {},
   "outputs": [],
   "source": [
    "df = df.rename(index=str, columns = {'Approved Symbol':'Targets'})"
   ]
  },
  {
   "cell_type": "code",
   "execution_count": 49,
   "metadata": {},
   "outputs": [
    {
     "data": {
      "text/html": [
       "<div>\n",
       "<style scoped>\n",
       "    .dataframe tbody tr th:only-of-type {\n",
       "        vertical-align: middle;\n",
       "    }\n",
       "\n",
       "    .dataframe tbody tr th {\n",
       "        vertical-align: top;\n",
       "    }\n",
       "\n",
       "    .dataframe thead th {\n",
       "        text-align: right;\n",
       "    }\n",
       "</style>\n",
       "<table border=\"1\" class=\"dataframe\">\n",
       "  <thead>\n",
       "    <tr style=\"text-align: right;\">\n",
       "      <th></th>\n",
       "      <th>index</th>\n",
       "      <th>UniProt ID</th>\n",
       "      <th>DrugBank ID</th>\n",
       "      <th>Name</th>\n",
       "      <th>Type</th>\n",
       "      <th>UniProt Name</th>\n",
       "    </tr>\n",
       "    <tr>\n",
       "      <th>Targets</th>\n",
       "      <th></th>\n",
       "      <th></th>\n",
       "      <th></th>\n",
       "      <th></th>\n",
       "      <th></th>\n",
       "      <th></th>\n",
       "    </tr>\n",
       "  </thead>\n",
       "  <tbody>\n",
       "    <tr>\n",
       "      <th>F2</th>\n",
       "      <td>0</td>\n",
       "      <td>P00734</td>\n",
       "      <td>DB00001</td>\n",
       "      <td>Lepirudin</td>\n",
       "      <td>BiotechDrug</td>\n",
       "      <td>Prothrombin</td>\n",
       "    </tr>\n",
       "    <tr>\n",
       "      <th>EGFR</th>\n",
       "      <td>1</td>\n",
       "      <td>P00533</td>\n",
       "      <td>DB00002</td>\n",
       "      <td>Cetuximab</td>\n",
       "      <td>BiotechDrug</td>\n",
       "      <td>Epidermal growth factor receptor</td>\n",
       "    </tr>\n",
       "    <tr>\n",
       "      <th>FCGR3B</th>\n",
       "      <td>2</td>\n",
       "      <td>O75015</td>\n",
       "      <td>DB00002</td>\n",
       "      <td>Cetuximab</td>\n",
       "      <td>BiotechDrug</td>\n",
       "      <td>Low affinity immunoglobulin gamma Fc region re...</td>\n",
       "    </tr>\n",
       "    <tr>\n",
       "      <th>C1R</th>\n",
       "      <td>3</td>\n",
       "      <td>P00736</td>\n",
       "      <td>DB00002</td>\n",
       "      <td>Cetuximab</td>\n",
       "      <td>BiotechDrug</td>\n",
       "      <td>Complement C1r subcomponent</td>\n",
       "    </tr>\n",
       "    <tr>\n",
       "      <th>C1QA</th>\n",
       "      <td>4</td>\n",
       "      <td>P02745</td>\n",
       "      <td>DB00002</td>\n",
       "      <td>Cetuximab</td>\n",
       "      <td>BiotechDrug</td>\n",
       "      <td>Complement C1q subcomponent subunit A</td>\n",
       "    </tr>\n",
       "  </tbody>\n",
       "</table>\n",
       "</div>"
      ],
      "text/plain": [
       "         index UniProt ID DrugBank ID       Name         Type  \\\n",
       "Targets                                                         \n",
       "F2           0     P00734     DB00001  Lepirudin  BiotechDrug   \n",
       "EGFR         1     P00533     DB00002  Cetuximab  BiotechDrug   \n",
       "FCGR3B       2     O75015     DB00002  Cetuximab  BiotechDrug   \n",
       "C1R          3     P00736     DB00002  Cetuximab  BiotechDrug   \n",
       "C1QA         4     P02745     DB00002  Cetuximab  BiotechDrug   \n",
       "\n",
       "                                              UniProt Name  \n",
       "Targets                                                     \n",
       "F2                                             Prothrombin  \n",
       "EGFR                      Epidermal growth factor receptor  \n",
       "FCGR3B   Low affinity immunoglobulin gamma Fc region re...  \n",
       "C1R                            Complement C1r subcomponent  \n",
       "C1QA                 Complement C1q subcomponent subunit A  "
      ]
     },
     "execution_count": 49,
     "metadata": {},
     "output_type": "execute_result"
    }
   ],
   "source": [
    "df.head()"
   ]
  },
  {
   "cell_type": "code",
   "execution_count": 30,
   "metadata": {},
   "outputs": [],
   "source": [
    "df.reset_index(inplace=True)\n",
    "df.set_index('Targets', inplace=True)"
   ]
  },
  {
   "cell_type": "code",
   "execution_count": 28,
   "metadata": {},
   "outputs": [],
   "source": [
    "targets = df['Targets'].drop_duplicates()"
   ]
  },
  {
   "cell_type": "code",
   "execution_count": 51,
   "metadata": {},
   "outputs": [],
   "source": [
    "targets_and_names = df['Name']"
   ]
  },
  {
   "cell_type": "code",
   "execution_count": 25,
   "metadata": {
    "scrolled": true
   },
   "outputs": [
    {
     "ename": "ValueError",
     "evalue": "could not convert string to float: 'Tildrakizumab'",
     "output_type": "error",
     "traceback": [
      "\u001b[0;31m---------------------------------------------------------------------------\u001b[0m",
      "\u001b[0;31mValueError\u001b[0m                                Traceback (most recent call last)",
      "\u001b[0;32m<ipython-input-25-62d752e702b5>\u001b[0m in \u001b[0;36m<module>\u001b[0;34m()\u001b[0m\n\u001b[0;32m----> 1\u001b[0;31m \u001b[0msim_df\u001b[0m \u001b[0;34m=\u001b[0m \u001b[0;36m1\u001b[0m \u001b[0;34m-\u001b[0m \u001b[0mpdist\u001b[0m\u001b[0;34m(\u001b[0m\u001b[0mdf\u001b[0m\u001b[0;34m[\u001b[0m\u001b[0;34m[\u001b[0m\u001b[0;34m'Targets'\u001b[0m\u001b[0;34m,\u001b[0m \u001b[0;34m'Name'\u001b[0m\u001b[0;34m]\u001b[0m\u001b[0;34m]\u001b[0m\u001b[0;34m,\u001b[0m\u001b[0;34m'jaccard'\u001b[0m\u001b[0;34m)\u001b[0m\u001b[0;34m\u001b[0m\u001b[0m\n\u001b[0m\u001b[1;32m      2\u001b[0m \u001b[0msim_matrix\u001b[0m \u001b[0;34m=\u001b[0m \u001b[0mpd\u001b[0m\u001b[0;34m.\u001b[0m\u001b[0mDataFrame\u001b[0m\u001b[0;34m(\u001b[0m\u001b[0msquareform\u001b[0m\u001b[0;34m(\u001b[0m\u001b[0msim_df\u001b[0m\u001b[0;34m)\u001b[0m\u001b[0;34m,\u001b[0m \u001b[0mindex\u001b[0m \u001b[0;34m=\u001b[0m \u001b[0mdf\u001b[0m\u001b[0;34m.\u001b[0m\u001b[0mindex\u001b[0m\u001b[0;34m,\u001b[0m \u001b[0mcolumns\u001b[0m \u001b[0;34m=\u001b[0m \u001b[0mdf\u001b[0m\u001b[0;34m.\u001b[0m\u001b[0mindex\u001b[0m\u001b[0;34m)\u001b[0m\u001b[0;34m\u001b[0m\u001b[0m\n",
      "\u001b[0;32m/anaconda3/lib/python3.6/site-packages/scipy/spatial/distance.py\u001b[0m in \u001b[0;36mpdist\u001b[0;34m(X, metric, *args, **kwargs)\u001b[0m\n\u001b[1;32m   1932\u001b[0m         \u001b[0;32mif\u001b[0m \u001b[0mmetric_name\u001b[0m \u001b[0;32mis\u001b[0m \u001b[0;32mnot\u001b[0m \u001b[0;32mNone\u001b[0m\u001b[0;34m:\u001b[0m\u001b[0;34m\u001b[0m\u001b[0m\n\u001b[1;32m   1933\u001b[0m             X, typ, kwargs = _validate_pdist_input(X, m, n,\n\u001b[0;32m-> 1934\u001b[0;31m                                                    metric_name, **kwargs)\n\u001b[0m\u001b[1;32m   1935\u001b[0m \u001b[0;34m\u001b[0m\u001b[0m\n\u001b[1;32m   1936\u001b[0m             \u001b[0;31m# get pdist wrapper\u001b[0m\u001b[0;34m\u001b[0m\u001b[0;34m\u001b[0m\u001b[0m\n",
      "\u001b[0;32m/anaconda3/lib/python3.6/site-packages/scipy/spatial/distance.py\u001b[0m in \u001b[0;36m_validate_pdist_input\u001b[0;34m(X, m, n, metric_name, **kwargs)\u001b[0m\n\u001b[1;32m    287\u001b[0m         \u001b[0mtyp\u001b[0m \u001b[0;34m=\u001b[0m \u001b[0mtypes\u001b[0m\u001b[0;34m[\u001b[0m\u001b[0mtypes\u001b[0m\u001b[0;34m.\u001b[0m\u001b[0mindex\u001b[0m\u001b[0;34m(\u001b[0m\u001b[0mX\u001b[0m\u001b[0;34m.\u001b[0m\u001b[0mdtype\u001b[0m\u001b[0;34m)\u001b[0m\u001b[0;34m]\u001b[0m \u001b[0;32mif\u001b[0m \u001b[0mX\u001b[0m\u001b[0;34m.\u001b[0m\u001b[0mdtype\u001b[0m \u001b[0;32min\u001b[0m \u001b[0mtypes\u001b[0m \u001b[0;32melse\u001b[0m \u001b[0mtypes\u001b[0m\u001b[0;34m[\u001b[0m\u001b[0;36m0\u001b[0m\u001b[0;34m]\u001b[0m\u001b[0;34m\u001b[0m\u001b[0m\n\u001b[1;32m    288\u001b[0m         \u001b[0;31m# validate data\u001b[0m\u001b[0;34m\u001b[0m\u001b[0;34m\u001b[0m\u001b[0m\n\u001b[0;32m--> 289\u001b[0;31m         \u001b[0mX\u001b[0m \u001b[0;34m=\u001b[0m \u001b[0m_convert_to_type\u001b[0m\u001b[0;34m(\u001b[0m\u001b[0mX\u001b[0m\u001b[0;34m,\u001b[0m \u001b[0mout_type\u001b[0m\u001b[0;34m=\u001b[0m\u001b[0mtyp\u001b[0m\u001b[0;34m)\u001b[0m\u001b[0;34m\u001b[0m\u001b[0m\n\u001b[0m\u001b[1;32m    290\u001b[0m \u001b[0;34m\u001b[0m\u001b[0m\n\u001b[1;32m    291\u001b[0m         \u001b[0;31m# validate kwargs\u001b[0m\u001b[0;34m\u001b[0m\u001b[0;34m\u001b[0m\u001b[0m\n",
      "\u001b[0;32m/anaconda3/lib/python3.6/site-packages/scipy/spatial/distance.py\u001b[0m in \u001b[0;36m_convert_to_type\u001b[0;34m(X, out_type)\u001b[0m\n\u001b[1;32m    182\u001b[0m \u001b[0;34m\u001b[0m\u001b[0m\n\u001b[1;32m    183\u001b[0m \u001b[0;32mdef\u001b[0m \u001b[0m_convert_to_type\u001b[0m\u001b[0;34m(\u001b[0m\u001b[0mX\u001b[0m\u001b[0;34m,\u001b[0m \u001b[0mout_type\u001b[0m\u001b[0;34m)\u001b[0m\u001b[0;34m:\u001b[0m\u001b[0;34m\u001b[0m\u001b[0m\n\u001b[0;32m--> 184\u001b[0;31m     \u001b[0;32mreturn\u001b[0m \u001b[0mnp\u001b[0m\u001b[0;34m.\u001b[0m\u001b[0mascontiguousarray\u001b[0m\u001b[0;34m(\u001b[0m\u001b[0mX\u001b[0m\u001b[0;34m,\u001b[0m \u001b[0mdtype\u001b[0m\u001b[0;34m=\u001b[0m\u001b[0mout_type\u001b[0m\u001b[0;34m)\u001b[0m\u001b[0;34m\u001b[0m\u001b[0m\n\u001b[0m\u001b[1;32m    185\u001b[0m \u001b[0;34m\u001b[0m\u001b[0m\n\u001b[1;32m    186\u001b[0m \u001b[0;34m\u001b[0m\u001b[0m\n",
      "\u001b[0;32m/anaconda3/lib/python3.6/site-packages/numpy/core/numeric.py\u001b[0m in \u001b[0;36mascontiguousarray\u001b[0;34m(a, dtype)\u001b[0m\n\u001b[1;32m    579\u001b[0m \u001b[0;34m\u001b[0m\u001b[0m\n\u001b[1;32m    580\u001b[0m     \"\"\"\n\u001b[0;32m--> 581\u001b[0;31m     \u001b[0;32mreturn\u001b[0m \u001b[0marray\u001b[0m\u001b[0;34m(\u001b[0m\u001b[0ma\u001b[0m\u001b[0;34m,\u001b[0m \u001b[0mdtype\u001b[0m\u001b[0;34m,\u001b[0m \u001b[0mcopy\u001b[0m\u001b[0;34m=\u001b[0m\u001b[0;32mFalse\u001b[0m\u001b[0;34m,\u001b[0m \u001b[0morder\u001b[0m\u001b[0;34m=\u001b[0m\u001b[0;34m'C'\u001b[0m\u001b[0;34m,\u001b[0m \u001b[0mndmin\u001b[0m\u001b[0;34m=\u001b[0m\u001b[0;36m1\u001b[0m\u001b[0;34m)\u001b[0m\u001b[0;34m\u001b[0m\u001b[0m\n\u001b[0m\u001b[1;32m    582\u001b[0m \u001b[0;34m\u001b[0m\u001b[0m\n\u001b[1;32m    583\u001b[0m \u001b[0;34m\u001b[0m\u001b[0m\n",
      "\u001b[0;31mValueError\u001b[0m: could not convert string to float: 'Tildrakizumab'"
     ]
    }
   ],
   "source": [
    "# sim_df = 1 - pdist(df[['Targets', 'Name']],'jaccard')\n",
    "# sim_matrix = pd.DataFrame(squareform(sim_df), index = df.index, columns = df.index)"
   ]
  },
  {
   "cell_type": "code",
   "execution_count": 61,
   "metadata": {
    "scrolled": true
   },
   "outputs": [
    {
     "data": {
      "text/html": [
       "<div>\n",
       "<style scoped>\n",
       "    .dataframe tbody tr th:only-of-type {\n",
       "        vertical-align: middle;\n",
       "    }\n",
       "\n",
       "    .dataframe tbody tr th {\n",
       "        vertical-align: top;\n",
       "    }\n",
       "\n",
       "    .dataframe thead th {\n",
       "        text-align: right;\n",
       "    }\n",
       "</style>\n",
       "<table border=\"1\" class=\"dataframe\">\n",
       "  <thead>\n",
       "    <tr style=\"text-align: right;\">\n",
       "      <th></th>\n",
       "      <th>Name</th>\n",
       "    </tr>\n",
       "    <tr>\n",
       "      <th>Targets</th>\n",
       "      <th></th>\n",
       "    </tr>\n",
       "  </thead>\n",
       "  <tbody>\n",
       "    <tr>\n",
       "      <th>F2</th>\n",
       "      <td>Lepirudin</td>\n",
       "    </tr>\n",
       "    <tr>\n",
       "      <th>EGFR</th>\n",
       "      <td>Cetuximab</td>\n",
       "    </tr>\n",
       "    <tr>\n",
       "      <th>FCGR3B</th>\n",
       "      <td>Cetuximab</td>\n",
       "    </tr>\n",
       "    <tr>\n",
       "      <th>C1R</th>\n",
       "      <td>Cetuximab</td>\n",
       "    </tr>\n",
       "    <tr>\n",
       "      <th>C1QA</th>\n",
       "      <td>Cetuximab</td>\n",
       "    </tr>\n",
       "    <tr>\n",
       "      <th>C1QB</th>\n",
       "      <td>Cetuximab</td>\n",
       "    </tr>\n",
       "    <tr>\n",
       "      <th>C1QC</th>\n",
       "      <td>Cetuximab</td>\n",
       "    </tr>\n",
       "    <tr>\n",
       "      <th>FCGR3A</th>\n",
       "      <td>Cetuximab</td>\n",
       "    </tr>\n",
       "    <tr>\n",
       "      <th>C1S</th>\n",
       "      <td>Cetuximab</td>\n",
       "    </tr>\n",
       "    <tr>\n",
       "      <th>FCGR1A</th>\n",
       "      <td>Cetuximab</td>\n",
       "    </tr>\n",
       "    <tr>\n",
       "      <th>FCGR2A</th>\n",
       "      <td>Cetuximab</td>\n",
       "    </tr>\n",
       "    <tr>\n",
       "      <th>FCGR2B</th>\n",
       "      <td>Cetuximab</td>\n",
       "    </tr>\n",
       "    <tr>\n",
       "      <th>FCGR2C</th>\n",
       "      <td>Cetuximab</td>\n",
       "    </tr>\n",
       "    <tr>\n",
       "      <th>IL2RA</th>\n",
       "      <td>Denileukin diftitox</td>\n",
       "    </tr>\n",
       "    <tr>\n",
       "      <th>IL2RB</th>\n",
       "      <td>Denileukin diftitox</td>\n",
       "    </tr>\n",
       "    <tr>\n",
       "      <th>IL2RG</th>\n",
       "      <td>Denileukin diftitox</td>\n",
       "    </tr>\n",
       "    <tr>\n",
       "      <th>TNF</th>\n",
       "      <td>Etanercept</td>\n",
       "    </tr>\n",
       "    <tr>\n",
       "      <th>TNFRSF1B</th>\n",
       "      <td>Etanercept</td>\n",
       "    </tr>\n",
       "    <tr>\n",
       "      <th>FCGR1A</th>\n",
       "      <td>Etanercept</td>\n",
       "    </tr>\n",
       "    <tr>\n",
       "      <th>FCGR3A</th>\n",
       "      <td>Etanercept</td>\n",
       "    </tr>\n",
       "    <tr>\n",
       "      <th>FCGR2A</th>\n",
       "      <td>Etanercept</td>\n",
       "    </tr>\n",
       "    <tr>\n",
       "      <th>FCGR2B</th>\n",
       "      <td>Etanercept</td>\n",
       "    </tr>\n",
       "    <tr>\n",
       "      <th>FCGR2C</th>\n",
       "      <td>Etanercept</td>\n",
       "    </tr>\n",
       "    <tr>\n",
       "      <th>LTA</th>\n",
       "      <td>Etanercept</td>\n",
       "    </tr>\n",
       "    <tr>\n",
       "      <th>FCGR3B</th>\n",
       "      <td>Etanercept</td>\n",
       "    </tr>\n",
       "    <tr>\n",
       "      <th>C1S</th>\n",
       "      <td>Etanercept</td>\n",
       "    </tr>\n",
       "    <tr>\n",
       "      <th>C1R</th>\n",
       "      <td>Etanercept</td>\n",
       "    </tr>\n",
       "    <tr>\n",
       "      <th>C1QA</th>\n",
       "      <td>Etanercept</td>\n",
       "    </tr>\n",
       "    <tr>\n",
       "      <th>C1QB</th>\n",
       "      <td>Etanercept</td>\n",
       "    </tr>\n",
       "    <tr>\n",
       "      <th>C1QC</th>\n",
       "      <td>Etanercept</td>\n",
       "    </tr>\n",
       "    <tr>\n",
       "      <th>...</th>\n",
       "      <td>...</td>\n",
       "    </tr>\n",
       "    <tr>\n",
       "      <th>ASGR2</th>\n",
       "      <td>Moroctocog alfa</td>\n",
       "    </tr>\n",
       "    <tr>\n",
       "      <th>HSPA5</th>\n",
       "      <td>Moroctocog alfa</td>\n",
       "    </tr>\n",
       "    <tr>\n",
       "      <th>CALR</th>\n",
       "      <td>Moroctocog alfa</td>\n",
       "    </tr>\n",
       "    <tr>\n",
       "      <th>CANX</th>\n",
       "      <td>Moroctocog alfa</td>\n",
       "    </tr>\n",
       "    <tr>\n",
       "      <th>LMAN1</th>\n",
       "      <td>Moroctocog alfa</td>\n",
       "    </tr>\n",
       "    <tr>\n",
       "      <th>LRP1</th>\n",
       "      <td>Moroctocog alfa</td>\n",
       "    </tr>\n",
       "    <tr>\n",
       "      <th>MCFD2</th>\n",
       "      <td>Moroctocog alfa</td>\n",
       "    </tr>\n",
       "    <tr>\n",
       "      <th>VWF</th>\n",
       "      <td>Moroctocog alfa</td>\n",
       "    </tr>\n",
       "    <tr>\n",
       "      <th>SEC14L4</th>\n",
       "      <td>alpha-Tocopherol succinate</td>\n",
       "    </tr>\n",
       "    <tr>\n",
       "      <th>SEC14L3</th>\n",
       "      <td>alpha-Tocopherol succinate</td>\n",
       "    </tr>\n",
       "    <tr>\n",
       "      <th>SEC14L2</th>\n",
       "      <td>alpha-Tocopherol succinate</td>\n",
       "    </tr>\n",
       "    <tr>\n",
       "      <th>NR1I2</th>\n",
       "      <td>alpha-Tocopherol succinate</td>\n",
       "    </tr>\n",
       "    <tr>\n",
       "      <th>PRKCB</th>\n",
       "      <td>alpha-Tocopherol succinate</td>\n",
       "    </tr>\n",
       "    <tr>\n",
       "      <th>ALOX5</th>\n",
       "      <td>alpha-Tocopherol succinate</td>\n",
       "    </tr>\n",
       "    <tr>\n",
       "      <th>PRKCA</th>\n",
       "      <td>alpha-Tocopherol succinate</td>\n",
       "    </tr>\n",
       "    <tr>\n",
       "      <th>DGKA</th>\n",
       "      <td>alpha-Tocopherol succinate</td>\n",
       "    </tr>\n",
       "    <tr>\n",
       "      <th>PPP2CB</th>\n",
       "      <td>alpha-Tocopherol succinate</td>\n",
       "    </tr>\n",
       "    <tr>\n",
       "      <th>PPP2CA</th>\n",
       "      <td>alpha-Tocopherol succinate</td>\n",
       "    </tr>\n",
       "    <tr>\n",
       "      <th>SEC14L4</th>\n",
       "      <td>D-alpha-Tocopherol acetate</td>\n",
       "    </tr>\n",
       "    <tr>\n",
       "      <th>SEC14L3</th>\n",
       "      <td>D-alpha-Tocopherol acetate</td>\n",
       "    </tr>\n",
       "    <tr>\n",
       "      <th>SEC14L2</th>\n",
       "      <td>D-alpha-Tocopherol acetate</td>\n",
       "    </tr>\n",
       "    <tr>\n",
       "      <th>NR1I2</th>\n",
       "      <td>D-alpha-Tocopherol acetate</td>\n",
       "    </tr>\n",
       "    <tr>\n",
       "      <th>PRKCB</th>\n",
       "      <td>D-alpha-Tocopherol acetate</td>\n",
       "    </tr>\n",
       "    <tr>\n",
       "      <th>ALOX5</th>\n",
       "      <td>D-alpha-Tocopherol acetate</td>\n",
       "    </tr>\n",
       "    <tr>\n",
       "      <th>PRKCA</th>\n",
       "      <td>D-alpha-Tocopherol acetate</td>\n",
       "    </tr>\n",
       "    <tr>\n",
       "      <th>DGKA</th>\n",
       "      <td>D-alpha-Tocopherol acetate</td>\n",
       "    </tr>\n",
       "    <tr>\n",
       "      <th>PPP2CB</th>\n",
       "      <td>D-alpha-Tocopherol acetate</td>\n",
       "    </tr>\n",
       "    <tr>\n",
       "      <th>PPP2CA</th>\n",
       "      <td>D-alpha-Tocopherol acetate</td>\n",
       "    </tr>\n",
       "    <tr>\n",
       "      <th>IL12B</th>\n",
       "      <td>Tildrakizumab</td>\n",
       "    </tr>\n",
       "    <tr>\n",
       "      <th>IL23A</th>\n",
       "      <td>Tildrakizumab</td>\n",
       "    </tr>\n",
       "  </tbody>\n",
       "</table>\n",
       "<p>18702 rows × 1 columns</p>\n",
       "</div>"
      ],
      "text/plain": [
       "                                Name\n",
       "Targets                             \n",
       "F2                         Lepirudin\n",
       "EGFR                       Cetuximab\n",
       "FCGR3B                     Cetuximab\n",
       "C1R                        Cetuximab\n",
       "C1QA                       Cetuximab\n",
       "C1QB                       Cetuximab\n",
       "C1QC                       Cetuximab\n",
       "FCGR3A                     Cetuximab\n",
       "C1S                        Cetuximab\n",
       "FCGR1A                     Cetuximab\n",
       "FCGR2A                     Cetuximab\n",
       "FCGR2B                     Cetuximab\n",
       "FCGR2C                     Cetuximab\n",
       "IL2RA            Denileukin diftitox\n",
       "IL2RB            Denileukin diftitox\n",
       "IL2RG            Denileukin diftitox\n",
       "TNF                       Etanercept\n",
       "TNFRSF1B                  Etanercept\n",
       "FCGR1A                    Etanercept\n",
       "FCGR3A                    Etanercept\n",
       "FCGR2A                    Etanercept\n",
       "FCGR2B                    Etanercept\n",
       "FCGR2C                    Etanercept\n",
       "LTA                       Etanercept\n",
       "FCGR3B                    Etanercept\n",
       "C1S                       Etanercept\n",
       "C1R                       Etanercept\n",
       "C1QA                      Etanercept\n",
       "C1QB                      Etanercept\n",
       "C1QC                      Etanercept\n",
       "...                              ...\n",
       "ASGR2                Moroctocog alfa\n",
       "HSPA5                Moroctocog alfa\n",
       "CALR                 Moroctocog alfa\n",
       "CANX                 Moroctocog alfa\n",
       "LMAN1                Moroctocog alfa\n",
       "LRP1                 Moroctocog alfa\n",
       "MCFD2                Moroctocog alfa\n",
       "VWF                  Moroctocog alfa\n",
       "SEC14L4   alpha-Tocopherol succinate\n",
       "SEC14L3   alpha-Tocopherol succinate\n",
       "SEC14L2   alpha-Tocopherol succinate\n",
       "NR1I2     alpha-Tocopherol succinate\n",
       "PRKCB     alpha-Tocopherol succinate\n",
       "ALOX5     alpha-Tocopherol succinate\n",
       "PRKCA     alpha-Tocopherol succinate\n",
       "DGKA      alpha-Tocopherol succinate\n",
       "PPP2CB    alpha-Tocopherol succinate\n",
       "PPP2CA    alpha-Tocopherol succinate\n",
       "SEC14L4   D-alpha-Tocopherol acetate\n",
       "SEC14L3   D-alpha-Tocopherol acetate\n",
       "SEC14L2   D-alpha-Tocopherol acetate\n",
       "NR1I2     D-alpha-Tocopherol acetate\n",
       "PRKCB     D-alpha-Tocopherol acetate\n",
       "ALOX5     D-alpha-Tocopherol acetate\n",
       "PRKCA     D-alpha-Tocopherol acetate\n",
       "DGKA      D-alpha-Tocopherol acetate\n",
       "PPP2CB    D-alpha-Tocopherol acetate\n",
       "PPP2CA    D-alpha-Tocopherol acetate\n",
       "IL12B                  Tildrakizumab\n",
       "IL23A                  Tildrakizumab\n",
       "\n",
       "[18702 rows x 1 columns]"
      ]
     },
     "execution_count": 61,
     "metadata": {},
     "output_type": "execute_result"
    }
   ],
   "source": [
    "df.iloc[:,[3]]"
   ]
  },
  {
   "cell_type": "code",
   "execution_count": 70,
   "metadata": {
    "scrolled": true
   },
   "outputs": [],
   "source": [
    "pd.get_dummies(df.iloc[:,[3]])"
   ]
  },
  {
   "cell_type": "code",
   "execution_count": 74,
   "metadata": {},
   "outputs": [],
   "source": [
    "df.to_csv('ok.csv')"
   ]
  },
  {
   "cell_type": "code",
   "execution_count": null,
   "metadata": {},
   "outputs": [],
   "source": []
  }
 ],
 "metadata": {
  "kernelspec": {
   "display_name": "Python 3",
   "language": "python",
   "name": "python3"
  },
  "language_info": {
   "codemirror_mode": {
    "name": "ipython",
    "version": 3
   },
   "file_extension": ".py",
   "mimetype": "text/x-python",
   "name": "python",
   "nbconvert_exporter": "python",
   "pygments_lexer": "ipython3",
   "version": "3.6.5"
  }
 },
 "nbformat": 4,
 "nbformat_minor": 2
}
