{
 "cells": [
  {
   "cell_type": "markdown",
   "metadata": {},
   "source": [
    "## Import Libraries"
   ]
  },
  {
   "cell_type": "code",
   "execution_count": 8,
   "metadata": {},
   "outputs": [],
   "source": [
    "import numpy as np\n",
    "import pandas as pd\n",
    "from scipy.spatial.distance import squareform, pdist,jaccard\n",
    "import sys,  datetime, os\n",
    "import requests\n",
    "import chardet"
   ]
  },
  {
   "cell_type": "markdown",
   "metadata": {},
   "source": [
    "## Load Data"
   ]
  },
  {
   "cell_type": "markdown",
   "metadata": {},
   "source": [
    "#### Load DrugBank Data"
   ]
  },
  {
   "cell_type": "code",
   "execution_count": 9,
   "metadata": {},
   "outputs": [],
   "source": [
    "df = pd.read_csv('Input/drugbank_targets.csv')"
   ]
  },
  {
   "cell_type": "code",
   "execution_count": 10,
   "metadata": {},
   "outputs": [
    {
     "data": {
      "text/html": [
       "<div>\n",
       "<style scoped>\n",
       "    .dataframe tbody tr th:only-of-type {\n",
       "        vertical-align: middle;\n",
       "    }\n",
       "\n",
       "    .dataframe tbody tr th {\n",
       "        vertical-align: top;\n",
       "    }\n",
       "\n",
       "    .dataframe thead th {\n",
       "        text-align: right;\n",
       "    }\n",
       "</style>\n",
       "<table border=\"1\" class=\"dataframe\">\n",
       "  <thead>\n",
       "    <tr style=\"text-align: right;\">\n",
       "      <th></th>\n",
       "      <th>DrugBank ID</th>\n",
       "      <th>Name</th>\n",
       "      <th>Type</th>\n",
       "      <th>UniProt ID</th>\n",
       "      <th>UniProt Name</th>\n",
       "    </tr>\n",
       "  </thead>\n",
       "  <tbody>\n",
       "    <tr>\n",
       "      <th>0</th>\n",
       "      <td>DB00001</td>\n",
       "      <td>Lepirudin</td>\n",
       "      <td>BiotechDrug</td>\n",
       "      <td>P00734</td>\n",
       "      <td>Prothrombin</td>\n",
       "    </tr>\n",
       "    <tr>\n",
       "      <th>1</th>\n",
       "      <td>DB00002</td>\n",
       "      <td>Cetuximab</td>\n",
       "      <td>BiotechDrug</td>\n",
       "      <td>P00533</td>\n",
       "      <td>Epidermal growth factor receptor</td>\n",
       "    </tr>\n",
       "    <tr>\n",
       "      <th>2</th>\n",
       "      <td>DB00002</td>\n",
       "      <td>Cetuximab</td>\n",
       "      <td>BiotechDrug</td>\n",
       "      <td>O75015</td>\n",
       "      <td>Low affinity immunoglobulin gamma Fc region re...</td>\n",
       "    </tr>\n",
       "    <tr>\n",
       "      <th>3</th>\n",
       "      <td>DB00002</td>\n",
       "      <td>Cetuximab</td>\n",
       "      <td>BiotechDrug</td>\n",
       "      <td>P00736</td>\n",
       "      <td>Complement C1r subcomponent</td>\n",
       "    </tr>\n",
       "    <tr>\n",
       "      <th>4</th>\n",
       "      <td>DB00002</td>\n",
       "      <td>Cetuximab</td>\n",
       "      <td>BiotechDrug</td>\n",
       "      <td>P02745</td>\n",
       "      <td>Complement C1q subcomponent subunit A</td>\n",
       "    </tr>\n",
       "  </tbody>\n",
       "</table>\n",
       "</div>"
      ],
      "text/plain": [
       "  DrugBank ID       Name         Type UniProt ID  \\\n",
       "0     DB00001  Lepirudin  BiotechDrug     P00734   \n",
       "1     DB00002  Cetuximab  BiotechDrug     P00533   \n",
       "2     DB00002  Cetuximab  BiotechDrug     O75015   \n",
       "3     DB00002  Cetuximab  BiotechDrug     P00736   \n",
       "4     DB00002  Cetuximab  BiotechDrug     P02745   \n",
       "\n",
       "                                        UniProt Name  \n",
       "0                                        Prothrombin  \n",
       "1                   Epidermal growth factor receptor  \n",
       "2  Low affinity immunoglobulin gamma Fc region re...  \n",
       "3                        Complement C1r subcomponent  \n",
       "4              Complement C1q subcomponent subunit A  "
      ]
     },
     "execution_count": 10,
     "metadata": {},
     "output_type": "execute_result"
    }
   ],
   "source": [
    "df.head()"
   ]
  },
  {
   "cell_type": "code",
   "execution_count": 11,
   "metadata": {},
   "outputs": [
    {
     "data": {
      "text/plain": [
       "(18655, 5)"
      ]
     },
     "execution_count": 11,
     "metadata": {},
     "output_type": "execute_result"
    }
   ],
   "source": [
    "df.shape"
   ]
  },
  {
   "cell_type": "code",
   "execution_count": 12,
   "metadata": {},
   "outputs": [
    {
     "data": {
      "text/plain": [
       "array(['BiotechDrug', 'SmallMoleculeDrug'], dtype=object)"
      ]
     },
     "execution_count": 12,
     "metadata": {},
     "output_type": "execute_result"
    }
   ],
   "source": [
    "df['Type'].unique()"
   ]
  },
  {
   "cell_type": "code",
   "execution_count": 13,
   "metadata": {},
   "outputs": [
    {
     "data": {
      "text/plain": [
       "7137"
      ]
     },
     "execution_count": 13,
     "metadata": {},
     "output_type": "execute_result"
    }
   ],
   "source": [
    "len(df['Name'].unique())"
   ]
  },
  {
   "cell_type": "markdown",
   "metadata": {},
   "source": [
    "#### Load UniProt ID table"
   ]
  },
  {
   "cell_type": "code",
   "execution_count": 14,
   "metadata": {},
   "outputs": [],
   "source": [
    "uniprot = pd.read_table('Input/gene_to_uniprot.txt')"
   ]
  },
  {
   "cell_type": "code",
   "execution_count": 15,
   "metadata": {},
   "outputs": [
    {
     "data": {
      "text/html": [
       "<div>\n",
       "<style scoped>\n",
       "    .dataframe tbody tr th:only-of-type {\n",
       "        vertical-align: middle;\n",
       "    }\n",
       "\n",
       "    .dataframe tbody tr th {\n",
       "        vertical-align: top;\n",
       "    }\n",
       "\n",
       "    .dataframe thead th {\n",
       "        text-align: right;\n",
       "    }\n",
       "</style>\n",
       "<table border=\"1\" class=\"dataframe\">\n",
       "  <thead>\n",
       "    <tr style=\"text-align: right;\">\n",
       "      <th></th>\n",
       "      <th>Approved Symbol</th>\n",
       "      <th>UniProt ID</th>\n",
       "    </tr>\n",
       "  </thead>\n",
       "  <tbody>\n",
       "    <tr>\n",
       "      <th>0</th>\n",
       "      <td>A1BG</td>\n",
       "      <td>P04217</td>\n",
       "    </tr>\n",
       "    <tr>\n",
       "      <th>1</th>\n",
       "      <td>A1BG-AS1</td>\n",
       "      <td>NaN</td>\n",
       "    </tr>\n",
       "    <tr>\n",
       "      <th>2</th>\n",
       "      <td>A1CF</td>\n",
       "      <td>Q9NQ94</td>\n",
       "    </tr>\n",
       "    <tr>\n",
       "      <th>3</th>\n",
       "      <td>A2M</td>\n",
       "      <td>P01023</td>\n",
       "    </tr>\n",
       "    <tr>\n",
       "      <th>4</th>\n",
       "      <td>A2M-AS1</td>\n",
       "      <td>NaN</td>\n",
       "    </tr>\n",
       "  </tbody>\n",
       "</table>\n",
       "</div>"
      ],
      "text/plain": [
       "  Approved Symbol UniProt ID\n",
       "0            A1BG     P04217\n",
       "1        A1BG-AS1        NaN\n",
       "2            A1CF     Q9NQ94\n",
       "3             A2M     P01023\n",
       "4         A2M-AS1        NaN"
      ]
     },
     "execution_count": 15,
     "metadata": {},
     "output_type": "execute_result"
    }
   ],
   "source": [
    "uniprot.head()"
   ]
  },
  {
   "cell_type": "code",
   "execution_count": 16,
   "metadata": {},
   "outputs": [
    {
     "data": {
      "text/plain": [
       "(41375, 2)"
      ]
     },
     "execution_count": 16,
     "metadata": {},
     "output_type": "execute_result"
    }
   ],
   "source": [
    "uniprot.shape"
   ]
  },
  {
   "cell_type": "code",
   "execution_count": 17,
   "metadata": {},
   "outputs": [],
   "source": [
    "uniprot = uniprot[pd.notnull(uniprot['UniProt ID'])]"
   ]
  },
  {
   "cell_type": "markdown",
   "metadata": {},
   "source": [
    "#### Load Targets Mapping File"
   ]
  },
  {
   "cell_type": "code",
   "execution_count": 18,
   "metadata": {},
   "outputs": [],
   "source": [
    "target_update = pd.read_table('Input/mappingFile_2017.txt', names = ['Old Targets','Updated Targets'], engine='python')"
   ]
  },
  {
   "cell_type": "code",
   "execution_count": 19,
   "metadata": {},
   "outputs": [
    {
     "data": {
      "text/html": [
       "<div>\n",
       "<style scoped>\n",
       "    .dataframe tbody tr th:only-of-type {\n",
       "        vertical-align: middle;\n",
       "    }\n",
       "\n",
       "    .dataframe tbody tr th {\n",
       "        vertical-align: top;\n",
       "    }\n",
       "\n",
       "    .dataframe thead th {\n",
       "        text-align: right;\n",
       "    }\n",
       "</style>\n",
       "<table border=\"1\" class=\"dataframe\">\n",
       "  <thead>\n",
       "    <tr style=\"text-align: right;\">\n",
       "      <th></th>\n",
       "      <th>Old Targets</th>\n",
       "      <th>Updated Targets</th>\n",
       "    </tr>\n",
       "  </thead>\n",
       "  <tbody>\n",
       "    <tr>\n",
       "      <th>0</th>\n",
       "      <td>A1BG</td>\n",
       "      <td>A1BG</td>\n",
       "    </tr>\n",
       "    <tr>\n",
       "      <th>1</th>\n",
       "      <td>A1BG-AS1</td>\n",
       "      <td>A1BG-AS1</td>\n",
       "    </tr>\n",
       "    <tr>\n",
       "      <th>2</th>\n",
       "      <td>NCRNA00181</td>\n",
       "      <td>A1BG-AS1</td>\n",
       "    </tr>\n",
       "    <tr>\n",
       "      <th>3</th>\n",
       "      <td>A1BGAS</td>\n",
       "      <td>A1BG-AS1</td>\n",
       "    </tr>\n",
       "    <tr>\n",
       "      <th>4</th>\n",
       "      <td>A1BG-AS</td>\n",
       "      <td>A1BG-AS1</td>\n",
       "    </tr>\n",
       "  </tbody>\n",
       "</table>\n",
       "</div>"
      ],
      "text/plain": [
       "  Old Targets Updated Targets\n",
       "0        A1BG            A1BG\n",
       "1    A1BG-AS1        A1BG-AS1\n",
       "2  NCRNA00181        A1BG-AS1\n",
       "3      A1BGAS        A1BG-AS1\n",
       "4     A1BG-AS        A1BG-AS1"
      ]
     },
     "execution_count": 19,
     "metadata": {},
     "output_type": "execute_result"
    }
   ],
   "source": [
    "target_update.head()"
   ]
  },
  {
   "cell_type": "code",
   "execution_count": 20,
   "metadata": {},
   "outputs": [],
   "source": [
    "target_update.set_index('Old Targets',inplace = True)"
   ]
  },
  {
   "cell_type": "markdown",
   "metadata": {},
   "source": [
    "#### Load LINCS Small Molecules"
   ]
  },
  {
   "cell_type": "code",
   "execution_count": 21,
   "metadata": {},
   "outputs": [],
   "source": [
    "lincs = pd.read_csv('Input/LINCS_SmallMolecules.csv',encoding='ISO-8859-1')"
   ]
  },
  {
   "cell_type": "code",
   "execution_count": 22,
   "metadata": {},
   "outputs": [
    {
     "data": {
      "text/html": [
       "<div>\n",
       "<style scoped>\n",
       "    .dataframe tbody tr th:only-of-type {\n",
       "        vertical-align: middle;\n",
       "    }\n",
       "\n",
       "    .dataframe tbody tr th {\n",
       "        vertical-align: top;\n",
       "    }\n",
       "\n",
       "    .dataframe thead th {\n",
       "        text-align: right;\n",
       "    }\n",
       "</style>\n",
       "<table border=\"1\" class=\"dataframe\">\n",
       "  <thead>\n",
       "    <tr style=\"text-align: right;\">\n",
       "      <th></th>\n",
       "      <th>SM_Name</th>\n",
       "      <th>SM_LINCS_ID</th>\n",
       "      <th>SM_Alternative_Name</th>\n",
       "      <th>SM_PubChem_CID</th>\n",
       "      <th>SM_SMILES_Parent</th>\n",
       "      <th>SM_SMILES_Batch</th>\n",
       "      <th>SM_InChi_Parent</th>\n",
       "      <th>SM_Molecular_Mass</th>\n",
       "      <th>MOLECULAR_FORMULA</th>\n",
       "      <th>SM_ChEBI_ID</th>\n",
       "    </tr>\n",
       "  </thead>\n",
       "  <tbody>\n",
       "    <tr>\n",
       "      <th>0</th>\n",
       "      <td>Dichlobenil</td>\n",
       "      <td>LSM-19017</td>\n",
       "      <td>NaN</td>\n",
       "      <td>3031.0</td>\n",
       "      <td>Clc1cccc(Cl)c1C#N</td>\n",
       "      <td>NaN</td>\n",
       "      <td>InChI=1S/C7H3Cl2N/c8-6-2-1-3-7(9)5(6)4-10/h1-3H</td>\n",
       "      <td>172.01</td>\n",
       "      <td>C7H3Cl2N</td>\n",
       "      <td>943</td>\n",
       "    </tr>\n",
       "    <tr>\n",
       "      <th>1</th>\n",
       "      <td>AC1NWAJC</td>\n",
       "      <td>LSM-43967</td>\n",
       "      <td>Vulpinic acid</td>\n",
       "      <td>5701993.0</td>\n",
       "      <td>COC(=O)\\C(=C\\1/OC(=O)C(C1=O)c2ccccc2)\\c3ccccc3</td>\n",
       "      <td>NaN</td>\n",
       "      <td>InChI=1S/C19H14O5/c1-23-18(21)15(13-10-6-3-7-1...</td>\n",
       "      <td>322.31</td>\n",
       "      <td>C19H14O5</td>\n",
       "      <td>NaN</td>\n",
       "    </tr>\n",
       "    <tr>\n",
       "      <th>2</th>\n",
       "      <td>Sinapic Acid Methyl Ether</td>\n",
       "      <td>LSM-44124</td>\n",
       "      <td>NaN</td>\n",
       "      <td>735755.0</td>\n",
       "      <td>COc1cc(\\C=C\\C(=O)O)cc(OC)c1OC</td>\n",
       "      <td>NaN</td>\n",
       "      <td>InChI=1S/C12H14O5/c1-15-9-6-8(4-5-11(13)14)7-1...</td>\n",
       "      <td>238.24</td>\n",
       "      <td>C12H14O5</td>\n",
       "      <td>NaN</td>\n",
       "    </tr>\n",
       "    <tr>\n",
       "      <th>3</th>\n",
       "      <td>Ferulic acid</td>\n",
       "      <td>LSM-44126</td>\n",
       "      <td>Ferulic acid</td>\n",
       "      <td>445858.0</td>\n",
       "      <td>COc1cc(\\C=C\\C(=O)O)ccc1O</td>\n",
       "      <td>NaN</td>\n",
       "      <td>InChI=1S/C10H10O4/c1-14-9-6-7(2-4-8(9)11)3-5-1...</td>\n",
       "      <td>194.18</td>\n",
       "      <td>C10H10O4</td>\n",
       "      <td>17620</td>\n",
       "    </tr>\n",
       "    <tr>\n",
       "      <th>4</th>\n",
       "      <td>Pinosylvin Methyl Ether</td>\n",
       "      <td>LSM-43902</td>\n",
       "      <td>NaN</td>\n",
       "      <td>5281719.0</td>\n",
       "      <td>COc1cc(O)cc(\\C=C\\c2ccccc2)c1</td>\n",
       "      <td>NaN</td>\n",
       "      <td>InChI=1S/C15H14O2/c1-17-15-10-13(9-14(16)11-15...</td>\n",
       "      <td>226.27</td>\n",
       "      <td>C15H14O2</td>\n",
       "      <td>8227</td>\n",
       "    </tr>\n",
       "  </tbody>\n",
       "</table>\n",
       "</div>"
      ],
      "text/plain": [
       "                     SM_Name SM_LINCS_ID SM_Alternative_Name  SM_PubChem_CID  \\\n",
       "0                Dichlobenil   LSM-19017                 NaN          3031.0   \n",
       "1                   AC1NWAJC   LSM-43967       Vulpinic acid       5701993.0   \n",
       "2  Sinapic Acid Methyl Ether   LSM-44124                 NaN        735755.0   \n",
       "3               Ferulic acid   LSM-44126        Ferulic acid        445858.0   \n",
       "4    Pinosylvin Methyl Ether   LSM-43902                 NaN       5281719.0   \n",
       "\n",
       "                                 SM_SMILES_Parent  SM_SMILES_Batch  \\\n",
       "0                               Clc1cccc(Cl)c1C#N              NaN   \n",
       "1  COC(=O)\\C(=C\\1/OC(=O)C(C1=O)c2ccccc2)\\c3ccccc3              NaN   \n",
       "2                   COc1cc(\\C=C\\C(=O)O)cc(OC)c1OC              NaN   \n",
       "3                        COc1cc(\\C=C\\C(=O)O)ccc1O              NaN   \n",
       "4                    COc1cc(O)cc(\\C=C\\c2ccccc2)c1              NaN   \n",
       "\n",
       "                                     SM_InChi_Parent  SM_Molecular_Mass  \\\n",
       "0    InChI=1S/C7H3Cl2N/c8-6-2-1-3-7(9)5(6)4-10/h1-3H             172.01   \n",
       "1  InChI=1S/C19H14O5/c1-23-18(21)15(13-10-6-3-7-1...             322.31   \n",
       "2  InChI=1S/C12H14O5/c1-15-9-6-8(4-5-11(13)14)7-1...             238.24   \n",
       "3  InChI=1S/C10H10O4/c1-14-9-6-7(2-4-8(9)11)3-5-1...             194.18   \n",
       "4  InChI=1S/C15H14O2/c1-17-15-10-13(9-14(16)11-15...             226.27   \n",
       "\n",
       "  MOLECULAR_FORMULA SM_ChEBI_ID  \n",
       "0          C7H3Cl2N         943  \n",
       "1          C19H14O5         NaN  \n",
       "2          C12H14O5         NaN  \n",
       "3          C10H10O4       17620  \n",
       "4          C15H14O2        8227  "
      ]
     },
     "execution_count": 22,
     "metadata": {},
     "output_type": "execute_result"
    }
   ],
   "source": [
    "lincs.head()"
   ]
  },
  {
   "cell_type": "markdown",
   "metadata": {},
   "source": [
    "## Map UniProt ID to Gene"
   ]
  },
  {
   "cell_type": "code",
   "execution_count": 23,
   "metadata": {},
   "outputs": [],
   "source": [
    "df.set_index('UniProt ID', inplace = True)\n",
    "uniprot.set_index('UniProt ID',inplace=True)"
   ]
  },
  {
   "cell_type": "code",
   "execution_count": 24,
   "metadata": {},
   "outputs": [
    {
     "data": {
      "text/html": [
       "<div>\n",
       "<style scoped>\n",
       "    .dataframe tbody tr th:only-of-type {\n",
       "        vertical-align: middle;\n",
       "    }\n",
       "\n",
       "    .dataframe tbody tr th {\n",
       "        vertical-align: top;\n",
       "    }\n",
       "\n",
       "    .dataframe thead th {\n",
       "        text-align: right;\n",
       "    }\n",
       "</style>\n",
       "<table border=\"1\" class=\"dataframe\">\n",
       "  <thead>\n",
       "    <tr style=\"text-align: right;\">\n",
       "      <th></th>\n",
       "      <th>Approved Symbol</th>\n",
       "    </tr>\n",
       "    <tr>\n",
       "      <th>UniProt ID</th>\n",
       "      <th></th>\n",
       "    </tr>\n",
       "  </thead>\n",
       "  <tbody>\n",
       "    <tr>\n",
       "      <th>P04217</th>\n",
       "      <td>A1BG</td>\n",
       "    </tr>\n",
       "    <tr>\n",
       "      <th>Q9NQ94</th>\n",
       "      <td>A1CF</td>\n",
       "    </tr>\n",
       "    <tr>\n",
       "      <th>P01023</th>\n",
       "      <td>A2M</td>\n",
       "    </tr>\n",
       "    <tr>\n",
       "      <th>A8K2U0</th>\n",
       "      <td>A2ML1</td>\n",
       "    </tr>\n",
       "    <tr>\n",
       "      <th>U3KPV4</th>\n",
       "      <td>A3GALT2</td>\n",
       "    </tr>\n",
       "  </tbody>\n",
       "</table>\n",
       "</div>"
      ],
      "text/plain": [
       "           Approved Symbol\n",
       "UniProt ID                \n",
       "P04217                A1BG\n",
       "Q9NQ94                A1CF\n",
       "P01023                 A2M\n",
       "A8K2U0               A2ML1\n",
       "U3KPV4             A3GALT2"
      ]
     },
     "execution_count": 24,
     "metadata": {},
     "output_type": "execute_result"
    }
   ],
   "source": [
    "uniprot.head()"
   ]
  },
  {
   "cell_type": "code",
   "execution_count": 25,
   "metadata": {
    "scrolled": true
   },
   "outputs": [],
   "source": [
    "df = pd.merge(df, uniprot, how= 'left', on = 'UniProt ID')"
   ]
  },
  {
   "cell_type": "code",
   "execution_count": 26,
   "metadata": {},
   "outputs": [],
   "source": [
    "df = df.rename(index=str, columns = {'Approved Symbol':'Old Targets'})"
   ]
  },
  {
   "cell_type": "code",
   "execution_count": 27,
   "metadata": {},
   "outputs": [],
   "source": [
    "df.reset_index(inplace=True)"
   ]
  },
  {
   "cell_type": "code",
   "execution_count": 28,
   "metadata": {},
   "outputs": [
    {
     "data": {
      "text/plain": [
       "(18702, 6)"
      ]
     },
     "execution_count": 28,
     "metadata": {},
     "output_type": "execute_result"
    }
   ],
   "source": [
    "df.head(4)\n",
    "df.shape"
   ]
  },
  {
   "cell_type": "code",
   "execution_count": 29,
   "metadata": {},
   "outputs": [],
   "source": [
    "df = df.dropna(subset=['Old Targets']) "
   ]
  },
  {
   "cell_type": "markdown",
   "metadata": {},
   "source": [
    "## Update Target Names"
   ]
  },
  {
   "cell_type": "code",
   "execution_count": 30,
   "metadata": {},
   "outputs": [],
   "source": [
    "df.set_index('Old Targets', inplace = True)"
   ]
  },
  {
   "cell_type": "code",
   "execution_count": 31,
   "metadata": {},
   "outputs": [
    {
     "data": {
      "text/html": [
       "<div>\n",
       "<style scoped>\n",
       "    .dataframe tbody tr th:only-of-type {\n",
       "        vertical-align: middle;\n",
       "    }\n",
       "\n",
       "    .dataframe tbody tr th {\n",
       "        vertical-align: top;\n",
       "    }\n",
       "\n",
       "    .dataframe thead th {\n",
       "        text-align: right;\n",
       "    }\n",
       "</style>\n",
       "<table border=\"1\" class=\"dataframe\">\n",
       "  <thead>\n",
       "    <tr style=\"text-align: right;\">\n",
       "      <th></th>\n",
       "      <th>UniProt ID</th>\n",
       "      <th>DrugBank ID</th>\n",
       "      <th>Name</th>\n",
       "      <th>Type</th>\n",
       "      <th>UniProt Name</th>\n",
       "    </tr>\n",
       "    <tr>\n",
       "      <th>Old Targets</th>\n",
       "      <th></th>\n",
       "      <th></th>\n",
       "      <th></th>\n",
       "      <th></th>\n",
       "      <th></th>\n",
       "    </tr>\n",
       "  </thead>\n",
       "  <tbody>\n",
       "    <tr>\n",
       "      <th>F2</th>\n",
       "      <td>P00734</td>\n",
       "      <td>DB00001</td>\n",
       "      <td>Lepirudin</td>\n",
       "      <td>BiotechDrug</td>\n",
       "      <td>Prothrombin</td>\n",
       "    </tr>\n",
       "    <tr>\n",
       "      <th>Egfr</th>\n",
       "      <td>P00533</td>\n",
       "      <td>DB00002</td>\n",
       "      <td>Cetuximab</td>\n",
       "      <td>BiotechDrug</td>\n",
       "      <td>Epidermal growth factor receptor</td>\n",
       "    </tr>\n",
       "    <tr>\n",
       "      <th>FCGR3B</th>\n",
       "      <td>O75015</td>\n",
       "      <td>DB00002</td>\n",
       "      <td>Cetuximab</td>\n",
       "      <td>BiotechDrug</td>\n",
       "      <td>Low affinity immunoglobulin gamma Fc region re...</td>\n",
       "    </tr>\n",
       "    <tr>\n",
       "      <th>C1R</th>\n",
       "      <td>P00736</td>\n",
       "      <td>DB00002</td>\n",
       "      <td>Cetuximab</td>\n",
       "      <td>BiotechDrug</td>\n",
       "      <td>Complement C1r subcomponent</td>\n",
       "    </tr>\n",
       "    <tr>\n",
       "      <th>C1QA</th>\n",
       "      <td>P02745</td>\n",
       "      <td>DB00002</td>\n",
       "      <td>Cetuximab</td>\n",
       "      <td>BiotechDrug</td>\n",
       "      <td>Complement C1q subcomponent subunit A</td>\n",
       "    </tr>\n",
       "  </tbody>\n",
       "</table>\n",
       "</div>"
      ],
      "text/plain": [
       "            UniProt ID DrugBank ID       Name         Type  \\\n",
       "Old Targets                                                  \n",
       "F2              P00734     DB00001  Lepirudin  BiotechDrug   \n",
       "Egfr            P00533     DB00002  Cetuximab  BiotechDrug   \n",
       "FCGR3B          O75015     DB00002  Cetuximab  BiotechDrug   \n",
       "C1R             P00736     DB00002  Cetuximab  BiotechDrug   \n",
       "C1QA            P02745     DB00002  Cetuximab  BiotechDrug   \n",
       "\n",
       "                                                  UniProt Name  \n",
       "Old Targets                                                     \n",
       "F2                                                 Prothrombin  \n",
       "Egfr                          Epidermal growth factor receptor  \n",
       "FCGR3B       Low affinity immunoglobulin gamma Fc region re...  \n",
       "C1R                                Complement C1r subcomponent  \n",
       "C1QA                     Complement C1q subcomponent subunit A  "
      ]
     },
     "execution_count": 31,
     "metadata": {},
     "output_type": "execute_result"
    }
   ],
   "source": [
    "df.head()"
   ]
  },
  {
   "cell_type": "code",
   "execution_count": 32,
   "metadata": {},
   "outputs": [],
   "source": [
    "df = pd.merge(df, target_update, how= 'left', on = 'Old Targets')"
   ]
  },
  {
   "cell_type": "code",
   "execution_count": 33,
   "metadata": {},
   "outputs": [],
   "source": [
    "df.reset_index(inplace=True)"
   ]
  },
  {
   "cell_type": "code",
   "execution_count": 34,
   "metadata": {},
   "outputs": [],
   "source": [
    "df = df.rename(index=str, columns = {'Updated Targets':'Targets'})"
   ]
  },
  {
   "cell_type": "code",
   "execution_count": 35,
   "metadata": {
    "scrolled": true
   },
   "outputs": [],
   "source": [
    "df = df.dropna(subset=['Targets']) "
   ]
  },
  {
   "cell_type": "code",
   "execution_count": 36,
   "metadata": {},
   "outputs": [
    {
     "data": {
      "text/plain": [
       "(14343, 7)"
      ]
     },
     "execution_count": 36,
     "metadata": {},
     "output_type": "execute_result"
    }
   ],
   "source": [
    "df.shape"
   ]
  },
  {
   "cell_type": "markdown",
   "metadata": {},
   "source": [
    "## Get PubChemID and Map to drug name"
   ]
  },
  {
   "cell_type": "code",
   "execution_count": 37,
   "metadata": {
    "scrolled": true
   },
   "outputs": [],
   "source": [
    "namesdf = df['Name']\n",
    "namesdf = namesdf.drop_duplicates()"
   ]
  },
  {
   "cell_type": "code",
   "execution_count": 38,
   "metadata": {
    "scrolled": true
   },
   "outputs": [
    {
     "name": "stdout",
     "output_type": "stream",
     "text": [
      "0\n",
      "1\n",
      "2\n",
      "3\n",
      "172\n",
      "278\n",
      "384\n",
      "490\n",
      "595\n",
      "717\n",
      "825\n",
      "927\n",
      "1041\n",
      "1042\n",
      "1043\n",
      "1159\n",
      "1267\n",
      "1369\n",
      "1476\n",
      "1585\n",
      "1586\n",
      "1587\n",
      "1698\n",
      "1806\n",
      "1807\n",
      "1922\n",
      "2031\n",
      "2032\n",
      "2151\n",
      "2267\n",
      "2383\n",
      "2490\n",
      "2609\n",
      "2715\n",
      "2825\n",
      "2992\n",
      "3174\n",
      "3175\n",
      "3176\n",
      "3177\n",
      "3324\n",
      "3460\n",
      "3579\n",
      "3693\n",
      "3803\n",
      "3922\n",
      "4042\n",
      "4043\n",
      "4044\n",
      "4160\n",
      "4278\n",
      "4400\n",
      "4505\n",
      "4627\n",
      "4742\n",
      "4850\n",
      "4979\n",
      "5105\n",
      "5248\n",
      "883\n",
      "4478\n",
      "5361\n"
     ]
    }
   ],
   "source": [
    "nameslist = namesdf.tolist()\n",
    "failed_to_get_CID = 0\n",
    "CID_dict = {}\n",
    "\n",
    "for name in nameslist:\n",
    "    name = name.replace(' ','%20')\n",
    "    url = 'https://pubchem.ncbi.nlm.nih.gov/rest/pug/compound/name/' + name + '/cids/JSON'\n",
    "    response = requests.get(url)\n",
    "    if 'IdentifierList' in response.json().keys():\n",
    "        CID = response.json()['IdentifierList']['CID'][0]\n",
    "        name = name.replace('%20', ' ')\n",
    "        CID_dict[name] = CID\n",
    "    else:\n",
    "        failed_to_get_CID += 1\n",
    "        \n",
    "    if len(CID_dict) % 100 == 0:\n",
    "        name = name.replace('%20',' ')\n",
    "        print(nameslist.index(name))\n",
    "\n",
    "print(failed_to_get_CID)\n",
    "print(len(CID_dict))\n",
    "print(len(nameslist))\n",
    "\n",
    "    "
   ]
  },
  {
   "cell_type": "code",
   "execution_count": 42,
   "metadata": {},
   "outputs": [],
   "source": [
    "CIDs = []\n",
    "for index, row in df.iterrows():\n",
    "    drugname = row.loc['Name']\n",
    "    if drugname not in CID_dict:\n",
    "        df.drop(index, inplace = True)\n",
    "    else: \n",
    "        CIDs.append(int(CID_dict[drugname]))\n",
    "\n",
    "df.loc[:,'CIDs'] = pd.Series(np.array(CIDs), index=df.index)"
   ]
  },
  {
   "cell_type": "code",
   "execution_count": 43,
   "metadata": {},
   "outputs": [
    {
     "data": {
      "text/html": [
       "<div>\n",
       "<style scoped>\n",
       "    .dataframe tbody tr th:only-of-type {\n",
       "        vertical-align: middle;\n",
       "    }\n",
       "\n",
       "    .dataframe tbody tr th {\n",
       "        vertical-align: top;\n",
       "    }\n",
       "\n",
       "    .dataframe thead th {\n",
       "        text-align: right;\n",
       "    }\n",
       "</style>\n",
       "<table border=\"1\" class=\"dataframe\">\n",
       "  <thead>\n",
       "    <tr style=\"text-align: right;\">\n",
       "      <th></th>\n",
       "      <th>Old Targets</th>\n",
       "      <th>UniProt ID</th>\n",
       "      <th>DrugBank ID</th>\n",
       "      <th>Name</th>\n",
       "      <th>Type</th>\n",
       "      <th>UniProt Name</th>\n",
       "      <th>Targets</th>\n",
       "      <th>CIDs</th>\n",
       "    </tr>\n",
       "  </thead>\n",
       "  <tbody>\n",
       "    <tr>\n",
       "      <th>30</th>\n",
       "      <td>F2</td>\n",
       "      <td>P00734</td>\n",
       "      <td>DB00006</td>\n",
       "      <td>Bivalirudin</td>\n",
       "      <td>SmallMoleculeDrug</td>\n",
       "      <td>Prothrombin</td>\n",
       "      <td>F2</td>\n",
       "      <td>16129704</td>\n",
       "    </tr>\n",
       "    <tr>\n",
       "      <th>31</th>\n",
       "      <td>GNRHR</td>\n",
       "      <td>P30968</td>\n",
       "      <td>DB00007</td>\n",
       "      <td>Leuprolide</td>\n",
       "      <td>BiotechDrug</td>\n",
       "      <td>Gonadotropin-releasing hormone receptor</td>\n",
       "      <td>GNRHR</td>\n",
       "      <td>657181</td>\n",
       "    </tr>\n",
       "    <tr>\n",
       "      <th>38</th>\n",
       "      <td>GHRHR</td>\n",
       "      <td>Q02643</td>\n",
       "      <td>DB00010</td>\n",
       "      <td>Sermorelin</td>\n",
       "      <td>BiotechDrug</td>\n",
       "      <td>Growth hormone-releasing hormone receptor</td>\n",
       "      <td>GHRHR</td>\n",
       "      <td>16129620</td>\n",
       "    </tr>\n",
       "    <tr>\n",
       "      <th>52</th>\n",
       "      <td>LHCGR</td>\n",
       "      <td>P22888</td>\n",
       "      <td>DB00014</td>\n",
       "      <td>Goserelin</td>\n",
       "      <td>SmallMoleculeDrug</td>\n",
       "      <td>Lutropin-choriogonadotropic hormone receptor</td>\n",
       "      <td>LHCGR</td>\n",
       "      <td>5311128</td>\n",
       "    </tr>\n",
       "    <tr>\n",
       "      <th>53</th>\n",
       "      <td>GNRHR</td>\n",
       "      <td>P30968</td>\n",
       "      <td>DB00014</td>\n",
       "      <td>Goserelin</td>\n",
       "      <td>SmallMoleculeDrug</td>\n",
       "      <td>Gonadotropin-releasing hormone receptor</td>\n",
       "      <td>GNRHR</td>\n",
       "      <td>5311128</td>\n",
       "    </tr>\n",
       "  </tbody>\n",
       "</table>\n",
       "</div>"
      ],
      "text/plain": [
       "   Old Targets UniProt ID DrugBank ID         Name               Type  \\\n",
       "30          F2     P00734     DB00006  Bivalirudin  SmallMoleculeDrug   \n",
       "31       GNRHR     P30968     DB00007   Leuprolide        BiotechDrug   \n",
       "38       GHRHR     Q02643     DB00010   Sermorelin        BiotechDrug   \n",
       "52       LHCGR     P22888     DB00014    Goserelin  SmallMoleculeDrug   \n",
       "53       GNRHR     P30968     DB00014    Goserelin  SmallMoleculeDrug   \n",
       "\n",
       "                                    UniProt Name Targets      CIDs  \n",
       "30                                   Prothrombin      F2  16129704  \n",
       "31       Gonadotropin-releasing hormone receptor   GNRHR    657181  \n",
       "38     Growth hormone-releasing hormone receptor   GHRHR  16129620  \n",
       "52  Lutropin-choriogonadotropic hormone receptor   LHCGR   5311128  \n",
       "53       Gonadotropin-releasing hormone receptor   GNRHR   5311128  "
      ]
     },
     "execution_count": 43,
     "metadata": {},
     "output_type": "execute_result"
    }
   ],
   "source": [
    "df.head()"
   ]
  },
  {
   "cell_type": "code",
   "execution_count": 41,
   "metadata": {},
   "outputs": [
    {
     "data": {
      "text/plain": [
       "(12266, 8)"
      ]
     },
     "execution_count": 41,
     "metadata": {},
     "output_type": "execute_result"
    }
   ],
   "source": [
    "df.shape"
   ]
  },
  {
   "cell_type": "markdown",
   "metadata": {},
   "source": [
    "## Filter by LINCS approved Small Molecules"
   ]
  },
  {
   "cell_type": "code",
   "execution_count": 767,
   "metadata": {},
   "outputs": [
    {
     "name": "stdout",
     "output_type": "stream",
     "text": [
      "7204\n"
     ]
    }
   ],
   "source": [
    "count = 0\n",
    "for index, row in df.iterrows():\n",
    "    CID = row.loc['CIDs']\n",
    "    if CID not in lincs['SM_PubChem_CID'].values:\n",
    "\n",
    "        df.drop(index, inplace = True)\n",
    "        count += 1\n",
    "\n",
    "print(count)\n"
   ]
  },
  {
   "cell_type": "code",
   "execution_count": 788,
   "metadata": {
    "scrolled": true
   },
   "outputs": [
    {
     "data": {
      "text/html": [
       "<div>\n",
       "<style scoped>\n",
       "    .dataframe tbody tr th:only-of-type {\n",
       "        vertical-align: middle;\n",
       "    }\n",
       "\n",
       "    .dataframe tbody tr th {\n",
       "        vertical-align: top;\n",
       "    }\n",
       "\n",
       "    .dataframe thead th {\n",
       "        text-align: right;\n",
       "    }\n",
       "</style>\n",
       "<table border=\"1\" class=\"dataframe\">\n",
       "  <thead>\n",
       "    <tr style=\"text-align: right;\">\n",
       "      <th></th>\n",
       "      <th>Old Targets</th>\n",
       "      <th>UniProt ID</th>\n",
       "      <th>DrugBank ID</th>\n",
       "      <th>Name</th>\n",
       "      <th>Type</th>\n",
       "      <th>UniProt Name</th>\n",
       "      <th>Targets</th>\n",
       "      <th>CIDs</th>\n",
       "    </tr>\n",
       "  </thead>\n",
       "  <tbody>\n",
       "    <tr>\n",
       "      <th>52</th>\n",
       "      <td>LHCGR</td>\n",
       "      <td>P22888</td>\n",
       "      <td>DB00014</td>\n",
       "      <td>Goserelin</td>\n",
       "      <td>SmallMoleculeDrug</td>\n",
       "      <td>Lutropin-choriogonadotropic hormone receptor</td>\n",
       "      <td>LHCGR</td>\n",
       "      <td>5311128.0</td>\n",
       "    </tr>\n",
       "    <tr>\n",
       "      <th>53</th>\n",
       "      <td>GNRHR</td>\n",
       "      <td>P30968</td>\n",
       "      <td>DB00014</td>\n",
       "      <td>Goserelin</td>\n",
       "      <td>SmallMoleculeDrug</td>\n",
       "      <td>Gonadotropin-releasing hormone receptor</td>\n",
       "      <td>GNRHR</td>\n",
       "      <td>5311128.0</td>\n",
       "    </tr>\n",
       "    <tr>\n",
       "      <th>346</th>\n",
       "      <td>CAMLG</td>\n",
       "      <td>P49069</td>\n",
       "      <td>DB00091</td>\n",
       "      <td>Cyclosporine</td>\n",
       "      <td>SmallMoleculeDrug</td>\n",
       "      <td>Calcium signal-modulating cyclophilin ligand</td>\n",
       "      <td>CAMLG</td>\n",
       "      <td>5284373.0</td>\n",
       "    </tr>\n",
       "    <tr>\n",
       "      <th>347</th>\n",
       "      <td>PPP3R2</td>\n",
       "      <td>Q96LZ3</td>\n",
       "      <td>DB00091</td>\n",
       "      <td>Cyclosporine</td>\n",
       "      <td>SmallMoleculeDrug</td>\n",
       "      <td>Calcineurin subunit B type 2</td>\n",
       "      <td>PPP3R2</td>\n",
       "      <td>5284373.0</td>\n",
       "    </tr>\n",
       "    <tr>\n",
       "      <th>348</th>\n",
       "      <td>PPIA</td>\n",
       "      <td>P62937</td>\n",
       "      <td>DB00091</td>\n",
       "      <td>Cyclosporine</td>\n",
       "      <td>SmallMoleculeDrug</td>\n",
       "      <td>Peptidyl-prolyl cis-trans isomerase A</td>\n",
       "      <td>PPIA</td>\n",
       "      <td>5284373.0</td>\n",
       "    </tr>\n",
       "  </tbody>\n",
       "</table>\n",
       "</div>"
      ],
      "text/plain": [
       "    Old Targets UniProt ID DrugBank ID          Name               Type  \\\n",
       "52        LHCGR     P22888     DB00014     Goserelin  SmallMoleculeDrug   \n",
       "53        GNRHR     P30968     DB00014     Goserelin  SmallMoleculeDrug   \n",
       "346       CAMLG     P49069     DB00091  Cyclosporine  SmallMoleculeDrug   \n",
       "347      PPP3R2     Q96LZ3     DB00091  Cyclosporine  SmallMoleculeDrug   \n",
       "348        PPIA     P62937     DB00091  Cyclosporine  SmallMoleculeDrug   \n",
       "\n",
       "                                     UniProt Name Targets       CIDs  \n",
       "52   Lutropin-choriogonadotropic hormone receptor   LHCGR  5311128.0  \n",
       "53        Gonadotropin-releasing hormone receptor   GNRHR  5311128.0  \n",
       "346  Calcium signal-modulating cyclophilin ligand   CAMLG  5284373.0  \n",
       "347                  Calcineurin subunit B type 2  PPP3R2  5284373.0  \n",
       "348         Peptidyl-prolyl cis-trans isomerase A    PPIA  5284373.0  "
      ]
     },
     "execution_count": 788,
     "metadata": {},
     "output_type": "execute_result"
    }
   ],
   "source": [
    "df.head()"
   ]
  },
  {
   "cell_type": "code",
   "execution_count": 769,
   "metadata": {
    "scrolled": true
   },
   "outputs": [
    {
     "data": {
      "text/plain": [
       "(4825, 8)"
      ]
     },
     "execution_count": 769,
     "metadata": {},
     "output_type": "execute_result"
    }
   ],
   "source": [
    "df.shape"
   ]
  },
  {
   "cell_type": "markdown",
   "metadata": {},
   "source": [
    "## Make Binary Matrix"
   ]
  },
  {
   "cell_type": "code",
   "execution_count": 772,
   "metadata": {},
   "outputs": [],
   "source": [
    "grouped_df = df.groupby(['Targets'])['CIDs'].apply(lambda x: ','.join(x.astype(str))).reset_index()"
   ]
  },
  {
   "cell_type": "code",
   "execution_count": 773,
   "metadata": {},
   "outputs": [],
   "source": [
    "grouped_df.set_index('Targets', inplace=True)\n",
    "grouped_df = grouped_df.sort_index()"
   ]
  },
  {
   "cell_type": "code",
   "execution_count": 774,
   "metadata": {},
   "outputs": [
    {
     "data": {
      "text/plain": [
       "1117"
      ]
     },
     "execution_count": 774,
     "metadata": {},
     "output_type": "execute_result"
    }
   ],
   "source": [
    "len(df['Targets'].unique())"
   ]
  },
  {
   "cell_type": "code",
   "execution_count": 775,
   "metadata": {},
   "outputs": [],
   "source": [
    "grouped_matrix = grouped_df.iloc[:,0].str.get_dummies(sep=',')"
   ]
  },
  {
   "cell_type": "code",
   "execution_count": 776,
   "metadata": {},
   "outputs": [
    {
     "data": {
      "text/html": [
       "<div>\n",
       "<style scoped>\n",
       "    .dataframe tbody tr th:only-of-type {\n",
       "        vertical-align: middle;\n",
       "    }\n",
       "\n",
       "    .dataframe tbody tr th {\n",
       "        vertical-align: top;\n",
       "    }\n",
       "\n",
       "    .dataframe thead th {\n",
       "        text-align: right;\n",
       "    }\n",
       "</style>\n",
       "<table border=\"1\" class=\"dataframe\">\n",
       "  <thead>\n",
       "    <tr style=\"text-align: right;\">\n",
       "      <th></th>\n",
       "      <th>10071196.0</th>\n",
       "      <th>10096344.0</th>\n",
       "      <th>10109823.0</th>\n",
       "      <th>10113978.0</th>\n",
       "      <th>10140.0</th>\n",
       "      <th>10152654.0</th>\n",
       "      <th>10168.0</th>\n",
       "      <th>10172943.0</th>\n",
       "      <th>10182969.0</th>\n",
       "      <th>10184653.0</th>\n",
       "      <th>...</th>\n",
       "      <th>9924495.0</th>\n",
       "      <th>9926791.0</th>\n",
       "      <th>9930049.0</th>\n",
       "      <th>9931954.0</th>\n",
       "      <th>9933475.0</th>\n",
       "      <th>9934347.0</th>\n",
       "      <th>9939609.0</th>\n",
       "      <th>9941444.0</th>\n",
       "      <th>9949641.0</th>\n",
       "      <th>9966051.0</th>\n",
       "    </tr>\n",
       "    <tr>\n",
       "      <th>Targets</th>\n",
       "      <th></th>\n",
       "      <th></th>\n",
       "      <th></th>\n",
       "      <th></th>\n",
       "      <th></th>\n",
       "      <th></th>\n",
       "      <th></th>\n",
       "      <th></th>\n",
       "      <th></th>\n",
       "      <th></th>\n",
       "      <th></th>\n",
       "      <th></th>\n",
       "      <th></th>\n",
       "      <th></th>\n",
       "      <th></th>\n",
       "      <th></th>\n",
       "      <th></th>\n",
       "      <th></th>\n",
       "      <th></th>\n",
       "      <th></th>\n",
       "      <th></th>\n",
       "    </tr>\n",
       "  </thead>\n",
       "  <tbody>\n",
       "    <tr>\n",
       "      <th>AADACL2</th>\n",
       "      <td>0</td>\n",
       "      <td>0</td>\n",
       "      <td>0</td>\n",
       "      <td>0</td>\n",
       "      <td>0</td>\n",
       "      <td>0</td>\n",
       "      <td>0</td>\n",
       "      <td>0</td>\n",
       "      <td>0</td>\n",
       "      <td>0</td>\n",
       "      <td>...</td>\n",
       "      <td>0</td>\n",
       "      <td>0</td>\n",
       "      <td>0</td>\n",
       "      <td>0</td>\n",
       "      <td>0</td>\n",
       "      <td>0</td>\n",
       "      <td>0</td>\n",
       "      <td>0</td>\n",
       "      <td>0</td>\n",
       "      <td>0</td>\n",
       "    </tr>\n",
       "    <tr>\n",
       "      <th>ABAT</th>\n",
       "      <td>0</td>\n",
       "      <td>0</td>\n",
       "      <td>0</td>\n",
       "      <td>0</td>\n",
       "      <td>0</td>\n",
       "      <td>0</td>\n",
       "      <td>0</td>\n",
       "      <td>0</td>\n",
       "      <td>0</td>\n",
       "      <td>0</td>\n",
       "      <td>...</td>\n",
       "      <td>0</td>\n",
       "      <td>0</td>\n",
       "      <td>0</td>\n",
       "      <td>0</td>\n",
       "      <td>0</td>\n",
       "      <td>0</td>\n",
       "      <td>0</td>\n",
       "      <td>0</td>\n",
       "      <td>0</td>\n",
       "      <td>0</td>\n",
       "    </tr>\n",
       "    <tr>\n",
       "      <th>ABCA1</th>\n",
       "      <td>0</td>\n",
       "      <td>0</td>\n",
       "      <td>0</td>\n",
       "      <td>0</td>\n",
       "      <td>0</td>\n",
       "      <td>0</td>\n",
       "      <td>0</td>\n",
       "      <td>0</td>\n",
       "      <td>0</td>\n",
       "      <td>0</td>\n",
       "      <td>...</td>\n",
       "      <td>0</td>\n",
       "      <td>0</td>\n",
       "      <td>0</td>\n",
       "      <td>0</td>\n",
       "      <td>0</td>\n",
       "      <td>0</td>\n",
       "      <td>0</td>\n",
       "      <td>0</td>\n",
       "      <td>0</td>\n",
       "      <td>0</td>\n",
       "    </tr>\n",
       "    <tr>\n",
       "      <th>ABCB1</th>\n",
       "      <td>0</td>\n",
       "      <td>0</td>\n",
       "      <td>0</td>\n",
       "      <td>0</td>\n",
       "      <td>0</td>\n",
       "      <td>0</td>\n",
       "      <td>0</td>\n",
       "      <td>0</td>\n",
       "      <td>0</td>\n",
       "      <td>0</td>\n",
       "      <td>...</td>\n",
       "      <td>0</td>\n",
       "      <td>0</td>\n",
       "      <td>0</td>\n",
       "      <td>0</td>\n",
       "      <td>0</td>\n",
       "      <td>0</td>\n",
       "      <td>0</td>\n",
       "      <td>0</td>\n",
       "      <td>0</td>\n",
       "      <td>0</td>\n",
       "    </tr>\n",
       "    <tr>\n",
       "      <th>ABCB11</th>\n",
       "      <td>0</td>\n",
       "      <td>0</td>\n",
       "      <td>0</td>\n",
       "      <td>0</td>\n",
       "      <td>0</td>\n",
       "      <td>0</td>\n",
       "      <td>0</td>\n",
       "      <td>0</td>\n",
       "      <td>0</td>\n",
       "      <td>0</td>\n",
       "      <td>...</td>\n",
       "      <td>0</td>\n",
       "      <td>0</td>\n",
       "      <td>0</td>\n",
       "      <td>0</td>\n",
       "      <td>0</td>\n",
       "      <td>0</td>\n",
       "      <td>0</td>\n",
       "      <td>0</td>\n",
       "      <td>0</td>\n",
       "      <td>0</td>\n",
       "    </tr>\n",
       "  </tbody>\n",
       "</table>\n",
       "<p>5 rows × 1146 columns</p>\n",
       "</div>"
      ],
      "text/plain": [
       "         10071196.0  10096344.0  10109823.0  10113978.0  10140.0  10152654.0  \\\n",
       "Targets                                                                        \n",
       "AADACL2           0           0           0           0        0           0   \n",
       "ABAT              0           0           0           0        0           0   \n",
       "ABCA1             0           0           0           0        0           0   \n",
       "ABCB1             0           0           0           0        0           0   \n",
       "ABCB11            0           0           0           0        0           0   \n",
       "\n",
       "         10168.0  10172943.0  10182969.0  10184653.0    ...      9924495.0  \\\n",
       "Targets                                                 ...                  \n",
       "AADACL2        0           0           0           0    ...              0   \n",
       "ABAT           0           0           0           0    ...              0   \n",
       "ABCA1          0           0           0           0    ...              0   \n",
       "ABCB1          0           0           0           0    ...              0   \n",
       "ABCB11         0           0           0           0    ...              0   \n",
       "\n",
       "         9926791.0  9930049.0  9931954.0  9933475.0  9934347.0  9939609.0  \\\n",
       "Targets                                                                     \n",
       "AADACL2          0          0          0          0          0          0   \n",
       "ABAT             0          0          0          0          0          0   \n",
       "ABCA1            0          0          0          0          0          0   \n",
       "ABCB1            0          0          0          0          0          0   \n",
       "ABCB11           0          0          0          0          0          0   \n",
       "\n",
       "         9941444.0  9949641.0  9966051.0  \n",
       "Targets                                   \n",
       "AADACL2          0          0          0  \n",
       "ABAT             0          0          0  \n",
       "ABCA1            0          0          0  \n",
       "ABCB1            0          0          0  \n",
       "ABCB11           0          0          0  \n",
       "\n",
       "[5 rows x 1146 columns]"
      ]
     },
     "execution_count": 776,
     "metadata": {},
     "output_type": "execute_result"
    }
   ],
   "source": [
    "grouped_matrix.head()"
   ]
  },
  {
   "cell_type": "code",
   "execution_count": 777,
   "metadata": {},
   "outputs": [
    {
     "data": {
      "text/plain": [
       "(1117, 1146)"
      ]
     },
     "execution_count": 777,
     "metadata": {},
     "output_type": "execute_result"
    }
   ],
   "source": [
    "grouped_matrix.shape"
   ]
  },
  {
   "cell_type": "markdown",
   "metadata": {},
   "source": [
    "## Save Binary Matrix"
   ]
  },
  {
   "cell_type": "code",
   "execution_count": 778,
   "metadata": {},
   "outputs": [],
   "source": [
    "# grouped_matrix.to_csv('Output/DrugBank_Targets.csv')"
   ]
  },
  {
   "cell_type": "code",
   "execution_count": 779,
   "metadata": {},
   "outputs": [],
   "source": [
    "filename = 'Output/DrugBank_Targets_%s.tsv.zip'% str(datetime.date.today())[0:7].replace('-', '_')\n",
    "grouped_matrix.to_csv(filename, sep='\\t', compression='gzip')"
   ]
  },
  {
   "cell_type": "markdown",
   "metadata": {},
   "source": [
    "## Convert Binary Matrix to GMT"
   ]
  },
  {
   "cell_type": "code",
   "execution_count": 783,
   "metadata": {},
   "outputs": [],
   "source": [
    "drugset_library = []\n",
    "for index, row in grouped_matrix.iterrows():\n",
    "    \n",
    "    drugset = []\n",
    "    drugset.append(index)\n",
    "    drugset.append('')\n",
    "    for i in range(grouped_matrix.shape[1]):\n",
    "        if row.iloc[i]==1:\n",
    "            drugset.append(row.index[i])\n",
    "    if len(drugset) >= 7:\n",
    "        drugset_library.append(drugset)\n",
    "    \n",
    "dsl = np.array(drugset_library)"
   ]
  },
  {
   "cell_type": "code",
   "execution_count": 784,
   "metadata": {},
   "outputs": [
    {
     "name": "stdout",
     "output_type": "stream",
     "text": [
      "[list(['ABCC8', '', '121891.0', '3475.0', '3476.0', '3478.0', '3488.0', '5503.0', '5505.0', '91610.0'])\n",
      " list(['ABL1', '', '11167602.0', '24826799.0', '3062316.0', '5291.0', '5328940.0', '644241.0'])\n",
      " list(['ACE', '', '107807.0', '44093.0', '5280954.0', '5362119.0', '5362124.0', '5362129.0', '5388962.0', '5462501.0', '54892.0', '91270.0', '92400.0'])\n",
      " list(['ACHE', '', '187.0', '1935.0', '3001055.0', '3105.0', '3152.0', '3202.0', '4139.0', '4168.0', '4199.0', '4456.0', '4939.0', '5966.0', '5983.0', '6000.0', '77991.0', '854026.0', '9651.0'])\n",
      " list(['ADORA1', '', '1676.0', '2153.0', '2519.0', '3182.0', '3446.0', '3878.0', '4740.0', '5429.0', '60961.0'])\n",
      " list(['ADORA2A', '', '1676.0', '176407.0', '2153.0', '2519.0', '3182.0', '3878.0', '40692.0', '4740.0', '50942.0', '5429.0', '60961.0'])\n",
      " list(['ADRA1A', '', '115368.0', '1236.0', '129211.0', '146570.0', '208898.0', '2092.0', '2160.0', '22297.0', '2520.0', '2585.0', '2726.0', '2765.0', '2771.0', '2803.0', '2818.0', '2995.0', '3036780.0', '3105.0', '31101.0', '3157.0', '3168.0', '3241.0', '3341.0', '33625.0', '34040.0', '3696.0', '3878.0', '3964.0', '4011.0', '4184.0', '4195.0', '4205.0', '4260.0', '4436.0', '4449.0', '4474.0', '4543.0', '4585.0', '4636.0', '4768.0', '47811.0', '4830.0', '4893.0', '4926.0', '4927.0', '5002.0', '5073.0', '5281881.0', '5311507.0', '5401.0', '5419.0', '5452.0', '5467.0', '54746.0', '5504.0', '5533.0', '5566.0', '5584.0', '5709.0', '5775.0', '5816.0', '5906.0', '60149.0', '6041.0', '6077.0', '60795.0', '6082.0', '60854.0', '667477.0', '7028.0', '71360.0', '7172.0', '72287.0', '838.0', '9429.0'])\n",
      " list(['ADRA1B', '', '115368.0', '11978813.0', '129211.0', '208898.0', '2092.0', '2160.0', '2520.0', '2585.0', '2726.0', '2765.0', '2803.0', '2818.0', '2995.0', '31101.0', '3157.0', '3341.0', '3696.0', '3964.0', '4011.0', '4184.0', '4195.0', '4205.0', '4236.0', '4260.0', '4449.0', '4474.0', '4543.0', '4585.0', '4636.0', '4768.0', '47811.0', '4830.0', '4893.0', '4926.0', '5002.0', '5073.0', '5401.0', '5452.0', '5467.0', '54746.0', '5584.0', '5709.0', '5775.0', '5816.0', '60149.0', '6041.0', '6077.0', '60795.0', '6082.0', '60854.0', '667477.0', '7172.0', '72287.0', '838.0', '9429.0'])\n",
      " list(['ADRA1D', '', '115368.0', '129211.0', '208898.0', '2092.0', '2160.0', '2520.0', '2585.0', '2726.0', '2765.0', '2803.0', '2995.0', '31101.0', '3157.0', '3341.0', '3696.0', '4011.0', '4184.0', '4195.0', '4205.0', '4260.0', '4474.0', '4543.0', '4636.0', '4768.0', '47811.0', '4830.0', '4893.0', '4926.0', '5002.0', '5401.0', '5467.0', '54746.0', '5709.0', '5775.0', '5816.0', '60149.0', '6041.0', '6082.0', '667477.0', '7172.0', '72287.0'])\n",
      " list(['ADRA2A', '', '10531.0', '119570.0', '208898.0', '213046.0', '2160.0', '2435.0', '2585.0', '26934.0', '2726.0', '2765.0', '2803.0', '2818.0', '2995.0', '3036780.0', '30668.0', '3105.0', '31101.0', '3241.0', '3341.0', '3519.0', '36811.0', '3878.0', '38853.0', '3964.0', '4011.0', '4184.0', '4205.0', '4260.0', '4436.0', '4449.0', '4543.0', '4585.0', '4636.0', '4768.0', '47811.0', '4810.0', '4830.0', '4893.0', '5002.0', '5073.0', '5095.0', '5205.0', '5311507.0', '53276.0', '5467.0', '54746.0', '5487.0', '5504.0', '5533.0', '5584.0', '5709.0', '5775.0', '5816.0', '6005.0', '60795.0', '60854.0', '667477.0', '68712.0', '68802.0', '7028.0', '72287.0', '838.0', '8969.0'])\n",
      " list(['ADRA2B', '', '119570.0', '208898.0', '2435.0', '2585.0', '26934.0', '2726.0', '2765.0', '2803.0', '2818.0', '2995.0', '3036780.0', '31101.0', '3341.0', '3519.0', '36811.0', '3964.0', '4011.0', '4184.0', '4260.0', '4543.0', '4585.0', '4636.0', '4768.0', '47811.0', '4893.0', '5002.0', '5073.0', '5095.0', '5205.0', '5467.0', '54746.0', '5487.0', '5504.0', '5584.0', '5709.0', '5816.0', '59227.0', '6005.0', '60795.0', '60854.0', '667477.0', '667484.0', '72287.0', '838.0', '8969.0'])\n",
      " list(['ADRA2C', '', '119570.0', '11978813.0', '208898.0', '213046.0', '2435.0', '2585.0', '26934.0', '2726.0', '2765.0', '2803.0', '2818.0', '2995.0', '3036780.0', '31101.0', '3341.0', '36811.0', '3964.0', '4011.0', '4184.0', '4205.0', '4260.0', '4543.0', '4585.0', '4636.0', '4768.0', '47811.0', '5002.0', '5073.0', '5095.0', '5205.0', '5467.0', '54746.0', '5487.0', '5504.0', '5709.0', '5816.0', '6005.0', '60795.0', '60854.0', '667477.0', '71360.0', '72287.0', '838.0', '8969.0'])\n",
      " list(['ADRB1', '', '1102.0', '155774.0', '1978.0', '2083.0', '208898.0', '2119.0', '2157.0', '2160.0', '2249.0', '2369.0', '2405.0', '2583.0', '2585.0', '2663.0', '26934.0', '2783.0', '2995.0', '3036780.0', '3343.0', '33624.0', '36811.0', '3762.0', '3779.0', '3878.0', '39147.0', '39468.0', '3964.0', '4171.0', '4205.0', '44112.0', '4543.0', '4585.0', '4631.0', '4828.0', '4883.0', '4932.0', '4946.0', '5152.0', '5253.0', '5403.0', '54746.0', '5584.0', '5816.0', '59768.0', '7028.0', '838.0', '9966051.0'])\n",
      " list(['ADRB2', '', '1102.0', '123600.0', '1978.0', '2083.0', '2119.0', '2160.0', '2249.0', '2369.0', '2405.0', '2583.0', '2585.0', '2663.0', '26934.0', '2783.0', '2995.0', '3036780.0', '3105.0', '3343.0', '33572.0', '33624.0', '36811.0', '3762.0', '3779.0', '39147.0', '39468.0', '4086.0', '4171.0', '4205.0', '44112.0', '4543.0', '4585.0', '4631.0', '4768.0', '4828.0', '4916.0', '4932.0', '4946.0', '50942.0', '5152.0', '5253.0', '5403.0', '54746.0', '54766.0', '5584.0', '5816.0', '7028.0', '838.0'])\n",
      " list(['ADRB3', '', '2083.0', '2119.0', '2160.0', '2783.0', '3343.0', '3779.0', '44112.0', '4543.0', '4585.0', '4631.0', '4828.0', '4946.0', '5152.0', '5403.0', '5584.0', '5816.0'])\n",
      " list(['AGTR1', '', '158781.0', '2540.0', '2541.0', '3961.0', '5281037.0', '60846.0', '65999.0'])\n",
      " list(['AHR', '', '3220.0', '3899.0', '4178.0', '445154.0', '4497.0', '4594.0', '5280343.0', '5281613.0', '5326739.0', '60823.0', '65064.0'])\n",
      " list(['AKR1B1', '', '13109.0', '1548887.0', '15951529.0', '2146.0', '2375.0', '24872560.0', '2733526.0', '27812.0', '28417.0', '3314.0', '3371.0', '3372.0', '4211.0', '448537.0', '4493.0', '456201.0', '4632.0', '5564.0', '5833.0', '5870.0', '5878.0', '5994.0', '5995.0', '6010.0', '6231.0', '68861.0', '8362.0', '9824562.0', '9882972.0'])\n",
      " list(['ALOX5', '', '10168.0', '26248.0', '3033.0', '3052.0', '4037.0', '4075.0', '445154.0', '4649.0'])\n",
      " list(['ATP1A1', '', '2351.0', '2431.0', '2724385.0', '2749.0', '3019.0', '3278.0', '33887.0', '3647.0', '439501.0', '5560.0'])\n",
      " list(['ATP4A', '', '3883.0', '4594.0', '4679.0', '5029.0', '9568614.0'])\n",
      " list(['BCHE', '', '1935.0', '3001055.0', '3105.0', '3202.0', '5966.0', '77991.0', '9651.0'])\n",
      " list(['BCL2', '', '24978538.0', '3052776.0', '36314.0', '3672.0', '39912.0', '49846579.0'])\n",
      " list(['BRAF', '', '11167602.0', '11656518.0', '216239.0', '24180719.0', '42611257.0', '44462760.0'])\n",
      " list(['CA1', '', '1986.0', '2162.0', '2315.0', '2343.0', '2720.0', '2910.0', '3019.0', '3038.0', '3639.0', '3647.0', '4100.0', '4107.0', '5281855.0', '5284627.0', '5560.0', '5734.0', '6307.0', '68844.0'])\n",
      " list(['CA12', '', '1986.0', '2343.0', '3639.0', '3647.0', '5281855.0', '5734.0'])\n",
      " list(['CA2', '', '1176.0', '1986.0', '2315.0', '2343.0', '2662.0', '2720.0', '2910.0', '3019.0', '3038.0', '3440.0', '3639.0', '3647.0', '4100.0', '5281855.0', '5284627.0', '5355.0', '5560.0', '5734.0', '6307.0', '68844.0'])\n",
      " list(['CA3', '', '1986.0', '2662.0', '3038.0', '4100.0', '5281855.0', '5284627.0', '5355.0', '5734.0', '68844.0'])\n",
      " list(['CA4', '', '1986.0', '2315.0', '2343.0', '2720.0', '2910.0', '3038.0', '3639.0', '3647.0', '4100.0', '5281855.0', '5284627.0', '5560.0', '5734.0', '68844.0'])\n",
      " list(['CA7', '', '1986.0', '3038.0', '4100.0', '5281855.0', '5734.0'])\n",
      " list(['CA9', '', '2343.0', '3639.0', '3647.0', '5281855.0', '5734.0'])\n",
      " list(['CACNA1B', '', '2162.0', '2520.0', '3446.0', '5284583.0', '5833.0'])\n",
      " list(['CACNA1C', '', '1547484.0', '208898.0', '2162.0', '2520.0', '3333.0', '3784.0', '4474.0', '4485.0', '4497.0', '4499.0', '4507.0', '5311217.0', '5573.0', '5833.0', '60663.0', '60753.0'])\n",
      " list(['CACNA1D', '', '1547484.0', '208898.0', '2162.0', '2520.0', '3333.0', '3784.0', '4474.0', '4485.0', '4497.0', '4499.0', '4507.0', '5311217.0', '5573.0', '5833.0', '60663.0'])\n",
      " list(['CACNA1F', '', '1547484.0', '208898.0', '2520.0', '4497.0', '5311217.0', '5573.0', '5833.0', '60663.0'])\n",
      " list(['CACNA1G', '', '1547484.0', '2520.0', '3291.0', '5573.0', '5576.0', '5734.0', '5833.0', '60663.0', '941361.0'])\n",
      " list(['CACNA1H', '', '1547484.0', '2157.0', '2351.0', '3333.0', '3784.0', '4485.0', '4507.0', '5573.0', '5734.0', '5833.0', '60663.0', '941361.0'])\n",
      " list(['CACNA1I', '', '1547484.0', '2520.0', '5573.0', '5734.0', '5833.0', '60663.0', '941361.0'])\n",
      " list(['CACNA1S', '', '1547484.0', '208898.0', '2162.0', '2520.0', '3333.0', '3784.0', '4485.0', '4497.0', '4499.0', '4507.0', '5311217.0', '5573.0', '5833.0', '60663.0'])\n",
      " list(['CACNA2D1', '', '2162.0', '3333.0', '3446.0', '3784.0', '4474.0', '4485.0', '4499.0', '4507.0', '5833.0', '60753.0'])\n",
      " list(['CACNA2D2', '', '2157.0', '2351.0', '3333.0', '3446.0', '3784.0', '4507.0', '5833.0'])\n",
      " list(['CACNB1', '', '208898.0', '2520.0', '4497.0', '5311217.0', '5573.0', '5833.0', '60663.0', '60753.0'])\n",
      " list(['CACNB2', '', '208898.0', '2162.0', '2520.0', '3333.0', '3784.0', '4474.0', '4485.0', '4497.0', '4499.0', '4507.0', '5311217.0', '5573.0', '5833.0', '60663.0'])\n",
      " list(['CACNB3', '', '208898.0', '2520.0', '4497.0', '5311217.0', '5573.0', '5833.0', '60663.0'])\n",
      " list(['CACNB4', '', '208898.0', '2520.0', '4497.0', '5311217.0', '5573.0', '5833.0', '60663.0'])\n",
      " list(['CACNG1', '', '3396.0', '39186.0', '4507.0', '5833.0', '60753.0'])\n",
      " list(['CALM1', '', '16362.0', '2351.0', '2726.0', '3025.0', '3333.0', '3372.0', '3955.0', '4474.0', '4485.0', '4748.0', '4768.0', '4927.0', '5312137.0', '5566.0', '5681.0', '896.0', '941361.0', '9801.0'])\n",
      " list(['CDK2', '', '11338033.0', '160355.0', '2608.0', '44259.0', '448991.0', '5287969.0', '5326739.0', '5328940.0', '6918852.0'])\n",
      " list(['CES1', '', '166558.0', '1935.0', '221493.0', '4912.0', '5284596.0', '5601.0'])\n",
      " list(['CFTR', '', '16220172.0', '16678941.0', '2471.0', '3488.0', '3672.0', '39562.0', '39912.0', '46199646.0', '47936.0'])\n",
      " list(['CHRM1', '', '11434515.0', '11519070.0', '1201549.0', '146570.0', '154417.0', '1547484.0', '174174.0', '187.0', '20299.0', '2160.0', '2370.0', '2381.0', '23897.0', '2726.0', '2771.0', '2784.0', '2818.0', '2905.0', '2995.0', '3000322.0', '3042.0', '3055.0', '3114.0', '3162.0', '3290.0', '3354.0', '3494.0', '3696.0', '3878.0', '3964.0', '4011.0', '4057.0', '4097.0', '4167.0', '4168.0', '4199.0', '43815.0', '44259.0', '443879.0', '4474.0', '4543.0', '4585.0', '4634.0', '4848.0', '4926.0', '4927.0', '4934.0', '5002.0', '5281881.0', '5405.0', '5568.0', '5572.0', '5584.0', '5593.0', '5749.0', '5910.0', '60795.0', '60854.0', '667477.0', '6834.0', '708857.0', '72287.0'])\n",
      " list(['CHRM2', '', '11434515.0', '11519070.0', '154417.0', '1547484.0', '174174.0', '187.0', '20299.0', '2160.0', '2370.0', '2818.0', '2995.0', '3000322.0', '3042.0', '3055.0', '3100.0', '3114.0', '3290.0', '3354.0', '3494.0', '3696.0', '3878.0', '3964.0', '4011.0', '4167.0', '43815.0', '443879.0', '4474.0', '4543.0', '4585.0', '4634.0', '4926.0', '4927.0', '5002.0', '5405.0', '5568.0', '5572.0', '5584.0', '5593.0', '5910.0', '60795.0', '60854.0', '667477.0', '6834.0', '72287.0'])\n",
      " list(['CHRM3', '', '11434515.0', '11519070.0', '154417.0', '1547484.0', '174174.0', '187.0', '20299.0', '2160.0', '2370.0', '2726.0', '2818.0', '2995.0', '3000322.0', '3055.0', '3114.0', '33741.0', '3494.0', '3696.0', '3792.0', '3878.0', '3964.0', '4011.0', '4057.0', '4167.0', '43815.0', '443879.0', '4474.0', '4543.0', '4585.0', '4634.0', '4926.0', '4927.0', '5002.0', '5405.0', '5572.0', '5584.0', '5593.0', '5910.0', '60795.0', '60854.0', '667477.0', '6834.0', '72287.0'])\n",
      " list(['CHRM4', '', '11434515.0', '11519070.0', '154417.0', '1547484.0', '174174.0', '187.0', '2160.0', '2370.0', '2818.0', '2995.0', '3000322.0', '3696.0', '3878.0', '3964.0', '4011.0', '4167.0', '43815.0', '443879.0', '4474.0', '4543.0', '4585.0', '4926.0', '4927.0', '5002.0', '5405.0', '5572.0', '5584.0', '5593.0', '5910.0', '60795.0', '60854.0', '667477.0', '6834.0', '72287.0'])\n",
      " list(['CHRM5', '', '11434515.0', '11519070.0', '1547484.0', '174174.0', '2160.0', '2818.0', '2995.0', '3000322.0', '3696.0', '3878.0', '3964.0', '4011.0', '4167.0', '43815.0', '443879.0', '4474.0', '4543.0', '4585.0', '4926.0', '4927.0', '5002.0', '5405.0', '5572.0', '5584.0', '60795.0', '60854.0', '667477.0', '6834.0', '72287.0'])\n",
      " list(['CHRNA2', '', '2381.0', '39765.0', '4032.0', '4914.0', '5360696.0', '6000.0', '89594.0', '9651.0'])\n",
      " list(['CHRNA3', '', '10235.0', '26879.0', '444.0', '5310966.0', '5360696.0', '5850.0', '89594.0', '9651.0'])\n",
      " list(['CHRNA4', '', '10235.0', '13791.0', '174174.0', '2481.0', '2554.0', '3000322.0', '4032.0', '4737.0', '4909.0', '5310966.0', '5360696.0', '5757.0', '5983.0', '89594.0', '9651.0'])\n",
      " list(['CHRNA7', '', '10235.0', '187.0', '2481.0', '4032.0', '4737.0', '4909.0', '5310966.0', '5360696.0', '6000.0', '89594.0', '9651.0'])\n",
      " list(['CHRNB2', '', '10235.0', '174174.0', '2554.0', '3000322.0', '4032.0', '5310966.0', '5360696.0', '5983.0', '89594.0', '9651.0'])\n",
      " list(['CSNK2A1', '', '1694.0', '3220.0', '445154.0', '5280343.0', '5281855.0'])\n",
      " list(['CYP19A1', '', '2145.0', '2187.0', '3902.0', '456201.0', '5870.0', '60198.0', '66414.0', '89594.0'])\n",
      " list(['DHX15', '', '2160.0', '2756.0', '3001055.0', '3033637.0', '3036780.0', '3241.0', '3964.0', '4097.0', '4585.0', '4927.0', '5105.0', '5504.0', '667477.0', '774.0', '7741.0'])\n",
      " list(['DHX8', '', '10660.0', '108092.0', '115368.0', '1201549.0', '124087.0', '133017.0', '146570.0', '1547484.0', '1549000.0', '164522.0', '16960.0', '2160.0', '2200.0', '2247.0', '2267.0', '2366.0', '25295.0', '2564.0', '2678.0', '26987.0', '2710.0', '2725.0', '2726.0', '2771.0', '2818.0', '2995.0', '3036780.0', '3100.0', '3103.0', '3162.0', '3219.0', '3241.0', '3348.0', '3658.0', '3696.0', '3827.0', '3878.0', '3957.0', '3964.0', '4011.0', '4034.0', '4184.0', '4205.0', '4543.0', '4585.0', '4601.0', '4761.0', '4926.0', '4927.0', '4992.0', '5002.0', '5073.0', '5281071.0', '5282443.0', '5284514.0', '5311507.0', '5405.0', '5467.0', '5504.0', '5533.0', '5574.0', '5584.0', '5587.0', '60795.0', '60854.0', '667477.0', '6726.0', '6834.0', '71360.0', '72287.0', '774.0', '941361.0'])\n",
      " list(['DRD1', '', '119570.0', '1547484.0', '26934.0', '2726.0', '2818.0', '3036780.0', '31101.0', '3341.0', '3372.0', '3559.0', '3696.0', '3878.0', '3964.0', '4184.0', '4199.0', '4205.0', '4585.0', '4748.0', '47811.0', '4830.0', '4926.0', '5002.0', '5073.0', '5095.0', '5281881.0', '5311507.0', '5417.0', '5440.0', '5452.0', '54746.0', '5568.0', '5584.0', '59227.0', '6005.0', '6077.0', '60795.0', '60854.0', '681.0', '71360.0', '72287.0', '9429.0'])\n",
      " list(['DRD2', '', '10071196.0', '115368.0', '119570.0', '11978813.0', '125564.0', '15387.0', '1547484.0', '16362.0', '2130.0', '213046.0', '2159.0', '23897.0', '2446.0', '2477.0', '2726.0', '2818.0', '2995.0', '3033769.0', '3036780.0', '31101.0', '3151.0', '3168.0', '3372.0', '3396.0', '3559.0', '3696.0', '3792.0', '3878.0', '3964.0', '4011.0', '4054.0', '4078.0', '4168.0', '4184.0', '4199.0', '4205.0', '43008.0', '4543.0', '4585.0', '4748.0', '47811.0', '4830.0', '4850.0', '4926.0', '4927.0', '5002.0', '5073.0', '5095.0', '5281881.0', '5311507.0', '5355.0', '5417.0', '5440.0', '54477.0', '5452.0', '5467.0', '54746.0', '5566.0', '5568.0', '5584.0', '59227.0', '6005.0', '60149.0', '6018.0', '6077.0', '60795.0', '60854.0', '667477.0', '681.0', '71360.0', '72287.0', '8969.0', '9429.0'])\n",
      " list(['DRD3', '', '119570.0', '125564.0', '16362.0', '2159.0', '2726.0', '2818.0', '3036780.0', '31101.0', '3151.0', '3559.0', '3964.0', '4184.0', '4205.0', '4585.0', '47811.0', '4830.0', '4850.0', '5002.0', '5073.0', '5095.0', '5355.0', '54477.0', '5467.0', '54746.0', '59227.0', '6005.0', '60795.0', '60854.0', '681.0', '71360.0', '72287.0', '8969.0'])\n",
      " list(['DRD4', '', '115368.0', '119570.0', '2726.0', '2818.0', '3036780.0', '31101.0', '3964.0', '4585.0', '47811.0', '4830.0', '4926.0', '5002.0', '5073.0', '5095.0', '5440.0', '54477.0', '54746.0', '59227.0', '6005.0', '60795.0', '60854.0', '681.0', '71360.0', '72287.0'])\n",
      " list(['DRD5', '', '119570.0', '1547484.0', '2726.0', '31101.0', '3341.0', '3696.0', '3878.0', '3964.0', '4184.0', '4205.0', '4585.0', '47811.0', '5002.0', '5095.0', '5311507.0', '54746.0', '5584.0', '59227.0', '6005.0', '60795.0', '60854.0', '681.0', '72287.0'])\n",
      " list(['EDNRA', '', '104865.0', '159594.0', '16004692.0', '2244.0', '6918493.0'])\n",
      " list(['EGFR', '', '10184653.0', '123631.0', '176870.0', '208908.0', '3081361.0', '3676.0', '42642648.0', '5287969.0', '6445562.0', '71496458.0', '9915743.0'])\n",
      " list(['ESR1', '', '10286159.0', '104741.0', '11289.0', '13109.0', '13791.0', '154257.0', '1548953.0', '223368.0', '2733526.0', '27812.0', '28417.0', '3001028.0', '3005573.0', '3314.0', '3598.0', '3606.0', '36811.0', '4211.0', '444008.0', '445154.0', '448537.0', '449459.0', '4632.0', '4764.0', '5035.0', '5280343.0', '5280961.0', '5284596.0', '5756.0', '5757.0', '5870.0', '5991.0', '5994.0', '6010.0', '6231.0', '6279.0', '6291.0', '667476.0', '8362.0', '896.0'])\n",
      " list(['ESR2', '', '10286159.0', '114829.0', '13791.0', '154257.0', '2733526.0', '3001028.0', '3314.0', '448537.0', '449459.0', '4632.0', '5035.0', '5280343.0', '5280961.0', '5756.0', '5757.0', '5870.0', '91469.0'])\n",
      " list(['ESRRG', '', '13791.0', '221493.0', '2733526.0', '448537.0', '449459.0', '5591.0', '5757.0', '6623.0'])\n",
      " list(['F10', '', '10182969.0', '10275777.0', '4055.0', '4413.0', '5496659.0', '9875401.0'])\n",
      " list(['F2', '', '3447.0', '4055.0', '4413.0', '5361.0', '92722.0'])\n",
      " list(['FLT1', '', '10113978.0', '11167602.0', '11485656.0', '11973736.0', '151194.0', '216239.0', '5329102.0', '9823820.0', '9868037.0'])\n",
      " list(['FLT3', '', '11282283.0', '11485656.0', '126565.0', '216239.0', '24826799.0', '24889392.0', '3038522.0', '5329102.0', '9829523.0'])\n",
      " list(['FLT4', '', '10113978.0', '11167602.0', '11485656.0', '11973736.0', '151194.0', '216239.0', '5329102.0', '9823820.0'])\n",
      " list(['GABRA1', '', '10783.0', '2118.0', '2481.0', '24872560.0', '2576.0', '2712.0', '2802.0', '3016.0', '3032285.0', '3373.0', '3878.0', '3958.0', '4192.0', '4506.0', '4585.0', '4737.0', '4909.0', '4943.0', '5284627.0', '5311454.0', '5391.0', '5719.0', '5732.0', '5735.0', '667484.0', '6918305.0', '71158.0'])\n",
      " list(['GABRA2', '', '2118.0', '2481.0', '24872560.0', '2712.0', '2802.0', '3016.0', '3373.0', '3878.0', '3958.0', '4192.0', '4506.0', '4585.0', '4737.0', '4909.0', '4943.0', '5284627.0', '5311454.0', '5391.0', '5732.0', '5735.0', '667484.0', '6918305.0', '71158.0'])\n",
      " list(['GABRA3', '', '2118.0', '2481.0', '24872560.0', '2712.0', '2802.0', '3016.0', '3373.0', '3878.0', '3958.0', '4192.0', '4506.0', '4585.0', '4737.0', '4909.0', '4943.0', '5284627.0', '5311454.0', '5391.0', '5732.0', '5735.0', '667484.0', '6918305.0', '71158.0'])\n",
      " list(['GABRA4', '', '2118.0', '2481.0', '24872560.0', '2712.0', '2802.0', '3016.0', '3373.0', '3878.0', '3958.0', '4192.0', '4506.0', '4585.0', '4737.0', '4909.0', '4943.0', '5284627.0', '5311454.0', '5391.0', '667484.0', '6918305.0', '71158.0'])\n",
      " list(['GABRA5', '', '2118.0', '2481.0', '24872560.0', '2712.0', '2802.0', '3016.0', '3373.0', '3878.0', '3958.0', '4192.0', '4506.0', '4585.0', '4737.0', '4909.0', '4943.0', '5284627.0', '5311454.0', '5391.0', '5735.0', '667484.0', '6918305.0', '71158.0'])\n",
      " list(['GABRA6', '', '2118.0', '2481.0', '24872560.0', '2712.0', '2802.0', '3016.0', '3373.0', '3878.0', '3958.0', '4192.0', '4506.0', '4585.0', '4737.0', '4909.0', '4943.0', '5284627.0', '5311454.0', '5391.0', '667484.0', '6918305.0', '71158.0'])\n",
      " list(['GABRB1', '', '2118.0', '2481.0', '24872560.0', '2712.0', '2802.0', '3016.0', '3373.0', '3878.0', '3958.0', '4192.0', '4506.0', '4585.0', '4737.0', '4909.0', '4943.0', '5284627.0', '5311454.0', '5391.0', '667484.0', '71158.0'])\n",
      " list(['GABRB2', '', '2118.0', '2481.0', '24872560.0', '2576.0', '2712.0', '2802.0', '3016.0', '3373.0', '3878.0', '3958.0', '4192.0', '4506.0', '4585.0', '4737.0', '4909.0', '4943.0', '5284627.0', '5311454.0', '5391.0', '667484.0', '71158.0'])\n",
      " list(['GABRB3', '', '2118.0', '2481.0', '24872560.0', '2712.0', '2802.0', '3016.0', '3373.0', '3878.0', '3958.0', '4192.0', '4506.0', '4585.0', '4737.0', '4909.0', '4943.0', '5284627.0', '5311454.0', '5391.0', '5732.0', '667484.0', '71158.0'])\n",
      " list(['GABRD', '', '2118.0', '2481.0', '24872560.0', '2712.0', '2802.0', '3016.0', '3373.0', '3878.0', '3958.0', '4192.0', '4506.0', '4585.0', '4737.0', '4909.0', '4943.0', '5284627.0', '5311454.0', '5391.0', '667484.0', '71158.0'])\n",
      " list(['GABRE', '', '2118.0', '2481.0', '24872560.0', '2712.0', '2802.0', '3016.0', '3373.0', '3878.0', '3958.0', '4192.0', '4506.0', '4585.0', '4737.0', '4909.0', '4943.0', '5284627.0', '5311454.0', '5391.0', '667484.0', '71158.0'])\n",
      " list(['GABRG1', '', '2118.0', '2481.0', '24872560.0', '2712.0', '2802.0', '3016.0', '3373.0', '3878.0', '3958.0', '4192.0', '4506.0', '4585.0', '4737.0', '4909.0', '4943.0', '5284627.0', '5311454.0', '5391.0', '667484.0', '71158.0'])\n",
      " list(['GABRG2', '', '2118.0', '2481.0', '24872560.0', '2576.0', '2712.0', '2802.0', '3016.0', '3373.0', '3878.0', '3958.0', '4192.0', '4506.0', '4585.0', '4737.0', '4909.0', '4943.0', '5284627.0', '5311454.0', '5391.0', '5732.0', '667484.0', '71158.0'])\n",
      " list(['GABRG3', '', '2118.0', '2481.0', '24872560.0', '2712.0', '2802.0', '3016.0', '3373.0', '3878.0', '3958.0', '4192.0', '4506.0', '4585.0', '4737.0', '4909.0', '4943.0', '5284627.0', '5311454.0', '5391.0', '667484.0', '71158.0'])\n",
      " list(['GABRP', '', '2118.0', '2481.0', '24872560.0', '2712.0', '2802.0', '3016.0', '3373.0', '3878.0', '3958.0', '4192.0', '4506.0', '4585.0', '4737.0', '4909.0', '4943.0', '5284627.0', '5311454.0', '5391.0', '667484.0', '71158.0'])\n",
      " list(['GABRQ', '', '2118.0', '2481.0', '24872560.0', '2712.0', '2802.0', '3016.0', '3373.0', '3878.0', '3958.0', '4192.0', '4506.0', '4585.0', '4737.0', '4909.0', '4943.0', '5284627.0', '5311454.0', '5391.0', '667484.0', '71158.0'])\n",
      " list(['GPRIN1', '', '12035.0', '1779.0', '3446.0', '4054.0', '4601.0', '4737.0', '54841.0', '65833.0', '71077.0', '71158.0'])\n",
      " list(['GRIN2A', '', '12035.0', '3331.0', '3446.0', '4054.0', '4737.0', '54841.0', '65833.0', '71158.0'])\n",
      " list(['GRIN2B', '', '12035.0', '3331.0', '3446.0', '3559.0', '4054.0', '4737.0', '54841.0', '65833.0', '71158.0'])\n",
      " list(['GRIN2C', '', '3446.0', '4737.0', '54841.0', '65833.0', '71158.0'])\n",
      " list(['GRIN2D', '', '12035.0', '3446.0', '4601.0', '4737.0', '54841.0', '65833.0', '71158.0'])\n",
      " list(['GRIN3A', '', '12035.0', '2130.0', '3290.0', '3331.0', '33741.0', '3446.0', '4054.0', '4601.0', '4737.0', '4914.0', '5360696.0', '54841.0', '65833.0', '71158.0'])\n",
      " list(['GRIN3B', '', '3446.0', '4601.0', '4737.0', '54841.0', '65833.0', '71158.0'])\n",
      " list(['GSK3B', '', '10172943.0', '11175137.0', '44259.0', '448014.0', '5287844.0', '5326739.0'])\n",
      " list(['GSTP1', '', '1983.0', '222528.0', '2801.0', '2818.0', '3278.0', '5281051.0', '5329.0', '5591.0', '753.0', '969516.0'])\n",
      " list(['HDAC1', '', '107970.0', '11749858.0', '49855250.0', '5311.0', '5352062.0', '6918638.0', '6918837.0', '9865515.0'])\n",
      " list(['HDAC2', '', '2153.0', '3121.0', '49855250.0', '5311.0', '53232.0', '5352062.0', '6918638.0', '6918837.0', '9865515.0'])\n",
      " list(['HDAC3', '', '49855250.0', '5311.0', '6918638.0', '6918837.0', '9865515.0'])\n",
      " list(['HDAC6', '', '49855250.0', '5311.0', '5352062.0', '6918638.0', '6918837.0'])\n",
      " list(['HDAC8', '', '10379137.0', '444732.0', '5311.0', '6918638.0', '6918837.0'])\n",
      " list(['HMGCR', '', '19001.0', '446155.0', '446156.0', '446157.0', '5282452.0', '53232.0', '54454.0', '54687.0', '60823.0', '64715.0'])\n",
      " list(['HRH4', '', '2160.0', '2726.0', '2818.0', '3964.0', '4184.0', '4585.0', '667477.0', '774.0'])\n",
      " list(['HTR1A', '', '115368.0', '119570.0', '11978813.0', '128919.0', '2119.0', '213046.0', '2160.0', '23897.0', '2477.0', '2726.0', '2818.0', '2995.0', '3036780.0', '31101.0', '3678.0', '3696.0', '3964.0', '4184.0', '44112.0', '4449.0', '4543.0', '4585.0', '4595.0', '47811.0', '4828.0', '4946.0', '5002.0', '5073.0', '5095.0', '5205.0', '5358.0', '5467.0', '54746.0', '5533.0', '5584.0', '59227.0', '6005.0', '6077.0', '60795.0', '60854.0', '60857.0', '667477.0', '681.0', '68802.0', '68870.0', '6918314.0', '71360.0', '8969.0', '9429.0', '9681.0', '9966051.0'])\n",
      " list(['HTR1B', '', '10531.0', '119570.0', '123606.0', '2160.0', '2818.0', '3036780.0', '31101.0', '3964.0', '44112.0', '4585.0', '4595.0', '47811.0', '4828.0', '4946.0', '5002.0', '5078.0', '5095.0', '5205.0', '5358.0', '5467.0', '54746.0', '6005.0', '60795.0', '60854.0', '60857.0', '8969.0', '9681.0', '9966051.0'])\n",
      " list(['HTR1D', '', '10531.0', '119570.0', '123606.0', '2160.0', '2818.0', '31101.0', '3964.0', '4585.0', '47811.0', '5002.0', '5073.0', '5078.0', '5095.0', '5205.0', '5358.0', '5467.0', '54746.0', '5584.0', '6005.0', '60795.0', '60854.0', '60857.0', '8969.0'])\n",
      " list(['HTR1E', '', '2818.0', '3964.0', '4585.0', '5002.0', '5205.0', '5467.0', '60795.0', '60854.0', '9681.0'])\n",
      " list(['HTR1F', '', '4184.0', '5078.0', '5205.0', '5358.0', '5467.0', '60857.0', '9681.0'])\n",
      " list(['HTR2A', '', '10071196.0', '115368.0', '119570.0', '11978813.0', '125564.0', '213046.0', '2159.0', '2160.0', '23897.0', '2726.0', '2769.0', '2801.0', '2818.0', '2895.0', '2995.0', '3036780.0', '31101.0', '3152.0', '3241.0', '3372.0', '3396.0', '3559.0', '3696.0', '3822.0', '3878.0', '3964.0', '4011.0', '4078.0', '4184.0', '4199.0', '4205.0', '43815.0', '4449.0', '4543.0', '4585.0', '47811.0', '4830.0', '4926.0', '4927.0', '5002.0', '5073.0', '5074.0', '5095.0', '5205.0', '5281881.0', '5311507.0', '54477.0', '5452.0', '5467.0', '54746.0', '5533.0', '5584.0', '6005.0', '60149.0', '6077.0', '60795.0', '60854.0', '667477.0', '71360.0', '72287.0', '73333.0', '8969.0', '9429.0', '9681.0'])\n",
      " list(['HTR2B', '', '10531.0', '119570.0', '2726.0', '2801.0', '3036780.0', '31101.0', '4184.0', '4199.0', '4205.0', '4585.0', '47811.0', '4830.0', '5095.0', '5205.0', '5467.0', '54746.0', '5568.0', '6005.0', '667477.0', '8969.0', '9681.0'])\n",
      " list(['HTR2C', '', '11658860.0', '119570.0', '1355.0', '2160.0', '2726.0', '2771.0', '2801.0', '2818.0', '2995.0', '3036780.0', '31101.0', '3372.0', '33741.0', '3696.0', '3964.0', '4011.0', '4184.0', '4199.0', '4205.0', '4449.0', '4543.0', '4585.0', '47811.0', '4926.0', '5002.0', '5073.0', '5095.0', '5205.0', '5467.0', '54746.0', '5533.0', '5584.0', '6005.0', '60149.0', '60795.0', '60854.0', '66265.0', '667477.0', '72287.0', '82148.0', '8969.0', '9681.0'])\n",
      " list(['HTR3A', '', '2099.0', '2769.0', '2818.0', '3878.0', '3964.0', '4054.0', '4168.0', '4205.0', '4585.0', '4595.0', '4914.0', '5002.0', '5205.0', '5284566.0', '5467.0', '5584.0', '6000.0', '60795.0', '60854.0', '6337614.0', '656665.0', '681.0', '9966051.0'])\n",
      " list(['HTR4', '', '2769.0', '4168.0', '4595.0', '5205.0', '5467.0'])\n",
      " list(['HTR6', '', '2160.0', '2726.0', '2818.0', '3036780.0', '3696.0', '3964.0', '4184.0', '4543.0', '4585.0', '5002.0', '5205.0', '5467.0', '60149.0', '60795.0', '60854.0', '667477.0', '71360.0'])\n",
      " list(['HTR7', '', '213046.0', '2159.0', '2160.0', '2726.0', '2818.0', '3036780.0', '31101.0', '3241.0', '3696.0', '3964.0', '4011.0', '4184.0', '4205.0', '4585.0', '5002.0', '5073.0', '5205.0', '5467.0', '54746.0', '60795.0', '60854.0', '6604889.0', '681.0', '71360.0', '9681.0', '9966051.0'])\n",
      " list(['KCND3', '', '1727.0', '2160.0', '3114.0', '3696.0', '9930049.0'])\n",
      " list(['KCNH2', '', '123618.0', '12560.0', '16362.0', '208898.0', '2092.0', '2157.0', '2179.0', '2247.0', '2351.0', '2520.0', '2585.0', '2726.0', '2733526.0', '2764.0', '2769.0', '3114.0', '3157.0', '3356.0', '3696.0', '37393.0', '3957.0', '4189.0', '4449.0', '456201.0', '4746.0', '4893.0', '4913.0', '4932.0', '5253.0', '5401.0', '5405.0', '5452.0', '60149.0', '60753.0', '667477.0', '71329.0', '9930049.0'])\n",
      " list(['KCNH6', '', '3157.0', '4189.0', '4893.0', '5401.0', '60753.0'])\n",
      " list(['KCNH7', '', '3157.0', '4189.0', '4893.0', '5401.0', '60753.0'])\n",
      " list(['KCNJ1', '', '1989.0', '3476.0', '4201.0', '5505.0', '8969.0'])\n",
      " list(['KCNJ11', '', '2520.0', '3019.0', '3032285.0', '3033825.0', '3476.0', '3488.0', '5503.0', '60753.0', '8969.0'])\n",
      " list(['KCNJ8', '', '3032285.0', '3033825.0', '3488.0', '8249.0', '8969.0', '91610.0'])\n",
      " list(['KCNMA1', '', '2315.0', '2733.0', '2882.0', '2993.0', '3019.0', '3639.0', '3647.0', '4189.0', '4914.0', '5573.0'])\n",
      " list(['KDR', '', '10113978.0', '11167602.0', '11485656.0', '11656518.0', '11973736.0', '151194.0', '216239.0', '24826799.0', '25102847.0', '42642645.0', '5329098.0', '5329102.0', '9823820.0', '9829523.0', '9933475.0'])\n",
      " list(['KIT', '', '10113978.0', '11167602.0', '11282283.0', '11485656.0', '216239.0', '24826799.0', '3062316.0', '5291.0', '5329102.0', '644241.0', '9823820.0', '9829523.0', '9868037.0'])\n",
      " list(['MAOA', '', '19493.0', '3675.0', '3759.0', '4199.0', '4235.0', '4380.0', '4528.0', '4688.0', '4771.0', '4914.0', '4915.0', '5280953.0', '5734.0', '68802.0'])\n",
      " list(['MAOB', '', '131682.0', '19493.0', '3052776.0', '3675.0', '3759.0', '4235.0', '445070.0', '4528.0', '4688.0', '4771.0', '4829.0', '4914.0', '4915.0', '5734.0'])\n",
      " list(['MAPK14', '', '10341154.0', '156422.0', '22049997.0', '3038525.0', '3062316.0', '9871074.0'])\n",
      " list(['MET', '', '11282283.0', '11494412.0', '11626560.0', '24779724.0', '25102847.0'])\n",
      " list(['NANOS2', '', '1649.0', '1893.0', '2146.0', '4189.0', '5743.0', '9458.0', '9797857.0'])\n",
      " list(['NCOA2', '', '13791.0', '447912.0', '448537.0', '5280961.0', '5353760.0', '5757.0', '644213.0'])\n",
      " list(['NQO2', '', '115348.0', '4055.0', '445154.0', '4908.0', '5280343.0', '896.0'])\n",
      " list(['NR1H4', '', '221493.0', '222528.0', '31401.0', '444899.0', '445070.0', '5280934.0', '6675.0'])\n",
      " list(['NR1I2', '', '13791.0', '176870.0', '1775.0', '202225.0', '2554.0', '2733526.0', '2802.0', '2812.0', '2907.0', '3198.0', '3292.0', '3606.0', '36314.0', '3690.0', '39042.0', '392622.0', '4060.0', '4189.0', '445154.0', '446313.0', '447912.0', '4485.0', '448537.0', '449459.0', '456201.0', '4737.0', '4764.0', '5280343.0', '5280961.0', '54678486.0', '55245.0', '5564.0', '5743.0', '5757.0', '5833.0', '5991.0', '5994.0', '638024.0', '6451164.0'])\n",
      " list(['NR1I3', '', '101989.0', '2812.0', '3162.0', '3606.0', '3955.0', '4034.0', '445154.0', '456201.0', '4761.0', '4764.0', '5564.0'])\n",
      " list(['NR3C1', '', '11683.0', '15209.0', '16490.0', '21700.0', '247839.0', '27812.0', '31307.0', '32798.0', '444036.0', '5281004.0', '5311067.0', '5311412.0', '55245.0', '5743.0', '5745.0', '5754.0', '5833.0', '5994.0', '6215.0', '6714002.0', '6741.0', '6918155.0', '82153.0', '9642.0', '9782.0', '9878.0'])\n",
      " list(['NR3C2', '', '3333.0', '443872.0', '444036.0', '4497.0', '5753.0', '5833.0', '5952.0', '5994.0'])\n",
      " list(['OPRD1', '', '2160.0', '33741.0', '3955.0', '41693.0', '5284596.0', '5311304.0', '5360515.0', '5360696.0', '5361092.0', '5488548.0'])\n",
      " list(['OPRK1', '', '2160.0', '33741.0', '3878.0', '3955.0', '41693.0', '4184.0', '4205.0', '5284596.0', '5311304.0', '5360515.0', '5360696.0', '5361092.0', '5488548.0', '5994.0'])\n",
      " list(['OPRM1', '', '2160.0', '33741.0', '3955.0', '41693.0', '4595.0', '5284596.0', '5311304.0', '5360515.0', '5360696.0', '5361092.0', '5488548.0', '5573.0'])\n",
      " list(['ORM1', '', '2179.0', '2726.0', '3108.0', '3676.0', '5426.0', '5994.0'])\n",
      " list(['ORM2', '', '2726.0', '3114.0', '3676.0', '3696.0', '5426.0'])\n",
      " list(['PARP1', '', '11960529.0', '1720.0', '2153.0', '23725625.0', '63306.0', '936.0', '9931954.0'])\n",
      " list(['PDE1A', '', '2351.0', '2519.0', '3333.0', '4474.0', '5531.0'])\n",
      " list(['PDE1B', '', '2351.0', '2519.0', '3333.0', '4474.0', '5531.0'])\n",
      " list(['PDE3A', '', '2153.0', '2182.0', '2519.0', '2754.0', '3033825.0', '3671.0', '3698.0', '4197.0', '5531.0'])\n",
      " list(['PDE4A', '', '154575.0', '1676.0', '2153.0', '2519.0', '3108.0', '3182.0', '3671.0', '449193.0', '4740.0', '4938.0', '5311181.0', '5531.0'])\n",
      " list(['PDE4B', '', '151170.0', '154575.0', '158758.0', '1676.0', '2153.0', '2519.0', '3182.0', '3671.0', '3698.0', '448055.0', '449193.0', '4740.0', '5092.0', '5311181.0', '5429.0', '5531.0', '6083.0'])\n",
      " list(['PDE4C', '', '154575.0', '2519.0', '3182.0', '3671.0', '449193.0', '5311181.0', '5531.0'])\n",
      " list(['PDE4D', '', '151170.0', '154575.0', '158758.0', '2519.0', '3182.0', '3671.0', '448055.0', '449193.0', '5092.0', '5311181.0', '5531.0', '5723.0', '6083.0'])\n",
      " list(['PDE5A', '', '110634.0', '110635.0', '2153.0', '2519.0', '3108.0', '4740.0', '5212.0', '5531.0', '9869929.0'])\n",
      " list(['PDGFRA', '', '10113978.0', '11167602.0', '11282283.0', '24826799.0', '5291.0', '5329102.0', '9829523.0'])\n",
      " list(['PDGFRB', '', '10113978.0', '11167602.0', '216239.0', '3062316.0', '5291.0', '5329102.0', '9829523.0'])\n",
      " list(['PGR', '', '11683.0', '13109.0', '27812.0', '28417.0', '4211.0', '4369524.0', '444036.0', '4632.0', '55245.0', '5833.0', '5994.0', '6230.0', '6279.0', '68861.0', '8362.0', '9051.0'])\n",
      " list(['PIK3CG', '', '3973.0', '44259.0', '49867926.0', '5280343.0', '5281672.0', '5287855.0', '5289247.0', '6852167.0'])\n",
      " list(['PIM1', '', '10109823.0', '2396.0', '3973.0', '44259.0', '5280343.0', '6083.0'])\n",
      " list(['PKIA', '', '10172943.0', '11175137.0', '3064778.0', '3540.0', '3542.0', '3547.0', '449241.0'])\n",
      " list(['PLA2G2E', '', '180559.0', '3744.0', '4495.0', '4641.0', '4649.0', '753.0'])\n",
      " list(['PPARA', '', '208901.0', '2763.0', '2787.0', '2796.0', '3121.0', '3342.0', '3371.0', '3463.0', '3672.0', '3715.0', '39042.0', '444899.0', '445154.0', '445580.0', '446284.0', '4829.0', '5280934.0', '5591.0', '77999.0', '9803963.0'])\n",
      " list(['PPARD', '', '1548887.0', '2787.0', '3121.0', '39042.0', '446284.0', '4829.0', '5280934.0', '5591.0', '6603901.0', '6918140.0', '753.0', '77999.0', '9803963.0'])\n",
      " list(['PPARG', '', '121891.0', '208901.0', '2157.0', '2750.0', '2787.0', '3121.0', '3342.0', '3371.0', '3478.0', '3672.0', '3715.0', '39042.0', '39912.0', '4075.0', '445154.0', '445580.0', '446284.0', '4829.0', '5280934.0', '5564.0', '5591.0', '644213.0', '6443013.0', '65999.0', '77999.0', '969516.0'])\n",
      " list(['PRKACA', '', '10172943.0', '11175137.0', '3064778.0', '3540.0', '3542.0', '3547.0', '449241.0', '5281855.0'])\n",
      " list(['PTGDR2', '', '123879.0', '1548887.0', '3715.0', '5280360.0', '5280363.0', '5280723.0', '5311181.0'])\n",
      " list(['PTGS1', '', '119032.0', '151075.0', '1548887.0', '156391.0', '1981.0', '1983.0', '2206.0', '2244.0', '2581.0', '3033.0', '3052.0', '3059.0', '3308.0', '3342.0', '3371.0', '338.0', '3394.0', '3672.0', '3715.0', '3825.0', '3826.0', '3965.0', '39912.0', '4037.0', '4044.0', '4075.0', '4201.0', '4409.0', '444899.0', '445154.0', '446284.0', '4488.0', '4614.0', '4781.0', '48229.0', '5161.0', '5359.0', '5509.0', '60726.0', '610479.0', '667550.0', '71771.0', '9458.0'])\n",
      " list(['PTGS2', '', '119828.0', '123619.0', '134780.0', '151075.0', '1548887.0', '156391.0', '1981.0', '1983.0', '216326.0', '2206.0', '2244.0', '2581.0', '2662.0', '3033.0', '3059.0', '3308.0', '3342.0', '3371.0', '338.0', '3394.0', '3672.0', '3715.0', '3825.0', '3826.0', '3965.0', '39912.0', '4037.0', '4044.0', '4075.0', '4409.0', '445154.0', '446284.0', '4488.0', '4495.0', '4614.0', '4649.0', '4781.0', '48229.0', '5090.0', '5161.0', '5359.0', '5426.0', '5509.0', '60726.0', '610479.0', '667550.0', '71771.0'])\n",
      " list(['RARA', '', '108143.0', '444795.0', '449171.0', '5282379.0', '5284513.0', '5381.0', '60164.0'])\n",
      " list(['RARB', '', '108143.0', '444795.0', '449171.0', '5284513.0', '5289501.0', '5381.0', '60164.0'])\n",
      " list(['RARG', '', '444795.0', '449171.0', '5284513.0', '5381.0', '60164.0'])\n",
      " list(['RET', '', '11167602.0', '11282283.0', '216239.0', '24826799.0', '25102847.0', '3081361.0'])\n",
      " list(['RRM1', '', '119182.0', '20279.0', '3657.0', '60750.0', '657237.0', '68791.0'])\n",
      " list(['RXRA', '', '3308.0', '39042.0', '444795.0', '444899.0', '445580.0', '449171.0', '5280934.0', '5284513.0', '60164.0', '644213.0', '77999.0', '82146.0'])\n",
      " list(['RXRB', '', '39042.0', '444795.0', '445580.0', '447912.0', '449171.0', '5284513.0', '5353760.0', '5381.0', '60164.0', '77999.0', '82146.0'])\n",
      " list(['RXRG', '', '39042.0', '444795.0', '445580.0', '449171.0', '5284513.0', '60164.0', '77999.0', '82146.0'])\n",
      " list(['SCN10A', '', '10770.0', '175805.0', '219078.0', '2337.0', '2474.0', '3025.0', '3121.0', '3180.0', '3676.0', '4062.0', '4601.0', '4633.0', '4914.0', '4935.0'])\n",
      " list(['SCN1A', '', '1775.0', '208898.0', '3121.0', '4506.0', '4753.0', '4756.0', '5284627.0', '5734.0'])\n",
      " list(['SCN2A', '', '28693.0', '3121.0', '3878.0', '4943.0', '5734.0'])\n",
      " list(['SCN4A', '', '3033.0', '3121.0', '3356.0', '3676.0', '4684.0', '4943.0', '5734.0'])\n",
      " list(['SCN5A', '', '10770.0', '1775.0', '2520.0', '2554.0', '3025.0', '3114.0', '3121.0', '3292.0', '3356.0', '34312.0', '34633.0', '3676.0', '38945.0', '4060.0', '4178.0', '4906.0', '4913.0', '4932.0', '5070.0', '56959.0', '5734.0', '9930049.0'])\n",
      " list(['SCN9A', '', '129228.0', '219078.0', '3121.0', '3676.0', '56959.0', '5734.0'])\n",
      " list(['SHBG', '', '13109.0', '1548953.0', '2733526.0', '27812.0', '3005573.0', '448537.0', '449459.0', '4764.0', '5280343.0', '5280961.0', '5756.0', '5833.0', '5870.0', '5991.0', '5994.0', '6231.0', '667476.0', '72281.0', '91469.0'])\n",
      " list(['SIGMAR1', '', '2160.0', '275196.0', '4543.0', '5360696.0', '54477.0', '68617.0'])\n",
      " list(['SLC12A1', '', '2471.0', '2732.0', '3278.0', '3440.0', '3647.0', '41781.0', '5560.0', '6307.0'])\n",
      " list(['SLC12A3', '', '2315.0', '2343.0', '2720.0', '3019.0', '3639.0', '4170.0', '6307.0'])\n",
      " list(['SLC15A1', '', '243.0', '3672.0', '5904.0', '6196.0', '6869.0'])\n",
      " list(['SLC18A2', '', '22297.0', '3559.0', '4020.0', '4528.0', '6018.0', '681.0', '774.0'])\n",
      " list(['SLC6A2', '', '125017.0', '146570.0', '2160.0', '2725.0', '2801.0', '2966.0', '2995.0', '33741.0', '3518.0', '3696.0', '38521.0', '3964.0', '4011.0', '4020.0', '4184.0', '4205.0', '43815.0', '444.0', '4449.0', '4528.0', '4543.0', '4601.0', '4771.0', '4976.0', '5210.0', '5360696.0', '54841.0', '5584.0', '5656.0', '5666.0', '60835.0', '65833.0', '65856.0', '667477.0', '681.0', '7028.0', '7029.0'])\n",
      " list(['SLC6A3', '', '1201549.0', '146570.0', '2725.0', '3103.0', '3455.0', '3696.0', '3964.0', '4020.0', '4184.0', '4205.0', '4236.0', '444.0', '4449.0', '4528.0', '4771.0', '4914.0', '5210.0', '54841.0', '5584.0', '5656.0', '60835.0', '681.0', '68617.0', '7028.0', '7029.0'])\n",
      " list(['SLC6A4', '', '125017.0', '146570.0', '2160.0', '2520.0', '2725.0', '2771.0', '2801.0', '2995.0', '33741.0', '3696.0', '3964.0', '4020.0', '4184.0', '4199.0', '4205.0', '43815.0', '4449.0', '4500.0', '4528.0', '4543.0', '4771.0', '4976.0', '5210.0', '5360696.0', '54841.0', '5533.0', '5584.0', '5656.0', '60835.0', '65833.0', '66265.0', '667477.0', '681.0', '68617.0', '68870.0', '7028.0', '9966051.0'])\n",
      " list(['SRC', '', '23635314.0', '24826799.0', '3062316.0', '4878.0', '5328940.0'])\n",
      " list(['THPO', '', '1349907.0', '31072.0', '5054.0', '5564.0', '657298.0'])\n",
      " list(['THRB', '', '2157.0', '5803.0', '5819.0', '5920.0', '9862248.0'])\n",
      " list(['TNF', '', '10288191.0', '10341154.0', '134780.0', '2719.0', '2783.0', '3698.0', '4887.0', '5426.0', '5816.0', '7028.0', '9871074.0', '9949641.0'])\n",
      " list(['TNNC1', '', '2351.0', '3033825.0', '3333.0', '5566.0', '5681.0'])\n",
      " list(['TOP2A', '', '149096.0', '152946.0', '2179.0', '2764.0', '30323.0', '31703.0', '3229.0', '36462.0', '3948.0', '41867.0', '4212.0', '42890.0', '457193.0', '50515.0', '5280961.0', '60464.0', '62959.0', '71384.0'])\n",
      " list(['TOP2B', '', '30323.0', '36462.0', '457193.0', '50515.0', '71384.0'])\n",
      " list(['TRPV1', '', '1548942.0', '1548943.0', '1983.0', '446284.0', '5280934.0'])\n",
      " list(['TUBA1A', '', '11351021.0', '13342.0', '16741.0', '2082.0', '448013.0'])\n",
      " list(['TUBB', '', '11351021.0', '13342.0', '448013.0', '5311497.0', '6167.0'])\n",
      " list(['TUBB1', '', '11351021.0', '16741.0', '36314.0', '40839.0', '448013.0', '6167.0'])\n",
      " list(['TUBB4B', '', '11351021.0', '16741.0', '2082.0', '448013.0', '4622.0'])\n",
      " list(['TYMS', '', '104758.0', '148121.0', '3385.0', '5578.0', '5790.0', '60750.0', '60953.0'])\n",
      " list(['VDR', '', '5280453.0', '5283731.0', '5288149.0', '5288783.0', '969516.0'])\n",
      " list(['VKORC1', '', '4055.0', '4760.0', '54676038.0', '54676537.0', '54678486.0', '54680692.0'])]\n"
     ]
    }
   ],
   "source": [
    "print(dsl)"
   ]
  },
  {
   "cell_type": "code",
   "execution_count": 785,
   "metadata": {},
   "outputs": [
    {
     "data": {
      "text/plain": [
       "77"
      ]
     },
     "execution_count": 785,
     "metadata": {},
     "output_type": "execute_result"
    }
   ],
   "source": [
    "len(max(dsl, key=len))"
   ]
  },
  {
   "cell_type": "code",
   "execution_count": 787,
   "metadata": {},
   "outputs": [],
   "source": [
    "filename = 'Output/DrugBank_Targets_DrugSetLibrary_%s.gmt'% str(datetime.date.today())[0:7].replace('-', '_')\n",
    "with open(filename,'w',encoding='utf-8') as f:\n",
    "    for row in dsl:\n",
    "        np.savetxt(f, [row], fmt = '%s',delimiter = '\\t')   "
   ]
  },
  {
   "cell_type": "code",
   "execution_count": null,
   "metadata": {},
   "outputs": [],
   "source": []
  }
 ],
 "metadata": {
  "kernelspec": {
   "display_name": "Python 3",
   "language": "python",
   "name": "python3"
  },
  "language_info": {
   "codemirror_mode": {
    "name": "ipython",
    "version": 3
   },
   "file_extension": ".py",
   "mimetype": "text/x-python",
   "name": "python",
   "nbconvert_exporter": "python",
   "pygments_lexer": "ipython3",
   "version": "3.6.5"
  }
 },
 "nbformat": 4,
 "nbformat_minor": 2
}
