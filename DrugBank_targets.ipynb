{
 "cells": [
  {
   "cell_type": "markdown",
   "metadata": {},
   "source": [
    "## Import Libraries"
   ]
  },
  {
   "cell_type": "code",
   "execution_count": 8,
   "metadata": {},
   "outputs": [],
   "source": [
    "import numpy as np\n",
    "import pandas as pd\n",
    "from scipy.spatial.distance import squareform, pdist,jaccard\n",
    "import sys,  datetime, os\n",
    "import requests\n",
    "import chardet"
   ]
  },
  {
   "cell_type": "markdown",
   "metadata": {},
   "source": [
    "## Load Data"
   ]
  },
  {
   "cell_type": "markdown",
   "metadata": {},
   "source": [
    "#### Load DrugBank Data"
   ]
  },
  {
   "cell_type": "code",
   "execution_count": 9,
   "metadata": {},
   "outputs": [],
   "source": [
    "df = pd.read_csv('Input/drugbank_targets.csv')"
   ]
  },
  {
   "cell_type": "code",
   "execution_count": 10,
   "metadata": {},
   "outputs": [
    {
     "data": {
      "text/html": [
       "<div>\n",
       "<style scoped>\n",
       "    .dataframe tbody tr th:only-of-type {\n",
       "        vertical-align: middle;\n",
       "    }\n",
       "\n",
       "    .dataframe tbody tr th {\n",
       "        vertical-align: top;\n",
       "    }\n",
       "\n",
       "    .dataframe thead th {\n",
       "        text-align: right;\n",
       "    }\n",
       "</style>\n",
       "<table border=\"1\" class=\"dataframe\">\n",
       "  <thead>\n",
       "    <tr style=\"text-align: right;\">\n",
       "      <th></th>\n",
       "      <th>DrugBank ID</th>\n",
       "      <th>Name</th>\n",
       "      <th>Type</th>\n",
       "      <th>UniProt ID</th>\n",
       "      <th>UniProt Name</th>\n",
       "    </tr>\n",
       "  </thead>\n",
       "  <tbody>\n",
       "    <tr>\n",
       "      <th>0</th>\n",
       "      <td>DB00001</td>\n",
       "      <td>Lepirudin</td>\n",
       "      <td>BiotechDrug</td>\n",
       "      <td>P00734</td>\n",
       "      <td>Prothrombin</td>\n",
       "    </tr>\n",
       "    <tr>\n",
       "      <th>1</th>\n",
       "      <td>DB00002</td>\n",
       "      <td>Cetuximab</td>\n",
       "      <td>BiotechDrug</td>\n",
       "      <td>P00533</td>\n",
       "      <td>Epidermal growth factor receptor</td>\n",
       "    </tr>\n",
       "    <tr>\n",
       "      <th>2</th>\n",
       "      <td>DB00002</td>\n",
       "      <td>Cetuximab</td>\n",
       "      <td>BiotechDrug</td>\n",
       "      <td>O75015</td>\n",
       "      <td>Low affinity immunoglobulin gamma Fc region re...</td>\n",
       "    </tr>\n",
       "    <tr>\n",
       "      <th>3</th>\n",
       "      <td>DB00002</td>\n",
       "      <td>Cetuximab</td>\n",
       "      <td>BiotechDrug</td>\n",
       "      <td>P00736</td>\n",
       "      <td>Complement C1r subcomponent</td>\n",
       "    </tr>\n",
       "    <tr>\n",
       "      <th>4</th>\n",
       "      <td>DB00002</td>\n",
       "      <td>Cetuximab</td>\n",
       "      <td>BiotechDrug</td>\n",
       "      <td>P02745</td>\n",
       "      <td>Complement C1q subcomponent subunit A</td>\n",
       "    </tr>\n",
       "  </tbody>\n",
       "</table>\n",
       "</div>"
      ],
      "text/plain": [
       "  DrugBank ID       Name         Type UniProt ID  \\\n",
       "0     DB00001  Lepirudin  BiotechDrug     P00734   \n",
       "1     DB00002  Cetuximab  BiotechDrug     P00533   \n",
       "2     DB00002  Cetuximab  BiotechDrug     O75015   \n",
       "3     DB00002  Cetuximab  BiotechDrug     P00736   \n",
       "4     DB00002  Cetuximab  BiotechDrug     P02745   \n",
       "\n",
       "                                        UniProt Name  \n",
       "0                                        Prothrombin  \n",
       "1                   Epidermal growth factor receptor  \n",
       "2  Low affinity immunoglobulin gamma Fc region re...  \n",
       "3                        Complement C1r subcomponent  \n",
       "4              Complement C1q subcomponent subunit A  "
      ]
     },
     "execution_count": 10,
     "metadata": {},
     "output_type": "execute_result"
    }
   ],
   "source": [
    "df.head()"
   ]
  },
  {
   "cell_type": "code",
   "execution_count": 11,
   "metadata": {},
   "outputs": [
    {
     "data": {
      "text/plain": [
       "(18655, 5)"
      ]
     },
     "execution_count": 11,
     "metadata": {},
     "output_type": "execute_result"
    }
   ],
   "source": [
    "df.shape"
   ]
  },
  {
   "cell_type": "code",
   "execution_count": 12,
   "metadata": {},
   "outputs": [
    {
     "data": {
      "text/plain": [
       "array(['BiotechDrug', 'SmallMoleculeDrug'], dtype=object)"
      ]
     },
     "execution_count": 12,
     "metadata": {},
     "output_type": "execute_result"
    }
   ],
   "source": [
    "df['Type'].unique()"
   ]
  },
  {
   "cell_type": "code",
   "execution_count": 13,
   "metadata": {},
   "outputs": [
    {
     "data": {
      "text/plain": [
       "7137"
      ]
     },
     "execution_count": 13,
     "metadata": {},
     "output_type": "execute_result"
    }
   ],
   "source": [
    "len(df['Name'].unique())"
   ]
  },
  {
   "cell_type": "markdown",
   "metadata": {},
   "source": [
    "#### Load UniProt ID table"
   ]
  },
  {
   "cell_type": "code",
   "execution_count": 14,
   "metadata": {},
   "outputs": [],
   "source": [
    "uniprot = pd.read_table('Input/gene_to_uniprot.txt')"
   ]
  },
  {
   "cell_type": "code",
   "execution_count": 15,
   "metadata": {},
   "outputs": [
    {
     "data": {
      "text/html": [
       "<div>\n",
       "<style scoped>\n",
       "    .dataframe tbody tr th:only-of-type {\n",
       "        vertical-align: middle;\n",
       "    }\n",
       "\n",
       "    .dataframe tbody tr th {\n",
       "        vertical-align: top;\n",
       "    }\n",
       "\n",
       "    .dataframe thead th {\n",
       "        text-align: right;\n",
       "    }\n",
       "</style>\n",
       "<table border=\"1\" class=\"dataframe\">\n",
       "  <thead>\n",
       "    <tr style=\"text-align: right;\">\n",
       "      <th></th>\n",
       "      <th>Approved Symbol</th>\n",
       "      <th>UniProt ID</th>\n",
       "    </tr>\n",
       "  </thead>\n",
       "  <tbody>\n",
       "    <tr>\n",
       "      <th>0</th>\n",
       "      <td>A1BG</td>\n",
       "      <td>P04217</td>\n",
       "    </tr>\n",
       "    <tr>\n",
       "      <th>1</th>\n",
       "      <td>A1BG-AS1</td>\n",
       "      <td>NaN</td>\n",
       "    </tr>\n",
       "    <tr>\n",
       "      <th>2</th>\n",
       "      <td>A1CF</td>\n",
       "      <td>Q9NQ94</td>\n",
       "    </tr>\n",
       "    <tr>\n",
       "      <th>3</th>\n",
       "      <td>A2M</td>\n",
       "      <td>P01023</td>\n",
       "    </tr>\n",
       "    <tr>\n",
       "      <th>4</th>\n",
       "      <td>A2M-AS1</td>\n",
       "      <td>NaN</td>\n",
       "    </tr>\n",
       "  </tbody>\n",
       "</table>\n",
       "</div>"
      ],
      "text/plain": [
       "  Approved Symbol UniProt ID\n",
       "0            A1BG     P04217\n",
       "1        A1BG-AS1        NaN\n",
       "2            A1CF     Q9NQ94\n",
       "3             A2M     P01023\n",
       "4         A2M-AS1        NaN"
      ]
     },
     "execution_count": 15,
     "metadata": {},
     "output_type": "execute_result"
    }
   ],
   "source": [
    "uniprot.head()"
   ]
  },
  {
   "cell_type": "code",
   "execution_count": 16,
   "metadata": {},
   "outputs": [
    {
     "data": {
      "text/plain": [
       "(41375, 2)"
      ]
     },
     "execution_count": 16,
     "metadata": {},
     "output_type": "execute_result"
    }
   ],
   "source": [
    "uniprot.shape"
   ]
  },
  {
   "cell_type": "code",
   "execution_count": 17,
   "metadata": {},
   "outputs": [],
   "source": [
    "uniprot = uniprot[pd.notnull(uniprot['UniProt ID'])]"
   ]
  },
  {
   "cell_type": "markdown",
   "metadata": {},
   "source": [
    "#### Load Targets Mapping File"
   ]
  },
  {
   "cell_type": "code",
   "execution_count": 18,
   "metadata": {},
   "outputs": [],
   "source": [
    "target_update = pd.read_table('Input/mappingFile_2017.txt', names = ['Old Targets','Updated Targets'], engine='python')"
   ]
  },
  {
   "cell_type": "code",
   "execution_count": 19,
   "metadata": {},
   "outputs": [
    {
     "data": {
      "text/html": [
       "<div>\n",
       "<style scoped>\n",
       "    .dataframe tbody tr th:only-of-type {\n",
       "        vertical-align: middle;\n",
       "    }\n",
       "\n",
       "    .dataframe tbody tr th {\n",
       "        vertical-align: top;\n",
       "    }\n",
       "\n",
       "    .dataframe thead th {\n",
       "        text-align: right;\n",
       "    }\n",
       "</style>\n",
       "<table border=\"1\" class=\"dataframe\">\n",
       "  <thead>\n",
       "    <tr style=\"text-align: right;\">\n",
       "      <th></th>\n",
       "      <th>Old Targets</th>\n",
       "      <th>Updated Targets</th>\n",
       "    </tr>\n",
       "  </thead>\n",
       "  <tbody>\n",
       "    <tr>\n",
       "      <th>0</th>\n",
       "      <td>A1BG</td>\n",
       "      <td>A1BG</td>\n",
       "    </tr>\n",
       "    <tr>\n",
       "      <th>1</th>\n",
       "      <td>A1BG-AS1</td>\n",
       "      <td>A1BG-AS1</td>\n",
       "    </tr>\n",
       "    <tr>\n",
       "      <th>2</th>\n",
       "      <td>NCRNA00181</td>\n",
       "      <td>A1BG-AS1</td>\n",
       "    </tr>\n",
       "    <tr>\n",
       "      <th>3</th>\n",
       "      <td>A1BGAS</td>\n",
       "      <td>A1BG-AS1</td>\n",
       "    </tr>\n",
       "    <tr>\n",
       "      <th>4</th>\n",
       "      <td>A1BG-AS</td>\n",
       "      <td>A1BG-AS1</td>\n",
       "    </tr>\n",
       "  </tbody>\n",
       "</table>\n",
       "</div>"
      ],
      "text/plain": [
       "  Old Targets Updated Targets\n",
       "0        A1BG            A1BG\n",
       "1    A1BG-AS1        A1BG-AS1\n",
       "2  NCRNA00181        A1BG-AS1\n",
       "3      A1BGAS        A1BG-AS1\n",
       "4     A1BG-AS        A1BG-AS1"
      ]
     },
     "execution_count": 19,
     "metadata": {},
     "output_type": "execute_result"
    }
   ],
   "source": [
    "target_update.head()"
   ]
  },
  {
   "cell_type": "code",
   "execution_count": 20,
   "metadata": {},
   "outputs": [],
   "source": [
    "target_update.set_index('Old Targets',inplace = True)"
   ]
  },
  {
   "cell_type": "markdown",
   "metadata": {},
   "source": [
    "#### Load LINCS Small Molecules"
   ]
  },
  {
   "cell_type": "code",
   "execution_count": 21,
   "metadata": {},
   "outputs": [],
   "source": [
    "lincs = pd.read_csv('Input/LINCS_SmallMolecules.csv',encoding='ISO-8859-1')"
   ]
  },
  {
   "cell_type": "code",
   "execution_count": 22,
   "metadata": {},
   "outputs": [
    {
     "data": {
      "text/html": [
       "<div>\n",
       "<style scoped>\n",
       "    .dataframe tbody tr th:only-of-type {\n",
       "        vertical-align: middle;\n",
       "    }\n",
       "\n",
       "    .dataframe tbody tr th {\n",
       "        vertical-align: top;\n",
       "    }\n",
       "\n",
       "    .dataframe thead th {\n",
       "        text-align: right;\n",
       "    }\n",
       "</style>\n",
       "<table border=\"1\" class=\"dataframe\">\n",
       "  <thead>\n",
       "    <tr style=\"text-align: right;\">\n",
       "      <th></th>\n",
       "      <th>SM_Name</th>\n",
       "      <th>SM_LINCS_ID</th>\n",
       "      <th>SM_Alternative_Name</th>\n",
       "      <th>SM_PubChem_CID</th>\n",
       "      <th>SM_SMILES_Parent</th>\n",
       "      <th>SM_SMILES_Batch</th>\n",
       "      <th>SM_InChi_Parent</th>\n",
       "      <th>SM_Molecular_Mass</th>\n",
       "      <th>MOLECULAR_FORMULA</th>\n",
       "      <th>SM_ChEBI_ID</th>\n",
       "    </tr>\n",
       "  </thead>\n",
       "  <tbody>\n",
       "    <tr>\n",
       "      <th>0</th>\n",
       "      <td>Dichlobenil</td>\n",
       "      <td>LSM-19017</td>\n",
       "      <td>NaN</td>\n",
       "      <td>3031.0</td>\n",
       "      <td>Clc1cccc(Cl)c1C#N</td>\n",
       "      <td>NaN</td>\n",
       "      <td>InChI=1S/C7H3Cl2N/c8-6-2-1-3-7(9)5(6)4-10/h1-3H</td>\n",
       "      <td>172.01</td>\n",
       "      <td>C7H3Cl2N</td>\n",
       "      <td>943</td>\n",
       "    </tr>\n",
       "    <tr>\n",
       "      <th>1</th>\n",
       "      <td>AC1NWAJC</td>\n",
       "      <td>LSM-43967</td>\n",
       "      <td>Vulpinic acid</td>\n",
       "      <td>5701993.0</td>\n",
       "      <td>COC(=O)\\C(=C\\1/OC(=O)C(C1=O)c2ccccc2)\\c3ccccc3</td>\n",
       "      <td>NaN</td>\n",
       "      <td>InChI=1S/C19H14O5/c1-23-18(21)15(13-10-6-3-7-1...</td>\n",
       "      <td>322.31</td>\n",
       "      <td>C19H14O5</td>\n",
       "      <td>NaN</td>\n",
       "    </tr>\n",
       "    <tr>\n",
       "      <th>2</th>\n",
       "      <td>Sinapic Acid Methyl Ether</td>\n",
       "      <td>LSM-44124</td>\n",
       "      <td>NaN</td>\n",
       "      <td>735755.0</td>\n",
       "      <td>COc1cc(\\C=C\\C(=O)O)cc(OC)c1OC</td>\n",
       "      <td>NaN</td>\n",
       "      <td>InChI=1S/C12H14O5/c1-15-9-6-8(4-5-11(13)14)7-1...</td>\n",
       "      <td>238.24</td>\n",
       "      <td>C12H14O5</td>\n",
       "      <td>NaN</td>\n",
       "    </tr>\n",
       "    <tr>\n",
       "      <th>3</th>\n",
       "      <td>Ferulic acid</td>\n",
       "      <td>LSM-44126</td>\n",
       "      <td>Ferulic acid</td>\n",
       "      <td>445858.0</td>\n",
       "      <td>COc1cc(\\C=C\\C(=O)O)ccc1O</td>\n",
       "      <td>NaN</td>\n",
       "      <td>InChI=1S/C10H10O4/c1-14-9-6-7(2-4-8(9)11)3-5-1...</td>\n",
       "      <td>194.18</td>\n",
       "      <td>C10H10O4</td>\n",
       "      <td>17620</td>\n",
       "    </tr>\n",
       "    <tr>\n",
       "      <th>4</th>\n",
       "      <td>Pinosylvin Methyl Ether</td>\n",
       "      <td>LSM-43902</td>\n",
       "      <td>NaN</td>\n",
       "      <td>5281719.0</td>\n",
       "      <td>COc1cc(O)cc(\\C=C\\c2ccccc2)c1</td>\n",
       "      <td>NaN</td>\n",
       "      <td>InChI=1S/C15H14O2/c1-17-15-10-13(9-14(16)11-15...</td>\n",
       "      <td>226.27</td>\n",
       "      <td>C15H14O2</td>\n",
       "      <td>8227</td>\n",
       "    </tr>\n",
       "  </tbody>\n",
       "</table>\n",
       "</div>"
      ],
      "text/plain": [
       "                     SM_Name SM_LINCS_ID SM_Alternative_Name  SM_PubChem_CID  \\\n",
       "0                Dichlobenil   LSM-19017                 NaN          3031.0   \n",
       "1                   AC1NWAJC   LSM-43967       Vulpinic acid       5701993.0   \n",
       "2  Sinapic Acid Methyl Ether   LSM-44124                 NaN        735755.0   \n",
       "3               Ferulic acid   LSM-44126        Ferulic acid        445858.0   \n",
       "4    Pinosylvin Methyl Ether   LSM-43902                 NaN       5281719.0   \n",
       "\n",
       "                                 SM_SMILES_Parent  SM_SMILES_Batch  \\\n",
       "0                               Clc1cccc(Cl)c1C#N              NaN   \n",
       "1  COC(=O)\\C(=C\\1/OC(=O)C(C1=O)c2ccccc2)\\c3ccccc3              NaN   \n",
       "2                   COc1cc(\\C=C\\C(=O)O)cc(OC)c1OC              NaN   \n",
       "3                        COc1cc(\\C=C\\C(=O)O)ccc1O              NaN   \n",
       "4                    COc1cc(O)cc(\\C=C\\c2ccccc2)c1              NaN   \n",
       "\n",
       "                                     SM_InChi_Parent  SM_Molecular_Mass  \\\n",
       "0    InChI=1S/C7H3Cl2N/c8-6-2-1-3-7(9)5(6)4-10/h1-3H             172.01   \n",
       "1  InChI=1S/C19H14O5/c1-23-18(21)15(13-10-6-3-7-1...             322.31   \n",
       "2  InChI=1S/C12H14O5/c1-15-9-6-8(4-5-11(13)14)7-1...             238.24   \n",
       "3  InChI=1S/C10H10O4/c1-14-9-6-7(2-4-8(9)11)3-5-1...             194.18   \n",
       "4  InChI=1S/C15H14O2/c1-17-15-10-13(9-14(16)11-15...             226.27   \n",
       "\n",
       "  MOLECULAR_FORMULA SM_ChEBI_ID  \n",
       "0          C7H3Cl2N         943  \n",
       "1          C19H14O5         NaN  \n",
       "2          C12H14O5         NaN  \n",
       "3          C10H10O4       17620  \n",
       "4          C15H14O2        8227  "
      ]
     },
     "execution_count": 22,
     "metadata": {},
     "output_type": "execute_result"
    }
   ],
   "source": [
    "lincs.head()"
   ]
  },
  {
   "cell_type": "markdown",
   "metadata": {},
   "source": [
    "## Map UniProt ID to Gene"
   ]
  },
  {
   "cell_type": "code",
   "execution_count": 23,
   "metadata": {},
   "outputs": [],
   "source": [
    "df.set_index('UniProt ID', inplace = True)\n",
    "uniprot.set_index('UniProt ID',inplace=True)"
   ]
  },
  {
   "cell_type": "code",
   "execution_count": 24,
   "metadata": {},
   "outputs": [
    {
     "data": {
      "text/html": [
       "<div>\n",
       "<style scoped>\n",
       "    .dataframe tbody tr th:only-of-type {\n",
       "        vertical-align: middle;\n",
       "    }\n",
       "\n",
       "    .dataframe tbody tr th {\n",
       "        vertical-align: top;\n",
       "    }\n",
       "\n",
       "    .dataframe thead th {\n",
       "        text-align: right;\n",
       "    }\n",
       "</style>\n",
       "<table border=\"1\" class=\"dataframe\">\n",
       "  <thead>\n",
       "    <tr style=\"text-align: right;\">\n",
       "      <th></th>\n",
       "      <th>Approved Symbol</th>\n",
       "    </tr>\n",
       "    <tr>\n",
       "      <th>UniProt ID</th>\n",
       "      <th></th>\n",
       "    </tr>\n",
       "  </thead>\n",
       "  <tbody>\n",
       "    <tr>\n",
       "      <th>P04217</th>\n",
       "      <td>A1BG</td>\n",
       "    </tr>\n",
       "    <tr>\n",
       "      <th>Q9NQ94</th>\n",
       "      <td>A1CF</td>\n",
       "    </tr>\n",
       "    <tr>\n",
       "      <th>P01023</th>\n",
       "      <td>A2M</td>\n",
       "    </tr>\n",
       "    <tr>\n",
       "      <th>A8K2U0</th>\n",
       "      <td>A2ML1</td>\n",
       "    </tr>\n",
       "    <tr>\n",
       "      <th>U3KPV4</th>\n",
       "      <td>A3GALT2</td>\n",
       "    </tr>\n",
       "  </tbody>\n",
       "</table>\n",
       "</div>"
      ],
      "text/plain": [
       "           Approved Symbol\n",
       "UniProt ID                \n",
       "P04217                A1BG\n",
       "Q9NQ94                A1CF\n",
       "P01023                 A2M\n",
       "A8K2U0               A2ML1\n",
       "U3KPV4             A3GALT2"
      ]
     },
     "execution_count": 24,
     "metadata": {},
     "output_type": "execute_result"
    }
   ],
   "source": [
    "uniprot.head()"
   ]
  },
  {
   "cell_type": "code",
   "execution_count": 25,
   "metadata": {
    "scrolled": true
   },
   "outputs": [],
   "source": [
    "df = pd.merge(df, uniprot, how= 'left', on = 'UniProt ID')"
   ]
  },
  {
   "cell_type": "code",
   "execution_count": 26,
   "metadata": {},
   "outputs": [],
   "source": [
    "df = df.rename(index=str, columns = {'Approved Symbol':'Old Targets'})"
   ]
  },
  {
   "cell_type": "code",
   "execution_count": 27,
   "metadata": {},
   "outputs": [],
   "source": [
    "df.reset_index(inplace=True)"
   ]
  },
  {
   "cell_type": "code",
   "execution_count": 28,
   "metadata": {},
   "outputs": [
    {
     "data": {
      "text/plain": [
       "(18702, 6)"
      ]
     },
     "execution_count": 28,
     "metadata": {},
     "output_type": "execute_result"
    }
   ],
   "source": [
    "df.head(4)\n",
    "df.shape"
   ]
  },
  {
   "cell_type": "code",
   "execution_count": 29,
   "metadata": {},
   "outputs": [],
   "source": [
    "df = df.dropna(subset=['Old Targets']) "
   ]
  },
  {
   "cell_type": "markdown",
   "metadata": {},
   "source": [
    "## Update Target Names"
   ]
  },
  {
   "cell_type": "code",
   "execution_count": 30,
   "metadata": {},
   "outputs": [],
   "source": [
    "df.set_index('Old Targets', inplace = True)"
   ]
  },
  {
   "cell_type": "code",
   "execution_count": 31,
   "metadata": {},
   "outputs": [
    {
     "data": {
      "text/html": [
       "<div>\n",
       "<style scoped>\n",
       "    .dataframe tbody tr th:only-of-type {\n",
       "        vertical-align: middle;\n",
       "    }\n",
       "\n",
       "    .dataframe tbody tr th {\n",
       "        vertical-align: top;\n",
       "    }\n",
       "\n",
       "    .dataframe thead th {\n",
       "        text-align: right;\n",
       "    }\n",
       "</style>\n",
       "<table border=\"1\" class=\"dataframe\">\n",
       "  <thead>\n",
       "    <tr style=\"text-align: right;\">\n",
       "      <th></th>\n",
       "      <th>UniProt ID</th>\n",
       "      <th>DrugBank ID</th>\n",
       "      <th>Name</th>\n",
       "      <th>Type</th>\n",
       "      <th>UniProt Name</th>\n",
       "    </tr>\n",
       "    <tr>\n",
       "      <th>Old Targets</th>\n",
       "      <th></th>\n",
       "      <th></th>\n",
       "      <th></th>\n",
       "      <th></th>\n",
       "      <th></th>\n",
       "    </tr>\n",
       "  </thead>\n",
       "  <tbody>\n",
       "    <tr>\n",
       "      <th>F2</th>\n",
       "      <td>P00734</td>\n",
       "      <td>DB00001</td>\n",
       "      <td>Lepirudin</td>\n",
       "      <td>BiotechDrug</td>\n",
       "      <td>Prothrombin</td>\n",
       "    </tr>\n",
       "    <tr>\n",
       "      <th>Egfr</th>\n",
       "      <td>P00533</td>\n",
       "      <td>DB00002</td>\n",
       "      <td>Cetuximab</td>\n",
       "      <td>BiotechDrug</td>\n",
       "      <td>Epidermal growth factor receptor</td>\n",
       "    </tr>\n",
       "    <tr>\n",
       "      <th>FCGR3B</th>\n",
       "      <td>O75015</td>\n",
       "      <td>DB00002</td>\n",
       "      <td>Cetuximab</td>\n",
       "      <td>BiotechDrug</td>\n",
       "      <td>Low affinity immunoglobulin gamma Fc region re...</td>\n",
       "    </tr>\n",
       "    <tr>\n",
       "      <th>C1R</th>\n",
       "      <td>P00736</td>\n",
       "      <td>DB00002</td>\n",
       "      <td>Cetuximab</td>\n",
       "      <td>BiotechDrug</td>\n",
       "      <td>Complement C1r subcomponent</td>\n",
       "    </tr>\n",
       "    <tr>\n",
       "      <th>C1QA</th>\n",
       "      <td>P02745</td>\n",
       "      <td>DB00002</td>\n",
       "      <td>Cetuximab</td>\n",
       "      <td>BiotechDrug</td>\n",
       "      <td>Complement C1q subcomponent subunit A</td>\n",
       "    </tr>\n",
       "  </tbody>\n",
       "</table>\n",
       "</div>"
      ],
      "text/plain": [
       "            UniProt ID DrugBank ID       Name         Type  \\\n",
       "Old Targets                                                  \n",
       "F2              P00734     DB00001  Lepirudin  BiotechDrug   \n",
       "Egfr            P00533     DB00002  Cetuximab  BiotechDrug   \n",
       "FCGR3B          O75015     DB00002  Cetuximab  BiotechDrug   \n",
       "C1R             P00736     DB00002  Cetuximab  BiotechDrug   \n",
       "C1QA            P02745     DB00002  Cetuximab  BiotechDrug   \n",
       "\n",
       "                                                  UniProt Name  \n",
       "Old Targets                                                     \n",
       "F2                                                 Prothrombin  \n",
       "Egfr                          Epidermal growth factor receptor  \n",
       "FCGR3B       Low affinity immunoglobulin gamma Fc region re...  \n",
       "C1R                                Complement C1r subcomponent  \n",
       "C1QA                     Complement C1q subcomponent subunit A  "
      ]
     },
     "execution_count": 31,
     "metadata": {},
     "output_type": "execute_result"
    }
   ],
   "source": [
    "df.head()"
   ]
  },
  {
   "cell_type": "code",
   "execution_count": 32,
   "metadata": {},
   "outputs": [],
   "source": [
    "df = pd.merge(df, target_update, how= 'left', on = 'Old Targets')"
   ]
  },
  {
   "cell_type": "code",
   "execution_count": 33,
   "metadata": {},
   "outputs": [],
   "source": [
    "df.reset_index(inplace=True)"
   ]
  },
  {
   "cell_type": "code",
   "execution_count": 34,
   "metadata": {},
   "outputs": [],
   "source": [
    "df = df.rename(index=str, columns = {'Updated Targets':'Targets'})"
   ]
  },
  {
   "cell_type": "code",
   "execution_count": 35,
   "metadata": {
    "scrolled": true
   },
   "outputs": [],
   "source": [
    "df = df.dropna(subset=['Targets']) "
   ]
  },
  {
   "cell_type": "code",
   "execution_count": 36,
   "metadata": {},
   "outputs": [
    {
     "data": {
      "text/plain": [
       "(14343, 7)"
      ]
     },
     "execution_count": 36,
     "metadata": {},
     "output_type": "execute_result"
    }
   ],
   "source": [
    "df.shape"
   ]
  },
  {
   "cell_type": "markdown",
   "metadata": {},
   "source": [
    "## Get PubChemID and Map to drug name"
   ]
  },
  {
   "cell_type": "code",
   "execution_count": 37,
   "metadata": {
    "scrolled": true
   },
   "outputs": [],
   "source": [
    "namesdf = df['Name']\n",
    "namesdf = namesdf.drop_duplicates()"
   ]
  },
  {
   "cell_type": "code",
   "execution_count": 38,
   "metadata": {
    "scrolled": true
   },
   "outputs": [
    {
     "name": "stdout",
     "output_type": "stream",
     "text": [
      "0\n",
      "1\n",
      "2\n",
      "3\n",
      "172\n",
      "278\n",
      "384\n",
      "490\n",
      "595\n",
      "717\n",
      "825\n",
      "927\n",
      "1041\n",
      "1042\n",
      "1043\n",
      "1159\n",
      "1267\n",
      "1369\n",
      "1476\n",
      "1585\n",
      "1586\n",
      "1587\n",
      "1698\n",
      "1806\n",
      "1807\n",
      "1922\n",
      "2031\n",
      "2032\n",
      "2151\n",
      "2267\n",
      "2383\n",
      "2490\n",
      "2609\n",
      "2715\n",
      "2825\n",
      "2992\n",
      "3174\n",
      "3175\n",
      "3176\n",
      "3177\n",
      "3324\n",
      "3460\n",
      "3579\n",
      "3693\n",
      "3803\n",
      "3922\n",
      "4042\n",
      "4043\n",
      "4044\n",
      "4160\n",
      "4278\n",
      "4400\n",
      "4505\n",
      "4627\n",
      "4742\n",
      "4850\n",
      "4979\n",
      "5105\n",
      "5248\n",
      "883\n",
      "4478\n",
      "5361\n"
     ]
    }
   ],
   "source": [
    "nameslist = namesdf.tolist()\n",
    "failed_to_get_CID = 0\n",
    "CID_dict = {}\n",
    "\n",
    "for name in nameslist:\n",
    "    name = name.replace(' ','%20')\n",
    "    url = 'https://pubchem.ncbi.nlm.nih.gov/rest/pug/compound/name/' + name + '/cids/JSON'\n",
    "    response = requests.get(url)\n",
    "    if 'IdentifierList' in response.json().keys():\n",
    "        CID = response.json()['IdentifierList']['CID'][0]\n",
    "        name = name.replace('%20', ' ')\n",
    "        CID_dict[name] = CID\n",
    "    else:\n",
    "        failed_to_get_CID += 1\n",
    "        \n",
    "    if len(CID_dict) % 100 == 0:\n",
    "        name = name.replace('%20',' ')\n",
    "        print(nameslist.index(name))\n",
    "\n",
    "print(failed_to_get_CID)\n",
    "print(len(CID_dict))\n",
    "print(len(nameslist))\n",
    "\n",
    "    "
   ]
  },
  {
   "cell_type": "code",
   "execution_count": 42,
   "metadata": {},
   "outputs": [],
   "source": [
    "CIDs = []\n",
    "for index, row in df.iterrows():\n",
    "    drugname = row.loc['Name']\n",
    "    if drugname not in CID_dict:\n",
    "        df.drop(index, inplace = True)\n",
    "    else: \n",
    "        CIDs.append(int(CID_dict[drugname]))\n",
    "\n",
    "df.loc[:,'CIDs'] = pd.Series(np.array(CIDs), index=df.index)"
   ]
  },
  {
   "cell_type": "code",
   "execution_count": 43,
   "metadata": {},
   "outputs": [
    {
     "data": {
      "text/html": [
       "<div>\n",
       "<style scoped>\n",
       "    .dataframe tbody tr th:only-of-type {\n",
       "        vertical-align: middle;\n",
       "    }\n",
       "\n",
       "    .dataframe tbody tr th {\n",
       "        vertical-align: top;\n",
       "    }\n",
       "\n",
       "    .dataframe thead th {\n",
       "        text-align: right;\n",
       "    }\n",
       "</style>\n",
       "<table border=\"1\" class=\"dataframe\">\n",
       "  <thead>\n",
       "    <tr style=\"text-align: right;\">\n",
       "      <th></th>\n",
       "      <th>Old Targets</th>\n",
       "      <th>UniProt ID</th>\n",
       "      <th>DrugBank ID</th>\n",
       "      <th>Name</th>\n",
       "      <th>Type</th>\n",
       "      <th>UniProt Name</th>\n",
       "      <th>Targets</th>\n",
       "      <th>CIDs</th>\n",
       "    </tr>\n",
       "  </thead>\n",
       "  <tbody>\n",
       "    <tr>\n",
       "      <th>30</th>\n",
       "      <td>F2</td>\n",
       "      <td>P00734</td>\n",
       "      <td>DB00006</td>\n",
       "      <td>Bivalirudin</td>\n",
       "      <td>SmallMoleculeDrug</td>\n",
       "      <td>Prothrombin</td>\n",
       "      <td>F2</td>\n",
       "      <td>16129704</td>\n",
       "    </tr>\n",
       "    <tr>\n",
       "      <th>31</th>\n",
       "      <td>GNRHR</td>\n",
       "      <td>P30968</td>\n",
       "      <td>DB00007</td>\n",
       "      <td>Leuprolide</td>\n",
       "      <td>BiotechDrug</td>\n",
       "      <td>Gonadotropin-releasing hormone receptor</td>\n",
       "      <td>GNRHR</td>\n",
       "      <td>657181</td>\n",
       "    </tr>\n",
       "    <tr>\n",
       "      <th>38</th>\n",
       "      <td>GHRHR</td>\n",
       "      <td>Q02643</td>\n",
       "      <td>DB00010</td>\n",
       "      <td>Sermorelin</td>\n",
       "      <td>BiotechDrug</td>\n",
       "      <td>Growth hormone-releasing hormone receptor</td>\n",
       "      <td>GHRHR</td>\n",
       "      <td>16129620</td>\n",
       "    </tr>\n",
       "    <tr>\n",
       "      <th>52</th>\n",
       "      <td>LHCGR</td>\n",
       "      <td>P22888</td>\n",
       "      <td>DB00014</td>\n",
       "      <td>Goserelin</td>\n",
       "      <td>SmallMoleculeDrug</td>\n",
       "      <td>Lutropin-choriogonadotropic hormone receptor</td>\n",
       "      <td>LHCGR</td>\n",
       "      <td>5311128</td>\n",
       "    </tr>\n",
       "    <tr>\n",
       "      <th>53</th>\n",
       "      <td>GNRHR</td>\n",
       "      <td>P30968</td>\n",
       "      <td>DB00014</td>\n",
       "      <td>Goserelin</td>\n",
       "      <td>SmallMoleculeDrug</td>\n",
       "      <td>Gonadotropin-releasing hormone receptor</td>\n",
       "      <td>GNRHR</td>\n",
       "      <td>5311128</td>\n",
       "    </tr>\n",
       "  </tbody>\n",
       "</table>\n",
       "</div>"
      ],
      "text/plain": [
       "   Old Targets UniProt ID DrugBank ID         Name               Type  \\\n",
       "30          F2     P00734     DB00006  Bivalirudin  SmallMoleculeDrug   \n",
       "31       GNRHR     P30968     DB00007   Leuprolide        BiotechDrug   \n",
       "38       GHRHR     Q02643     DB00010   Sermorelin        BiotechDrug   \n",
       "52       LHCGR     P22888     DB00014    Goserelin  SmallMoleculeDrug   \n",
       "53       GNRHR     P30968     DB00014    Goserelin  SmallMoleculeDrug   \n",
       "\n",
       "                                    UniProt Name Targets      CIDs  \n",
       "30                                   Prothrombin      F2  16129704  \n",
       "31       Gonadotropin-releasing hormone receptor   GNRHR    657181  \n",
       "38     Growth hormone-releasing hormone receptor   GHRHR  16129620  \n",
       "52  Lutropin-choriogonadotropic hormone receptor   LHCGR   5311128  \n",
       "53       Gonadotropin-releasing hormone receptor   GNRHR   5311128  "
      ]
     },
     "execution_count": 43,
     "metadata": {},
     "output_type": "execute_result"
    }
   ],
   "source": [
    "df.head()"
   ]
  },
  {
   "cell_type": "code",
   "execution_count": 44,
   "metadata": {},
   "outputs": [
    {
     "data": {
      "text/plain": [
       "(12266, 8)"
      ]
     },
     "execution_count": 44,
     "metadata": {},
     "output_type": "execute_result"
    }
   ],
   "source": [
    "df.shape"
   ]
  },
  {
   "cell_type": "markdown",
   "metadata": {},
   "source": [
    "## Filter by LINCS approved Small Molecules"
   ]
  },
  {
   "cell_type": "code",
   "execution_count": 45,
   "metadata": {},
   "outputs": [
    {
     "name": "stdout",
     "output_type": "stream",
     "text": [
      "7495\n"
     ]
    }
   ],
   "source": [
    "count = 0\n",
    "for index, row in df.iterrows():\n",
    "    CID = row.loc['CIDs']\n",
    "    if CID not in lincs['SM_PubChem_CID'].values:\n",
    "\n",
    "        df.drop(index, inplace = True)\n",
    "        count += 1\n",
    "\n",
    "print(count)\n"
   ]
  },
  {
   "cell_type": "code",
   "execution_count": 46,
   "metadata": {
    "scrolled": true
   },
   "outputs": [
    {
     "data": {
      "text/html": [
       "<div>\n",
       "<style scoped>\n",
       "    .dataframe tbody tr th:only-of-type {\n",
       "        vertical-align: middle;\n",
       "    }\n",
       "\n",
       "    .dataframe tbody tr th {\n",
       "        vertical-align: top;\n",
       "    }\n",
       "\n",
       "    .dataframe thead th {\n",
       "        text-align: right;\n",
       "    }\n",
       "</style>\n",
       "<table border=\"1\" class=\"dataframe\">\n",
       "  <thead>\n",
       "    <tr style=\"text-align: right;\">\n",
       "      <th></th>\n",
       "      <th>Old Targets</th>\n",
       "      <th>UniProt ID</th>\n",
       "      <th>DrugBank ID</th>\n",
       "      <th>Name</th>\n",
       "      <th>Type</th>\n",
       "      <th>UniProt Name</th>\n",
       "      <th>Targets</th>\n",
       "      <th>CIDs</th>\n",
       "    </tr>\n",
       "  </thead>\n",
       "  <tbody>\n",
       "    <tr>\n",
       "      <th>52</th>\n",
       "      <td>LHCGR</td>\n",
       "      <td>P22888</td>\n",
       "      <td>DB00014</td>\n",
       "      <td>Goserelin</td>\n",
       "      <td>SmallMoleculeDrug</td>\n",
       "      <td>Lutropin-choriogonadotropic hormone receptor</td>\n",
       "      <td>LHCGR</td>\n",
       "      <td>5311128</td>\n",
       "    </tr>\n",
       "    <tr>\n",
       "      <th>53</th>\n",
       "      <td>GNRHR</td>\n",
       "      <td>P30968</td>\n",
       "      <td>DB00014</td>\n",
       "      <td>Goserelin</td>\n",
       "      <td>SmallMoleculeDrug</td>\n",
       "      <td>Gonadotropin-releasing hormone receptor</td>\n",
       "      <td>GNRHR</td>\n",
       "      <td>5311128</td>\n",
       "    </tr>\n",
       "    <tr>\n",
       "      <th>346</th>\n",
       "      <td>CAMLG</td>\n",
       "      <td>P49069</td>\n",
       "      <td>DB00091</td>\n",
       "      <td>Cyclosporine</td>\n",
       "      <td>SmallMoleculeDrug</td>\n",
       "      <td>Calcium signal-modulating cyclophilin ligand</td>\n",
       "      <td>CAMLG</td>\n",
       "      <td>5284373</td>\n",
       "    </tr>\n",
       "    <tr>\n",
       "      <th>347</th>\n",
       "      <td>PPP3R2</td>\n",
       "      <td>Q96LZ3</td>\n",
       "      <td>DB00091</td>\n",
       "      <td>Cyclosporine</td>\n",
       "      <td>SmallMoleculeDrug</td>\n",
       "      <td>Calcineurin subunit B type 2</td>\n",
       "      <td>PPP3R2</td>\n",
       "      <td>5284373</td>\n",
       "    </tr>\n",
       "    <tr>\n",
       "      <th>348</th>\n",
       "      <td>PPIA</td>\n",
       "      <td>P62937</td>\n",
       "      <td>DB00091</td>\n",
       "      <td>Cyclosporine</td>\n",
       "      <td>SmallMoleculeDrug</td>\n",
       "      <td>Peptidyl-prolyl cis-trans isomerase A</td>\n",
       "      <td>PPIA</td>\n",
       "      <td>5284373</td>\n",
       "    </tr>\n",
       "  </tbody>\n",
       "</table>\n",
       "</div>"
      ],
      "text/plain": [
       "    Old Targets UniProt ID DrugBank ID          Name               Type  \\\n",
       "52        LHCGR     P22888     DB00014     Goserelin  SmallMoleculeDrug   \n",
       "53        GNRHR     P30968     DB00014     Goserelin  SmallMoleculeDrug   \n",
       "346       CAMLG     P49069     DB00091  Cyclosporine  SmallMoleculeDrug   \n",
       "347      PPP3R2     Q96LZ3     DB00091  Cyclosporine  SmallMoleculeDrug   \n",
       "348        PPIA     P62937     DB00091  Cyclosporine  SmallMoleculeDrug   \n",
       "\n",
       "                                     UniProt Name Targets     CIDs  \n",
       "52   Lutropin-choriogonadotropic hormone receptor   LHCGR  5311128  \n",
       "53        Gonadotropin-releasing hormone receptor   GNRHR  5311128  \n",
       "346  Calcium signal-modulating cyclophilin ligand   CAMLG  5284373  \n",
       "347                  Calcineurin subunit B type 2  PPP3R2  5284373  \n",
       "348         Peptidyl-prolyl cis-trans isomerase A    PPIA  5284373  "
      ]
     },
     "execution_count": 46,
     "metadata": {},
     "output_type": "execute_result"
    }
   ],
   "source": [
    "df.head()"
   ]
  },
  {
   "cell_type": "code",
   "execution_count": 47,
   "metadata": {
    "scrolled": true
   },
   "outputs": [
    {
     "data": {
      "text/plain": [
       "(4771, 8)"
      ]
     },
     "execution_count": 47,
     "metadata": {},
     "output_type": "execute_result"
    }
   ],
   "source": [
    "df.shape"
   ]
  },
  {
   "cell_type": "markdown",
   "metadata": {},
   "source": [
    "## Make Binary Matrix"
   ]
  },
  {
   "cell_type": "code",
   "execution_count": 48,
   "metadata": {},
   "outputs": [],
   "source": [
    "grouped_df = df.groupby(['Targets'])['CIDs'].apply(lambda x: ','.join(x.astype(str))).reset_index()"
   ]
  },
  {
   "cell_type": "code",
   "execution_count": 49,
   "metadata": {},
   "outputs": [],
   "source": [
    "grouped_df.set_index('Targets', inplace=True)\n",
    "grouped_df = grouped_df.sort_index()"
   ]
  },
  {
   "cell_type": "code",
   "execution_count": 50,
   "metadata": {},
   "outputs": [
    {
     "data": {
      "text/plain": [
       "1111"
      ]
     },
     "execution_count": 50,
     "metadata": {},
     "output_type": "execute_result"
    }
   ],
   "source": [
    "len(df['Targets'].unique())"
   ]
  },
  {
   "cell_type": "code",
   "execution_count": 51,
   "metadata": {},
   "outputs": [],
   "source": [
    "grouped_matrix = grouped_df.iloc[:,0].str.get_dummies(sep=',')"
   ]
  },
  {
   "cell_type": "code",
   "execution_count": 52,
   "metadata": {},
   "outputs": [
    {
     "data": {
      "text/html": [
       "<div>\n",
       "<style scoped>\n",
       "    .dataframe tbody tr th:only-of-type {\n",
       "        vertical-align: middle;\n",
       "    }\n",
       "\n",
       "    .dataframe tbody tr th {\n",
       "        vertical-align: top;\n",
       "    }\n",
       "\n",
       "    .dataframe thead th {\n",
       "        text-align: right;\n",
       "    }\n",
       "</style>\n",
       "<table border=\"1\" class=\"dataframe\">\n",
       "  <thead>\n",
       "    <tr style=\"text-align: right;\">\n",
       "      <th></th>\n",
       "      <th>10052040</th>\n",
       "      <th>10096344</th>\n",
       "      <th>10109823</th>\n",
       "      <th>10113978</th>\n",
       "      <th>10133</th>\n",
       "      <th>10140</th>\n",
       "      <th>10152654</th>\n",
       "      <th>101616</th>\n",
       "      <th>10168</th>\n",
       "      <th>10172943</th>\n",
       "      <th>...</th>\n",
       "      <th>9913</th>\n",
       "      <th>9915743</th>\n",
       "      <th>9926791</th>\n",
       "      <th>9930049</th>\n",
       "      <th>9931954</th>\n",
       "      <th>9933475</th>\n",
       "      <th>9934347</th>\n",
       "      <th>9939609</th>\n",
       "      <th>9949641</th>\n",
       "      <th>9966051</th>\n",
       "    </tr>\n",
       "    <tr>\n",
       "      <th>Targets</th>\n",
       "      <th></th>\n",
       "      <th></th>\n",
       "      <th></th>\n",
       "      <th></th>\n",
       "      <th></th>\n",
       "      <th></th>\n",
       "      <th></th>\n",
       "      <th></th>\n",
       "      <th></th>\n",
       "      <th></th>\n",
       "      <th></th>\n",
       "      <th></th>\n",
       "      <th></th>\n",
       "      <th></th>\n",
       "      <th></th>\n",
       "      <th></th>\n",
       "      <th></th>\n",
       "      <th></th>\n",
       "      <th></th>\n",
       "      <th></th>\n",
       "      <th></th>\n",
       "    </tr>\n",
       "  </thead>\n",
       "  <tbody>\n",
       "    <tr>\n",
       "      <th>AADACL2</th>\n",
       "      <td>0</td>\n",
       "      <td>0</td>\n",
       "      <td>0</td>\n",
       "      <td>0</td>\n",
       "      <td>0</td>\n",
       "      <td>0</td>\n",
       "      <td>0</td>\n",
       "      <td>0</td>\n",
       "      <td>0</td>\n",
       "      <td>0</td>\n",
       "      <td>...</td>\n",
       "      <td>0</td>\n",
       "      <td>0</td>\n",
       "      <td>0</td>\n",
       "      <td>0</td>\n",
       "      <td>0</td>\n",
       "      <td>0</td>\n",
       "      <td>0</td>\n",
       "      <td>0</td>\n",
       "      <td>0</td>\n",
       "      <td>0</td>\n",
       "    </tr>\n",
       "    <tr>\n",
       "      <th>ABAT</th>\n",
       "      <td>0</td>\n",
       "      <td>0</td>\n",
       "      <td>0</td>\n",
       "      <td>0</td>\n",
       "      <td>0</td>\n",
       "      <td>0</td>\n",
       "      <td>0</td>\n",
       "      <td>0</td>\n",
       "      <td>0</td>\n",
       "      <td>0</td>\n",
       "      <td>...</td>\n",
       "      <td>0</td>\n",
       "      <td>0</td>\n",
       "      <td>0</td>\n",
       "      <td>0</td>\n",
       "      <td>0</td>\n",
       "      <td>0</td>\n",
       "      <td>0</td>\n",
       "      <td>0</td>\n",
       "      <td>0</td>\n",
       "      <td>0</td>\n",
       "    </tr>\n",
       "    <tr>\n",
       "      <th>ABCA1</th>\n",
       "      <td>0</td>\n",
       "      <td>0</td>\n",
       "      <td>0</td>\n",
       "      <td>0</td>\n",
       "      <td>0</td>\n",
       "      <td>0</td>\n",
       "      <td>0</td>\n",
       "      <td>0</td>\n",
       "      <td>0</td>\n",
       "      <td>0</td>\n",
       "      <td>...</td>\n",
       "      <td>0</td>\n",
       "      <td>0</td>\n",
       "      <td>0</td>\n",
       "      <td>0</td>\n",
       "      <td>0</td>\n",
       "      <td>0</td>\n",
       "      <td>0</td>\n",
       "      <td>0</td>\n",
       "      <td>0</td>\n",
       "      <td>0</td>\n",
       "    </tr>\n",
       "    <tr>\n",
       "      <th>ABCB1</th>\n",
       "      <td>0</td>\n",
       "      <td>0</td>\n",
       "      <td>0</td>\n",
       "      <td>0</td>\n",
       "      <td>0</td>\n",
       "      <td>0</td>\n",
       "      <td>0</td>\n",
       "      <td>0</td>\n",
       "      <td>0</td>\n",
       "      <td>0</td>\n",
       "      <td>...</td>\n",
       "      <td>0</td>\n",
       "      <td>0</td>\n",
       "      <td>0</td>\n",
       "      <td>0</td>\n",
       "      <td>0</td>\n",
       "      <td>0</td>\n",
       "      <td>0</td>\n",
       "      <td>0</td>\n",
       "      <td>0</td>\n",
       "      <td>0</td>\n",
       "    </tr>\n",
       "    <tr>\n",
       "      <th>ABCB11</th>\n",
       "      <td>0</td>\n",
       "      <td>0</td>\n",
       "      <td>0</td>\n",
       "      <td>0</td>\n",
       "      <td>0</td>\n",
       "      <td>0</td>\n",
       "      <td>0</td>\n",
       "      <td>0</td>\n",
       "      <td>0</td>\n",
       "      <td>0</td>\n",
       "      <td>...</td>\n",
       "      <td>0</td>\n",
       "      <td>0</td>\n",
       "      <td>0</td>\n",
       "      <td>0</td>\n",
       "      <td>0</td>\n",
       "      <td>0</td>\n",
       "      <td>0</td>\n",
       "      <td>0</td>\n",
       "      <td>0</td>\n",
       "      <td>0</td>\n",
       "    </tr>\n",
       "  </tbody>\n",
       "</table>\n",
       "<p>5 rows × 1154 columns</p>\n",
       "</div>"
      ],
      "text/plain": [
       "         10052040  10096344  10109823  10113978  10133  10140  10152654  \\\n",
       "Targets                                                                   \n",
       "AADACL2         0         0         0         0      0      0         0   \n",
       "ABAT            0         0         0         0      0      0         0   \n",
       "ABCA1           0         0         0         0      0      0         0   \n",
       "ABCB1           0         0         0         0      0      0         0   \n",
       "ABCB11          0         0         0         0      0      0         0   \n",
       "\n",
       "         101616  10168  10172943   ...     9913  9915743  9926791  9930049  \\\n",
       "Targets                            ...                                       \n",
       "AADACL2       0      0         0   ...        0        0        0        0   \n",
       "ABAT          0      0         0   ...        0        0        0        0   \n",
       "ABCA1         0      0         0   ...        0        0        0        0   \n",
       "ABCB1         0      0         0   ...        0        0        0        0   \n",
       "ABCB11        0      0         0   ...        0        0        0        0   \n",
       "\n",
       "         9931954  9933475  9934347  9939609  9949641  9966051  \n",
       "Targets                                                        \n",
       "AADACL2        0        0        0        0        0        0  \n",
       "ABAT           0        0        0        0        0        0  \n",
       "ABCA1          0        0        0        0        0        0  \n",
       "ABCB1          0        0        0        0        0        0  \n",
       "ABCB11         0        0        0        0        0        0  \n",
       "\n",
       "[5 rows x 1154 columns]"
      ]
     },
     "execution_count": 52,
     "metadata": {},
     "output_type": "execute_result"
    }
   ],
   "source": [
    "grouped_matrix.head()"
   ]
  },
  {
   "cell_type": "code",
   "execution_count": 53,
   "metadata": {},
   "outputs": [
    {
     "data": {
      "text/plain": [
       "(1111, 1154)"
      ]
     },
     "execution_count": 53,
     "metadata": {},
     "output_type": "execute_result"
    }
   ],
   "source": [
    "grouped_matrix.shape"
   ]
  },
  {
   "cell_type": "markdown",
   "metadata": {},
   "source": [
    "## Save Binary Matrix"
   ]
  },
  {
   "cell_type": "code",
   "execution_count": 54,
   "metadata": {},
   "outputs": [],
   "source": [
    "# grouped_matrix.to_csv('Output/DrugBank_Targets.csv')"
   ]
  },
  {
   "cell_type": "code",
   "execution_count": 55,
   "metadata": {},
   "outputs": [],
   "source": [
    "filename = 'Output/DrugBank_Targets_%s.tsv.zip'% str(datetime.date.today())[0:7].replace('-', '_')\n",
    "grouped_matrix.to_csv(filename, sep='\\t', compression='gzip')"
   ]
  },
  {
   "cell_type": "markdown",
   "metadata": {},
   "source": [
    "## Convert Binary Matrix to GMT"
   ]
  },
  {
   "cell_type": "code",
   "execution_count": 56,
   "metadata": {},
   "outputs": [],
   "source": [
    "drugset_library = []\n",
    "for index, row in grouped_matrix.iterrows():\n",
    "    \n",
    "    drugset = []\n",
    "    drugset.append(index)\n",
    "    drugset.append('')\n",
    "    for i in range(grouped_matrix.shape[1]):\n",
    "        if row.iloc[i]==1:\n",
    "            drugset.append(row.index[i])\n",
    "    if len(drugset) >= 7:\n",
    "        drugset_library.append(drugset)\n",
    "    \n",
    "dsl = np.array(drugset_library)"
   ]
  },
  {
   "cell_type": "code",
   "execution_count": 57,
   "metadata": {},
   "outputs": [
    {
     "name": "stdout",
     "output_type": "stream",
     "text": [
      "[list(['ABCC8', '', '121891', '2727', '3475', '3476', '3478', '3488', '5503', '5505', '65981', '91610'])\n",
      " list(['ABL1', '', '11167602', '24826799', '3062316', '5291', '5328940', '644241'])\n",
      " list(['ACE', '', '107807', '44093', '5280954', '5362124', '5362129', '5388962', '5462501', '54892', '91270', '92400'])\n",
      " list(['ACHE', '', '187', '1935', '3105', '3152', '3202', '4139', '4168', '4199', '4456', '4939', '4991', '5966', '6000', '77991', '854026', '9651'])\n",
      " list(['ADORA1', '', '2153', '2519', '3182', '3446', '3878', '4740', '5429', '60961'])\n",
      " list(['ADORA2A', '', '176407', '2153', '2519', '3182', '3878', '40692', '4740', '50942', '5429', '60961'])\n",
      " list(['ADRA1A', '', '115368', '1236', '129211', '146570', '208898', '2092', '2170', '22297', '2520', '2585', '2726', '2765', '2771', '2803', '2818', '2995', '3036780', '3105', '31101', '3157', '3168', '3241', '3341', '33625', '34040', '3677', '3696', '3869', '3878', '4011', '4184', '4195', '4260', '441074', '4436', '4449', '4474', '4543', '4585', '4636', '47811', '4830', '4893', '4926', '4927', '5002', '5281881', '5284550', '5311507', '5419', '5452', '5467', '54746', '5504', '5533', '5566', '5584', '5775', '5816', '5906', '60149', '6041', '6077', '60795', '6082', '60854', '667477', '7028', '71360', '7172', '72287', '838', '9429'])\n",
      " list(['ADRA1B', '', '115368', '11978813', '129211', '208898', '2092', '2170', '2520', '2585', '2726', '2765', '2803', '2818', '2995', '31101', '3157', '3341', '3677', '3696', '3869', '4011', '4184', '4195', '4236', '4260', '441074', '4449', '4474', '4543', '4585', '4636', '47811', '4830', '4893', '4926', '5002', '5284550', '5452', '5467', '54746', '5584', '5775', '5816', '60149', '6041', '6077', '60795', '6082', '60854', '667477', '7172', '72287', '838', '9429'])\n",
      " list(['ADRA1D', '', '115368', '129211', '208898', '2092', '2170', '2520', '2585', '2726', '2765', '2803', '2995', '31101', '3157', '3341', '3677', '3696', '3869', '4011', '4184', '4195', '4260', '441074', '4474', '4543', '4636', '47811', '4830', '4893', '4926', '5002', '5284550', '5467', '54746', '5775', '5816', '60149', '6041', '6082', '667477', '7172', '72287'])\n",
      " list(['ADRA2A', '', '10531', '119570', '208898', '213046', '2170', '2435', '2585', '26934', '2726', '2765', '2803', '2818', '2995', '3036780', '30668', '3105', '31101', '3241', '3341', '3519', '3677', '3878', '38853', '4011', '4184', '4260', '4436', '4449', '4543', '4585', '4636', '47811', '4810', '4830', '4893', '5002', '5095', '5205', '5284550', '5311507', '53276', '5467', '54746', '5504', '5533', '5584', '5775', '5816', '6005', '60795', '60854', '667477', '68802', '7028', '72287', '838', '8969'])\n",
      " list(['ADRA2B', '', '119570', '208898', '2170', '2435', '2585', '26934', '2726', '2765', '2803', '2818', '2995', '3036780', '31101', '3341', '3519', '3677', '4011', '4184', '4260', '4543', '4585', '4636', '47811', '4893', '5002', '5095', '5205', '5284550', '5467', '54746', '5504', '5584', '5816', '59227', '6005', '60795', '60854', '667477', '667484', '72287', '838', '8969'])\n",
      " list(['ADRA2C', '', '119570', '11978813', '208898', '213046', '2170', '2435', '2585', '26934', '2726', '2765', '2803', '2818', '2995', '3036780', '31101', '3341', '3677', '4011', '4184', '4260', '4543', '4585', '4636', '47811', '5002', '5095', '5205', '5284550', '5467', '54746', '5504', '5816', '6005', '60795', '60854', '667477', '71360', '72287', '838', '8969'])\n",
      " list(['ADRB1', '', '1102', '155774', '1978', '2083', '208898', '2119', '2157', '2249', '2369', '2405', '2583', '2585', '2663', '26934', '2783', '2995', '3036780', '3343', '33624', '3677', '3762', '3779', '3869', '3878', '39147', '39468', '4171', '44112', '4543', '4585', '4631', '4828', '4883', '4932', '4946', '5152', '5253', '5403', '54746', '5584', '5816', '59768', '7028', '838', '9966051'])\n",
      " list(['ADRB2', '', '1102', '123600', '1978', '2083', '2119', '2249', '2369', '2405', '2583', '2585', '2663', '26934', '2783', '2995', '3036780', '3105', '3343', '33572', '33624', '3677', '3762', '3779', '3869', '39147', '39468', '4086', '4171', '44112', '4543', '4585', '4631', '4828', '4916', '4932', '4946', '50942', '5152', '5253', '5403', '54746', '54766', '5584', '5606', '5816', '6918554', '7028', '838'])\n",
      " list(['ADRB3', '', '2083', '2119', '2783', '3343', '3677', '3779', '44112', '4543', '4585', '4631', '4828', '4946', '5152', '5403', '5584', '5816'])\n",
      " list(['AGTR1', '', '158781', '2540', '3749', '3961', '5281037', '60846', '65999'])\n",
      " list(['AHR', '', '3220', '3397', '3899', '4178', '445154', '4497', '4594', '5280343', '5281613', '5326739', '5944', '60823', '65064'])\n",
      " list(['AKR1B1', '', '13109', '1548887', '2120', '2146', '24872560', '2733526', '27812', '28417', '3314', '3371', '3372', '3397', '4211', '448537', '4493', '456201', '4632', '5564', '5833', '5870', '5878', '5994', '5995', '6010', '68861', '9824562', '9880', '9882972'])\n",
      " list(['AKR1C1', '', '10204', '2244', '338', '3606', '932'])\n",
      " list(['ALOX5', '', '10168', '26248', '3033', '4037', '4075', '445154', '4649', '5281040', '60490'])\n",
      " list(['ATP1A1', '', '2431', '2724385', '2749', '3019', '3278', '33887', '3647', '439501', '5560'])\n",
      " list(['ATP4A', '', '3883', '4594', '4679', '5029', '9568614'])\n",
      " list(['BCHE', '', '1935', '3105', '3202', '4991', '5966', '77991', '9651'])\n",
      " list(['BCL2', '', '24978538', '3052776', '36314', '3672', '39912', '49846579'])\n",
      " list(['BRAF', '', '11167602', '11656518', '216239', '24180719', '42611257', '44462760'])\n",
      " list(['CA1', '', '1986', '2162', '2315', '2343', '2720', '2910', '3019', '3038', '3639', '3647', '4100', '4107', '5281855', '5284549', '5284627', '5560', '5734', '68844'])\n",
      " list(['CA12', '', '1986', '2343', '3639', '3647', '5281855', '5734'])\n",
      " list(['CA2', '', '1176', '119607', '169682', '1986', '2315', '2343', '2662', '2720', '2910', '3019', '3038', '3440', '3639', '3647', '4100', '5281855', '5284549', '5284627', '5355', '5560', '5734', '68844'])\n",
      " list(['CA3', '', '119607', '1986', '2662', '3038', '4100', '5281855', '5284549', '5284627', '5355', '5734', '68844'])\n",
      " list(['CA4', '', '1986', '2315', '2343', '2720', '2910', '3038', '3639', '3647', '4100', '5281855', '5284549', '5284627', '5560', '5734', '68844'])\n",
      " list(['CA7', '', '1986', '3038', '4100', '5281855', '5734'])\n",
      " list(['CA9', '', '2343', '3639', '3647', '5281855', '5734'])\n",
      " list(['CACNA1B', '', '2162', '2520', '3446', '5284583', '5833'])\n",
      " list(['CACNA1C', '', '1547484', '208898', '2162', '2520', '3333', '4474', '4485', '4497', '4499', '4507', '5311217', '5573', '5833', '60663', '60753'])\n",
      " list(['CACNA1D', '', '1547484', '208898', '2162', '2520', '3333', '4474', '4485', '4497', '4499', '4507', '5311217', '5573', '5833', '60663'])\n",
      " list(['CACNA1F', '', '1547484', '208898', '2520', '4497', '5311217', '5573', '5833', '60663'])\n",
      " list(['CACNA1G', '', '1547484', '2520', '3291', '5573', '5576', '5734', '5833', '60663', '941361'])\n",
      " list(['CACNA1H', '', '1547484', '2157', '3333', '4485', '4507', '5573', '5734', '5833', '60663', '941361'])\n",
      " list(['CACNA1I', '', '1547484', '2520', '5573', '5734', '5833', '60663', '941361'])\n",
      " list(['CACNA1S', '', '1547484', '208898', '2162', '2520', '3333', '4485', '4497', '4499', '4507', '5311217', '5573', '5833', '60663'])\n",
      " list(['CACNA2D1', '', '2162', '3333', '3446', '4474', '4485', '4499', '4507', '5833', '60753'])\n",
      " list(['CACNA2D2', '', '2157', '3333', '3446', '4507', '5833'])\n",
      " list(['CACNB1', '', '208898', '2520', '4497', '5311217', '5573', '5833', '60663', '60753'])\n",
      " list(['CACNB2', '', '208898', '2162', '2520', '3333', '4474', '4485', '4497', '4499', '4507', '5311217', '5573', '5833', '60663'])\n",
      " list(['CACNB3', '', '208898', '2520', '4497', '5311217', '5573', '5833', '60663'])\n",
      " list(['CACNB4', '', '208898', '2520', '4497', '5311217', '5573', '5833', '60663'])\n",
      " list(['CACNG1', '', '3396', '39186', '4507', '5833', '60753'])\n",
      " list(['CALM1', '', '16362', '2726', '3025', '3333', '3372', '3955', '4474', '4485', '4748', '4927', '5312137', '5566', '5681', '896', '941361', '9801'])\n",
      " list(['CDK1', '', '11338033', '160355', '4592', '5287969', '5326739'])\n",
      " list(['CDK2', '', '11338033', '160355', '2608', '44259', '448991', '4592', '5287969', '5326739', '5328940', '6918852'])\n",
      " list(['CES1', '', '166558', '1935', '221493', '4912', '5284596', '5601'])\n",
      " list(['CFTR', '', '16220172', '16678941', '2471', '3488', '3672', '39562', '39912', '46199646', '47936'])\n",
      " list(['CHRM1', '', '11519070', '1201549', '146570', '154059', '154417', '1547484', '174174', '187', '2170', '2370', '2381', '23897', '2726', '2771', '2784', '2818', '2913', '2995', '3042', '3055', '3114', '3162', '3290', '3354', '3494', '3696', '3878', '4011', '4057', '4097', '4167', '4168', '4199', '43815', '44259', '443879', '444031', '4474', '4543', '4585', '4634', '4848', '4919', '4926', '4927', '4934', '5002', '5281881', '5284550', '5405', '5568', '5572', '5584', '5593', '5749', '5910', '60795', '60854', '667477', '6834', '72287'])\n",
      " list(['CHRM2', '', '11519070', '154059', '154417', '1547484', '174174', '187', '2170', '2370', '2818', '2913', '2995', '3042', '3055', '3100', '3114', '3290', '3354', '3494', '3696', '3878', '4011', '4167', '43815', '443879', '444031', '4474', '4543', '4585', '4634', '4919', '4926', '4927', '5002', '5284550', '5405', '5568', '5572', '5584', '5593', '5910', '60795', '60854', '667477', '6834', '72287'])\n",
      " list(['CHRM3', '', '11519070', '154059', '154417', '1547484', '174174', '187', '2170', '2370', '2726', '2818', '2913', '2995', '3055', '3114', '33741', '3494', '3696', '3792', '3878', '4011', '4057', '4167', '43815', '443879', '444031', '4474', '4543', '4585', '4634', '4919', '4926', '4927', '5002', '5284550', '5405', '5572', '5584', '5593', '5910', '60795', '60854', '667477', '6834', '72287'])\n",
      " list(['CHRM4', '', '11519070', '154059', '154417', '1547484', '174174', '187', '2170', '2370', '2818', '2995', '3696', '3878', '4011', '4167', '43815', '443879', '444031', '4474', '4543', '4585', '4919', '4926', '4927', '5002', '5284550', '5405', '5572', '5584', '5593', '5910', '60795', '60854', '667477', '6834', '72287'])\n",
      " list(['CHRM5', '', '11519070', '154059', '1547484', '174174', '2170', '2818', '2995', '3696', '3878', '4011', '4167', '43815', '443879', '444031', '4474', '4543', '4585', '4926', '4927', '5002', '5284550', '5405', '5572', '5584', '60795', '60854', '667477', '6834', '72287'])\n",
      " list(['CHRNA2', '', '2381', '39765', '4032', '4914', '5360696', '6000', '89594', '9651'])\n",
      " list(['CHRNA3', '', '10235', '26879', '444', '5310966', '5360696', '5850', '89594', '9651'])\n",
      " list(['CHRNA4', '', '10235', '13791', '174174', '2481', '2554', '4032', '4737', '4909', '5310966', '5360696', '5757', '89594', '9651'])\n",
      " list(['CHRNA7', '', '101616', '10235', '187', '2481', '4032', '4737', '4909', '5310966', '5360696', '6000', '89594', '9651'])\n",
      " list(['CHRNB2', '', '10235', '174174', '2554', '4032', '5310966', '5360696', '89594', '9651'])\n",
      " list(['CSNK2A1', '', '1694', '3220', '445154', '5280343', '5281855'])\n",
      " list(['CYP19A1', '', '2145', '2187', '3902', '456201', '5870', '60198', '66414', '89594', '932'])\n",
      " list(['DHX15', '', '2756', '3033637', '3036780', '3241', '4097', '4585', '4927', '5105', '5504', '667477', '774', '7741'])\n",
      " list(['DHX8', '', '10660', '108092', '115368', '1201549', '124087', '133017', '146570', '1547484', '1549000', '164522', '16960', '2170', '2200', '2247', '2267', '2366', '25295', '2564', '2678', '26987', '2710', '2725', '2726', '2771', '2818', '2913', '2995', '3036780', '3100', '3103', '3162', '3219', '3241', '3348', '3658', '3696', '3827', '3878', '3957', '4011', '4034', '4066', '4184', '4543', '4585', '4761', '4926', '4927', '5002', '5281071', '5282443', '5284550', '5311507', '5405', '5467', '5504', '5533', '5584', '5587', '60795', '60854', '667477', '6726', '6834', '71360', '72287', '774', '941361'])\n",
      " list(['DNMT1', '', '3366', '451668', '4913', '65064', '9444'])\n",
      " list(['DRD1', '', '119570', '1547484', '2170', '26934', '2726', '2818', '3036780', '31101', '3341', '3372', '3559', '3696', '3878', '4184', '4199', '4585', '4748', '47811', '4830', '4926', '5002', '5095', '5281881', '5311507', '5417', '5440', '5452', '54746', '5568', '5584', '59227', '6005', '6047', '6077', '60795', '60854', '681', '71360', '72287', '8226', '9429'])\n",
      " list(['DRD2', '', '115368', '119570', '11978813', '125564', '15387', '1547484', '16362', '2130', '213046', '2159', '2170', '2196', '23897', '2446', '2477', '2726', '2818', '2995', '3033769', '3036780', '31101', '3151', '3168', '3372', '3396', '3559', '3696', '3792', '3878', '4011', '4054', '4078', '4168', '4184', '4199', '43008', '4543', '4585', '4748', '47811', '4830', '4850', '4917', '4926', '4927', '5002', '5095', '5281881', '5311507', '5355', '5417', '5440', '54477', '5452', '5467', '54746', '5566', '5568', '5584', '59227', '6005', '60149', '6018', '6047', '6077', '60795', '60854', '667477', '681', '71360', '72287', '8969', '9429'])\n",
      " list(['DRD3', '', '119570', '125564', '16362', '2159', '2170', '2726', '2818', '3036780', '31101', '3151', '3559', '4184', '4585', '47811', '4830', '4850', '5002', '5095', '5355', '54477', '5467', '54746', '59227', '6005', '6047', '60795', '60854', '681', '71360', '72287', '8969'])\n",
      " list(['DRD4', '', '115368', '119570', '2170', '2726', '2818', '3036780', '31101', '4585', '47811', '4830', '4926', '5002', '5095', '5440', '54477', '54746', '59227', '6005', '6047', '60795', '60854', '681', '71360', '72287'])\n",
      " list(['DRD5', '', '119570', '1547484', '2726', '31101', '3341', '3696', '3878', '4184', '4585', '47811', '5002', '5095', '5311507', '54746', '5584', '59227', '6005', '6047', '60795', '60854', '681', '72287'])\n",
      " list(['EDNRA', '', '104865', '159594', '16004692', '2244', '6918493'])\n",
      " list(['EGFR', '', '123631', '156414', '3081361', '3676', '42642648', '5287969', '6445562', '71496458', '9915743'])\n",
      " list(['ESR1', '', '10286159', '104741', '11289', '13109', '13791', '154257', '223368', '2733526', '27812', '28417', '3001028', '3005573', '3314', '3606', '4211', '444008', '445154', '448537', '4632', '4764', '5035', '5280343', '5280961', '5284596', '5756', '5757', '5870', '5991', '5994', '6010', '6279', '6291', '667476', '896', '932'])\n",
      " list(['ESR2', '', '10286159', '114829', '13791', '154257', '2733526', '3001028', '3314', '448537', '4632', '5035', '5280343', '5280961', '5756', '5757', '5870', '91469', '932'])\n",
      " list(['ESRRG', '', '13791', '221493', '2733526', '448537', '5591', '5757', '6623'])\n",
      " list(['F10', '', '10182969', '10275777', '4055', '4413', '5496659', '9875401'])\n",
      " list(['F2', '', '3447', '4055', '4413', '5361', '92722'])\n",
      " list(['FLT1', '', '10113978', '11167602', '11485656', '11973736', '151194', '216239', '5329102', '6450551', '9823820', '9868037'])\n",
      " list(['FLT3', '', '11282283', '11485656', '126565', '216239', '24826799', '24889392', '3038522', '5329102', '9829523'])\n",
      " list(['FLT4', '', '10113978', '11167602', '11485656', '11973736', '151194', '216239', '5329102', '6450551', '9823820'])\n",
      " list(['GABRA1', '', '10783', '2118', '2170', '2481', '24872560', '2576', '2712', '2802', '3016', '3032285', '3307', '3373', '3878', '3958', '4192', '4506', '4585', '4737', '4909', '4943', '5284627', '5311454', '5391', '5719', '5732', '5735', '667484', '71158'])\n",
      " list(['GABRA2', '', '2118', '2170', '2481', '24872560', '2712', '2802', '3016', '3307', '3373', '3878', '3958', '4192', '4506', '4585', '4737', '4909', '4943', '5284627', '5311454', '5391', '5732', '5735', '667484', '71158'])\n",
      " list(['GABRA3', '', '2118', '2170', '2481', '24872560', '2712', '2802', '3016', '3307', '3373', '3878', '3958', '4192', '4506', '4585', '4737', '4909', '4943', '5284627', '5311454', '5391', '5732', '5735', '667484', '71158'])\n",
      " list(['GABRA4', '', '2118', '2170', '2481', '24872560', '2712', '2802', '3016', '3373', '3878', '3958', '4192', '4506', '4585', '4737', '4909', '4943', '5284627', '5311454', '5391', '667484', '71158'])\n",
      " list(['GABRA5', '', '2118', '2170', '2481', '24872560', '2712', '2802', '3016', '3373', '3878', '3958', '4192', '4506', '4585', '4737', '4909', '4943', '5284627', '5311454', '5391', '5735', '667484', '71158'])\n",
      " list(['GABRA6', '', '2118', '2170', '2481', '24872560', '2712', '2802', '3016', '3373', '3878', '3958', '4192', '4506', '4585', '4737', '4909', '4943', '5284627', '5311454', '5391', '667484', '71158'])\n",
      " list(['GABRB1', '', '2118', '2170', '2481', '24872560', '2712', '2802', '3016', '3373', '3878', '3958', '4192', '4506', '4585', '4737', '4909', '4943', '5284627', '5311454', '5391', '667484', '71158'])\n",
      " list(['GABRB2', '', '2118', '2170', '2481', '24872560', '2576', '2712', '2802', '3016', '3373', '3878', '3958', '4192', '4506', '4585', '4737', '4909', '4943', '5284627', '5311454', '5391', '667484', '71158'])\n",
      " list(['GABRB3', '', '2118', '2170', '2481', '24872560', '2712', '2802', '3016', '3373', '3878', '3958', '4192', '4506', '4585', '4737', '4909', '4943', '5284627', '5311454', '5391', '5732', '667484', '71158'])\n",
      " list(['GABRD', '', '2118', '2170', '2481', '24872560', '2712', '2802', '3016', '3373', '3878', '3958', '4192', '4506', '4585', '4737', '4909', '4943', '5284627', '5311454', '5391', '667484', '71158'])\n",
      " list(['GABRE', '', '2118', '2170', '2481', '24872560', '2712', '2802', '3016', '3373', '3878', '3958', '4192', '4506', '4585', '4737', '4909', '4943', '5284627', '5311454', '5391', '667484', '71158'])\n",
      " list(['GABRG1', '', '2118', '2170', '2481', '24872560', '2712', '2802', '3016', '3373', '3878', '3958', '4192', '4506', '4585', '4737', '4909', '4943', '5284627', '5311454', '5391', '667484', '71158'])\n",
      " list(['GABRG2', '', '2118', '2170', '2481', '24872560', '2576', '2712', '2802', '3016', '3307', '3373', '3878', '3958', '4192', '4506', '4585', '4737', '4909', '4943', '5284627', '5311454', '5391', '5732', '667484', '71158'])\n",
      " list(['GABRG3', '', '2118', '2170', '2481', '24872560', '2712', '2802', '3016', '3373', '3878', '3958', '4192', '4506', '4585', '4737', '4909', '4943', '5284627', '5311454', '5391', '667484', '71158'])\n",
      " list(['GABRP', '', '2118', '2170', '2481', '24872560', '2712', '2802', '3016', '3373', '3878', '3958', '4192', '4506', '4585', '4737', '4909', '4943', '5284627', '5311454', '5391', '667484', '71158'])\n",
      " list(['GABRQ', '', '2118', '2170', '2481', '24872560', '2712', '2802', '3016', '3373', '3878', '3958', '4192', '4506', '4585', '4737', '4909', '4943', '5284627', '5311454', '5391', '667484', '71158'])\n",
      " list(['GPRIN1', '', '12035', '1779', '3446', '3689', '4054', '4737', '54841', '65833', '71077', '71158'])\n",
      " list(['GRIN2A', '', '12035', '3331', '3446', '4054', '4737', '54841', '65833', '71158'])\n",
      " list(['GRIN2B', '', '12035', '3331', '3446', '3559', '3689', '4054', '4737', '54841', '65833', '71158'])\n",
      " list(['GRIN2C', '', '3446', '4737', '54841', '65833', '71158'])\n",
      " list(['GRIN2D', '', '12035', '3446', '4737', '54841', '65833', '71158'])\n",
      " list(['GRIN3A', '', '12035', '2130', '3290', '3331', '33741', '3446', '4054', '4737', '4914', '5360696', '54841', '65833', '71158'])\n",
      " list(['GRIN3B', '', '3446', '4737', '54841', '65833', '71158'])\n",
      " list(['GSK3B', '', '10172943', '11175137', '44259', '448014', '5287844', '5326739'])\n",
      " list(['GSTP1', '', '1983', '222528', '2818', '3278', '5329', '5591', '753', '969516'])\n",
      " list(['HDAC1', '', '107970', '11749858', '49855250', '5311', '5352062', '6918638', '6918837', '9865515'])\n",
      " list(['HDAC2', '', '2153', '3121', '49855250', '5311', '53232', '5352062', '6918638', '6918837', '9865515'])\n",
      " list(['HDAC3', '', '49855250', '5311', '6918638', '6918837', '9865515'])\n",
      " list(['HDAC6', '', '49855250', '5311', '5352062', '6918638', '6918837'])\n",
      " list(['HDAC8', '', '10379137', '444732', '5311', '6918638', '6918837'])\n",
      " list(['HMGCR', '', '19001', '446155', '446156', '446157', '5282452', '53232', '54454', '54687', '60823'])\n",
      " list(['HRH4', '', '2170', '2726', '2818', '4184', '4585', '667477', '774'])\n",
      " list(['HSP90AA1', '', '5280343', '5288382', '5288674', '6323490', '6505803'])\n",
      " list(['HTR1A', '', '115368', '119570', '11978813', '128919', '2119', '213046', '2170', '23897', '2477', '2726', '2818', '2995', '3036780', '31101', '3678', '3696', '4184', '44112', '4449', '4543', '4585', '4595', '47811', '4828', '4946', '5002', '5095', '5205', '5284550', '5358', '5467', '54746', '5533', '5584', '59227', '6005', '6077', '60795', '60854', '60857', '667477', '681', '68802', '68870', '6918314', '71360', '8969', '9429', '9681', '9966051'])\n",
      " list(['HTR1B', '', '10531', '119570', '123606', '2170', '2818', '3036780', '31101', '44112', '4585', '4595', '47811', '4828', '4946', '5002', '5078', '5095', '5205', '5358', '5467', '54746', '6005', '60795', '60854', '60857', '8969', '9681', '9966051'])\n",
      " list(['HTR1D', '', '10531', '119570', '123606', '2818', '31101', '4585', '47811', '5002', '5078', '5095', '5205', '5358', '5467', '54746', '5584', '6005', '60795', '60854', '60857', '8969'])\n",
      " list(['HTR1E', '', '2818', '4585', '5002', '5205', '5467', '60795', '60854', '9681'])\n",
      " list(['HTR1F', '', '4184', '5078', '5205', '5358', '5467', '60857', '9681'])\n",
      " list(['HTR2A', '', '115368', '119570', '11978813', '125564', '213046', '2159', '2170', '2196', '23897', '2726', '2769', '2818', '2895', '2913', '2995', '3036780', '31101', '3152', '3241', '3372', '3396', '3559', '3696', '3822', '3878', '4011', '4078', '4184', '4199', '43815', '4449', '4543', '4585', '47811', '4830', '4926', '4927', '5002', '5074', '5095', '5205', '5281881', '5284550', '5311507', '54477', '5452', '5467', '54746', '5533', '5584', '6005', '60149', '6077', '60795', '60854', '667477', '71360', '72287', '73333', '8969', '9429', '9681'])\n",
      " list(['HTR2B', '', '10531', '119570', '2170', '2726', '3036780', '31101', '4184', '4199', '4585', '47811', '4830', '5095', '5205', '5467', '54746', '5568', '6005', '667477', '8226', '8969', '9681'])\n",
      " list(['HTR2C', '', '119570', '1355', '2170', '2726', '2771', '2818', '2913', '2995', '3036780', '31101', '3372', '33741', '3386', '3696', '4011', '4184', '4199', '4449', '4543', '4585', '47811', '4926', '5002', '5095', '5205', '5467', '54746', '5533', '5584', '6005', '60149', '60795', '60854', '66265', '667477', '72287', '82148', '8969', '9681'])\n",
      " list(['HTR3A', '', '2099', '2170', '2769', '2818', '3878', '4054', '4168', '4585', '4595', '4914', '5002', '5205', '5284566', '5467', '5584', '6000', '60795', '60854', '6337614', '656665', '681', '9966051'])\n",
      " list(['HTR4', '', '2769', '4168', '4595', '5205', '5467'])\n",
      " list(['HTR6', '', '2170', '2726', '2818', '3036780', '3696', '4184', '4543', '4585', '5002', '5205', '5467', '60149', '60795', '60854', '667477', '71360'])\n",
      " list(['HTR7', '', '213046', '2159', '2170', '2726', '2818', '2913', '3036780', '31101', '3241', '3696', '4011', '4184', '4585', '5002', '5205', '5467', '54746', '60795', '60854', '6604889', '681', '71360', '9681', '9966051'])\n",
      " list(['KCNH2', '', '123618', '12560', '16362', '208898', '2092', '2157', '2179', '2247', '2520', '2585', '2726', '2733526', '2764', '2769', '3114', '3157', '3356', '3386', '3696', '37393', '3957', '4189', '441074', '4449', '456201', '4746', '4893', '4913', '4932', '5253', '5405', '5452', '60149', '60753', '667477', '71329', '84029', '9930049'])\n",
      " list(['KCNJ1', '', '1989', '3476', '4201', '5505', '8969'])\n",
      " list(['KCNJ11', '', '2520', '3019', '3032285', '3033825', '3476', '3488', '5503', '60753', '8969'])\n",
      " list(['KCNJ8', '', '3032285', '3033825', '3488', '8249', '8969', '91610'])\n",
      " list(['KCNMA1', '', '2315', '2882', '2993', '3019', '3639', '3647', '4189', '4914', '5573'])\n",
      " list(['KDR', '', '10113978', '11167602', '11485656', '11656518', '11973736', '151194', '216239', '24826799', '25102847', '42642645', '5329102', '6450551', '9823820', '9829523', '9933475'])\n",
      " list(['KIT', '', '10113978', '11167602', '11282283', '11485656', '216239', '24826799', '3062316', '5291', '5329102', '644241', '9823820', '9829523', '9868037'])\n",
      " list(['MAOA', '', '19493', '26757', '3675', '4199', '4380', '4472', '4528', '4688', '4914', '4915', '5280953', '5734', '68802'])\n",
      " list(['MAOB', '', '131682', '19493', '26757', '3052776', '3675', '445070', '4472', '4528', '4688', '4829', '4914', '4915', '5734'])\n",
      " list(['MAPK1', '', '11719003', '160355', '3779', '448991', '4592'])\n",
      " list(['MET', '', '11282283', '11494412', '11626560', '24779724', '25102847'])\n",
      " list(['NANOS2', '', '123831', '1649', '1893', '2146', '4189', '5743', '9458', '9797857'])\n",
      " list(['NCOA2', '', '13791', '447912', '448537', '5280961', '5353760', '5757', '644213'])\n",
      " list(['NOS3', '', '11561674', '123831', '1649', '1893', '4189', '445319'])\n",
      " list(['NQO2', '', '115348', '4055', '445154', '4908', '5280343', '896'])\n",
      " list(['NR1H4', '', '10133', '221493', '222528', '31401', '444899', '445070', '5280934', '6675'])\n",
      " list(['NR1I2', '', '10133', '13791', '1775', '2554', '2733526', '2802', '2812', '2907', '3198', '3292', '3339', '3397', '3606', '36314', '3690', '39042', '4189', '445154', '446313', '447912', '4485', '448537', '456201', '4737', '4764', '5280343', '5280961', '5342', '54678486', '55245', '5564', '5743', '5757', '5833', '5991', '5994', '638024', '6451164', '8955'])\n",
      " list(['NR1I3', '', '101989', '2812', '3162', '3606', '3955', '4034', '445154', '456201', '4761', '4764', '5564'])\n",
      " list(['NR3C1', '', '11683', '15209', '16490', '21700', '247839', '27812', '31307', '32798', '444036', '5281004', '5311067', '5311412', '55245', '5743', '5745', '5754', '5833', '5994', '6215', '6714002', '6741', '6918155', '82153', '9642', '9782', '9878'])\n",
      " list(['NR3C2', '', '3333', '443872', '444036', '4497', '5753', '5833', '5952', '5994'])\n",
      " list(['OPRD1', '', '13505', '33741', '3955', '41693', '5284596', '5311304', '5360515', '5360696', '5361092', '5488548'])\n",
      " list(['OPRK1', '', '33741', '3878', '3955', '41693', '4184', '5284596', '5311304', '5360515', '5360696', '5361092', '5488548', '5994'])\n",
      " list(['OPRM1', '', '13505', '33741', '3955', '41693', '4595', '5284596', '5311304', '5360515', '5360696', '5361092', '5488548', '5573'])\n",
      " list(['ORM1', '', '2179', '2726', '3108', '3676', '5426', '5994'])\n",
      " list(['ORM2', '', '2726', '3114', '3676', '3696', '5426'])\n",
      " list(['PARP1', '', '11960529', '1720', '2153', '63306', '9796068', '9931954'])\n",
      " list(['PDE10A', '', '11581936', '2519', '3108', '4680', '5531', '9458'])\n",
      " list(['PDE3A', '', '2153', '2182', '2519', '2754', '3033825', '3671', '3698', '4197', '5531'])\n",
      " list(['PDE4A', '', '11561674', '154575', '2153', '2519', '3108', '3182', '3671', '449193', '4740', '4938', '5311181', '5531'])\n",
      " list(['PDE4B', '', '11561674', '151170', '154575', '158758', '2153', '2519', '3182', '3671', '3698', '448055', '449193', '4680', '4740', '5092', '5311181', '5429', '5531', '6083'])\n",
      " list(['PDE4C', '', '154575', '2519', '3182', '3671', '449193', '5311181', '5531'])\n",
      " list(['PDE4D', '', '11561674', '151170', '154575', '158758', '2519', '3182', '3671', '448055', '449193', '5092', '5311181', '5531', '5723', '6083'])\n",
      " list(['PDE5A', '', '2153', '2519', '3108', '4740', '5212', '5531', '9869929'])\n",
      " list(['PDGFRA', '', '10113978', '11167602', '11282283', '24826799', '5291', '5329102', '9829523'])\n",
      " list(['PDGFRB', '', '10113978', '11167602', '216239', '3062316', '5291', '5329102', '9829523'])\n",
      " list(['PGR', '', '11683', '13109', '27812', '28417', '4211', '4369524', '444036', '4632', '55245', '5833', '5994', '6230', '6279', '68861', '9051'])\n",
      " list(['PIK3CG', '', '3973', '44259', '49867926', '5280343', '5281672', '5287855', '5289247', '6852167'])\n",
      " list(['PIM1', '', '10109823', '3973', '44259', '5280343', '6083'])\n",
      " list(['PKIA', '', '10172943', '11175137', '3064778', '3540', '3542', '3547', '449241'])\n",
      " list(['PLA2G2E', '', '180559', '3744', '4495', '4641', '4649', '753'])\n",
      " list(['PPARA', '', '208901', '2763', '2787', '2796', '3121', '3339', '3342', '3371', '3672', '3715', '39042', '444899', '445154', '445580', '446284', '4829', '5280934', '5591', '77999', '9803963'])\n",
      " list(['PPARD', '', '1548887', '2787', '3121', '3339', '39042', '446284', '4829', '5280934', '5591', '6603901', '6918140', '753', '77999', '9803963'])\n",
      " list(['PPARG', '', '121891', '208901', '2157', '2750', '2787', '3121', '3339', '3342', '3371', '3478', '3672', '3715', '39042', '39912', '4075', '445154', '445580', '446284', '4829', '5280934', '5564', '5591', '644213', '6443013', '65981', '65999', '77999', '969516'])\n",
      " list(['PRKACA', '', '10172943', '11175137', '3064778', '3540', '3542', '3547', '449241', '5281855'])\n",
      " list(['PTGDR2', '', '123879', '1548887', '3715', '5280360', '5280363', '5280723', '5311181'])\n",
      " list(['PTGS1', '', '119032', '151075', '1548887', '156391', '1981', '1983', '2206', '2244', '2581', '3033', '3059', '3308', '3342', '3371', '338', '3672', '3715', '3825', '3826', '3965', '39912', '4037', '4044', '4075', '4201', '4409', '444899', '445154', '446284', '4488', '4614', '4754', '4781', '48229', '5161', '5280581', '5359', '5468', '5509', '60726', '610479', '667550', '71771', '9458'])\n",
      " list(['PTGS2', '', '119607', '123619', '134780', '151075', '1548887', '156391', '1981', '1983', '216326', '2206', '2244', '2581', '2662', '3033', '3059', '3308', '3342', '3371', '338', '3672', '3715', '3825', '3826', '3965', '39912', '4037', '4044', '4075', '4409', '445154', '446284', '4488', '4495', '4614', '4649', '4781', '48229', '5090', '5161', '5280581', '5359', '5426', '5468', '5509', '60726', '610479', '667550', '71771'])\n",
      " list(['RARA', '', '108143', '444795', '449171', '5282379', '5284513', '5381', '60164'])\n",
      " list(['RARB', '', '108143', '444795', '449171', '5284513', '5381', '60164'])\n",
      " list(['RARG', '', '444795', '449171', '5284513', '5381', '60164'])\n",
      " list(['RET', '', '11167602', '11282283', '1400', '216239', '24826799', '25102847', '3081361'])\n",
      " list(['RRM1', '', '119182', '20279', '3657', '60750', '657237', '68791'])\n",
      " list(['RXRA', '', '3308', '39042', '444795', '444899', '445580', '449171', '5280934', '5284513', '60164', '644213', '77999', '82146'])\n",
      " list(['RXRB', '', '39042', '444795', '445580', '447912', '449171', '5284513', '5353760', '5381', '60164', '77999', '82146'])\n",
      " list(['RXRG', '', '39042', '444795', '445580', '449171', '5284513', '60164', '77999', '82146'])\n",
      " list(['SCN10A', '', '10770', '175805', '219078', '2337', '2474', '3025', '3121', '3180', '3676', '4062', '4633', '4914', '4935'])\n",
      " list(['SCN1A', '', '1775', '208898', '3121', '4506', '4753', '4756', '5284627', '5734'])\n",
      " list(['SCN2A', '', '28693', '3121', '3878', '4943', '5734'])\n",
      " list(['SCN4A', '', '3033', '3121', '3356', '3676', '4684', '4943', '5734'])\n",
      " list(['SCN5A', '', '10770', '1775', '2520', '2554', '3025', '3114', '3121', '3292', '3356', '34312', '34633', '3676', '38945', '4178', '441074', '4906', '4913', '4932', '5070', '56959', '5734', '7699', '9930049'])\n",
      " list(['SCN9A', '', '129228', '219078', '3121', '3676', '56959', '5734'])\n",
      " list(['SHBG', '', '13109', '2733526', '27812', '3005573', '448537', '4764', '5280343', '5280961', '5756', '5833', '5870', '5991', '5994', '667476', '72281', '91469', '932'])\n",
      " list(['SIGMAR1', '', '275196', '4543', '5360696', '54477', '68617'])\n",
      " list(['SLC12A1', '', '2471', '2732', '3278', '3440', '3647', '41781', '4849', '5560'])\n",
      " list(['SLC12A3', '', '2315', '2343', '2720', '3019', '3639', '4170'])\n",
      " list(['SLC15A1', '', '243', '3672', '5904', '6196', '6249', '6869'])\n",
      " list(['SLC18A2', '', '22297', '3559', '4020', '4528', '5770', '6018', '681', '774'])\n",
      " list(['SLC6A2', '', '125017', '146570', '2170', '2725', '2966', '2995', '33741', '34870', '3518', '3696', '38521', '4011', '4020', '4184', '43815', '444', '4449', '4528', '4543', '4976', '5210', '5284550', '5360696', '54841', '5584', '5656', '5666', '60835', '65833', '65856', '667477', '681', '7028', '7029'])\n",
      " list(['SLC6A3', '', '1201549', '146570', '2170', '2725', '3103', '3455', '3696', '4020', '4184', '4236', '444', '4449', '4528', '4914', '5210', '54841', '5584', '5656', '60835', '681', '68617', '7028', '7029', '9690109'])\n",
      " list(['SLC6A4', '', '125017', '146570', '2170', '2520', '2725', '2771', '2995', '33741', '3386', '34870', '3696', '4020', '4184', '4199', '43815', '4449', '4500', '4528', '4543', '4976', '5210', '5284550', '5360696', '54841', '5533', '5584', '5656', '60835', '65833', '66265', '667477', '681', '68617', '68870', '7028', '9966051'])\n",
      " list(['SRC', '', '23635314', '24826799', '3062316', '456214', '4878', '5328940'])\n",
      " list(['THPO', '', '1349907', '31072', '5054', '5564', '657298'])\n",
      " list(['THRB', '', '2157', '5803', '5819', '5920', '9862248'])\n",
      " list(['TNF', '', '10288191', '10341154', '11561674', '134780', '2719', '2783', '3698', '4887', '5426', '5816', '7028', '9949641'])\n",
      " list(['TOP2A', '', '10607', '149096', '152946', '2179', '2764', '30323', '31703', '3229', '36462', '3948', '41867', '4212', '42890', '4539', '454216', '457193', '4583', '50515', '51081', '5280961', '60464', '62959', '71384'])\n",
      " list(['TOP2B', '', '30323', '36462', '457193', '50515', '71384'])\n",
      " list(['TRPV1', '', '1548942', '1548943', '1983', '446284', '5280934'])\n",
      " list(['TUBA1A', '', '11351021', '13342', '16741', '2082', '4030', '448013'])\n",
      " list(['TUBB', '', '10607', '11351021', '13342', '448013', '5311497', '6167'])\n",
      " list(['TUBB1', '', '11351021', '16741', '36314', '40839', '448013', '6167'])\n",
      " list(['TUBB4B', '', '11351021', '16741', '2082', '4030', '448013', '4622'])\n",
      " list(['TYMS', '', '104758', '148121', '3385', '5578', '60750', '60953', '6256'])\n",
      " list(['VDR', '', '5280453', '5281104', '5283731', '5288149', '5288783', '969516'])\n",
      " list(['VKORC1', '', '4055', '4760', '54676038', '54676537', '54678486'])]\n"
     ]
    }
   ],
   "source": [
    "print(dsl)"
   ]
  },
  {
   "cell_type": "code",
   "execution_count": 58,
   "metadata": {},
   "outputs": [
    {
     "data": {
      "text/plain": [
       "75"
      ]
     },
     "execution_count": 58,
     "metadata": {},
     "output_type": "execute_result"
    }
   ],
   "source": [
    "len(max(dsl, key=len))"
   ]
  },
  {
   "cell_type": "code",
   "execution_count": 59,
   "metadata": {},
   "outputs": [],
   "source": [
    "filename = 'Output/DrugBank_Targets_DrugSetLibrary_%s.gmt'% str(datetime.date.today())[0:7].replace('-', '_')\n",
    "with open(filename,'w',encoding='utf-8') as f:\n",
    "    for row in dsl:\n",
    "        np.savetxt(f, [row], fmt = '%s',delimiter = '\\t')   "
   ]
  },
  {
   "cell_type": "code",
   "execution_count": null,
   "metadata": {},
   "outputs": [],
   "source": []
  }
 ],
 "metadata": {
  "kernelspec": {
   "display_name": "Python 3",
   "language": "python",
   "name": "python3"
  },
  "language_info": {
   "codemirror_mode": {
    "name": "ipython",
    "version": 3
   },
   "file_extension": ".py",
   "mimetype": "text/x-python",
   "name": "python",
   "nbconvert_exporter": "python",
   "pygments_lexer": "ipython3",
   "version": "3.6.5"
  }
 },
 "nbformat": 4,
 "nbformat_minor": 2
}
