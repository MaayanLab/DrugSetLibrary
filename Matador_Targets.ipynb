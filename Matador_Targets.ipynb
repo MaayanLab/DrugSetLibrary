{
 "cells": [
  {
   "cell_type": "markdown",
   "metadata": {},
   "source": [
    "## Import Libraries"
   ]
  },
  {
   "cell_type": "code",
   "execution_count": 1,
   "metadata": {},
   "outputs": [],
   "source": [
    "import numpy as np\n",
    "import pandas as pd\n",
    "from scipy.spatial.distance import squareform, pdist,jaccard\n",
    "import sys,  datetime, os\n",
    "import requests\n",
    "import chardet"
   ]
  },
  {
   "cell_type": "markdown",
   "metadata": {},
   "source": [
    "## Load Data"
   ]
  },
  {
   "cell_type": "markdown",
   "metadata": {},
   "source": [
    "#### Load Matador file"
   ]
  },
  {
   "cell_type": "code",
   "execution_count": 8,
   "metadata": {},
   "outputs": [],
   "source": [
    "raw_df = pd.read_table('Input/matador.tsv')"
   ]
  },
  {
   "cell_type": "code",
   "execution_count": 9,
   "metadata": {},
   "outputs": [
    {
     "data": {
      "text/html": [
       "<div>\n",
       "<style scoped>\n",
       "    .dataframe tbody tr th:only-of-type {\n",
       "        vertical-align: middle;\n",
       "    }\n",
       "\n",
       "    .dataframe tbody tr th {\n",
       "        vertical-align: top;\n",
       "    }\n",
       "\n",
       "    .dataframe thead th {\n",
       "        text-align: right;\n",
       "    }\n",
       "</style>\n",
       "<table border=\"1\" class=\"dataframe\">\n",
       "  <thead>\n",
       "    <tr style=\"text-align: right;\">\n",
       "      <th></th>\n",
       "      <th>chemical_id</th>\n",
       "      <th>chemical_name</th>\n",
       "      <th>atc</th>\n",
       "      <th>protein_id</th>\n",
       "      <th>protein_name</th>\n",
       "      <th>mesh_id</th>\n",
       "      <th>uniprot_id</th>\n",
       "      <th>protein_score</th>\n",
       "      <th>protein_annotation</th>\n",
       "      <th>mesh_score</th>\n",
       "      <th>mesh_annotation</th>\n",
       "      <th>matador_score</th>\n",
       "      <th>matador_annotation</th>\n",
       "    </tr>\n",
       "  </thead>\n",
       "  <tbody>\n",
       "    <tr>\n",
       "      <th>0</th>\n",
       "      <td>11954269</td>\n",
       "      <td>everolimus</td>\n",
       "      <td>L04AA18</td>\n",
       "      <td>9606.ENSP00000354587</td>\n",
       "      <td>FRAP1</td>\n",
       "      <td>NaN</td>\n",
       "      <td>Q9Y4I3 Q96QW8_HUMAN Q96QG3 Q6LE87 Q5TER3_HUMAN...</td>\n",
       "      <td>950</td>\n",
       "      <td>DIRECT</td>\n",
       "      <td>0</td>\n",
       "      <td>NaN</td>\n",
       "      <td>950</td>\n",
       "      <td>DIRECT</td>\n",
       "    </tr>\n",
       "    <tr>\n",
       "      <th>1</th>\n",
       "      <td>11954225</td>\n",
       "      <td>gold sodium thiomalate</td>\n",
       "      <td>M01CB01</td>\n",
       "      <td>9606.ENSP00000255040</td>\n",
       "      <td>APCS</td>\n",
       "      <td>D000209</td>\n",
       "      <td>P02743</td>\n",
       "      <td>0</td>\n",
       "      <td>NaN</td>\n",
       "      <td>207</td>\n",
       "      <td>INDIRECT</td>\n",
       "      <td>207</td>\n",
       "      <td>INDIRECT</td>\n",
       "    </tr>\n",
       "    <tr>\n",
       "      <th>2</th>\n",
       "      <td>11954225</td>\n",
       "      <td>gold sodium thiomalate</td>\n",
       "      <td>M01CB01</td>\n",
       "      <td>9606.ENSP00000273550</td>\n",
       "      <td>FTH1</td>\n",
       "      <td>D000209</td>\n",
       "      <td>Q3SWW1 P02794 Q6NZ44_HUMAN</td>\n",
       "      <td>0</td>\n",
       "      <td>NaN</td>\n",
       "      <td>207</td>\n",
       "      <td>INDIRECT</td>\n",
       "      <td>207</td>\n",
       "      <td>INDIRECT</td>\n",
       "    </tr>\n",
       "    <tr>\n",
       "      <th>3</th>\n",
       "      <td>11954225</td>\n",
       "      <td>gold sodium thiomalate</td>\n",
       "      <td>M01CB01</td>\n",
       "      <td>9606.ENSP00000336829</td>\n",
       "      <td>FGG</td>\n",
       "      <td>D000209</td>\n",
       "      <td>P04470 P04469 P02679 Q9UC63_HUMAN Q9UC62_HUMAN...</td>\n",
       "      <td>0</td>\n",
       "      <td>NaN</td>\n",
       "      <td>207</td>\n",
       "      <td>INDIRECT</td>\n",
       "      <td>207</td>\n",
       "      <td>INDIRECT</td>\n",
       "    </tr>\n",
       "    <tr>\n",
       "      <th>4</th>\n",
       "      <td>11954225</td>\n",
       "      <td>gold sodium thiomalate</td>\n",
       "      <td>M01CB01</td>\n",
       "      <td>9606.ENSP00000348068</td>\n",
       "      <td>SERPINA1</td>\n",
       "      <td>D000209</td>\n",
       "      <td>P01009 Q9UCM3_HUMAN Q9UCE6_HUMAN Q9P1P0 Q96ES1...</td>\n",
       "      <td>0</td>\n",
       "      <td>NaN</td>\n",
       "      <td>207</td>\n",
       "      <td>INDIRECT</td>\n",
       "      <td>207</td>\n",
       "      <td>INDIRECT</td>\n",
       "    </tr>\n",
       "  </tbody>\n",
       "</table>\n",
       "</div>"
      ],
      "text/plain": [
       "   chemical_id           chemical_name      atc            protein_id  \\\n",
       "0     11954269              everolimus  L04AA18  9606.ENSP00000354587   \n",
       "1     11954225  gold sodium thiomalate  M01CB01  9606.ENSP00000255040   \n",
       "2     11954225  gold sodium thiomalate  M01CB01  9606.ENSP00000273550   \n",
       "3     11954225  gold sodium thiomalate  M01CB01  9606.ENSP00000336829   \n",
       "4     11954225  gold sodium thiomalate  M01CB01  9606.ENSP00000348068   \n",
       "\n",
       "  protein_name  mesh_id                                         uniprot_id  \\\n",
       "0        FRAP1      NaN  Q9Y4I3 Q96QW8_HUMAN Q96QG3 Q6LE87 Q5TER3_HUMAN...   \n",
       "1         APCS  D000209                                             P02743   \n",
       "2         FTH1  D000209                         Q3SWW1 P02794 Q6NZ44_HUMAN   \n",
       "3          FGG  D000209  P04470 P04469 P02679 Q9UC63_HUMAN Q9UC62_HUMAN...   \n",
       "4     SERPINA1  D000209  P01009 Q9UCM3_HUMAN Q9UCE6_HUMAN Q9P1P0 Q96ES1...   \n",
       "\n",
       "   protein_score protein_annotation  mesh_score mesh_annotation  \\\n",
       "0            950             DIRECT           0             NaN   \n",
       "1              0                NaN         207        INDIRECT   \n",
       "2              0                NaN         207        INDIRECT   \n",
       "3              0                NaN         207        INDIRECT   \n",
       "4              0                NaN         207        INDIRECT   \n",
       "\n",
       "   matador_score matador_annotation  \n",
       "0            950             DIRECT  \n",
       "1            207           INDIRECT  \n",
       "2            207           INDIRECT  \n",
       "3            207           INDIRECT  \n",
       "4            207           INDIRECT  "
      ]
     },
     "execution_count": 9,
     "metadata": {},
     "output_type": "execute_result"
    }
   ],
   "source": [
    "raw_df.head()"
   ]
  },
  {
   "cell_type": "markdown",
   "metadata": {},
   "source": [
    "#### Load Targets Mapping file"
   ]
  },
  {
   "cell_type": "code",
   "execution_count": 4,
   "metadata": {},
   "outputs": [],
   "source": [
    "target_update = pd.read_table('Input/mappingFile_2017.txt', names = ['Old Targets','Updated Targets'], engine='python')"
   ]
  },
  {
   "cell_type": "code",
   "execution_count": 5,
   "metadata": {},
   "outputs": [
    {
     "data": {
      "text/html": [
       "<div>\n",
       "<style scoped>\n",
       "    .dataframe tbody tr th:only-of-type {\n",
       "        vertical-align: middle;\n",
       "    }\n",
       "\n",
       "    .dataframe tbody tr th {\n",
       "        vertical-align: top;\n",
       "    }\n",
       "\n",
       "    .dataframe thead th {\n",
       "        text-align: right;\n",
       "    }\n",
       "</style>\n",
       "<table border=\"1\" class=\"dataframe\">\n",
       "  <thead>\n",
       "    <tr style=\"text-align: right;\">\n",
       "      <th></th>\n",
       "      <th>Old Targets</th>\n",
       "      <th>Updated Targets</th>\n",
       "    </tr>\n",
       "  </thead>\n",
       "  <tbody>\n",
       "    <tr>\n",
       "      <th>0</th>\n",
       "      <td>A1BG</td>\n",
       "      <td>A1BG</td>\n",
       "    </tr>\n",
       "    <tr>\n",
       "      <th>1</th>\n",
       "      <td>A1BG-AS1</td>\n",
       "      <td>A1BG-AS1</td>\n",
       "    </tr>\n",
       "    <tr>\n",
       "      <th>2</th>\n",
       "      <td>NCRNA00181</td>\n",
       "      <td>A1BG-AS1</td>\n",
       "    </tr>\n",
       "    <tr>\n",
       "      <th>3</th>\n",
       "      <td>A1BGAS</td>\n",
       "      <td>A1BG-AS1</td>\n",
       "    </tr>\n",
       "    <tr>\n",
       "      <th>4</th>\n",
       "      <td>A1BG-AS</td>\n",
       "      <td>A1BG-AS1</td>\n",
       "    </tr>\n",
       "  </tbody>\n",
       "</table>\n",
       "</div>"
      ],
      "text/plain": [
       "  Old Targets Updated Targets\n",
       "0        A1BG            A1BG\n",
       "1    A1BG-AS1        A1BG-AS1\n",
       "2  NCRNA00181        A1BG-AS1\n",
       "3      A1BGAS        A1BG-AS1\n",
       "4     A1BG-AS        A1BG-AS1"
      ]
     },
     "execution_count": 5,
     "metadata": {},
     "output_type": "execute_result"
    }
   ],
   "source": [
    "target_update.head()"
   ]
  },
  {
   "cell_type": "markdown",
   "metadata": {},
   "source": [
    "#### Load LINCS Small Molecules"
   ]
  },
  {
   "cell_type": "code",
   "execution_count": 6,
   "metadata": {},
   "outputs": [],
   "source": [
    "lincs = pd.read_csv('Input/LINCS_SmallMolecules.csv',encoding='ISO-8859-1')"
   ]
  },
  {
   "cell_type": "markdown",
   "metadata": {},
   "source": [
    "## Make DF of PCID and protein ID"
   ]
  },
  {
   "cell_type": "code",
   "execution_count": 10,
   "metadata": {},
   "outputs": [],
   "source": [
    "df = raw_df[['chemical_id','protein_id']]"
   ]
  },
  {
   "cell_type": "code",
   "execution_count": 11,
   "metadata": {},
   "outputs": [],
   "source": [
    "df = df.rename(index=str, columns = {'chemical_id':'PCID'})"
   ]
  },
  {
   "cell_type": "code",
   "execution_count": 12,
   "metadata": {},
   "outputs": [
    {
     "data": {
      "text/html": [
       "<div>\n",
       "<style scoped>\n",
       "    .dataframe tbody tr th:only-of-type {\n",
       "        vertical-align: middle;\n",
       "    }\n",
       "\n",
       "    .dataframe tbody tr th {\n",
       "        vertical-align: top;\n",
       "    }\n",
       "\n",
       "    .dataframe thead th {\n",
       "        text-align: right;\n",
       "    }\n",
       "</style>\n",
       "<table border=\"1\" class=\"dataframe\">\n",
       "  <thead>\n",
       "    <tr style=\"text-align: right;\">\n",
       "      <th></th>\n",
       "      <th>PCID</th>\n",
       "      <th>protein_id</th>\n",
       "    </tr>\n",
       "  </thead>\n",
       "  <tbody>\n",
       "    <tr>\n",
       "      <th>0</th>\n",
       "      <td>11954269</td>\n",
       "      <td>9606.ENSP00000354587</td>\n",
       "    </tr>\n",
       "    <tr>\n",
       "      <th>1</th>\n",
       "      <td>11954225</td>\n",
       "      <td>9606.ENSP00000255040</td>\n",
       "    </tr>\n",
       "    <tr>\n",
       "      <th>2</th>\n",
       "      <td>11954225</td>\n",
       "      <td>9606.ENSP00000273550</td>\n",
       "    </tr>\n",
       "    <tr>\n",
       "      <th>3</th>\n",
       "      <td>11954225</td>\n",
       "      <td>9606.ENSP00000336829</td>\n",
       "    </tr>\n",
       "    <tr>\n",
       "      <th>4</th>\n",
       "      <td>11954225</td>\n",
       "      <td>9606.ENSP00000348068</td>\n",
       "    </tr>\n",
       "  </tbody>\n",
       "</table>\n",
       "</div>"
      ],
      "text/plain": [
       "       PCID            protein_id\n",
       "0  11954269  9606.ENSP00000354587\n",
       "1  11954225  9606.ENSP00000255040\n",
       "2  11954225  9606.ENSP00000273550\n",
       "3  11954225  9606.ENSP00000336829\n",
       "4  11954225  9606.ENSP00000348068"
      ]
     },
     "execution_count": 12,
     "metadata": {},
     "output_type": "execute_result"
    }
   ],
   "source": [
    "df.head()"
   ]
  },
  {
   "cell_type": "markdown",
   "metadata": {},
   "source": [
    "## Get Gene Name from Stitch API and make dictionary"
   ]
  },
  {
   "cell_type": "code",
   "execution_count": 13,
   "metadata": {},
   "outputs": [
    {
     "data": {
      "text/plain": [
       "(2901,)"
      ]
     },
     "execution_count": 13,
     "metadata": {},
     "output_type": "execute_result"
    }
   ],
   "source": [
    "prot_ID_df = df['protein_id']\n",
    "prot_ID_df = prot_ID_df.drop_duplicates()\n",
    "prot_ID_df.shape"
   ]
  },
  {
   "cell_type": "code",
   "execution_count": 14,
   "metadata": {},
   "outputs": [
    {
     "name": "stdout",
     "output_type": "stream",
     "text": [
      "167\n",
      "329\n",
      "545\n",
      "730\n",
      "954\n",
      "1154\n",
      "1320\n",
      "1510\n",
      "1700\n",
      "1925\n",
      "2127\n",
      "2319\n",
      "2524\n",
      "2707\n",
      "0\n",
      "1486\n",
      "2901\n"
     ]
    }
   ],
   "source": [
    "prot_ID_list = prot_ID_df.tolist()\n",
    "failed_to_get_name = 0\n",
    "gene_name_dict = {}\n",
    "\n",
    "for prot_ID in prot_ID_list:\n",
    "    url = 'http://stitch.embl.de/api/json/resolve?identifier=' + prot_ID\n",
    "    response = requests.get(url)\n",
    "    try:\n",
    "        response.json()\n",
    "    except ValueError:\n",
    "        continue\n",
    "    if 'preferredName' in response.json()[0].keys():\n",
    "        gene_name = response.json()[0]['preferredName']\n",
    "        gene_name_dict[prot_ID] = gene_name\n",
    "    else:\n",
    "        failed_to_get_name +=1\n",
    "    \n",
    "    if len(gene_name_dict) % 100 == 0:\n",
    "        print(prot_ID_list.index(prot_ID))\n",
    "    \n",
    "\n",
    "print(failed_to_get_name)\n",
    "print(len(gene_name_dict))\n",
    "print(len(prot_ID_list))"
   ]
  },
  {
   "cell_type": "code",
   "execution_count": 16,
   "metadata": {},
   "outputs": [],
   "source": [
    "gene_names = []\n",
    "for index, row in df.iterrows():\n",
    "    prot_ID = row.loc['protein_id']\n",
    "    if prot_ID not in gene_name_dict:\n",
    "        df.drop(index, inplace = True)\n",
    "    else: \n",
    "        gene_names.append((gene_name_dict[prot_ID]))\n",
    "\n",
    "df.loc[:,'Old Targets'] = pd.Series(np.array(gene_names), index=df.index)"
   ]
  },
  {
   "cell_type": "markdown",
   "metadata": {},
   "source": [
    "## Update Target Names"
   ]
  },
  {
   "cell_type": "code",
   "execution_count": 17,
   "metadata": {},
   "outputs": [
    {
     "data": {
      "text/plain": [
       "(8455, 3)"
      ]
     },
     "execution_count": 17,
     "metadata": {},
     "output_type": "execute_result"
    }
   ],
   "source": [
    "df.set_index('Old Targets', inplace = True)\n",
    "target_update.set_index('Old Targets',inplace = True)\n",
    "df = pd.merge(df, target_update, how= 'left', on = 'Old Targets')\n",
    "df.shape"
   ]
  },
  {
   "cell_type": "code",
   "execution_count": 18,
   "metadata": {},
   "outputs": [
    {
     "data": {
      "text/plain": [
       "(8402, 4)"
      ]
     },
     "execution_count": 18,
     "metadata": {},
     "output_type": "execute_result"
    }
   ],
   "source": [
    "df.reset_index(inplace=True)\n",
    "df = df.rename(index=str, columns = {'Updated Targets':'Targets'})\n",
    "df = df.dropna(subset=['Targets']) \n",
    "df.shape"
   ]
  },
  {
   "cell_type": "markdown",
   "metadata": {},
   "source": [
    "## Filter by LINCS Approved Small Molecules"
   ]
  },
  {
   "cell_type": "code",
   "execution_count": 19,
   "metadata": {},
   "outputs": [
    {
     "name": "stdout",
     "output_type": "stream",
     "text": [
      "2956\n"
     ]
    }
   ],
   "source": [
    "count = 0\n",
    "for index, row in df.iterrows():\n",
    "    CID = row.loc['PCID']\n",
    "    if CID not in lincs['SM_PubChem_CID'].values:\n",
    "        df.drop(index, inplace = True)\n",
    "        count += 1\n",
    "        \n",
    "print(count)"
   ]
  },
  {
   "cell_type": "markdown",
   "metadata": {},
   "source": [
    "## Make Binary Matrix"
   ]
  },
  {
   "cell_type": "code",
   "execution_count": 20,
   "metadata": {},
   "outputs": [],
   "source": [
    "grouped_df = df.groupby(['Targets'])['PCID'].apply(lambda x: ','.join(x.astype(str))).reset_index()"
   ]
  },
  {
   "cell_type": "code",
   "execution_count": 21,
   "metadata": {},
   "outputs": [
    {
     "data": {
      "text/plain": [
       "1244"
      ]
     },
     "execution_count": 21,
     "metadata": {},
     "output_type": "execute_result"
    }
   ],
   "source": [
    "grouped_df.set_index('Targets', inplace=True)\n",
    "grouped_df = grouped_df.sort_index()\n",
    "len(df['Targets'].unique())"
   ]
  },
  {
   "cell_type": "code",
   "execution_count": 22,
   "metadata": {},
   "outputs": [],
   "source": [
    "grouped_matrix = grouped_df.iloc[:,0].str.get_dummies(sep=',')"
   ]
  },
  {
   "cell_type": "code",
   "execution_count": 23,
   "metadata": {},
   "outputs": [
    {
     "data": {
      "text/html": [
       "<div>\n",
       "<style scoped>\n",
       "    .dataframe tbody tr th:only-of-type {\n",
       "        vertical-align: middle;\n",
       "    }\n",
       "\n",
       "    .dataframe tbody tr th {\n",
       "        vertical-align: top;\n",
       "    }\n",
       "\n",
       "    .dataframe thead th {\n",
       "        text-align: right;\n",
       "    }\n",
       "</style>\n",
       "<table border=\"1\" class=\"dataframe\">\n",
       "  <thead>\n",
       "    <tr style=\"text-align: right;\">\n",
       "      <th></th>\n",
       "      <th>104741</th>\n",
       "      <th>10783</th>\n",
       "      <th>110635</th>\n",
       "      <th>119607</th>\n",
       "      <th>1234</th>\n",
       "      <th>123631</th>\n",
       "      <th>124087</th>\n",
       "      <th>12555</th>\n",
       "      <th>128919</th>\n",
       "      <th>1302</th>\n",
       "      <th>...</th>\n",
       "      <th>68844</th>\n",
       "      <th>71158</th>\n",
       "      <th>71329</th>\n",
       "      <th>7510</th>\n",
       "      <th>7741</th>\n",
       "      <th>77999</th>\n",
       "      <th>91270</th>\n",
       "      <th>92400</th>\n",
       "      <th>9801</th>\n",
       "      <th>9904</th>\n",
       "    </tr>\n",
       "    <tr>\n",
       "      <th>Targets</th>\n",
       "      <th></th>\n",
       "      <th></th>\n",
       "      <th></th>\n",
       "      <th></th>\n",
       "      <th></th>\n",
       "      <th></th>\n",
       "      <th></th>\n",
       "      <th></th>\n",
       "      <th></th>\n",
       "      <th></th>\n",
       "      <th></th>\n",
       "      <th></th>\n",
       "      <th></th>\n",
       "      <th></th>\n",
       "      <th></th>\n",
       "      <th></th>\n",
       "      <th></th>\n",
       "      <th></th>\n",
       "      <th></th>\n",
       "      <th></th>\n",
       "      <th></th>\n",
       "    </tr>\n",
       "  </thead>\n",
       "  <tbody>\n",
       "    <tr>\n",
       "      <th>A1BG</th>\n",
       "      <td>0</td>\n",
       "      <td>0</td>\n",
       "      <td>0</td>\n",
       "      <td>0</td>\n",
       "      <td>0</td>\n",
       "      <td>0</td>\n",
       "      <td>0</td>\n",
       "      <td>0</td>\n",
       "      <td>0</td>\n",
       "      <td>0</td>\n",
       "      <td>...</td>\n",
       "      <td>0</td>\n",
       "      <td>0</td>\n",
       "      <td>0</td>\n",
       "      <td>0</td>\n",
       "      <td>0</td>\n",
       "      <td>0</td>\n",
       "      <td>0</td>\n",
       "      <td>0</td>\n",
       "      <td>0</td>\n",
       "      <td>0</td>\n",
       "    </tr>\n",
       "    <tr>\n",
       "      <th>A2M</th>\n",
       "      <td>0</td>\n",
       "      <td>0</td>\n",
       "      <td>0</td>\n",
       "      <td>0</td>\n",
       "      <td>0</td>\n",
       "      <td>0</td>\n",
       "      <td>0</td>\n",
       "      <td>0</td>\n",
       "      <td>0</td>\n",
       "      <td>0</td>\n",
       "      <td>...</td>\n",
       "      <td>0</td>\n",
       "      <td>0</td>\n",
       "      <td>0</td>\n",
       "      <td>0</td>\n",
       "      <td>0</td>\n",
       "      <td>1</td>\n",
       "      <td>0</td>\n",
       "      <td>0</td>\n",
       "      <td>0</td>\n",
       "      <td>0</td>\n",
       "    </tr>\n",
       "    <tr>\n",
       "      <th>AADAC</th>\n",
       "      <td>0</td>\n",
       "      <td>0</td>\n",
       "      <td>0</td>\n",
       "      <td>0</td>\n",
       "      <td>0</td>\n",
       "      <td>0</td>\n",
       "      <td>0</td>\n",
       "      <td>0</td>\n",
       "      <td>0</td>\n",
       "      <td>0</td>\n",
       "      <td>...</td>\n",
       "      <td>0</td>\n",
       "      <td>0</td>\n",
       "      <td>0</td>\n",
       "      <td>0</td>\n",
       "      <td>0</td>\n",
       "      <td>0</td>\n",
       "      <td>0</td>\n",
       "      <td>0</td>\n",
       "      <td>0</td>\n",
       "      <td>0</td>\n",
       "    </tr>\n",
       "    <tr>\n",
       "      <th>AADAT</th>\n",
       "      <td>0</td>\n",
       "      <td>0</td>\n",
       "      <td>0</td>\n",
       "      <td>0</td>\n",
       "      <td>0</td>\n",
       "      <td>0</td>\n",
       "      <td>0</td>\n",
       "      <td>0</td>\n",
       "      <td>0</td>\n",
       "      <td>0</td>\n",
       "      <td>...</td>\n",
       "      <td>0</td>\n",
       "      <td>0</td>\n",
       "      <td>0</td>\n",
       "      <td>0</td>\n",
       "      <td>0</td>\n",
       "      <td>0</td>\n",
       "      <td>0</td>\n",
       "      <td>0</td>\n",
       "      <td>0</td>\n",
       "      <td>0</td>\n",
       "    </tr>\n",
       "    <tr>\n",
       "      <th>AANAT</th>\n",
       "      <td>0</td>\n",
       "      <td>0</td>\n",
       "      <td>0</td>\n",
       "      <td>0</td>\n",
       "      <td>0</td>\n",
       "      <td>0</td>\n",
       "      <td>0</td>\n",
       "      <td>0</td>\n",
       "      <td>0</td>\n",
       "      <td>0</td>\n",
       "      <td>...</td>\n",
       "      <td>0</td>\n",
       "      <td>0</td>\n",
       "      <td>0</td>\n",
       "      <td>0</td>\n",
       "      <td>0</td>\n",
       "      <td>0</td>\n",
       "      <td>0</td>\n",
       "      <td>0</td>\n",
       "      <td>0</td>\n",
       "      <td>0</td>\n",
       "    </tr>\n",
       "  </tbody>\n",
       "</table>\n",
       "<p>5 rows × 402 columns</p>\n",
       "</div>"
      ],
      "text/plain": [
       "         104741  10783  110635  119607  1234  123631  124087  12555  128919  \\\n",
       "Targets                                                                       \n",
       "A1BG          0      0       0       0     0       0       0      0       0   \n",
       "A2M           0      0       0       0     0       0       0      0       0   \n",
       "AADAC         0      0       0       0     0       0       0      0       0   \n",
       "AADAT         0      0       0       0     0       0       0      0       0   \n",
       "AANAT         0      0       0       0     0       0       0      0       0   \n",
       "\n",
       "         1302  ...   68844  71158  71329  7510  7741  77999  91270  92400  \\\n",
       "Targets        ...                                                          \n",
       "A1BG        0  ...       0      0      0     0     0      0      0      0   \n",
       "A2M         0  ...       0      0      0     0     0      1      0      0   \n",
       "AADAC       0  ...       0      0      0     0     0      0      0      0   \n",
       "AADAT       0  ...       0      0      0     0     0      0      0      0   \n",
       "AANAT       0  ...       0      0      0     0     0      0      0      0   \n",
       "\n",
       "         9801  9904  \n",
       "Targets              \n",
       "A1BG        0     0  \n",
       "A2M         0     0  \n",
       "AADAC       0     0  \n",
       "AADAT       0     0  \n",
       "AANAT       0     0  \n",
       "\n",
       "[5 rows x 402 columns]"
      ]
     },
     "execution_count": 23,
     "metadata": {},
     "output_type": "execute_result"
    }
   ],
   "source": [
    "grouped_matrix.head()"
   ]
  },
  {
   "cell_type": "code",
   "execution_count": 24,
   "metadata": {},
   "outputs": [
    {
     "data": {
      "text/plain": [
       "(1244, 402)"
      ]
     },
     "execution_count": 24,
     "metadata": {},
     "output_type": "execute_result"
    }
   ],
   "source": [
    "grouped_matrix.shape"
   ]
  },
  {
   "cell_type": "markdown",
   "metadata": {},
   "source": [
    "## Save Targets Binary Matrix"
   ]
  },
  {
   "cell_type": "code",
   "execution_count": 25,
   "metadata": {},
   "outputs": [],
   "source": [
    "filename = 'Output/Matador_Targets_%s.tsv.zip'% str(datetime.date.today())[0:7].replace('-', '_')\n",
    "grouped_matrix.to_csv(filename, sep='\\t', compression='gzip')"
   ]
  },
  {
   "cell_type": "markdown",
   "metadata": {},
   "source": [
    "## Convert Binary Matrix to GMT and Save as GMT"
   ]
  },
  {
   "cell_type": "code",
   "execution_count": 26,
   "metadata": {},
   "outputs": [],
   "source": [
    "drugset_library = []\n",
    "for index, row in grouped_matrix.iterrows():\n",
    "    drugset = []\n",
    "    drugset.append(index)\n",
    "    drugset.append('')\n",
    "    for i in range(grouped_matrix.shape[1]):\n",
    "        if row.iloc[i]==1:\n",
    "            drugset.append(row.index[i])\n",
    "    if len(drugset) >= 7:\n",
    "        drugset_library.append(drugset)\n",
    "dsl = np.array(drugset_library)"
   ]
  },
  {
   "cell_type": "code",
   "execution_count": 27,
   "metadata": {},
   "outputs": [
    {
     "data": {
      "text/plain": [
       "59"
      ]
     },
     "execution_count": 27,
     "metadata": {},
     "output_type": "execute_result"
    }
   ],
   "source": [
    "len(max(dsl, key=len))"
   ]
  },
  {
   "cell_type": "code",
   "execution_count": 28,
   "metadata": {},
   "outputs": [],
   "source": [
    "filename = 'Output/Matador_Targets_DrugSetLibrary_%s.gmt'% str(datetime.date.today())[0:7].replace('-', '_')\n",
    "with open(filename,'w',encoding='utf-8') as f:\n",
    "    for row in dsl:\n",
    "        np.savetxt(f, [row], fmt = '%s',delimiter = '\\t')"
   ]
  },
  {
   "cell_type": "code",
   "execution_count": null,
   "metadata": {},
   "outputs": [],
   "source": []
  }
 ],
 "metadata": {
  "kernelspec": {
   "display_name": "Python 3",
   "language": "python",
   "name": "python3"
  },
  "language_info": {
   "codemirror_mode": {
    "name": "ipython",
    "version": 3
   },
   "file_extension": ".py",
   "mimetype": "text/x-python",
   "name": "python",
   "nbconvert_exporter": "python",
   "pygments_lexer": "ipython3",
   "version": "3.6.5"
  }
 },
 "nbformat": 4,
 "nbformat_minor": 2
}
