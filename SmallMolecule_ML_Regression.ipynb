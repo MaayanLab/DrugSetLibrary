{
 "cells": [
  {
   "cell_type": "markdown",
   "metadata": {},
   "source": [
    "## Import Libraries"
   ]
  },
  {
   "cell_type": "code",
   "execution_count": null,
   "metadata": {},
   "outputs": [],
   "source": [
    "import numpy as np\n",
    "import pandas as pd\n",
    "from sklearn.datasets import make_regression\n",
    "from sklearn import linear_model, ensemble, model_selection, metrics, tree, neighbors\n",
    "import seaborn as sns\n",
    "import matplotlib.pyplot as plt\n",
    "import time\n",
    "from sklearn import decomposition, feature_selection, svm, neighbors, datasets, preprocessing, neural_network \n",
    "from matplotlib import pyplot"
   ]
  },
  {
   "cell_type": "code",
   "execution_count": null,
   "metadata": {},
   "outputs": [],
   "source": [
    "from sklearn.utils import shuffle\n",
    "from sklearn.metrics import mean_squared_error\n",
    "from collections import Counter"
   ]
  },
  {
   "cell_type": "markdown",
   "metadata": {},
   "source": [
    "## Load Data"
   ]
  },
  {
   "cell_type": "markdown",
   "metadata": {},
   "source": [
    "####  Y matrix (Gene Signatures)"
   ]
  },
  {
   "cell_type": "code",
   "execution_count": null,
   "metadata": {},
   "outputs": [],
   "source": [
    "Y = pd.read_table('Input/consensus-perts.tsv')\n",
    "Y.set_index('pert_id', inplace=True)\n",
    "print( Y.shape)"
   ]
  },
  {
   "cell_type": "markdown",
   "metadata": {},
   "source": [
    "#### Multiple X matricies (fingerprints)"
   ]
  },
  {
   "cell_type": "code",
   "execution_count": null,
   "metadata": {
    "scrolled": true
   },
   "outputs": [],
   "source": [
    "X1 = pd.read_table('RDKit_fps/Morg1_BMatrix_map_2018_08.tsv')\n",
    "X1[X1.columns[0]] = X1[X1.columns[0]].astype(str)\n",
    "X1 = X1.set_index(X1.columns[0])\n",
    "\n",
    "X2 = pd.read_table('RDKit_fps/TopologicalTorsion_BMatrix_map_2018_08.tsv')\n",
    "X2[X2.columns[0]] = X2[X2.columns[0]].astype(str)\n",
    "X2 = X2.set_index(X2.columns[0])\n",
    "\n",
    "X3 = pd.read_table('RDKit_fps/AtomPair_BMatrix_map_2018_08.tsv')\n",
    "X3[X3.columns[0]] = X3[X3.columns[0]].astype(str)\n",
    "X3 = X3.set_index(X3.columns[0])\n",
    "\n",
    "X4 = pd.read_table('RDKit_fps/MACCs_BMatrix_map_2018_08.tsv')\n",
    "X4[X4.columns[0]] = X4[X4.columns[0]].astype(str)\n",
    "X4 = X4.set_index(X4.columns[0])\n",
    "\n",
    "X5 = pd.read_table('RDKit_fps/RDKfps2_BMatrix_map_2018_08.tsv')\n",
    "X5[X5.columns[0]] = X5[X5.columns[0]].astype(str)\n",
    "X5 = X5.set_index(X5.columns[0])\n",
    "\n",
    "X6 = pd.read_table('RDKit_fps/Avalon_BMatrix_map_2018_08.tsv')\n",
    "X6[X6.columns[0]] = X6[X6.columns[0]].astype(str)\n",
    "X6 = X6.set_index(X6.columns[0])\n",
    "\n",
    "# X7 = pd.read_table('Output/L1000_Scaffolds_2018_07.tsv')\n",
    "# X7[X7.columns[0]] = X7[X7.columns[0]].astype(str)\n",
    "# X7 = X7.set_index(X7.columns[0])\n",
    "# X7 = X7.T\n",
    "\n",
    "X = pd.concat([X2, X5, X6, X1, X3, X4], axis = 1, sort=True)\n",
    "X = X.dropna()\n",
    "X.head()"
   ]
  },
  {
   "cell_type": "markdown",
   "metadata": {},
   "source": [
    "## Change Y to only have  positive gene signatures"
   ]
  },
  {
   "cell_type": "code",
   "execution_count": null,
   "metadata": {},
   "outputs": [],
   "source": [
    "Y = Y.iloc[:,keep_genes]"
   ]
  },
  {
   "cell_type": "markdown",
   "metadata": {},
   "source": [
    "## Only get drugs shared between X and Y"
   ]
  },
  {
   "cell_type": "code",
   "execution_count": null,
   "metadata": {},
   "outputs": [],
   "source": [
    "shared_drugs = sorted(list(set(X.index) & set(Y.index)))\n",
    "X = X.loc[shared_drugs]\n",
    "Y = Y.loc[shared_drugs]\n",
    "X = X.values\n",
    "Y = Y.values"
   ]
  },
  {
   "cell_type": "code",
   "execution_count": null,
   "metadata": {},
   "outputs": [],
   "source": [
    "## Run for regressors without a multitask regressor option\n",
    "shared_drugs = sorted(list(set(X.index) & set(Y.index)))\n",
    "X = X.loc[shared_drugs]\n",
    "Y = Y.loc[shared_drugs]\n",
    "X = X.values"
   ]
  },
  {
   "cell_type": "markdown",
   "metadata": {},
   "source": [
    "## Eliminate columns from X based on how many zeros it has"
   ]
  },
  {
   "cell_type": "code",
   "execution_count": null,
   "metadata": {},
   "outputs": [],
   "source": [
    "sns.distplot(list(X.sum(axis=0)))"
   ]
  },
  {
   "cell_type": "code",
   "execution_count": null,
   "metadata": {},
   "outputs": [],
   "source": [
    "x_col_drop = []\n",
    "x_amt_nonzero = X.sum(axis=0)\n",
    "for amt in x_amt_nonzero.iteritems():\n",
    "    if abs(amt[1]) < 500:\n",
    "        x_col_drop.append(amt[0])\n",
    "        \n",
    "X = X.drop(columns = x_col_drop)\n",
    "X.shape"
   ]
  },
  {
   "cell_type": "markdown",
   "metadata": {},
   "source": [
    "## Normalize Y"
   ]
  },
  {
   "cell_type": "code",
   "execution_count": null,
   "metadata": {},
   "outputs": [],
   "source": [
    "Y = preprocessing.scale(Y)"
   ]
  },
  {
   "cell_type": "markdown",
   "metadata": {},
   "source": [
    "## Dimentionality Reduction"
   ]
  },
  {
   "cell_type": "code",
   "execution_count": null,
   "metadata": {},
   "outputs": [],
   "source": [
    "# dr_model = decomposition.LatentDirichletAllocation(n_components=100, learning_method= 'online')\n",
    "dr_model = decomposition.NMF(n_components=100, init = 'nndsvda')\n",
    "\n",
    "X_dr = dr_model.fit_transform(X)"
   ]
  },
  {
   "cell_type": "code",
   "execution_count": null,
   "metadata": {},
   "outputs": [],
   "source": [
    "X_dr_df = pd.DataFrame(X_dr)\n",
    "X_dr_df.head()"
   ]
  },
  {
   "cell_type": "code",
   "execution_count": null,
   "metadata": {},
   "outputs": [],
   "source": [
    "X = X_dr"
   ]
  },
  {
   "cell_type": "code",
   "execution_count": null,
   "metadata": {},
   "outputs": [],
   "source": [
    "X.shape, Y.shape"
   ]
  },
  {
   "cell_type": "markdown",
   "metadata": {},
   "source": [
    "## Pick the regressor"
   ]
  },
  {
   "cell_type": "code",
   "execution_count": null,
   "metadata": {},
   "outputs": [],
   "source": [
    "# regressor = linear_model.MultiTaskLasso()\n",
    "# regressor = linear_model.MultiTaskElasticNet()\n",
    "regressor = linear_model.Ridge(fit_intercept=True, normalize=False, copy_X=True, solver='auto')\n",
    "# regressor = ensemble.RandomForestRegressor(n_estimators = 60, n_jobs = 7)\n",
    "# regressor = linear_model.BayesianRidge()\n",
    "# regressor = linear_model.LassoLars() \n",
    "# regressor = ensemble.GradientBoostingRegressor(n_estimators = 5, max_depth= 3, min_samples_split= 3, learning_rate= 0.01, loss= 'ls')\n",
    "# regressor = svm.SVR(degree = 1, epsilon=.01, kernel = 'poly')\n",
    "# regressor = ensemble.AdaBoostRegressor(base_estimator=None, n_estimators=50, learning_rate=1.0, loss='linear', random_state=None)\n",
    "# regressor = neural_network.MLPRegressor(hidden_layer_sizes=(100, ))\n",
    "# regressor = neighbors.KNeighborsRegressor(n_neighbors=100)\n"
   ]
  },
  {
   "cell_type": "markdown",
   "metadata": {},
   "source": [
    "## Run the model"
   ]
  },
  {
   "cell_type": "markdown",
   "metadata": {},
   "source": [
    "### Normal run model"
   ]
  },
  {
   "cell_type": "code",
   "execution_count": null,
   "metadata": {
    "scrolled": true
   },
   "outputs": [],
   "source": [
    "r2ss = []\n",
    "cv = model_selection.KFold(n_splits=4, shuffle=True)\n",
    "start = time.time()\n",
    "for train_idx, test_idx in cv.split(X):\n",
    "    X_train, Y_train = X[train_idx], Y[train_idx]\n",
    "    \n",
    "    X_test, Y_test = X[test_idx], Y[test_idx]\n",
    "    \n",
    "    regressor.fit(X_train, Y_train)\n",
    "    Y_test_pred = regressor.predict(X_test)\n",
    "    \n",
    "    r2s = metrics.r2_score(Y_test, Y_test_pred, multioutput='raw_values')\n",
    "    r2ss.append(r2s)\n",
    "    \n",
    "    end = time.time()\n",
    "    print(end-start)"
   ]
  },
  {
   "cell_type": "markdown",
   "metadata": {},
   "source": [
    "### Run Model with Feature Selection "
   ]
  },
  {
   "cell_type": "code",
   "execution_count": null,
   "metadata": {},
   "outputs": [],
   "source": [
    "r2ss = []\n",
    "cv = model_selection.KFold(n_splits=4, shuffle=True)\n",
    "start = time.time()\n",
    "for train_idx, test_idx in cv.split(X):\n",
    "    X_train, Y_train = X[train_idx], Y[train_idx]\n",
    "\n",
    "    # k-nearest neighbor classifier to evaluate  predictabilities of individual features in X using Y\n",
    "    knn = neighbors.KNeighborsClassifier(n_neighbors=10)\n",
    "    knn.fit(Y_train, X_train)\n",
    "    # Use F1-score to evaluate the predictability of x\n",
    "    x_fs_scores = metrics.f1_score(knn.predict(Y_train), X_train, average=None)\n",
    "    # Drop the bottom 20% least predictable features\n",
    "    mask_features_to_keep = x_fs_scores > np.percentile(x_fs_scores, 40)\n",
    "    X_train = X_train[:, mask_features_to_keep]\n",
    "    \n",
    "    # Drop those features from X_test\n",
    "    X_test, Y_test = X[test_idx][:, mask_features_to_keep], Y[test_idx]\n",
    "    \n",
    "    # Fit the multi-task regression model \n",
    "    regressor.fit(X_train, Y_train)\n",
    "    Y_test_pred = regressor.predict(X_test)\n",
    "    \n",
    "    r2s = metrics.r2_score(Y_test, Y_test_pred, multioutput='raw_values')\n",
    "    r2ss.append(r2s)\n",
    "    \n",
    "    end = time.time()\n",
    "    print(end-start)"
   ]
  },
  {
   "cell_type": "code",
   "execution_count": null,
   "metadata": {},
   "outputs": [],
   "source": [
    "(Y_test.shape, Y_test_pred.shape)"
   ]
  },
  {
   "cell_type": "markdown",
   "metadata": {},
   "source": [
    "## Plot the Average R^2"
   ]
  },
  {
   "cell_type": "code",
   "execution_count": null,
   "metadata": {
    "scrolled": true
   },
   "outputs": [],
   "source": [
    "data = np.array(r2ss)\n",
    "aver_data = np.average(data, axis=0)\n",
    "sns.distplot(aver_data)"
   ]
  },
  {
   "cell_type": "code",
   "execution_count": null,
   "metadata": {},
   "outputs": [],
   "source": [
    "avg = np.average(aver_data)\n",
    "avg"
   ]
  },
  {
   "cell_type": "markdown",
   "metadata": {},
   "source": [
    "## Analyze score and R^2"
   ]
  },
  {
   "cell_type": "code",
   "execution_count": null,
   "metadata": {},
   "outputs": [],
   "source": [
    "regressor.score(X_test, Y_test)"
   ]
  },
  {
   "cell_type": "code",
   "execution_count": null,
   "metadata": {},
   "outputs": [],
   "source": [
    "## Feature selection only\n",
    "sns.distplot(x_fs_scores)"
   ]
  },
  {
   "cell_type": "markdown",
   "metadata": {},
   "source": [
    "## Plot the estimates"
   ]
  },
  {
   "cell_type": "code",
   "execution_count": null,
   "metadata": {
    "scrolled": true
   },
   "outputs": [],
   "source": [
    "plt.figure()\n",
    "s = 35\n",
    "a = .7\n",
    "\n",
    "Y_train_pred = regressor.predict(X_train)\n",
    "\n",
    "plt.scatter(Y_test[:, 0], Y_test[:, 1], edgecolor='k',\n",
    "            c=\"blue\", s=s, marker=\"s\", alpha=a, label=\"Data\")\n",
    "plt.scatter(Y_test_pred[:, 0], Y_test_pred[:, 1], edgecolor='k',\n",
    "            c=\"red\", s=s, marker=\"^\", alpha=a,\n",
    "            label=\"RF score=%.2f\" % regressor.score(X_test, Y_test))\n",
    "plt.scatter(Y_train_pred[:, 0], Y_train_pred[:, 1], edgecolor='k',\n",
    "            c=\"yellow\", s=s, marker=\"o\", alpha=a,\n",
    "            label=\"RF score=%.2f\" % regressor.score(X_train, Y_train))\n",
    "\n",
    "plt.xlim([-4, 4])\n",
    "plt.ylim([-4, 4])\n",
    "plt.title(\"Visualizing Random Forest\")\n",
    "plt.legend()"
   ]
  },
  {
   "cell_type": "markdown",
   "metadata": {},
   "source": [
    "## For Regressors without Multitask"
   ]
  },
  {
   "cell_type": "code",
   "execution_count": null,
   "metadata": {},
   "outputs": [],
   "source": [
    "r2ss = []\n",
    "cv = model_selection.KFold(n_splits=4, shuffle=True)\n",
    "start = time.time()\n",
    "\n",
    "for i in list(Y.columns):\n",
    "    Y_i = Y[i]\n",
    "    for train_idx, test_idx in cv.split(X):\n",
    "        X_train, Y_train = X[train_idx], Y_i[train_idx]\n",
    "        X_test, Y_test = X[test_idx], Y_i[test_idx]\n",
    "\n",
    "        regressor.fit(X_train, Y_train)\n",
    "        Y_test_pred = regressor.predict(X_test)\n",
    "\n",
    "        r2s = metrics.r2_score(Y_test, Y_test_pred, multioutput='raw_values')\n",
    "        r2ss.append(r2s)\n",
    "\n",
    "end = time.time()\n",
    "print(end-start)\n",
    "\n",
    "new_r2ss = [r2ss[i][0] for i in range(len(r2ss))]"
   ]
  },
  {
   "cell_type": "code",
   "execution_count": null,
   "metadata": {},
   "outputs": [],
   "source": [
    "sns.distplot(new_r2ss)"
   ]
  },
  {
   "cell_type": "code",
   "execution_count": null,
   "metadata": {},
   "outputs": [],
   "source": [
    "np.average(new_r2ss)"
   ]
  },
  {
   "cell_type": "markdown",
   "metadata": {},
   "source": [
    "## List of genes giving postive R^2"
   ]
  },
  {
   "cell_type": "code",
   "execution_count": null,
   "metadata": {},
   "outputs": [],
   "source": [
    "desired_genes = []\n",
    "for array in r2ss:\n",
    "    for gene in array:\n",
    "        if gene >0.1:\n",
    "            desired_genes.append(list(array).index(gene))"
   ]
  },
  {
   "cell_type": "code",
   "execution_count": null,
   "metadata": {},
   "outputs": [],
   "source": [
    "len(set(desired_genes))"
   ]
  },
  {
   "cell_type": "code",
   "execution_count": null,
   "metadata": {
    "scrolled": true
   },
   "outputs": [],
   "source": [
    "print(sorted(desired_genes)[:10])"
   ]
  },
  {
   "cell_type": "code",
   "execution_count": null,
   "metadata": {},
   "outputs": [],
   "source": [
    "cnt = Counter()\n",
    "for gene in desired_genes:\n",
    "    cnt[gene] += 1\n",
    "dict(cnt)\n",
    "keep_genes = []\n",
    "for entry in cnt.items():\n",
    "    if entry[1] >= 3:\n",
    "        keep_genes.append(entry[0])"
   ]
  },
  {
   "cell_type": "code",
   "execution_count": null,
   "metadata": {},
   "outputs": [],
   "source": [
    "len(keep_genes)"
   ]
  },
  {
   "cell_type": "markdown",
   "metadata": {},
   "source": [
    "## Plot estimator vs time/r^2 for random forest"
   ]
  },
  {
   "cell_type": "code",
   "execution_count": null,
   "metadata": {},
   "outputs": [],
   "source": [
    "estimator = [5,10,20,50,75,100,400]\n",
    "time = [8.63,17.88,31.06,73.46,110.39,143.9,641.10]\n",
    "r2 = [-0.12,-0.038,0.0105,0.055,0.051,0.0307,0.0225]\n",
    "\n",
    "fig, ax1 = plt.subplots()\n",
    "\n",
    "plt.xlabel('Number of estimators', fontsize= 14)\n",
    "plt.xticks(fontsize = 11)\n",
    "\n",
    "ax1.plot(estimator,time,color='purple', linewidth = 2.5)\n",
    "ax1.tick_params(axis = 'y', labelcolor = 'purple', labelsize = 11.0)\n",
    "plt.ylabel('Time (s)', fontsize = 14, color = 'purple')\n",
    "\n",
    "ax2 = ax1.twinx()\n",
    "\n",
    "ax2.plot(estimator, r2, color = 'blue', linewidth = 2.0)\n",
    "ax2.tick_params(axis = 'y', labelcolor = 'blue', labelsize = 11.0)\n",
    "plt.ylabel('R^2 Value', fontsize = 14, color = 'blue')\n",
    "\n",
    "fig.tight_layout()\n",
    "plt.title('Estimators vs. Time and R^2 Value', fontsize = 15)\n",
    "plt.savefig('Presentation_figures/estimators_time_r2_ranfor' ,bbox_inches = 'tight')\n",
    "plt.show()\n"
   ]
  }
 ],
 "metadata": {
  "kernelspec": {
   "display_name": "Python 3",
   "language": "python",
   "name": "python3"
  },
  "language_info": {
   "codemirror_mode": {
    "name": "ipython",
    "version": 3
   },
   "file_extension": ".py",
   "mimetype": "text/x-python",
   "name": "python",
   "nbconvert_exporter": "python",
   "pygments_lexer": "ipython3",
   "version": "3.6.5"
  }
 },
 "nbformat": 4,
 "nbformat_minor": 2
}
