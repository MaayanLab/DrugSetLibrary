{
 "cells": [
  {
   "cell_type": "markdown",
   "metadata": {},
   "source": [
    "## Import Libraries"
   ]
  },
  {
   "cell_type": "code",
   "execution_count": 126,
   "metadata": {},
   "outputs": [],
   "source": [
    "import numpy as np\n",
    "import pandas as pd\n",
    "from scipy.spatial.distance import squareform, pdist,jaccard\n",
    "import sys,  datetime, os\n",
    "import requests\n",
    "import chardet"
   ]
  },
  {
   "cell_type": "markdown",
   "metadata": {},
   "source": [
    "## Load Data"
   ]
  },
  {
   "cell_type": "markdown",
   "metadata": {},
   "source": [
    "#### Load DrugRepurposingHub Data"
   ]
  },
  {
   "cell_type": "code",
   "execution_count": 144,
   "metadata": {},
   "outputs": [],
   "source": [
    "df = pd.read_table('Input/repurposing_drugs_20170327.txt', engine = 'python')"
   ]
  },
  {
   "cell_type": "code",
   "execution_count": 145,
   "metadata": {},
   "outputs": [
    {
     "data": {
      "text/html": [
       "<div>\n",
       "<style scoped>\n",
       "    .dataframe tbody tr th:only-of-type {\n",
       "        vertical-align: middle;\n",
       "    }\n",
       "\n",
       "    .dataframe tbody tr th {\n",
       "        vertical-align: top;\n",
       "    }\n",
       "\n",
       "    .dataframe thead th {\n",
       "        text-align: right;\n",
       "    }\n",
       "</style>\n",
       "<table border=\"1\" class=\"dataframe\">\n",
       "  <thead>\n",
       "    <tr style=\"text-align: right;\">\n",
       "      <th></th>\n",
       "      <th>pert_iname</th>\n",
       "      <th>clinical_phase</th>\n",
       "      <th>moa</th>\n",
       "      <th>target</th>\n",
       "    </tr>\n",
       "  </thead>\n",
       "  <tbody>\n",
       "    <tr>\n",
       "      <th>0</th>\n",
       "      <td>(1E)-1-(2-hydroxy-5-methylphenyl)-1-dodecanone...</td>\n",
       "      <td>Preclinical</td>\n",
       "      <td>NaN</td>\n",
       "      <td>NaN</td>\n",
       "    </tr>\n",
       "    <tr>\n",
       "      <th>1</th>\n",
       "      <td>A-317491</td>\n",
       "      <td>Preclinical</td>\n",
       "      <td>purinergic receptor antagonist</td>\n",
       "      <td>P2RX3</td>\n",
       "    </tr>\n",
       "    <tr>\n",
       "      <th>2</th>\n",
       "      <td>A-33903</td>\n",
       "      <td>Phase 2</td>\n",
       "      <td>NaN</td>\n",
       "      <td>NaN</td>\n",
       "    </tr>\n",
       "    <tr>\n",
       "      <th>3</th>\n",
       "      <td>A-366</td>\n",
       "      <td>Preclinical</td>\n",
       "      <td>histone lysine methyltransferase inhibitor</td>\n",
       "      <td>EHMT1|EHMT2</td>\n",
       "    </tr>\n",
       "    <tr>\n",
       "      <th>4</th>\n",
       "      <td>A-674563</td>\n",
       "      <td>Preclinical</td>\n",
       "      <td>AKT inhibitor</td>\n",
       "      <td>AKT1|PKIA|PRKACA</td>\n",
       "    </tr>\n",
       "  </tbody>\n",
       "</table>\n",
       "</div>"
      ],
      "text/plain": [
       "                                          pert_iname clinical_phase  \\\n",
       "0  (1E)-1-(2-hydroxy-5-methylphenyl)-1-dodecanone...    Preclinical   \n",
       "1                                           A-317491    Preclinical   \n",
       "2                                            A-33903        Phase 2   \n",
       "3                                              A-366    Preclinical   \n",
       "4                                           A-674563    Preclinical   \n",
       "\n",
       "                                          moa            target  \n",
       "0                                         NaN               NaN  \n",
       "1              purinergic receptor antagonist             P2RX3  \n",
       "2                                         NaN               NaN  \n",
       "3  histone lysine methyltransferase inhibitor       EHMT1|EHMT2  \n",
       "4                               AKT inhibitor  AKT1|PKIA|PRKACA  "
      ]
     },
     "execution_count": 145,
     "metadata": {},
     "output_type": "execute_result"
    }
   ],
   "source": [
    "df.head()"
   ]
  },
  {
   "cell_type": "markdown",
   "metadata": {},
   "source": [
    "#### Load Targets Mapping File"
   ]
  },
  {
   "cell_type": "code",
   "execution_count": 146,
   "metadata": {},
   "outputs": [],
   "source": [
    "target_update = pd.read_table('Input/mappingFile_2017.txt', names = ['Old Targets','Updated Targets'], engine='python')"
   ]
  },
  {
   "cell_type": "code",
   "execution_count": 147,
   "metadata": {},
   "outputs": [
    {
     "data": {
      "text/html": [
       "<div>\n",
       "<style scoped>\n",
       "    .dataframe tbody tr th:only-of-type {\n",
       "        vertical-align: middle;\n",
       "    }\n",
       "\n",
       "    .dataframe tbody tr th {\n",
       "        vertical-align: top;\n",
       "    }\n",
       "\n",
       "    .dataframe thead th {\n",
       "        text-align: right;\n",
       "    }\n",
       "</style>\n",
       "<table border=\"1\" class=\"dataframe\">\n",
       "  <thead>\n",
       "    <tr style=\"text-align: right;\">\n",
       "      <th></th>\n",
       "      <th>Old Targets</th>\n",
       "      <th>Updated Targets</th>\n",
       "    </tr>\n",
       "  </thead>\n",
       "  <tbody>\n",
       "    <tr>\n",
       "      <th>0</th>\n",
       "      <td>A1BG</td>\n",
       "      <td>A1BG</td>\n",
       "    </tr>\n",
       "    <tr>\n",
       "      <th>1</th>\n",
       "      <td>A1BG-AS1</td>\n",
       "      <td>A1BG-AS1</td>\n",
       "    </tr>\n",
       "    <tr>\n",
       "      <th>2</th>\n",
       "      <td>NCRNA00181</td>\n",
       "      <td>A1BG-AS1</td>\n",
       "    </tr>\n",
       "    <tr>\n",
       "      <th>3</th>\n",
       "      <td>A1BGAS</td>\n",
       "      <td>A1BG-AS1</td>\n",
       "    </tr>\n",
       "    <tr>\n",
       "      <th>4</th>\n",
       "      <td>A1BG-AS</td>\n",
       "      <td>A1BG-AS1</td>\n",
       "    </tr>\n",
       "  </tbody>\n",
       "</table>\n",
       "</div>"
      ],
      "text/plain": [
       "  Old Targets Updated Targets\n",
       "0        A1BG            A1BG\n",
       "1    A1BG-AS1        A1BG-AS1\n",
       "2  NCRNA00181        A1BG-AS1\n",
       "3      A1BGAS        A1BG-AS1\n",
       "4     A1BG-AS        A1BG-AS1"
      ]
     },
     "execution_count": 147,
     "metadata": {},
     "output_type": "execute_result"
    }
   ],
   "source": [
    "target_update.head()"
   ]
  },
  {
   "cell_type": "markdown",
   "metadata": {},
   "source": [
    "#### Load LINCS Small Molecules"
   ]
  },
  {
   "cell_type": "code",
   "execution_count": 148,
   "metadata": {},
   "outputs": [],
   "source": [
    "lincs = pd.read_csv('Input/LINCS_SmallMolecules.csv',encoding='ISO-8859-1')"
   ]
  },
  {
   "cell_type": "code",
   "execution_count": 149,
   "metadata": {},
   "outputs": [
    {
     "data": {
      "text/html": [
       "<div>\n",
       "<style scoped>\n",
       "    .dataframe tbody tr th:only-of-type {\n",
       "        vertical-align: middle;\n",
       "    }\n",
       "\n",
       "    .dataframe tbody tr th {\n",
       "        vertical-align: top;\n",
       "    }\n",
       "\n",
       "    .dataframe thead th {\n",
       "        text-align: right;\n",
       "    }\n",
       "</style>\n",
       "<table border=\"1\" class=\"dataframe\">\n",
       "  <thead>\n",
       "    <tr style=\"text-align: right;\">\n",
       "      <th></th>\n",
       "      <th>SM_Name</th>\n",
       "      <th>SM_LINCS_ID</th>\n",
       "      <th>SM_Alternative_Name</th>\n",
       "      <th>SM_PubChem_CID</th>\n",
       "      <th>SM_SMILES_Parent</th>\n",
       "      <th>SM_SMILES_Batch</th>\n",
       "      <th>SM_InChi_Parent</th>\n",
       "      <th>SM_Molecular_Mass</th>\n",
       "      <th>MOLECULAR_FORMULA</th>\n",
       "      <th>SM_ChEBI_ID</th>\n",
       "    </tr>\n",
       "  </thead>\n",
       "  <tbody>\n",
       "    <tr>\n",
       "      <th>0</th>\n",
       "      <td>Dichlobenil</td>\n",
       "      <td>LSM-19017</td>\n",
       "      <td>NaN</td>\n",
       "      <td>3031.0</td>\n",
       "      <td>Clc1cccc(Cl)c1C#N</td>\n",
       "      <td>NaN</td>\n",
       "      <td>InChI=1S/C7H3Cl2N/c8-6-2-1-3-7(9)5(6)4-10/h1-3H</td>\n",
       "      <td>172.01</td>\n",
       "      <td>C7H3Cl2N</td>\n",
       "      <td>943</td>\n",
       "    </tr>\n",
       "    <tr>\n",
       "      <th>1</th>\n",
       "      <td>AC1NWAJC</td>\n",
       "      <td>LSM-43967</td>\n",
       "      <td>Vulpinic acid</td>\n",
       "      <td>5701993.0</td>\n",
       "      <td>COC(=O)\\C(=C\\1/OC(=O)C(C1=O)c2ccccc2)\\c3ccccc3</td>\n",
       "      <td>NaN</td>\n",
       "      <td>InChI=1S/C19H14O5/c1-23-18(21)15(13-10-6-3-7-1...</td>\n",
       "      <td>322.31</td>\n",
       "      <td>C19H14O5</td>\n",
       "      <td>NaN</td>\n",
       "    </tr>\n",
       "    <tr>\n",
       "      <th>2</th>\n",
       "      <td>Sinapic Acid Methyl Ether</td>\n",
       "      <td>LSM-44124</td>\n",
       "      <td>NaN</td>\n",
       "      <td>735755.0</td>\n",
       "      <td>COc1cc(\\C=C\\C(=O)O)cc(OC)c1OC</td>\n",
       "      <td>NaN</td>\n",
       "      <td>InChI=1S/C12H14O5/c1-15-9-6-8(4-5-11(13)14)7-1...</td>\n",
       "      <td>238.24</td>\n",
       "      <td>C12H14O5</td>\n",
       "      <td>NaN</td>\n",
       "    </tr>\n",
       "    <tr>\n",
       "      <th>3</th>\n",
       "      <td>Ferulic acid</td>\n",
       "      <td>LSM-44126</td>\n",
       "      <td>Ferulic acid</td>\n",
       "      <td>445858.0</td>\n",
       "      <td>COc1cc(\\C=C\\C(=O)O)ccc1O</td>\n",
       "      <td>NaN</td>\n",
       "      <td>InChI=1S/C10H10O4/c1-14-9-6-7(2-4-8(9)11)3-5-1...</td>\n",
       "      <td>194.18</td>\n",
       "      <td>C10H10O4</td>\n",
       "      <td>17620</td>\n",
       "    </tr>\n",
       "    <tr>\n",
       "      <th>4</th>\n",
       "      <td>Pinosylvin Methyl Ether</td>\n",
       "      <td>LSM-43902</td>\n",
       "      <td>NaN</td>\n",
       "      <td>5281719.0</td>\n",
       "      <td>COc1cc(O)cc(\\C=C\\c2ccccc2)c1</td>\n",
       "      <td>NaN</td>\n",
       "      <td>InChI=1S/C15H14O2/c1-17-15-10-13(9-14(16)11-15...</td>\n",
       "      <td>226.27</td>\n",
       "      <td>C15H14O2</td>\n",
       "      <td>8227</td>\n",
       "    </tr>\n",
       "  </tbody>\n",
       "</table>\n",
       "</div>"
      ],
      "text/plain": [
       "                     SM_Name SM_LINCS_ID SM_Alternative_Name  SM_PubChem_CID  \\\n",
       "0                Dichlobenil   LSM-19017                 NaN          3031.0   \n",
       "1                   AC1NWAJC   LSM-43967       Vulpinic acid       5701993.0   \n",
       "2  Sinapic Acid Methyl Ether   LSM-44124                 NaN        735755.0   \n",
       "3               Ferulic acid   LSM-44126        Ferulic acid        445858.0   \n",
       "4    Pinosylvin Methyl Ether   LSM-43902                 NaN       5281719.0   \n",
       "\n",
       "                                 SM_SMILES_Parent  SM_SMILES_Batch  \\\n",
       "0                               Clc1cccc(Cl)c1C#N              NaN   \n",
       "1  COC(=O)\\C(=C\\1/OC(=O)C(C1=O)c2ccccc2)\\c3ccccc3              NaN   \n",
       "2                   COc1cc(\\C=C\\C(=O)O)cc(OC)c1OC              NaN   \n",
       "3                        COc1cc(\\C=C\\C(=O)O)ccc1O              NaN   \n",
       "4                    COc1cc(O)cc(\\C=C\\c2ccccc2)c1              NaN   \n",
       "\n",
       "                                     SM_InChi_Parent  SM_Molecular_Mass  \\\n",
       "0    InChI=1S/C7H3Cl2N/c8-6-2-1-3-7(9)5(6)4-10/h1-3H             172.01   \n",
       "1  InChI=1S/C19H14O5/c1-23-18(21)15(13-10-6-3-7-1...             322.31   \n",
       "2  InChI=1S/C12H14O5/c1-15-9-6-8(4-5-11(13)14)7-1...             238.24   \n",
       "3  InChI=1S/C10H10O4/c1-14-9-6-7(2-4-8(9)11)3-5-1...             194.18   \n",
       "4  InChI=1S/C15H14O2/c1-17-15-10-13(9-14(16)11-15...             226.27   \n",
       "\n",
       "  MOLECULAR_FORMULA SM_ChEBI_ID  \n",
       "0          C7H3Cl2N         943  \n",
       "1          C19H14O5         NaN  \n",
       "2          C12H14O5         NaN  \n",
       "3          C10H10O4       17620  \n",
       "4          C15H14O2        8227  "
      ]
     },
     "execution_count": 149,
     "metadata": {},
     "output_type": "execute_result"
    }
   ],
   "source": [
    "lincs.head()"
   ]
  },
  {
   "cell_type": "markdown",
   "metadata": {},
   "source": [
    "## Get PubChemID and Map to Drug Name"
   ]
  },
  {
   "cell_type": "code",
   "execution_count": 80,
   "metadata": {},
   "outputs": [
    {
     "data": {
      "text/plain": [
       "(5628,)"
      ]
     },
     "execution_count": 80,
     "metadata": {},
     "output_type": "execute_result"
    }
   ],
   "source": [
    "namesdf = df['pert_iname']\n",
    "namesdf = namesdf.drop_duplicates()\n",
    "namesdf.shape"
   ]
  },
  {
   "cell_type": "code",
   "execution_count": null,
   "metadata": {
    "scrolled": true
   },
   "outputs": [],
   "source": [
    "nameslist = namesdf.tolist()\n",
    "failed_to_get_CID = 0\n",
    "CID_dict = {}\n",
    "\n",
    "for name in nameslist:\n",
    "    name = name.replace(' ','%20')\n",
    "    url = 'https://pubchem.ncbi.nlm.nih.gov/rest/pug/compound/name/' + name + '/cids/JSON'\n",
    "    response = requests.get(url)\n",
    "    try:\n",
    "        response.json()\n",
    "    except ValueError:\n",
    "        continue\n",
    "    if 'IdentifierList' in response.json().keys():\n",
    "        CID = response.json()['IdentifierList']['CID'][0]\n",
    "        name = name.replace('%20', ' ')\n",
    "        CID_dict[name] = CID\n",
    "    else:\n",
    "        failed_to_get_CID += 1\n",
    "        \n",
    "    if len(CID_dict) % 100 == 0:\n",
    "        name = name.replace('%20',' ')\n",
    "        print(nameslist.index(name))\n",
    "\n",
    "print(failed_to_get_CID)\n",
    "print(len(CID_dict))\n",
    "print(len(nameslist))"
   ]
  },
  {
   "cell_type": "code",
   "execution_count": 150,
   "metadata": {},
   "outputs": [],
   "source": [
    "CIDs = []\n",
    "for index, row in df.iterrows():\n",
    "    drugname = row.loc['pert_iname']\n",
    "    if drugname not in CID_dict:\n",
    "        df.drop(index, inplace = True)\n",
    "    else: \n",
    "        CIDs.append(int(CID_dict[drugname]))\n",
    "\n",
    "df.loc[:,'CIDs'] = pd.Series(np.array(CIDs), index=df.index)"
   ]
  },
  {
   "cell_type": "markdown",
   "metadata": {},
   "source": [
    "## Filter by LINCS Approved Small Molecules"
   ]
  },
  {
   "cell_type": "code",
   "execution_count": 151,
   "metadata": {},
   "outputs": [
    {
     "name": "stdout",
     "output_type": "stream",
     "text": [
      "1852\n"
     ]
    }
   ],
   "source": [
    "count = 0\n",
    "for index, row in df.iterrows():\n",
    "    CID = row.loc['CIDs']\n",
    "    if CID not in lincs['SM_PubChem_CID'].values:\n",
    "        df.drop(index, inplace = True)\n",
    "        count += 1\n",
    "        \n",
    "print(count)"
   ]
  },
  {
   "cell_type": "markdown",
   "metadata": {},
   "source": [
    "# For Targets, run this code"
   ]
  },
  {
   "cell_type": "code",
   "execution_count": 85,
   "metadata": {},
   "outputs": [],
   "source": [
    "df = df.dropna(subset=['target']) "
   ]
  },
  {
   "cell_type": "markdown",
   "metadata": {},
   "source": [
    "## Fix DrugRepurposing targets column"
   ]
  },
  {
   "cell_type": "code",
   "execution_count": 86,
   "metadata": {},
   "outputs": [
    {
     "name": "stdout",
     "output_type": "stream",
     "text": [
      "4948\n",
      "924\n"
     ]
    }
   ],
   "source": [
    "how_many = 0\n",
    "appended_df = []\n",
    "gene_index = np.where(df.columns.values=='target')[0][0]\n",
    "\n",
    "for index, row in df.iterrows():\n",
    "    gene_group = row.loc['target']\n",
    "    if '|' in gene_group:\n",
    "        gene_split = gene_group.split('|')\n",
    "        for i in gene_split:\n",
    "            row_as_list = row.values.tolist()\n",
    "            row_as_list[gene_index] = i\n",
    "            appended_df.append(row_as_list)\n",
    "        df.drop(index, inplace = True)\n",
    "        how_many += 1\n",
    "\n",
    "\n",
    "print(len(appended_df))\n",
    "print(how_many)"
   ]
  },
  {
   "cell_type": "code",
   "execution_count": 87,
   "metadata": {},
   "outputs": [],
   "source": [
    "columnnames = list(df.columns.values)\n",
    "fix_gene_df = pd.DataFrame(appended_df,columns = columnnames)"
   ]
  },
  {
   "cell_type": "code",
   "execution_count": 88,
   "metadata": {},
   "outputs": [
    {
     "data": {
      "text/html": [
       "<div>\n",
       "<style scoped>\n",
       "    .dataframe tbody tr th:only-of-type {\n",
       "        vertical-align: middle;\n",
       "    }\n",
       "\n",
       "    .dataframe tbody tr th {\n",
       "        vertical-align: top;\n",
       "    }\n",
       "\n",
       "    .dataframe thead th {\n",
       "        text-align: right;\n",
       "    }\n",
       "</style>\n",
       "<table border=\"1\" class=\"dataframe\">\n",
       "  <thead>\n",
       "    <tr style=\"text-align: right;\">\n",
       "      <th></th>\n",
       "      <th>pert_iname</th>\n",
       "      <th>clinical_phase</th>\n",
       "      <th>moa</th>\n",
       "      <th>target</th>\n",
       "      <th>CIDs</th>\n",
       "    </tr>\n",
       "  </thead>\n",
       "  <tbody>\n",
       "    <tr>\n",
       "      <th>0</th>\n",
       "      <td>AC-55649</td>\n",
       "      <td>Preclinical</td>\n",
       "      <td>retinoid receptor agonist</td>\n",
       "      <td>RARA</td>\n",
       "      <td>1714884</td>\n",
       "    </tr>\n",
       "    <tr>\n",
       "      <th>1</th>\n",
       "      <td>AC-55649</td>\n",
       "      <td>Preclinical</td>\n",
       "      <td>retinoid receptor agonist</td>\n",
       "      <td>RARB</td>\n",
       "      <td>1714884</td>\n",
       "    </tr>\n",
       "    <tr>\n",
       "      <th>2</th>\n",
       "      <td>acemetacin</td>\n",
       "      <td>Launched</td>\n",
       "      <td>cyclooxygenase inhibitor</td>\n",
       "      <td>PTGS1</td>\n",
       "      <td>1981</td>\n",
       "    </tr>\n",
       "    <tr>\n",
       "      <th>3</th>\n",
       "      <td>acemetacin</td>\n",
       "      <td>Launched</td>\n",
       "      <td>cyclooxygenase inhibitor</td>\n",
       "      <td>PTGS2</td>\n",
       "      <td>1981</td>\n",
       "    </tr>\n",
       "    <tr>\n",
       "      <th>4</th>\n",
       "      <td>acetohexamide</td>\n",
       "      <td>Launched</td>\n",
       "      <td>ATP channel blocker</td>\n",
       "      <td>ABCC8</td>\n",
       "      <td>1989</td>\n",
       "    </tr>\n",
       "  </tbody>\n",
       "</table>\n",
       "</div>"
      ],
      "text/plain": [
       "      pert_iname clinical_phase                        moa target     CIDs\n",
       "0       AC-55649    Preclinical  retinoid receptor agonist   RARA  1714884\n",
       "1       AC-55649    Preclinical  retinoid receptor agonist   RARB  1714884\n",
       "2     acemetacin       Launched   cyclooxygenase inhibitor  PTGS1     1981\n",
       "3     acemetacin       Launched   cyclooxygenase inhibitor  PTGS2     1981\n",
       "4  acetohexamide       Launched        ATP channel blocker  ABCC8     1989"
      ]
     },
     "execution_count": 88,
     "metadata": {},
     "output_type": "execute_result"
    }
   ],
   "source": [
    "fix_gene_df.head()"
   ]
  },
  {
   "cell_type": "code",
   "execution_count": 89,
   "metadata": {},
   "outputs": [],
   "source": [
    "df = df.append(fix_gene_df)"
   ]
  },
  {
   "cell_type": "code",
   "execution_count": 90,
   "metadata": {},
   "outputs": [
    {
     "data": {
      "text/html": [
       "<div>\n",
       "<style scoped>\n",
       "    .dataframe tbody tr th:only-of-type {\n",
       "        vertical-align: middle;\n",
       "    }\n",
       "\n",
       "    .dataframe tbody tr th {\n",
       "        vertical-align: top;\n",
       "    }\n",
       "\n",
       "    .dataframe thead th {\n",
       "        text-align: right;\n",
       "    }\n",
       "</style>\n",
       "<table border=\"1\" class=\"dataframe\">\n",
       "  <thead>\n",
       "    <tr style=\"text-align: right;\">\n",
       "      <th></th>\n",
       "      <th>pert_iname</th>\n",
       "      <th>clinical_phase</th>\n",
       "      <th>moa</th>\n",
       "      <th>target</th>\n",
       "      <th>CIDs</th>\n",
       "    </tr>\n",
       "  </thead>\n",
       "  <tbody>\n",
       "    <tr>\n",
       "      <th>12</th>\n",
       "      <td>ABC-294640</td>\n",
       "      <td>Phase 1/Phase 2</td>\n",
       "      <td>sphingosine kinase inhibitor</td>\n",
       "      <td>SPHK2</td>\n",
       "      <td>15604015</td>\n",
       "    </tr>\n",
       "    <tr>\n",
       "      <th>36</th>\n",
       "      <td>aceclofenac</td>\n",
       "      <td>Launched</td>\n",
       "      <td>prostanoid receptor antagonist</td>\n",
       "      <td>PTGS2</td>\n",
       "      <td>71771</td>\n",
       "    </tr>\n",
       "    <tr>\n",
       "      <th>39</th>\n",
       "      <td>acefylline</td>\n",
       "      <td>Launched</td>\n",
       "      <td>adenosine receptor agonist</td>\n",
       "      <td>ADORA1</td>\n",
       "      <td>69550</td>\n",
       "    </tr>\n",
       "    <tr>\n",
       "      <th>53</th>\n",
       "      <td>acetyl-farnesyl-cysteine</td>\n",
       "      <td>Launched</td>\n",
       "      <td>methyltransferase inhibitor</td>\n",
       "      <td>PPARG</td>\n",
       "      <td>6438381</td>\n",
       "    </tr>\n",
       "    <tr>\n",
       "      <th>61</th>\n",
       "      <td>acipimox</td>\n",
       "      <td>Launched</td>\n",
       "      <td>cholesterol inhibitor</td>\n",
       "      <td>HCAR2</td>\n",
       "      <td>5310993</td>\n",
       "    </tr>\n",
       "  </tbody>\n",
       "</table>\n",
       "</div>"
      ],
      "text/plain": [
       "                  pert_iname   clinical_phase                             moa  \\\n",
       "12                ABC-294640  Phase 1/Phase 2    sphingosine kinase inhibitor   \n",
       "36               aceclofenac         Launched  prostanoid receptor antagonist   \n",
       "39                acefylline         Launched      adenosine receptor agonist   \n",
       "53  acetyl-farnesyl-cysteine         Launched     methyltransferase inhibitor   \n",
       "61                  acipimox         Launched           cholesterol inhibitor   \n",
       "\n",
       "    target      CIDs  \n",
       "12   SPHK2  15604015  \n",
       "36   PTGS2     71771  \n",
       "39  ADORA1     69550  \n",
       "53   PPARG   6438381  \n",
       "61   HCAR2   5310993  "
      ]
     },
     "execution_count": 90,
     "metadata": {},
     "output_type": "execute_result"
    }
   ],
   "source": [
    "df.head()"
   ]
  },
  {
   "cell_type": "markdown",
   "metadata": {},
   "source": [
    "## Update Target Names"
   ]
  },
  {
   "cell_type": "code",
   "execution_count": 91,
   "metadata": {},
   "outputs": [],
   "source": [
    "df = df.rename(index=str, columns = {'target':'Old Targets'})\n",
    "df.set_index('Old Targets', inplace = True)"
   ]
  },
  {
   "cell_type": "code",
   "execution_count": 92,
   "metadata": {},
   "outputs": [],
   "source": [
    "target_update.set_index('Old Targets',inplace = True)"
   ]
  },
  {
   "cell_type": "code",
   "execution_count": 93,
   "metadata": {},
   "outputs": [
    {
     "data": {
      "text/plain": [
       "(5616, 5)"
      ]
     },
     "execution_count": 93,
     "metadata": {},
     "output_type": "execute_result"
    }
   ],
   "source": [
    "df = pd.merge(df, target_update, how= 'left', on = 'Old Targets')\n",
    "df.shape"
   ]
  },
  {
   "cell_type": "code",
   "execution_count": 94,
   "metadata": {},
   "outputs": [],
   "source": [
    "df.reset_index(inplace=True)\n",
    "df = df.rename(index=str, columns = {'Updated Targets':'Targets'})\n",
    "df = df.dropna(subset=['Targets']) "
   ]
  },
  {
   "cell_type": "code",
   "execution_count": 95,
   "metadata": {
    "scrolled": true
   },
   "outputs": [
    {
     "data": {
      "text/plain": [
       "(5614, 6)"
      ]
     },
     "execution_count": 95,
     "metadata": {},
     "output_type": "execute_result"
    }
   ],
   "source": [
    "df.shape"
   ]
  },
  {
   "cell_type": "markdown",
   "metadata": {},
   "source": [
    "## Targets Binary Matrix"
   ]
  },
  {
   "cell_type": "code",
   "execution_count": 96,
   "metadata": {},
   "outputs": [],
   "source": [
    "grouped_df = df.groupby(['Targets'])['CIDs'].apply(lambda x: ','.join(x.astype(str))).reset_index()"
   ]
  },
  {
   "cell_type": "code",
   "execution_count": 97,
   "metadata": {},
   "outputs": [
    {
     "data": {
      "text/plain": [
       "1161"
      ]
     },
     "execution_count": 97,
     "metadata": {},
     "output_type": "execute_result"
    }
   ],
   "source": [
    "grouped_df.set_index('Targets', inplace=True)\n",
    "grouped_df = grouped_df.sort_index()\n",
    "len(df['Targets'].unique())"
   ]
  },
  {
   "cell_type": "code",
   "execution_count": 98,
   "metadata": {},
   "outputs": [],
   "source": [
    "grouped_matrix = grouped_df.iloc[:,0].str.get_dummies(sep=',')"
   ]
  },
  {
   "cell_type": "code",
   "execution_count": 99,
   "metadata": {},
   "outputs": [
    {
     "data": {
      "text/html": [
       "<div>\n",
       "<style scoped>\n",
       "    .dataframe tbody tr th:only-of-type {\n",
       "        vertical-align: middle;\n",
       "    }\n",
       "\n",
       "    .dataframe tbody tr th {\n",
       "        vertical-align: top;\n",
       "    }\n",
       "\n",
       "    .dataframe thead th {\n",
       "        text-align: right;\n",
       "    }\n",
       "</style>\n",
       "<table border=\"1\" class=\"dataframe\">\n",
       "  <thead>\n",
       "    <tr style=\"text-align: right;\">\n",
       "      <th></th>\n",
       "      <th>10000456</th>\n",
       "      <th>100016</th>\n",
       "      <th>10029385</th>\n",
       "      <th>10071166</th>\n",
       "      <th>10071196</th>\n",
       "      <th>10074640</th>\n",
       "      <th>10077147</th>\n",
       "      <th>10096344</th>\n",
       "      <th>10113978</th>\n",
       "      <th>10117987</th>\n",
       "      <th>...</th>\n",
       "      <th>9952773</th>\n",
       "      <th>9952884</th>\n",
       "      <th>9953599</th>\n",
       "      <th>9953769</th>\n",
       "      <th>9956119</th>\n",
       "      <th>9956637</th>\n",
       "      <th>9960285</th>\n",
       "      <th>9966051</th>\n",
       "      <th>9967941</th>\n",
       "      <th>9989505</th>\n",
       "    </tr>\n",
       "    <tr>\n",
       "      <th>Targets</th>\n",
       "      <th></th>\n",
       "      <th></th>\n",
       "      <th></th>\n",
       "      <th></th>\n",
       "      <th></th>\n",
       "      <th></th>\n",
       "      <th></th>\n",
       "      <th></th>\n",
       "      <th></th>\n",
       "      <th></th>\n",
       "      <th></th>\n",
       "      <th></th>\n",
       "      <th></th>\n",
       "      <th></th>\n",
       "      <th></th>\n",
       "      <th></th>\n",
       "      <th></th>\n",
       "      <th></th>\n",
       "      <th></th>\n",
       "      <th></th>\n",
       "      <th></th>\n",
       "    </tr>\n",
       "  </thead>\n",
       "  <tbody>\n",
       "    <tr>\n",
       "      <th>ABAT</th>\n",
       "      <td>0</td>\n",
       "      <td>0</td>\n",
       "      <td>0</td>\n",
       "      <td>0</td>\n",
       "      <td>0</td>\n",
       "      <td>0</td>\n",
       "      <td>0</td>\n",
       "      <td>0</td>\n",
       "      <td>0</td>\n",
       "      <td>0</td>\n",
       "      <td>...</td>\n",
       "      <td>0</td>\n",
       "      <td>0</td>\n",
       "      <td>0</td>\n",
       "      <td>0</td>\n",
       "      <td>0</td>\n",
       "      <td>0</td>\n",
       "      <td>0</td>\n",
       "      <td>0</td>\n",
       "      <td>0</td>\n",
       "      <td>0</td>\n",
       "    </tr>\n",
       "    <tr>\n",
       "      <th>ABCA1</th>\n",
       "      <td>0</td>\n",
       "      <td>0</td>\n",
       "      <td>0</td>\n",
       "      <td>0</td>\n",
       "      <td>0</td>\n",
       "      <td>0</td>\n",
       "      <td>0</td>\n",
       "      <td>0</td>\n",
       "      <td>0</td>\n",
       "      <td>0</td>\n",
       "      <td>...</td>\n",
       "      <td>0</td>\n",
       "      <td>0</td>\n",
       "      <td>0</td>\n",
       "      <td>0</td>\n",
       "      <td>0</td>\n",
       "      <td>0</td>\n",
       "      <td>0</td>\n",
       "      <td>0</td>\n",
       "      <td>0</td>\n",
       "      <td>0</td>\n",
       "    </tr>\n",
       "    <tr>\n",
       "      <th>ABCB1</th>\n",
       "      <td>0</td>\n",
       "      <td>0</td>\n",
       "      <td>0</td>\n",
       "      <td>0</td>\n",
       "      <td>0</td>\n",
       "      <td>0</td>\n",
       "      <td>0</td>\n",
       "      <td>0</td>\n",
       "      <td>0</td>\n",
       "      <td>0</td>\n",
       "      <td>...</td>\n",
       "      <td>0</td>\n",
       "      <td>0</td>\n",
       "      <td>0</td>\n",
       "      <td>0</td>\n",
       "      <td>0</td>\n",
       "      <td>0</td>\n",
       "      <td>0</td>\n",
       "      <td>0</td>\n",
       "      <td>0</td>\n",
       "      <td>0</td>\n",
       "    </tr>\n",
       "    <tr>\n",
       "      <th>ABCB11</th>\n",
       "      <td>0</td>\n",
       "      <td>0</td>\n",
       "      <td>0</td>\n",
       "      <td>0</td>\n",
       "      <td>0</td>\n",
       "      <td>0</td>\n",
       "      <td>0</td>\n",
       "      <td>0</td>\n",
       "      <td>0</td>\n",
       "      <td>0</td>\n",
       "      <td>...</td>\n",
       "      <td>0</td>\n",
       "      <td>0</td>\n",
       "      <td>0</td>\n",
       "      <td>0</td>\n",
       "      <td>0</td>\n",
       "      <td>0</td>\n",
       "      <td>0</td>\n",
       "      <td>0</td>\n",
       "      <td>0</td>\n",
       "      <td>0</td>\n",
       "    </tr>\n",
       "    <tr>\n",
       "      <th>ABCB4</th>\n",
       "      <td>0</td>\n",
       "      <td>0</td>\n",
       "      <td>0</td>\n",
       "      <td>0</td>\n",
       "      <td>0</td>\n",
       "      <td>0</td>\n",
       "      <td>0</td>\n",
       "      <td>0</td>\n",
       "      <td>0</td>\n",
       "      <td>0</td>\n",
       "      <td>...</td>\n",
       "      <td>0</td>\n",
       "      <td>0</td>\n",
       "      <td>0</td>\n",
       "      <td>0</td>\n",
       "      <td>0</td>\n",
       "      <td>0</td>\n",
       "      <td>0</td>\n",
       "      <td>0</td>\n",
       "      <td>0</td>\n",
       "      <td>0</td>\n",
       "    </tr>\n",
       "  </tbody>\n",
       "</table>\n",
       "<p>5 rows × 1589 columns</p>\n",
       "</div>"
      ],
      "text/plain": [
       "         10000456  100016  10029385  10071166  10071196  10074640  10077147  \\\n",
       "Targets                                                                       \n",
       "ABAT            0       0         0         0         0         0         0   \n",
       "ABCA1           0       0         0         0         0         0         0   \n",
       "ABCB1           0       0         0         0         0         0         0   \n",
       "ABCB11          0       0         0         0         0         0         0   \n",
       "ABCB4           0       0         0         0         0         0         0   \n",
       "\n",
       "         10096344  10113978  10117987   ...     9952773  9952884  9953599  \\\n",
       "Targets                                 ...                                 \n",
       "ABAT            0         0         0   ...           0        0        0   \n",
       "ABCA1           0         0         0   ...           0        0        0   \n",
       "ABCB1           0         0         0   ...           0        0        0   \n",
       "ABCB11          0         0         0   ...           0        0        0   \n",
       "ABCB4           0         0         0   ...           0        0        0   \n",
       "\n",
       "         9953769  9956119  9956637  9960285  9966051  9967941  9989505  \n",
       "Targets                                                                 \n",
       "ABAT           0        0        0        0        0        0        0  \n",
       "ABCA1          0        0        0        0        0        0        0  \n",
       "ABCB1          0        0        0        0        0        0        0  \n",
       "ABCB11         0        0        0        0        0        0        0  \n",
       "ABCB4          0        0        0        0        0        0        0  \n",
       "\n",
       "[5 rows x 1589 columns]"
      ]
     },
     "execution_count": 99,
     "metadata": {},
     "output_type": "execute_result"
    }
   ],
   "source": [
    "grouped_matrix.head()"
   ]
  },
  {
   "cell_type": "code",
   "execution_count": 100,
   "metadata": {},
   "outputs": [
    {
     "data": {
      "text/plain": [
       "(1161, 1589)"
      ]
     },
     "execution_count": 100,
     "metadata": {},
     "output_type": "execute_result"
    }
   ],
   "source": [
    "grouped_matrix.shape"
   ]
  },
  {
   "cell_type": "markdown",
   "metadata": {},
   "source": [
    "## Save Targets Binary Matrix"
   ]
  },
  {
   "cell_type": "code",
   "execution_count": 101,
   "metadata": {},
   "outputs": [],
   "source": [
    "filename = 'Output/DrugRepurposing_Targets_%s.tsv.zip'% str(datetime.date.today())[0:7].replace('-', '_')\n",
    "grouped_matrix.to_csv(filename, sep='\\t', compression='gzip')"
   ]
  },
  {
   "cell_type": "markdown",
   "metadata": {},
   "source": [
    "## Convert Binary Matrix to GMT and Save as GMT"
   ]
  },
  {
   "cell_type": "code",
   "execution_count": 102,
   "metadata": {},
   "outputs": [],
   "source": [
    "drugset_library = []\n",
    "for index, row in grouped_matrix.iterrows():\n",
    "    drugset = []\n",
    "    drugset.append(index)\n",
    "    drugset.append('')\n",
    "    for i in range(grouped_matrix.shape[1]):\n",
    "        if row.iloc[i]==1:\n",
    "            drugset.append(row.index[i])\n",
    "    if len(drugset) >= 7:\n",
    "        drugset_library.append(drugset)\n",
    "dsl = np.array(drugset_library)"
   ]
  },
  {
   "cell_type": "code",
   "execution_count": 103,
   "metadata": {},
   "outputs": [
    {
     "data": {
      "text/plain": [
       "83"
      ]
     },
     "execution_count": 103,
     "metadata": {},
     "output_type": "execute_result"
    }
   ],
   "source": [
    "len(max(dsl, key=len))"
   ]
  },
  {
   "cell_type": "code",
   "execution_count": 104,
   "metadata": {},
   "outputs": [],
   "source": [
    "filename = 'Output/DrugRepurposing_Targets_DrugSetLibrary_%s.gmt'% str(datetime.date.today())[0:7].replace('-', '_')\n",
    "with open(filename,'w',encoding='utf-8') as f:\n",
    "    for row in dsl:\n",
    "        np.savetxt(f, [row], fmt = '%s',delimiter = '\\t')"
   ]
  },
  {
   "cell_type": "markdown",
   "metadata": {},
   "source": [
    "# For MOA, run this code"
   ]
  },
  {
   "cell_type": "code",
   "execution_count": 152,
   "metadata": {},
   "outputs": [],
   "source": [
    "df = df.dropna(subset=['moa']) "
   ]
  },
  {
   "cell_type": "code",
   "execution_count": 153,
   "metadata": {},
   "outputs": [
    {
     "data": {
      "text/html": [
       "<div>\n",
       "<style scoped>\n",
       "    .dataframe tbody tr th:only-of-type {\n",
       "        vertical-align: middle;\n",
       "    }\n",
       "\n",
       "    .dataframe tbody tr th {\n",
       "        vertical-align: top;\n",
       "    }\n",
       "\n",
       "    .dataframe thead th {\n",
       "        text-align: right;\n",
       "    }\n",
       "</style>\n",
       "<table border=\"1\" class=\"dataframe\">\n",
       "  <thead>\n",
       "    <tr style=\"text-align: right;\">\n",
       "      <th></th>\n",
       "      <th>pert_iname</th>\n",
       "      <th>clinical_phase</th>\n",
       "      <th>moa</th>\n",
       "      <th>target</th>\n",
       "      <th>CIDs</th>\n",
       "    </tr>\n",
       "  </thead>\n",
       "  <tbody>\n",
       "    <tr>\n",
       "      <th>6</th>\n",
       "      <td>A-769662</td>\n",
       "      <td>Preclinical</td>\n",
       "      <td>AMPK activator</td>\n",
       "      <td>NaN</td>\n",
       "      <td>54708532</td>\n",
       "    </tr>\n",
       "    <tr>\n",
       "      <th>12</th>\n",
       "      <td>ABC-294640</td>\n",
       "      <td>Phase 1/Phase 2</td>\n",
       "      <td>sphingosine kinase inhibitor</td>\n",
       "      <td>SPHK2</td>\n",
       "      <td>15604015</td>\n",
       "    </tr>\n",
       "    <tr>\n",
       "      <th>25</th>\n",
       "      <td>AC-55649</td>\n",
       "      <td>Preclinical</td>\n",
       "      <td>retinoid receptor agonist</td>\n",
       "      <td>RARA|RARB</td>\n",
       "      <td>1714884</td>\n",
       "    </tr>\n",
       "    <tr>\n",
       "      <th>36</th>\n",
       "      <td>aceclofenac</td>\n",
       "      <td>Launched</td>\n",
       "      <td>prostanoid receptor antagonist</td>\n",
       "      <td>PTGS2</td>\n",
       "      <td>71771</td>\n",
       "    </tr>\n",
       "    <tr>\n",
       "      <th>39</th>\n",
       "      <td>acefylline</td>\n",
       "      <td>Launched</td>\n",
       "      <td>adenosine receptor agonist</td>\n",
       "      <td>ADORA1</td>\n",
       "      <td>69550</td>\n",
       "    </tr>\n",
       "  </tbody>\n",
       "</table>\n",
       "</div>"
      ],
      "text/plain": [
       "     pert_iname   clinical_phase                             moa     target  \\\n",
       "6      A-769662      Preclinical                  AMPK activator        NaN   \n",
       "12   ABC-294640  Phase 1/Phase 2    sphingosine kinase inhibitor      SPHK2   \n",
       "25     AC-55649      Preclinical       retinoid receptor agonist  RARA|RARB   \n",
       "36  aceclofenac         Launched  prostanoid receptor antagonist      PTGS2   \n",
       "39   acefylline         Launched      adenosine receptor agonist     ADORA1   \n",
       "\n",
       "        CIDs  \n",
       "6   54708532  \n",
       "12  15604015  \n",
       "25   1714884  \n",
       "36     71771  \n",
       "39     69550  "
      ]
     },
     "execution_count": 153,
     "metadata": {},
     "output_type": "execute_result"
    }
   ],
   "source": [
    "df.head()"
   ]
  },
  {
   "cell_type": "code",
   "execution_count": 154,
   "metadata": {},
   "outputs": [],
   "source": [
    "df = df.rename(index=str, columns = {'moa':'MOA'})"
   ]
  },
  {
   "cell_type": "markdown",
   "metadata": {},
   "source": [
    "## Fix MOA Column"
   ]
  },
  {
   "cell_type": "code",
   "execution_count": 155,
   "metadata": {},
   "outputs": [
    {
     "name": "stdout",
     "output_type": "stream",
     "text": [
      "518\n",
      "221\n"
     ]
    }
   ],
   "source": [
    "how_many = 0\n",
    "appended_df = []\n",
    "moa_index = np.where(df.columns.values=='MOA')[0][0]\n",
    "\n",
    "for index, row in df.iterrows():\n",
    "    moa_group = row.loc['MOA']\n",
    "    if '|' in moa_group:\n",
    "        moa_split = moa_group.split('|')\n",
    "        for i in moa_split:\n",
    "            row_as_list = row.values.tolist()\n",
    "            row_as_list[moa_index] = i\n",
    "            appended_df.append(row_as_list)\n",
    "        df.drop(index, inplace = True)\n",
    "        how_many += 1\n",
    "\n",
    "\n",
    "print(len(appended_df))\n",
    "print(how_many)"
   ]
  },
  {
   "cell_type": "code",
   "execution_count": 156,
   "metadata": {},
   "outputs": [
    {
     "data": {
      "text/html": [
       "<div>\n",
       "<style scoped>\n",
       "    .dataframe tbody tr th:only-of-type {\n",
       "        vertical-align: middle;\n",
       "    }\n",
       "\n",
       "    .dataframe tbody tr th {\n",
       "        vertical-align: top;\n",
       "    }\n",
       "\n",
       "    .dataframe thead th {\n",
       "        text-align: right;\n",
       "    }\n",
       "</style>\n",
       "<table border=\"1\" class=\"dataframe\">\n",
       "  <thead>\n",
       "    <tr style=\"text-align: right;\">\n",
       "      <th></th>\n",
       "      <th>pert_iname</th>\n",
       "      <th>clinical_phase</th>\n",
       "      <th>MOA</th>\n",
       "      <th>target</th>\n",
       "      <th>CIDs</th>\n",
       "    </tr>\n",
       "  </thead>\n",
       "  <tbody>\n",
       "    <tr>\n",
       "      <th>0</th>\n",
       "      <td>adatanserin</td>\n",
       "      <td>Phase 2</td>\n",
       "      <td>serotonin receptor agonist</td>\n",
       "      <td>HTR1A|HTR2A</td>\n",
       "      <td>130918</td>\n",
       "    </tr>\n",
       "    <tr>\n",
       "      <th>1</th>\n",
       "      <td>adatanserin</td>\n",
       "      <td>Phase 2</td>\n",
       "      <td>serotonin receptor antagonist</td>\n",
       "      <td>HTR1A|HTR2A</td>\n",
       "      <td>130918</td>\n",
       "    </tr>\n",
       "    <tr>\n",
       "      <th>2</th>\n",
       "      <td>agomelatine</td>\n",
       "      <td>Launched</td>\n",
       "      <td>melatonin receptor agonist</td>\n",
       "      <td>HTR2A|HTR2B|HTR2C|MTNR1A|MTNR1B</td>\n",
       "      <td>82148</td>\n",
       "    </tr>\n",
       "    <tr>\n",
       "      <th>3</th>\n",
       "      <td>agomelatine</td>\n",
       "      <td>Launched</td>\n",
       "      <td>serotonin receptor antagonist</td>\n",
       "      <td>HTR2A|HTR2B|HTR2C|MTNR1A|MTNR1B</td>\n",
       "      <td>82148</td>\n",
       "    </tr>\n",
       "    <tr>\n",
       "      <th>4</th>\n",
       "      <td>AM-404</td>\n",
       "      <td>Preclinical</td>\n",
       "      <td>cyclooxygenase inhibitor</td>\n",
       "      <td>CNR1|CNR2|FAAH|TRPV1</td>\n",
       "      <td>6604822</td>\n",
       "    </tr>\n",
       "  </tbody>\n",
       "</table>\n",
       "</div>"
      ],
      "text/plain": [
       "    pert_iname clinical_phase                            MOA  \\\n",
       "0  adatanserin        Phase 2     serotonin receptor agonist   \n",
       "1  adatanserin        Phase 2  serotonin receptor antagonist   \n",
       "2  agomelatine       Launched     melatonin receptor agonist   \n",
       "3  agomelatine       Launched  serotonin receptor antagonist   \n",
       "4       AM-404    Preclinical       cyclooxygenase inhibitor   \n",
       "\n",
       "                            target     CIDs  \n",
       "0                      HTR1A|HTR2A   130918  \n",
       "1                      HTR1A|HTR2A   130918  \n",
       "2  HTR2A|HTR2B|HTR2C|MTNR1A|MTNR1B    82148  \n",
       "3  HTR2A|HTR2B|HTR2C|MTNR1A|MTNR1B    82148  \n",
       "4             CNR1|CNR2|FAAH|TRPV1  6604822  "
      ]
     },
     "execution_count": 156,
     "metadata": {},
     "output_type": "execute_result"
    }
   ],
   "source": [
    "columnnames = list(df.columns.values)\n",
    "fix_moa_df = pd.DataFrame(appended_df,columns = columnnames)\n",
    "fix_moa_df.head()"
   ]
  },
  {
   "cell_type": "code",
   "execution_count": 157,
   "metadata": {},
   "outputs": [
    {
     "data": {
      "text/html": [
       "<div>\n",
       "<style scoped>\n",
       "    .dataframe tbody tr th:only-of-type {\n",
       "        vertical-align: middle;\n",
       "    }\n",
       "\n",
       "    .dataframe tbody tr th {\n",
       "        vertical-align: top;\n",
       "    }\n",
       "\n",
       "    .dataframe thead th {\n",
       "        text-align: right;\n",
       "    }\n",
       "</style>\n",
       "<table border=\"1\" class=\"dataframe\">\n",
       "  <thead>\n",
       "    <tr style=\"text-align: right;\">\n",
       "      <th></th>\n",
       "      <th>pert_iname</th>\n",
       "      <th>clinical_phase</th>\n",
       "      <th>MOA</th>\n",
       "      <th>target</th>\n",
       "      <th>CIDs</th>\n",
       "    </tr>\n",
       "  </thead>\n",
       "  <tbody>\n",
       "    <tr>\n",
       "      <th>0</th>\n",
       "      <td>adatanserin</td>\n",
       "      <td>Phase 2</td>\n",
       "      <td>serotonin receptor agonist</td>\n",
       "      <td>HTR1A|HTR2A</td>\n",
       "      <td>130918</td>\n",
       "    </tr>\n",
       "    <tr>\n",
       "      <th>1</th>\n",
       "      <td>adatanserin</td>\n",
       "      <td>Phase 2</td>\n",
       "      <td>serotonin receptor antagonist</td>\n",
       "      <td>HTR1A|HTR2A</td>\n",
       "      <td>130918</td>\n",
       "    </tr>\n",
       "    <tr>\n",
       "      <th>2</th>\n",
       "      <td>agomelatine</td>\n",
       "      <td>Launched</td>\n",
       "      <td>melatonin receptor agonist</td>\n",
       "      <td>HTR2A|HTR2B|HTR2C|MTNR1A|MTNR1B</td>\n",
       "      <td>82148</td>\n",
       "    </tr>\n",
       "    <tr>\n",
       "      <th>3</th>\n",
       "      <td>agomelatine</td>\n",
       "      <td>Launched</td>\n",
       "      <td>serotonin receptor antagonist</td>\n",
       "      <td>HTR2A|HTR2B|HTR2C|MTNR1A|MTNR1B</td>\n",
       "      <td>82148</td>\n",
       "    </tr>\n",
       "    <tr>\n",
       "      <th>4</th>\n",
       "      <td>AM-404</td>\n",
       "      <td>Preclinical</td>\n",
       "      <td>cyclooxygenase inhibitor</td>\n",
       "      <td>CNR1|CNR2|FAAH|TRPV1</td>\n",
       "      <td>6604822</td>\n",
       "    </tr>\n",
       "  </tbody>\n",
       "</table>\n",
       "</div>"
      ],
      "text/plain": [
       "    pert_iname clinical_phase                            MOA  \\\n",
       "0  adatanserin        Phase 2     serotonin receptor agonist   \n",
       "1  adatanserin        Phase 2  serotonin receptor antagonist   \n",
       "2  agomelatine       Launched     melatonin receptor agonist   \n",
       "3  agomelatine       Launched  serotonin receptor antagonist   \n",
       "4       AM-404    Preclinical       cyclooxygenase inhibitor   \n",
       "\n",
       "                            target     CIDs  \n",
       "0                      HTR1A|HTR2A   130918  \n",
       "1                      HTR1A|HTR2A   130918  \n",
       "2  HTR2A|HTR2B|HTR2C|MTNR1A|MTNR1B    82148  \n",
       "3  HTR2A|HTR2B|HTR2C|MTNR1A|MTNR1B    82148  \n",
       "4             CNR1|CNR2|FAAH|TRPV1  6604822  "
      ]
     },
     "execution_count": 157,
     "metadata": {},
     "output_type": "execute_result"
    }
   ],
   "source": [
    "df = df.append(fix_moa_df)\n",
    "fix_moa_df.head()"
   ]
  },
  {
   "cell_type": "markdown",
   "metadata": {},
   "source": [
    "## MOA Binary Matrix"
   ]
  },
  {
   "cell_type": "code",
   "execution_count": 158,
   "metadata": {},
   "outputs": [],
   "source": [
    "grouped_df = df.groupby(['MOA'])['CIDs'].apply(lambda x: ','.join(x.astype(str))).reset_index()"
   ]
  },
  {
   "cell_type": "code",
   "execution_count": 159,
   "metadata": {},
   "outputs": [
    {
     "data": {
      "text/plain": [
       "573"
      ]
     },
     "execution_count": 159,
     "metadata": {},
     "output_type": "execute_result"
    }
   ],
   "source": [
    "grouped_df.set_index('MOA', inplace=True)\n",
    "grouped_df = grouped_df.sort_index()\n",
    "len(df['MOA'].unique())"
   ]
  },
  {
   "cell_type": "code",
   "execution_count": 160,
   "metadata": {},
   "outputs": [
    {
     "data": {
      "text/html": [
       "<div>\n",
       "<style scoped>\n",
       "    .dataframe tbody tr th:only-of-type {\n",
       "        vertical-align: middle;\n",
       "    }\n",
       "\n",
       "    .dataframe tbody tr th {\n",
       "        vertical-align: top;\n",
       "    }\n",
       "\n",
       "    .dataframe thead th {\n",
       "        text-align: right;\n",
       "    }\n",
       "</style>\n",
       "<table border=\"1\" class=\"dataframe\">\n",
       "  <thead>\n",
       "    <tr style=\"text-align: right;\">\n",
       "      <th></th>\n",
       "      <th>10000456</th>\n",
       "      <th>100016</th>\n",
       "      <th>10029385</th>\n",
       "      <th>10071166</th>\n",
       "      <th>10071196</th>\n",
       "      <th>10074640</th>\n",
       "      <th>10077147</th>\n",
       "      <th>10096344</th>\n",
       "      <th>10113978</th>\n",
       "      <th>10117987</th>\n",
       "      <th>...</th>\n",
       "      <th>9952884</th>\n",
       "      <th>9953599</th>\n",
       "      <th>9953769</th>\n",
       "      <th>9956119</th>\n",
       "      <th>9956222</th>\n",
       "      <th>9956637</th>\n",
       "      <th>9960285</th>\n",
       "      <th>9966051</th>\n",
       "      <th>9967941</th>\n",
       "      <th>9989505</th>\n",
       "    </tr>\n",
       "    <tr>\n",
       "      <th>MOA</th>\n",
       "      <th></th>\n",
       "      <th></th>\n",
       "      <th></th>\n",
       "      <th></th>\n",
       "      <th></th>\n",
       "      <th></th>\n",
       "      <th></th>\n",
       "      <th></th>\n",
       "      <th></th>\n",
       "      <th></th>\n",
       "      <th></th>\n",
       "      <th></th>\n",
       "      <th></th>\n",
       "      <th></th>\n",
       "      <th></th>\n",
       "      <th></th>\n",
       "      <th></th>\n",
       "      <th></th>\n",
       "      <th></th>\n",
       "      <th></th>\n",
       "      <th></th>\n",
       "    </tr>\n",
       "  </thead>\n",
       "  <tbody>\n",
       "    <tr>\n",
       "      <th>11-beta hydroxysteroid dehydrogenase inhibitor</th>\n",
       "      <td>0</td>\n",
       "      <td>0</td>\n",
       "      <td>0</td>\n",
       "      <td>0</td>\n",
       "      <td>0</td>\n",
       "      <td>0</td>\n",
       "      <td>0</td>\n",
       "      <td>0</td>\n",
       "      <td>0</td>\n",
       "      <td>0</td>\n",
       "      <td>...</td>\n",
       "      <td>0</td>\n",
       "      <td>0</td>\n",
       "      <td>0</td>\n",
       "      <td>0</td>\n",
       "      <td>0</td>\n",
       "      <td>0</td>\n",
       "      <td>0</td>\n",
       "      <td>0</td>\n",
       "      <td>0</td>\n",
       "      <td>0</td>\n",
       "    </tr>\n",
       "    <tr>\n",
       "      <th>3-ketoacyl CoA thiolase inhibitor</th>\n",
       "      <td>0</td>\n",
       "      <td>0</td>\n",
       "      <td>0</td>\n",
       "      <td>0</td>\n",
       "      <td>0</td>\n",
       "      <td>0</td>\n",
       "      <td>0</td>\n",
       "      <td>0</td>\n",
       "      <td>0</td>\n",
       "      <td>0</td>\n",
       "      <td>...</td>\n",
       "      <td>0</td>\n",
       "      <td>0</td>\n",
       "      <td>0</td>\n",
       "      <td>0</td>\n",
       "      <td>0</td>\n",
       "      <td>0</td>\n",
       "      <td>0</td>\n",
       "      <td>0</td>\n",
       "      <td>0</td>\n",
       "      <td>0</td>\n",
       "    </tr>\n",
       "    <tr>\n",
       "      <th>5 alpha reductase inhibitor</th>\n",
       "      <td>0</td>\n",
       "      <td>0</td>\n",
       "      <td>0</td>\n",
       "      <td>0</td>\n",
       "      <td>0</td>\n",
       "      <td>0</td>\n",
       "      <td>0</td>\n",
       "      <td>0</td>\n",
       "      <td>0</td>\n",
       "      <td>0</td>\n",
       "      <td>...</td>\n",
       "      <td>0</td>\n",
       "      <td>0</td>\n",
       "      <td>0</td>\n",
       "      <td>0</td>\n",
       "      <td>0</td>\n",
       "      <td>0</td>\n",
       "      <td>0</td>\n",
       "      <td>0</td>\n",
       "      <td>0</td>\n",
       "      <td>0</td>\n",
       "    </tr>\n",
       "    <tr>\n",
       "      <th>ACAT inhibitor</th>\n",
       "      <td>0</td>\n",
       "      <td>0</td>\n",
       "      <td>0</td>\n",
       "      <td>0</td>\n",
       "      <td>0</td>\n",
       "      <td>0</td>\n",
       "      <td>0</td>\n",
       "      <td>0</td>\n",
       "      <td>0</td>\n",
       "      <td>0</td>\n",
       "      <td>...</td>\n",
       "      <td>0</td>\n",
       "      <td>0</td>\n",
       "      <td>0</td>\n",
       "      <td>0</td>\n",
       "      <td>0</td>\n",
       "      <td>0</td>\n",
       "      <td>0</td>\n",
       "      <td>0</td>\n",
       "      <td>0</td>\n",
       "      <td>0</td>\n",
       "    </tr>\n",
       "    <tr>\n",
       "      <th>AGE inhibitor</th>\n",
       "      <td>0</td>\n",
       "      <td>0</td>\n",
       "      <td>0</td>\n",
       "      <td>0</td>\n",
       "      <td>0</td>\n",
       "      <td>0</td>\n",
       "      <td>0</td>\n",
       "      <td>0</td>\n",
       "      <td>0</td>\n",
       "      <td>0</td>\n",
       "      <td>...</td>\n",
       "      <td>0</td>\n",
       "      <td>0</td>\n",
       "      <td>0</td>\n",
       "      <td>0</td>\n",
       "      <td>0</td>\n",
       "      <td>0</td>\n",
       "      <td>0</td>\n",
       "      <td>0</td>\n",
       "      <td>0</td>\n",
       "      <td>0</td>\n",
       "    </tr>\n",
       "  </tbody>\n",
       "</table>\n",
       "<p>5 rows × 1896 columns</p>\n",
       "</div>"
      ],
      "text/plain": [
       "                                                10000456  100016  10029385  \\\n",
       "MOA                                                                          \n",
       "11-beta hydroxysteroid dehydrogenase inhibitor         0       0         0   \n",
       "3-ketoacyl CoA thiolase inhibitor                      0       0         0   \n",
       "5 alpha reductase inhibitor                            0       0         0   \n",
       "ACAT inhibitor                                         0       0         0   \n",
       "AGE inhibitor                                          0       0         0   \n",
       "\n",
       "                                                10071166  10071196  10074640  \\\n",
       "MOA                                                                            \n",
       "11-beta hydroxysteroid dehydrogenase inhibitor         0         0         0   \n",
       "3-ketoacyl CoA thiolase inhibitor                      0         0         0   \n",
       "5 alpha reductase inhibitor                            0         0         0   \n",
       "ACAT inhibitor                                         0         0         0   \n",
       "AGE inhibitor                                          0         0         0   \n",
       "\n",
       "                                                10077147  10096344  10113978  \\\n",
       "MOA                                                                            \n",
       "11-beta hydroxysteroid dehydrogenase inhibitor         0         0         0   \n",
       "3-ketoacyl CoA thiolase inhibitor                      0         0         0   \n",
       "5 alpha reductase inhibitor                            0         0         0   \n",
       "ACAT inhibitor                                         0         0         0   \n",
       "AGE inhibitor                                          0         0         0   \n",
       "\n",
       "                                                10117987   ...     9952884  \\\n",
       "MOA                                                        ...               \n",
       "11-beta hydroxysteroid dehydrogenase inhibitor         0   ...           0   \n",
       "3-ketoacyl CoA thiolase inhibitor                      0   ...           0   \n",
       "5 alpha reductase inhibitor                            0   ...           0   \n",
       "ACAT inhibitor                                         0   ...           0   \n",
       "AGE inhibitor                                          0   ...           0   \n",
       "\n",
       "                                                9953599  9953769  9956119  \\\n",
       "MOA                                                                         \n",
       "11-beta hydroxysteroid dehydrogenase inhibitor        0        0        0   \n",
       "3-ketoacyl CoA thiolase inhibitor                     0        0        0   \n",
       "5 alpha reductase inhibitor                           0        0        0   \n",
       "ACAT inhibitor                                        0        0        0   \n",
       "AGE inhibitor                                         0        0        0   \n",
       "\n",
       "                                                9956222  9956637  9960285  \\\n",
       "MOA                                                                         \n",
       "11-beta hydroxysteroid dehydrogenase inhibitor        0        0        0   \n",
       "3-ketoacyl CoA thiolase inhibitor                     0        0        0   \n",
       "5 alpha reductase inhibitor                           0        0        0   \n",
       "ACAT inhibitor                                        0        0        0   \n",
       "AGE inhibitor                                         0        0        0   \n",
       "\n",
       "                                                9966051  9967941  9989505  \n",
       "MOA                                                                        \n",
       "11-beta hydroxysteroid dehydrogenase inhibitor        0        0        0  \n",
       "3-ketoacyl CoA thiolase inhibitor                     0        0        0  \n",
       "5 alpha reductase inhibitor                           0        0        0  \n",
       "ACAT inhibitor                                        0        0        0  \n",
       "AGE inhibitor                                         0        0        0  \n",
       "\n",
       "[5 rows x 1896 columns]"
      ]
     },
     "execution_count": 160,
     "metadata": {},
     "output_type": "execute_result"
    }
   ],
   "source": [
    "grouped_matrix = grouped_df.iloc[:,0].str.get_dummies(sep=',')\n",
    "grouped_matrix.head()"
   ]
  },
  {
   "cell_type": "code",
   "execution_count": 161,
   "metadata": {},
   "outputs": [
    {
     "data": {
      "text/plain": [
       "(573, 1896)"
      ]
     },
     "execution_count": 161,
     "metadata": {},
     "output_type": "execute_result"
    }
   ],
   "source": [
    "grouped_matrix.shape"
   ]
  },
  {
   "cell_type": "markdown",
   "metadata": {},
   "source": [
    "## Save MOA Binary Matrix"
   ]
  },
  {
   "cell_type": "code",
   "execution_count": 162,
   "metadata": {},
   "outputs": [],
   "source": [
    "filename = 'Output/DrugRepurposing_MOA_%s.tsv.zip'% str(datetime.date.today())[0:7].replace('-', '_')\n",
    "grouped_matrix.to_csv(filename, sep='\\t', compression='gzip')"
   ]
  },
  {
   "cell_type": "markdown",
   "metadata": {},
   "source": [
    "## Convert Binary Matrix to GMT and Save as GMT"
   ]
  },
  {
   "cell_type": "code",
   "execution_count": 163,
   "metadata": {},
   "outputs": [],
   "source": [
    "drugset_library = []\n",
    "for index, row in grouped_matrix.iterrows():\n",
    "    drugset = []\n",
    "    drugset.append(index)\n",
    "    drugset.append('')\n",
    "    for i in range(grouped_matrix.shape[1]):\n",
    "        if row.iloc[i]==1:\n",
    "            drugset.append(row.index[i])\n",
    "    if len(drugset) >= 7:\n",
    "        drugset_library.append(drugset)\n",
    "dsl = np.array(drugset_library)"
   ]
  },
  {
   "cell_type": "code",
   "execution_count": 164,
   "metadata": {},
   "outputs": [
    {
     "data": {
      "text/plain": [
       "58"
      ]
     },
     "execution_count": 164,
     "metadata": {},
     "output_type": "execute_result"
    }
   ],
   "source": [
    "len(max(dsl, key=len))"
   ]
  },
  {
   "cell_type": "code",
   "execution_count": 165,
   "metadata": {},
   "outputs": [],
   "source": [
    "filename = 'Output/DrugRepurposing_MOA_DrugSetLibrary_%s.gmt'% str(datetime.date.today())[0:7].replace('-', '_')\n",
    "with open(filename,'w',encoding='utf-8') as f:\n",
    "    for row in dsl:\n",
    "        np.savetxt(f, [row], fmt = '%s',delimiter = '\\t')"
   ]
  },
  {
   "cell_type": "code",
   "execution_count": null,
   "metadata": {},
   "outputs": [],
   "source": []
  }
 ],
 "metadata": {
  "kernelspec": {
   "display_name": "Python 3",
   "language": "python",
   "name": "python3"
  },
  "language_info": {
   "codemirror_mode": {
    "name": "ipython",
    "version": 3
   },
   "file_extension": ".py",
   "mimetype": "text/x-python",
   "name": "python",
   "nbconvert_exporter": "python",
   "pygments_lexer": "ipython3",
   "version": "3.6.5"
  }
 },
 "nbformat": 4,
 "nbformat_minor": 2
}
