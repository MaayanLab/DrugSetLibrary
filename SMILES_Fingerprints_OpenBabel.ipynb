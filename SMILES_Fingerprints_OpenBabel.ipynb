{
 "cells": [
  {
   "cell_type": "markdown",
   "metadata": {},
   "source": [
    "## Import Libraries"
   ]
  },
  {
   "cell_type": "code",
   "execution_count": null,
   "metadata": {},
   "outputs": [],
   "source": [
    "import numpy as np\n",
    "import pandas as pd\n",
    "from scipy.spatial.distance import squareform, pdist,jaccard\n",
    "import sys,  datetime, os\n",
    "import requests\n",
    "import time\n",
    "from scipy.stats.stats import pearsonr\n",
    "import matplotlib.pyplot as plt\n",
    "from sklearn import metrics\n",
    "import seaborn as sns\n",
    "from scipy import stats, integrate"
   ]
  },
  {
   "cell_type": "code",
   "execution_count": null,
   "metadata": {},
   "outputs": [],
   "source": [
    "from rdkit import Chem\n",
    "from rdkit import DataStructs\n",
    "from rdkit.Chem import MACCSkeys\n",
    "from rdkit.Chem import PandasTools\n",
    "from rdkit import RDConfig\n",
    "from rdkit.Chem import AllChem\n",
    "from rdkit import Avalon\n",
    "from rdkit.Chem.AtomPairs import Pairs\n",
    "from rdkit.Chem.Fingerprints import ClusterMols\n",
    "from rdkit.Chem.Fingerprints import FingerprintMols"
   ]
  },
  {
   "cell_type": "code",
   "execution_count": null,
   "metadata": {},
   "outputs": [],
   "source": [
    "import pybel, openbabel"
   ]
  },
  {
   "cell_type": "markdown",
   "metadata": {},
   "source": [
    "## Load Data"
   ]
  },
  {
   "cell_type": "code",
   "execution_count": null,
   "metadata": {},
   "outputs": [],
   "source": [
    "df = pd.read_table('Output/PubChemID_SMILES_InchI_2018_07.tsv')"
   ]
  },
  {
   "cell_type": "code",
   "execution_count": null,
   "metadata": {},
   "outputs": [],
   "source": [
    "df = df.drop(columns = ['InChIKeys'])"
   ]
  },
  {
   "cell_type": "code",
   "execution_count": null,
   "metadata": {},
   "outputs": [],
   "source": [
    "df.head()"
   ]
  },
  {
   "cell_type": "code",
   "execution_count": null,
   "metadata": {},
   "outputs": [],
   "source": [
    "df = df.drop_duplicates(subset = 'PCIDs')"
   ]
  },
  {
   "cell_type": "code",
   "execution_count": null,
   "metadata": {},
   "outputs": [],
   "source": [
    "df.shape"
   ]
  },
  {
   "cell_type": "markdown",
   "metadata": {},
   "source": [
    "## Get available fingerprints and Add to molecule column"
   ]
  },
  {
   "cell_type": "code",
   "execution_count": null,
   "metadata": {},
   "outputs": [],
   "source": [
    "pybel.fps"
   ]
  },
  {
   "cell_type": "code",
   "execution_count": null,
   "metadata": {},
   "outputs": [],
   "source": [
    "molecules = [pybel.readstring('smi',x) for x in df['SMILEs']]"
   ]
  },
  {
   "cell_type": "code",
   "execution_count": null,
   "metadata": {},
   "outputs": [],
   "source": [
    "df.loc[:,'Molecule'] = pd.Series(molecules, index=df.index)"
   ]
  },
  {
   "cell_type": "code",
   "execution_count": null,
   "metadata": {},
   "outputs": [],
   "source": [
    "df.head()"
   ]
  },
  {
   "cell_type": "code",
   "execution_count": null,
   "metadata": {},
   "outputs": [],
   "source": [
    "df.shape"
   ]
  },
  {
   "cell_type": "markdown",
   "metadata": {},
   "source": [
    "## Fingerprint calculations"
   ]
  },
  {
   "cell_type": "code",
   "execution_count": null,
   "metadata": {},
   "outputs": [],
   "source": [
    "ecfp0 = [x.calcfp(fptype = 'ecfp0') for x in df['Molecule']]\n",
    "ecfp10 = [x.calcfp(fptype = 'ecfp10') for x in df['Molecule']]\n",
    "ecfp2 = [x.calcfp(fptype = 'ecfp2') for x in df['Molecule']]\n",
    "ecfp4 = [x.calcfp(fptype = 'ecfp4') for x in df['Molecule']]\n",
    "ecfp6 = [x.calcfp(fptype = 'ecfp6') for x in df['Molecule']]\n",
    "ecfp8 = [x.calcfp(fptype = 'ecfp8') for x in df['Molecule']]\n",
    "fp2 = [x.calcfp(fptype = 'fp2') for x in df['Molecule']]\n",
    "fp3 = [x.calcfp(fptype = 'fp3') for x in df['Molecule']]\n",
    "fp4 = [x.calcfp(fptype = 'fp4') for x in df['Molecule']]\n",
    "maccs = [x.calcfp(fptype = 'maccs') for x in df['Molecule']] "
   ]
  },
  {
   "cell_type": "code",
   "execution_count": null,
   "metadata": {},
   "outputs": [],
   "source": [
    "ecfp0_list = []\n",
    "ecfp10_list = []\n",
    "ecfp2_list= []\n",
    "ecfp4_list= []\n",
    "ecfp6_list= []\n",
    "ecfp8_list= []\n",
    "fp2_list= []\n",
    "fp3_list= []\n",
    "fp4_list= []\n",
    "maccs_list= []\n",
    "\n",
    "for i in range(len(ecfp0)):\n",
    "    for e in range(len(ecfp0)):\n",
    "        ecfp0_list.append(ecfp0[i]|ecfp0[e])\n",
    "        ecfp10_list.append(ecfp10[i]|ecfp10[e])\n",
    "        ecfp2_list.append(ecfp2[i]|ecfp2[e])\n",
    "        ecfp4_list.append(ecfp4[i]|ecfp4[e])\n",
    "        ecfp6_list.append(ecfp6[i]|ecfp6[e])\n",
    "        ecfp8_list.append(ecfp8[i]|ecfp8[e])\n",
    "        fp2_list.append(fp2[i]|fp2[e])\n",
    "        fp3_list.append(fp3[i]|fp3[e])\n",
    "        fp4_list.append(fp4[i]|fp4[e])\n",
    "        maccs_list.append(maccs[i]|maccs[e])"
   ]
  },
  {
   "cell_type": "code",
   "execution_count": null,
   "metadata": {},
   "outputs": [],
   "source": [
    "ecfp0_array = np.asarray(ecfp0_list)\n",
    "ecfp10_array = np.asarray(ecfp10_list)\n",
    "ecfp2_array= np.asarray(ecfp2_list)\n",
    "ecfp4_array= np.asarray(ecfp4_list)\n",
    "ecfp6_array= np.asarray(ecfp6_list)\n",
    "ecfp8_array= np.asarray(ecfp8_list)\n",
    "fp2_array= np.asarray(fp2_list)\n",
    "fp3_array= np.asarray(fp3_list)\n",
    "fp4_array= np.asarray(fp4_list)\n",
    "maccs_array= np.asarray(maccs_list)"
   ]
  },
  {
   "cell_type": "code",
   "execution_count": null,
   "metadata": {},
   "outputs": [],
   "source": [
    "arrays_list = [ecfp0_array,ecfp10_array,ecfp2_array,ecfp4_array,ecfp6_array,ecfp8_array,fp2_array,fp3_array,fp4_array,maccs_array]"
   ]
  },
  {
   "cell_type": "code",
   "execution_count": null,
   "metadata": {},
   "outputs": [],
   "source": [
    "fps_dict = {}\n",
    "for i in range(len(pybel.fps)):\n",
    "    fps_dict[pybel.fps[i]]=arrays_list[i]"
   ]
  },
  {
   "cell_type": "code",
   "execution_count": null,
   "metadata": {},
   "outputs": [],
   "source": [
    "matrix = []\n",
    "for array in arrays_list:\n",
    "    row = []\n",
    "    for sec_array in arrays_list:\n",
    "        row.append(pearsonr(array, sec_array)[0])\n",
    "    matrix.append(row)"
   ]
  },
  {
   "cell_type": "code",
   "execution_count": null,
   "metadata": {},
   "outputs": [],
   "source": [
    "array_matrix=np.array([np.array(xi) for xi in matrix])"
   ]
  },
  {
   "cell_type": "code",
   "execution_count": null,
   "metadata": {},
   "outputs": [],
   "source": [
    "fig = plt.figure()\n",
    "ax = fig.add_subplot(111)\n",
    "cax = ax.matshow(array_matrix)\n",
    "fig.colorbar(cax)\n",
    "\n",
    "plt.xticks(range(10),pybel.fps, rotation = 90)\n",
    "plt.yticks(range(10),pybel.fps)\n",
    "\n",
    "plt.show()"
   ]
  },
  {
   "cell_type": "markdown",
   "metadata": {},
   "source": [
    "## Fingerprint incorporated with Phenotypes"
   ]
  },
  {
   "cell_type": "code",
   "execution_count": null,
   "metadata": {},
   "outputs": [],
   "source": [
    "## Load Data\n",
    "names = []\n",
    "files = []\n",
    "\n",
    "for filename in os.listdir('All_bmat/'):\n",
    "    names.append(filename[:-12])\n",
    "    name_file_df = pd.read_table('All_bmat/'+ filename)\n",
    "    files.append(name_file_df.set_index(name_file_df.columns[0]))\n",
    "\n",
    "namefiles_dict=dict(zip(names, files))"
   ]
  },
  {
   "cell_type": "code",
   "execution_count": null,
   "metadata": {},
   "outputs": [],
   "source": [
    "## Functions that get similarity\n",
    "def pairwise_dis(df, metric):\n",
    "    array_matrix = metrics.pairwise_distances(df, metric = metric)\n",
    "    return array_matrix\n",
    "\n",
    "def vector(array_matrix):\n",
    "    return squareform(array_matrix)"
   ]
  },
  {
   "cell_type": "code",
   "execution_count": null,
   "metadata": {},
   "outputs": [],
   "source": [
    "# Define the DF\n",
    "fps_pheno_df = pd.DataFrame(0, index = names + pybel.fps, columns = names + pybel.fps)\n",
    "fps_pheno_df.head()"
   ]
  },
  {
   "cell_type": "code",
   "execution_count": null,
   "metadata": {},
   "outputs": [],
   "source": [
    "## Similarity for resources\n",
    "for dbname1 in names:\n",
    "    for dbname2 in names:\n",
    "        db1, db2 = namefiles_dict[dbname1].T, namefiles_dict[dbname2].T\n",
    "        shared = sorted(list(set(db1.index) & set(db2.index)))\n",
    "        db1 = db1.loc[shared]\n",
    "        db2 = db2.loc[shared]\n",
    "        db1_vect = vector(pairwise_dis(db1, 'manhattan'))\n",
    "        db2_vect = vector(pairwise_dis(db2, 'manhattan'))\n",
    "        p_coeff = pearsonr(db1_vect, db2_vect)[0]\n",
    "        fps_pheno_df.loc[dbname1, dbname2] = p_coeff"
   ]
  },
  {
   "cell_type": "code",
   "execution_count": null,
   "metadata": {},
   "outputs": [],
   "source": [
    "## Similarity for fingerprints\n",
    "for fps1 in pybel.fps:\n",
    "    for fps2 in pybel.fps:\n",
    "        sim = pearsonr(fps_dict[fps1], fps_dict[fps2])[0]\n",
    "        fps_pheno_df.loc[fps1, fps2] = sim"
   ]
  },
  {
   "cell_type": "code",
   "execution_count": null,
   "metadata": {},
   "outputs": [],
   "source": [
    "df['PCIDs'] = df['PCIDs'].astype(str)\n",
    "df.set_index(\"PCIDs\", inplace = True)\n",
    "df.head()"
   ]
  },
  {
   "cell_type": "code",
   "execution_count": null,
   "metadata": {
    "scrolled": true
   },
   "outputs": [],
   "source": [
    "## Similarity between fingerprints and resources\n",
    "for dbname in names:\n",
    "    for fp in pybel.fps:\n",
    "        if fps_pheno_df.loc[dbname, fp] != 0:\n",
    "            continue\n",
    "        \n",
    "        #creating vector for the phenotype\n",
    "        db = namefiles_dict[dbname].T\n",
    "        shared = sorted(list(set(db.index) & set(df.index)))\n",
    "        db = db.loc[shared]\n",
    "        db_vect = vector(pairwise_dis(db, 'manhattan'))\n",
    "        \n",
    "        #creating vector for the fingerprint\n",
    "        df_copy = df.copy()\n",
    "        df_copy = df_copy.loc[shared]\n",
    "        calc_fp = [x.calcfp(fptype = fp) for x in df_copy['Molecule']]\n",
    "        sim_df = pd.DataFrame(0, index = range(len(calc_fp)), columns = range(len(calc_fp)))\n",
    "        for i in range(len(calc_fp)):\n",
    "            for e in range(len(calc_fp)):\n",
    "                sim_df.loc[i,e] = 1 - (calc_fp[i] | calc_fp[e])\n",
    "        fp_vect = vector(sim_df)\n",
    "        \n",
    "        #fine pearson coeff and add to df\n",
    "        p_coeff = pearsonr(db_vect, fp_vect)[0]\n",
    "        fps_pheno_df.loc[dbname, fp] = p_coeff\n",
    "        fps_pheno_df.loc[fp, dbname] = p_coeff"
   ]
  },
  {
   "cell_type": "code",
   "execution_count": null,
   "metadata": {},
   "outputs": [],
   "source": [
    "fps_pheno_cross_df = fps_pheno_df.loc['DrugBank_Targets':'Matador_Targets', 'ecfp0':'maccs']"
   ]
  },
  {
   "cell_type": "markdown",
   "metadata": {},
   "source": [
    "## Plots for full df"
   ]
  },
  {
   "cell_type": "code",
   "execution_count": null,
   "metadata": {},
   "outputs": [],
   "source": [
    "fig = plt.figure()\n",
    "ax = fig.add_subplot(111)\n",
    "cax = ax.matshow(fps_pheno_df)\n",
    "fig.colorbar(cax)\n",
    "\n",
    "plt.xticks(range(len(names + pybel.fps)),names+pybel.fps, rotation = 90)\n",
    "plt.yticks(range(len(names + pybel.fps)),names+pybel.fps)\n",
    "plt.show()"
   ]
  },
  {
   "cell_type": "code",
   "execution_count": null,
   "metadata": {},
   "outputs": [],
   "source": [
    "sns.heatmap(fps_pheno_df)"
   ]
  },
  {
   "cell_type": "code",
   "execution_count": null,
   "metadata": {},
   "outputs": [],
   "source": [
    "sns.clustermap(fps_pheno_df)"
   ]
  },
  {
   "cell_type": "markdown",
   "metadata": {},
   "source": [
    "## Plot for only cross df"
   ]
  },
  {
   "cell_type": "code",
   "execution_count": null,
   "metadata": {},
   "outputs": [],
   "source": [
    "fig = plt.figure()\n",
    "ax = fig.add_subplot(111)\n",
    "cax = ax.matshow(fps_pheno_cross_df)\n",
    "fig.colorbar(cax)\n",
    "\n",
    "plt.xticks(range(len(pybel.fps)),pybel.fps, rotation = 90)\n",
    "plt.yticks(range(len(names)),names)\n",
    "plt.show()"
   ]
  },
  {
   "cell_type": "code",
   "execution_count": null,
   "metadata": {},
   "outputs": [],
   "source": [
    "sns.heatmap(fps_pheno_cross_df)"
   ]
  },
  {
   "cell_type": "code",
   "execution_count": null,
   "metadata": {},
   "outputs": [],
   "source": [
    "sns.clustermap(fps_pheno_cross_df)"
   ]
  },
  {
   "cell_type": "code",
   "execution_count": null,
   "metadata": {},
   "outputs": [],
   "source": []
  }
 ],
 "metadata": {
  "kernelspec": {
   "display_name": "Python 3",
   "language": "python",
   "name": "python3"
  },
  "language_info": {
   "codemirror_mode": {
    "name": "ipython",
    "version": 3
   },
   "file_extension": ".py",
   "mimetype": "text/x-python",
   "name": "python",
   "nbconvert_exporter": "python",
   "pygments_lexer": "ipython3",
   "version": "3.6.5"
  }
 },
 "nbformat": 4,
 "nbformat_minor": 2
}
