{
 "cells": [
  {
   "cell_type": "markdown",
   "metadata": {},
   "source": [
    "## Import Libraries"
   ]
  },
  {
   "cell_type": "code",
   "execution_count": 1,
   "metadata": {},
   "outputs": [],
   "source": [
    "import numpy as np\n",
    "import pandas as pd\n",
    "from scipy.spatial.distance import squareform, pdist,jaccard\n",
    "import sys,  datetime, os\n",
    "import requests\n",
    "import chardet"
   ]
  },
  {
   "cell_type": "markdown",
   "metadata": {},
   "source": [
    "## Load Data"
   ]
  },
  {
   "cell_type": "markdown",
   "metadata": {},
   "source": [
    "#### Load PharmagKB Data"
   ]
  },
  {
   "cell_type": "code",
   "execution_count": 2,
   "metadata": {},
   "outputs": [],
   "source": [
    "df = pd.read_table('Input/PharmagKB.tsv')"
   ]
  },
  {
   "cell_type": "code",
   "execution_count": 16,
   "metadata": {},
   "outputs": [
    {
     "data": {
      "text/html": [
       "<div>\n",
       "<style scoped>\n",
       "    .dataframe tbody tr th:only-of-type {\n",
       "        vertical-align: middle;\n",
       "    }\n",
       "\n",
       "    .dataframe tbody tr th {\n",
       "        vertical-align: top;\n",
       "    }\n",
       "\n",
       "    .dataframe thead th {\n",
       "        text-align: right;\n",
       "    }\n",
       "</style>\n",
       "<table border=\"1\" class=\"dataframe\">\n",
       "  <thead>\n",
       "    <tr style=\"text-align: right;\">\n",
       "      <th></th>\n",
       "      <th>stitch_id</th>\n",
       "      <th>drug</th>\n",
       "      <th>UMLS ID</th>\n",
       "      <th>event</th>\n",
       "      <th>rr</th>\n",
       "      <th>log2rr</th>\n",
       "      <th>t_statistic</th>\n",
       "      <th>pvalue</th>\n",
       "      <th>observed</th>\n",
       "      <th>expected</th>\n",
       "      <th>bg_correction</th>\n",
       "      <th>sider</th>\n",
       "      <th>future_aers</th>\n",
       "      <th>medeffect</th>\n",
       "    </tr>\n",
       "  </thead>\n",
       "  <tbody>\n",
       "    <tr>\n",
       "      <th>0</th>\n",
       "      <td>CID000000076</td>\n",
       "      <td>dehydroepiandrosterone</td>\n",
       "      <td>C0000737</td>\n",
       "      <td>abdominal pain</td>\n",
       "      <td>2.250000</td>\n",
       "      <td>1.169925</td>\n",
       "      <td>6.537095</td>\n",
       "      <td>6.156712e-07</td>\n",
       "      <td>9</td>\n",
       "      <td>4.000000</td>\n",
       "      <td>0.002849</td>\n",
       "      <td>0</td>\n",
       "      <td>0</td>\n",
       "      <td>0</td>\n",
       "    </tr>\n",
       "    <tr>\n",
       "      <th>1</th>\n",
       "      <td>CID000000076</td>\n",
       "      <td>dehydroepiandrosterone</td>\n",
       "      <td>C0001622</td>\n",
       "      <td>hyperadrenalism</td>\n",
       "      <td>11.000000</td>\n",
       "      <td>3.459432</td>\n",
       "      <td>4.782699</td>\n",
       "      <td>1.644408e-03</td>\n",
       "      <td>2</td>\n",
       "      <td>0.181818</td>\n",
       "      <td>0.000041</td>\n",
       "      <td>0</td>\n",
       "      <td>0</td>\n",
       "      <td>0</td>\n",
       "    </tr>\n",
       "    <tr>\n",
       "      <th>2</th>\n",
       "      <td>CID000000076</td>\n",
       "      <td>dehydroepiandrosterone</td>\n",
       "      <td>C0001623</td>\n",
       "      <td>adrenal insufficiency</td>\n",
       "      <td>2.200000</td>\n",
       "      <td>1.137504</td>\n",
       "      <td>4.315199</td>\n",
       "      <td>9.884952e-03</td>\n",
       "      <td>2</td>\n",
       "      <td>0.909091</td>\n",
       "      <td>0.002491</td>\n",
       "      <td>0</td>\n",
       "      <td>0</td>\n",
       "      <td>0</td>\n",
       "    </tr>\n",
       "    <tr>\n",
       "      <th>3</th>\n",
       "      <td>CID000000076</td>\n",
       "      <td>dehydroepiandrosterone</td>\n",
       "      <td>C0002792</td>\n",
       "      <td>anaphylactic reaction</td>\n",
       "      <td>2.588235</td>\n",
       "      <td>1.371969</td>\n",
       "      <td>4.590918</td>\n",
       "      <td>3.355380e-03</td>\n",
       "      <td>4</td>\n",
       "      <td>1.545455</td>\n",
       "      <td>0.000503</td>\n",
       "      <td>0</td>\n",
       "      <td>0</td>\n",
       "      <td>0</td>\n",
       "    </tr>\n",
       "    <tr>\n",
       "      <th>4</th>\n",
       "      <td>CID000000076</td>\n",
       "      <td>dehydroepiandrosterone</td>\n",
       "      <td>C0002940</td>\n",
       "      <td>aneurysm</td>\n",
       "      <td>7.333333</td>\n",
       "      <td>2.874469</td>\n",
       "      <td>4.598374</td>\n",
       "      <td>3.399457e-03</td>\n",
       "      <td>2</td>\n",
       "      <td>0.272727</td>\n",
       "      <td>0.000135</td>\n",
       "      <td>0</td>\n",
       "      <td>0</td>\n",
       "      <td>0</td>\n",
       "    </tr>\n",
       "  </tbody>\n",
       "</table>\n",
       "</div>"
      ],
      "text/plain": [
       "      stitch_id                    drug   UMLS ID                  event  \\\n",
       "0  CID000000076  dehydroepiandrosterone  C0000737         abdominal pain   \n",
       "1  CID000000076  dehydroepiandrosterone  C0001622        hyperadrenalism   \n",
       "2  CID000000076  dehydroepiandrosterone  C0001623  adrenal insufficiency   \n",
       "3  CID000000076  dehydroepiandrosterone  C0002792  anaphylactic reaction   \n",
       "4  CID000000076  dehydroepiandrosterone  C0002940               aneurysm   \n",
       "\n",
       "          rr    log2rr  t_statistic        pvalue  observed  expected  \\\n",
       "0   2.250000  1.169925     6.537095  6.156712e-07         9  4.000000   \n",
       "1  11.000000  3.459432     4.782699  1.644408e-03         2  0.181818   \n",
       "2   2.200000  1.137504     4.315199  9.884952e-03         2  0.909091   \n",
       "3   2.588235  1.371969     4.590918  3.355380e-03         4  1.545455   \n",
       "4   7.333333  2.874469     4.598374  3.399457e-03         2  0.272727   \n",
       "\n",
       "   bg_correction  sider  future_aers  medeffect  \n",
       "0       0.002849      0            0          0  \n",
       "1       0.000041      0            0          0  \n",
       "2       0.002491      0            0          0  \n",
       "3       0.000503      0            0          0  \n",
       "4       0.000135      0            0          0  "
      ]
     },
     "execution_count": 16,
     "metadata": {},
     "output_type": "execute_result"
    }
   ],
   "source": [
    "df.head()"
   ]
  },
  {
   "cell_type": "code",
   "execution_count": 6,
   "metadata": {},
   "outputs": [],
   "source": [
    "df = df.dropna(subset=['umls_id']) "
   ]
  },
  {
   "cell_type": "code",
   "execution_count": 12,
   "metadata": {},
   "outputs": [],
   "source": [
    "df = df.rename(index=str, columns = {'umls_id':'UMLS ID'})"
   ]
  },
  {
   "cell_type": "code",
   "execution_count": 7,
   "metadata": {},
   "outputs": [
    {
     "data": {
      "text/plain": [
       "1332"
      ]
     },
     "execution_count": 7,
     "metadata": {},
     "output_type": "execute_result"
    }
   ],
   "source": [
    "len(df['stitch_id'].unique())"
   ]
  },
  {
   "cell_type": "markdown",
   "metadata": {},
   "source": [
    "#### Load LINCS Small Molecules"
   ]
  },
  {
   "cell_type": "code",
   "execution_count": 4,
   "metadata": {},
   "outputs": [],
   "source": [
    "lincs = pd.read_csv('Input/LINCS_SmallMolecules.csv', encoding = 'ISO-8859-1')"
   ]
  },
  {
   "cell_type": "markdown",
   "metadata": {},
   "source": [
    "## Get Drug Name from Stitch API and make dictionary"
   ]
  },
  {
   "cell_type": "code",
   "execution_count": 8,
   "metadata": {},
   "outputs": [
    {
     "data": {
      "text/plain": [
       "(1332,)"
      ]
     },
     "execution_count": 8,
     "metadata": {},
     "output_type": "execute_result"
    }
   ],
   "source": [
    "stitch_ID_df = df['stitch_id']\n",
    "stitch_ID_df = stitch_ID_df.drop_duplicates()\n",
    "stitch_ID_df.shape"
   ]
  },
  {
   "cell_type": "code",
   "execution_count": 9,
   "metadata": {
    "scrolled": true
   },
   "outputs": [
    {
     "name": "stdout",
     "output_type": "stream",
     "text": [
      "50\n",
      "106\n",
      "160\n",
      "229\n",
      "291\n",
      "353\n",
      "408\n",
      "473\n",
      "533\n",
      "593\n",
      "654\n",
      "706\n",
      "771\n",
      "823\n",
      "887\n",
      "954\n",
      "1025\n",
      "1089\n",
      "1162\n",
      "1254\n",
      "0\n",
      "1043\n",
      "1332\n"
     ]
    }
   ],
   "source": [
    "stitch_ID_list = stitch_ID_df.tolist()\n",
    "failed_to_get_name = 0\n",
    "drug_name_dict = {}\n",
    "\n",
    "for stitch_ID in stitch_ID_list:\n",
    "    url = 'http://stitch.embl.de/api/json/resolve?identifier=' + stitch_ID\n",
    "    response = requests.get(url)\n",
    "    try:\n",
    "        response.json()\n",
    "    except ValueError:\n",
    "        continue\n",
    "    if 'annotation' in response.json()[0].keys():\n",
    "        drug_name = response.json()[0]['annotation']\n",
    "        drug_name_dict[stitch_ID] = drug_name\n",
    "    else:\n",
    "        failed_to_get_name +=1\n",
    "    \n",
    "    if len(drug_name_dict) % 50 == 0:\n",
    "        print(stitch_ID_list.index(stitch_ID))\n",
    "\n",
    "print(failed_to_get_name)\n",
    "print(len(drug_name_dict))\n",
    "print(len(stitch_ID_list))"
   ]
  },
  {
   "cell_type": "markdown",
   "metadata": {},
   "source": [
    "## Get PubChem ID and Map to Stitch ID"
   ]
  },
  {
   "cell_type": "code",
   "execution_count": 11,
   "metadata": {},
   "outputs": [
    {
     "name": "stdout",
     "output_type": "stream",
     "text": [
      "118\n",
      "227\n",
      "334\n",
      "440\n",
      "544\n",
      "652\n",
      "773\n",
      "882\n",
      "1004\n",
      "111\n",
      "932\n",
      "1043\n"
     ]
    }
   ],
   "source": [
    "failed_to_get_CID = 0\n",
    "CID_dict = {}\n",
    "count = 0\n",
    "\n",
    "for ID, name in drug_name_dict.items():\n",
    "    count += 1\n",
    "    name = name.replace(' ', '%20')\n",
    "    url = 'https://pubchem.ncbi.nlm.nih.gov/rest/pug/compound/name/' + name + '/cids/JSON'\n",
    "    response = requests.get(url)\n",
    "    try:\n",
    "        response.json()\n",
    "    except ValueError:\n",
    "        continue\n",
    "    if 'IdentifierList' in response.json().keys():\n",
    "        CID = response.json()['IdentifierList']['CID'][0]\n",
    "        CID_dict[ID] = CID\n",
    "    else:\n",
    "        failed_to_get_CID += 1\n",
    "        \n",
    "    if len(CID_dict) % 100 == 0:\n",
    "        print(count)\n",
    "\n",
    "\n",
    "print(failed_to_get_CID)\n",
    "print(len(CID_dict))\n",
    "print(len(drug_name_dict))"
   ]
  },
  {
   "cell_type": "code",
   "execution_count": 23,
   "metadata": {},
   "outputs": [],
   "source": [
    "CIDs = []\n",
    "for index, row in df.iterrows():\n",
    "    stitch_id = row.loc['stitch_id']\n",
    "    if stitch_id not in CID_dict:\n",
    "        df.drop(index, inplace = True)\n",
    "    else: \n",
    "        CIDs.append(int(CID_dict[stitch_id]))\n",
    "\n",
    "df.loc[:,'CIDs'] = pd.Series(np.array(CIDs), index=df.index)"
   ]
  },
  {
   "cell_type": "code",
   "execution_count": 24,
   "metadata": {},
   "outputs": [
    {
     "data": {
      "text/plain": [
       "'438800'"
      ]
     },
     "execution_count": 24,
     "metadata": {},
     "output_type": "execute_result"
    }
   ],
   "source": [
    "index"
   ]
  },
  {
   "cell_type": "markdown",
   "metadata": {},
   "source": [
    "## Filter by LINCS Approved Small Molecules"
   ]
  },
  {
   "cell_type": "code",
   "execution_count": 25,
   "metadata": {},
   "outputs": [
    {
     "name": "stdout",
     "output_type": "stream",
     "text": [
      "118998\n"
     ]
    }
   ],
   "source": [
    "count = 0\n",
    "for index, row in df.iterrows():\n",
    "    CID = row.loc['CIDs']\n",
    "    if CID not in lincs['SM_PubChem_CID'].values:\n",
    "        df.drop(index, inplace = True)\n",
    "        count += 1\n",
    "        \n",
    "print(count)"
   ]
  },
  {
   "cell_type": "code",
   "execution_count": 26,
   "metadata": {},
   "outputs": [
    {
     "data": {
      "text/html": [
       "<div>\n",
       "<style scoped>\n",
       "    .dataframe tbody tr th:only-of-type {\n",
       "        vertical-align: middle;\n",
       "    }\n",
       "\n",
       "    .dataframe tbody tr th {\n",
       "        vertical-align: top;\n",
       "    }\n",
       "\n",
       "    .dataframe thead th {\n",
       "        text-align: right;\n",
       "    }\n",
       "</style>\n",
       "<table border=\"1\" class=\"dataframe\">\n",
       "  <thead>\n",
       "    <tr style=\"text-align: right;\">\n",
       "      <th></th>\n",
       "      <th>stitch_id</th>\n",
       "      <th>drug</th>\n",
       "      <th>UMLS ID</th>\n",
       "      <th>event</th>\n",
       "      <th>rr</th>\n",
       "      <th>log2rr</th>\n",
       "      <th>t_statistic</th>\n",
       "      <th>pvalue</th>\n",
       "      <th>observed</th>\n",
       "      <th>expected</th>\n",
       "      <th>bg_correction</th>\n",
       "      <th>sider</th>\n",
       "      <th>future_aers</th>\n",
       "      <th>medeffect</th>\n",
       "      <th>CIDs</th>\n",
       "    </tr>\n",
       "  </thead>\n",
       "  <tbody>\n",
       "    <tr>\n",
       "      <th>940</th>\n",
       "      <td>CID000000143</td>\n",
       "      <td>leucovorin</td>\n",
       "      <td>C0000737</td>\n",
       "      <td>abdominal pain</td>\n",
       "      <td>7.484085</td>\n",
       "      <td>2.903826</td>\n",
       "      <td>24.469162</td>\n",
       "      <td>2.568504e-58</td>\n",
       "      <td>513</td>\n",
       "      <td>68.545455</td>\n",
       "      <td>0.004799</td>\n",
       "      <td>0</td>\n",
       "      <td>1</td>\n",
       "      <td>0</td>\n",
       "      <td>6006</td>\n",
       "    </tr>\n",
       "    <tr>\n",
       "      <th>941</th>\n",
       "      <td>CID000000143</td>\n",
       "      <td>leucovorin</td>\n",
       "      <td>C0001263</td>\n",
       "      <td>abdominal infection</td>\n",
       "      <td>8.800000</td>\n",
       "      <td>3.137504</td>\n",
       "      <td>6.321542</td>\n",
       "      <td>4.062830e-06</td>\n",
       "      <td>8</td>\n",
       "      <td>0.909091</td>\n",
       "      <td>0.000013</td>\n",
       "      <td>0</td>\n",
       "      <td>0</td>\n",
       "      <td>0</td>\n",
       "      <td>6006</td>\n",
       "    </tr>\n",
       "    <tr>\n",
       "      <th>942</th>\n",
       "      <td>CID000000143</td>\n",
       "      <td>leucovorin</td>\n",
       "      <td>C0002736</td>\n",
       "      <td>als</td>\n",
       "      <td>11.000000</td>\n",
       "      <td>3.459432</td>\n",
       "      <td>4.802784</td>\n",
       "      <td>8.064572e-03</td>\n",
       "      <td>3</td>\n",
       "      <td>0.272727</td>\n",
       "      <td>0.000254</td>\n",
       "      <td>0</td>\n",
       "      <td>0</td>\n",
       "      <td>0</td>\n",
       "      <td>6006</td>\n",
       "    </tr>\n",
       "    <tr>\n",
       "      <th>943</th>\n",
       "      <td>CID000000143</td>\n",
       "      <td>leucovorin</td>\n",
       "      <td>C0002792</td>\n",
       "      <td>anaphylactic reaction</td>\n",
       "      <td>7.973799</td>\n",
       "      <td>2.995267</td>\n",
       "      <td>17.467515</td>\n",
       "      <td>5.022008e-38</td>\n",
       "      <td>166</td>\n",
       "      <td>20.818182</td>\n",
       "      <td>0.000301</td>\n",
       "      <td>0</td>\n",
       "      <td>0</td>\n",
       "      <td>0</td>\n",
       "      <td>6006</td>\n",
       "    </tr>\n",
       "    <tr>\n",
       "      <th>944</th>\n",
       "      <td>CID000000143</td>\n",
       "      <td>leucovorin</td>\n",
       "      <td>C0002962</td>\n",
       "      <td>angina</td>\n",
       "      <td>7.980392</td>\n",
       "      <td>2.996460</td>\n",
       "      <td>10.498235</td>\n",
       "      <td>1.486924e-17</td>\n",
       "      <td>74</td>\n",
       "      <td>9.272727</td>\n",
       "      <td>0.002103</td>\n",
       "      <td>0</td>\n",
       "      <td>0</td>\n",
       "      <td>0</td>\n",
       "      <td>6006</td>\n",
       "    </tr>\n",
       "  </tbody>\n",
       "</table>\n",
       "</div>"
      ],
      "text/plain": [
       "        stitch_id        drug   UMLS ID                  event         rr  \\\n",
       "940  CID000000143  leucovorin  C0000737         abdominal pain   7.484085   \n",
       "941  CID000000143  leucovorin  C0001263    abdominal infection   8.800000   \n",
       "942  CID000000143  leucovorin  C0002736                    als  11.000000   \n",
       "943  CID000000143  leucovorin  C0002792  anaphylactic reaction   7.973799   \n",
       "944  CID000000143  leucovorin  C0002962                 angina   7.980392   \n",
       "\n",
       "       log2rr  t_statistic        pvalue  observed   expected  bg_correction  \\\n",
       "940  2.903826    24.469162  2.568504e-58       513  68.545455       0.004799   \n",
       "941  3.137504     6.321542  4.062830e-06         8   0.909091       0.000013   \n",
       "942  3.459432     4.802784  8.064572e-03         3   0.272727       0.000254   \n",
       "943  2.995267    17.467515  5.022008e-38       166  20.818182       0.000301   \n",
       "944  2.996460    10.498235  1.486924e-17        74   9.272727       0.002103   \n",
       "\n",
       "     sider  future_aers  medeffect  CIDs  \n",
       "940      0            1          0  6006  \n",
       "941      0            0          0  6006  \n",
       "942      0            0          0  6006  \n",
       "943      0            0          0  6006  \n",
       "944      0            0          0  6006  "
      ]
     },
     "execution_count": 26,
     "metadata": {},
     "output_type": "execute_result"
    }
   ],
   "source": [
    "df.head()"
   ]
  },
  {
   "cell_type": "markdown",
   "metadata": {},
   "source": [
    "## Make Binary Matrix"
   ]
  },
  {
   "cell_type": "code",
   "execution_count": 27,
   "metadata": {},
   "outputs": [],
   "source": [
    "grouped_df = df.groupby(['UMLS ID'])['CIDs'].apply(lambda x: ','.join(x.astype(str))).reset_index()"
   ]
  },
  {
   "cell_type": "code",
   "execution_count": 28,
   "metadata": {},
   "outputs": [
    {
     "data": {
      "text/plain": [
       "9112"
      ]
     },
     "execution_count": 28,
     "metadata": {},
     "output_type": "execute_result"
    }
   ],
   "source": [
    "grouped_df.set_index('UMLS ID', inplace=True)\n",
    "grouped_df = grouped_df.sort_index()\n",
    "len(df['UMLS ID'].unique())"
   ]
  },
  {
   "cell_type": "code",
   "execution_count": 29,
   "metadata": {},
   "outputs": [],
   "source": [
    "grouped_matrix = grouped_df.iloc[:,0].str.get_dummies(sep=',')"
   ]
  },
  {
   "cell_type": "code",
   "execution_count": 30,
   "metadata": {},
   "outputs": [
    {
     "data": {
      "text/html": [
       "<div>\n",
       "<style scoped>\n",
       "    .dataframe tbody tr th:only-of-type {\n",
       "        vertical-align: middle;\n",
       "    }\n",
       "\n",
       "    .dataframe tbody tr th {\n",
       "        vertical-align: top;\n",
       "    }\n",
       "\n",
       "    .dataframe thead th {\n",
       "        text-align: right;\n",
       "    }\n",
       "</style>\n",
       "<table border=\"1\" class=\"dataframe\">\n",
       "  <thead>\n",
       "    <tr style=\"text-align: right;\">\n",
       "      <th></th>\n",
       "      <th>10182969</th>\n",
       "      <th>1046</th>\n",
       "      <th>104741</th>\n",
       "      <th>104865</th>\n",
       "      <th>10531</th>\n",
       "      <th>1054</th>\n",
       "      <th>10660</th>\n",
       "      <th>107807</th>\n",
       "      <th>110634</th>\n",
       "      <th>110635</th>\n",
       "      <th>...</th>\n",
       "      <th>8982</th>\n",
       "      <th>91610</th>\n",
       "      <th>92722</th>\n",
       "      <th>92727</th>\n",
       "      <th>936</th>\n",
       "      <th>938</th>\n",
       "      <th>941650</th>\n",
       "      <th>9417</th>\n",
       "      <th>9651</th>\n",
       "      <th>9878</th>\n",
       "    </tr>\n",
       "    <tr>\n",
       "      <th>UMLS ID</th>\n",
       "      <th></th>\n",
       "      <th></th>\n",
       "      <th></th>\n",
       "      <th></th>\n",
       "      <th></th>\n",
       "      <th></th>\n",
       "      <th></th>\n",
       "      <th></th>\n",
       "      <th></th>\n",
       "      <th></th>\n",
       "      <th></th>\n",
       "      <th></th>\n",
       "      <th></th>\n",
       "      <th></th>\n",
       "      <th></th>\n",
       "      <th></th>\n",
       "      <th></th>\n",
       "      <th></th>\n",
       "      <th></th>\n",
       "      <th></th>\n",
       "      <th></th>\n",
       "    </tr>\n",
       "  </thead>\n",
       "  <tbody>\n",
       "    <tr>\n",
       "      <th>C0000727</th>\n",
       "      <td>0</td>\n",
       "      <td>0</td>\n",
       "      <td>0</td>\n",
       "      <td>1</td>\n",
       "      <td>0</td>\n",
       "      <td>0</td>\n",
       "      <td>0</td>\n",
       "      <td>0</td>\n",
       "      <td>0</td>\n",
       "      <td>0</td>\n",
       "      <td>...</td>\n",
       "      <td>0</td>\n",
       "      <td>0</td>\n",
       "      <td>0</td>\n",
       "      <td>1</td>\n",
       "      <td>0</td>\n",
       "      <td>0</td>\n",
       "      <td>0</td>\n",
       "      <td>0</td>\n",
       "      <td>0</td>\n",
       "      <td>0</td>\n",
       "    </tr>\n",
       "    <tr>\n",
       "      <th>C0000731</th>\n",
       "      <td>0</td>\n",
       "      <td>0</td>\n",
       "      <td>1</td>\n",
       "      <td>1</td>\n",
       "      <td>0</td>\n",
       "      <td>1</td>\n",
       "      <td>0</td>\n",
       "      <td>0</td>\n",
       "      <td>0</td>\n",
       "      <td>0</td>\n",
       "      <td>...</td>\n",
       "      <td>0</td>\n",
       "      <td>0</td>\n",
       "      <td>0</td>\n",
       "      <td>1</td>\n",
       "      <td>0</td>\n",
       "      <td>0</td>\n",
       "      <td>0</td>\n",
       "      <td>0</td>\n",
       "      <td>0</td>\n",
       "      <td>1</td>\n",
       "    </tr>\n",
       "    <tr>\n",
       "      <th>C0000733</th>\n",
       "      <td>0</td>\n",
       "      <td>0</td>\n",
       "      <td>0</td>\n",
       "      <td>0</td>\n",
       "      <td>0</td>\n",
       "      <td>0</td>\n",
       "      <td>0</td>\n",
       "      <td>0</td>\n",
       "      <td>0</td>\n",
       "      <td>0</td>\n",
       "      <td>...</td>\n",
       "      <td>0</td>\n",
       "      <td>0</td>\n",
       "      <td>0</td>\n",
       "      <td>0</td>\n",
       "      <td>0</td>\n",
       "      <td>0</td>\n",
       "      <td>0</td>\n",
       "      <td>0</td>\n",
       "      <td>0</td>\n",
       "      <td>0</td>\n",
       "    </tr>\n",
       "    <tr>\n",
       "      <th>C0000734</th>\n",
       "      <td>0</td>\n",
       "      <td>0</td>\n",
       "      <td>1</td>\n",
       "      <td>0</td>\n",
       "      <td>0</td>\n",
       "      <td>0</td>\n",
       "      <td>0</td>\n",
       "      <td>0</td>\n",
       "      <td>0</td>\n",
       "      <td>0</td>\n",
       "      <td>...</td>\n",
       "      <td>0</td>\n",
       "      <td>0</td>\n",
       "      <td>0</td>\n",
       "      <td>0</td>\n",
       "      <td>0</td>\n",
       "      <td>0</td>\n",
       "      <td>0</td>\n",
       "      <td>0</td>\n",
       "      <td>0</td>\n",
       "      <td>0</td>\n",
       "    </tr>\n",
       "    <tr>\n",
       "      <th>C0000735</th>\n",
       "      <td>0</td>\n",
       "      <td>0</td>\n",
       "      <td>1</td>\n",
       "      <td>0</td>\n",
       "      <td>0</td>\n",
       "      <td>0</td>\n",
       "      <td>0</td>\n",
       "      <td>0</td>\n",
       "      <td>0</td>\n",
       "      <td>0</td>\n",
       "      <td>...</td>\n",
       "      <td>0</td>\n",
       "      <td>0</td>\n",
       "      <td>0</td>\n",
       "      <td>0</td>\n",
       "      <td>0</td>\n",
       "      <td>0</td>\n",
       "      <td>0</td>\n",
       "      <td>0</td>\n",
       "      <td>0</td>\n",
       "      <td>0</td>\n",
       "    </tr>\n",
       "  </tbody>\n",
       "</table>\n",
       "<p>5 rows × 528 columns</p>\n",
       "</div>"
      ],
      "text/plain": [
       "          10182969  1046  104741  104865  10531  1054  10660  107807  110634  \\\n",
       "UMLS ID                                                                        \n",
       "C0000727         0     0       0       1      0     0      0       0       0   \n",
       "C0000731         0     0       1       1      0     1      0       0       0   \n",
       "C0000733         0     0       0       0      0     0      0       0       0   \n",
       "C0000734         0     0       1       0      0     0      0       0       0   \n",
       "C0000735         0     0       1       0      0     0      0       0       0   \n",
       "\n",
       "          110635  ...   8982  91610  92722  92727  936  938  941650  9417  \\\n",
       "UMLS ID           ...                                                       \n",
       "C0000727       0  ...      0      0      0      1    0    0       0     0   \n",
       "C0000731       0  ...      0      0      0      1    0    0       0     0   \n",
       "C0000733       0  ...      0      0      0      0    0    0       0     0   \n",
       "C0000734       0  ...      0      0      0      0    0    0       0     0   \n",
       "C0000735       0  ...      0      0      0      0    0    0       0     0   \n",
       "\n",
       "          9651  9878  \n",
       "UMLS ID               \n",
       "C0000727     0     0  \n",
       "C0000731     0     1  \n",
       "C0000733     0     0  \n",
       "C0000734     0     0  \n",
       "C0000735     0     0  \n",
       "\n",
       "[5 rows x 528 columns]"
      ]
     },
     "execution_count": 30,
     "metadata": {},
     "output_type": "execute_result"
    }
   ],
   "source": [
    "grouped_matrix.head()"
   ]
  },
  {
   "cell_type": "code",
   "execution_count": 31,
   "metadata": {},
   "outputs": [
    {
     "data": {
      "text/plain": [
       "(9112, 528)"
      ]
     },
     "execution_count": 31,
     "metadata": {},
     "output_type": "execute_result"
    }
   ],
   "source": [
    "grouped_matrix.shape"
   ]
  },
  {
   "cell_type": "markdown",
   "metadata": {},
   "source": [
    "## Save Binary Matrix"
   ]
  },
  {
   "cell_type": "code",
   "execution_count": 32,
   "metadata": {},
   "outputs": [],
   "source": [
    "filename = 'Output/PharmagKB_SE_%s.tsv.zip'% str(datetime.date.today())[0:7].replace('-', '_')\n",
    "grouped_matrix.to_csv(filename, sep='\\t', compression='gzip')"
   ]
  },
  {
   "cell_type": "markdown",
   "metadata": {},
   "source": [
    "## Convert Binary Matrix to GMT and Save as GMT"
   ]
  },
  {
   "cell_type": "code",
   "execution_count": 33,
   "metadata": {},
   "outputs": [],
   "source": [
    "drugset_library = []\n",
    "for index, row in grouped_matrix.iterrows():\n",
    "    drugset = []\n",
    "    drugset.append(index)\n",
    "    drugset.append('')\n",
    "    for i in range(grouped_matrix.shape[1]):\n",
    "        if row.iloc[i]==1:\n",
    "            drugset.append(row.index[i])\n",
    "    if len(drugset) >= 7:\n",
    "        drugset_library.append(drugset)\n",
    "dsl = np.array(drugset_library)"
   ]
  },
  {
   "cell_type": "code",
   "execution_count": 34,
   "metadata": {},
   "outputs": [
    {
     "data": {
      "text/plain": [
       "307"
      ]
     },
     "execution_count": 34,
     "metadata": {},
     "output_type": "execute_result"
    }
   ],
   "source": [
    "len(max(dsl, key=len))"
   ]
  },
  {
   "cell_type": "code",
   "execution_count": 35,
   "metadata": {},
   "outputs": [],
   "source": [
    "filename = 'Output/PharmagKB_SE_%s.gmt'% str(datetime.date.today())[0:7].replace('-', '_')\n",
    "with open(filename,'w',encoding='utf-8') as f:\n",
    "    for row in dsl:\n",
    "        np.savetxt(f, [row], fmt = '%s',delimiter = '\\t')"
   ]
  },
  {
   "cell_type": "code",
   "execution_count": null,
   "metadata": {},
   "outputs": [],
   "source": []
  },
  {
   "cell_type": "code",
   "execution_count": null,
   "metadata": {},
   "outputs": [],
   "source": []
  }
 ],
 "metadata": {
  "kernelspec": {
   "display_name": "Python 3",
   "language": "python",
   "name": "python3"
  },
  "language_info": {
   "codemirror_mode": {
    "name": "ipython",
    "version": 3
   },
   "file_extension": ".py",
   "mimetype": "text/x-python",
   "name": "python",
   "nbconvert_exporter": "python",
   "pygments_lexer": "ipython3",
   "version": "3.6.5"
  }
 },
 "nbformat": 4,
 "nbformat_minor": 2
}
