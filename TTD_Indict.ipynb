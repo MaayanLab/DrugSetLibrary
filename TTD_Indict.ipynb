{
 "cells": [
  {
   "cell_type": "markdown",
   "metadata": {},
   "source": [
    "## Import libraries"
   ]
  },
  {
   "cell_type": "code",
   "execution_count": 146,
   "metadata": {},
   "outputs": [],
   "source": [
    "import numpy as np\n",
    "import pandas as pd\n",
    "from scipy.spatial.distance import squareform, pdist,jaccard\n",
    "import sys,  datetime, os\n",
    "import requests\n",
    "import chardet"
   ]
  },
  {
   "cell_type": "markdown",
   "metadata": {},
   "source": [
    "## Load Data"
   ]
  },
  {
   "cell_type": "markdown",
   "metadata": {},
   "source": [
    "#### Load TTD Drug to interactions file"
   ]
  },
  {
   "cell_type": "code",
   "execution_count": 206,
   "metadata": {},
   "outputs": [],
   "source": [
    "df = pd.read_table('Input/TTDDRUGID_Indication.txt')"
   ]
  },
  {
   "cell_type": "code",
   "execution_count": 207,
   "metadata": {},
   "outputs": [
    {
     "data": {
      "text/html": [
       "<div>\n",
       "<style scoped>\n",
       "    .dataframe tbody tr th:only-of-type {\n",
       "        vertical-align: middle;\n",
       "    }\n",
       "\n",
       "    .dataframe tbody tr th {\n",
       "        vertical-align: top;\n",
       "    }\n",
       "\n",
       "    .dataframe thead th {\n",
       "        text-align: right;\n",
       "    }\n",
       "</style>\n",
       "<table border=\"1\" class=\"dataframe\">\n",
       "  <thead>\n",
       "    <tr style=\"text-align: right;\">\n",
       "      <th></th>\n",
       "      <th>TTDDRUGID</th>\n",
       "      <th>LNM</th>\n",
       "      <th>Indication</th>\n",
       "      <th>ICD9</th>\n",
       "      <th>ICD10</th>\n",
       "    </tr>\n",
       "  </thead>\n",
       "  <tbody>\n",
       "    <tr>\n",
       "      <th>0</th>\n",
       "      <td>DAP000001</td>\n",
       "      <td>Quetiapine</td>\n",
       "      <td>Schizophrenia</td>\n",
       "      <td>295, 710.0</td>\n",
       "      <td>F20, M32</td>\n",
       "    </tr>\n",
       "    <tr>\n",
       "      <th>1</th>\n",
       "      <td>DAP000002</td>\n",
       "      <td>Theophylline</td>\n",
       "      <td>Chronic obstructive pulmonary disease</td>\n",
       "      <td>490-492, 494-496</td>\n",
       "      <td>J40-J44, J47</td>\n",
       "    </tr>\n",
       "    <tr>\n",
       "      <th>2</th>\n",
       "      <td>DAP000003</td>\n",
       "      <td>Risperidone</td>\n",
       "      <td>Schizophrenia</td>\n",
       "      <td>295, 710.0</td>\n",
       "      <td>F20, M32</td>\n",
       "    </tr>\n",
       "    <tr>\n",
       "      <th>3</th>\n",
       "      <td>DAP000004</td>\n",
       "      <td>Dasatinib</td>\n",
       "      <td>Chronic myelogenous leukemia</td>\n",
       "      <td>205.1, 208.9</td>\n",
       "      <td>C91-C95, C92.1</td>\n",
       "    </tr>\n",
       "    <tr>\n",
       "      <th>4</th>\n",
       "      <td>DAP000004</td>\n",
       "      <td>Dasatinib</td>\n",
       "      <td>Solid tumours; Multiple myeloma</td>\n",
       "      <td>140-199, 203.0, 210-229</td>\n",
       "      <td>C00-C75, C7A, C7B, C90.0, D10-D36, D3A</td>\n",
       "    </tr>\n",
       "  </tbody>\n",
       "</table>\n",
       "</div>"
      ],
      "text/plain": [
       "   TTDDRUGID           LNM                             Indication  \\\n",
       "0  DAP000001    Quetiapine                          Schizophrenia   \n",
       "1  DAP000002  Theophylline  Chronic obstructive pulmonary disease   \n",
       "2  DAP000003   Risperidone                          Schizophrenia   \n",
       "3  DAP000004     Dasatinib           Chronic myelogenous leukemia   \n",
       "4  DAP000004     Dasatinib        Solid tumours; Multiple myeloma   \n",
       "\n",
       "                      ICD9                                   ICD10  \n",
       "0               295, 710.0                                F20, M32  \n",
       "1         490-492, 494-496                            J40-J44, J47  \n",
       "2               295, 710.0                                F20, M32  \n",
       "3             205.1, 208.9                          C91-C95, C92.1  \n",
       "4  140-199, 203.0, 210-229  C00-C75, C7A, C7B, C90.0, D10-D36, D3A  "
      ]
     },
     "execution_count": 207,
     "metadata": {},
     "output_type": "execute_result"
    }
   ],
   "source": [
    "df.head()"
   ]
  },
  {
   "cell_type": "code",
   "execution_count": 208,
   "metadata": {},
   "outputs": [
    {
     "data": {
      "text/plain": [
       "(20180, 5)"
      ]
     },
     "execution_count": 208,
     "metadata": {},
     "output_type": "execute_result"
    }
   ],
   "source": [
    "df.shape"
   ]
  },
  {
   "cell_type": "markdown",
   "metadata": {},
   "source": [
    "#### Load Meddra Indictations"
   ]
  },
  {
   "cell_type": "code",
   "execution_count": 209,
   "metadata": {},
   "outputs": [],
   "source": [
    "meddra_indict = pd.read_table('Input/meddra_all_indications.tsv', names = ['STITCH ID','UMLS Concept ID Label','Method Detection','Concept Name','Concept Type','UMLS Concept ID MedDRA', 'MedDRA Concept Name'])"
   ]
  },
  {
   "cell_type": "code",
   "execution_count": 210,
   "metadata": {},
   "outputs": [
    {
     "data": {
      "text/html": [
       "<div>\n",
       "<style scoped>\n",
       "    .dataframe tbody tr th:only-of-type {\n",
       "        vertical-align: middle;\n",
       "    }\n",
       "\n",
       "    .dataframe tbody tr th {\n",
       "        vertical-align: top;\n",
       "    }\n",
       "\n",
       "    .dataframe thead th {\n",
       "        text-align: right;\n",
       "    }\n",
       "</style>\n",
       "<table border=\"1\" class=\"dataframe\">\n",
       "  <thead>\n",
       "    <tr style=\"text-align: right;\">\n",
       "      <th></th>\n",
       "      <th>STITCH ID</th>\n",
       "      <th>UMLS Concept ID Label</th>\n",
       "      <th>Method Detection</th>\n",
       "      <th>Concept Name</th>\n",
       "      <th>Concept Type</th>\n",
       "      <th>UMLS Concept ID MedDRA</th>\n",
       "      <th>MedDRA Concept Name</th>\n",
       "    </tr>\n",
       "  </thead>\n",
       "  <tbody>\n",
       "    <tr>\n",
       "      <th>0</th>\n",
       "      <td>CID100000085</td>\n",
       "      <td>C0015544</td>\n",
       "      <td>text_mention</td>\n",
       "      <td>Failure to Thrive</td>\n",
       "      <td>LLT</td>\n",
       "      <td>C0015544</td>\n",
       "      <td>Failure to thrive</td>\n",
       "    </tr>\n",
       "    <tr>\n",
       "      <th>1</th>\n",
       "      <td>CID100000085</td>\n",
       "      <td>C0015544</td>\n",
       "      <td>text_mention</td>\n",
       "      <td>Failure to Thrive</td>\n",
       "      <td>PT</td>\n",
       "      <td>C0015544</td>\n",
       "      <td>Failure to thrive</td>\n",
       "    </tr>\n",
       "    <tr>\n",
       "      <th>2</th>\n",
       "      <td>CID100000085</td>\n",
       "      <td>C0020615</td>\n",
       "      <td>text_mention</td>\n",
       "      <td>Hypoglycemia</td>\n",
       "      <td>LLT</td>\n",
       "      <td>C0020615</td>\n",
       "      <td>Hypoglycaemia</td>\n",
       "    </tr>\n",
       "    <tr>\n",
       "      <th>3</th>\n",
       "      <td>CID100000085</td>\n",
       "      <td>C0020615</td>\n",
       "      <td>text_mention</td>\n",
       "      <td>Hypoglycemia</td>\n",
       "      <td>PT</td>\n",
       "      <td>C0020615</td>\n",
       "      <td>Hypoglycaemia</td>\n",
       "    </tr>\n",
       "    <tr>\n",
       "      <th>4</th>\n",
       "      <td>CID100000085</td>\n",
       "      <td>C0022661</td>\n",
       "      <td>NLP_indication</td>\n",
       "      <td>Kidney Failure, Chronic</td>\n",
       "      <td>LLT</td>\n",
       "      <td>C0022661</td>\n",
       "      <td>Renal failure chronic</td>\n",
       "    </tr>\n",
       "  </tbody>\n",
       "</table>\n",
       "</div>"
      ],
      "text/plain": [
       "      STITCH ID UMLS Concept ID Label Method Detection  \\\n",
       "0  CID100000085              C0015544     text_mention   \n",
       "1  CID100000085              C0015544     text_mention   \n",
       "2  CID100000085              C0020615     text_mention   \n",
       "3  CID100000085              C0020615     text_mention   \n",
       "4  CID100000085              C0022661   NLP_indication   \n",
       "\n",
       "              Concept Name Concept Type UMLS Concept ID MedDRA  \\\n",
       "0        Failure to Thrive          LLT               C0015544   \n",
       "1        Failure to Thrive           PT               C0015544   \n",
       "2             Hypoglycemia          LLT               C0020615   \n",
       "3             Hypoglycemia           PT               C0020615   \n",
       "4  Kidney Failure, Chronic          LLT               C0022661   \n",
       "\n",
       "     MedDRA Concept Name  \n",
       "0      Failure to thrive  \n",
       "1      Failure to thrive  \n",
       "2          Hypoglycaemia  \n",
       "3          Hypoglycaemia  \n",
       "4  Renal failure chronic  "
      ]
     },
     "execution_count": 210,
     "metadata": {},
     "output_type": "execute_result"
    }
   ],
   "source": [
    "meddra_indict.head()"
   ]
  },
  {
   "cell_type": "markdown",
   "metadata": {},
   "source": [
    "#### Load LINCS Small Molecules"
   ]
  },
  {
   "cell_type": "code",
   "execution_count": 211,
   "metadata": {},
   "outputs": [],
   "source": [
    "lincs = pd.read_csv('Input/LINCS_SmallMolecules.csv', encoding = 'ISO-8859-1')"
   ]
  },
  {
   "cell_type": "markdown",
   "metadata": {},
   "source": [
    "## Split up Indication column in DF"
   ]
  },
  {
   "cell_type": "code",
   "execution_count": 212,
   "metadata": {},
   "outputs": [
    {
     "name": "stdout",
     "output_type": "stream",
     "text": [
      "1216\n",
      "538\n"
     ]
    }
   ],
   "source": [
    "how_many = 0\n",
    "appended_df = []\n",
    "indict_index = np.where(df.columns.values=='Indication')[0][0]\n",
    "\n",
    "for index, row in df.iterrows():\n",
    "    indict_group = row.loc['Indication']\n",
    "    if '; ' in indict_group:\n",
    "        indict_split = indict_group.split('; ')\n",
    "        for i in indict_split:\n",
    "            row_as_list = row.values.tolist()\n",
    "            row_as_list[indict_index] = i\n",
    "            appended_df.append(row_as_list)\n",
    "        df.drop(index, inplace = True)\n",
    "        how_many += 1\n",
    "\n",
    "print(len(appended_df))\n",
    "print(how_many)"
   ]
  },
  {
   "cell_type": "code",
   "execution_count": 213,
   "metadata": {},
   "outputs": [],
   "source": [
    "columnnames = list(df.columns.values)\n",
    "fix_gene_df = pd.DataFrame(appended_df,columns = columnnames)"
   ]
  },
  {
   "cell_type": "code",
   "execution_count": 214,
   "metadata": {},
   "outputs": [
    {
     "data": {
      "text/html": [
       "<div>\n",
       "<style scoped>\n",
       "    .dataframe tbody tr th:only-of-type {\n",
       "        vertical-align: middle;\n",
       "    }\n",
       "\n",
       "    .dataframe tbody tr th {\n",
       "        vertical-align: top;\n",
       "    }\n",
       "\n",
       "    .dataframe thead th {\n",
       "        text-align: right;\n",
       "    }\n",
       "</style>\n",
       "<table border=\"1\" class=\"dataframe\">\n",
       "  <thead>\n",
       "    <tr style=\"text-align: right;\">\n",
       "      <th></th>\n",
       "      <th>TTDDRUGID</th>\n",
       "      <th>LNM</th>\n",
       "      <th>Indication</th>\n",
       "      <th>ICD9</th>\n",
       "      <th>ICD10</th>\n",
       "    </tr>\n",
       "  </thead>\n",
       "  <tbody>\n",
       "    <tr>\n",
       "      <th>0</th>\n",
       "      <td>DAP000004</td>\n",
       "      <td>Dasatinib</td>\n",
       "      <td>Solid tumours</td>\n",
       "      <td>140-199, 203.0, 210-229</td>\n",
       "      <td>C00-C75, C7A, C7B, C90.0, D10-D36, D3A</td>\n",
       "    </tr>\n",
       "    <tr>\n",
       "      <th>1</th>\n",
       "      <td>DAP000004</td>\n",
       "      <td>Dasatinib</td>\n",
       "      <td>Multiple myeloma</td>\n",
       "      <td>140-199, 203.0, 210-229</td>\n",
       "      <td>C00-C75, C7A, C7B, C90.0, D10-D36, D3A</td>\n",
       "    </tr>\n",
       "    <tr>\n",
       "      <th>2</th>\n",
       "      <td>DAP000006</td>\n",
       "      <td>Sorafenib</td>\n",
       "      <td>Hepatocellular carcinoma</td>\n",
       "      <td>155, 162, 172</td>\n",
       "      <td>C22.0, C33, C34, C43</td>\n",
       "    </tr>\n",
       "    <tr>\n",
       "      <th>3</th>\n",
       "      <td>DAP000006</td>\n",
       "      <td>Sorafenib</td>\n",
       "      <td>NSCLC</td>\n",
       "      <td>155, 162, 172</td>\n",
       "      <td>C22.0, C33, C34, C43</td>\n",
       "    </tr>\n",
       "    <tr>\n",
       "      <th>4</th>\n",
       "      <td>DAP000006</td>\n",
       "      <td>Sorafenib</td>\n",
       "      <td>Melanoma</td>\n",
       "      <td>155, 162, 172</td>\n",
       "      <td>C22.0, C33, C34, C43</td>\n",
       "    </tr>\n",
       "  </tbody>\n",
       "</table>\n",
       "</div>"
      ],
      "text/plain": [
       "   TTDDRUGID        LNM                Indication                     ICD9  \\\n",
       "0  DAP000004  Dasatinib             Solid tumours  140-199, 203.0, 210-229   \n",
       "1  DAP000004  Dasatinib          Multiple myeloma  140-199, 203.0, 210-229   \n",
       "2  DAP000006  Sorafenib  Hepatocellular carcinoma            155, 162, 172   \n",
       "3  DAP000006  Sorafenib                     NSCLC            155, 162, 172   \n",
       "4  DAP000006  Sorafenib                  Melanoma            155, 162, 172   \n",
       "\n",
       "                                    ICD10  \n",
       "0  C00-C75, C7A, C7B, C90.0, D10-D36, D3A  \n",
       "1  C00-C75, C7A, C7B, C90.0, D10-D36, D3A  \n",
       "2                    C22.0, C33, C34, C43  \n",
       "3                    C22.0, C33, C34, C43  \n",
       "4                    C22.0, C33, C34, C43  "
      ]
     },
     "execution_count": 214,
     "metadata": {},
     "output_type": "execute_result"
    }
   ],
   "source": [
    "fix_gene_df.head()"
   ]
  },
  {
   "cell_type": "code",
   "execution_count": 215,
   "metadata": {},
   "outputs": [],
   "source": [
    "df = df.append(fix_gene_df)"
   ]
  },
  {
   "cell_type": "markdown",
   "metadata": {},
   "source": [
    "## Map Indications to their CUI from MedDRA table"
   ]
  },
  {
   "cell_type": "code",
   "execution_count": 216,
   "metadata": {},
   "outputs": [],
   "source": [
    "meddra_indict = meddra_indict[['MedDRA Concept Name', 'UMLS Concept ID MedDRA']]"
   ]
  },
  {
   "cell_type": "code",
   "execution_count": 217,
   "metadata": {},
   "outputs": [
    {
     "data": {
      "text/html": [
       "<div>\n",
       "<style scoped>\n",
       "    .dataframe tbody tr th:only-of-type {\n",
       "        vertical-align: middle;\n",
       "    }\n",
       "\n",
       "    .dataframe tbody tr th {\n",
       "        vertical-align: top;\n",
       "    }\n",
       "\n",
       "    .dataframe thead th {\n",
       "        text-align: right;\n",
       "    }\n",
       "</style>\n",
       "<table border=\"1\" class=\"dataframe\">\n",
       "  <thead>\n",
       "    <tr style=\"text-align: right;\">\n",
       "      <th></th>\n",
       "      <th>MedDRA Concept Name</th>\n",
       "      <th>UMLS Concept ID MedDRA</th>\n",
       "    </tr>\n",
       "  </thead>\n",
       "  <tbody>\n",
       "    <tr>\n",
       "      <th>0</th>\n",
       "      <td>Failure to thrive</td>\n",
       "      <td>C0015544</td>\n",
       "    </tr>\n",
       "    <tr>\n",
       "      <th>1</th>\n",
       "      <td>Failure to thrive</td>\n",
       "      <td>C0015544</td>\n",
       "    </tr>\n",
       "    <tr>\n",
       "      <th>2</th>\n",
       "      <td>Hypoglycaemia</td>\n",
       "      <td>C0020615</td>\n",
       "    </tr>\n",
       "    <tr>\n",
       "      <th>3</th>\n",
       "      <td>Hypoglycaemia</td>\n",
       "      <td>C0020615</td>\n",
       "    </tr>\n",
       "    <tr>\n",
       "      <th>4</th>\n",
       "      <td>Renal failure chronic</td>\n",
       "      <td>C0022661</td>\n",
       "    </tr>\n",
       "  </tbody>\n",
       "</table>\n",
       "</div>"
      ],
      "text/plain": [
       "     MedDRA Concept Name UMLS Concept ID MedDRA\n",
       "0      Failure to thrive               C0015544\n",
       "1      Failure to thrive               C0015544\n",
       "2          Hypoglycaemia               C0020615\n",
       "3          Hypoglycaemia               C0020615\n",
       "4  Renal failure chronic               C0022661"
      ]
     },
     "execution_count": 217,
     "metadata": {},
     "output_type": "execute_result"
    }
   ],
   "source": [
    "meddra_indict.head()"
   ]
  },
  {
   "cell_type": "code",
   "execution_count": 218,
   "metadata": {
    "scrolled": true
   },
   "outputs": [],
   "source": [
    "meddra_indict.set_index('MedDRA Concept Name', inplace = True)"
   ]
  },
  {
   "cell_type": "code",
   "execution_count": 219,
   "metadata": {},
   "outputs": [],
   "source": [
    "meddra_indict=meddra_indict.drop_duplicates()"
   ]
  },
  {
   "cell_type": "code",
   "execution_count": 220,
   "metadata": {},
   "outputs": [
    {
     "data": {
      "text/html": [
       "<div>\n",
       "<style scoped>\n",
       "    .dataframe tbody tr th:only-of-type {\n",
       "        vertical-align: middle;\n",
       "    }\n",
       "\n",
       "    .dataframe tbody tr th {\n",
       "        vertical-align: top;\n",
       "    }\n",
       "\n",
       "    .dataframe thead th {\n",
       "        text-align: right;\n",
       "    }\n",
       "</style>\n",
       "<table border=\"1\" class=\"dataframe\">\n",
       "  <thead>\n",
       "    <tr style=\"text-align: right;\">\n",
       "      <th></th>\n",
       "      <th>TTDDRUGID</th>\n",
       "      <th>LNM</th>\n",
       "      <th>Indication</th>\n",
       "      <th>ICD9</th>\n",
       "      <th>ICD10</th>\n",
       "      <th>Concept ID</th>\n",
       "    </tr>\n",
       "  </thead>\n",
       "  <tbody>\n",
       "    <tr>\n",
       "      <th>0</th>\n",
       "      <td>DAP000001</td>\n",
       "      <td>Quetiapine</td>\n",
       "      <td>Schizophrenia</td>\n",
       "      <td>295, 710.0</td>\n",
       "      <td>F20, M32</td>\n",
       "      <td>None</td>\n",
       "    </tr>\n",
       "    <tr>\n",
       "      <th>1</th>\n",
       "      <td>DAP000002</td>\n",
       "      <td>Theophylline</td>\n",
       "      <td>Chronic obstructive pulmonary disease</td>\n",
       "      <td>490-492, 494-496</td>\n",
       "      <td>J40-J44, J47</td>\n",
       "      <td>None</td>\n",
       "    </tr>\n",
       "    <tr>\n",
       "      <th>2</th>\n",
       "      <td>DAP000003</td>\n",
       "      <td>Risperidone</td>\n",
       "      <td>Schizophrenia</td>\n",
       "      <td>295, 710.0</td>\n",
       "      <td>F20, M32</td>\n",
       "      <td>None</td>\n",
       "    </tr>\n",
       "    <tr>\n",
       "      <th>3</th>\n",
       "      <td>DAP000004</td>\n",
       "      <td>Dasatinib</td>\n",
       "      <td>Chronic myelogenous leukemia</td>\n",
       "      <td>205.1, 208.9</td>\n",
       "      <td>C91-C95, C92.1</td>\n",
       "      <td>None</td>\n",
       "    </tr>\n",
       "    <tr>\n",
       "      <th>5</th>\n",
       "      <td>DAP000005</td>\n",
       "      <td>Sunitinib</td>\n",
       "      <td>Advanced renal cell carcinoma</td>\n",
       "      <td>189</td>\n",
       "      <td>C64</td>\n",
       "      <td>None</td>\n",
       "    </tr>\n",
       "  </tbody>\n",
       "</table>\n",
       "</div>"
      ],
      "text/plain": [
       "   TTDDRUGID           LNM                             Indication  \\\n",
       "0  DAP000001    Quetiapine                          Schizophrenia   \n",
       "1  DAP000002  Theophylline  Chronic obstructive pulmonary disease   \n",
       "2  DAP000003   Risperidone                          Schizophrenia   \n",
       "3  DAP000004     Dasatinib           Chronic myelogenous leukemia   \n",
       "5  DAP000005     Sunitinib          Advanced renal cell carcinoma   \n",
       "\n",
       "               ICD9           ICD10 Concept ID  \n",
       "0        295, 710.0        F20, M32       None  \n",
       "1  490-492, 494-496    J40-J44, J47       None  \n",
       "2        295, 710.0        F20, M32       None  \n",
       "3      205.1, 208.9  C91-C95, C92.1       None  \n",
       "5               189             C64       None  "
      ]
     },
     "execution_count": 220,
     "metadata": {},
     "output_type": "execute_result"
    }
   ],
   "source": [
    "df['Concept ID'] = None\n",
    "df.head()"
   ]
  },
  {
   "cell_type": "code",
   "execution_count": 221,
   "metadata": {},
   "outputs": [],
   "source": [
    "for index,row in df.iterrows():\n",
    "    indict = row.loc['Indication']\n",
    "    if indict in list(meddra_indict.index):\n",
    "        df[\"Concept ID\"][index] = meddra_indict['UMLS Concept ID MedDRA'][indict]"
   ]
  },
  {
   "cell_type": "code",
   "execution_count": 225,
   "metadata": {},
   "outputs": [
    {
     "data": {
      "text/html": [
       "<div>\n",
       "<style scoped>\n",
       "    .dataframe tbody tr th:only-of-type {\n",
       "        vertical-align: middle;\n",
       "    }\n",
       "\n",
       "    .dataframe tbody tr th {\n",
       "        vertical-align: top;\n",
       "    }\n",
       "\n",
       "    .dataframe thead th {\n",
       "        text-align: right;\n",
       "    }\n",
       "</style>\n",
       "<table border=\"1\" class=\"dataframe\">\n",
       "  <thead>\n",
       "    <tr style=\"text-align: right;\">\n",
       "      <th></th>\n",
       "      <th>TTDDRUGID</th>\n",
       "      <th>LNM</th>\n",
       "      <th>Indication</th>\n",
       "      <th>ICD9</th>\n",
       "      <th>ICD10</th>\n",
       "      <th>Concept ID</th>\n",
       "    </tr>\n",
       "  </thead>\n",
       "  <tbody>\n",
       "    <tr>\n",
       "      <th>0</th>\n",
       "      <td>DAP000001</td>\n",
       "      <td>Quetiapine</td>\n",
       "      <td>Schizophrenia</td>\n",
       "      <td>295, 710.0</td>\n",
       "      <td>F20, M32</td>\n",
       "      <td>C0036341</td>\n",
       "    </tr>\n",
       "    <tr>\n",
       "      <th>1</th>\n",
       "      <td>DAP000002</td>\n",
       "      <td>Theophylline</td>\n",
       "      <td>Chronic obstructive pulmonary disease</td>\n",
       "      <td>490-492, 494-496</td>\n",
       "      <td>J40-J44, J47</td>\n",
       "      <td>C0024117</td>\n",
       "    </tr>\n",
       "    <tr>\n",
       "      <th>2</th>\n",
       "      <td>DAP000003</td>\n",
       "      <td>Risperidone</td>\n",
       "      <td>Schizophrenia</td>\n",
       "      <td>295, 710.0</td>\n",
       "      <td>F20, M32</td>\n",
       "      <td>C2239176</td>\n",
       "    </tr>\n",
       "    <tr>\n",
       "      <th>10</th>\n",
       "      <td>DAP000007</td>\n",
       "      <td>Dexamethasone</td>\n",
       "      <td>Rheumatold arthritis</td>\n",
       "      <td>714</td>\n",
       "      <td>M05-M06</td>\n",
       "      <td>C0036983</td>\n",
       "    </tr>\n",
       "    <tr>\n",
       "      <th>11</th>\n",
       "      <td>DAP000008</td>\n",
       "      <td>Eletriptan</td>\n",
       "      <td>Migraine</td>\n",
       "      <td>346</td>\n",
       "      <td>G43</td>\n",
       "      <td>C0149931</td>\n",
       "    </tr>\n",
       "  </tbody>\n",
       "</table>\n",
       "</div>"
      ],
      "text/plain": [
       "    TTDDRUGID            LNM                             Indication  \\\n",
       "0   DAP000001     Quetiapine                          Schizophrenia   \n",
       "1   DAP000002   Theophylline  Chronic obstructive pulmonary disease   \n",
       "2   DAP000003    Risperidone                          Schizophrenia   \n",
       "10  DAP000007  Dexamethasone                   Rheumatold arthritis   \n",
       "11  DAP000008     Eletriptan                               Migraine   \n",
       "\n",
       "                ICD9         ICD10 Concept ID  \n",
       "0         295, 710.0      F20, M32   C0036341  \n",
       "1   490-492, 494-496  J40-J44, J47   C0024117  \n",
       "2         295, 710.0      F20, M32   C2239176  \n",
       "10               714       M05-M06   C0036983  \n",
       "11               346           G43   C0149931  "
      ]
     },
     "execution_count": 225,
     "metadata": {},
     "output_type": "execute_result"
    }
   ],
   "source": [
    "df.head()"
   ]
  },
  {
   "cell_type": "code",
   "execution_count": 223,
   "metadata": {},
   "outputs": [
    {
     "data": {
      "text/plain": [
       "(20858, 6)"
      ]
     },
     "execution_count": 223,
     "metadata": {},
     "output_type": "execute_result"
    }
   ],
   "source": [
    "df.shape"
   ]
  },
  {
   "cell_type": "code",
   "execution_count": 224,
   "metadata": {},
   "outputs": [],
   "source": [
    "df = df.dropna(subset=['Concept ID']) "
   ]
  },
  {
   "cell_type": "markdown",
   "metadata": {},
   "source": [
    "## Get Pubchem ID and Map to Drug Name"
   ]
  },
  {
   "cell_type": "code",
   "execution_count": 194,
   "metadata": {},
   "outputs": [],
   "source": [
    "# namesdf = df['LNM']\n",
    "# namesdf = namesdf.drop_duplicates()\n",
    "# namesdf.shape"
   ]
  },
  {
   "cell_type": "code",
   "execution_count": 195,
   "metadata": {
    "scrolled": true
   },
   "outputs": [],
   "source": [
    "# nameslist = namesdf.tolist()\n",
    "# failed_to_get_CID = 0\n",
    "# CID_dict = {}\n",
    "\n",
    "# for name in nameslist:\n",
    "#     name = name.replace(' ','%20')\n",
    "#     url = 'https://pubchem.ncbi.nlm.nih.gov/rest/pug/compound/name/' + name + '/cids/JSON'\n",
    "#     response = requests.get(url)\n",
    "#     try:\n",
    "#         response.json()\n",
    "#     except ValueError:\n",
    "#         continue\n",
    "#     if 'IdentifierList' in response.json().keys():\n",
    "#         CID = response.json()['IdentifierList']['CID'][0]\n",
    "#         name = name.replace('%20', ' ')\n",
    "#         CID_dict[name] = CID\n",
    "#     else:\n",
    "#         failed_to_get_CID += 1\n",
    "        \n",
    "#     if len(CID_dict) % 100 == 0:\n",
    "#         name = name.replace('%20',' ')\n",
    "#         print(nameslist.index(name))\n",
    "\n",
    "# print(failed_to_get_CID)\n",
    "# print(len(CID_dict))\n",
    "# print(len(nameslist))"
   ]
  },
  {
   "cell_type": "code",
   "execution_count": 226,
   "metadata": {
    "scrolled": true
   },
   "outputs": [],
   "source": [
    "df['CIDs'] = None\n",
    "for index,row in df.iterrows():\n",
    "    drugname = row.loc['LNM']\n",
    "    if drugname in CID_dict:\n",
    "        df[\"CIDs\"][index] = int(CID_dict[drugname])"
   ]
  },
  {
   "cell_type": "code",
   "execution_count": 227,
   "metadata": {},
   "outputs": [
    {
     "data": {
      "text/html": [
       "<div>\n",
       "<style scoped>\n",
       "    .dataframe tbody tr th:only-of-type {\n",
       "        vertical-align: middle;\n",
       "    }\n",
       "\n",
       "    .dataframe tbody tr th {\n",
       "        vertical-align: top;\n",
       "    }\n",
       "\n",
       "    .dataframe thead th {\n",
       "        text-align: right;\n",
       "    }\n",
       "</style>\n",
       "<table border=\"1\" class=\"dataframe\">\n",
       "  <thead>\n",
       "    <tr style=\"text-align: right;\">\n",
       "      <th></th>\n",
       "      <th>TTDDRUGID</th>\n",
       "      <th>LNM</th>\n",
       "      <th>Indication</th>\n",
       "      <th>ICD9</th>\n",
       "      <th>ICD10</th>\n",
       "      <th>Concept ID</th>\n",
       "      <th>CIDs</th>\n",
       "    </tr>\n",
       "  </thead>\n",
       "  <tbody>\n",
       "    <tr>\n",
       "      <th>0</th>\n",
       "      <td>DAP000001</td>\n",
       "      <td>Quetiapine</td>\n",
       "      <td>Schizophrenia</td>\n",
       "      <td>295, 710.0</td>\n",
       "      <td>F20, M32</td>\n",
       "      <td>C0036341</td>\n",
       "      <td>3062316</td>\n",
       "    </tr>\n",
       "    <tr>\n",
       "      <th>1</th>\n",
       "      <td>DAP000002</td>\n",
       "      <td>Theophylline</td>\n",
       "      <td>Chronic obstructive pulmonary disease</td>\n",
       "      <td>490-492, 494-496</td>\n",
       "      <td>J40-J44, J47</td>\n",
       "      <td>C0024117</td>\n",
       "      <td>3062316</td>\n",
       "    </tr>\n",
       "    <tr>\n",
       "      <th>2</th>\n",
       "      <td>DAP000003</td>\n",
       "      <td>Risperidone</td>\n",
       "      <td>Schizophrenia</td>\n",
       "      <td>295, 710.0</td>\n",
       "      <td>F20, M32</td>\n",
       "      <td>C2239176</td>\n",
       "      <td>216239</td>\n",
       "    </tr>\n",
       "    <tr>\n",
       "      <th>10</th>\n",
       "      <td>DAP000007</td>\n",
       "      <td>Dexamethasone</td>\n",
       "      <td>Rheumatold arthritis</td>\n",
       "      <td>714</td>\n",
       "      <td>M05-M06</td>\n",
       "      <td>C0036983</td>\n",
       "      <td>439260</td>\n",
       "    </tr>\n",
       "    <tr>\n",
       "      <th>11</th>\n",
       "      <td>DAP000008</td>\n",
       "      <td>Eletriptan</td>\n",
       "      <td>Migraine</td>\n",
       "      <td>346</td>\n",
       "      <td>G43</td>\n",
       "      <td>C0149931</td>\n",
       "      <td>439260</td>\n",
       "    </tr>\n",
       "  </tbody>\n",
       "</table>\n",
       "</div>"
      ],
      "text/plain": [
       "    TTDDRUGID            LNM                             Indication  \\\n",
       "0   DAP000001     Quetiapine                          Schizophrenia   \n",
       "1   DAP000002   Theophylline  Chronic obstructive pulmonary disease   \n",
       "2   DAP000003    Risperidone                          Schizophrenia   \n",
       "10  DAP000007  Dexamethasone                   Rheumatold arthritis   \n",
       "11  DAP000008     Eletriptan                               Migraine   \n",
       "\n",
       "                ICD9         ICD10 Concept ID     CIDs  \n",
       "0         295, 710.0      F20, M32   C0036341  3062316  \n",
       "1   490-492, 494-496  J40-J44, J47   C0024117  3062316  \n",
       "2         295, 710.0      F20, M32   C2239176   216239  \n",
       "10               714       M05-M06   C0036983   439260  \n",
       "11               346           G43   C0149931   439260  "
      ]
     },
     "execution_count": 227,
     "metadata": {},
     "output_type": "execute_result"
    }
   ],
   "source": [
    "df.head()"
   ]
  },
  {
   "cell_type": "code",
   "execution_count": 228,
   "metadata": {},
   "outputs": [],
   "source": [
    "df = df.dropna(subset=['CIDs']) \n",
    "df = df.dropna(subset=['Concept ID']) "
   ]
  },
  {
   "cell_type": "code",
   "execution_count": 229,
   "metadata": {},
   "outputs": [
    {
     "data": {
      "text/plain": [
       "(4376, 7)"
      ]
     },
     "execution_count": 229,
     "metadata": {},
     "output_type": "execute_result"
    }
   ],
   "source": [
    "df.shape"
   ]
  },
  {
   "cell_type": "code",
   "execution_count": 230,
   "metadata": {},
   "outputs": [
    {
     "data": {
      "text/html": [
       "<div>\n",
       "<style scoped>\n",
       "    .dataframe tbody tr th:only-of-type {\n",
       "        vertical-align: middle;\n",
       "    }\n",
       "\n",
       "    .dataframe tbody tr th {\n",
       "        vertical-align: top;\n",
       "    }\n",
       "\n",
       "    .dataframe thead th {\n",
       "        text-align: right;\n",
       "    }\n",
       "</style>\n",
       "<table border=\"1\" class=\"dataframe\">\n",
       "  <thead>\n",
       "    <tr style=\"text-align: right;\">\n",
       "      <th></th>\n",
       "      <th>index</th>\n",
       "      <th>Concept ID</th>\n",
       "      <th>CIDs</th>\n",
       "    </tr>\n",
       "  </thead>\n",
       "  <tbody>\n",
       "    <tr>\n",
       "      <th>0</th>\n",
       "      <td>0</td>\n",
       "      <td>C0036341</td>\n",
       "      <td>3062316</td>\n",
       "    </tr>\n",
       "    <tr>\n",
       "      <th>1</th>\n",
       "      <td>1</td>\n",
       "      <td>C0024117</td>\n",
       "      <td>3062316</td>\n",
       "    </tr>\n",
       "    <tr>\n",
       "      <th>2</th>\n",
       "      <td>2</td>\n",
       "      <td>C2239176</td>\n",
       "      <td>216239</td>\n",
       "    </tr>\n",
       "    <tr>\n",
       "      <th>3</th>\n",
       "      <td>10</td>\n",
       "      <td>C0036983</td>\n",
       "      <td>439260</td>\n",
       "    </tr>\n",
       "    <tr>\n",
       "      <th>4</th>\n",
       "      <td>11</td>\n",
       "      <td>C0149931</td>\n",
       "      <td>439260</td>\n",
       "    </tr>\n",
       "  </tbody>\n",
       "</table>\n",
       "</div>"
      ],
      "text/plain": [
       "   index Concept ID     CIDs\n",
       "0      0   C0036341  3062316\n",
       "1      1   C0024117  3062316\n",
       "2      2   C2239176   216239\n",
       "3     10   C0036983   439260\n",
       "4     11   C0149931   439260"
      ]
     },
     "execution_count": 230,
     "metadata": {},
     "output_type": "execute_result"
    }
   ],
   "source": [
    "df = df[['Concept ID','CIDs']]\n",
    "df = df.reset_index()\n",
    "df.head()"
   ]
  },
  {
   "cell_type": "markdown",
   "metadata": {},
   "source": [
    "## Filter by LINCS Approved Small Molecules"
   ]
  },
  {
   "cell_type": "code",
   "execution_count": 231,
   "metadata": {
    "scrolled": true
   },
   "outputs": [
    {
     "name": "stdout",
     "output_type": "stream",
     "text": [
      "2945\n"
     ]
    }
   ],
   "source": [
    "count = 0\n",
    "for index, row in df.iterrows():\n",
    "    CID = row.loc['CIDs']\n",
    "    if CID not in lincs['SM_PubChem_CID'].values:\n",
    "        df.drop(index, inplace = True)\n",
    "        count += 1\n",
    "        \n",
    "print(count)"
   ]
  },
  {
   "cell_type": "markdown",
   "metadata": {},
   "source": [
    "## Make Binary Matrix"
   ]
  },
  {
   "cell_type": "code",
   "execution_count": 232,
   "metadata": {},
   "outputs": [
    {
     "data": {
      "text/plain": [
       "200"
      ]
     },
     "execution_count": 232,
     "metadata": {},
     "output_type": "execute_result"
    }
   ],
   "source": [
    "grouped_df = df.groupby(['Concept ID'])['CIDs'].apply(lambda x: ','.join(x.astype(str))).reset_index()\n",
    "grouped_df.set_index('Concept ID', inplace=True)\n",
    "grouped_df = grouped_df.sort_index()\n",
    "len(df['Concept ID'].unique())"
   ]
  },
  {
   "cell_type": "code",
   "execution_count": 233,
   "metadata": {},
   "outputs": [
    {
     "data": {
      "text/html": [
       "<div>\n",
       "<style scoped>\n",
       "    .dataframe tbody tr th:only-of-type {\n",
       "        vertical-align: middle;\n",
       "    }\n",
       "\n",
       "    .dataframe tbody tr th {\n",
       "        vertical-align: top;\n",
       "    }\n",
       "\n",
       "    .dataframe thead th {\n",
       "        text-align: right;\n",
       "    }\n",
       "</style>\n",
       "<table border=\"1\" class=\"dataframe\">\n",
       "  <thead>\n",
       "    <tr style=\"text-align: right;\">\n",
       "      <th></th>\n",
       "      <th>10071196</th>\n",
       "      <th>10090485</th>\n",
       "      <th>10117987</th>\n",
       "      <th>10127622</th>\n",
       "      <th>10182969</th>\n",
       "      <th>10201696</th>\n",
       "      <th>10253143</th>\n",
       "      <th>10288191</th>\n",
       "      <th>10295295</th>\n",
       "      <th>10296883</th>\n",
       "      <th>...</th>\n",
       "      <th>9915743</th>\n",
       "      <th>9924495</th>\n",
       "      <th>9930049</th>\n",
       "      <th>9931954</th>\n",
       "      <th>9933475</th>\n",
       "      <th>9935681</th>\n",
       "      <th>9941444</th>\n",
       "      <th>9952884</th>\n",
       "      <th>9953599</th>\n",
       "      <th>9960285</th>\n",
       "    </tr>\n",
       "    <tr>\n",
       "      <th>Concept ID</th>\n",
       "      <th></th>\n",
       "      <th></th>\n",
       "      <th></th>\n",
       "      <th></th>\n",
       "      <th></th>\n",
       "      <th></th>\n",
       "      <th></th>\n",
       "      <th></th>\n",
       "      <th></th>\n",
       "      <th></th>\n",
       "      <th></th>\n",
       "      <th></th>\n",
       "      <th></th>\n",
       "      <th></th>\n",
       "      <th></th>\n",
       "      <th></th>\n",
       "      <th></th>\n",
       "      <th></th>\n",
       "      <th></th>\n",
       "      <th></th>\n",
       "      <th></th>\n",
       "    </tr>\n",
       "  </thead>\n",
       "  <tbody>\n",
       "    <tr>\n",
       "      <th>C0001144</th>\n",
       "      <td>0</td>\n",
       "      <td>0</td>\n",
       "      <td>0</td>\n",
       "      <td>0</td>\n",
       "      <td>0</td>\n",
       "      <td>0</td>\n",
       "      <td>0</td>\n",
       "      <td>0</td>\n",
       "      <td>0</td>\n",
       "      <td>0</td>\n",
       "      <td>...</td>\n",
       "      <td>0</td>\n",
       "      <td>0</td>\n",
       "      <td>0</td>\n",
       "      <td>0</td>\n",
       "      <td>0</td>\n",
       "      <td>0</td>\n",
       "      <td>0</td>\n",
       "      <td>0</td>\n",
       "      <td>0</td>\n",
       "      <td>0</td>\n",
       "    </tr>\n",
       "    <tr>\n",
       "      <th>C0001206</th>\n",
       "      <td>0</td>\n",
       "      <td>0</td>\n",
       "      <td>0</td>\n",
       "      <td>0</td>\n",
       "      <td>0</td>\n",
       "      <td>0</td>\n",
       "      <td>0</td>\n",
       "      <td>0</td>\n",
       "      <td>0</td>\n",
       "      <td>0</td>\n",
       "      <td>...</td>\n",
       "      <td>0</td>\n",
       "      <td>0</td>\n",
       "      <td>0</td>\n",
       "      <td>0</td>\n",
       "      <td>0</td>\n",
       "      <td>0</td>\n",
       "      <td>0</td>\n",
       "      <td>0</td>\n",
       "      <td>0</td>\n",
       "      <td>0</td>\n",
       "    </tr>\n",
       "    <tr>\n",
       "      <th>C0002170</th>\n",
       "      <td>0</td>\n",
       "      <td>0</td>\n",
       "      <td>0</td>\n",
       "      <td>0</td>\n",
       "      <td>0</td>\n",
       "      <td>0</td>\n",
       "      <td>0</td>\n",
       "      <td>0</td>\n",
       "      <td>0</td>\n",
       "      <td>0</td>\n",
       "      <td>...</td>\n",
       "      <td>0</td>\n",
       "      <td>0</td>\n",
       "      <td>0</td>\n",
       "      <td>0</td>\n",
       "      <td>0</td>\n",
       "      <td>0</td>\n",
       "      <td>0</td>\n",
       "      <td>0</td>\n",
       "      <td>0</td>\n",
       "      <td>0</td>\n",
       "    </tr>\n",
       "    <tr>\n",
       "      <th>C0002438</th>\n",
       "      <td>0</td>\n",
       "      <td>0</td>\n",
       "      <td>0</td>\n",
       "      <td>0</td>\n",
       "      <td>0</td>\n",
       "      <td>0</td>\n",
       "      <td>0</td>\n",
       "      <td>0</td>\n",
       "      <td>0</td>\n",
       "      <td>0</td>\n",
       "      <td>...</td>\n",
       "      <td>0</td>\n",
       "      <td>0</td>\n",
       "      <td>0</td>\n",
       "      <td>0</td>\n",
       "      <td>0</td>\n",
       "      <td>0</td>\n",
       "      <td>0</td>\n",
       "      <td>0</td>\n",
       "      <td>0</td>\n",
       "      <td>0</td>\n",
       "    </tr>\n",
       "    <tr>\n",
       "      <th>C0002622</th>\n",
       "      <td>0</td>\n",
       "      <td>0</td>\n",
       "      <td>0</td>\n",
       "      <td>0</td>\n",
       "      <td>0</td>\n",
       "      <td>0</td>\n",
       "      <td>0</td>\n",
       "      <td>0</td>\n",
       "      <td>0</td>\n",
       "      <td>0</td>\n",
       "      <td>...</td>\n",
       "      <td>0</td>\n",
       "      <td>0</td>\n",
       "      <td>0</td>\n",
       "      <td>0</td>\n",
       "      <td>0</td>\n",
       "      <td>0</td>\n",
       "      <td>0</td>\n",
       "      <td>0</td>\n",
       "      <td>0</td>\n",
       "      <td>0</td>\n",
       "    </tr>\n",
       "  </tbody>\n",
       "</table>\n",
       "<p>5 rows × 746 columns</p>\n",
       "</div>"
      ],
      "text/plain": [
       "            10071196  10090485  10117987  10127622  10182969  10201696  \\\n",
       "Concept ID                                                               \n",
       "C0001144           0         0         0         0         0         0   \n",
       "C0001206           0         0         0         0         0         0   \n",
       "C0002170           0         0         0         0         0         0   \n",
       "C0002438           0         0         0         0         0         0   \n",
       "C0002622           0         0         0         0         0         0   \n",
       "\n",
       "            10253143  10288191  10295295  10296883   ...     9915743  9924495  \\\n",
       "Concept ID                                           ...                        \n",
       "C0001144           0         0         0         0   ...           0        0   \n",
       "C0001206           0         0         0         0   ...           0        0   \n",
       "C0002170           0         0         0         0   ...           0        0   \n",
       "C0002438           0         0         0         0   ...           0        0   \n",
       "C0002622           0         0         0         0   ...           0        0   \n",
       "\n",
       "            9930049  9931954  9933475  9935681  9941444  9952884  9953599  \\\n",
       "Concept ID                                                                  \n",
       "C0001144          0        0        0        0        0        0        0   \n",
       "C0001206          0        0        0        0        0        0        0   \n",
       "C0002170          0        0        0        0        0        0        0   \n",
       "C0002438          0        0        0        0        0        0        0   \n",
       "C0002622          0        0        0        0        0        0        0   \n",
       "\n",
       "            9960285  \n",
       "Concept ID           \n",
       "C0001144          0  \n",
       "C0001206          0  \n",
       "C0002170          0  \n",
       "C0002438          0  \n",
       "C0002622          0  \n",
       "\n",
       "[5 rows x 746 columns]"
      ]
     },
     "execution_count": 233,
     "metadata": {},
     "output_type": "execute_result"
    }
   ],
   "source": [
    "grouped_matrix = grouped_df.iloc[:,0].str.get_dummies(sep=',')\n",
    "grouped_matrix.head()"
   ]
  },
  {
   "cell_type": "code",
   "execution_count": 234,
   "metadata": {},
   "outputs": [
    {
     "data": {
      "text/plain": [
       "(200, 746)"
      ]
     },
     "execution_count": 234,
     "metadata": {},
     "output_type": "execute_result"
    }
   ],
   "source": [
    "grouped_matrix.shape"
   ]
  },
  {
   "cell_type": "markdown",
   "metadata": {},
   "source": [
    "## Save Binary Matrix"
   ]
  },
  {
   "cell_type": "code",
   "execution_count": 235,
   "metadata": {},
   "outputs": [],
   "source": [
    "filename = 'Output/TTD_Indications_%s.tsv.zip'% str(datetime.date.today())[0:7].replace('-', '_')\n",
    "grouped_matrix.to_csv(filename, sep='\\t', compression='gzip')"
   ]
  },
  {
   "cell_type": "markdown",
   "metadata": {},
   "source": [
    "## Convert Binary Matrix to GMT and Save as GMT"
   ]
  },
  {
   "cell_type": "code",
   "execution_count": 236,
   "metadata": {},
   "outputs": [
    {
     "data": {
      "text/plain": [
       "49"
      ]
     },
     "execution_count": 236,
     "metadata": {},
     "output_type": "execute_result"
    }
   ],
   "source": [
    "drugset_library = []\n",
    "for index, row in grouped_matrix.iterrows():\n",
    "    drugset = []\n",
    "    drugset.append(index)\n",
    "    drugset.append('')\n",
    "    for i in range(grouped_matrix.shape[1]):\n",
    "        if row.iloc[i]==1:\n",
    "            drugset.append(row.index[i])\n",
    "    if len(drugset) >= 7:\n",
    "        drugset_library.append(drugset)\n",
    "dsl = np.array(drugset_library)\n",
    "len(max(dsl, key=len))"
   ]
  },
  {
   "cell_type": "code",
   "execution_count": 237,
   "metadata": {},
   "outputs": [],
   "source": [
    "filename = 'Output/TTD_Indications_DrugSetLibrary_%s.gmt'% str(datetime.date.today())[0:7].replace('-', '_')\n",
    "with open(filename,'w',encoding='utf-8') as f:\n",
    "    for row in dsl:\n",
    "        np.savetxt(f, [row], fmt = '%s',delimiter = '\\t')"
   ]
  },
  {
   "cell_type": "code",
   "execution_count": null,
   "metadata": {},
   "outputs": [],
   "source": []
  },
  {
   "cell_type": "code",
   "execution_count": null,
   "metadata": {},
   "outputs": [],
   "source": []
  },
  {
   "cell_type": "code",
   "execution_count": null,
   "metadata": {},
   "outputs": [],
   "source": []
  },
  {
   "cell_type": "code",
   "execution_count": null,
   "metadata": {},
   "outputs": [],
   "source": []
  },
  {
   "cell_type": "code",
   "execution_count": null,
   "metadata": {},
   "outputs": [],
   "source": []
  },
  {
   "cell_type": "code",
   "execution_count": null,
   "metadata": {},
   "outputs": [],
   "source": []
  }
 ],
 "metadata": {
  "kernelspec": {
   "display_name": "Python 3",
   "language": "python",
   "name": "python3"
  },
  "language_info": {
   "codemirror_mode": {
    "name": "ipython",
    "version": 3
   },
   "file_extension": ".py",
   "mimetype": "text/x-python",
   "name": "python",
   "nbconvert_exporter": "python",
   "pygments_lexer": "ipython3",
   "version": "3.6.5"
  }
 },
 "nbformat": 4,
 "nbformat_minor": 2
}
