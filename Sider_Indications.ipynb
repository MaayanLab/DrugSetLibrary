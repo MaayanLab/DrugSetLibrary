{
 "cells": [
  {
   "cell_type": "markdown",
   "metadata": {},
   "source": [
    "## Import Libraries"
   ]
  },
  {
   "cell_type": "code",
   "execution_count": 1,
   "metadata": {},
   "outputs": [],
   "source": [
    "import numpy as np\n",
    "import pandas as pd\n",
    "from scipy.spatial.distance import squareform, pdist,jaccard\n",
    "import sys,  datetime, os\n",
    "import requests\n",
    "import chardet"
   ]
  },
  {
   "cell_type": "markdown",
   "metadata": {},
   "source": [
    "## Load Data"
   ]
  },
  {
   "cell_type": "markdown",
   "metadata": {},
   "source": [
    "#### Load Sider Interactions Data"
   ]
  },
  {
   "cell_type": "code",
   "execution_count": 6,
   "metadata": {},
   "outputs": [],
   "source": [
    "df_with_types = pd.read_table('Input/meddra_all_indications.tsv', names = ['STITCH ID','UMLS Concept ID Label','Method Detection','Concept Name','Concept Type','UMLS Concept ID MedDRA', 'MedDRA Concept Name'])"
   ]
  },
  {
   "cell_type": "code",
   "execution_count": 11,
   "metadata": {},
   "outputs": [
    {
     "data": {
      "text/html": [
       "<div>\n",
       "<style scoped>\n",
       "    .dataframe tbody tr th:only-of-type {\n",
       "        vertical-align: middle;\n",
       "    }\n",
       "\n",
       "    .dataframe tbody tr th {\n",
       "        vertical-align: top;\n",
       "    }\n",
       "\n",
       "    .dataframe thead th {\n",
       "        text-align: right;\n",
       "    }\n",
       "</style>\n",
       "<table border=\"1\" class=\"dataframe\">\n",
       "  <thead>\n",
       "    <tr style=\"text-align: right;\">\n",
       "      <th></th>\n",
       "      <th>STITCH ID</th>\n",
       "      <th>UMLS Concept ID Label</th>\n",
       "      <th>Method Detection</th>\n",
       "      <th>Concept Name</th>\n",
       "      <th>Concept Type</th>\n",
       "      <th>UMLS Concept ID MedDRA</th>\n",
       "      <th>MedDRA Concept Name</th>\n",
       "    </tr>\n",
       "  </thead>\n",
       "  <tbody>\n",
       "    <tr>\n",
       "      <th>0</th>\n",
       "      <td>CID100000085</td>\n",
       "      <td>C0015544</td>\n",
       "      <td>text_mention</td>\n",
       "      <td>Failure to Thrive</td>\n",
       "      <td>LLT</td>\n",
       "      <td>C0015544</td>\n",
       "      <td>Failure to thrive</td>\n",
       "    </tr>\n",
       "    <tr>\n",
       "      <th>1</th>\n",
       "      <td>CID100000085</td>\n",
       "      <td>C0015544</td>\n",
       "      <td>text_mention</td>\n",
       "      <td>Failure to Thrive</td>\n",
       "      <td>PT</td>\n",
       "      <td>C0015544</td>\n",
       "      <td>Failure to thrive</td>\n",
       "    </tr>\n",
       "    <tr>\n",
       "      <th>2</th>\n",
       "      <td>CID100000085</td>\n",
       "      <td>C0020615</td>\n",
       "      <td>text_mention</td>\n",
       "      <td>Hypoglycemia</td>\n",
       "      <td>LLT</td>\n",
       "      <td>C0020615</td>\n",
       "      <td>Hypoglycaemia</td>\n",
       "    </tr>\n",
       "    <tr>\n",
       "      <th>3</th>\n",
       "      <td>CID100000085</td>\n",
       "      <td>C0020615</td>\n",
       "      <td>text_mention</td>\n",
       "      <td>Hypoglycemia</td>\n",
       "      <td>PT</td>\n",
       "      <td>C0020615</td>\n",
       "      <td>Hypoglycaemia</td>\n",
       "    </tr>\n",
       "    <tr>\n",
       "      <th>4</th>\n",
       "      <td>CID100000085</td>\n",
       "      <td>C0022661</td>\n",
       "      <td>NLP_indication</td>\n",
       "      <td>Kidney Failure, Chronic</td>\n",
       "      <td>LLT</td>\n",
       "      <td>C0022661</td>\n",
       "      <td>Renal failure chronic</td>\n",
       "    </tr>\n",
       "    <tr>\n",
       "      <th>5</th>\n",
       "      <td>CID100000085</td>\n",
       "      <td>C0022661</td>\n",
       "      <td>NLP_indication</td>\n",
       "      <td>Kidney Failure, Chronic</td>\n",
       "      <td>PT</td>\n",
       "      <td>C0022661</td>\n",
       "      <td>Renal failure chronic</td>\n",
       "    </tr>\n",
       "    <tr>\n",
       "      <th>6</th>\n",
       "      <td>CID100000085</td>\n",
       "      <td>C0025521</td>\n",
       "      <td>NLP_indication</td>\n",
       "      <td>Inborn Errors of Metabolism</td>\n",
       "      <td>LLT</td>\n",
       "      <td>C0025521</td>\n",
       "      <td>Inborn error of metabolism</td>\n",
       "    </tr>\n",
       "    <tr>\n",
       "      <th>7</th>\n",
       "      <td>CID100000085</td>\n",
       "      <td>C0025521</td>\n",
       "      <td>NLP_indication</td>\n",
       "      <td>Inborn Errors of Metabolism</td>\n",
       "      <td>PT</td>\n",
       "      <td>C0025521</td>\n",
       "      <td>Inborn error of metabolism</td>\n",
       "    </tr>\n",
       "    <tr>\n",
       "      <th>8</th>\n",
       "      <td>CID100000085</td>\n",
       "      <td>C0026827</td>\n",
       "      <td>text_mention</td>\n",
       "      <td>Muscle hypotonia</td>\n",
       "      <td>LLT</td>\n",
       "      <td>C0026827</td>\n",
       "      <td>Hypotonia</td>\n",
       "    </tr>\n",
       "    <tr>\n",
       "      <th>9</th>\n",
       "      <td>CID100000085</td>\n",
       "      <td>C0026827</td>\n",
       "      <td>text_mention</td>\n",
       "      <td>Muscle hypotonia</td>\n",
       "      <td>PT</td>\n",
       "      <td>C0026827</td>\n",
       "      <td>Hypotonia</td>\n",
       "    </tr>\n",
       "  </tbody>\n",
       "</table>\n",
       "</div>"
      ],
      "text/plain": [
       "      STITCH ID UMLS Concept ID Label Method Detection  \\\n",
       "0  CID100000085              C0015544     text_mention   \n",
       "1  CID100000085              C0015544     text_mention   \n",
       "2  CID100000085              C0020615     text_mention   \n",
       "3  CID100000085              C0020615     text_mention   \n",
       "4  CID100000085              C0022661   NLP_indication   \n",
       "5  CID100000085              C0022661   NLP_indication   \n",
       "6  CID100000085              C0025521   NLP_indication   \n",
       "7  CID100000085              C0025521   NLP_indication   \n",
       "8  CID100000085              C0026827     text_mention   \n",
       "9  CID100000085              C0026827     text_mention   \n",
       "\n",
       "                  Concept Name Concept Type UMLS Concept ID MedDRA  \\\n",
       "0            Failure to Thrive          LLT               C0015544   \n",
       "1            Failure to Thrive           PT               C0015544   \n",
       "2                 Hypoglycemia          LLT               C0020615   \n",
       "3                 Hypoglycemia           PT               C0020615   \n",
       "4      Kidney Failure, Chronic          LLT               C0022661   \n",
       "5      Kidney Failure, Chronic           PT               C0022661   \n",
       "6  Inborn Errors of Metabolism          LLT               C0025521   \n",
       "7  Inborn Errors of Metabolism           PT               C0025521   \n",
       "8             Muscle hypotonia          LLT               C0026827   \n",
       "9             Muscle hypotonia           PT               C0026827   \n",
       "\n",
       "          MedDRA Concept Name  \n",
       "0           Failure to thrive  \n",
       "1           Failure to thrive  \n",
       "2               Hypoglycaemia  \n",
       "3               Hypoglycaemia  \n",
       "4       Renal failure chronic  \n",
       "5       Renal failure chronic  \n",
       "6  Inborn error of metabolism  \n",
       "7  Inborn error of metabolism  \n",
       "8                   Hypotonia  \n",
       "9                   Hypotonia  "
      ]
     },
     "execution_count": 11,
     "metadata": {},
     "output_type": "execute_result"
    }
   ],
   "source": [
    "df_with_types.head(10)"
   ]
  },
  {
   "cell_type": "code",
   "execution_count": 15,
   "metadata": {},
   "outputs": [
    {
     "data": {
      "text/plain": [
       "(30835, 7)"
      ]
     },
     "execution_count": 15,
     "metadata": {},
     "output_type": "execute_result"
    }
   ],
   "source": [
    "df_with_types.shape"
   ]
  },
  {
   "cell_type": "markdown",
   "metadata": {},
   "source": [
    "#### Load LINCS Small Molecules"
   ]
  },
  {
   "cell_type": "code",
   "execution_count": 8,
   "metadata": {},
   "outputs": [],
   "source": [
    "lincs = pd.read_csv('Input/LINCS_SmallMolecules.csv', encoding = 'ISO-8859-1')"
   ]
  },
  {
   "cell_type": "code",
   "execution_count": 9,
   "metadata": {},
   "outputs": [
    {
     "data": {
      "text/html": [
       "<div>\n",
       "<style scoped>\n",
       "    .dataframe tbody tr th:only-of-type {\n",
       "        vertical-align: middle;\n",
       "    }\n",
       "\n",
       "    .dataframe tbody tr th {\n",
       "        vertical-align: top;\n",
       "    }\n",
       "\n",
       "    .dataframe thead th {\n",
       "        text-align: right;\n",
       "    }\n",
       "</style>\n",
       "<table border=\"1\" class=\"dataframe\">\n",
       "  <thead>\n",
       "    <tr style=\"text-align: right;\">\n",
       "      <th></th>\n",
       "      <th>SM_Name</th>\n",
       "      <th>SM_LINCS_ID</th>\n",
       "      <th>SM_Alternative_Name</th>\n",
       "      <th>SM_PubChem_CID</th>\n",
       "      <th>SM_SMILES_Parent</th>\n",
       "      <th>SM_SMILES_Batch</th>\n",
       "      <th>SM_InChi_Parent</th>\n",
       "      <th>SM_Molecular_Mass</th>\n",
       "      <th>MOLECULAR_FORMULA</th>\n",
       "      <th>SM_ChEBI_ID</th>\n",
       "    </tr>\n",
       "  </thead>\n",
       "  <tbody>\n",
       "    <tr>\n",
       "      <th>0</th>\n",
       "      <td>Dichlobenil</td>\n",
       "      <td>LSM-19017</td>\n",
       "      <td>NaN</td>\n",
       "      <td>3031.0</td>\n",
       "      <td>Clc1cccc(Cl)c1C#N</td>\n",
       "      <td>NaN</td>\n",
       "      <td>InChI=1S/C7H3Cl2N/c8-6-2-1-3-7(9)5(6)4-10/h1-3H</td>\n",
       "      <td>172.01</td>\n",
       "      <td>C7H3Cl2N</td>\n",
       "      <td>943</td>\n",
       "    </tr>\n",
       "    <tr>\n",
       "      <th>1</th>\n",
       "      <td>AC1NWAJC</td>\n",
       "      <td>LSM-43967</td>\n",
       "      <td>Vulpinic acid</td>\n",
       "      <td>5701993.0</td>\n",
       "      <td>COC(=O)\\C(=C\\1/OC(=O)C(C1=O)c2ccccc2)\\c3ccccc3</td>\n",
       "      <td>NaN</td>\n",
       "      <td>InChI=1S/C19H14O5/c1-23-18(21)15(13-10-6-3-7-1...</td>\n",
       "      <td>322.31</td>\n",
       "      <td>C19H14O5</td>\n",
       "      <td>NaN</td>\n",
       "    </tr>\n",
       "    <tr>\n",
       "      <th>2</th>\n",
       "      <td>Sinapic Acid Methyl Ether</td>\n",
       "      <td>LSM-44124</td>\n",
       "      <td>NaN</td>\n",
       "      <td>735755.0</td>\n",
       "      <td>COc1cc(\\C=C\\C(=O)O)cc(OC)c1OC</td>\n",
       "      <td>NaN</td>\n",
       "      <td>InChI=1S/C12H14O5/c1-15-9-6-8(4-5-11(13)14)7-1...</td>\n",
       "      <td>238.24</td>\n",
       "      <td>C12H14O5</td>\n",
       "      <td>NaN</td>\n",
       "    </tr>\n",
       "    <tr>\n",
       "      <th>3</th>\n",
       "      <td>Ferulic acid</td>\n",
       "      <td>LSM-44126</td>\n",
       "      <td>Ferulic acid</td>\n",
       "      <td>445858.0</td>\n",
       "      <td>COc1cc(\\C=C\\C(=O)O)ccc1O</td>\n",
       "      <td>NaN</td>\n",
       "      <td>InChI=1S/C10H10O4/c1-14-9-6-7(2-4-8(9)11)3-5-1...</td>\n",
       "      <td>194.18</td>\n",
       "      <td>C10H10O4</td>\n",
       "      <td>17620</td>\n",
       "    </tr>\n",
       "    <tr>\n",
       "      <th>4</th>\n",
       "      <td>Pinosylvin Methyl Ether</td>\n",
       "      <td>LSM-43902</td>\n",
       "      <td>NaN</td>\n",
       "      <td>5281719.0</td>\n",
       "      <td>COc1cc(O)cc(\\C=C\\c2ccccc2)c1</td>\n",
       "      <td>NaN</td>\n",
       "      <td>InChI=1S/C15H14O2/c1-17-15-10-13(9-14(16)11-15...</td>\n",
       "      <td>226.27</td>\n",
       "      <td>C15H14O2</td>\n",
       "      <td>8227</td>\n",
       "    </tr>\n",
       "  </tbody>\n",
       "</table>\n",
       "</div>"
      ],
      "text/plain": [
       "                     SM_Name SM_LINCS_ID SM_Alternative_Name  SM_PubChem_CID  \\\n",
       "0                Dichlobenil   LSM-19017                 NaN          3031.0   \n",
       "1                   AC1NWAJC   LSM-43967       Vulpinic acid       5701993.0   \n",
       "2  Sinapic Acid Methyl Ether   LSM-44124                 NaN        735755.0   \n",
       "3               Ferulic acid   LSM-44126        Ferulic acid        445858.0   \n",
       "4    Pinosylvin Methyl Ether   LSM-43902                 NaN       5281719.0   \n",
       "\n",
       "                                 SM_SMILES_Parent  SM_SMILES_Batch  \\\n",
       "0                               Clc1cccc(Cl)c1C#N              NaN   \n",
       "1  COC(=O)\\C(=C\\1/OC(=O)C(C1=O)c2ccccc2)\\c3ccccc3              NaN   \n",
       "2                   COc1cc(\\C=C\\C(=O)O)cc(OC)c1OC              NaN   \n",
       "3                        COc1cc(\\C=C\\C(=O)O)ccc1O              NaN   \n",
       "4                    COc1cc(O)cc(\\C=C\\c2ccccc2)c1              NaN   \n",
       "\n",
       "                                     SM_InChi_Parent  SM_Molecular_Mass  \\\n",
       "0    InChI=1S/C7H3Cl2N/c8-6-2-1-3-7(9)5(6)4-10/h1-3H             172.01   \n",
       "1  InChI=1S/C19H14O5/c1-23-18(21)15(13-10-6-3-7-1...             322.31   \n",
       "2  InChI=1S/C12H14O5/c1-15-9-6-8(4-5-11(13)14)7-1...             238.24   \n",
       "3  InChI=1S/C10H10O4/c1-14-9-6-7(2-4-8(9)11)3-5-1...             194.18   \n",
       "4  InChI=1S/C15H14O2/c1-17-15-10-13(9-14(16)11-15...             226.27   \n",
       "\n",
       "  MOLECULAR_FORMULA SM_ChEBI_ID  \n",
       "0          C7H3Cl2N         943  \n",
       "1          C19H14O5         NaN  \n",
       "2          C12H14O5         NaN  \n",
       "3          C10H10O4       17620  \n",
       "4          C15H14O2        8227  "
      ]
     },
     "execution_count": 9,
     "metadata": {},
     "output_type": "execute_result"
    }
   ],
   "source": [
    "lincs.head()"
   ]
  },
  {
   "cell_type": "markdown",
   "metadata": {},
   "source": [
    "## Drop Duplicates in the DF"
   ]
  },
  {
   "cell_type": "code",
   "execution_count": 10,
   "metadata": {},
   "outputs": [],
   "source": [
    "df = df_with_types.drop(columns = ['Concept Type'])"
   ]
  },
  {
   "cell_type": "code",
   "execution_count": 12,
   "metadata": {},
   "outputs": [],
   "source": [
    "df = df.drop_duplicates()"
   ]
  },
  {
   "cell_type": "code",
   "execution_count": 13,
   "metadata": {},
   "outputs": [
    {
     "data": {
      "text/html": [
       "<div>\n",
       "<style scoped>\n",
       "    .dataframe tbody tr th:only-of-type {\n",
       "        vertical-align: middle;\n",
       "    }\n",
       "\n",
       "    .dataframe tbody tr th {\n",
       "        vertical-align: top;\n",
       "    }\n",
       "\n",
       "    .dataframe thead th {\n",
       "        text-align: right;\n",
       "    }\n",
       "</style>\n",
       "<table border=\"1\" class=\"dataframe\">\n",
       "  <thead>\n",
       "    <tr style=\"text-align: right;\">\n",
       "      <th></th>\n",
       "      <th>STITCH ID</th>\n",
       "      <th>UMLS Concept ID Label</th>\n",
       "      <th>Method Detection</th>\n",
       "      <th>Concept Name</th>\n",
       "      <th>UMLS Concept ID MedDRA</th>\n",
       "      <th>MedDRA Concept Name</th>\n",
       "    </tr>\n",
       "  </thead>\n",
       "  <tbody>\n",
       "    <tr>\n",
       "      <th>0</th>\n",
       "      <td>CID100000085</td>\n",
       "      <td>C0015544</td>\n",
       "      <td>text_mention</td>\n",
       "      <td>Failure to Thrive</td>\n",
       "      <td>C0015544</td>\n",
       "      <td>Failure to thrive</td>\n",
       "    </tr>\n",
       "    <tr>\n",
       "      <th>2</th>\n",
       "      <td>CID100000085</td>\n",
       "      <td>C0020615</td>\n",
       "      <td>text_mention</td>\n",
       "      <td>Hypoglycemia</td>\n",
       "      <td>C0020615</td>\n",
       "      <td>Hypoglycaemia</td>\n",
       "    </tr>\n",
       "    <tr>\n",
       "      <th>4</th>\n",
       "      <td>CID100000085</td>\n",
       "      <td>C0022661</td>\n",
       "      <td>NLP_indication</td>\n",
       "      <td>Kidney Failure, Chronic</td>\n",
       "      <td>C0022661</td>\n",
       "      <td>Renal failure chronic</td>\n",
       "    </tr>\n",
       "    <tr>\n",
       "      <th>6</th>\n",
       "      <td>CID100000085</td>\n",
       "      <td>C0025521</td>\n",
       "      <td>NLP_indication</td>\n",
       "      <td>Inborn Errors of Metabolism</td>\n",
       "      <td>C0025521</td>\n",
       "      <td>Inborn error of metabolism</td>\n",
       "    </tr>\n",
       "    <tr>\n",
       "      <th>8</th>\n",
       "      <td>CID100000085</td>\n",
       "      <td>C0026827</td>\n",
       "      <td>text_mention</td>\n",
       "      <td>Muscle hypotonia</td>\n",
       "      <td>C0026827</td>\n",
       "      <td>Hypotonia</td>\n",
       "    </tr>\n",
       "  </tbody>\n",
       "</table>\n",
       "</div>"
      ],
      "text/plain": [
       "      STITCH ID UMLS Concept ID Label Method Detection  \\\n",
       "0  CID100000085              C0015544     text_mention   \n",
       "2  CID100000085              C0020615     text_mention   \n",
       "4  CID100000085              C0022661   NLP_indication   \n",
       "6  CID100000085              C0025521   NLP_indication   \n",
       "8  CID100000085              C0026827     text_mention   \n",
       "\n",
       "                  Concept Name UMLS Concept ID MedDRA  \\\n",
       "0            Failure to Thrive               C0015544   \n",
       "2                 Hypoglycemia               C0020615   \n",
       "4      Kidney Failure, Chronic               C0022661   \n",
       "6  Inborn Errors of Metabolism               C0025521   \n",
       "8             Muscle hypotonia               C0026827   \n",
       "\n",
       "          MedDRA Concept Name  \n",
       "0           Failure to thrive  \n",
       "2               Hypoglycaemia  \n",
       "4       Renal failure chronic  \n",
       "6  Inborn error of metabolism  \n",
       "8                   Hypotonia  "
      ]
     },
     "execution_count": 13,
     "metadata": {},
     "output_type": "execute_result"
    }
   ],
   "source": [
    "df.head()"
   ]
  },
  {
   "cell_type": "code",
   "execution_count": 14,
   "metadata": {},
   "outputs": [
    {
     "data": {
      "text/plain": [
       "(19001, 6)"
      ]
     },
     "execution_count": 14,
     "metadata": {},
     "output_type": "execute_result"
    }
   ],
   "source": [
    "df.shape"
   ]
  },
  {
   "cell_type": "code",
   "execution_count": 16,
   "metadata": {},
   "outputs": [
    {
     "data": {
      "text/plain": [
       "1437"
      ]
     },
     "execution_count": 16,
     "metadata": {},
     "output_type": "execute_result"
    }
   ],
   "source": [
    "len(df['STITCH ID'].unique())"
   ]
  },
  {
   "cell_type": "markdown",
   "metadata": {},
   "source": [
    "## Get Drug Name from Stitch API and make dictionary"
   ]
  },
  {
   "cell_type": "code",
   "execution_count": 22,
   "metadata": {},
   "outputs": [
    {
     "data": {
      "text/plain": [
       "(1437,)"
      ]
     },
     "execution_count": 22,
     "metadata": {},
     "output_type": "execute_result"
    }
   ],
   "source": [
    "stitch_ID_df = df['STITCH ID']\n",
    "stitch_ID_df = stitch_ID_df.drop_duplicates()\n",
    "stitch_ID_df.shape"
   ]
  },
  {
   "cell_type": "code",
   "execution_count": null,
   "metadata": {
    "scrolled": true
   },
   "outputs": [],
   "source": [
    "stitch_ID_list = stitch_ID_df.tolist()\n",
    "failed_to_get_name = 0\n",
    "drug_name_dict = {}\n",
    "\n",
    "for stitch_ID in stitch_ID_list:\n",
    "    url = 'http://stitch.embl.de/api/json/resolve?identifier=' + stitch_ID\n",
    "    response = requests.get(url)\n",
    "    try:\n",
    "        response.json()\n",
    "    except ValueError:\n",
    "        continue\n",
    "    if 'annotation' in response.json()[0].keys():\n",
    "        drug_name = response.json()[0]['annotation']\n",
    "        drug_name_dict[stitch_ID] = drug_name\n",
    "    else:\n",
    "        failed_to_get_name +=1\n",
    "    \n",
    "    if len(drug_name_dict) % 50 == 0:\n",
    "        print(stitch_ID_list.index(stitch_ID))\n",
    "\n",
    "print(failed_to_get_name)\n",
    "print(len(drug_name_dict))\n",
    "print(len(stitch_ID_list))"
   ]
  },
  {
   "cell_type": "markdown",
   "metadata": {},
   "source": [
    "## Get PubChem ID and Map to Stitch ID"
   ]
  },
  {
   "cell_type": "code",
   "execution_count": null,
   "metadata": {
    "scrolled": true
   },
   "outputs": [],
   "source": [
    "failed_to_get_CID = 0\n",
    "CID_dict = {}\n",
    "count = 0\n",
    "\n",
    "for ID, name in drug_name_dict.items():\n",
    "    count += 1\n",
    "    name = name.replace(' ', '%20')\n",
    "    url = 'https://pubchem.ncbi.nlm.nih.gov/rest/pug/compound/name/' + name + '/cids/JSON'\n",
    "    response = requests.get(url)\n",
    "    try:\n",
    "        response.json()\n",
    "    except ValueError:\n",
    "        continue\n",
    "    if 'IdentifierList' in response.json().keys():\n",
    "        CID = response.json()['IdentifierList']['CID'][0]\n",
    "        CID_dict[ID] = CID\n",
    "    else:\n",
    "        failed_to_get_CID += 1\n",
    "        \n",
    "    if len(CID_dict) % 50 == 0:\n",
    "        print(count)\n",
    "\n",
    "\n",
    "print(failed_to_get_CID)\n",
    "print(len(CID_dict))\n",
    "print(len(drug_name_dict))"
   ]
  },
  {
   "cell_type": "code",
   "execution_count": 28,
   "metadata": {},
   "outputs": [],
   "source": [
    "CIDs = []\n",
    "for index, row in df.iterrows():\n",
    "    stitch_id = row.loc['STITCH ID']\n",
    "    if stitch_id not in CID_dict:\n",
    "        df.drop(index, inplace = True)\n",
    "    else: \n",
    "        CIDs.append(int(CID_dict[stitch_id]))\n",
    "\n",
    "df.loc[:,'CIDs'] = pd.Series(np.array(CIDs), index=df.index)"
   ]
  },
  {
   "cell_type": "code",
   "execution_count": 29,
   "metadata": {},
   "outputs": [
    {
     "data": {
      "text/plain": [
       "(16687, 7)"
      ]
     },
     "execution_count": 29,
     "metadata": {},
     "output_type": "execute_result"
    }
   ],
   "source": [
    "df.shape"
   ]
  },
  {
   "cell_type": "markdown",
   "metadata": {},
   "source": [
    "## Filter by LINCS Approved Small Molecules"
   ]
  },
  {
   "cell_type": "code",
   "execution_count": 30,
   "metadata": {},
   "outputs": [
    {
     "name": "stdout",
     "output_type": "stream",
     "text": [
      "5962\n"
     ]
    }
   ],
   "source": [
    "count = 0\n",
    "for index, row in df.iterrows():\n",
    "    CID = row.loc['CIDs']\n",
    "    if CID not in lincs['SM_PubChem_CID'].values:\n",
    "        df.drop(index, inplace = True)\n",
    "        count += 1\n",
    "        \n",
    "print(count)"
   ]
  },
  {
   "cell_type": "code",
   "execution_count": 35,
   "metadata": {},
   "outputs": [
    {
     "data": {
      "text/html": [
       "<div>\n",
       "<style scoped>\n",
       "    .dataframe tbody tr th:only-of-type {\n",
       "        vertical-align: middle;\n",
       "    }\n",
       "\n",
       "    .dataframe tbody tr th {\n",
       "        vertical-align: top;\n",
       "    }\n",
       "\n",
       "    .dataframe thead th {\n",
       "        text-align: right;\n",
       "    }\n",
       "</style>\n",
       "<table border=\"1\" class=\"dataframe\">\n",
       "  <thead>\n",
       "    <tr style=\"text-align: right;\">\n",
       "      <th></th>\n",
       "      <th>STITCH ID</th>\n",
       "      <th>UMLS Concept ID Label</th>\n",
       "      <th>Method Detection</th>\n",
       "      <th>Concept Name</th>\n",
       "      <th>UMLS Concept ID MedDRA</th>\n",
       "      <th>MedDRA Concept Name</th>\n",
       "      <th>CIDs</th>\n",
       "    </tr>\n",
       "  </thead>\n",
       "  <tbody>\n",
       "    <tr>\n",
       "      <th>53</th>\n",
       "      <td>CID100000137</td>\n",
       "      <td>C0022602</td>\n",
       "      <td>NLP_indication</td>\n",
       "      <td>Actinic keratosis</td>\n",
       "      <td>C0022602</td>\n",
       "      <td>Actinic keratosis</td>\n",
       "      <td>137</td>\n",
       "    </tr>\n",
       "    <tr>\n",
       "      <th>55</th>\n",
       "      <td>CID100000137</td>\n",
       "      <td>C0022602</td>\n",
       "      <td>NLP_indication</td>\n",
       "      <td>Actinic keratosis</td>\n",
       "      <td>C0022603</td>\n",
       "      <td>Seborrhoeic keratosis</td>\n",
       "      <td>137</td>\n",
       "    </tr>\n",
       "    <tr>\n",
       "      <th>56</th>\n",
       "      <td>CID100000137</td>\n",
       "      <td>C0162568</td>\n",
       "      <td>NLP_precondition</td>\n",
       "      <td>Erythropoietic Protoporphyria</td>\n",
       "      <td>C0162568</td>\n",
       "      <td>Erythropoietic protoporphyria</td>\n",
       "      <td>137</td>\n",
       "    </tr>\n",
       "    <tr>\n",
       "      <th>57</th>\n",
       "      <td>CID100000137</td>\n",
       "      <td>C0162568</td>\n",
       "      <td>NLP_precondition</td>\n",
       "      <td>Erythropoietic Protoporphyria</td>\n",
       "      <td>C0853026</td>\n",
       "      <td>Porphyria non-acute</td>\n",
       "      <td>137</td>\n",
       "    </tr>\n",
       "    <tr>\n",
       "      <th>58</th>\n",
       "      <td>CID100000137</td>\n",
       "      <td>C0555198</td>\n",
       "      <td>NLP_indication</td>\n",
       "      <td>Malignant Glioma</td>\n",
       "      <td>C0555198</td>\n",
       "      <td>Malignant glioma</td>\n",
       "      <td>137</td>\n",
       "    </tr>\n",
       "  </tbody>\n",
       "</table>\n",
       "</div>"
      ],
      "text/plain": [
       "       STITCH ID UMLS Concept ID Label  Method Detection  \\\n",
       "53  CID100000137              C0022602    NLP_indication   \n",
       "55  CID100000137              C0022602    NLP_indication   \n",
       "56  CID100000137              C0162568  NLP_precondition   \n",
       "57  CID100000137              C0162568  NLP_precondition   \n",
       "58  CID100000137              C0555198    NLP_indication   \n",
       "\n",
       "                     Concept Name UMLS Concept ID MedDRA  \\\n",
       "53              Actinic keratosis               C0022602   \n",
       "55              Actinic keratosis               C0022603   \n",
       "56  Erythropoietic Protoporphyria               C0162568   \n",
       "57  Erythropoietic Protoporphyria               C0853026   \n",
       "58               Malignant Glioma               C0555198   \n",
       "\n",
       "              MedDRA Concept Name  CIDs  \n",
       "53              Actinic keratosis   137  \n",
       "55          Seborrhoeic keratosis   137  \n",
       "56  Erythropoietic protoporphyria   137  \n",
       "57            Porphyria non-acute   137  \n",
       "58               Malignant glioma   137  "
      ]
     },
     "execution_count": 35,
     "metadata": {},
     "output_type": "execute_result"
    }
   ],
   "source": [
    "df.head()"
   ]
  },
  {
   "cell_type": "markdown",
   "metadata": {},
   "source": [
    "## Make Binary Matrix"
   ]
  },
  {
   "cell_type": "code",
   "execution_count": 36,
   "metadata": {},
   "outputs": [],
   "source": [
    "grouped_df = df.groupby(['UMLS Concept ID MedDRA'])['CIDs'].apply(lambda x: ','.join(x.astype(str))).reset_index()"
   ]
  },
  {
   "cell_type": "code",
   "execution_count": 37,
   "metadata": {},
   "outputs": [
    {
     "data": {
      "text/plain": [
       "2339"
      ]
     },
     "execution_count": 37,
     "metadata": {},
     "output_type": "execute_result"
    }
   ],
   "source": [
    "grouped_df.set_index('UMLS Concept ID MedDRA', inplace=True)\n",
    "grouped_df = grouped_df.sort_index()\n",
    "len(df['UMLS Concept ID MedDRA'].unique())"
   ]
  },
  {
   "cell_type": "code",
   "execution_count": 38,
   "metadata": {},
   "outputs": [],
   "source": [
    "grouped_matrix = grouped_df.iloc[:,0].str.get_dummies(sep=',')"
   ]
  },
  {
   "cell_type": "code",
   "execution_count": 39,
   "metadata": {},
   "outputs": [
    {
     "data": {
      "text/html": [
       "<div>\n",
       "<style scoped>\n",
       "    .dataframe tbody tr th:only-of-type {\n",
       "        vertical-align: middle;\n",
       "    }\n",
       "\n",
       "    .dataframe tbody tr th {\n",
       "        vertical-align: top;\n",
       "    }\n",
       "\n",
       "    .dataframe thead th {\n",
       "        text-align: right;\n",
       "    }\n",
       "</style>\n",
       "<table border=\"1\" class=\"dataframe\">\n",
       "  <thead>\n",
       "    <tr style=\"text-align: right;\">\n",
       "      <th></th>\n",
       "      <th>10096344</th>\n",
       "      <th>10113978</th>\n",
       "      <th>10182969</th>\n",
       "      <th>10184653</th>\n",
       "      <th>1046</th>\n",
       "      <th>104741</th>\n",
       "      <th>104758</th>\n",
       "      <th>104850</th>\n",
       "      <th>104865</th>\n",
       "      <th>10531</th>\n",
       "      <th>...</th>\n",
       "      <th>9869929</th>\n",
       "      <th>9875401</th>\n",
       "      <th>9878</th>\n",
       "      <th>9880</th>\n",
       "      <th>9904</th>\n",
       "      <th>9924495</th>\n",
       "      <th>9926791</th>\n",
       "      <th>9930049</th>\n",
       "      <th>9941444</th>\n",
       "      <th>9966051</th>\n",
       "    </tr>\n",
       "    <tr>\n",
       "      <th>UMLS Concept ID MedDRA</th>\n",
       "      <th></th>\n",
       "      <th></th>\n",
       "      <th></th>\n",
       "      <th></th>\n",
       "      <th></th>\n",
       "      <th></th>\n",
       "      <th></th>\n",
       "      <th></th>\n",
       "      <th></th>\n",
       "      <th></th>\n",
       "      <th></th>\n",
       "      <th></th>\n",
       "      <th></th>\n",
       "      <th></th>\n",
       "      <th></th>\n",
       "      <th></th>\n",
       "      <th></th>\n",
       "      <th></th>\n",
       "      <th></th>\n",
       "      <th></th>\n",
       "      <th></th>\n",
       "    </tr>\n",
       "  </thead>\n",
       "  <tbody>\n",
       "    <tr>\n",
       "      <th>C0000729</th>\n",
       "      <td>0</td>\n",
       "      <td>0</td>\n",
       "      <td>0</td>\n",
       "      <td>0</td>\n",
       "      <td>0</td>\n",
       "      <td>0</td>\n",
       "      <td>0</td>\n",
       "      <td>0</td>\n",
       "      <td>0</td>\n",
       "      <td>0</td>\n",
       "      <td>...</td>\n",
       "      <td>0</td>\n",
       "      <td>0</td>\n",
       "      <td>0</td>\n",
       "      <td>0</td>\n",
       "      <td>0</td>\n",
       "      <td>0</td>\n",
       "      <td>0</td>\n",
       "      <td>0</td>\n",
       "      <td>0</td>\n",
       "      <td>0</td>\n",
       "    </tr>\n",
       "    <tr>\n",
       "      <th>C0000731</th>\n",
       "      <td>0</td>\n",
       "      <td>0</td>\n",
       "      <td>0</td>\n",
       "      <td>0</td>\n",
       "      <td>0</td>\n",
       "      <td>0</td>\n",
       "      <td>0</td>\n",
       "      <td>0</td>\n",
       "      <td>0</td>\n",
       "      <td>0</td>\n",
       "      <td>...</td>\n",
       "      <td>0</td>\n",
       "      <td>0</td>\n",
       "      <td>0</td>\n",
       "      <td>0</td>\n",
       "      <td>0</td>\n",
       "      <td>0</td>\n",
       "      <td>0</td>\n",
       "      <td>0</td>\n",
       "      <td>0</td>\n",
       "      <td>0</td>\n",
       "    </tr>\n",
       "    <tr>\n",
       "      <th>C0000737</th>\n",
       "      <td>0</td>\n",
       "      <td>0</td>\n",
       "      <td>0</td>\n",
       "      <td>0</td>\n",
       "      <td>0</td>\n",
       "      <td>0</td>\n",
       "      <td>0</td>\n",
       "      <td>0</td>\n",
       "      <td>0</td>\n",
       "      <td>0</td>\n",
       "      <td>...</td>\n",
       "      <td>0</td>\n",
       "      <td>0</td>\n",
       "      <td>0</td>\n",
       "      <td>0</td>\n",
       "      <td>0</td>\n",
       "      <td>0</td>\n",
       "      <td>0</td>\n",
       "      <td>0</td>\n",
       "      <td>0</td>\n",
       "      <td>0</td>\n",
       "    </tr>\n",
       "    <tr>\n",
       "      <th>C0000768</th>\n",
       "      <td>0</td>\n",
       "      <td>0</td>\n",
       "      <td>0</td>\n",
       "      <td>0</td>\n",
       "      <td>0</td>\n",
       "      <td>0</td>\n",
       "      <td>0</td>\n",
       "      <td>0</td>\n",
       "      <td>0</td>\n",
       "      <td>0</td>\n",
       "      <td>...</td>\n",
       "      <td>0</td>\n",
       "      <td>0</td>\n",
       "      <td>0</td>\n",
       "      <td>0</td>\n",
       "      <td>0</td>\n",
       "      <td>0</td>\n",
       "      <td>0</td>\n",
       "      <td>0</td>\n",
       "      <td>0</td>\n",
       "      <td>0</td>\n",
       "    </tr>\n",
       "    <tr>\n",
       "      <th>C0000786</th>\n",
       "      <td>0</td>\n",
       "      <td>0</td>\n",
       "      <td>0</td>\n",
       "      <td>0</td>\n",
       "      <td>0</td>\n",
       "      <td>0</td>\n",
       "      <td>0</td>\n",
       "      <td>0</td>\n",
       "      <td>0</td>\n",
       "      <td>0</td>\n",
       "      <td>...</td>\n",
       "      <td>0</td>\n",
       "      <td>0</td>\n",
       "      <td>0</td>\n",
       "      <td>0</td>\n",
       "      <td>0</td>\n",
       "      <td>0</td>\n",
       "      <td>0</td>\n",
       "      <td>0</td>\n",
       "      <td>0</td>\n",
       "      <td>0</td>\n",
       "    </tr>\n",
       "  </tbody>\n",
       "</table>\n",
       "<p>5 rows × 708 columns</p>\n",
       "</div>"
      ],
      "text/plain": [
       "                        10096344  10113978  10182969  10184653  1046  104741  \\\n",
       "UMLS Concept ID MedDRA                                                         \n",
       "C0000729                       0         0         0         0     0       0   \n",
       "C0000731                       0         0         0         0     0       0   \n",
       "C0000737                       0         0         0         0     0       0   \n",
       "C0000768                       0         0         0         0     0       0   \n",
       "C0000786                       0         0         0         0     0       0   \n",
       "\n",
       "                        104758  104850  104865  10531   ...     9869929  \\\n",
       "UMLS Concept ID MedDRA                                  ...               \n",
       "C0000729                     0       0       0      0   ...           0   \n",
       "C0000731                     0       0       0      0   ...           0   \n",
       "C0000737                     0       0       0      0   ...           0   \n",
       "C0000768                     0       0       0      0   ...           0   \n",
       "C0000786                     0       0       0      0   ...           0   \n",
       "\n",
       "                        9875401  9878  9880  9904  9924495  9926791  9930049  \\\n",
       "UMLS Concept ID MedDRA                                                         \n",
       "C0000729                      0     0     0     0        0        0        0   \n",
       "C0000731                      0     0     0     0        0        0        0   \n",
       "C0000737                      0     0     0     0        0        0        0   \n",
       "C0000768                      0     0     0     0        0        0        0   \n",
       "C0000786                      0     0     0     0        0        0        0   \n",
       "\n",
       "                        9941444  9966051  \n",
       "UMLS Concept ID MedDRA                    \n",
       "C0000729                      0        0  \n",
       "C0000731                      0        0  \n",
       "C0000737                      0        0  \n",
       "C0000768                      0        0  \n",
       "C0000786                      0        0  \n",
       "\n",
       "[5 rows x 708 columns]"
      ]
     },
     "execution_count": 39,
     "metadata": {},
     "output_type": "execute_result"
    }
   ],
   "source": [
    "grouped_matrix.head()"
   ]
  },
  {
   "cell_type": "code",
   "execution_count": 40,
   "metadata": {},
   "outputs": [
    {
     "data": {
      "text/plain": [
       "(2338, 708)"
      ]
     },
     "execution_count": 40,
     "metadata": {},
     "output_type": "execute_result"
    }
   ],
   "source": [
    "grouped_matrix.shape"
   ]
  },
  {
   "cell_type": "markdown",
   "metadata": {},
   "source": [
    "## Save Binary Matrix"
   ]
  },
  {
   "cell_type": "code",
   "execution_count": 41,
   "metadata": {},
   "outputs": [],
   "source": [
    "filename = 'Output/Sider_Indications_%s.tsv.zip'% str(datetime.date.today())[0:7].replace('-', '_')\n",
    "grouped_matrix.to_csv(filename, sep='\\t', compression='gzip')"
   ]
  },
  {
   "cell_type": "markdown",
   "metadata": {},
   "source": [
    "## Convert Binary Matrix to GMT and Save as GMT"
   ]
  },
  {
   "cell_type": "code",
   "execution_count": 42,
   "metadata": {},
   "outputs": [],
   "source": [
    "drugset_library = []\n",
    "for index, row in grouped_matrix.iterrows():\n",
    "    drugset = []\n",
    "    drugset.append(index)\n",
    "    drugset.append('')\n",
    "    for i in range(grouped_matrix.shape[1]):\n",
    "        if row.iloc[i]==1:\n",
    "            drugset.append(row.index[i])\n",
    "    if len(drugset) >= 7:\n",
    "        drugset_library.append(drugset)\n",
    "dsl = np.array(drugset_library)"
   ]
  },
  {
   "cell_type": "code",
   "execution_count": 43,
   "metadata": {},
   "outputs": [
    {
     "data": {
      "text/plain": [
       "98"
      ]
     },
     "execution_count": 43,
     "metadata": {},
     "output_type": "execute_result"
    }
   ],
   "source": [
    "len(max(dsl, key=len))"
   ]
  },
  {
   "cell_type": "code",
   "execution_count": 44,
   "metadata": {},
   "outputs": [],
   "source": [
    "filename = 'Output/Sider_Indications_DrugSetLibrary_%s.gmt'% str(datetime.date.today())[0:7].replace('-', '_')\n",
    "with open(filename,'w',encoding='utf-8') as f:\n",
    "    for row in dsl:\n",
    "        np.savetxt(f, [row], fmt = '%s',delimiter = '\\t')"
   ]
  },
  {
   "cell_type": "code",
   "execution_count": null,
   "metadata": {},
   "outputs": [],
   "source": []
  }
 ],
 "metadata": {
  "kernelspec": {
   "display_name": "Python 3",
   "language": "python",
   "name": "python3"
  },
  "language_info": {
   "codemirror_mode": {
    "name": "ipython",
    "version": 3
   },
   "file_extension": ".py",
   "mimetype": "text/x-python",
   "name": "python",
   "nbconvert_exporter": "python",
   "pygments_lexer": "ipython3",
   "version": "3.6.5"
  }
 },
 "nbformat": 4,
 "nbformat_minor": 2
}
