{
 "cells": [
  {
   "cell_type": "markdown",
   "metadata": {},
   "source": [
    "## Import Libraries"
   ]
  },
  {
   "cell_type": "code",
   "execution_count": 90,
   "metadata": {},
   "outputs": [],
   "source": [
    "import numpy as np\n",
    "import pandas as pd\n",
    "from scipy.spatial.distance import squareform, pdist,jaccard\n",
    "import sys,  datetime, os\n",
    "import requests\n",
    "import chardet"
   ]
  },
  {
   "cell_type": "markdown",
   "metadata": {},
   "source": [
    "## Load Data"
   ]
  },
  {
   "cell_type": "markdown",
   "metadata": {},
   "source": [
    "#### Load DrugGeneInteract Data"
   ]
  },
  {
   "cell_type": "code",
   "execution_count": 179,
   "metadata": {},
   "outputs": [],
   "source": [
    "df = pd.read_table('Input/DrugGeneinteractions.tsv')"
   ]
  },
  {
   "cell_type": "code",
   "execution_count": 199,
   "metadata": {},
   "outputs": [
    {
     "data": {
      "text/html": [
       "<div>\n",
       "<style scoped>\n",
       "    .dataframe tbody tr th:only-of-type {\n",
       "        vertical-align: middle;\n",
       "    }\n",
       "\n",
       "    .dataframe tbody tr th {\n",
       "        vertical-align: top;\n",
       "    }\n",
       "\n",
       "    .dataframe thead th {\n",
       "        text-align: right;\n",
       "    }\n",
       "</style>\n",
       "<table border=\"1\" class=\"dataframe\">\n",
       "  <thead>\n",
       "    <tr style=\"text-align: right;\">\n",
       "      <th></th>\n",
       "      <th>Old Targets</th>\n",
       "      <th>gene_claim_name</th>\n",
       "      <th>entrez_id</th>\n",
       "      <th>interaction_claim_source</th>\n",
       "      <th>interaction_types</th>\n",
       "      <th>drug_name</th>\n",
       "      <th>drug_claim_primary_name</th>\n",
       "      <th>drug_claim_name</th>\n",
       "      <th>drug_chembl_id</th>\n",
       "      <th>PMIDs</th>\n",
       "      <th>Targets</th>\n",
       "    </tr>\n",
       "  </thead>\n",
       "  <tbody>\n",
       "    <tr>\n",
       "      <th>0</th>\n",
       "      <td>CDK7</td>\n",
       "      <td>CDK7</td>\n",
       "      <td>1022.0</td>\n",
       "      <td>CancerCommons</td>\n",
       "      <td>inhibitor</td>\n",
       "      <td>BMS-387032</td>\n",
       "      <td>SNS-032</td>\n",
       "      <td>SNS-032</td>\n",
       "      <td>CHEMBL296468</td>\n",
       "      <td>NaN</td>\n",
       "      <td>CDK7</td>\n",
       "    </tr>\n",
       "    <tr>\n",
       "      <th>1</th>\n",
       "      <td>ADORA2A</td>\n",
       "      <td>19</td>\n",
       "      <td>135.0</td>\n",
       "      <td>GuideToPharmacologyInteractions</td>\n",
       "      <td>antagonist</td>\n",
       "      <td>CHEMBL72862</td>\n",
       "      <td>MRS1041</td>\n",
       "      <td>392</td>\n",
       "      <td>CHEMBL72862</td>\n",
       "      <td>NaN</td>\n",
       "      <td>ADORA2A</td>\n",
       "    </tr>\n",
       "    <tr>\n",
       "      <th>2</th>\n",
       "      <td>FGFR2</td>\n",
       "      <td>FGFR2</td>\n",
       "      <td>2263.0</td>\n",
       "      <td>CKB</td>\n",
       "      <td>NaN</td>\n",
       "      <td>NaN</td>\n",
       "      <td>AZ6089</td>\n",
       "      <td>AZ6089</td>\n",
       "      <td>NaN</td>\n",
       "      <td>22869148</td>\n",
       "      <td>FGFR2</td>\n",
       "    </tr>\n",
       "    <tr>\n",
       "      <th>3</th>\n",
       "      <td>APOE</td>\n",
       "      <td>APOE</td>\n",
       "      <td>348.0</td>\n",
       "      <td>NCI</td>\n",
       "      <td>NaN</td>\n",
       "      <td>PREDNISONE</td>\n",
       "      <td>PREDNISONE</td>\n",
       "      <td>PREDNISONE</td>\n",
       "      <td>CHEMBL635</td>\n",
       "      <td>3185288</td>\n",
       "      <td>APOE</td>\n",
       "    </tr>\n",
       "    <tr>\n",
       "      <th>4</th>\n",
       "      <td>CYP2E1</td>\n",
       "      <td>CYP2E1</td>\n",
       "      <td>1571.0</td>\n",
       "      <td>NCI</td>\n",
       "      <td>NaN</td>\n",
       "      <td>ISOFLAVONE</td>\n",
       "      <td>ISOFLAVONE</td>\n",
       "      <td>ISOFLAVONE</td>\n",
       "      <td>CHEMBL366460</td>\n",
       "      <td>15056880</td>\n",
       "      <td>CYP2E1</td>\n",
       "    </tr>\n",
       "  </tbody>\n",
       "</table>\n",
       "</div>"
      ],
      "text/plain": [
       "  Old Targets gene_claim_name  entrez_id         interaction_claim_source  \\\n",
       "0        CDK7            CDK7     1022.0                    CancerCommons   \n",
       "1     ADORA2A              19      135.0  GuideToPharmacologyInteractions   \n",
       "2       FGFR2           FGFR2     2263.0                              CKB   \n",
       "3        APOE            APOE      348.0                              NCI   \n",
       "4      CYP2E1          CYP2E1     1571.0                              NCI   \n",
       "\n",
       "  interaction_types    drug_name drug_claim_primary_name drug_claim_name  \\\n",
       "0         inhibitor   BMS-387032                 SNS-032         SNS-032   \n",
       "1        antagonist  CHEMBL72862                 MRS1041             392   \n",
       "2               NaN          NaN                  AZ6089          AZ6089   \n",
       "3               NaN   PREDNISONE              PREDNISONE      PREDNISONE   \n",
       "4               NaN   ISOFLAVONE              ISOFLAVONE      ISOFLAVONE   \n",
       "\n",
       "  drug_chembl_id     PMIDs  Targets  \n",
       "0   CHEMBL296468       NaN     CDK7  \n",
       "1    CHEMBL72862       NaN  ADORA2A  \n",
       "2            NaN  22869148    FGFR2  \n",
       "3      CHEMBL635   3185288     APOE  \n",
       "4   CHEMBL366460  15056880   CYP2E1  "
      ]
     },
     "execution_count": 199,
     "metadata": {},
     "output_type": "execute_result"
    }
   ],
   "source": [
    "df.head()"
   ]
  },
  {
   "cell_type": "code",
   "execution_count": 167,
   "metadata": {},
   "outputs": [
    {
     "data": {
      "text/plain": [
       "(42727, 10)"
      ]
     },
     "execution_count": 167,
     "metadata": {},
     "output_type": "execute_result"
    }
   ],
   "source": [
    "df.shape"
   ]
  },
  {
   "cell_type": "code",
   "execution_count": 197,
   "metadata": {},
   "outputs": [
    {
     "data": {
      "text/plain": [
       "Index(['Old Targets', 'gene_claim_name', 'entrez_id',\n",
       "       'interaction_claim_source', 'interaction_types', 'drug_claim_name',\n",
       "       'drug_claim_primary_name', 'drug_name', 'drug_chembl_id', 'PMIDs',\n",
       "       'Targets'],\n",
       "      dtype='object')"
      ]
     },
     "execution_count": 197,
     "metadata": {},
     "output_type": "execute_result"
    }
   ],
   "source": [
    "df.columns"
   ]
  },
  {
   "cell_type": "code",
   "execution_count": 198,
   "metadata": {},
   "outputs": [],
   "source": [
    "df = df[['Old Targets', 'gene_claim_name', 'entrez_id',\n",
    "       'interaction_claim_source', 'interaction_types', 'drug_name','drug_claim_primary_name',\n",
    "       'drug_claim_name', 'drug_chembl_id', 'PMIDs',\n",
    "       'Targets']]"
   ]
  },
  {
   "cell_type": "markdown",
   "metadata": {},
   "source": [
    "#### Load TTD to Gene File"
   ]
  },
  {
   "cell_type": "code",
   "execution_count": 168,
   "metadata": {},
   "outputs": [],
   "source": [
    "ttd_gene = pd.read_table('Input/TTD_to_Gene_2018_06.tsv')"
   ]
  },
  {
   "cell_type": "code",
   "execution_count": 169,
   "metadata": {},
   "outputs": [
    {
     "data": {
      "text/html": [
       "<div>\n",
       "<style scoped>\n",
       "    .dataframe tbody tr th:only-of-type {\n",
       "        vertical-align: middle;\n",
       "    }\n",
       "\n",
       "    .dataframe tbody tr th {\n",
       "        vertical-align: top;\n",
       "    }\n",
       "\n",
       "    .dataframe thead th {\n",
       "        text-align: right;\n",
       "    }\n",
       "</style>\n",
       "<table border=\"1\" class=\"dataframe\">\n",
       "  <thead>\n",
       "    <tr style=\"text-align: right;\">\n",
       "      <th></th>\n",
       "      <th>Unnamed: 0</th>\n",
       "      <th>UniProt ID</th>\n",
       "      <th>TTD Target ID</th>\n",
       "      <th>Target Name</th>\n",
       "      <th>Target Type</th>\n",
       "      <th>Gene</th>\n",
       "    </tr>\n",
       "  </thead>\n",
       "  <tbody>\n",
       "    <tr>\n",
       "      <th>0</th>\n",
       "      <td>0</td>\n",
       "      <td>P11229</td>\n",
       "      <td>TTDS00002</td>\n",
       "      <td>Muscarinic acetylcholine receptor M1</td>\n",
       "      <td>Successful target</td>\n",
       "      <td>CHRM1</td>\n",
       "    </tr>\n",
       "    <tr>\n",
       "      <th>1</th>\n",
       "      <td>1</td>\n",
       "      <td>P08172</td>\n",
       "      <td>TTDS00003</td>\n",
       "      <td>Muscarinic acetylcholine receptor M2</td>\n",
       "      <td>Successful target</td>\n",
       "      <td>CHRM2</td>\n",
       "    </tr>\n",
       "    <tr>\n",
       "      <th>2</th>\n",
       "      <td>2</td>\n",
       "      <td>P20309</td>\n",
       "      <td>TTDS00004</td>\n",
       "      <td>Muscarinic acetylcholine receptor M3</td>\n",
       "      <td>Successful target</td>\n",
       "      <td>CHRM3</td>\n",
       "    </tr>\n",
       "    <tr>\n",
       "      <th>3</th>\n",
       "      <td>3</td>\n",
       "      <td>P08173</td>\n",
       "      <td>TTDS00005</td>\n",
       "      <td>Muscarinic acetylcholine receptor M4</td>\n",
       "      <td>Successful target</td>\n",
       "      <td>CHRM4</td>\n",
       "    </tr>\n",
       "    <tr>\n",
       "      <th>4</th>\n",
       "      <td>4</td>\n",
       "      <td>P08912</td>\n",
       "      <td>TTDS00006</td>\n",
       "      <td>Muscarinic acetylcholine receptor M5</td>\n",
       "      <td>Successful target</td>\n",
       "      <td>CHRM5</td>\n",
       "    </tr>\n",
       "  </tbody>\n",
       "</table>\n",
       "</div>"
      ],
      "text/plain": [
       "   Unnamed: 0 UniProt ID TTD Target ID                           Target Name  \\\n",
       "0           0     P11229     TTDS00002  Muscarinic acetylcholine receptor M1   \n",
       "1           1     P08172     TTDS00003  Muscarinic acetylcholine receptor M2   \n",
       "2           2     P20309     TTDS00004  Muscarinic acetylcholine receptor M3   \n",
       "3           3     P08173     TTDS00005  Muscarinic acetylcholine receptor M4   \n",
       "4           4     P08912     TTDS00006  Muscarinic acetylcholine receptor M5   \n",
       "\n",
       "         Target Type   Gene  \n",
       "0  Successful target  CHRM1  \n",
       "1  Successful target  CHRM2  \n",
       "2  Successful target  CHRM3  \n",
       "3  Successful target  CHRM4  \n",
       "4  Successful target  CHRM5  "
      ]
     },
     "execution_count": 169,
     "metadata": {},
     "output_type": "execute_result"
    }
   ],
   "source": [
    "ttd_gene.head()"
   ]
  },
  {
   "cell_type": "code",
   "execution_count": 170,
   "metadata": {},
   "outputs": [],
   "source": [
    "ttd_gene.set_index('TTD Target ID', inplace = True)"
   ]
  },
  {
   "cell_type": "markdown",
   "metadata": {},
   "source": [
    "#### Load Targets Mapping File"
   ]
  },
  {
   "cell_type": "code",
   "execution_count": 171,
   "metadata": {},
   "outputs": [],
   "source": [
    "target_update = pd.read_table('Input/mappingFile_2017.txt', names = ['Old Targets','Updated Targets'], engine='python')"
   ]
  },
  {
   "cell_type": "code",
   "execution_count": 172,
   "metadata": {},
   "outputs": [
    {
     "data": {
      "text/html": [
       "<div>\n",
       "<style scoped>\n",
       "    .dataframe tbody tr th:only-of-type {\n",
       "        vertical-align: middle;\n",
       "    }\n",
       "\n",
       "    .dataframe tbody tr th {\n",
       "        vertical-align: top;\n",
       "    }\n",
       "\n",
       "    .dataframe thead th {\n",
       "        text-align: right;\n",
       "    }\n",
       "</style>\n",
       "<table border=\"1\" class=\"dataframe\">\n",
       "  <thead>\n",
       "    <tr style=\"text-align: right;\">\n",
       "      <th></th>\n",
       "      <th>Old Targets</th>\n",
       "      <th>Updated Targets</th>\n",
       "    </tr>\n",
       "  </thead>\n",
       "  <tbody>\n",
       "    <tr>\n",
       "      <th>0</th>\n",
       "      <td>A1BG</td>\n",
       "      <td>A1BG</td>\n",
       "    </tr>\n",
       "    <tr>\n",
       "      <th>1</th>\n",
       "      <td>A1BG-AS1</td>\n",
       "      <td>A1BG-AS1</td>\n",
       "    </tr>\n",
       "    <tr>\n",
       "      <th>2</th>\n",
       "      <td>NCRNA00181</td>\n",
       "      <td>A1BG-AS1</td>\n",
       "    </tr>\n",
       "    <tr>\n",
       "      <th>3</th>\n",
       "      <td>A1BGAS</td>\n",
       "      <td>A1BG-AS1</td>\n",
       "    </tr>\n",
       "    <tr>\n",
       "      <th>4</th>\n",
       "      <td>A1BG-AS</td>\n",
       "      <td>A1BG-AS1</td>\n",
       "    </tr>\n",
       "  </tbody>\n",
       "</table>\n",
       "</div>"
      ],
      "text/plain": [
       "  Old Targets Updated Targets\n",
       "0        A1BG            A1BG\n",
       "1    A1BG-AS1        A1BG-AS1\n",
       "2  NCRNA00181        A1BG-AS1\n",
       "3      A1BGAS        A1BG-AS1\n",
       "4     A1BG-AS        A1BG-AS1"
      ]
     },
     "execution_count": 172,
     "metadata": {},
     "output_type": "execute_result"
    }
   ],
   "source": [
    "target_update.head()"
   ]
  },
  {
   "cell_type": "markdown",
   "metadata": {},
   "source": [
    "#### Load LINCS Small Molecules"
   ]
  },
  {
   "cell_type": "code",
   "execution_count": 173,
   "metadata": {},
   "outputs": [],
   "source": [
    "lincs = pd.read_csv('Input/LINCS_SmallMolecules.csv',encoding='ISO-8859-1')"
   ]
  },
  {
   "cell_type": "code",
   "execution_count": 174,
   "metadata": {},
   "outputs": [
    {
     "data": {
      "text/html": [
       "<div>\n",
       "<style scoped>\n",
       "    .dataframe tbody tr th:only-of-type {\n",
       "        vertical-align: middle;\n",
       "    }\n",
       "\n",
       "    .dataframe tbody tr th {\n",
       "        vertical-align: top;\n",
       "    }\n",
       "\n",
       "    .dataframe thead th {\n",
       "        text-align: right;\n",
       "    }\n",
       "</style>\n",
       "<table border=\"1\" class=\"dataframe\">\n",
       "  <thead>\n",
       "    <tr style=\"text-align: right;\">\n",
       "      <th></th>\n",
       "      <th>SM_Name</th>\n",
       "      <th>SM_LINCS_ID</th>\n",
       "      <th>SM_Alternative_Name</th>\n",
       "      <th>SM_PubChem_CID</th>\n",
       "      <th>SM_SMILES_Parent</th>\n",
       "      <th>SM_SMILES_Batch</th>\n",
       "      <th>SM_InChi_Parent</th>\n",
       "      <th>SM_Molecular_Mass</th>\n",
       "      <th>MOLECULAR_FORMULA</th>\n",
       "      <th>SM_ChEBI_ID</th>\n",
       "    </tr>\n",
       "  </thead>\n",
       "  <tbody>\n",
       "    <tr>\n",
       "      <th>0</th>\n",
       "      <td>Dichlobenil</td>\n",
       "      <td>LSM-19017</td>\n",
       "      <td>NaN</td>\n",
       "      <td>3031.0</td>\n",
       "      <td>Clc1cccc(Cl)c1C#N</td>\n",
       "      <td>NaN</td>\n",
       "      <td>InChI=1S/C7H3Cl2N/c8-6-2-1-3-7(9)5(6)4-10/h1-3H</td>\n",
       "      <td>172.01</td>\n",
       "      <td>C7H3Cl2N</td>\n",
       "      <td>943</td>\n",
       "    </tr>\n",
       "    <tr>\n",
       "      <th>1</th>\n",
       "      <td>AC1NWAJC</td>\n",
       "      <td>LSM-43967</td>\n",
       "      <td>Vulpinic acid</td>\n",
       "      <td>5701993.0</td>\n",
       "      <td>COC(=O)\\C(=C\\1/OC(=O)C(C1=O)c2ccccc2)\\c3ccccc3</td>\n",
       "      <td>NaN</td>\n",
       "      <td>InChI=1S/C19H14O5/c1-23-18(21)15(13-10-6-3-7-1...</td>\n",
       "      <td>322.31</td>\n",
       "      <td>C19H14O5</td>\n",
       "      <td>NaN</td>\n",
       "    </tr>\n",
       "    <tr>\n",
       "      <th>2</th>\n",
       "      <td>Sinapic Acid Methyl Ether</td>\n",
       "      <td>LSM-44124</td>\n",
       "      <td>NaN</td>\n",
       "      <td>735755.0</td>\n",
       "      <td>COc1cc(\\C=C\\C(=O)O)cc(OC)c1OC</td>\n",
       "      <td>NaN</td>\n",
       "      <td>InChI=1S/C12H14O5/c1-15-9-6-8(4-5-11(13)14)7-1...</td>\n",
       "      <td>238.24</td>\n",
       "      <td>C12H14O5</td>\n",
       "      <td>NaN</td>\n",
       "    </tr>\n",
       "    <tr>\n",
       "      <th>3</th>\n",
       "      <td>Ferulic acid</td>\n",
       "      <td>LSM-44126</td>\n",
       "      <td>Ferulic acid</td>\n",
       "      <td>445858.0</td>\n",
       "      <td>COc1cc(\\C=C\\C(=O)O)ccc1O</td>\n",
       "      <td>NaN</td>\n",
       "      <td>InChI=1S/C10H10O4/c1-14-9-6-7(2-4-8(9)11)3-5-1...</td>\n",
       "      <td>194.18</td>\n",
       "      <td>C10H10O4</td>\n",
       "      <td>17620</td>\n",
       "    </tr>\n",
       "    <tr>\n",
       "      <th>4</th>\n",
       "      <td>Pinosylvin Methyl Ether</td>\n",
       "      <td>LSM-43902</td>\n",
       "      <td>NaN</td>\n",
       "      <td>5281719.0</td>\n",
       "      <td>COc1cc(O)cc(\\C=C\\c2ccccc2)c1</td>\n",
       "      <td>NaN</td>\n",
       "      <td>InChI=1S/C15H14O2/c1-17-15-10-13(9-14(16)11-15...</td>\n",
       "      <td>226.27</td>\n",
       "      <td>C15H14O2</td>\n",
       "      <td>8227</td>\n",
       "    </tr>\n",
       "  </tbody>\n",
       "</table>\n",
       "</div>"
      ],
      "text/plain": [
       "                     SM_Name SM_LINCS_ID SM_Alternative_Name  SM_PubChem_CID  \\\n",
       "0                Dichlobenil   LSM-19017                 NaN          3031.0   \n",
       "1                   AC1NWAJC   LSM-43967       Vulpinic acid       5701993.0   \n",
       "2  Sinapic Acid Methyl Ether   LSM-44124                 NaN        735755.0   \n",
       "3               Ferulic acid   LSM-44126        Ferulic acid        445858.0   \n",
       "4    Pinosylvin Methyl Ether   LSM-43902                 NaN       5281719.0   \n",
       "\n",
       "                                 SM_SMILES_Parent  SM_SMILES_Batch  \\\n",
       "0                               Clc1cccc(Cl)c1C#N              NaN   \n",
       "1  COC(=O)\\C(=C\\1/OC(=O)C(C1=O)c2ccccc2)\\c3ccccc3              NaN   \n",
       "2                   COc1cc(\\C=C\\C(=O)O)cc(OC)c1OC              NaN   \n",
       "3                        COc1cc(\\C=C\\C(=O)O)ccc1O              NaN   \n",
       "4                    COc1cc(O)cc(\\C=C\\c2ccccc2)c1              NaN   \n",
       "\n",
       "                                     SM_InChi_Parent  SM_Molecular_Mass  \\\n",
       "0    InChI=1S/C7H3Cl2N/c8-6-2-1-3-7(9)5(6)4-10/h1-3H             172.01   \n",
       "1  InChI=1S/C19H14O5/c1-23-18(21)15(13-10-6-3-7-1...             322.31   \n",
       "2  InChI=1S/C12H14O5/c1-15-9-6-8(4-5-11(13)14)7-1...             238.24   \n",
       "3  InChI=1S/C10H10O4/c1-14-9-6-7(2-4-8(9)11)3-5-1...             194.18   \n",
       "4  InChI=1S/C15H14O2/c1-17-15-10-13(9-14(16)11-15...             226.27   \n",
       "\n",
       "  MOLECULAR_FORMULA SM_ChEBI_ID  \n",
       "0          C7H3Cl2N         943  \n",
       "1          C19H14O5         NaN  \n",
       "2          C12H14O5         NaN  \n",
       "3          C10H10O4       17620  \n",
       "4          C15H14O2        8227  "
      ]
     },
     "execution_count": 174,
     "metadata": {},
     "output_type": "execute_result"
    }
   ],
   "source": [
    "lincs.head()"
   ]
  },
  {
   "cell_type": "markdown",
   "metadata": {},
   "source": [
    "## Get/Correct Gene Names"
   ]
  },
  {
   "cell_type": "code",
   "execution_count": 181,
   "metadata": {},
   "outputs": [],
   "source": [
    "for index, row in df.iterrows():\n",
    "    col_1 = row.loc['gene_name']\n",
    "    col_2 = row.loc['gene_claim_name']\n",
    "    if pd.isna(col_1) and not pd.isna(col_2):\n",
    "        if col_2 in ttd_gene.index:\n",
    "            df.at[index,'gene_name'] =  str(ttd_gene.loc[col_2,'Gene'])\n",
    "        else:\n",
    "            df.at[index,'gene_name'] =  str(col_2)  \n",
    "    elif pd.isna(col_1) and pd.isna(col_2):\n",
    "        df.drop(index, inplace = True)    \n"
   ]
  },
  {
   "cell_type": "markdown",
   "metadata": {},
   "source": [
    "## Update Target Names"
   ]
  },
  {
   "cell_type": "code",
   "execution_count": 182,
   "metadata": {},
   "outputs": [],
   "source": [
    "target_update.set_index('Old Targets',inplace = True)"
   ]
  },
  {
   "cell_type": "code",
   "execution_count": 183,
   "metadata": {},
   "outputs": [],
   "source": [
    "df = df.rename(index=str, columns = {'gene_name':'Old Targets'})\n",
    "df.set_index('Old Targets', inplace = True)"
   ]
  },
  {
   "cell_type": "code",
   "execution_count": 184,
   "metadata": {},
   "outputs": [
    {
     "data": {
      "text/plain": [
       "True"
      ]
     },
     "execution_count": 184,
     "metadata": {},
     "output_type": "execute_result"
    }
   ],
   "source": [
    "df.index[676] in target_update.index"
   ]
  },
  {
   "cell_type": "code",
   "execution_count": 185,
   "metadata": {
    "scrolled": true
   },
   "outputs": [
    {
     "data": {
      "text/plain": [
       "(42665, 10)"
      ]
     },
     "execution_count": 185,
     "metadata": {},
     "output_type": "execute_result"
    }
   ],
   "source": [
    "df = pd.merge(df, target_update, how = 'left', on = 'Old Targets')"
   ]
  },
  {
   "cell_type": "code",
   "execution_count": 189,
   "metadata": {},
   "outputs": [
    {
     "data": {
      "text/plain": [
       "(40925, 11)"
      ]
     },
     "execution_count": 189,
     "metadata": {},
     "output_type": "execute_result"
    }
   ],
   "source": [
    "df.shape"
   ]
  },
  {
   "cell_type": "code",
   "execution_count": 188,
   "metadata": {},
   "outputs": [],
   "source": [
    "df.reset_index(inplace=True)\n",
    "df = df.rename(index=str, columns = {'Updated Targets':'Targets'})\n",
    "df = df.dropna(subset=['Targets']) "
   ]
  },
  {
   "cell_type": "markdown",
   "metadata": {},
   "source": [
    "## Map to drugname to PubChem IDs"
   ]
  },
  {
   "cell_type": "code",
   "execution_count": null,
   "metadata": {
    "scrolled": true
   },
   "outputs": [],
   "source": [
    "CIDs = []\n",
    "failed_to_get_CID = 0\n",
    "CID_dict = {}\n",
    "count = 0\n",
    "\n",
    "for index, row in df.iterrows():\n",
    "#     print(index,row)\n",
    "    appended_to_CID = False\n",
    "    count += 1\n",
    "    for poss_drug_name in row.loc['drug_name':'drug_chembl_id']:\n",
    "#         print(poss_drug_name)\n",
    "        poss_drug_name = str(poss_drug_name)\n",
    "        #check the memo if the drug name was already found\n",
    "        if poss_drug_name in CID_dict:\n",
    "            CIDs.append(CID_dict[poss_drug_name])\n",
    "            appended_to_CID = True\n",
    "            break\n",
    "        elif poss_drug_name == 'nan':\n",
    "            continue\n",
    "        else:\n",
    "            poss_drug_name = poss_drug_name.replace(' ','%20')\n",
    "#             poss_drug_name = 'BERTILIMUMAB??'\n",
    "            url = 'https://pubchem.ncbi.nlm.nih.gov/rest/pug/compound/name/' + poss_drug_name + '/cids/JSON'\n",
    "            response = requests.get(url)\n",
    "            try:                 \n",
    "                response.json()\n",
    "            except ValueError:\n",
    "                continue\n",
    "            if 'IdentifierList' in response.json().keys():\n",
    "                CID = response.json()['IdentifierList']['CID'][0]\n",
    "                poss_drug_name = poss_drug_name.replace('%20', ' ')\n",
    "                CID_dict[poss_drug_name] = int(CID)\n",
    "                CIDs.append(int(CID))\n",
    "                appended_to_CID = True\n",
    "                break\n",
    "    if not appended_to_CID:\n",
    "        failed_to_get_CID += 1\n",
    "        df.drop(index, inplace = True)\n",
    "#     if count >=20:\n",
    "#         break\n",
    "    \n",
    "    if count % 100 == 0:\n",
    "        print(index)\n",
    "\n",
    "print(failed_to_get_CID)\n",
    "print(len(CIDs))\n"
   ]
  },
  {
   "cell_type": "code",
   "execution_count": 275,
   "metadata": {},
   "outputs": [
    {
     "data": {
      "text/plain": [
       "'125'"
      ]
     },
     "execution_count": 275,
     "metadata": {},
     "output_type": "execute_result"
    }
   ],
   "source": [
    "index"
   ]
  },
  {
   "cell_type": "code",
   "execution_count": 288,
   "metadata": {
    "scrolled": true
   },
   "outputs": [
    {
     "data": {
      "text/plain": [
       "(31413, 11)"
      ]
     },
     "execution_count": 288,
     "metadata": {},
     "output_type": "execute_result"
    }
   ],
   "source": [
    "df.shape"
   ]
  },
  {
   "cell_type": "code",
   "execution_count": 289,
   "metadata": {},
   "outputs": [],
   "source": [
    "df.loc[:,'CIDs'] = pd.Series(np.array(CIDs), index=df.index)"
   ]
  },
  {
   "cell_type": "markdown",
   "metadata": {},
   "source": [
    "## Filter by LINCS approved Small Molecules"
   ]
  },
  {
   "cell_type": "code",
   "execution_count": 294,
   "metadata": {},
   "outputs": [
    {
     "name": "stdout",
     "output_type": "stream",
     "text": [
      "15484\n"
     ]
    }
   ],
   "source": [
    "count = 0\n",
    "for index, row in df.iterrows():\n",
    "    CID = row.loc['CIDs']\n",
    "    if CID not in lincs['SM_PubChem_CID'].values:\n",
    "        df.drop(index, inplace = True)\n",
    "        count += 1\n",
    "        \n",
    "print(count)"
   ]
  },
  {
   "cell_type": "code",
   "execution_count": 295,
   "metadata": {},
   "outputs": [
    {
     "data": {
      "text/plain": [
       "(15929, 12)"
      ]
     },
     "execution_count": 295,
     "metadata": {},
     "output_type": "execute_result"
    }
   ],
   "source": [
    "df.shape"
   ]
  },
  {
   "cell_type": "markdown",
   "metadata": {},
   "source": [
    "## Make Binary Matrix"
   ]
  },
  {
   "cell_type": "code",
   "execution_count": 296,
   "metadata": {},
   "outputs": [],
   "source": [
    "grouped_df = df.groupby(['Targets'])['CIDs'].apply(lambda x: ','.join(x.astype(str))).reset_index()"
   ]
  },
  {
   "cell_type": "code",
   "execution_count": 297,
   "metadata": {},
   "outputs": [
    {
     "data": {
      "text/plain": [
       "1901"
      ]
     },
     "execution_count": 297,
     "metadata": {},
     "output_type": "execute_result"
    }
   ],
   "source": [
    "grouped_df.set_index('Targets', inplace=True)\n",
    "grouped_df = grouped_df.sort_index()\n",
    "len(df['Targets'].unique())"
   ]
  },
  {
   "cell_type": "code",
   "execution_count": 298,
   "metadata": {},
   "outputs": [],
   "source": [
    "grouped_matrix = grouped_df.iloc[:,0].str.get_dummies(sep=',')"
   ]
  },
  {
   "cell_type": "code",
   "execution_count": 299,
   "metadata": {},
   "outputs": [
    {
     "data": {
      "text/html": [
       "<div>\n",
       "<style scoped>\n",
       "    .dataframe tbody tr th:only-of-type {\n",
       "        vertical-align: middle;\n",
       "    }\n",
       "\n",
       "    .dataframe tbody tr th {\n",
       "        vertical-align: top;\n",
       "    }\n",
       "\n",
       "    .dataframe thead th {\n",
       "        text-align: right;\n",
       "    }\n",
       "</style>\n",
       "<table border=\"1\" class=\"dataframe\">\n",
       "  <thead>\n",
       "    <tr style=\"text-align: right;\">\n",
       "      <th></th>\n",
       "      <th>10000456</th>\n",
       "      <th>10052040</th>\n",
       "      <th>10071196</th>\n",
       "      <th>10074640</th>\n",
       "      <th>10077147</th>\n",
       "      <th>10090485</th>\n",
       "      <th>10096344</th>\n",
       "      <th>10113978</th>\n",
       "      <th>10117987</th>\n",
       "      <th>10127622</th>\n",
       "      <th>...</th>\n",
       "      <th>9934458</th>\n",
       "      <th>9935681</th>\n",
       "      <th>9939609</th>\n",
       "      <th>9941444</th>\n",
       "      <th>9949641</th>\n",
       "      <th>9950038</th>\n",
       "      <th>9952884</th>\n",
       "      <th>9956119</th>\n",
       "      <th>9957280</th>\n",
       "      <th>9966051</th>\n",
       "    </tr>\n",
       "    <tr>\n",
       "      <th>Targets</th>\n",
       "      <th></th>\n",
       "      <th></th>\n",
       "      <th></th>\n",
       "      <th></th>\n",
       "      <th></th>\n",
       "      <th></th>\n",
       "      <th></th>\n",
       "      <th></th>\n",
       "      <th></th>\n",
       "      <th></th>\n",
       "      <th></th>\n",
       "      <th></th>\n",
       "      <th></th>\n",
       "      <th></th>\n",
       "      <th></th>\n",
       "      <th></th>\n",
       "      <th></th>\n",
       "      <th></th>\n",
       "      <th></th>\n",
       "      <th></th>\n",
       "      <th></th>\n",
       "    </tr>\n",
       "  </thead>\n",
       "  <tbody>\n",
       "    <tr>\n",
       "      <th>A2M</th>\n",
       "      <td>0</td>\n",
       "      <td>0</td>\n",
       "      <td>0</td>\n",
       "      <td>0</td>\n",
       "      <td>0</td>\n",
       "      <td>0</td>\n",
       "      <td>0</td>\n",
       "      <td>0</td>\n",
       "      <td>0</td>\n",
       "      <td>0</td>\n",
       "      <td>...</td>\n",
       "      <td>0</td>\n",
       "      <td>0</td>\n",
       "      <td>0</td>\n",
       "      <td>0</td>\n",
       "      <td>0</td>\n",
       "      <td>0</td>\n",
       "      <td>0</td>\n",
       "      <td>0</td>\n",
       "      <td>0</td>\n",
       "      <td>0</td>\n",
       "    </tr>\n",
       "    <tr>\n",
       "      <th>AANAT</th>\n",
       "      <td>0</td>\n",
       "      <td>0</td>\n",
       "      <td>0</td>\n",
       "      <td>0</td>\n",
       "      <td>0</td>\n",
       "      <td>0</td>\n",
       "      <td>0</td>\n",
       "      <td>0</td>\n",
       "      <td>0</td>\n",
       "      <td>0</td>\n",
       "      <td>...</td>\n",
       "      <td>0</td>\n",
       "      <td>0</td>\n",
       "      <td>0</td>\n",
       "      <td>0</td>\n",
       "      <td>0</td>\n",
       "      <td>0</td>\n",
       "      <td>0</td>\n",
       "      <td>0</td>\n",
       "      <td>0</td>\n",
       "      <td>0</td>\n",
       "    </tr>\n",
       "    <tr>\n",
       "      <th>ABAT</th>\n",
       "      <td>0</td>\n",
       "      <td>0</td>\n",
       "      <td>0</td>\n",
       "      <td>0</td>\n",
       "      <td>0</td>\n",
       "      <td>0</td>\n",
       "      <td>0</td>\n",
       "      <td>0</td>\n",
       "      <td>0</td>\n",
       "      <td>0</td>\n",
       "      <td>...</td>\n",
       "      <td>0</td>\n",
       "      <td>0</td>\n",
       "      <td>0</td>\n",
       "      <td>0</td>\n",
       "      <td>0</td>\n",
       "      <td>0</td>\n",
       "      <td>0</td>\n",
       "      <td>0</td>\n",
       "      <td>0</td>\n",
       "      <td>0</td>\n",
       "    </tr>\n",
       "    <tr>\n",
       "      <th>ABCA1</th>\n",
       "      <td>0</td>\n",
       "      <td>0</td>\n",
       "      <td>0</td>\n",
       "      <td>0</td>\n",
       "      <td>0</td>\n",
       "      <td>0</td>\n",
       "      <td>0</td>\n",
       "      <td>0</td>\n",
       "      <td>0</td>\n",
       "      <td>0</td>\n",
       "      <td>...</td>\n",
       "      <td>0</td>\n",
       "      <td>0</td>\n",
       "      <td>0</td>\n",
       "      <td>0</td>\n",
       "      <td>0</td>\n",
       "      <td>0</td>\n",
       "      <td>0</td>\n",
       "      <td>0</td>\n",
       "      <td>0</td>\n",
       "      <td>0</td>\n",
       "    </tr>\n",
       "    <tr>\n",
       "      <th>ABCB1</th>\n",
       "      <td>0</td>\n",
       "      <td>0</td>\n",
       "      <td>0</td>\n",
       "      <td>0</td>\n",
       "      <td>0</td>\n",
       "      <td>0</td>\n",
       "      <td>0</td>\n",
       "      <td>0</td>\n",
       "      <td>0</td>\n",
       "      <td>0</td>\n",
       "      <td>...</td>\n",
       "      <td>0</td>\n",
       "      <td>0</td>\n",
       "      <td>0</td>\n",
       "      <td>0</td>\n",
       "      <td>0</td>\n",
       "      <td>0</td>\n",
       "      <td>0</td>\n",
       "      <td>0</td>\n",
       "      <td>0</td>\n",
       "      <td>0</td>\n",
       "    </tr>\n",
       "  </tbody>\n",
       "</table>\n",
       "<p>5 rows × 1615 columns</p>\n",
       "</div>"
      ],
      "text/plain": [
       "         10000456  10052040  10071196  10074640  10077147  10090485  10096344  \\\n",
       "Targets                                                                         \n",
       "A2M             0         0         0         0         0         0         0   \n",
       "AANAT           0         0         0         0         0         0         0   \n",
       "ABAT            0         0         0         0         0         0         0   \n",
       "ABCA1           0         0         0         0         0         0         0   \n",
       "ABCB1           0         0         0         0         0         0         0   \n",
       "\n",
       "         10113978  10117987  10127622   ...     9934458  9935681  9939609  \\\n",
       "Targets                                 ...                                 \n",
       "A2M             0         0         0   ...           0        0        0   \n",
       "AANAT           0         0         0   ...           0        0        0   \n",
       "ABAT            0         0         0   ...           0        0        0   \n",
       "ABCA1           0         0         0   ...           0        0        0   \n",
       "ABCB1           0         0         0   ...           0        0        0   \n",
       "\n",
       "         9941444  9949641  9950038  9952884  9956119  9957280  9966051  \n",
       "Targets                                                                 \n",
       "A2M            0        0        0        0        0        0        0  \n",
       "AANAT          0        0        0        0        0        0        0  \n",
       "ABAT           0        0        0        0        0        0        0  \n",
       "ABCA1          0        0        0        0        0        0        0  \n",
       "ABCB1          0        0        0        0        0        0        0  \n",
       "\n",
       "[5 rows x 1615 columns]"
      ]
     },
     "execution_count": 299,
     "metadata": {},
     "output_type": "execute_result"
    }
   ],
   "source": [
    "grouped_matrix.head()"
   ]
  },
  {
   "cell_type": "code",
   "execution_count": 300,
   "metadata": {},
   "outputs": [
    {
     "data": {
      "text/plain": [
       "(1901, 1615)"
      ]
     },
     "execution_count": 300,
     "metadata": {},
     "output_type": "execute_result"
    }
   ],
   "source": [
    "grouped_matrix.shape"
   ]
  },
  {
   "cell_type": "markdown",
   "metadata": {},
   "source": [
    "## Save Binary Matrix"
   ]
  },
  {
   "cell_type": "code",
   "execution_count": 301,
   "metadata": {},
   "outputs": [],
   "source": [
    "filename = 'Output/DrugGeneInteract_Targets_%s.tsv.zip'% str(datetime.date.today())[0:7].replace('-', '_')\n",
    "grouped_matrix.to_csv(filename, sep='\\t', compression='gzip')"
   ]
  },
  {
   "cell_type": "markdown",
   "metadata": {},
   "source": [
    "## Convert Binary Matrix to GMT and Save as GMT"
   ]
  },
  {
   "cell_type": "code",
   "execution_count": 302,
   "metadata": {},
   "outputs": [],
   "source": [
    "drugset_library = []\n",
    "for index, row in grouped_matrix.iterrows():\n",
    "    drugset = []\n",
    "    drugset.append(index)\n",
    "    drugset.append('')\n",
    "    for i in range(grouped_matrix.shape[1]):\n",
    "        if row.iloc[i]==1:\n",
    "            drugset.append(row.index[i])\n",
    "    if len(drugset) >= 7:\n",
    "        drugset_library.append(drugset)\n",
    "dsl = np.array(drugset_library)"
   ]
  },
  {
   "cell_type": "code",
   "execution_count": 303,
   "metadata": {},
   "outputs": [
    {
     "data": {
      "text/plain": [
       "97"
      ]
     },
     "execution_count": 303,
     "metadata": {},
     "output_type": "execute_result"
    }
   ],
   "source": [
    "len(max(dsl, key=len))"
   ]
  },
  {
   "cell_type": "code",
   "execution_count": 304,
   "metadata": {},
   "outputs": [],
   "source": [
    "filename = 'Output/DrugCentral_Targets_DrugSetLibrary_%s.gmt'% str(datetime.date.today())[0:7].replace('-', '_')\n",
    "with open(filename,'w',encoding='utf-8') as f:\n",
    "    for row in dsl:\n",
    "        np.savetxt(f, [row], fmt = '%s',delimiter = '\\t')   "
   ]
  },
  {
   "cell_type": "code",
   "execution_count": 305,
   "metadata": {},
   "outputs": [],
   "source": [
    "# drug_claim_name = df['drug_claim_name']\n",
    "# drug_claim_pri_name = df['drug_claim_primary_name']\n",
    "# drug_name = df['drug_name']\n",
    "# drug_chembl_id = df['drug_chembl_id']\n",
    "# drug_name = drug_name.append(drug_claim_name)\n",
    "# drug_name = drug_name.append(drug_claim_pri_name)\n",
    "# drug_name = drug_name.append(drug_chembl_id)\n",
    "# namesdf = drug_name\n",
    "# namesdf = namesdf.drop_duplicates()\n",
    "# namesdf.dropna()\n",
    "# namesdf.shape\n",
    "\n",
    "# nameslist = namesdf.tolist()\n",
    "# failed_to_get_CID = 0\n",
    "# CID_dict = {}\n",
    "\n",
    "# for name in nameslist:\n",
    "#     name = str(name)\n",
    "#     name = name.replace(' ','%20')\n",
    "#     url = 'https://pubchem.ncbi.nlm.nih.gov/rest/pug/compound/name/' + name + '/cids/JSON'\n",
    "#     response = requests.get(url)\n",
    "#     if 'IdentifierList' in response.json().keys():\n",
    "#         CID = response.json()['IdentifierList']['CID'][0]\n",
    "#         name = name.replace('%20', ' ')\n",
    "#         CID_dict[name] = CID\n",
    "#     else:\n",
    "#         failed_to_get_CID += 1\n",
    "        \n",
    "#     if len(CID_dict) % 100 == 0:\n",
    "#         name = name.replace('%20',' ')\n",
    "#         print(nameslist.index(name))\n",
    "\n",
    "# print(failed_to_get_CID)\n",
    "# print(len(CID_dict))\n",
    "# print(len(nameslist))"
   ]
  },
  {
   "cell_type": "code",
   "execution_count": 29,
   "metadata": {},
   "outputs": [
    {
     "name": "stdout",
     "output_type": "stream",
     "text": [
      "10007\n"
     ]
    }
   ],
   "source": []
  },
  {
   "cell_type": "code",
   "execution_count": null,
   "metadata": {},
   "outputs": [],
   "source": []
  }
 ],
 "metadata": {
  "kernelspec": {
   "display_name": "Python 3",
   "language": "python",
   "name": "python3"
  },
  "language_info": {
   "codemirror_mode": {
    "name": "ipython",
    "version": 3
   },
   "file_extension": ".py",
   "mimetype": "text/x-python",
   "name": "python",
   "nbconvert_exporter": "python",
   "pygments_lexer": "ipython3",
   "version": "3.6.5"
  }
 },
 "nbformat": 4,
 "nbformat_minor": 2
}
