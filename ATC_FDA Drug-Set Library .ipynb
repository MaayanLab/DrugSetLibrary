{
 "cells": [
  {
   "cell_type": "markdown",
   "metadata": {},
   "source": [
    "## ATC_FDA DRUG-SET LIBRARY\n",
    "### Drug-set Labels : ATC Codes\n",
    "#### ALL DATABASES ACCESSED 02/26/19\n",
    "##### Author : Eryk Kropiwnicki | eryk.kropiwnicki@icahn.mssm.edu"
   ]
  },
  {
   "cell_type": "code",
   "execution_count": 1,
   "metadata": {},
   "outputs": [],
   "source": [
    "import json\n",
    "import pandas as pd\n",
    "import xml.etree.ElementTree as et\n",
    "import requests\n",
    "import time\n",
    "import pubchempy as pcp\n",
    "from collections import defaultdict\n",
    "import csv"
   ]
  },
  {
   "cell_type": "markdown",
   "metadata": {},
   "source": [
    "### MATCHING ATC CODES TO FDA APPROVED DRUG NAMES\n",
    "#### DATABASE FOR ATC CODES AND PAIRED DRUGS: https://www.genome.jp/kegg/drug/\n",
    "#### DATABASE FOR FDA APPROVED DRUGS: http://www.drugbank.ca\n",
    "#### Input Files : drug links-approved.csv(http://www.drugbank.ca) | br08303.json (https://www.genome.jp/kegg/drug/)"
   ]
  },
  {
   "cell_type": "code",
   "execution_count": 2,
   "metadata": {},
   "outputs": [],
   "source": [
    "# Iterate through each row and extract all approved drug names from DrugBank database csv file #\n",
    "drugbank_drugs = []\n",
    "\n",
    "drugbank = open('input/drug links-approved.csv')\n",
    "drugbank_csv = csv.reader(drugbank)\n",
    "for row in drugbank_csv:\n",
    "    drugbank_drugs.append(row[1])\n",
    "    drugbank_drugs = [x.lower() for x in drugbank_drugs]"
   ]
  },
  {
   "cell_type": "code",
   "execution_count": 3,
   "metadata": {},
   "outputs": [],
   "source": [
    "# Iterate through each branch of the ATC Code Database json file and extract all ATC codes paired to drug names #\n",
    "with open('input/br08303.json') as json_data:\n",
    "    atc_codes = json.load(json_data)\n",
    "\n",
    "drugsetlibrary = {}\n",
    "atc_drugs = []\n",
    "\n",
    "l1 = []\n",
    "l2 = []\n",
    "l3 = []\n",
    "l4 = []\n",
    "\n",
    "# Retrieve level 1-4 names & children #\n",
    "for a in range(0, len(atc_codes[\"children\"])):\n",
    "    \n",
    "    level1 = atc_codes[\"children\"][a]\n",
    "    l1.append(level1[\"name\"])\n",
    " \n",
    "    # Retrieve level 2-4 names & children from the level 1 array #\n",
    "    for b in range(0, len(level1[\"children\"])):\n",
    "        \n",
    "        level2 = level1[\"children\"][b] \n",
    "        l2.append(level2[\"name\"])\n",
    "        \n",
    "        # Some level 2 names do not contain children, therefore this if statement is required, and will be required in subsequent iterations #\n",
    "        if \"children\" in level2.keys():\n",
    "            \n",
    "            # Retrieve level 3-4 names & children from the level 2 array #\n",
    "            for c in range(0, len(level2[\"children\"])):\n",
    "            \n",
    "                level3 = level2[\"children\"][c]\n",
    "                l3.append(level3[\"name\"])\n",
    "                \n",
    "                if \"children\" in level3.keys():\n",
    "                    \n",
    "                    # Retrieve level 4 names & children from the level 3 array #\n",
    "                    for d in range(0, len(level3[\"children\"])):\n",
    "                \n",
    "                        level4 = level3[\"children\"][d] \n",
    "                        l4.append(level4[\"name\"])\n",
    "\n",
    "\n",
    "                        # Pairing the level 4 ATC code keys with an empty array #\n",
    "                        sep = '['\n",
    "                        drugsetlibrary[(level4[\"name\"].split(sep,1)[0])] = []\n",
    "                    \n",
    "                        # Retrieving all children from the final array #\n",
    "                        if 'children' in level4.keys():\n",
    "                            for e in range(0, len(level4[\"children\"])):\n",
    "                    \n",
    "                                # Extracting all drug names #\n",
    "                                drug_names = level4[\"children\"][e]\n",
    "                                drug_names = str((drug_names[\"name\"].lower()))\n",
    "\n",
    "                                # Editing each drug string to remove unnecessary characters # \n",
    "                                drug_names = drug_names[8:]\n",
    "\n",
    "                                sep = '['\n",
    "                                drug_names = drug_names.split(sep,1)[0]\n",
    "                                drug_names = drug_names.strip(' ')\n",
    "                                \n",
    "                                # Making a list of drugs with ATC codes #\n",
    "                                atc_drugs.append(drug_names)\n",
    "                                \n",
    "                                # Final output of matched level 4 ATC codes with drug names #\n",
    "                                drugsetlibrary[(level4[\"name\"].split(sep,1)[0])].append(drug_names)\n",
    "                        else:\n",
    "                            continue\n",
    "                else:\n",
    "                    continue\n",
    "            else:\n",
    "                continue\n",
    "                \n",
    "# Editing the dictionary with only FDA approved ATC drugs from the FDA approved drug list #\n",
    "fda_drugs = list(set([z for z in atc_drugs if z in drugbank_drugs]))\n",
    "drugsetlibrary = {i: list(set(v) & set(fda_drugs)) for i,v in drugsetlibrary.items()}\n",
    "\n",
    "# Removing any ATC codes not paired with a drug #\n",
    "drugsetlibrary = {k: v for k,v in drugsetlibrary.items() if v}"
   ]
  },
  {
   "cell_type": "code",
   "execution_count": 5,
   "metadata": {},
   "outputs": [
    {
     "data": {
      "text/plain": [
       "1834"
      ]
     },
     "execution_count": 5,
     "metadata": {},
     "output_type": "execute_result"
    }
   ],
   "source": [
    "len(fda_drugs)"
   ]
  },
  {
   "cell_type": "code",
   "execution_count": 6,
   "metadata": {},
   "outputs": [
    {
     "data": {
      "text/plain": [
       "559"
      ]
     },
     "execution_count": 6,
     "metadata": {},
     "output_type": "execute_result"
    }
   ],
   "source": [
    "len(drugsetlibrary)"
   ]
  },
  {
   "cell_type": "code",
   "execution_count": 7,
   "metadata": {},
   "outputs": [],
   "source": [
    "# Exporting FDA Approved Drug Set Library as a csv file #\n",
    "df = pd.DataFrame.from_dict(drugsetlibrary, orient='index')\n",
    "df = df[df.columns[0:]].apply(\n",
    "    lambda x: ','.join(x.dropna().astype(str).astype(str)),\n",
    "    axis = 1\n",
    ")\n",
    "df.to_csv('/Users/maayanlab/Documents/DrugSetEnrichment/Drugsetlibraries/Drugbank/ATC_FDA/atc_fda_drugsetlibrary.csv')"
   ]
  },
  {
   "cell_type": "code",
   "execution_count": 8,
   "metadata": {},
   "outputs": [
    {
     "data": {
      "text/plain": [
       "A01AA Caries prophylactic agents                                                 stannous fluoride,sodium fluoride\n",
       "A01AB Antiinfectives and antiseptics for local oral treatment    clotrimazole,chlortetracycline,hydrogen peroxi...\n",
       "A01AC Corticosteroids for local oral treatment                          triamcinolone,hydrocortisone,dexamethasone\n",
       "A01AD Other agents for local oral treatment                      amlexanox,becaplermin,epinephrine,acetylsalicy...\n",
       "A02AA Magnesium compounds                                        magnesium hydroxide,magnesium carbonate,magnes...\n",
       "dtype: object"
      ]
     },
     "execution_count": 8,
     "metadata": {},
     "output_type": "execute_result"
    }
   ],
   "source": [
    "df.head()"
   ]
  },
  {
   "cell_type": "code",
   "execution_count": 34,
   "metadata": {},
   "outputs": [],
   "source": [
    "# Exporting a list of FDA approved drugs as a txt file #\n",
    "dataFile = open('/Users/maayanlab/Documents/DrugSetEnrichment/Drugsetlibraries/Drugbank/ATC_FDA/fda_drugs.txt', 'w')\n",
    "for eachitem in fda_drugs:\n",
    "    dataFile.write(\"%s\\n\" % eachitem)\n",
    "dataFile.close()"
   ]
  }
 ],
 "metadata": {
  "kernelspec": {
   "display_name": "Python 3",
   "language": "python",
   "name": "python3"
  },
  "language_info": {
   "codemirror_mode": {
    "name": "ipython",
    "version": 3
   },
   "file_extension": ".py",
   "mimetype": "text/x-python",
   "name": "python",
   "nbconvert_exporter": "python",
   "pygments_lexer": "ipython3",
   "version": "3.6.5"
  }
 },
 "nbformat": 4,
 "nbformat_minor": 2
}
